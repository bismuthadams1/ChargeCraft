{
 "cells": [
  {
   "cell_type": "code",
   "execution_count": 4,
   "metadata": {},
   "outputs": [],
   "source": [
    "from tqdm import tqdm\n",
    "\n",
    "from openff.recharge.conformers import ConformerGenerator, ConformerSettings\n",
    "from openff.recharge.esp import ESPSettings\n",
    "#from openff.recharge.esp.psi4 import Psi4ESPGenerator\n",
    "#from optimize.openff_psi4_gen import Psi4ESPGenerator\n",
    "from openff.recharge.esp.storage import MoleculeESPRecord, MoleculeESPStore\n",
    "from openff.recharge.grids import LatticeGridSettings\n",
    "from openff.recharge.utilities.molecule import smiles_to_molecule\n",
    "from openff.units.elements import SYMBOLS\n",
    "from rdkit.Chem import AllChem\n",
    "from openff.toolkit import Molecule\n",
    "from rdkit.Chem.rdForceFieldHelpers import MMFFOptimizeMolecule\n",
    "\n",
    "import os\n",
    "import numpy as np\n",
    "import random"
   ]
  },
  {
   "cell_type": "code",
   "execution_count": 2,
   "metadata": {},
   "outputs": [
    {
     "data": {
      "text/plain": [
       "<rdkit.rdBase._vecti at 0x2ad6a8c90ac0>"
      ]
     },
     "execution_count": 2,
     "metadata": {},
     "output_type": "execute_result"
    }
   ],
   "source": [
    "#load our molecule to create the conformers\n",
    "\n",
    "molecule = smiles_to_molecule(\"OCC(O)CO\")\n",
    "rdmol = molecule.to_rdkit()\n",
    "AllChem.EmbedMultipleConfs(rdmol, numConfs=10, randomSeed=42)"
   ]
  },
  {
   "cell_type": "code",
   "execution_count": 3,
   "metadata": {},
   "outputs": [
    {
     "data": {
      "text/plain": [
       "0"
      ]
     },
     "execution_count": 3,
     "metadata": {},
     "output_type": "execute_result"
    }
   ],
   "source": [
    "#test the optimizer\n",
    "\n",
    "optimize_MMFF = MMFFOptimizeMolecule(rdmol,mmffVariant = 'MMFF94',confId=3) #,confId=1,mmffvariant='MMFF94'\n",
    "optimize_MMFF\n",
    "\n"
   ]
  },
  {
   "cell_type": "code",
   "execution_count": 4,
   "metadata": {},
   "outputs": [
    {
     "name": "stdout",
     "output_type": "stream",
     "text": [
      "conformer:0, optimize (0 = converge, 1 = more iterations req): 0\n",
      "conformer:1, optimize (0 = converge, 1 = more iterations req): 0\n",
      "conformer:2, optimize (0 = converge, 1 = more iterations req): 0\n",
      "conformer:3, optimize (0 = converge, 1 = more iterations req): 0\n",
      "conformer:4, optimize (0 = converge, 1 = more iterations req): 0\n",
      "conformer:5, optimize (0 = converge, 1 = more iterations req): 0\n",
      "conformer:6, optimize (0 = converge, 1 = more iterations req): 0\n",
      "conformer:7, optimize (0 = converge, 1 = more iterations req): 0\n",
      "conformer:8, optimize (0 = converge, 1 = more iterations req): 0\n",
      "conformer:9, optimize (0 = converge, 1 = more iterations req): 0\n"
     ]
    }
   ],
   "source": [
    "#test all the conformers\n",
    "\n",
    "for id in range(rdmol.GetNumConformers()):\n",
    "    optimize_MMFF = MMFFOptimizeMolecule(rdmol,mmffVariant = 'MMFF94',confId=3) #,confId=1,mmffvariant='MMFF94'\n",
    "    print(f'conformer:{id}, optimize (0 = converge, 1 = more iterations req): {optimize_MMFF}')"
   ]
  },
  {
   "cell_type": "code",
   "execution_count": 5,
   "metadata": {},
   "outputs": [
    {
     "data": {
      "text/plain": [
       "<rdkit.Chem.rdchem.Conformer at 0x2ad6a8c98270>"
      ]
     },
     "execution_count": 5,
     "metadata": {},
     "output_type": "execute_result"
    }
   ],
   "source": [
    "rdmol.GetConformer(1)"
   ]
  },
  {
   "cell_type": "code",
   "execution_count": 6,
   "metadata": {},
   "outputs": [],
   "source": [
    "from rdkit.Chem.Draw import IPythonConsole\n",
    "IPythonConsole.ipython_3d = True\n",
    "import py3Dmol\n"
   ]
  },
  {
   "cell_type": "code",
   "execution_count": 7,
   "metadata": {},
   "outputs": [
    {
     "data": {
      "application/3dmoljs_load.v0": "<div id=\"3dmolviewer_16981351407462552\"  style=\"position: relative; width: 400px; height: 400px\">\n        <p id=\"3dmolwarning_16981351407462552\" style=\"background-color:#ffcccc;color:black\">You appear to be running in JupyterLab (or JavaScript failed to load for some other reason).  You need to install the 3dmol extension: <br>\n        <tt>jupyter labextension install jupyterlab_3dmol</tt></p>\n        </div>\n<script>\n\nvar loadScriptAsync = function(uri){\n  return new Promise((resolve, reject) => {\n    //this is to ignore the existence of requirejs amd\n    var savedexports, savedmodule;\n    if (typeof exports !== 'undefined') savedexports = exports;\n    else exports = {}\n    if (typeof module !== 'undefined') savedmodule = module;\n    else module = {}\n\n    var tag = document.createElement('script');\n    tag.src = uri;\n    tag.async = true;\n    tag.onload = () => {\n        exports = savedexports;\n        module = savedmodule;\n        resolve();\n    };\n  var firstScriptTag = document.getElementsByTagName('script')[0];\n  firstScriptTag.parentNode.insertBefore(tag, firstScriptTag);\n});\n};\n\nif(typeof $3Dmolpromise === 'undefined') {\n$3Dmolpromise = null;\n  $3Dmolpromise = loadScriptAsync('https://cdnjs.cloudflare.com/ajax/libs/3Dmol/2.0.1/3Dmol-min.js');\n}\n\nvar viewer_16981351407462552 = null;\nvar warn = document.getElementById(\"3dmolwarning_16981351407462552\");\nif(warn) {\n    warn.parentNode.removeChild(warn);\n}\n$3Dmolpromise.then(function() {\nviewer_16981351407462552 = $3Dmol.createViewer(document.getElementById(\"3dmolviewer_16981351407462552\"),{backgroundColor:\"white\"});\nviewer_16981351407462552.zoomTo();\n\tviewer_16981351407462552.removeAllModels();\n\tviewer_16981351407462552.addModel(\"\\n     RDKit          3D\\n\\n 14 13  0  0  0  0  0  0  0  0999 V2000\\n   -1.6885   -1.1039    0.4377 O   0  0  0  0  0  0  0  0  0  0  0  0\\n   -1.2912    0.2270    0.3563 C   0  0  0  0  0  0  0  0  0  0  0  0\\n    0.0570    0.3687   -0.3171 C   0  0  0  0  0  0  0  0  0  0  0  0\\n    0.4677    1.6754   -0.4076 O   0  0  0  0  0  0  0  0  0  0  0  0\\n    1.1007   -0.4176    0.4482 C   0  0  0  0  0  0  0  0  0  0  0  0\\n    2.2898   -0.3065   -0.2817 O   0  0  0  0  0  0  0  0  0  0  0  0\\n   -1.7686   -1.5117   -0.4560 H   0  0  0  0  0  0  0  0  0  0  0  0\\n   -1.1416    0.5665    1.4230 H   0  0  0  0  0  0  0  0  0  0  0  0\\n   -2.0699    0.8176   -0.1142 H   0  0  0  0  0  0  0  0  0  0  0  0\\n   -0.0308   -0.1063   -1.3231 H   0  0  0  0  0  0  0  0  0  0  0  0\\n   -0.1949    2.2624   -0.8146 H   0  0  0  0  0  0  0  0  0  0  0  0\\n    1.2096    0.0745    1.4336 H   0  0  0  0  0  0  0  0  0  0  0  0\\n    0.7472   -1.4561    0.5223 H   0  0  0  0  0  0  0  0  0  0  0  0\\n    2.3134   -1.0898   -0.9068 H   0  0  0  0  0  0  0  0  0  0  0  0\\n  1  2  1  0\\n  2  3  1  0\\n  3  4  1  0\\n  3  5  1  0\\n  5  6  1  0\\n  1  7  1  0\\n  2  8  1  0\\n  2  9  1  0\\n  3 10  1  0\\n  4 11  1  0\\n  5 12  1  0\\n  5 13  1  0\\n  6 14  1  0\\nM  END\\n\",\"sdf\");\n\tviewer_16981351407462552.setStyle({\"stick\": {}});\n\tviewer_16981351407462552.setBackgroundColor(\"0xeeeeee\");\n\tviewer_16981351407462552.zoomTo();\nviewer_16981351407462552.render();\n});\n</script>",
      "text/html": [
       "<div id=\"3dmolviewer_16981351407462552\"  style=\"position: relative; width: 400px; height: 400px\">\n",
       "        <p id=\"3dmolwarning_16981351407462552\" style=\"background-color:#ffcccc;color:black\">You appear to be running in JupyterLab (or JavaScript failed to load for some other reason).  You need to install the 3dmol extension: <br>\n",
       "        <tt>jupyter labextension install jupyterlab_3dmol</tt></p>\n",
       "        </div>\n",
       "<script>\n",
       "\n",
       "var loadScriptAsync = function(uri){\n",
       "  return new Promise((resolve, reject) => {\n",
       "    //this is to ignore the existence of requirejs amd\n",
       "    var savedexports, savedmodule;\n",
       "    if (typeof exports !== 'undefined') savedexports = exports;\n",
       "    else exports = {}\n",
       "    if (typeof module !== 'undefined') savedmodule = module;\n",
       "    else module = {}\n",
       "\n",
       "    var tag = document.createElement('script');\n",
       "    tag.src = uri;\n",
       "    tag.async = true;\n",
       "    tag.onload = () => {\n",
       "        exports = savedexports;\n",
       "        module = savedmodule;\n",
       "        resolve();\n",
       "    };\n",
       "  var firstScriptTag = document.getElementsByTagName('script')[0];\n",
       "  firstScriptTag.parentNode.insertBefore(tag, firstScriptTag);\n",
       "});\n",
       "};\n",
       "\n",
       "if(typeof $3Dmolpromise === 'undefined') {\n",
       "$3Dmolpromise = null;\n",
       "  $3Dmolpromise = loadScriptAsync('https://cdnjs.cloudflare.com/ajax/libs/3Dmol/2.0.1/3Dmol-min.js');\n",
       "}\n",
       "\n",
       "var viewer_16981351407462552 = null;\n",
       "var warn = document.getElementById(\"3dmolwarning_16981351407462552\");\n",
       "if(warn) {\n",
       "    warn.parentNode.removeChild(warn);\n",
       "}\n",
       "$3Dmolpromise.then(function() {\n",
       "viewer_16981351407462552 = $3Dmol.createViewer(document.getElementById(\"3dmolviewer_16981351407462552\"),{backgroundColor:\"white\"});\n",
       "viewer_16981351407462552.zoomTo();\n",
       "\tviewer_16981351407462552.removeAllModels();\n",
       "\tviewer_16981351407462552.addModel(\"\\n     RDKit          3D\\n\\n 14 13  0  0  0  0  0  0  0  0999 V2000\\n   -1.6885   -1.1039    0.4377 O   0  0  0  0  0  0  0  0  0  0  0  0\\n   -1.2912    0.2270    0.3563 C   0  0  0  0  0  0  0  0  0  0  0  0\\n    0.0570    0.3687   -0.3171 C   0  0  0  0  0  0  0  0  0  0  0  0\\n    0.4677    1.6754   -0.4076 O   0  0  0  0  0  0  0  0  0  0  0  0\\n    1.1007   -0.4176    0.4482 C   0  0  0  0  0  0  0  0  0  0  0  0\\n    2.2898   -0.3065   -0.2817 O   0  0  0  0  0  0  0  0  0  0  0  0\\n   -1.7686   -1.5117   -0.4560 H   0  0  0  0  0  0  0  0  0  0  0  0\\n   -1.1416    0.5665    1.4230 H   0  0  0  0  0  0  0  0  0  0  0  0\\n   -2.0699    0.8176   -0.1142 H   0  0  0  0  0  0  0  0  0  0  0  0\\n   -0.0308   -0.1063   -1.3231 H   0  0  0  0  0  0  0  0  0  0  0  0\\n   -0.1949    2.2624   -0.8146 H   0  0  0  0  0  0  0  0  0  0  0  0\\n    1.2096    0.0745    1.4336 H   0  0  0  0  0  0  0  0  0  0  0  0\\n    0.7472   -1.4561    0.5223 H   0  0  0  0  0  0  0  0  0  0  0  0\\n    2.3134   -1.0898   -0.9068 H   0  0  0  0  0  0  0  0  0  0  0  0\\n  1  2  1  0\\n  2  3  1  0\\n  3  4  1  0\\n  3  5  1  0\\n  5  6  1  0\\n  1  7  1  0\\n  2  8  1  0\\n  2  9  1  0\\n  3 10  1  0\\n  4 11  1  0\\n  5 12  1  0\\n  5 13  1  0\\n  6 14  1  0\\nM  END\\n\",\"sdf\");\n",
       "\tviewer_16981351407462552.setStyle({\"stick\": {}});\n",
       "\tviewer_16981351407462552.setBackgroundColor(\"0xeeeeee\");\n",
       "\tviewer_16981351407462552.zoomTo();\n",
       "viewer_16981351407462552.render();\n",
       "});\n",
       "</script>"
      ]
     },
     "metadata": {},
     "output_type": "display_data"
    },
    {
     "data": {
      "application/3dmoljs_load.v0": "<div id=\"3dmolviewer_16981351407490182\"  style=\"position: relative; width: 400px; height: 400px\">\n        <p id=\"3dmolwarning_16981351407490182\" style=\"background-color:#ffcccc;color:black\">You appear to be running in JupyterLab (or JavaScript failed to load for some other reason).  You need to install the 3dmol extension: <br>\n        <tt>jupyter labextension install jupyterlab_3dmol</tt></p>\n        </div>\n<script>\n\nvar loadScriptAsync = function(uri){\n  return new Promise((resolve, reject) => {\n    //this is to ignore the existence of requirejs amd\n    var savedexports, savedmodule;\n    if (typeof exports !== 'undefined') savedexports = exports;\n    else exports = {}\n    if (typeof module !== 'undefined') savedmodule = module;\n    else module = {}\n\n    var tag = document.createElement('script');\n    tag.src = uri;\n    tag.async = true;\n    tag.onload = () => {\n        exports = savedexports;\n        module = savedmodule;\n        resolve();\n    };\n  var firstScriptTag = document.getElementsByTagName('script')[0];\n  firstScriptTag.parentNode.insertBefore(tag, firstScriptTag);\n});\n};\n\nif(typeof $3Dmolpromise === 'undefined') {\n$3Dmolpromise = null;\n  $3Dmolpromise = loadScriptAsync('https://cdnjs.cloudflare.com/ajax/libs/3Dmol/2.0.1/3Dmol-min.js');\n}\n\nvar viewer_16981351407490182 = null;\nvar warn = document.getElementById(\"3dmolwarning_16981351407490182\");\nif(warn) {\n    warn.parentNode.removeChild(warn);\n}\n$3Dmolpromise.then(function() {\nviewer_16981351407490182 = $3Dmol.createViewer(document.getElementById(\"3dmolviewer_16981351407490182\"),{backgroundColor:\"white\"});\nviewer_16981351407490182.zoomTo();\n\tviewer_16981351407490182.removeAllModels();\n\tviewer_16981351407490182.addModel(\"\\n     RDKit          3D\\n\\n 14 13  0  0  0  0  0  0  0  0999 V2000\\n    2.3730   -0.1226   -0.0030 O   0  0  0  0  0  0  0  0  0  0  0  0\\n    1.1006   -0.2125    0.5266 C   0  0  0  0  0  0  0  0  0  0  0  0\\n    0.0277    0.1038   -0.5054 C   0  0  0  0  0  0  0  0  0  0  0  0\\n    0.2862    1.4235   -0.9294 O   0  0  0  0  0  0  0  0  0  0  0  0\\n   -1.3309    0.1192    0.1301 C   0  0  0  0  0  0  0  0  0  0  0  0\\n   -1.7338   -1.1180    0.6033 O   0  0  0  0  0  0  0  0  0  0  0  0\\n    2.3926   -0.4724   -0.9193 H   0  0  0  0  0  0  0  0  0  0  0  0\\n    0.9861   -1.2436    0.9261 H   0  0  0  0  0  0  0  0  0  0  0  0\\n    1.0390    0.5042    1.3646 H   0  0  0  0  0  0  0  0  0  0  0  0\\n    0.1114   -0.5642   -1.3705 H   0  0  0  0  0  0  0  0  0  0  0  0\\n    0.0417    1.9936   -0.1414 H   0  0  0  0  0  0  0  0  0  0  0  0\\n   -1.2656    0.7933    1.0208 H   0  0  0  0  0  0  0  0  0  0  0  0\\n   -2.0693    0.5481   -0.5693 H   0  0  0  0  0  0  0  0  0  0  0  0\\n   -1.9588   -1.7525   -0.1332 H   0  0  0  0  0  0  0  0  0  0  0  0\\n  1  2  1  0\\n  2  3  1  0\\n  3  4  1  0\\n  3  5  1  0\\n  5  6  1  0\\n  1  7  1  0\\n  2  8  1  0\\n  2  9  1  0\\n  3 10  1  0\\n  4 11  1  0\\n  5 12  1  0\\n  5 13  1  0\\n  6 14  1  0\\nM  END\\n\",\"sdf\");\n\tviewer_16981351407490182.setStyle({\"stick\": {}});\n\tviewer_16981351407490182.setBackgroundColor(\"0xeeeeee\");\n\tviewer_16981351407490182.zoomTo();\nviewer_16981351407490182.render();\n});\n</script>",
      "text/html": [
       "<div id=\"3dmolviewer_16981351407490182\"  style=\"position: relative; width: 400px; height: 400px\">\n",
       "        <p id=\"3dmolwarning_16981351407490182\" style=\"background-color:#ffcccc;color:black\">You appear to be running in JupyterLab (or JavaScript failed to load for some other reason).  You need to install the 3dmol extension: <br>\n",
       "        <tt>jupyter labextension install jupyterlab_3dmol</tt></p>\n",
       "        </div>\n",
       "<script>\n",
       "\n",
       "var loadScriptAsync = function(uri){\n",
       "  return new Promise((resolve, reject) => {\n",
       "    //this is to ignore the existence of requirejs amd\n",
       "    var savedexports, savedmodule;\n",
       "    if (typeof exports !== 'undefined') savedexports = exports;\n",
       "    else exports = {}\n",
       "    if (typeof module !== 'undefined') savedmodule = module;\n",
       "    else module = {}\n",
       "\n",
       "    var tag = document.createElement('script');\n",
       "    tag.src = uri;\n",
       "    tag.async = true;\n",
       "    tag.onload = () => {\n",
       "        exports = savedexports;\n",
       "        module = savedmodule;\n",
       "        resolve();\n",
       "    };\n",
       "  var firstScriptTag = document.getElementsByTagName('script')[0];\n",
       "  firstScriptTag.parentNode.insertBefore(tag, firstScriptTag);\n",
       "});\n",
       "};\n",
       "\n",
       "if(typeof $3Dmolpromise === 'undefined') {\n",
       "$3Dmolpromise = null;\n",
       "  $3Dmolpromise = loadScriptAsync('https://cdnjs.cloudflare.com/ajax/libs/3Dmol/2.0.1/3Dmol-min.js');\n",
       "}\n",
       "\n",
       "var viewer_16981351407490182 = null;\n",
       "var warn = document.getElementById(\"3dmolwarning_16981351407490182\");\n",
       "if(warn) {\n",
       "    warn.parentNode.removeChild(warn);\n",
       "}\n",
       "$3Dmolpromise.then(function() {\n",
       "viewer_16981351407490182 = $3Dmol.createViewer(document.getElementById(\"3dmolviewer_16981351407490182\"),{backgroundColor:\"white\"});\n",
       "viewer_16981351407490182.zoomTo();\n",
       "\tviewer_16981351407490182.removeAllModels();\n",
       "\tviewer_16981351407490182.addModel(\"\\n     RDKit          3D\\n\\n 14 13  0  0  0  0  0  0  0  0999 V2000\\n    2.3730   -0.1226   -0.0030 O   0  0  0  0  0  0  0  0  0  0  0  0\\n    1.1006   -0.2125    0.5266 C   0  0  0  0  0  0  0  0  0  0  0  0\\n    0.0277    0.1038   -0.5054 C   0  0  0  0  0  0  0  0  0  0  0  0\\n    0.2862    1.4235   -0.9294 O   0  0  0  0  0  0  0  0  0  0  0  0\\n   -1.3309    0.1192    0.1301 C   0  0  0  0  0  0  0  0  0  0  0  0\\n   -1.7338   -1.1180    0.6033 O   0  0  0  0  0  0  0  0  0  0  0  0\\n    2.3926   -0.4724   -0.9193 H   0  0  0  0  0  0  0  0  0  0  0  0\\n    0.9861   -1.2436    0.9261 H   0  0  0  0  0  0  0  0  0  0  0  0\\n    1.0390    0.5042    1.3646 H   0  0  0  0  0  0  0  0  0  0  0  0\\n    0.1114   -0.5642   -1.3705 H   0  0  0  0  0  0  0  0  0  0  0  0\\n    0.0417    1.9936   -0.1414 H   0  0  0  0  0  0  0  0  0  0  0  0\\n   -1.2656    0.7933    1.0208 H   0  0  0  0  0  0  0  0  0  0  0  0\\n   -2.0693    0.5481   -0.5693 H   0  0  0  0  0  0  0  0  0  0  0  0\\n   -1.9588   -1.7525   -0.1332 H   0  0  0  0  0  0  0  0  0  0  0  0\\n  1  2  1  0\\n  2  3  1  0\\n  3  4  1  0\\n  3  5  1  0\\n  5  6  1  0\\n  1  7  1  0\\n  2  8  1  0\\n  2  9  1  0\\n  3 10  1  0\\n  4 11  1  0\\n  5 12  1  0\\n  5 13  1  0\\n  6 14  1  0\\nM  END\\n\",\"sdf\");\n",
       "\tviewer_16981351407490182.setStyle({\"stick\": {}});\n",
       "\tviewer_16981351407490182.setBackgroundColor(\"0xeeeeee\");\n",
       "\tviewer_16981351407490182.zoomTo();\n",
       "viewer_16981351407490182.render();\n",
       "});\n",
       "</script>"
      ]
     },
     "metadata": {},
     "output_type": "display_data"
    },
    {
     "data": {
      "application/3dmoljs_load.v0": "<div id=\"3dmolviewer_16981351407509573\"  style=\"position: relative; width: 400px; height: 400px\">\n        <p id=\"3dmolwarning_16981351407509573\" style=\"background-color:#ffcccc;color:black\">You appear to be running in JupyterLab (or JavaScript failed to load for some other reason).  You need to install the 3dmol extension: <br>\n        <tt>jupyter labextension install jupyterlab_3dmol</tt></p>\n        </div>\n<script>\n\nvar loadScriptAsync = function(uri){\n  return new Promise((resolve, reject) => {\n    //this is to ignore the existence of requirejs amd\n    var savedexports, savedmodule;\n    if (typeof exports !== 'undefined') savedexports = exports;\n    else exports = {}\n    if (typeof module !== 'undefined') savedmodule = module;\n    else module = {}\n\n    var tag = document.createElement('script');\n    tag.src = uri;\n    tag.async = true;\n    tag.onload = () => {\n        exports = savedexports;\n        module = savedmodule;\n        resolve();\n    };\n  var firstScriptTag = document.getElementsByTagName('script')[0];\n  firstScriptTag.parentNode.insertBefore(tag, firstScriptTag);\n});\n};\n\nif(typeof $3Dmolpromise === 'undefined') {\n$3Dmolpromise = null;\n  $3Dmolpromise = loadScriptAsync('https://cdnjs.cloudflare.com/ajax/libs/3Dmol/2.0.1/3Dmol-min.js');\n}\n\nvar viewer_16981351407509573 = null;\nvar warn = document.getElementById(\"3dmolwarning_16981351407509573\");\nif(warn) {\n    warn.parentNode.removeChild(warn);\n}\n$3Dmolpromise.then(function() {\nviewer_16981351407509573 = $3Dmol.createViewer(document.getElementById(\"3dmolviewer_16981351407509573\"),{backgroundColor:\"white\"});\nviewer_16981351407509573.zoomTo();\n\tviewer_16981351407509573.removeAllModels();\n\tviewer_16981351407509573.addModel(\"\\n     RDKit          3D\\n\\n 14 13  0  0  0  0  0  0  0  0999 V2000\\n    2.2141    0.2593    0.6192 O   0  0  0  0  0  0  0  0  0  0  0  0\\n    1.1685    0.2191   -0.2981 C   0  0  0  0  0  0  0  0  0  0  0  0\\n   -0.0880   -0.3231    0.3725 C   0  0  0  0  0  0  0  0  0  0  0  0\\n    0.0955   -1.6007    0.8645 O   0  0  0  0  0  0  0  0  0  0  0  0\\n   -1.2173   -0.2605   -0.6561 C   0  0  0  0  0  0  0  0  0  0  0  0\\n   -1.3100    1.0691   -1.0801 O   0  0  0  0  0  0  0  0  0  0  0  0\\n    2.1495    1.0927    1.1164 H   0  0  0  0  0  0  0  0  0  0  0  0\\n    1.4740   -0.3975   -1.1532 H   0  0  0  0  0  0  0  0  0  0  0  0\\n    0.9553    1.2645   -0.5996 H   0  0  0  0  0  0  0  0  0  0  0  0\\n   -0.3339    0.3419    1.2237 H   0  0  0  0  0  0  0  0  0  0  0  0\\n   -0.4307   -1.7806    1.6897 H   0  0  0  0  0  0  0  0  0  0  0  0\\n   -0.9301   -0.8481   -1.5524 H   0  0  0  0  0  0  0  0  0  0  0  0\\n   -2.1586   -0.6509   -0.2593 H   0  0  0  0  0  0  0  0  0  0  0  0\\n   -1.5881    1.6148   -0.2871 H   0  0  0  0  0  0  0  0  0  0  0  0\\n  1  2  1  0\\n  2  3  1  0\\n  3  4  1  0\\n  3  5  1  0\\n  5  6  1  0\\n  1  7  1  0\\n  2  8  1  0\\n  2  9  1  0\\n  3 10  1  0\\n  4 11  1  0\\n  5 12  1  0\\n  5 13  1  0\\n  6 14  1  0\\nM  END\\n\",\"sdf\");\n\tviewer_16981351407509573.setStyle({\"stick\": {}});\n\tviewer_16981351407509573.setBackgroundColor(\"0xeeeeee\");\n\tviewer_16981351407509573.zoomTo();\nviewer_16981351407509573.render();\n});\n</script>",
      "text/html": [
       "<div id=\"3dmolviewer_16981351407509573\"  style=\"position: relative; width: 400px; height: 400px\">\n",
       "        <p id=\"3dmolwarning_16981351407509573\" style=\"background-color:#ffcccc;color:black\">You appear to be running in JupyterLab (or JavaScript failed to load for some other reason).  You need to install the 3dmol extension: <br>\n",
       "        <tt>jupyter labextension install jupyterlab_3dmol</tt></p>\n",
       "        </div>\n",
       "<script>\n",
       "\n",
       "var loadScriptAsync = function(uri){\n",
       "  return new Promise((resolve, reject) => {\n",
       "    //this is to ignore the existence of requirejs amd\n",
       "    var savedexports, savedmodule;\n",
       "    if (typeof exports !== 'undefined') savedexports = exports;\n",
       "    else exports = {}\n",
       "    if (typeof module !== 'undefined') savedmodule = module;\n",
       "    else module = {}\n",
       "\n",
       "    var tag = document.createElement('script');\n",
       "    tag.src = uri;\n",
       "    tag.async = true;\n",
       "    tag.onload = () => {\n",
       "        exports = savedexports;\n",
       "        module = savedmodule;\n",
       "        resolve();\n",
       "    };\n",
       "  var firstScriptTag = document.getElementsByTagName('script')[0];\n",
       "  firstScriptTag.parentNode.insertBefore(tag, firstScriptTag);\n",
       "});\n",
       "};\n",
       "\n",
       "if(typeof $3Dmolpromise === 'undefined') {\n",
       "$3Dmolpromise = null;\n",
       "  $3Dmolpromise = loadScriptAsync('https://cdnjs.cloudflare.com/ajax/libs/3Dmol/2.0.1/3Dmol-min.js');\n",
       "}\n",
       "\n",
       "var viewer_16981351407509573 = null;\n",
       "var warn = document.getElementById(\"3dmolwarning_16981351407509573\");\n",
       "if(warn) {\n",
       "    warn.parentNode.removeChild(warn);\n",
       "}\n",
       "$3Dmolpromise.then(function() {\n",
       "viewer_16981351407509573 = $3Dmol.createViewer(document.getElementById(\"3dmolviewer_16981351407509573\"),{backgroundColor:\"white\"});\n",
       "viewer_16981351407509573.zoomTo();\n",
       "\tviewer_16981351407509573.removeAllModels();\n",
       "\tviewer_16981351407509573.addModel(\"\\n     RDKit          3D\\n\\n 14 13  0  0  0  0  0  0  0  0999 V2000\\n    2.2141    0.2593    0.6192 O   0  0  0  0  0  0  0  0  0  0  0  0\\n    1.1685    0.2191   -0.2981 C   0  0  0  0  0  0  0  0  0  0  0  0\\n   -0.0880   -0.3231    0.3725 C   0  0  0  0  0  0  0  0  0  0  0  0\\n    0.0955   -1.6007    0.8645 O   0  0  0  0  0  0  0  0  0  0  0  0\\n   -1.2173   -0.2605   -0.6561 C   0  0  0  0  0  0  0  0  0  0  0  0\\n   -1.3100    1.0691   -1.0801 O   0  0  0  0  0  0  0  0  0  0  0  0\\n    2.1495    1.0927    1.1164 H   0  0  0  0  0  0  0  0  0  0  0  0\\n    1.4740   -0.3975   -1.1532 H   0  0  0  0  0  0  0  0  0  0  0  0\\n    0.9553    1.2645   -0.5996 H   0  0  0  0  0  0  0  0  0  0  0  0\\n   -0.3339    0.3419    1.2237 H   0  0  0  0  0  0  0  0  0  0  0  0\\n   -0.4307   -1.7806    1.6897 H   0  0  0  0  0  0  0  0  0  0  0  0\\n   -0.9301   -0.8481   -1.5524 H   0  0  0  0  0  0  0  0  0  0  0  0\\n   -2.1586   -0.6509   -0.2593 H   0  0  0  0  0  0  0  0  0  0  0  0\\n   -1.5881    1.6148   -0.2871 H   0  0  0  0  0  0  0  0  0  0  0  0\\n  1  2  1  0\\n  2  3  1  0\\n  3  4  1  0\\n  3  5  1  0\\n  5  6  1  0\\n  1  7  1  0\\n  2  8  1  0\\n  2  9  1  0\\n  3 10  1  0\\n  4 11  1  0\\n  5 12  1  0\\n  5 13  1  0\\n  6 14  1  0\\nM  END\\n\",\"sdf\");\n",
       "\tviewer_16981351407509573.setStyle({\"stick\": {}});\n",
       "\tviewer_16981351407509573.setBackgroundColor(\"0xeeeeee\");\n",
       "\tviewer_16981351407509573.zoomTo();\n",
       "viewer_16981351407509573.render();\n",
       "});\n",
       "</script>"
      ]
     },
     "metadata": {},
     "output_type": "display_data"
    },
    {
     "data": {
      "application/3dmoljs_load.v0": "<div id=\"3dmolviewer_1698135140752865\"  style=\"position: relative; width: 400px; height: 400px\">\n        <p id=\"3dmolwarning_1698135140752865\" style=\"background-color:#ffcccc;color:black\">You appear to be running in JupyterLab (or JavaScript failed to load for some other reason).  You need to install the 3dmol extension: <br>\n        <tt>jupyter labextension install jupyterlab_3dmol</tt></p>\n        </div>\n<script>\n\nvar loadScriptAsync = function(uri){\n  return new Promise((resolve, reject) => {\n    //this is to ignore the existence of requirejs amd\n    var savedexports, savedmodule;\n    if (typeof exports !== 'undefined') savedexports = exports;\n    else exports = {}\n    if (typeof module !== 'undefined') savedmodule = module;\n    else module = {}\n\n    var tag = document.createElement('script');\n    tag.src = uri;\n    tag.async = true;\n    tag.onload = () => {\n        exports = savedexports;\n        module = savedmodule;\n        resolve();\n    };\n  var firstScriptTag = document.getElementsByTagName('script')[0];\n  firstScriptTag.parentNode.insertBefore(tag, firstScriptTag);\n});\n};\n\nif(typeof $3Dmolpromise === 'undefined') {\n$3Dmolpromise = null;\n  $3Dmolpromise = loadScriptAsync('https://cdnjs.cloudflare.com/ajax/libs/3Dmol/2.0.1/3Dmol-min.js');\n}\n\nvar viewer_1698135140752865 = null;\nvar warn = document.getElementById(\"3dmolwarning_1698135140752865\");\nif(warn) {\n    warn.parentNode.removeChild(warn);\n}\n$3Dmolpromise.then(function() {\nviewer_1698135140752865 = $3Dmol.createViewer(document.getElementById(\"3dmolviewer_1698135140752865\"),{backgroundColor:\"white\"});\nviewer_1698135140752865.zoomTo();\n\tviewer_1698135140752865.removeAllModels();\n\tviewer_1698135140752865.addModel(\"\\n     RDKit          3D\\n\\n 14 13  0  0  0  0  0  0  0  0999 V2000\\n    2.3296    0.5553   -0.6984 O   0  0  0  0  0  0  0  0  0  0  0  0\\n    1.0954   -0.1635   -0.7503 C   0  0  0  0  0  0  0  0  0  0  0  0\\n    0.3103    0.0883    0.5396 C   0  0  0  0  0  0  0  0  0  0  0  0\\n    0.0348    1.4987    0.6175 O   0  0  0  0  0  0  0  0  0  0  0  0\\n   -1.0092   -0.6821    0.5810 C   0  0  0  0  0  0  0  0  0  0  0  0\\n   -1.8588   -0.2154   -0.4688 O   0  0  0  0  0  0  0  0  0  0  0  0\\n    2.0996    1.4362   -0.3408 H   0  0  0  0  0  0  0  0  0  0  0  0\\n    1.3232   -1.2255   -0.8789 H   0  0  0  0  0  0  0  0  0  0  0  0\\n    0.5511    0.1946   -1.6299 H   0  0  0  0  0  0  0  0  0  0  0  0\\n    0.9289   -0.1652    1.4069 H   0  0  0  0  0  0  0  0  0  0  0  0\\n   -0.7345    1.6377    0.0274 H   0  0  0  0  0  0  0  0  0  0  0  0\\n   -1.5260   -0.4925    1.5271 H   0  0  0  0  0  0  0  0  0  0  0  0\\n   -0.8488   -1.7577    0.4620 H   0  0  0  0  0  0  0  0  0  0  0  0\\n   -2.6957   -0.7088   -0.3943 H   0  0  0  0  0  0  0  0  0  0  0  0\\n  1  2  1  0\\n  2  3  1  0\\n  3  4  1  0\\n  3  5  1  0\\n  5  6  1  0\\n  1  7  1  0\\n  2  8  1  0\\n  2  9  1  0\\n  3 10  1  0\\n  4 11  1  0\\n  5 12  1  0\\n  5 13  1  0\\n  6 14  1  0\\nM  END\\n\",\"sdf\");\n\tviewer_1698135140752865.setStyle({\"stick\": {}});\n\tviewer_1698135140752865.setBackgroundColor(\"0xeeeeee\");\n\tviewer_1698135140752865.zoomTo();\nviewer_1698135140752865.render();\n});\n</script>",
      "text/html": [
       "<div id=\"3dmolviewer_1698135140752865\"  style=\"position: relative; width: 400px; height: 400px\">\n",
       "        <p id=\"3dmolwarning_1698135140752865\" style=\"background-color:#ffcccc;color:black\">You appear to be running in JupyterLab (or JavaScript failed to load for some other reason).  You need to install the 3dmol extension: <br>\n",
       "        <tt>jupyter labextension install jupyterlab_3dmol</tt></p>\n",
       "        </div>\n",
       "<script>\n",
       "\n",
       "var loadScriptAsync = function(uri){\n",
       "  return new Promise((resolve, reject) => {\n",
       "    //this is to ignore the existence of requirejs amd\n",
       "    var savedexports, savedmodule;\n",
       "    if (typeof exports !== 'undefined') savedexports = exports;\n",
       "    else exports = {}\n",
       "    if (typeof module !== 'undefined') savedmodule = module;\n",
       "    else module = {}\n",
       "\n",
       "    var tag = document.createElement('script');\n",
       "    tag.src = uri;\n",
       "    tag.async = true;\n",
       "    tag.onload = () => {\n",
       "        exports = savedexports;\n",
       "        module = savedmodule;\n",
       "        resolve();\n",
       "    };\n",
       "  var firstScriptTag = document.getElementsByTagName('script')[0];\n",
       "  firstScriptTag.parentNode.insertBefore(tag, firstScriptTag);\n",
       "});\n",
       "};\n",
       "\n",
       "if(typeof $3Dmolpromise === 'undefined') {\n",
       "$3Dmolpromise = null;\n",
       "  $3Dmolpromise = loadScriptAsync('https://cdnjs.cloudflare.com/ajax/libs/3Dmol/2.0.1/3Dmol-min.js');\n",
       "}\n",
       "\n",
       "var viewer_1698135140752865 = null;\n",
       "var warn = document.getElementById(\"3dmolwarning_1698135140752865\");\n",
       "if(warn) {\n",
       "    warn.parentNode.removeChild(warn);\n",
       "}\n",
       "$3Dmolpromise.then(function() {\n",
       "viewer_1698135140752865 = $3Dmol.createViewer(document.getElementById(\"3dmolviewer_1698135140752865\"),{backgroundColor:\"white\"});\n",
       "viewer_1698135140752865.zoomTo();\n",
       "\tviewer_1698135140752865.removeAllModels();\n",
       "\tviewer_1698135140752865.addModel(\"\\n     RDKit          3D\\n\\n 14 13  0  0  0  0  0  0  0  0999 V2000\\n    2.3296    0.5553   -0.6984 O   0  0  0  0  0  0  0  0  0  0  0  0\\n    1.0954   -0.1635   -0.7503 C   0  0  0  0  0  0  0  0  0  0  0  0\\n    0.3103    0.0883    0.5396 C   0  0  0  0  0  0  0  0  0  0  0  0\\n    0.0348    1.4987    0.6175 O   0  0  0  0  0  0  0  0  0  0  0  0\\n   -1.0092   -0.6821    0.5810 C   0  0  0  0  0  0  0  0  0  0  0  0\\n   -1.8588   -0.2154   -0.4688 O   0  0  0  0  0  0  0  0  0  0  0  0\\n    2.0996    1.4362   -0.3408 H   0  0  0  0  0  0  0  0  0  0  0  0\\n    1.3232   -1.2255   -0.8789 H   0  0  0  0  0  0  0  0  0  0  0  0\\n    0.5511    0.1946   -1.6299 H   0  0  0  0  0  0  0  0  0  0  0  0\\n    0.9289   -0.1652    1.4069 H   0  0  0  0  0  0  0  0  0  0  0  0\\n   -0.7345    1.6377    0.0274 H   0  0  0  0  0  0  0  0  0  0  0  0\\n   -1.5260   -0.4925    1.5271 H   0  0  0  0  0  0  0  0  0  0  0  0\\n   -0.8488   -1.7577    0.4620 H   0  0  0  0  0  0  0  0  0  0  0  0\\n   -2.6957   -0.7088   -0.3943 H   0  0  0  0  0  0  0  0  0  0  0  0\\n  1  2  1  0\\n  2  3  1  0\\n  3  4  1  0\\n  3  5  1  0\\n  5  6  1  0\\n  1  7  1  0\\n  2  8  1  0\\n  2  9  1  0\\n  3 10  1  0\\n  4 11  1  0\\n  5 12  1  0\\n  5 13  1  0\\n  6 14  1  0\\nM  END\\n\",\"sdf\");\n",
       "\tviewer_1698135140752865.setStyle({\"stick\": {}});\n",
       "\tviewer_1698135140752865.setBackgroundColor(\"0xeeeeee\");\n",
       "\tviewer_1698135140752865.zoomTo();\n",
       "viewer_1698135140752865.render();\n",
       "});\n",
       "</script>"
      ]
     },
     "metadata": {},
     "output_type": "display_data"
    },
    {
     "data": {
      "application/3dmoljs_load.v0": "<div id=\"3dmolviewer_16981351407547174\"  style=\"position: relative; width: 400px; height: 400px\">\n        <p id=\"3dmolwarning_16981351407547174\" style=\"background-color:#ffcccc;color:black\">You appear to be running in JupyterLab (or JavaScript failed to load for some other reason).  You need to install the 3dmol extension: <br>\n        <tt>jupyter labextension install jupyterlab_3dmol</tt></p>\n        </div>\n<script>\n\nvar loadScriptAsync = function(uri){\n  return new Promise((resolve, reject) => {\n    //this is to ignore the existence of requirejs amd\n    var savedexports, savedmodule;\n    if (typeof exports !== 'undefined') savedexports = exports;\n    else exports = {}\n    if (typeof module !== 'undefined') savedmodule = module;\n    else module = {}\n\n    var tag = document.createElement('script');\n    tag.src = uri;\n    tag.async = true;\n    tag.onload = () => {\n        exports = savedexports;\n        module = savedmodule;\n        resolve();\n    };\n  var firstScriptTag = document.getElementsByTagName('script')[0];\n  firstScriptTag.parentNode.insertBefore(tag, firstScriptTag);\n});\n};\n\nif(typeof $3Dmolpromise === 'undefined') {\n$3Dmolpromise = null;\n  $3Dmolpromise = loadScriptAsync('https://cdnjs.cloudflare.com/ajax/libs/3Dmol/2.0.1/3Dmol-min.js');\n}\n\nvar viewer_16981351407547174 = null;\nvar warn = document.getElementById(\"3dmolwarning_16981351407547174\");\nif(warn) {\n    warn.parentNode.removeChild(warn);\n}\n$3Dmolpromise.then(function() {\nviewer_16981351407547174 = $3Dmol.createViewer(document.getElementById(\"3dmolviewer_16981351407547174\"),{backgroundColor:\"white\"});\nviewer_16981351407547174.zoomTo();\n\tviewer_16981351407547174.removeAllModels();\n\tviewer_16981351407547174.addModel(\"\\n     RDKit          3D\\n\\n 14 13  0  0  0  0  0  0  0  0999 V2000\\n    2.1443    0.8932    0.5396 O   0  0  0  0  0  0  0  0  0  0  0  0\\n    1.0450    0.0635    0.7708 C   0  0  0  0  0  0  0  0  0  0  0  0\\n   -0.0449    0.4960   -0.1696 C   0  0  0  0  0  0  0  0  0  0  0  0\\n    0.4495    0.3475   -1.4696 O   0  0  0  0  0  0  0  0  0  0  0  0\\n   -1.2856   -0.3602   -0.0556 C   0  0  0  0  0  0  0  0  0  0  0  0\\n   -1.8438   -0.2669    1.2218 O   0  0  0  0  0  0  0  0  0  0  0  0\\n    2.9777    0.4043    0.3807 H   0  0  0  0  0  0  0  0  0  0  0  0\\n    0.7479    0.0050    1.8165 H   0  0  0  0  0  0  0  0  0  0  0  0\\n    1.3689   -0.9589    0.4336 H   0  0  0  0  0  0  0  0  0  0  0  0\\n   -0.3299    1.5487   -0.0378 H   0  0  0  0  0  0  0  0  0  0  0  0\\n    0.6315   -0.6412   -1.5654 H   0  0  0  0  0  0  0  0  0  0  0  0\\n   -1.0560   -1.4280   -0.3033 H   0  0  0  0  0  0  0  0  0  0  0  0\\n   -1.9876   -0.0067   -0.8458 H   0  0  0  0  0  0  0  0  0  0  0  0\\n   -2.8171   -0.0964    1.1348 H   0  0  0  0  0  0  0  0  0  0  0  0\\n  1  2  1  0\\n  2  3  1  0\\n  3  4  1  0\\n  3  5  1  0\\n  5  6  1  0\\n  1  7  1  0\\n  2  8  1  0\\n  2  9  1  0\\n  3 10  1  0\\n  4 11  1  0\\n  5 12  1  0\\n  5 13  1  0\\n  6 14  1  0\\nM  END\\n\",\"sdf\");\n\tviewer_16981351407547174.setStyle({\"stick\": {}});\n\tviewer_16981351407547174.setBackgroundColor(\"0xeeeeee\");\n\tviewer_16981351407547174.zoomTo();\nviewer_16981351407547174.render();\n});\n</script>",
      "text/html": [
       "<div id=\"3dmolviewer_16981351407547174\"  style=\"position: relative; width: 400px; height: 400px\">\n",
       "        <p id=\"3dmolwarning_16981351407547174\" style=\"background-color:#ffcccc;color:black\">You appear to be running in JupyterLab (or JavaScript failed to load for some other reason).  You need to install the 3dmol extension: <br>\n",
       "        <tt>jupyter labextension install jupyterlab_3dmol</tt></p>\n",
       "        </div>\n",
       "<script>\n",
       "\n",
       "var loadScriptAsync = function(uri){\n",
       "  return new Promise((resolve, reject) => {\n",
       "    //this is to ignore the existence of requirejs amd\n",
       "    var savedexports, savedmodule;\n",
       "    if (typeof exports !== 'undefined') savedexports = exports;\n",
       "    else exports = {}\n",
       "    if (typeof module !== 'undefined') savedmodule = module;\n",
       "    else module = {}\n",
       "\n",
       "    var tag = document.createElement('script');\n",
       "    tag.src = uri;\n",
       "    tag.async = true;\n",
       "    tag.onload = () => {\n",
       "        exports = savedexports;\n",
       "        module = savedmodule;\n",
       "        resolve();\n",
       "    };\n",
       "  var firstScriptTag = document.getElementsByTagName('script')[0];\n",
       "  firstScriptTag.parentNode.insertBefore(tag, firstScriptTag);\n",
       "});\n",
       "};\n",
       "\n",
       "if(typeof $3Dmolpromise === 'undefined') {\n",
       "$3Dmolpromise = null;\n",
       "  $3Dmolpromise = loadScriptAsync('https://cdnjs.cloudflare.com/ajax/libs/3Dmol/2.0.1/3Dmol-min.js');\n",
       "}\n",
       "\n",
       "var viewer_16981351407547174 = null;\n",
       "var warn = document.getElementById(\"3dmolwarning_16981351407547174\");\n",
       "if(warn) {\n",
       "    warn.parentNode.removeChild(warn);\n",
       "}\n",
       "$3Dmolpromise.then(function() {\n",
       "viewer_16981351407547174 = $3Dmol.createViewer(document.getElementById(\"3dmolviewer_16981351407547174\"),{backgroundColor:\"white\"});\n",
       "viewer_16981351407547174.zoomTo();\n",
       "\tviewer_16981351407547174.removeAllModels();\n",
       "\tviewer_16981351407547174.addModel(\"\\n     RDKit          3D\\n\\n 14 13  0  0  0  0  0  0  0  0999 V2000\\n    2.1443    0.8932    0.5396 O   0  0  0  0  0  0  0  0  0  0  0  0\\n    1.0450    0.0635    0.7708 C   0  0  0  0  0  0  0  0  0  0  0  0\\n   -0.0449    0.4960   -0.1696 C   0  0  0  0  0  0  0  0  0  0  0  0\\n    0.4495    0.3475   -1.4696 O   0  0  0  0  0  0  0  0  0  0  0  0\\n   -1.2856   -0.3602   -0.0556 C   0  0  0  0  0  0  0  0  0  0  0  0\\n   -1.8438   -0.2669    1.2218 O   0  0  0  0  0  0  0  0  0  0  0  0\\n    2.9777    0.4043    0.3807 H   0  0  0  0  0  0  0  0  0  0  0  0\\n    0.7479    0.0050    1.8165 H   0  0  0  0  0  0  0  0  0  0  0  0\\n    1.3689   -0.9589    0.4336 H   0  0  0  0  0  0  0  0  0  0  0  0\\n   -0.3299    1.5487   -0.0378 H   0  0  0  0  0  0  0  0  0  0  0  0\\n    0.6315   -0.6412   -1.5654 H   0  0  0  0  0  0  0  0  0  0  0  0\\n   -1.0560   -1.4280   -0.3033 H   0  0  0  0  0  0  0  0  0  0  0  0\\n   -1.9876   -0.0067   -0.8458 H   0  0  0  0  0  0  0  0  0  0  0  0\\n   -2.8171   -0.0964    1.1348 H   0  0  0  0  0  0  0  0  0  0  0  0\\n  1  2  1  0\\n  2  3  1  0\\n  3  4  1  0\\n  3  5  1  0\\n  5  6  1  0\\n  1  7  1  0\\n  2  8  1  0\\n  2  9  1  0\\n  3 10  1  0\\n  4 11  1  0\\n  5 12  1  0\\n  5 13  1  0\\n  6 14  1  0\\nM  END\\n\",\"sdf\");\n",
       "\tviewer_16981351407547174.setStyle({\"stick\": {}});\n",
       "\tviewer_16981351407547174.setBackgroundColor(\"0xeeeeee\");\n",
       "\tviewer_16981351407547174.zoomTo();\n",
       "viewer_16981351407547174.render();\n",
       "});\n",
       "</script>"
      ]
     },
     "metadata": {},
     "output_type": "display_data"
    },
    {
     "data": {
      "application/3dmoljs_load.v0": "<div id=\"3dmolviewer_16981351407566738\"  style=\"position: relative; width: 400px; height: 400px\">\n        <p id=\"3dmolwarning_16981351407566738\" style=\"background-color:#ffcccc;color:black\">You appear to be running in JupyterLab (or JavaScript failed to load for some other reason).  You need to install the 3dmol extension: <br>\n        <tt>jupyter labextension install jupyterlab_3dmol</tt></p>\n        </div>\n<script>\n\nvar loadScriptAsync = function(uri){\n  return new Promise((resolve, reject) => {\n    //this is to ignore the existence of requirejs amd\n    var savedexports, savedmodule;\n    if (typeof exports !== 'undefined') savedexports = exports;\n    else exports = {}\n    if (typeof module !== 'undefined') savedmodule = module;\n    else module = {}\n\n    var tag = document.createElement('script');\n    tag.src = uri;\n    tag.async = true;\n    tag.onload = () => {\n        exports = savedexports;\n        module = savedmodule;\n        resolve();\n    };\n  var firstScriptTag = document.getElementsByTagName('script')[0];\n  firstScriptTag.parentNode.insertBefore(tag, firstScriptTag);\n});\n};\n\nif(typeof $3Dmolpromise === 'undefined') {\n$3Dmolpromise = null;\n  $3Dmolpromise = loadScriptAsync('https://cdnjs.cloudflare.com/ajax/libs/3Dmol/2.0.1/3Dmol-min.js');\n}\n\nvar viewer_16981351407566738 = null;\nvar warn = document.getElementById(\"3dmolwarning_16981351407566738\");\nif(warn) {\n    warn.parentNode.removeChild(warn);\n}\n$3Dmolpromise.then(function() {\nviewer_16981351407566738 = $3Dmol.createViewer(document.getElementById(\"3dmolviewer_16981351407566738\"),{backgroundColor:\"white\"});\nviewer_16981351407566738.zoomTo();\n\tviewer_16981351407566738.removeAllModels();\n\tviewer_16981351407566738.addModel(\"\\n     RDKit          3D\\n\\n 14 13  0  0  0  0  0  0  0  0999 V2000\\n    1.7237   -1.2203    0.1841 O   0  0  0  0  0  0  0  0  0  0  0  0\\n    1.3640    0.1271    0.1340 C   0  0  0  0  0  0  0  0  0  0  0  0\\n   -0.0416    0.2903   -0.4269 C   0  0  0  0  0  0  0  0  0  0  0  0\\n   -0.3729    1.6200   -0.4665 O   0  0  0  0  0  0  0  0  0  0  0  0\\n   -1.0075   -0.5519    0.3816 C   0  0  0  0  0  0  0  0  0  0  0  0\\n   -2.2853   -0.4628   -0.1664 O   0  0  0  0  0  0  0  0  0  0  0  0\\n    2.4310   -1.2911    0.8919 H   0  0  0  0  0  0  0  0  0  0  0  0\\n    1.4166    0.6225    1.1242 H   0  0  0  0  0  0  0  0  0  0  0  0\\n    2.0430    0.6264   -0.6099 H   0  0  0  0  0  0  0  0  0  0  0  0\\n   -0.1024   -0.1059   -1.4627 H   0  0  0  0  0  0  0  0  0  0  0  0\\n   -0.7003    2.0005    0.3740 H   0  0  0  0  0  0  0  0  0  0  0  0\\n   -0.6890   -1.6181    0.2289 H   0  0  0  0  0  0  0  0  0  0  0  0\\n   -0.9762   -0.3404    1.4558 H   0  0  0  0  0  0  0  0  0  0  0  0\\n   -2.8032    0.3036    0.1787 H   0  0  0  0  0  0  0  0  0  0  0  0\\n  1  2  1  0\\n  2  3  1  0\\n  3  4  1  0\\n  3  5  1  0\\n  5  6  1  0\\n  1  7  1  0\\n  2  8  1  0\\n  2  9  1  0\\n  3 10  1  0\\n  4 11  1  0\\n  5 12  1  0\\n  5 13  1  0\\n  6 14  1  0\\nM  END\\n\",\"sdf\");\n\tviewer_16981351407566738.setStyle({\"stick\": {}});\n\tviewer_16981351407566738.setBackgroundColor(\"0xeeeeee\");\n\tviewer_16981351407566738.zoomTo();\nviewer_16981351407566738.render();\n});\n</script>",
      "text/html": [
       "<div id=\"3dmolviewer_16981351407566738\"  style=\"position: relative; width: 400px; height: 400px\">\n",
       "        <p id=\"3dmolwarning_16981351407566738\" style=\"background-color:#ffcccc;color:black\">You appear to be running in JupyterLab (or JavaScript failed to load for some other reason).  You need to install the 3dmol extension: <br>\n",
       "        <tt>jupyter labextension install jupyterlab_3dmol</tt></p>\n",
       "        </div>\n",
       "<script>\n",
       "\n",
       "var loadScriptAsync = function(uri){\n",
       "  return new Promise((resolve, reject) => {\n",
       "    //this is to ignore the existence of requirejs amd\n",
       "    var savedexports, savedmodule;\n",
       "    if (typeof exports !== 'undefined') savedexports = exports;\n",
       "    else exports = {}\n",
       "    if (typeof module !== 'undefined') savedmodule = module;\n",
       "    else module = {}\n",
       "\n",
       "    var tag = document.createElement('script');\n",
       "    tag.src = uri;\n",
       "    tag.async = true;\n",
       "    tag.onload = () => {\n",
       "        exports = savedexports;\n",
       "        module = savedmodule;\n",
       "        resolve();\n",
       "    };\n",
       "  var firstScriptTag = document.getElementsByTagName('script')[0];\n",
       "  firstScriptTag.parentNode.insertBefore(tag, firstScriptTag);\n",
       "});\n",
       "};\n",
       "\n",
       "if(typeof $3Dmolpromise === 'undefined') {\n",
       "$3Dmolpromise = null;\n",
       "  $3Dmolpromise = loadScriptAsync('https://cdnjs.cloudflare.com/ajax/libs/3Dmol/2.0.1/3Dmol-min.js');\n",
       "}\n",
       "\n",
       "var viewer_16981351407566738 = null;\n",
       "var warn = document.getElementById(\"3dmolwarning_16981351407566738\");\n",
       "if(warn) {\n",
       "    warn.parentNode.removeChild(warn);\n",
       "}\n",
       "$3Dmolpromise.then(function() {\n",
       "viewer_16981351407566738 = $3Dmol.createViewer(document.getElementById(\"3dmolviewer_16981351407566738\"),{backgroundColor:\"white\"});\n",
       "viewer_16981351407566738.zoomTo();\n",
       "\tviewer_16981351407566738.removeAllModels();\n",
       "\tviewer_16981351407566738.addModel(\"\\n     RDKit          3D\\n\\n 14 13  0  0  0  0  0  0  0  0999 V2000\\n    1.7237   -1.2203    0.1841 O   0  0  0  0  0  0  0  0  0  0  0  0\\n    1.3640    0.1271    0.1340 C   0  0  0  0  0  0  0  0  0  0  0  0\\n   -0.0416    0.2903   -0.4269 C   0  0  0  0  0  0  0  0  0  0  0  0\\n   -0.3729    1.6200   -0.4665 O   0  0  0  0  0  0  0  0  0  0  0  0\\n   -1.0075   -0.5519    0.3816 C   0  0  0  0  0  0  0  0  0  0  0  0\\n   -2.2853   -0.4628   -0.1664 O   0  0  0  0  0  0  0  0  0  0  0  0\\n    2.4310   -1.2911    0.8919 H   0  0  0  0  0  0  0  0  0  0  0  0\\n    1.4166    0.6225    1.1242 H   0  0  0  0  0  0  0  0  0  0  0  0\\n    2.0430    0.6264   -0.6099 H   0  0  0  0  0  0  0  0  0  0  0  0\\n   -0.1024   -0.1059   -1.4627 H   0  0  0  0  0  0  0  0  0  0  0  0\\n   -0.7003    2.0005    0.3740 H   0  0  0  0  0  0  0  0  0  0  0  0\\n   -0.6890   -1.6181    0.2289 H   0  0  0  0  0  0  0  0  0  0  0  0\\n   -0.9762   -0.3404    1.4558 H   0  0  0  0  0  0  0  0  0  0  0  0\\n   -2.8032    0.3036    0.1787 H   0  0  0  0  0  0  0  0  0  0  0  0\\n  1  2  1  0\\n  2  3  1  0\\n  3  4  1  0\\n  3  5  1  0\\n  5  6  1  0\\n  1  7  1  0\\n  2  8  1  0\\n  2  9  1  0\\n  3 10  1  0\\n  4 11  1  0\\n  5 12  1  0\\n  5 13  1  0\\n  6 14  1  0\\nM  END\\n\",\"sdf\");\n",
       "\tviewer_16981351407566738.setStyle({\"stick\": {}});\n",
       "\tviewer_16981351407566738.setBackgroundColor(\"0xeeeeee\");\n",
       "\tviewer_16981351407566738.zoomTo();\n",
       "viewer_16981351407566738.render();\n",
       "});\n",
       "</script>"
      ]
     },
     "metadata": {},
     "output_type": "display_data"
    },
    {
     "data": {
      "application/3dmoljs_load.v0": "<div id=\"3dmolviewer_16981351407587013\"  style=\"position: relative; width: 400px; height: 400px\">\n        <p id=\"3dmolwarning_16981351407587013\" style=\"background-color:#ffcccc;color:black\">You appear to be running in JupyterLab (or JavaScript failed to load for some other reason).  You need to install the 3dmol extension: <br>\n        <tt>jupyter labextension install jupyterlab_3dmol</tt></p>\n        </div>\n<script>\n\nvar loadScriptAsync = function(uri){\n  return new Promise((resolve, reject) => {\n    //this is to ignore the existence of requirejs amd\n    var savedexports, savedmodule;\n    if (typeof exports !== 'undefined') savedexports = exports;\n    else exports = {}\n    if (typeof module !== 'undefined') savedmodule = module;\n    else module = {}\n\n    var tag = document.createElement('script');\n    tag.src = uri;\n    tag.async = true;\n    tag.onload = () => {\n        exports = savedexports;\n        module = savedmodule;\n        resolve();\n    };\n  var firstScriptTag = document.getElementsByTagName('script')[0];\n  firstScriptTag.parentNode.insertBefore(tag, firstScriptTag);\n});\n};\n\nif(typeof $3Dmolpromise === 'undefined') {\n$3Dmolpromise = null;\n  $3Dmolpromise = loadScriptAsync('https://cdnjs.cloudflare.com/ajax/libs/3Dmol/2.0.1/3Dmol-min.js');\n}\n\nvar viewer_16981351407587013 = null;\nvar warn = document.getElementById(\"3dmolwarning_16981351407587013\");\nif(warn) {\n    warn.parentNode.removeChild(warn);\n}\n$3Dmolpromise.then(function() {\nviewer_16981351407587013 = $3Dmol.createViewer(document.getElementById(\"3dmolviewer_16981351407587013\"),{backgroundColor:\"white\"});\nviewer_16981351407587013.zoomTo();\n\tviewer_16981351407587013.removeAllModels();\n\tviewer_16981351407587013.addModel(\"\\n     RDKit          3D\\n\\n 14 13  0  0  0  0  0  0  0  0999 V2000\\n   -1.5671   -0.2474    0.9462 O   0  0  0  0  0  0  0  0  0  0  0  0\\n   -1.2632   -0.1408   -0.4047 C   0  0  0  0  0  0  0  0  0  0  0  0\\n    0.2324   -0.1759   -0.6111 C   0  0  0  0  0  0  0  0  0  0  0  0\\n    0.7265   -1.3782   -0.1230 O   0  0  0  0  0  0  0  0  0  0  0  0\\n    0.9478    0.9488    0.0908 C   0  0  0  0  0  0  0  0  0  0  0  0\\n    2.3090    0.8027   -0.1972 O   0  0  0  0  0  0  0  0  0  0  0  0\\n   -2.5604   -0.2637    1.0358 H   0  0  0  0  0  0  0  0  0  0  0  0\\n   -1.6825    0.8105   -0.8054 H   0  0  0  0  0  0  0  0  0  0  0  0\\n   -1.6813   -0.9997   -0.9705 H   0  0  0  0  0  0  0  0  0  0  0  0\\n    0.5063   -0.1182   -1.6815 H   0  0  0  0  0  0  0  0  0  0  0  0\\n   -0.0245   -1.9941    0.1437 H   0  0  0  0  0  0  0  0  0  0  0  0\\n    0.8550    0.8924    1.1976 H   0  0  0  0  0  0  0  0  0  0  0  0\\n    0.6581    1.9468   -0.3037 H   0  0  0  0  0  0  0  0  0  0  0  0\\n    2.5442   -0.0831   -0.5261 H   0  0  0  0  0  0  0  0  0  0  0  0\\n  1  2  1  0\\n  2  3  1  0\\n  3  4  1  0\\n  3  5  1  0\\n  5  6  1  0\\n  1  7  1  0\\n  2  8  1  0\\n  2  9  1  0\\n  3 10  1  0\\n  4 11  1  0\\n  5 12  1  0\\n  5 13  1  0\\n  6 14  1  0\\nM  END\\n\",\"sdf\");\n\tviewer_16981351407587013.setStyle({\"stick\": {}});\n\tviewer_16981351407587013.setBackgroundColor(\"0xeeeeee\");\n\tviewer_16981351407587013.zoomTo();\nviewer_16981351407587013.render();\n});\n</script>",
      "text/html": [
       "<div id=\"3dmolviewer_16981351407587013\"  style=\"position: relative; width: 400px; height: 400px\">\n",
       "        <p id=\"3dmolwarning_16981351407587013\" style=\"background-color:#ffcccc;color:black\">You appear to be running in JupyterLab (or JavaScript failed to load for some other reason).  You need to install the 3dmol extension: <br>\n",
       "        <tt>jupyter labextension install jupyterlab_3dmol</tt></p>\n",
       "        </div>\n",
       "<script>\n",
       "\n",
       "var loadScriptAsync = function(uri){\n",
       "  return new Promise((resolve, reject) => {\n",
       "    //this is to ignore the existence of requirejs amd\n",
       "    var savedexports, savedmodule;\n",
       "    if (typeof exports !== 'undefined') savedexports = exports;\n",
       "    else exports = {}\n",
       "    if (typeof module !== 'undefined') savedmodule = module;\n",
       "    else module = {}\n",
       "\n",
       "    var tag = document.createElement('script');\n",
       "    tag.src = uri;\n",
       "    tag.async = true;\n",
       "    tag.onload = () => {\n",
       "        exports = savedexports;\n",
       "        module = savedmodule;\n",
       "        resolve();\n",
       "    };\n",
       "  var firstScriptTag = document.getElementsByTagName('script')[0];\n",
       "  firstScriptTag.parentNode.insertBefore(tag, firstScriptTag);\n",
       "});\n",
       "};\n",
       "\n",
       "if(typeof $3Dmolpromise === 'undefined') {\n",
       "$3Dmolpromise = null;\n",
       "  $3Dmolpromise = loadScriptAsync('https://cdnjs.cloudflare.com/ajax/libs/3Dmol/2.0.1/3Dmol-min.js');\n",
       "}\n",
       "\n",
       "var viewer_16981351407587013 = null;\n",
       "var warn = document.getElementById(\"3dmolwarning_16981351407587013\");\n",
       "if(warn) {\n",
       "    warn.parentNode.removeChild(warn);\n",
       "}\n",
       "$3Dmolpromise.then(function() {\n",
       "viewer_16981351407587013 = $3Dmol.createViewer(document.getElementById(\"3dmolviewer_16981351407587013\"),{backgroundColor:\"white\"});\n",
       "viewer_16981351407587013.zoomTo();\n",
       "\tviewer_16981351407587013.removeAllModels();\n",
       "\tviewer_16981351407587013.addModel(\"\\n     RDKit          3D\\n\\n 14 13  0  0  0  0  0  0  0  0999 V2000\\n   -1.5671   -0.2474    0.9462 O   0  0  0  0  0  0  0  0  0  0  0  0\\n   -1.2632   -0.1408   -0.4047 C   0  0  0  0  0  0  0  0  0  0  0  0\\n    0.2324   -0.1759   -0.6111 C   0  0  0  0  0  0  0  0  0  0  0  0\\n    0.7265   -1.3782   -0.1230 O   0  0  0  0  0  0  0  0  0  0  0  0\\n    0.9478    0.9488    0.0908 C   0  0  0  0  0  0  0  0  0  0  0  0\\n    2.3090    0.8027   -0.1972 O   0  0  0  0  0  0  0  0  0  0  0  0\\n   -2.5604   -0.2637    1.0358 H   0  0  0  0  0  0  0  0  0  0  0  0\\n   -1.6825    0.8105   -0.8054 H   0  0  0  0  0  0  0  0  0  0  0  0\\n   -1.6813   -0.9997   -0.9705 H   0  0  0  0  0  0  0  0  0  0  0  0\\n    0.5063   -0.1182   -1.6815 H   0  0  0  0  0  0  0  0  0  0  0  0\\n   -0.0245   -1.9941    0.1437 H   0  0  0  0  0  0  0  0  0  0  0  0\\n    0.8550    0.8924    1.1976 H   0  0  0  0  0  0  0  0  0  0  0  0\\n    0.6581    1.9468   -0.3037 H   0  0  0  0  0  0  0  0  0  0  0  0\\n    2.5442   -0.0831   -0.5261 H   0  0  0  0  0  0  0  0  0  0  0  0\\n  1  2  1  0\\n  2  3  1  0\\n  3  4  1  0\\n  3  5  1  0\\n  5  6  1  0\\n  1  7  1  0\\n  2  8  1  0\\n  2  9  1  0\\n  3 10  1  0\\n  4 11  1  0\\n  5 12  1  0\\n  5 13  1  0\\n  6 14  1  0\\nM  END\\n\",\"sdf\");\n",
       "\tviewer_16981351407587013.setStyle({\"stick\": {}});\n",
       "\tviewer_16981351407587013.setBackgroundColor(\"0xeeeeee\");\n",
       "\tviewer_16981351407587013.zoomTo();\n",
       "viewer_16981351407587013.render();\n",
       "});\n",
       "</script>"
      ]
     },
     "metadata": {},
     "output_type": "display_data"
    },
    {
     "data": {
      "application/3dmoljs_load.v0": "<div id=\"3dmolviewer_1698135140760503\"  style=\"position: relative; width: 400px; height: 400px\">\n        <p id=\"3dmolwarning_1698135140760503\" style=\"background-color:#ffcccc;color:black\">You appear to be running in JupyterLab (or JavaScript failed to load for some other reason).  You need to install the 3dmol extension: <br>\n        <tt>jupyter labextension install jupyterlab_3dmol</tt></p>\n        </div>\n<script>\n\nvar loadScriptAsync = function(uri){\n  return new Promise((resolve, reject) => {\n    //this is to ignore the existence of requirejs amd\n    var savedexports, savedmodule;\n    if (typeof exports !== 'undefined') savedexports = exports;\n    else exports = {}\n    if (typeof module !== 'undefined') savedmodule = module;\n    else module = {}\n\n    var tag = document.createElement('script');\n    tag.src = uri;\n    tag.async = true;\n    tag.onload = () => {\n        exports = savedexports;\n        module = savedmodule;\n        resolve();\n    };\n  var firstScriptTag = document.getElementsByTagName('script')[0];\n  firstScriptTag.parentNode.insertBefore(tag, firstScriptTag);\n});\n};\n\nif(typeof $3Dmolpromise === 'undefined') {\n$3Dmolpromise = null;\n  $3Dmolpromise = loadScriptAsync('https://cdnjs.cloudflare.com/ajax/libs/3Dmol/2.0.1/3Dmol-min.js');\n}\n\nvar viewer_1698135140760503 = null;\nvar warn = document.getElementById(\"3dmolwarning_1698135140760503\");\nif(warn) {\n    warn.parentNode.removeChild(warn);\n}\n$3Dmolpromise.then(function() {\nviewer_1698135140760503 = $3Dmol.createViewer(document.getElementById(\"3dmolviewer_1698135140760503\"),{backgroundColor:\"white\"});\nviewer_1698135140760503.zoomTo();\n\tviewer_1698135140760503.removeAllModels();\n\tviewer_1698135140760503.addModel(\"\\n     RDKit          3D\\n\\n 14 13  0  0  0  0  0  0  0  0999 V2000\\n    1.6950    0.5968   -0.4351 O   0  0  0  0  0  0  0  0  0  0  0  0\\n    0.7915   -0.4229   -0.7471 C   0  0  0  0  0  0  0  0  0  0  0  0\\n   -0.0848   -0.5968    0.4769 C   0  0  0  0  0  0  0  0  0  0  0  0\\n   -1.0347   -1.5755    0.3236 O   0  0  0  0  0  0  0  0  0  0  0  0\\n   -0.7101    0.7728    0.7479 C   0  0  0  0  0  0  0  0  0  0  0  0\\n   -1.5165    1.0758   -0.3460 O   0  0  0  0  0  0  0  0  0  0  0  0\\n    2.3421    0.1897    0.2128 H   0  0  0  0  0  0  0  0  0  0  0  0\\n    1.3880   -1.3101   -0.9826 H   0  0  0  0  0  0  0  0  0  0  0  0\\n    0.2142   -0.0967   -1.6316 H   0  0  0  0  0  0  0  0  0  0  0  0\\n    0.5849   -0.8673    1.3188 H   0  0  0  0  0  0  0  0  0  0  0  0\\n   -1.4292   -1.6118   -0.5818 H   0  0  0  0  0  0  0  0  0  0  0  0\\n   -1.3561    0.6370    1.6529 H   0  0  0  0  0  0  0  0  0  0  0  0\\n    0.1034    1.4990    0.9073 H   0  0  0  0  0  0  0  0  0  0  0  0\\n   -0.9877    1.7100   -0.9160 H   0  0  0  0  0  0  0  0  0  0  0  0\\n  1  2  1  0\\n  2  3  1  0\\n  3  4  1  0\\n  3  5  1  0\\n  5  6  1  0\\n  1  7  1  0\\n  2  8  1  0\\n  2  9  1  0\\n  3 10  1  0\\n  4 11  1  0\\n  5 12  1  0\\n  5 13  1  0\\n  6 14  1  0\\nM  END\\n\",\"sdf\");\n\tviewer_1698135140760503.setStyle({\"stick\": {}});\n\tviewer_1698135140760503.setBackgroundColor(\"0xeeeeee\");\n\tviewer_1698135140760503.zoomTo();\nviewer_1698135140760503.render();\n});\n</script>",
      "text/html": [
       "<div id=\"3dmolviewer_1698135140760503\"  style=\"position: relative; width: 400px; height: 400px\">\n",
       "        <p id=\"3dmolwarning_1698135140760503\" style=\"background-color:#ffcccc;color:black\">You appear to be running in JupyterLab (or JavaScript failed to load for some other reason).  You need to install the 3dmol extension: <br>\n",
       "        <tt>jupyter labextension install jupyterlab_3dmol</tt></p>\n",
       "        </div>\n",
       "<script>\n",
       "\n",
       "var loadScriptAsync = function(uri){\n",
       "  return new Promise((resolve, reject) => {\n",
       "    //this is to ignore the existence of requirejs amd\n",
       "    var savedexports, savedmodule;\n",
       "    if (typeof exports !== 'undefined') savedexports = exports;\n",
       "    else exports = {}\n",
       "    if (typeof module !== 'undefined') savedmodule = module;\n",
       "    else module = {}\n",
       "\n",
       "    var tag = document.createElement('script');\n",
       "    tag.src = uri;\n",
       "    tag.async = true;\n",
       "    tag.onload = () => {\n",
       "        exports = savedexports;\n",
       "        module = savedmodule;\n",
       "        resolve();\n",
       "    };\n",
       "  var firstScriptTag = document.getElementsByTagName('script')[0];\n",
       "  firstScriptTag.parentNode.insertBefore(tag, firstScriptTag);\n",
       "});\n",
       "};\n",
       "\n",
       "if(typeof $3Dmolpromise === 'undefined') {\n",
       "$3Dmolpromise = null;\n",
       "  $3Dmolpromise = loadScriptAsync('https://cdnjs.cloudflare.com/ajax/libs/3Dmol/2.0.1/3Dmol-min.js');\n",
       "}\n",
       "\n",
       "var viewer_1698135140760503 = null;\n",
       "var warn = document.getElementById(\"3dmolwarning_1698135140760503\");\n",
       "if(warn) {\n",
       "    warn.parentNode.removeChild(warn);\n",
       "}\n",
       "$3Dmolpromise.then(function() {\n",
       "viewer_1698135140760503 = $3Dmol.createViewer(document.getElementById(\"3dmolviewer_1698135140760503\"),{backgroundColor:\"white\"});\n",
       "viewer_1698135140760503.zoomTo();\n",
       "\tviewer_1698135140760503.removeAllModels();\n",
       "\tviewer_1698135140760503.addModel(\"\\n     RDKit          3D\\n\\n 14 13  0  0  0  0  0  0  0  0999 V2000\\n    1.6950    0.5968   -0.4351 O   0  0  0  0  0  0  0  0  0  0  0  0\\n    0.7915   -0.4229   -0.7471 C   0  0  0  0  0  0  0  0  0  0  0  0\\n   -0.0848   -0.5968    0.4769 C   0  0  0  0  0  0  0  0  0  0  0  0\\n   -1.0347   -1.5755    0.3236 O   0  0  0  0  0  0  0  0  0  0  0  0\\n   -0.7101    0.7728    0.7479 C   0  0  0  0  0  0  0  0  0  0  0  0\\n   -1.5165    1.0758   -0.3460 O   0  0  0  0  0  0  0  0  0  0  0  0\\n    2.3421    0.1897    0.2128 H   0  0  0  0  0  0  0  0  0  0  0  0\\n    1.3880   -1.3101   -0.9826 H   0  0  0  0  0  0  0  0  0  0  0  0\\n    0.2142   -0.0967   -1.6316 H   0  0  0  0  0  0  0  0  0  0  0  0\\n    0.5849   -0.8673    1.3188 H   0  0  0  0  0  0  0  0  0  0  0  0\\n   -1.4292   -1.6118   -0.5818 H   0  0  0  0  0  0  0  0  0  0  0  0\\n   -1.3561    0.6370    1.6529 H   0  0  0  0  0  0  0  0  0  0  0  0\\n    0.1034    1.4990    0.9073 H   0  0  0  0  0  0  0  0  0  0  0  0\\n   -0.9877    1.7100   -0.9160 H   0  0  0  0  0  0  0  0  0  0  0  0\\n  1  2  1  0\\n  2  3  1  0\\n  3  4  1  0\\n  3  5  1  0\\n  5  6  1  0\\n  1  7  1  0\\n  2  8  1  0\\n  2  9  1  0\\n  3 10  1  0\\n  4 11  1  0\\n  5 12  1  0\\n  5 13  1  0\\n  6 14  1  0\\nM  END\\n\",\"sdf\");\n",
       "\tviewer_1698135140760503.setStyle({\"stick\": {}});\n",
       "\tviewer_1698135140760503.setBackgroundColor(\"0xeeeeee\");\n",
       "\tviewer_1698135140760503.zoomTo();\n",
       "viewer_1698135140760503.render();\n",
       "});\n",
       "</script>"
      ]
     },
     "metadata": {},
     "output_type": "display_data"
    },
    {
     "data": {
      "application/3dmoljs_load.v0": "<div id=\"3dmolviewer_16981351407622397\"  style=\"position: relative; width: 400px; height: 400px\">\n        <p id=\"3dmolwarning_16981351407622397\" style=\"background-color:#ffcccc;color:black\">You appear to be running in JupyterLab (or JavaScript failed to load for some other reason).  You need to install the 3dmol extension: <br>\n        <tt>jupyter labextension install jupyterlab_3dmol</tt></p>\n        </div>\n<script>\n\nvar loadScriptAsync = function(uri){\n  return new Promise((resolve, reject) => {\n    //this is to ignore the existence of requirejs amd\n    var savedexports, savedmodule;\n    if (typeof exports !== 'undefined') savedexports = exports;\n    else exports = {}\n    if (typeof module !== 'undefined') savedmodule = module;\n    else module = {}\n\n    var tag = document.createElement('script');\n    tag.src = uri;\n    tag.async = true;\n    tag.onload = () => {\n        exports = savedexports;\n        module = savedmodule;\n        resolve();\n    };\n  var firstScriptTag = document.getElementsByTagName('script')[0];\n  firstScriptTag.parentNode.insertBefore(tag, firstScriptTag);\n});\n};\n\nif(typeof $3Dmolpromise === 'undefined') {\n$3Dmolpromise = null;\n  $3Dmolpromise = loadScriptAsync('https://cdnjs.cloudflare.com/ajax/libs/3Dmol/2.0.1/3Dmol-min.js');\n}\n\nvar viewer_16981351407622397 = null;\nvar warn = document.getElementById(\"3dmolwarning_16981351407622397\");\nif(warn) {\n    warn.parentNode.removeChild(warn);\n}\n$3Dmolpromise.then(function() {\nviewer_16981351407622397 = $3Dmol.createViewer(document.getElementById(\"3dmolviewer_16981351407622397\"),{backgroundColor:\"white\"});\nviewer_16981351407622397.zoomTo();\n\tviewer_16981351407622397.removeAllModels();\n\tviewer_16981351407622397.addModel(\"\\n     RDKit          3D\\n\\n 14 13  0  0  0  0  0  0  0  0999 V2000\\n    2.1984    0.0428   -0.4630 O   0  0  0  0  0  0  0  0  0  0  0  0\\n    0.9624   -0.5683   -0.3812 C   0  0  0  0  0  0  0  0  0  0  0  0\\n   -0.1482    0.4923   -0.3229 C   0  0  0  0  0  0  0  0  0  0  0  0\\n    0.0380    1.3037    0.8026 O   0  0  0  0  0  0  0  0  0  0  0  0\\n   -1.4972   -0.1762   -0.1484 C   0  0  0  0  0  0  0  0  0  0  0  0\\n   -1.5392   -0.9421    0.9992 O   0  0  0  0  0  0  0  0  0  0  0  0\\n    2.7504   -0.1654    0.3165 H   0  0  0  0  0  0  0  0  0  0  0  0\\n    0.8838   -1.1398    0.5840 H   0  0  0  0  0  0  0  0  0  0  0  0\\n    0.7696   -1.2120   -1.2592 H   0  0  0  0  0  0  0  0  0  0  0  0\\n   -0.1320    1.0736   -1.2501 H   0  0  0  0  0  0  0  0  0  0  0  0\\n    0.5753    2.0795    0.5485 H   0  0  0  0  0  0  0  0  0  0  0  0\\n   -1.7775   -0.7498   -1.0615 H   0  0  0  0  0  0  0  0  0  0  0  0\\n   -2.2343    0.6571   -0.0308 H   0  0  0  0  0  0  0  0  0  0  0  0\\n   -0.8495   -0.6953    1.6662 H   0  0  0  0  0  0  0  0  0  0  0  0\\n  1  2  1  0\\n  2  3  1  0\\n  3  4  1  0\\n  3  5  1  0\\n  5  6  1  0\\n  1  7  1  0\\n  2  8  1  0\\n  2  9  1  0\\n  3 10  1  0\\n  4 11  1  0\\n  5 12  1  0\\n  5 13  1  0\\n  6 14  1  0\\nM  END\\n\",\"sdf\");\n\tviewer_16981351407622397.setStyle({\"stick\": {}});\n\tviewer_16981351407622397.setBackgroundColor(\"0xeeeeee\");\n\tviewer_16981351407622397.zoomTo();\nviewer_16981351407622397.render();\n});\n</script>",
      "text/html": [
       "<div id=\"3dmolviewer_16981351407622397\"  style=\"position: relative; width: 400px; height: 400px\">\n",
       "        <p id=\"3dmolwarning_16981351407622397\" style=\"background-color:#ffcccc;color:black\">You appear to be running in JupyterLab (or JavaScript failed to load for some other reason).  You need to install the 3dmol extension: <br>\n",
       "        <tt>jupyter labextension install jupyterlab_3dmol</tt></p>\n",
       "        </div>\n",
       "<script>\n",
       "\n",
       "var loadScriptAsync = function(uri){\n",
       "  return new Promise((resolve, reject) => {\n",
       "    //this is to ignore the existence of requirejs amd\n",
       "    var savedexports, savedmodule;\n",
       "    if (typeof exports !== 'undefined') savedexports = exports;\n",
       "    else exports = {}\n",
       "    if (typeof module !== 'undefined') savedmodule = module;\n",
       "    else module = {}\n",
       "\n",
       "    var tag = document.createElement('script');\n",
       "    tag.src = uri;\n",
       "    tag.async = true;\n",
       "    tag.onload = () => {\n",
       "        exports = savedexports;\n",
       "        module = savedmodule;\n",
       "        resolve();\n",
       "    };\n",
       "  var firstScriptTag = document.getElementsByTagName('script')[0];\n",
       "  firstScriptTag.parentNode.insertBefore(tag, firstScriptTag);\n",
       "});\n",
       "};\n",
       "\n",
       "if(typeof $3Dmolpromise === 'undefined') {\n",
       "$3Dmolpromise = null;\n",
       "  $3Dmolpromise = loadScriptAsync('https://cdnjs.cloudflare.com/ajax/libs/3Dmol/2.0.1/3Dmol-min.js');\n",
       "}\n",
       "\n",
       "var viewer_16981351407622397 = null;\n",
       "var warn = document.getElementById(\"3dmolwarning_16981351407622397\");\n",
       "if(warn) {\n",
       "    warn.parentNode.removeChild(warn);\n",
       "}\n",
       "$3Dmolpromise.then(function() {\n",
       "viewer_16981351407622397 = $3Dmol.createViewer(document.getElementById(\"3dmolviewer_16981351407622397\"),{backgroundColor:\"white\"});\n",
       "viewer_16981351407622397.zoomTo();\n",
       "\tviewer_16981351407622397.removeAllModels();\n",
       "\tviewer_16981351407622397.addModel(\"\\n     RDKit          3D\\n\\n 14 13  0  0  0  0  0  0  0  0999 V2000\\n    2.1984    0.0428   -0.4630 O   0  0  0  0  0  0  0  0  0  0  0  0\\n    0.9624   -0.5683   -0.3812 C   0  0  0  0  0  0  0  0  0  0  0  0\\n   -0.1482    0.4923   -0.3229 C   0  0  0  0  0  0  0  0  0  0  0  0\\n    0.0380    1.3037    0.8026 O   0  0  0  0  0  0  0  0  0  0  0  0\\n   -1.4972   -0.1762   -0.1484 C   0  0  0  0  0  0  0  0  0  0  0  0\\n   -1.5392   -0.9421    0.9992 O   0  0  0  0  0  0  0  0  0  0  0  0\\n    2.7504   -0.1654    0.3165 H   0  0  0  0  0  0  0  0  0  0  0  0\\n    0.8838   -1.1398    0.5840 H   0  0  0  0  0  0  0  0  0  0  0  0\\n    0.7696   -1.2120   -1.2592 H   0  0  0  0  0  0  0  0  0  0  0  0\\n   -0.1320    1.0736   -1.2501 H   0  0  0  0  0  0  0  0  0  0  0  0\\n    0.5753    2.0795    0.5485 H   0  0  0  0  0  0  0  0  0  0  0  0\\n   -1.7775   -0.7498   -1.0615 H   0  0  0  0  0  0  0  0  0  0  0  0\\n   -2.2343    0.6571   -0.0308 H   0  0  0  0  0  0  0  0  0  0  0  0\\n   -0.8495   -0.6953    1.6662 H   0  0  0  0  0  0  0  0  0  0  0  0\\n  1  2  1  0\\n  2  3  1  0\\n  3  4  1  0\\n  3  5  1  0\\n  5  6  1  0\\n  1  7  1  0\\n  2  8  1  0\\n  2  9  1  0\\n  3 10  1  0\\n  4 11  1  0\\n  5 12  1  0\\n  5 13  1  0\\n  6 14  1  0\\nM  END\\n\",\"sdf\");\n",
       "\tviewer_16981351407622397.setStyle({\"stick\": {}});\n",
       "\tviewer_16981351407622397.setBackgroundColor(\"0xeeeeee\");\n",
       "\tviewer_16981351407622397.zoomTo();\n",
       "viewer_16981351407622397.render();\n",
       "});\n",
       "</script>"
      ]
     },
     "metadata": {},
     "output_type": "display_data"
    },
    {
     "data": {
      "application/3dmoljs_load.v0": "<div id=\"3dmolviewer_16981351407639449\"  style=\"position: relative; width: 400px; height: 400px\">\n        <p id=\"3dmolwarning_16981351407639449\" style=\"background-color:#ffcccc;color:black\">You appear to be running in JupyterLab (or JavaScript failed to load for some other reason).  You need to install the 3dmol extension: <br>\n        <tt>jupyter labextension install jupyterlab_3dmol</tt></p>\n        </div>\n<script>\n\nvar loadScriptAsync = function(uri){\n  return new Promise((resolve, reject) => {\n    //this is to ignore the existence of requirejs amd\n    var savedexports, savedmodule;\n    if (typeof exports !== 'undefined') savedexports = exports;\n    else exports = {}\n    if (typeof module !== 'undefined') savedmodule = module;\n    else module = {}\n\n    var tag = document.createElement('script');\n    tag.src = uri;\n    tag.async = true;\n    tag.onload = () => {\n        exports = savedexports;\n        module = savedmodule;\n        resolve();\n    };\n  var firstScriptTag = document.getElementsByTagName('script')[0];\n  firstScriptTag.parentNode.insertBefore(tag, firstScriptTag);\n});\n};\n\nif(typeof $3Dmolpromise === 'undefined') {\n$3Dmolpromise = null;\n  $3Dmolpromise = loadScriptAsync('https://cdnjs.cloudflare.com/ajax/libs/3Dmol/2.0.1/3Dmol-min.js');\n}\n\nvar viewer_16981351407639449 = null;\nvar warn = document.getElementById(\"3dmolwarning_16981351407639449\");\nif(warn) {\n    warn.parentNode.removeChild(warn);\n}\n$3Dmolpromise.then(function() {\nviewer_16981351407639449 = $3Dmol.createViewer(document.getElementById(\"3dmolviewer_16981351407639449\"),{backgroundColor:\"white\"});\nviewer_16981351407639449.zoomTo();\n\tviewer_16981351407639449.removeAllModels();\n\tviewer_16981351407639449.addModel(\"\\n     RDKit          3D\\n\\n 14 13  0  0  0  0  0  0  0  0999 V2000\\n    1.6789    0.4339   -0.9323 O   0  0  0  0  0  0  0  0  0  0  0  0\\n    1.1262   -0.7496   -0.4243 C   0  0  0  0  0  0  0  0  0  0  0  0\\n   -0.1280   -0.4079    0.3245 C   0  0  0  0  0  0  0  0  0  0  0  0\\n    0.2622    0.4699    1.3614 O   0  0  0  0  0  0  0  0  0  0  0  0\\n   -1.1399    0.3192   -0.5270 C   0  0  0  0  0  0  0  0  0  0  0  0\\n   -2.2396    0.6708    0.2511 O   0  0  0  0  0  0  0  0  0  0  0  0\\n    2.1753    0.9367   -0.2546 H   0  0  0  0  0  0  0  0  0  0  0  0\\n    1.8633   -1.1200    0.3309 H   0  0  0  0  0  0  0  0  0  0  0  0\\n    0.9902   -1.5139   -1.2010 H   0  0  0  0  0  0  0  0  0  0  0  0\\n   -0.5859   -1.3077    0.7613 H   0  0  0  0  0  0  0  0  0  0  0  0\\n    0.4180   -0.0990    2.1516 H   0  0  0  0  0  0  0  0  0  0  0  0\\n   -1.5145   -0.4097   -1.3007 H   0  0  0  0  0  0  0  0  0  0  0  0\\n   -0.7045    1.1549   -1.0845 H   0  0  0  0  0  0  0  0  0  0  0  0\\n   -2.2016    1.6225    0.5436 H   0  0  0  0  0  0  0  0  0  0  0  0\\n  1  2  1  0\\n  2  3  1  0\\n  3  4  1  0\\n  3  5  1  0\\n  5  6  1  0\\n  1  7  1  0\\n  2  8  1  0\\n  2  9  1  0\\n  3 10  1  0\\n  4 11  1  0\\n  5 12  1  0\\n  5 13  1  0\\n  6 14  1  0\\nM  END\\n\",\"sdf\");\n\tviewer_16981351407639449.setStyle({\"stick\": {}});\n\tviewer_16981351407639449.setBackgroundColor(\"0xeeeeee\");\n\tviewer_16981351407639449.zoomTo();\nviewer_16981351407639449.render();\n});\n</script>",
      "text/html": [
       "<div id=\"3dmolviewer_16981351407639449\"  style=\"position: relative; width: 400px; height: 400px\">\n",
       "        <p id=\"3dmolwarning_16981351407639449\" style=\"background-color:#ffcccc;color:black\">You appear to be running in JupyterLab (or JavaScript failed to load for some other reason).  You need to install the 3dmol extension: <br>\n",
       "        <tt>jupyter labextension install jupyterlab_3dmol</tt></p>\n",
       "        </div>\n",
       "<script>\n",
       "\n",
       "var loadScriptAsync = function(uri){\n",
       "  return new Promise((resolve, reject) => {\n",
       "    //this is to ignore the existence of requirejs amd\n",
       "    var savedexports, savedmodule;\n",
       "    if (typeof exports !== 'undefined') savedexports = exports;\n",
       "    else exports = {}\n",
       "    if (typeof module !== 'undefined') savedmodule = module;\n",
       "    else module = {}\n",
       "\n",
       "    var tag = document.createElement('script');\n",
       "    tag.src = uri;\n",
       "    tag.async = true;\n",
       "    tag.onload = () => {\n",
       "        exports = savedexports;\n",
       "        module = savedmodule;\n",
       "        resolve();\n",
       "    };\n",
       "  var firstScriptTag = document.getElementsByTagName('script')[0];\n",
       "  firstScriptTag.parentNode.insertBefore(tag, firstScriptTag);\n",
       "});\n",
       "};\n",
       "\n",
       "if(typeof $3Dmolpromise === 'undefined') {\n",
       "$3Dmolpromise = null;\n",
       "  $3Dmolpromise = loadScriptAsync('https://cdnjs.cloudflare.com/ajax/libs/3Dmol/2.0.1/3Dmol-min.js');\n",
       "}\n",
       "\n",
       "var viewer_16981351407639449 = null;\n",
       "var warn = document.getElementById(\"3dmolwarning_16981351407639449\");\n",
       "if(warn) {\n",
       "    warn.parentNode.removeChild(warn);\n",
       "}\n",
       "$3Dmolpromise.then(function() {\n",
       "viewer_16981351407639449 = $3Dmol.createViewer(document.getElementById(\"3dmolviewer_16981351407639449\"),{backgroundColor:\"white\"});\n",
       "viewer_16981351407639449.zoomTo();\n",
       "\tviewer_16981351407639449.removeAllModels();\n",
       "\tviewer_16981351407639449.addModel(\"\\n     RDKit          3D\\n\\n 14 13  0  0  0  0  0  0  0  0999 V2000\\n    1.6789    0.4339   -0.9323 O   0  0  0  0  0  0  0  0  0  0  0  0\\n    1.1262   -0.7496   -0.4243 C   0  0  0  0  0  0  0  0  0  0  0  0\\n   -0.1280   -0.4079    0.3245 C   0  0  0  0  0  0  0  0  0  0  0  0\\n    0.2622    0.4699    1.3614 O   0  0  0  0  0  0  0  0  0  0  0  0\\n   -1.1399    0.3192   -0.5270 C   0  0  0  0  0  0  0  0  0  0  0  0\\n   -2.2396    0.6708    0.2511 O   0  0  0  0  0  0  0  0  0  0  0  0\\n    2.1753    0.9367   -0.2546 H   0  0  0  0  0  0  0  0  0  0  0  0\\n    1.8633   -1.1200    0.3309 H   0  0  0  0  0  0  0  0  0  0  0  0\\n    0.9902   -1.5139   -1.2010 H   0  0  0  0  0  0  0  0  0  0  0  0\\n   -0.5859   -1.3077    0.7613 H   0  0  0  0  0  0  0  0  0  0  0  0\\n    0.4180   -0.0990    2.1516 H   0  0  0  0  0  0  0  0  0  0  0  0\\n   -1.5145   -0.4097   -1.3007 H   0  0  0  0  0  0  0  0  0  0  0  0\\n   -0.7045    1.1549   -1.0845 H   0  0  0  0  0  0  0  0  0  0  0  0\\n   -2.2016    1.6225    0.5436 H   0  0  0  0  0  0  0  0  0  0  0  0\\n  1  2  1  0\\n  2  3  1  0\\n  3  4  1  0\\n  3  5  1  0\\n  5  6  1  0\\n  1  7  1  0\\n  2  8  1  0\\n  2  9  1  0\\n  3 10  1  0\\n  4 11  1  0\\n  5 12  1  0\\n  5 13  1  0\\n  6 14  1  0\\nM  END\\n\",\"sdf\");\n",
       "\tviewer_16981351407639449.setStyle({\"stick\": {}});\n",
       "\tviewer_16981351407639449.setBackgroundColor(\"0xeeeeee\");\n",
       "\tviewer_16981351407639449.zoomTo();\n",
       "viewer_16981351407639449.render();\n",
       "});\n",
       "</script>"
      ]
     },
     "metadata": {},
     "output_type": "display_data"
    }
   ],
   "source": [
    "#do the conformers look structurally sensible\n",
    "\n",
    "for id in range(rdmol.GetNumConformers()):\n",
    "    IPythonConsole.drawMol3D(rdmol,confId=id)\n"
   ]
  },
  {
   "cell_type": "code",
   "execution_count": 8,
   "metadata": {},
   "outputs": [
    {
     "data": {
      "text/plain": [
       "0"
      ]
     },
     "execution_count": 8,
     "metadata": {},
     "output_type": "execute_result"
    }
   ],
   "source": [
    "optimize_MMFF"
   ]
  },
  {
   "cell_type": "code",
   "execution_count": 9,
   "metadata": {},
   "outputs": [],
   "source": [
    "#now create a series of xyz files so we can run the conformers with ASE, first convert our conformers to xyz format and then write to file\n",
    "\n",
    "from openff.units import unit\n",
    "\n",
    "cwd = os.getcwd()\n",
    "\n",
    "conformers = []\n",
    "\n",
    "\n",
    "\n",
    "for confs in range(rdmol.GetNumConformers()):\n",
    "    conformer = np.zeros((rdmol.GetConformer(confs).GetNumAtoms(), 3))\n",
    "    for atom_index, coordinates in enumerate(rdmol.GetConformer(confs).GetPositions()):\n",
    "        conformer[atom_index, :] = coordinates\n",
    "    conformers.append(conformer * unit.angstrom)\n",
    "\n",
    "\n",
    "for number ,conformer in enumerate(conformers):\n",
    "    atoms = [\n",
    "            {\n",
    "                \"element\": SYMBOLS[atom.atomic_number],\n",
    "                \"x\": conformer[index, 0],\n",
    "                \"y\": conformer[index, 1],\n",
    "                \"z\": conformer[index, 2],\n",
    "            }\n",
    "            for index, atom in enumerate(molecule.atoms)\n",
    "        ]\n",
    "    xyz = f'{molecule.n_atoms}\\n{molecule.to_smiles()}\\n'\n",
    "    for row in atoms:\n",
    "        xyz += f\"{row['element']}\\t{np.around(row['x'].magnitude,decimals=6)}\\t{np.around(row['y'].magnitude,decimals=6)}\\t{np.around(row['z'].magnitude, decimals=6)}\\n\"\n",
    "    try:\n",
    "        f = open(cwd+f\"/conformer_{number}.xyz\", 'x')\n",
    "        f.write(xyz)\n",
    "        f.close()\n",
    "    except FileExistsError:\n",
    "        continue"
   ]
  },
  {
   "cell_type": "code",
   "execution_count": 10,
   "metadata": {},
   "outputs": [
    {
     "name": "stderr",
     "output_type": "stream",
     "text": [
      "/mnt/nfs/home/nca121/mambaforge/envs/openff/lib/python3.11/site-packages/numpy/core/getlimits.py:549: UserWarning: The value of the smallest subnormal for <class 'numpy.float64'> type is zero.\n",
      "  setattr(self, word, getattr(machar, word).flat[0])\n",
      "/mnt/nfs/home/nca121/mambaforge/envs/openff/lib/python3.11/site-packages/numpy/core/getlimits.py:89: UserWarning: The value of the smallest subnormal for <class 'numpy.float64'> type is zero.\n",
      "  return self._float_to_str(self.smallest_subnormal)\n",
      "/mnt/nfs/home/nca121/mambaforge/envs/openff/lib/python3.11/site-packages/numpy/core/getlimits.py:549: UserWarning: The value of the smallest subnormal for <class 'numpy.float32'> type is zero.\n",
      "  setattr(self, word, getattr(machar, word).flat[0])\n",
      "/mnt/nfs/home/nca121/mambaforge/envs/openff/lib/python3.11/site-packages/numpy/core/getlimits.py:89: UserWarning: The value of the smallest subnormal for <class 'numpy.float32'> type is zero.\n",
      "  return self._float_to_str(self.smallest_subnormal)\n"
     ]
    }
   ],
   "source": [
    "from ase.calculators.gaussian import Gaussian, GaussianOptimizer\n",
    "import ase.io\n",
    "from ase.visualize import view\n",
    "!module load gaussian/09\n",
    "\n",
    "\n"
   ]
  },
  {
   "cell_type": "code",
   "execution_count": 11,
   "metadata": {},
   "outputs": [],
   "source": [
    "Gaussian.command = '/mnt/storage/apps/eb/software/gaussian/09/g09 < PREFIX.com > PREFIX.log'"
   ]
  },
  {
   "cell_type": "code",
   "execution_count": 12,
   "metadata": {},
   "outputs": [],
   "source": [
    "test_atoms = ase.io.read('conformer_0.xyz')"
   ]
  },
  {
   "cell_type": "code",
   "execution_count": 13,
   "metadata": {},
   "outputs": [
    {
     "data": {
      "text/plain": [
       "<Popen: returncode: None args: ['/mnt/nfs/home/nca121/mambaforge/envs/openff...>"
      ]
     },
     "execution_count": 13,
     "metadata": {},
     "output_type": "execute_result"
    }
   ],
   "source": [
    "view(test_atoms)"
   ]
  },
  {
   "cell_type": "code",
   "execution_count": 14,
   "metadata": {},
   "outputs": [],
   "source": [
    "from openff.recharge.utilities.molecule import smiles_to_molecule\n",
    "from openff.recharge.conformers import ConformerGenerator, ConformerSettings\n",
    "from openff.units.elements import SYMBOLS\n",
    "import numpy as np\n",
    "from openff.units import unit\n"
   ]
  },
  {
   "cell_type": "code",
   "execution_count": 15,
   "metadata": {},
   "outputs": [],
   "source": [
    "molecule = smiles_to_molecule(\"OCC(O)CO\")\n",
    "conformers = ConformerGenerator.generate(\n",
    "    molecule, ConformerSettings(max_conformers=10)\n",
    ")"
   ]
  },
  {
   "cell_type": "code",
   "execution_count": 16,
   "metadata": {},
   "outputs": [],
   "source": [
    "def conf_to_xyz_string(conformer, molecule):\n",
    "    atoms = [\n",
    "                    {\n",
    "                        \"element\": SYMBOLS[atom.atomic_number],\n",
    "                        \"x\": conformer[index, 0],\n",
    "                        \"y\": conformer[index, 1],\n",
    "                        \"z\": conformer[index, 2],\n",
    "                    }\n",
    "                    for index, atom in enumerate(molecule.atoms)\n",
    "                ]\n",
    "    xyz = f'{molecule.n_atoms}\\n{molecule.to_smiles()}\\n'\n",
    "    for row in atoms:\n",
    "        xyz += f\"{row['element']}\\t{np.around(row['x'].magnitude,decimals=6)}\\t{np.around(row['y'].magnitude,decimals=6)}\\t{np.around(row['z'].magnitude, decimals=6)}\\n\"\n",
    "    return xyz"
   ]
  },
  {
   "cell_type": "code",
   "execution_count": 17,
   "metadata": {},
   "outputs": [
    {
     "data": {
      "text/html": [
       "<table><tbody><tr><th>Magnitude</th><td style='text-align:left;'><pre>[[-0.3611847460269928 -0.008062569424510002 0.021483348682522774]<br> [0.9523459672927856 0.5384629368782043 -0.032555222511291504]<br> [1.1439802646636963 1.233094573020935 -1.3743836879730225]<br> [2.4670777320861816 1.7732906341552734 -1.4064496755599976]<br> [0.9855600595474243 0.2572946548461914 -2.534839153289795]<br> [1.1710933446884155 0.9411581158638 -3.7698163986206055]<br> [-0.45401597023010254 -0.4434690475463867 0.8860717415809631]<br> [1.0573564767837524 1.2441487312316895 0.7981725335121155]<br> [1.6660577058792114 -0.28194597363471985 0.09198283404111862]<br> [0.4551912844181061 2.0798325538635254 -1.4719767570495605]<br> [2.5237202644348145 2.3979244232177734 -0.6684095859527588]<br> [-0.009874296374619007 -0.19747895002365112 -2.545755624771118]<br> [1.7366387844085693 -0.5375308394432068 -2.487229347229004]<br> [1.0608800649642944 0.2808915376663208 -4.472022533416748]]</pre></td></tr><tr><th>Units</th><td style='text-align:left;'>angstrom</td></tr></tbody></table>"
      ],
      "text/latex": [
       "$\\begin{pmatrix}-0.3611847460269928 & -0.008062569424510002 & 0.021483348682522774\\\\ \n",
       "0.9523459672927856 & 0.5384629368782043 & -0.032555222511291504\\\\ \n",
       "1.1439802646636963 & 1.233094573020935 & -1.3743836879730225\\\\ \n",
       "2.4670777320861816 & 1.7732906341552734 & -1.4064496755599976\\\\ \n",
       "0.9855600595474243 & 0.2572946548461914 & -2.534839153289795\\\\ \n",
       "1.1710933446884155 & 0.9411581158638 & -3.7698163986206055\\\\ \n",
       "-0.45401597023010254 & -0.4434690475463867 & 0.8860717415809631\\\\ \n",
       "1.0573564767837524 & 1.2441487312316895 & 0.7981725335121155\\\\ \n",
       "1.6660577058792114 & -0.28194597363471985 & 0.09198283404111862\\\\ \n",
       "0.4551912844181061 & 2.0798325538635254 & -1.4719767570495605\\\\ \n",
       "2.5237202644348145 & 2.3979244232177734 & -0.6684095859527588\\\\ \n",
       "-0.009874296374619007 & -0.19747895002365112 & -2.545755624771118\\\\ \n",
       "1.7366387844085693 & -0.5375308394432068 & -2.487229347229004\\\\ \n",
       "1.0608800649642944 & 0.2808915376663208 & -4.472022533416748\\end{pmatrix}\\ \\mathrm{angstrom}$"
      ],
      "text/plain": [
       "array([[-0.36118475, -0.00806257,  0.02148335],\n",
       "       [ 0.95234597,  0.53846294, -0.03255522],\n",
       "       [ 1.14398026,  1.23309457, -1.37438369],\n",
       "       [ 2.46707773,  1.77329063, -1.40644968],\n",
       "       [ 0.98556006,  0.25729465, -2.53483915],\n",
       "       [ 1.17109334,  0.94115812, -3.7698164 ],\n",
       "       [-0.45401597, -0.44346905,  0.88607174],\n",
       "       [ 1.05735648,  1.24414873,  0.79817253],\n",
       "       [ 1.66605771, -0.28194597,  0.09198283],\n",
       "       [ 0.45519128,  2.07983255, -1.47197676],\n",
       "       [ 2.52372026,  2.39792442, -0.66840959],\n",
       "       [-0.0098743 , -0.19747895, -2.54575562],\n",
       "       [ 1.73663878, -0.53753084, -2.48722935],\n",
       "       [ 1.06088006,  0.28089154, -4.47202253]]) <Unit('angstrom')>"
      ]
     },
     "execution_count": 17,
     "metadata": {},
     "output_type": "execute_result"
    }
   ],
   "source": [
    "conformers[0]"
   ]
  },
  {
   "cell_type": "code",
   "execution_count": 18,
   "metadata": {},
   "outputs": [
    {
     "data": {
      "text/plain": [
       "openff.units.units.Quantity"
      ]
     },
     "execution_count": 18,
     "metadata": {},
     "output_type": "execute_result"
    }
   ],
   "source": [
    "type(conformers[0])"
   ]
  },
  {
   "cell_type": "code",
   "execution_count": null,
   "metadata": {},
   "outputs": [],
   "source": []
  },
  {
   "cell_type": "code",
   "execution_count": 19,
   "metadata": {},
   "outputs": [],
   "source": [
    "from openff.units import unit\n",
    "\n",
    "cwd = os.getcwd()\n",
    "\n",
    "conformers = []\n",
    "\n",
    "molecule = smiles_to_molecule(\"OCC(O)CO\")\n",
    "rdmol = molecule.to_rdkit()\n",
    "AllChem.EmbedMultipleConfs(rdmol, numConfs=10, randomSeed=42)\n",
    "\n",
    "for confs in range(rdmol.GetNumConformers()):\n",
    "    \n",
    "    conformer = np.zeros((rdmol.GetConformer(confs).GetNumAtoms(), 3))\n",
    "    for atom_index, coordinates in enumerate(rdmol.GetConformer(confs).GetPositions()):\n",
    "        conformer[atom_index, :] = coordinates\n",
    "    conformers.append(conformer * unit.angstrom)\n"
   ]
  },
  {
   "cell_type": "code",
   "execution_count": 20,
   "metadata": {},
   "outputs": [
    {
     "data": {
      "text/plain": [
       "[1, 2, 3, 4, 5, 6, 7, 8, 9, 10]"
      ]
     },
     "execution_count": 20,
     "metadata": {},
     "output_type": "execute_result"
    }
   ],
   "source": [
    "[molecule.add_conformer(i) for i in conformers]"
   ]
  },
  {
   "cell_type": "code",
   "execution_count": 21,
   "metadata": {},
   "outputs": [],
   "source": [
    "rdmol =  molecule.to_rdkit()"
   ]
  },
  {
   "cell_type": "code",
   "execution_count": 22,
   "metadata": {},
   "outputs": [
    {
     "data": {
      "text/plain": [
       "10"
      ]
     },
     "execution_count": 22,
     "metadata": {},
     "output_type": "execute_result"
    }
   ],
   "source": [
    "rdmol.GetNumConformers()"
   ]
  },
  {
   "cell_type": "code",
   "execution_count": 23,
   "metadata": {},
   "outputs": [],
   "source": [
    "optimize_MMFF = MMFFOptimizeMolecule(rdmol,mmffVariant = 'MMFF94')"
   ]
  },
  {
   "cell_type": "code",
   "execution_count": 24,
   "metadata": {},
   "outputs": [],
   "source": [
    "optimized_conformer = Molecule.from_rdkit(rdmol)"
   ]
  },
  {
   "cell_type": "code",
   "execution_count": 25,
   "metadata": {},
   "outputs": [
    {
     "data": {
      "text/plain": [
       "10"
      ]
     },
     "execution_count": 25,
     "metadata": {},
     "output_type": "execute_result"
    }
   ],
   "source": [
    "optimized_conformer.n_conformers\n"
   ]
  },
  {
   "cell_type": "code",
   "execution_count": 26,
   "metadata": {},
   "outputs": [
    {
     "name": "stderr",
     "output_type": "stream",
     "text": [
      "usage: ase [-h] [--version] [-T]\n",
      "           {help,info,test,gui,db,run,band-structure,build,dimensionality,eos,ulm,find,nebplot,nomad-upload,nomad-get,convert,reciprocal,completion,diff,exec}\n",
      "           ...\n",
      "ase: error: TclError: couldn't connect to display \"10.3.80.12:12.0\"\n",
      "To get a full traceback, use: ase -T gui ...\n"
     ]
    },
    {
     "ename": "ModuleNotFoundError",
     "evalue": "No module named 'conformer_gen'",
     "output_type": "error",
     "traceback": [
      "\u001b[0;31m---------------------------------------------------------------------------\u001b[0m",
      "\u001b[0;31mModuleNotFoundError\u001b[0m                       Traceback (most recent call last)",
      "Cell \u001b[0;32mIn[26], line 7\u001b[0m\n\u001b[1;32m      5\u001b[0m \u001b[39mfrom\u001b[39;00m \u001b[39mqcelemental\u001b[39;00m\u001b[39m.\u001b[39;00m\u001b[39mmodels\u001b[39;00m\u001b[39m.\u001b[39;00m\u001b[39mprocedures\u001b[39;00m \u001b[39mimport\u001b[39;00m QCInputSpecification\n\u001b[1;32m      6\u001b[0m \u001b[39mfrom\u001b[39;00m \u001b[39mopenff\u001b[39;00m\u001b[39m.\u001b[39;00m\u001b[39mrecharge\u001b[39;00m\u001b[39m.\u001b[39;00m\u001b[39mutilities\u001b[39;00m\u001b[39m.\u001b[39;00m\u001b[39mmolecule\u001b[39;00m \u001b[39mimport\u001b[39;00m smiles_to_molecule\n\u001b[0;32m----> 7\u001b[0m \u001b[39mfrom\u001b[39;00m \u001b[39mconformer_gen\u001b[39;00m \u001b[39mimport\u001b[39;00m Conformers\n",
      "\u001b[0;31mModuleNotFoundError\u001b[0m: No module named 'conformer_gen'"
     ]
    }
   ],
   "source": [
    "from openff.toolkit import Molecule\n",
    "import qcengine\n",
    "from qcelemental.models import AtomicInput, OptimizationInput\n",
    "from qcelemental.models.common_models import Model\n",
    "from qcelemental.models.procedures import QCInputSpecification\n",
    "from openff.recharge.utilities.molecule import smiles_to_molecule\n",
    "from conformer_gen import Conformers\n"
   ]
  },
  {
   "cell_type": "code",
   "execution_count": null,
   "metadata": {},
   "outputs": [
    {
     "data": {
      "text/plain": [
       "10"
      ]
     },
     "execution_count": 27,
     "metadata": {},
     "output_type": "execute_result"
    }
   ],
   "source": [
    "# make a off toolkit molecule\n",
    "molecule = Molecule.from_smiles(\"OCC(O)CO\")\n",
    "# Define the grid that the electrostatic properties will be trained on and the\n",
    "# level of theory to compute the properties at.\n",
    "grid_settings = LatticeGridSettings(\n",
    "    type=\"fcc\", spacing=0.5, inner_vdw_scale=1.4, outer_vdw_scale=2.0\n",
    ")\n",
    "# Generating an MSK style grid is also supported:\n",
    "# from openff.recharge.grids import MSKGridSettings\n",
    "# grid_settings = MSKGridSettings(density=1.0)\n",
    "\n",
    "esp_settings = ESPSettings(basis=\"6-31G*\", method=\"hf\", grid_settings=grid_settings)\n",
    "\n",
    "# Generate a set of conformers for the molecule. We will compute the ESP and\n",
    "# electric field for the molecule in each conformer.\n",
    "#conformers = ConformerGenerator.generate(\n",
    "#    molecule, ConformerSettings(max_conformers=10)\n",
    "#)\n",
    "conformers = Conformers.generate(molecule, generation_type='rdkit')\n",
    "molecule.n_conformers"
   ]
  },
  {
   "cell_type": "code",
   "execution_count": null,
   "metadata": {},
   "outputs": [
    {
     "data": {
      "text/plain": [
       "{'schema_name': 'qcschema_molecule',\n",
       " 'schema_version': 2,\n",
       " 'validated': True,\n",
       " 'symbols': array(['O', 'C', 'C', 'O', 'C', 'O', 'H', 'H', 'H', 'H', 'H', 'H', 'H',\n",
       "        'H'], dtype='<U1'),\n",
       " 'geometry': array([[-0.68254025, -0.01523605,  0.04059765],\n",
       "        [ 1.79967305,  1.01754748, -0.06152045],\n",
       "        [ 2.16180939,  2.33021103, -2.59720876],\n",
       "        [ 4.66210124,  3.35103364, -2.65780469],\n",
       "        [ 1.86243859,  0.48621643, -4.79015177],\n",
       "        [ 2.21304569,  1.77853108, -7.12392053],\n",
       "        [-1.8578508 ,  1.38506063, -0.14649441],\n",
       "        [ 1.99811416,  2.35110036,  1.50832749],\n",
       "        [ 3.14839277, -0.53280067,  0.17382236],\n",
       "        [ 0.86018686,  3.93031391, -2.78163293],\n",
       "        [ 4.76914011,  4.53142043, -1.26311106],\n",
       "        [-0.01865972, -0.37318113, -4.81078091],\n",
       "        [ 3.28177168, -1.01578607, -4.70018228],\n",
       "        [ 2.00477277,  0.53080808, -8.45089781]]),\n",
       " 'name': 'C3H8O3',\n",
       " 'molecular_charge': 0.0,\n",
       " 'molecular_multiplicity': 1,\n",
       " 'connectivity': [(0, 1, 1.0),\n",
       "  (0, 6, 1.0),\n",
       "  (1, 2, 1.0),\n",
       "  (1, 7, 1.0),\n",
       "  (1, 8, 1.0),\n",
       "  (2, 3, 1.0),\n",
       "  (2, 4, 1.0),\n",
       "  (2, 9, 1.0),\n",
       "  (3, 10, 1.0),\n",
       "  (4, 5, 1.0),\n",
       "  (4, 11, 1.0),\n",
       "  (4, 12, 1.0),\n",
       "  (5, 13, 1.0)],\n",
       " 'fix_com': False,\n",
       " 'fix_orientation': False,\n",
       " 'provenance': {'creator': 'QCElemental',\n",
       "  'version': '0.26.0',\n",
       "  'routine': 'qcelemental.molparse.from_schema'},\n",
       " 'extras': {'canonical_isomeric_explicit_hydrogen_mapped_smiles': '[H:8][C:2]([H:9])([C:3]([H:10])([C:5]([H:12])([H:13])[O:6][H:14])[O:4][H:11])[O:1][H:7]'}}"
      ]
     },
     "execution_count": 28,
     "metadata": {},
     "output_type": "execute_result"
    }
   ],
   "source": [
    "qcel_mol = molecule.to_qcschema(conformer = 9)\n",
    "qcel_mol.dict()\n"
   ]
  },
  {
   "cell_type": "code",
   "execution_count": null,
   "metadata": {},
   "outputs": [
    {
     "data": {
      "text/plain": [
       "AtomicInput(driver='energy', model={'method': 'gfn2-xtb', 'basis': None}, molecule_hash='f8a7a08')"
      ]
     },
     "execution_count": 29,
     "metadata": {},
     "output_type": "execute_result"
    }
   ],
   "source": [
    "xtb_model = Model(method=\"gfn2-xtb\", basis=None)\n",
    "qc_task = AtomicInput(molecule=qcel_mol, driver=\"energy\", model=xtb_model)\n",
    "qc_task\n"
   ]
  },
  {
   "cell_type": "code",
   "execution_count": null,
   "metadata": {},
   "outputs": [
    {
     "data": {
      "text/plain": [
       "{'id': None,\n",
       " 'schema_name': 'qcschema_output',\n",
       " 'schema_version': 1,\n",
       " 'molecule': {'schema_name': 'qcschema_molecule',\n",
       "  'schema_version': 2,\n",
       "  'validated': True,\n",
       "  'symbols': array(['O', 'C', 'C', 'O', 'C', 'O', 'H', 'H', 'H', 'H', 'H', 'H', 'H',\n",
       "         'H'], dtype='<U1'),\n",
       "  'geometry': array([[-0.68254025, -0.01523605,  0.04059765],\n",
       "         [ 1.79967305,  1.01754748, -0.06152045],\n",
       "         [ 2.16180939,  2.33021103, -2.59720876],\n",
       "         [ 4.66210124,  3.35103364, -2.65780469],\n",
       "         [ 1.86243859,  0.48621643, -4.79015177],\n",
       "         [ 2.21304569,  1.77853108, -7.12392053],\n",
       "         [-1.8578508 ,  1.38506063, -0.14649441],\n",
       "         [ 1.99811416,  2.35110036,  1.50832749],\n",
       "         [ 3.14839277, -0.53280067,  0.17382236],\n",
       "         [ 0.86018686,  3.93031391, -2.78163293],\n",
       "         [ 4.76914011,  4.53142043, -1.26311106],\n",
       "         [-0.01865972, -0.37318113, -4.81078091],\n",
       "         [ 3.28177168, -1.01578607, -4.70018228],\n",
       "         [ 2.00477277,  0.53080808, -8.45089781]]),\n",
       "  'name': 'C3H8O3',\n",
       "  'molecular_charge': 0.0,\n",
       "  'molecular_multiplicity': 1,\n",
       "  'connectivity': [(0, 1, 1.0),\n",
       "   (0, 6, 1.0),\n",
       "   (1, 2, 1.0),\n",
       "   (1, 7, 1.0),\n",
       "   (1, 8, 1.0),\n",
       "   (2, 3, 1.0),\n",
       "   (2, 4, 1.0),\n",
       "   (2, 9, 1.0),\n",
       "   (3, 10, 1.0),\n",
       "   (4, 5, 1.0),\n",
       "   (4, 11, 1.0),\n",
       "   (4, 12, 1.0),\n",
       "   (5, 13, 1.0)],\n",
       "  'fix_com': False,\n",
       "  'fix_orientation': False,\n",
       "  'provenance': {'creator': 'QCElemental',\n",
       "   'version': '0.26.0',\n",
       "   'routine': 'qcelemental.molparse.from_schema'},\n",
       "  'extras': {'canonical_isomeric_explicit_hydrogen_mapped_smiles': '[H:8][C:2]([H:9])([C:3]([H:10])([C:5]([H:12])([H:13])[O:6][H:14])[O:4][H:11])[O:1][H:7]'}},\n",
       " 'driver': <DriverEnum.energy: 'energy'>,\n",
       " 'model': {'method': 'gfn2-xtb', 'basis': None},\n",
       " 'keywords': {},\n",
       " 'protocols': {},\n",
       " 'extras': {'xtb': {'return_gradient': array([[-0.0018963910972346, -0.003301485320245 , -0.0033750366450039],\n",
       "          [ 0.021031713894384 ,  0.0074408853548419, -0.0006995186683829],\n",
       "          [-0.0235222385302008, -0.0072879955388666,  0.0010424005224073],\n",
       "          [ 0.005533931051479 ,  0.0007486049496766, -0.0025477430746682],\n",
       "          [-0.0029923831206225, -0.0024808951797809,  0.0157602225922016],\n",
       "          [ 0.004741660518685 ,  0.0038812249691342, -0.000265694856337 ],\n",
       "          [-0.0032805352300888,  0.0070205090346746, -0.0005762411160948],\n",
       "          [-0.0052882392891375, -0.0025593123615421, -0.0006298065116334],\n",
       "          [ 0.0036786811959477, -0.0011440644043024,  0.0011476227354869],\n",
       "          [ 0.0067562832235308,  0.0020370750171207,  0.0032953989214704],\n",
       "          [-0.0032520558640463,  0.0019865368378746,  0.0048710689743867],\n",
       "          [ 0.0020796751403405, -0.0001379971774347, -0.0073072858725121],\n",
       "          [-0.0015154638297303,  0.0002354459820151, -0.007559724869967 ],\n",
       "          [-0.0020746380633063, -0.0064385321631661, -0.0031556621313536]]),\n",
       "   'mulliken_charges': array([-0.4446957241984152,  0.0591568220880915,  0.104713360988166 ,\n",
       "          -0.4362625179145582,  0.0811886742620423, -0.4358011660266211,\n",
       "           0.291004155974776 ,  0.0274992851062993,  0.0655576763018972,\n",
       "           0.0321603947138976,  0.2876060846325054,  0.0352082035972767,\n",
       "           0.0420500470919093,  0.2906147033827375]),\n",
       "   'mayer_indices': array([[ 0.0000000000000000e+00,  9.9534430074771929e-01,\n",
       "            2.0093084155244859e-02,  1.3145201448055815e-02,\n",
       "            1.5042095828413937e-03,  1.2232925486761913e-04,\n",
       "            9.0130064721137226e-01,  1.4124591920920327e-02,\n",
       "            2.2712145231291491e-03,  7.9259923634353378e-04,\n",
       "            1.3176227958864380e-04,  8.4243798610670532e-04,\n",
       "            6.5190969390053829e-05,  4.7145139140816907e-05],\n",
       "          [ 9.9534430074771929e-01,  0.0000000000000000e+00,\n",
       "            9.8233163533124412e-01,  2.0590086664960424e-02,\n",
       "            2.6424394486822254e-03,  9.3240714926959324e-03,\n",
       "            1.7642153143129195e-05,  9.7091746339020046e-01,\n",
       "            9.7084800923426506e-01,  7.7435042238702188e-04,\n",
       "            1.0381202131076205e-03,  4.1724339880262827e-04,\n",
       "            4.5490192461219731e-04,  1.0487581442233790e-03],\n",
       "          [ 2.0093084155244859e-02,  9.8233163533124412e-01,\n",
       "            0.0000000000000000e+00,  9.8413806178332341e-01,\n",
       "            9.9456596730151225e-01,  5.3510818217615769e-03,\n",
       "            1.0417692636680190e-03,  6.3550490908096139e-04,\n",
       "            2.9442956669785544e-04,  9.6107896736362930e-01,\n",
       "            3.7914587676437519e-06,  1.1437856745096233e-03,\n",
       "            4.7225932296266870e-04,  9.8527377823719939e-03],\n",
       "          [ 1.3145201448055815e-02,  2.0590086664960424e-02,\n",
       "            9.8413806178332341e-01,  0.0000000000000000e+00,\n",
       "            5.1539063035053812e-03,  8.6401245044858473e-04,\n",
       "            7.3485855954264151e-05,  8.7443063619861868e-04,\n",
       "            5.6752879630028394e-04,  1.2887438809466851e-02,\n",
       "            9.0247987726931078e-01,  9.7363363471307755e-03,\n",
       "            1.3222768125019627e-03,  8.2023647615953334e-05],\n",
       "          [ 1.5042095828413937e-03,  2.6424394486822254e-03,\n",
       "            9.9456596730151225e-01,  5.1539063035053812e-03,\n",
       "            0.0000000000000000e+00,  9.9474241551898834e-01,\n",
       "            5.1729534231524292e-05,  9.3530036247792651e-03,\n",
       "            6.4385083343798688e-04,  4.4800509243262928e-04,\n",
       "            1.0708631231574927e-02,  9.7062209534538435e-01,\n",
       "            9.7113554993021234e-01,  2.9971039389532685e-04],\n",
       "          [ 1.2232925486761913e-04,  9.3240714926959324e-03,\n",
       "            5.3510818217615769e-03,  8.6401245044858473e-04,\n",
       "            9.9474241551898834e-01,  0.0000000000000000e+00,\n",
       "            6.5232846444670311e-05,  9.3758529756485644e-04,\n",
       "            1.4010070366687613e-05,  1.0035885373430305e-03,\n",
       "            5.9496236583102597e-05,  1.4340399176078067e-02,\n",
       "            1.3996825971329129e-02,  9.0357123538790884e-01],\n",
       "          [ 9.0130064721137226e-01,  1.7642153143129195e-05,\n",
       "            1.0417692636680190e-03,  7.3485855954264151e-05,\n",
       "            5.1729534231524292e-05,  6.5232846444670311e-05,\n",
       "            0.0000000000000000e+00,  1.5817114309028355e-04,\n",
       "            1.0759059924296772e-02,  1.6655572218264390e-03,\n",
       "           -1.8741775377830532e-07,  1.7092455281793355e-04,\n",
       "            1.1102953790502878e-05,  3.4085326501339724e-06],\n",
       "          [ 1.4124591920920327e-02,  9.7091746339020046e-01,\n",
       "            6.3550490908096139e-04,  8.7443063619861868e-04,\n",
       "            9.3530036247792651e-03,  9.3758529756485644e-04,\n",
       "            1.5817114309028355e-04,  0.0000000000000000e+00,\n",
       "            1.0671639669047230e-05,  2.7450511914743582e-04,\n",
       "            1.5941346446510473e-03,  5.9489118679299778e-05,\n",
       "            7.9506636467878232e-06,  0.0000000000000000e+00],\n",
       "          [ 2.2712145231291491e-03,  9.7084800923426506e-01,\n",
       "            2.9442956669785544e-04,  5.6752879630028394e-04,\n",
       "            6.4385083343798688e-04,  1.4010070366687613e-05,\n",
       "            1.0759059924296772e-02,  1.0671639669047230e-05,\n",
       "            0.0000000000000000e+00,  9.7059595923930566e-03,\n",
       "            1.9675916693675124e-05,  6.1938439294373573e-06,\n",
       "            5.6039711383444428e-04,  3.5871117035556037e-07],\n",
       "          [ 7.9259923634353378e-04,  7.7435042238702188e-04,\n",
       "            9.6107896736362930e-01,  1.2887438809466851e-02,\n",
       "            4.4800509243262928e-04,  1.0035885373430305e-03,\n",
       "            1.6655572218264390e-03,  2.7450511914743582e-04,\n",
       "            9.7059595923930566e-03,  0.0000000000000000e+00,\n",
       "            6.9272457854182814e-05,  2.0050532818372598e-04,\n",
       "            1.0005281722086862e-02,  5.9415876676653147e-05],\n",
       "          [ 1.3176227958864380e-04,  1.0381202131076205e-03,\n",
       "            3.7914587676437519e-06,  9.0247987726931078e-01,\n",
       "            1.0708631231574927e-02,  5.9496236583102597e-05,\n",
       "           -1.8741775377830532e-07,  1.5941346446510473e-03,\n",
       "            1.9675916693675124e-05,  6.9272457854182814e-05,\n",
       "            0.0000000000000000e+00,  1.0501114909871312e-03,\n",
       "            9.9604821821306933e-05,  3.1600238748878363e-05],\n",
       "          [ 8.4243798610670532e-04,  4.1724339880262827e-04,\n",
       "            1.1437856745096233e-03,  9.7363363471307755e-03,\n",
       "            9.7062209534538435e-01,  1.4340399176078067e-02,\n",
       "            1.7092455281793355e-04,  5.9489118679299778e-05,\n",
       "            6.1938439294373573e-06,  2.0050532818372598e-04,\n",
       "            1.0501114909871312e-03,  0.0000000000000000e+00,\n",
       "            8.6378801362268039e-06,  1.6183971218489330e-04],\n",
       "          [ 6.5190969390053829e-05,  4.5490192461219731e-04,\n",
       "            4.7225932296266870e-04,  1.3222768125019627e-03,\n",
       "            9.7113554993021234e-01,  1.3996825971329129e-02,\n",
       "            1.1102953790502878e-05,  7.9506636467878232e-06,\n",
       "            5.6039711383444428e-04,  1.0005281722086862e-02,\n",
       "            9.9604821821306933e-05,  8.6378801362268039e-06,\n",
       "            0.0000000000000000e+00,  9.1366082897831333e-05],\n",
       "          [ 4.7145139140816907e-05,  1.0487581442233790e-03,\n",
       "            9.8527377823719939e-03,  8.2023647615953334e-05,\n",
       "            2.9971039389532685e-04,  9.0357123538790884e-01,\n",
       "            3.4085326501339724e-06,  0.0000000000000000e+00,\n",
       "            3.5871117035556037e-07,  5.9415876676653147e-05,\n",
       "            3.1600238748878363e-05,  1.6183971218489330e-04,\n",
       "            9.1366082897831333e-05,  0.0000000000000000e+00]])}},\n",
       " 'provenance': {'creator': 'xtb',\n",
       "  'version': '1.0.0',\n",
       "  'routine': 'xtb.qcschema.run_qcschema',\n",
       "  'username': 'nca121',\n",
       "  'hostname': 'login02.cluster',\n",
       "  'wall_time': 0.35698795318603516,\n",
       "  'qcengine_version': 'v0.27.0',\n",
       "  'cpu': 'Intel(R) Xeon(R) CPU E5-2658 v4 @ 2.30GHz'},\n",
       " 'properties': {'return_energy': -22.665455172050088,\n",
       "  'scf_dipole_moment': array([-0.5439373390502689,  0.1629120510573797,  0.4470619611227549])},\n",
       " 'wavefunction': None,\n",
       " 'return_result': -22.665455172050088,\n",
       " 'stdout': '\\n          ...................................................\\n          :                      SETUP                      :\\n          :.................................................:\\n          :  # basis functions                  32          :\\n          :  # atomic orbitals                  32          :\\n          :  # shells                           20          :\\n          :  # electrons                        38          :\\n          :  max. iterations                   250          :\\n          :  Hamiltonian                  GFN2-xTB          :\\n          :  restarted?                       true          :\\n          :  GBSA solvation                  false          :\\n          :  PC potential                    false          :\\n          :  electronic temp.          300.0000000     K    :\\n          :  accuracy                    1.0000000          :\\n          :  -> integral cutoff          0.2500000E+02      :\\n          :  -> integral neglect         0.1000000E-07      :\\n          :  -> SCF convergence          0.1000000E-05 Eh   :\\n          :  -> wf. convergence          0.1000000E-03 e    :\\n          :  Broyden damping             0.4000000          :\\n          ...................................................\\n\\n iter      E             dE          RMSdq      gap      omega  full diag\\n   1    -22.8133457 -0.228133E+02  0.458E+00   10.86       0.0  T\\n   2    -22.8377585 -0.244128E-01  0.245E+00   10.56       1.0  T\\n   3    -22.8386850 -0.926499E-03  0.725E-01   10.62       1.0  T\\n   4    -22.8389231 -0.238016E-03  0.145E-01   10.61       1.0  T\\n   5    -22.8389463 -0.232533E-04  0.444E-02   10.64       1.0  T\\n   6    -22.8389521 -0.580685E-05  0.213E-02   10.64       1.3  T\\n   7    -22.8389526 -0.519104E-06  0.506E-03   10.63       5.3  T\\n   8    -22.8389527 -0.986121E-07  0.181E-03   10.64      14.8  T\\n   9    -22.8389527 -0.193544E-08  0.341E-04   10.64      78.3  T\\n  10    -22.8389527 -0.191410E-09  0.196E-04   10.64     136.3  T\\n\\n   *** convergence criteria satisfied after 10 iterations ***\\n\\n         #    Occupation            Energy/Eh            Energy/eV\\n      -------------------------------------------------------------\\n         1        2.0000           -0.7007070             -19.0672\\n       ...           ...                  ...                  ...\\n        13        2.0000           -0.5067506             -13.7894\\n        14        2.0000           -0.4861520             -13.2289\\n        15        2.0000           -0.4740184             -12.8987\\n        16        2.0000           -0.4628532             -12.5949\\n        17        2.0000           -0.4338128             -11.8046\\n        18        2.0000           -0.4148101             -11.2876\\n        19        2.0000           -0.4093220             -11.1382 (HOMO)\\n        20                         -0.0184513              -0.5021 (LUMO)\\n        21                          0.0317184               0.8631\\n        22                          0.0573325               1.5601\\n        23                          0.0961180               2.6155\\n        24                          0.1156767               3.1477\\n       ...                                ...                  ...\\n        32                          0.2681256               7.2961\\n      -------------------------------------------------------------\\n                  HL-Gap            0.3908707 Eh           10.6361 eV\\n             Fermi-level           -0.2138867 Eh           -5.8202 eV\\n\\n SCC (total)                   0 d,  0 h,  0 min,  0.034 sec\\n SCC setup                      ...        0 min,  0.000 sec (  0.983%)\\n Dispersion                     ...        0 min,  0.000 sec (  0.635%)\\n classical contributions        ...        0 min,  0.000 sec (  0.349%)\\n integral evaluation            ...        0 min,  0.001 sec (  2.130%)\\n iterations                     ...        0 min,  0.030 sec ( 90.467%)\\n molecular gradient             ...        0 min,  0.002 sec (  4.579%)\\n printout                       ...        0 min,  0.000 sec (  0.497%)\\n\\n         :::::::::::::::::::::::::::::::::::::::::::::::::::::\\n',\n",
       " 'stderr': None,\n",
       " 'native_files': {},\n",
       " 'success': True,\n",
       " 'error': None}"
      ]
     },
     "execution_count": 30,
     "metadata": {},
     "output_type": "execute_result"
    }
   ],
   "source": [
    "result = qcengine.compute(input_data=qc_task, program=\"xtb\")\n",
    "result.dict()\n"
   ]
  },
  {
   "cell_type": "code",
   "execution_count": null,
   "metadata": {},
   "outputs": [
    {
     "data": {
      "text/plain": [
       "OptimizationInput(model={'method': 'gfn2-xtb', 'basis': None}, molecule_hash='f8a7a08')"
      ]
     },
     "execution_count": 31,
     "metadata": {},
     "output_type": "execute_result"
    }
   ],
   "source": [
    "# now perform an optimization using geometric\n",
    "# make sure to change the model and program here\n",
    "geometric_input = OptimizationInput(initial_molecule=qcel_mol, input_specification=QCInputSpecification(model=xtb_model), keywords={\"coordsys\": \"tric\", \"maxiter\": 300, \"program\": \"xtb\"})\n",
    "geometric_input"
   ]
  },
  {
   "cell_type": "code",
   "execution_count": null,
   "metadata": {},
   "outputs": [],
   "source": [
    "opt_result = qcengine.compute_procedure(input_data=geometric_input, procedure=\"geometric\")\n"
   ]
  },
  {
   "cell_type": "code",
   "execution_count": null,
   "metadata": {},
   "outputs": [
    {
     "data": {
      "application/vnd.jupyter.widget-view+json": {
       "model_id": "f85387078f6946eb9d75867ef3d85ad4",
       "version_major": 2,
       "version_minor": 0
      },
      "text/plain": []
     },
     "metadata": {},
     "output_type": "display_data"
    },
    {
     "data": {
      "application/vnd.jupyter.widget-view+json": {
       "model_id": "cfc6e0054a38452dbb28806d8ed6e722",
       "version_major": 2,
       "version_minor": 0
      },
      "text/plain": [
       "NGLWidget()"
      ]
     },
     "metadata": {},
     "output_type": "display_data"
    }
   ],
   "source": [
    "opt_result.initial_molecule"
   ]
  },
  {
   "cell_type": "code",
   "execution_count": null,
   "metadata": {},
   "outputs": [
    {
     "data": {
      "application/vnd.jupyter.widget-view+json": {
       "model_id": "954ff8d0233246acb28ec69c165e3a30",
       "version_major": 2,
       "version_minor": 0
      },
      "text/plain": [
       "NGLWidget()"
      ]
     },
     "metadata": {},
     "output_type": "display_data"
    }
   ],
   "source": [
    "opt_result.final_molecule"
   ]
  },
  {
   "cell_type": "code",
   "execution_count": null,
   "metadata": {},
   "outputs": [
    {
     "data": {
      "text/plain": [
       "[AtomicResult(driver='gradient', model={'method': 'gfn2-xtb', 'basis': None}, molecule_hash='f8a7a08'),\n",
       " AtomicResult(driver='gradient', model={'method': 'gfn2-xtb', 'basis': None}, molecule_hash='604ca64'),\n",
       " AtomicResult(driver='gradient', model={'method': 'gfn2-xtb', 'basis': None}, molecule_hash='e464bfd'),\n",
       " AtomicResult(driver='gradient', model={'method': 'gfn2-xtb', 'basis': None}, molecule_hash='ea08e05'),\n",
       " AtomicResult(driver='gradient', model={'method': 'gfn2-xtb', 'basis': None}, molecule_hash='84fa647'),\n",
       " AtomicResult(driver='gradient', model={'method': 'gfn2-xtb', 'basis': None}, molecule_hash='07f8e2c'),\n",
       " AtomicResult(driver='gradient', model={'method': 'gfn2-xtb', 'basis': None}, molecule_hash='bb578ff'),\n",
       " AtomicResult(driver='gradient', model={'method': 'gfn2-xtb', 'basis': None}, molecule_hash='cff644b'),\n",
       " AtomicResult(driver='gradient', model={'method': 'gfn2-xtb', 'basis': None}, molecule_hash='b6cf68e'),\n",
       " AtomicResult(driver='gradient', model={'method': 'gfn2-xtb', 'basis': None}, molecule_hash='6f8342a'),\n",
       " AtomicResult(driver='gradient', model={'method': 'gfn2-xtb', 'basis': None}, molecule_hash='bcabc3e'),\n",
       " AtomicResult(driver='gradient', model={'method': 'gfn2-xtb', 'basis': None}, molecule_hash='5ff46ef'),\n",
       " AtomicResult(driver='gradient', model={'method': 'gfn2-xtb', 'basis': None}, molecule_hash='9f1c7dd'),\n",
       " AtomicResult(driver='gradient', model={'method': 'gfn2-xtb', 'basis': None}, molecule_hash='67221b9'),\n",
       " AtomicResult(driver='gradient', model={'method': 'gfn2-xtb', 'basis': None}, molecule_hash='8f90459'),\n",
       " AtomicResult(driver='gradient', model={'method': 'gfn2-xtb', 'basis': None}, molecule_hash='a67eada'),\n",
       " AtomicResult(driver='gradient', model={'method': 'gfn2-xtb', 'basis': None}, molecule_hash='3f945af'),\n",
       " AtomicResult(driver='gradient', model={'method': 'gfn2-xtb', 'basis': None}, molecule_hash='63e46a7'),\n",
       " AtomicResult(driver='gradient', model={'method': 'gfn2-xtb', 'basis': None}, molecule_hash='d7a497c'),\n",
       " AtomicResult(driver='gradient', model={'method': 'gfn2-xtb', 'basis': None}, molecule_hash='274f9fa')]"
      ]
     },
     "execution_count": 35,
     "metadata": {},
     "output_type": "execute_result"
    }
   ],
   "source": [
    "opt_result.trajectory"
   ]
  },
  {
   "cell_type": "code",
   "execution_count": null,
   "metadata": {},
   "outputs": [
    {
     "data": {
      "application/vnd.jupyter.widget-view+json": {
       "model_id": "bf0786c4f2a24eed9cea6cfd919032e9",
       "version_major": 2,
       "version_minor": 0
      },
      "text/plain": [
       "NGLWidget()"
      ]
     },
     "metadata": {},
     "output_type": "display_data"
    }
   ],
   "source": [
    "qcel_mol"
   ]
  },
  {
   "cell_type": "code",
   "execution_count": null,
   "metadata": {},
   "outputs": [
    {
     "data": {
      "text/plain": [
       "{'schema_name': 'qcschema_molecule',\n",
       " 'schema_version': 2,\n",
       " 'validated': True,\n",
       " 'symbols': array(['O', 'C', 'C', 'O', 'C', 'O', 'H', 'H', 'H', 'H', 'H', 'H', 'H',\n",
       "        'H'], dtype='<U1'),\n",
       " 'geometry': array([[-0.9189487935123769,  0.1565045522753112, -0.1284278242342739],\n",
       "        [ 1.568705985128284 ,  1.0672785945918142, -0.0635727388756277],\n",
       "        [ 2.3931424378368202,  2.2942444834530566, -2.571126565539323 ],\n",
       "        [ 4.934320564733535 ,  3.0803552511810572, -2.438556976359111 ],\n",
       "        [ 2.1356084997255707,  0.4456702699927401, -4.7834450061300675],\n",
       "        [ 1.1733144276833802,  1.7717109885122937, -6.887045988130065 ],\n",
       "        [-2.026968724972794 ,  1.5000210009196244, -0.6662112279139575],\n",
       "        [ 1.8105065626598256,  2.4469685980066127,  1.4778104267920942],\n",
       "        [ 2.7707952038907586, -0.5651055211990532,  0.3281384712479404],\n",
       "        [ 1.1503908778435343,  3.9154096454595733, -2.983026004467564 ],\n",
       "        [ 5.103065732234562 ,  4.376249664275655 , -1.171089536061579 ],\n",
       "        [ 0.8445248943170169, -1.0890030921324543, -4.2463434134772395],\n",
       "        [ 4.010955857361797 , -0.3390605462694112, -5.1784958989097865],\n",
       "        [ 1.252982015069798 ,  0.6939952609330315, -8.34956581794156  ]]),\n",
       " 'name': 'C3H8O3',\n",
       " 'molecular_charge': 0.0,\n",
       " 'molecular_multiplicity': 1,\n",
       " 'connectivity': [(0, 1, 1.0),\n",
       "  (0, 6, 1.0),\n",
       "  (1, 2, 1.0),\n",
       "  (1, 7, 1.0),\n",
       "  (1, 8, 1.0),\n",
       "  (2, 3, 1.0),\n",
       "  (2, 4, 1.0),\n",
       "  (2, 9, 1.0),\n",
       "  (3, 10, 1.0),\n",
       "  (4, 5, 1.0),\n",
       "  (4, 11, 1.0),\n",
       "  (4, 12, 1.0),\n",
       "  (5, 13, 1.0)],\n",
       " 'fix_com': True,\n",
       " 'fix_orientation': True,\n",
       " 'provenance': {'creator': 'QCElemental',\n",
       "  'version': '0.26.0',\n",
       "  'routine': 'qcelemental.molparse.from_schema'},\n",
       " 'extras': {'canonical_isomeric_explicit_hydrogen_mapped_smiles': '[H:8][C:2]([H:9])([C:3]([H:10])([C:5]([H:12])([H:13])[O:6][H:14])[O:4][H:11])[O:1][H:7]'}}"
      ]
     },
     "execution_count": 39,
     "metadata": {},
     "output_type": "execute_result"
    }
   ],
   "source": [
    "ff_optimised_mol = opt_result.final_molecule\n",
    "ff_optimised_mol.dict()"
   ]
  },
  {
   "cell_type": "code",
   "execution_count": null,
   "metadata": {},
   "outputs": [],
   "source": [
    "psi4_model = Model(method=\"HF\", basis=\"6-31G*\")\n"
   ]
  },
  {
   "cell_type": "code",
   "execution_count": null,
   "metadata": {},
   "outputs": [],
   "source": [
    "qc_task = AtomicInput(molecule=ff_optimised_mol, driver=\"energy\", model=xtb_model)\n"
   ]
  },
  {
   "cell_type": "code",
   "execution_count": null,
   "metadata": {},
   "outputs": [],
   "source": []
  },
  {
   "cell_type": "code",
   "execution_count": null,
   "metadata": {},
   "outputs": [],
   "source": [
    "qcel_mol = molecule.to_qcschema(conformer = 9)\n",
    "\n",
    "opt_input = {\n",
    "    \"keywords\": {\n",
    "        \"program\": \"xtb\"\n",
    "    },\n",
    "    \"input_specification\": {\n",
    "        \"driver\": \"gradient\",\n",
    "        \"model\": {\"method\": \"gfn2-xtb\"},\n",
    "    },\n",
    "    \"initial_molecule\": qcel_mol\n",
    "}\n",
    "\n",
    "opt = qcengine.compute_procedure(opt_input, \"geometric\")"
   ]
  },
  {
   "cell_type": "code",
   "execution_count": null,
   "metadata": {},
   "outputs": [],
   "source": [
    "ff_optimised_mol_2 = opt.final_molecule"
   ]
  },
  {
   "cell_type": "code",
   "execution_count": null,
   "metadata": {},
   "outputs": [
    {
     "data": {
      "text/plain": [
       "{'schema_name': 'qcschema_molecule',\n",
       " 'schema_version': 2,\n",
       " 'validated': True,\n",
       " 'symbols': array(['O', 'C', 'C', 'O', 'C', 'O', 'H', 'H', 'H', 'H', 'H', 'H', 'H',\n",
       "        'H'], dtype='<U1'),\n",
       " 'geometry': array([[-0.9189487935123809,  0.1565045522755265, -0.1284278242339979],\n",
       "        [ 1.5687059851283514,  1.0672785945918508, -0.0635727388755923],\n",
       "        [ 2.393142437836719 ,  2.2942444834530655, -2.571126565539358 ],\n",
       "        [ 4.934320564733405 ,  3.080355251181167 , -2.4385569763592847],\n",
       "        [ 2.1356084997254436,  0.4456702699926566, -4.783445006130014 ],\n",
       "        [ 1.1733144276839735,  1.7717109885122866, -6.887045988130283 ],\n",
       "        [-2.0269687249727597,  1.5000210009199237, -0.6662112279135486],\n",
       "        [ 1.81050656266015  ,  2.4469685980066096,  1.4778104267921233],\n",
       "        [ 2.7707952038907497, -0.5651055211991046,  0.3281384712478351],\n",
       "        [ 1.1503908778433485,  3.91540964545952  , -2.9830260044675905],\n",
       "        [ 5.103065732234388 ,  4.37624966427596  , -1.1710895360619464],\n",
       "        [ 0.8445248943164125, -1.0890030921321796, -4.246343413477299 ],\n",
       "        [ 4.010955857361552 , -0.3390605462699862, -5.178495898909314 ],\n",
       "        [ 1.2529820150705238,  0.6939952609329474, -8.349565817941713 ]]),\n",
       " 'name': 'C3H8O3',\n",
       " 'molecular_charge': 0.0,\n",
       " 'molecular_multiplicity': 1,\n",
       " 'connectivity': [(0, 1, 1.0),\n",
       "  (0, 6, 1.0),\n",
       "  (1, 2, 1.0),\n",
       "  (1, 7, 1.0),\n",
       "  (1, 8, 1.0),\n",
       "  (2, 3, 1.0),\n",
       "  (2, 4, 1.0),\n",
       "  (2, 9, 1.0),\n",
       "  (3, 10, 1.0),\n",
       "  (4, 5, 1.0),\n",
       "  (4, 11, 1.0),\n",
       "  (4, 12, 1.0),\n",
       "  (5, 13, 1.0)],\n",
       " 'fix_com': True,\n",
       " 'fix_orientation': True,\n",
       " 'provenance': {'creator': 'QCElemental',\n",
       "  'version': '0.26.0',\n",
       "  'routine': 'qcelemental.molparse.from_schema'},\n",
       " 'extras': {'canonical_isomeric_explicit_hydrogen_mapped_smiles': '[H:8][C:2]([H:9])([C:3]([H:10])([C:5]([H:12])([H:13])[O:6][H:14])[O:4][H:11])[O:1][H:7]'}}"
      ]
     },
     "execution_count": 46,
     "metadata": {},
     "output_type": "execute_result"
    }
   ],
   "source": [
    "ff_optimised_mol_2.dict()"
   ]
  },
  {
   "cell_type": "code",
   "execution_count": null,
   "metadata": {},
   "outputs": [
    {
     "data": {
      "text/plain": [
       "array([[ 3.9968028886505635e-15, -2.1527224447481785e-13,\n",
       "        -2.7600144392181392e-13],\n",
       "       [-6.7279515292284486e-14, -3.6637359812630166e-14,\n",
       "        -3.5374481122119050e-14],\n",
       "       [ 1.0125233984581428e-13, -8.8817841970012523e-15,\n",
       "         3.5083047578154947e-14],\n",
       "       [ 1.2967404927621828e-13, -1.0969003483296547e-13,\n",
       "         1.7363888105137448e-13],\n",
       "       [ 1.2700951401711791e-13,  8.3488771451811772e-14,\n",
       "        -5.3290705182007514e-14],\n",
       "       [-5.9330318435968366e-13,  7.1054273576010019e-15,\n",
       "         2.1760371282653068e-13],\n",
       "       [-3.4194869158454821e-14, -2.9931612743894220e-13,\n",
       "        -4.0889513996944515e-13],\n",
       "       [-3.2440716779547074e-13,  3.1086244689504383e-15,\n",
       "        -2.9087843245179101e-14],\n",
       "       [ 8.8817841970012523e-15,  5.1403326040144748e-14,\n",
       "         1.0530465388569610e-13],\n",
       "       [ 1.8585133432225120e-13,  5.3290705182007514e-14,\n",
       "         2.6645352591003757e-14],\n",
       "       [ 1.7408297026122455e-13, -3.0464519795714295e-13,\n",
       "         3.6748382115092681e-13],\n",
       "       [ 6.0440541460593522e-13, -2.7466917629226373e-13,\n",
       "         5.9507954119908391e-14],\n",
       "       [ 2.4513724383723456e-13,  5.7492899330213731e-13,\n",
       "        -4.7251091928046662e-13],\n",
       "       [-7.2586381349992735e-13,  8.4154905266586866e-14,\n",
       "         1.5276668818842154e-13]])"
      ]
     },
     "execution_count": 50,
     "metadata": {},
     "output_type": "execute_result"
    }
   ],
   "source": [
    "ff_optimised_mol.dict()['geometry'] -  ff_optimised_mol_2.dict()['geometry']"
   ]
  },
  {
   "cell_type": "code",
   "execution_count": null,
   "metadata": {},
   "outputs": [],
   "source": [
    "opt_input = {\n",
    "    \"keywords\": {\n",
    "        \"program\": \"psi4\"\n",
    "    },\n",
    "    \"input_specification\": {\n",
    "        \"driver\": \"gradient\",\n",
    "        \"model\": {\"method\": \"hf\", \"basis\": \"6-31g\"},\n",
    "    },\n",
    "    \"initial_molecule\": qcel_mol\n",
    "}\n",
    "\n",
    "opt = qcengine.compute_procedure(opt_input, \"geometric\")"
   ]
  },
  {
   "cell_type": "code",
   "execution_count": null,
   "metadata": {},
   "outputs": [
    {
     "data": {
      "text/plain": [
       "OptimizationResult(model={'method': 'hf', 'basis': '6-31g'}, molecule_hash='f8a7a08')"
      ]
     },
     "execution_count": 54,
     "metadata": {},
     "output_type": "execute_result"
    }
   ],
   "source": [
    "opt"
   ]
  },
  {
   "cell_type": "code",
   "execution_count": null,
   "metadata": {},
   "outputs": [
    {
     "data": {
      "text/plain": [
       "OptimizationResult(model={'method': 'gfn2-xtb', 'basis': None}, molecule_hash='f8a7a08')"
      ]
     },
     "execution_count": 66,
     "metadata": {},
     "output_type": "execute_result"
    }
   ],
   "source": [
    "qcel_mol = molecule.to_qcschema(conformer = 9)\n",
    "\n",
    "opt_input = {\n",
    "    \"keywords\": {\n",
    "        \"program\": \"xtb\",\n",
    "        \"verbosity\" : \"muted\",\n",
    "\n",
    "    },\n",
    "    \"input_specification\": {\n",
    "        \"driver\": \"gradient\",\n",
    "        \"model\": {\"method\": \"gfn2-xtb\"},\n",
    "    },\n",
    "    \"initial_molecule\": qcel_mol\n",
    "}\n",
    "\n",
    "opt = qcengine.compute_procedure(opt_input, \"geometric\")\n"
   ]
  },
  {
   "cell_type": "code",
   "execution_count": null,
   "metadata": {},
   "outputs": [
    {
     "data": {
      "application/vnd.jupyter.widget-view+json": {
       "model_id": "becbd00d15c14159a169bebbab55400d",
       "version_major": 2,
       "version_minor": 0
      },
      "text/plain": [
       "NGLWidget()"
      ]
     },
     "metadata": {},
     "output_type": "display_data"
    }
   ],
   "source": [
    "Molecule.from_qcschema(opt.final_molecule)"
   ]
  },
  {
   "cell_type": "code",
   "execution_count": null,
   "metadata": {},
   "outputs": [
    {
     "data": {
      "text/plain": [
       "[array([[-0.4862867595144359,  0.0828186424668756, -0.0679610778306531],\n",
       "        [ 0.8301234579386073,  0.564779509943595 , -0.0336412446477216],\n",
       "        [ 1.2663964405504002,  1.2140618968855181, -1.3605815848332306],\n",
       "        [ 2.61112999415179  ,  1.630053800413438 , -1.2904287793802247],\n",
       "        [ 1.1301153494675436,  0.2358385504575636, -2.5312900868564645],\n",
       "        [ 0.6208912563550152,  0.9375490794288812, -3.6444677873661515],\n",
       "        [-1.072625656470663 ,  0.7937769295641217, -0.3525437994602623],\n",
       "        [ 0.9580788131518267,  1.294880017862708 ,  0.7820235998946765],\n",
       "        [ 1.4662416779810485, -0.2990409635746084,  0.1736434010052163],\n",
       "        [ 0.6087606361865544,  2.071945555730803 , -1.5785493810981646],\n",
       "        [ 2.700426091243515 ,  2.3158115915609283, -0.6197138944120185],\n",
       "        [ 0.4469033281134626, -0.5762756189603794, -2.2470681640843884],\n",
       "        [ 2.1225064336575907, -0.1794231142025792, -2.7403420164626615],\n",
       "        [ 0.6630495280475959,  0.3672464765611082, -4.418399951797536 ]]) <Unit('angstrom')>]"
      ]
     },
     "execution_count": 70,
     "metadata": {},
     "output_type": "execute_result"
    }
   ],
   "source": [
    "Molecule.from_qcschema(opt.final_molecule).conformers"
   ]
  },
  {
   "cell_type": "code",
   "execution_count": null,
   "metadata": {},
   "outputs": [],
   "source": [
    "   grid_settings = LatticeGridSettings(\n",
    "        type=\"fcc\", spacing=0.5, inner_vdw_scale=1.4, outer_vdw_scale=2.0\n",
    "    )"
   ]
  },
  {
   "cell_type": "code",
   "execution_count": null,
   "metadata": {},
   "outputs": [
    {
     "data": {
      "text/plain": [
       "LatticeGridSettings(type='fcc', spacing=0.5, inner_vdw_scale=1.4, outer_vdw_scale=2.0)"
      ]
     },
     "execution_count": 72,
     "metadata": {},
     "output_type": "execute_result"
    }
   ],
   "source": [
    "grid_settings"
   ]
  },
  {
   "cell_type": "code",
   "execution_count": 2,
   "metadata": {},
   "outputs": [
    {
     "name": "stdout",
     "output_type": "stream",
     "text": [
      "['/mnt/storage/nobackup/nca121/test_jobs/QM_ESP_Psi4/QM_ESP_Psi4/examples', '/home/user/psiadditions', '/mnt/storage/nobackup/nca121/test_jobs/QM_ESP_Psi4/QM_ESP_Psi4/examples', '/mnt/nfs/home/nca121/mambaforge/envs/openff/lib/python311.zip', '/mnt/nfs/home/nca121/mambaforge/envs/openff/lib/python3.11', '/mnt/nfs/home/nca121/mambaforge/envs/openff/lib/python3.11/lib-dynload', '', '/mnt/nfs/home/nca121/mambaforge/envs/openff/lib/python3.11/site-packages']\n"
     ]
    }
   ],
   "source": [
    "import sys\n",
    "print(sys.path)\n",
    "sys.path.append('/mnt/storage/nobackup/nca121/test_jobs/QM_ESP_Psi4/QM_ESP_Psi4/')\n",
    "from qcelemental.models.common_models import Model\n",
    "from source.conformers.conformer_gen import Conformers\n",
    "from qcelemental.models.procedures import OptimizationInput, QCInputSpecification\n",
    "import qcengine\n",
    "import qcelemental"
   ]
  },
  {
   "cell_type": "code",
   "execution_count": 14,
   "metadata": {},
   "outputs": [
    {
     "name": "stdout",
     "output_type": "stream",
     "text": [
      "rdkit has generated 10 conformers from a requested 10 conformers\n",
      "geometry optimiztion was None\n"
     ]
    }
   ],
   "source": [
    "\n",
    "test_mol =  smiles_to_molecule('[H]O[H]')\n",
    "conformer_list = Conformers.generate(test_mol, generation_type='rdkit')\n",
    "conformer_list[0]\n",
    "qc_mol =  test_mol.to_qcschema(conformer=0)\n",
    "\n",
    "\n",
    "hf_model = Model(method=\"hf\", basis=\"6-31G*\")\n",
    "spec = QCInputSpecification(model=hf_model, keywords={}, driver=\"gradient\")\n",
    "opt_spec = OptimizationInput(\n",
    "            initial_molecule=qc_mol,\n",
    "            input_specification=spec,\n",
    "            keywords={\"coordsys\": \"dlc\", \n",
    "                      \"program\": \"psi4\",\n",
    "                      \"wavefunction\":\"all\"}                                        \n",
    "        )\n",
    "\n",
    "\n",
    "opt = qcengine.compute_procedure(opt_spec, \"geometric\")\n",
    "print(f'geometry optimiztion was {opt.error}')\n",
    "optmized_mol = opt.final_molecule\n",
    "\n",
    "opt_input = { \"molecule\" : optmized_mol,\n",
    "              \"driver\" : \"energy\",\n",
    "              \"model\" : {\"method\":\"hf\",\"basis\":\"6-31G*\"},\n",
    "              \"protocols\":{\"wavefunction\":\"all\"}\n",
    "\n",
    "}\n",
    "\n",
    "opt_2 = qcengine.compute(opt_input, \"psi4\")\n"
   ]
  },
  {
   "cell_type": "code",
   "execution_count": 16,
   "metadata": {},
   "outputs": [
    {
     "name": "stdout",
     "output_type": "stream",
     "text": [
      "dict_keys(['id', 'schema_name', 'schema_version', 'molecule', 'driver', 'model', 'keywords', 'protocols', 'extras', 'provenance', 'properties', 'wavefunction', 'return_result', 'stdout', 'stderr', 'native_files', 'success', 'error'])\n"
     ]
    },
    {
     "data": {
      "text/plain": [
       "WavefunctionProperties(basis=BasisSet(schema_name='qcschema_basis', schema_version=1, name='6-31G*', description=None, center_data={'6-31G*_H1': BasisCenter(electron_shells=[ElectronShell(angular_momentum=[0], harmonic_type=<HarmonicType.cartesian: 'cartesian'>, exponents=[18.731137, 2.8253937, 0.6401217], coefficients=[[0.21493541832620353, 0.3645711272092817, 0.41505142765586844]]), ElectronShell(angular_momentum=[0], harmonic_type=<HarmonicType.cartesian: 'cartesian'>, exponents=[0.1612778], coefficients=[[0.1813806839302631]])], ecp_electrons=0, ecp_potentials=None), '6-31G*_O1': BasisCenter(electron_shells=[ElectronShell(angular_momentum=[0], harmonic_type=<HarmonicType.cartesian: 'cartesian'>, exponents=[5484.6717, 825.23495, 188.04696, 52.9645, 16.89757, 5.7996353], coefficients=[[0.8317352088484882, 1.5308074829178522, 2.4771490915641694, 3.2562802461944274, 2.792893633557701, 0.9549376962582179]]), ElectronShell(angular_momentum=[0], harmonic_type=<HarmonicType.cartesian: 'cartesian'>, exponents=[15.539616, 3.5999336, 1.0137618], coefficients=[[-0.6179336976334062, -0.27572100882275113, 0.8142076427322068]]), ElectronShell(angular_momentum=[1], harmonic_type=<HarmonicType.cartesian: 'cartesian'>, exponents=[15.539616, 3.5999336, 1.0137618], coefficients=[[3.116945588875066, 2.401437248315967, 1.054360513315557]]), ElectronShell(angular_momentum=[0], harmonic_type=<HarmonicType.cartesian: 'cartesian'>, exponents=[0.2700058], coefficients=[[0.2669561388578824]]), ElectronShell(angular_momentum=[1], harmonic_type=<HarmonicType.cartesian: 'cartesian'>, exponents=[0.2700058], coefficients=[[0.2774319373130632]]), ElectronShell(angular_momentum=[2], harmonic_type=<HarmonicType.cartesian: 'cartesian'>, exponents=[0.8], coefficients=[[1.1138249280646129]])], ecp_electrons=0, ecp_potentials=None)}, atom_map=['6-31G*_H1', '6-31G*_O1', '6-31G*_H1'], nbf=19), restricted=True, h_core_a=None, h_core_b=None, h_effective_a=None, h_effective_b=None, scf_orbitals_a=array([[ 3.24296012e-04,  1.33031178e-01,  2.32458574e-01,\n",
       "         1.40051664e-01,  0.00000000e+00,  5.36866802e-02,\n",
       "         4.65824194e-02,  8.39455485e-01,  5.17495529e-01,\n",
       "         0.00000000e+00,  6.94434198e-01,  1.08474064e-01,\n",
       "         3.01312611e-01,  8.06480542e-02,  0.00000000e+00,\n",
       "         0.00000000e+00,  8.58992535e-01,  9.76474775e-01,\n",
       "         1.36791704e-01],\n",
       "       [-2.05151710e-04,  1.72610888e-03,  1.07254839e-01,\n",
       "         8.27837786e-02,  0.00000000e+00,  1.05153078e+00,\n",
       "         1.41331350e+00, -4.20718330e-01, -4.36333151e-01,\n",
       "         0.00000000e+00, -3.68257741e-01, -9.34767082e-01,\n",
       "         8.12261926e-01,  3.73219989e-02,  0.00000000e+00,\n",
       "         0.00000000e+00,  1.47142430e-01, -2.50454807e-02,\n",
       "        -5.55692773e-01],\n",
       "       [ 9.94622688e-01, -2.09532142e-01,  4.78588994e-07,\n",
       "         7.30912598e-02,  0.00000000e+00,  1.01449065e-01,\n",
       "         5.90580140e-07, -4.00858556e-07,  2.34670230e-03,\n",
       "         0.00000000e+00,  5.10607950e-02,  4.32537728e-07,\n",
       "         8.56664253e-02,  7.48405929e-03,  0.00000000e+00,\n",
       "         0.00000000e+00,  5.86267302e-02,  8.74152016e-07,\n",
       "        -4.67005772e-01],\n",
       "       [ 2.11726088e-02,  4.75758733e-01, -9.34985271e-07,\n",
       "        -1.63639414e-01,  0.00000000e+00, -5.57280483e-02,\n",
       "         1.09046253e-07,  4.95405745e-06, -8.98763092e-01,\n",
       "         0.00000000e+00,  5.25416698e-02, -5.96494795e-07,\n",
       "         1.44343199e+00,  7.84898529e-02,  0.00000000e+00,\n",
       "         0.00000000e+00,  4.83459678e-01,  3.44861306e-06,\n",
       "         3.19864555e-01],\n",
       "       [ 2.63772222e-06,  1.86194514e-04, -5.08916800e-01,\n",
       "         1.10243296e-03,  0.00000000e+00, -4.20537191e-04,\n",
       "         3.25692544e-01,  8.76869212e-02,  9.31554920e-04,\n",
       "         0.00000000e+00, -1.44743659e-03,  1.04030340e+00,\n",
       "         9.86879840e-04,  5.72718632e-06,  0.00000000e+00,\n",
       "         0.00000000e+00,  7.32799681e-05, -6.33573848e-03,\n",
       "        -2.31440364e-04],\n",
       "       [-1.33754465e-03, -9.47564241e-02, -1.00656651e-03,\n",
       "        -5.57779868e-01,  0.00000000e+00,  2.11872854e-01,\n",
       "         6.43420984e-04,  1.68191263e-04, -4.73329671e-01,\n",
       "         0.00000000e+00,  7.31621569e-01,  2.05398227e-03,\n",
       "        -5.01220435e-01, -2.81686772e-03,  0.00000000e+00,\n",
       "         0.00000000e+00, -3.59912868e-02, -1.10364050e-05,\n",
       "         1.17611801e-01],\n",
       "       [ 0.00000000e+00,  0.00000000e+00,  0.00000000e+00,\n",
       "         0.00000000e+00,  6.39264944e-01,  0.00000000e+00,\n",
       "         0.00000000e+00,  0.00000000e+00,  0.00000000e+00,\n",
       "         9.62973089e-01,  0.00000000e+00,  0.00000000e+00,\n",
       "         0.00000000e+00,  0.00000000e+00,  1.94966580e-07,\n",
       "         8.33522696e-03,  0.00000000e+00,  0.00000000e+00,\n",
       "         0.00000000e+00],\n",
       "       [ 4.14707985e-03,  4.35314822e-01, -2.39282452e-06,\n",
       "        -3.25456148e-01,  0.00000000e+00, -1.43985542e+00,\n",
       "        -1.22037464e-05, -1.08282879e-05,  1.58469468e+00,\n",
       "         0.00000000e+00, -4.11257973e-01, -1.18920010e-06,\n",
       "        -3.63771198e+00, -2.34031371e-01,  0.00000000e+00,\n",
       "         0.00000000e+00, -1.59509261e+00, -2.09906239e-05,\n",
       "         3.65021618e+00],\n",
       "       [-9.09996898e-07,  9.82349083e-05, -3.03846879e-01,\n",
       "         8.00337874e-04,  0.00000000e+00, -9.95780888e-04,\n",
       "         8.40740879e-01,  7.08861049e-01, -1.48180783e-03,\n",
       "         0.00000000e+00,  6.39185947e-04, -1.54098580e+00,\n",
       "        -2.28022533e-03, -2.57801738e-04,  0.00000000e+00,\n",
       "         0.00000000e+00, -1.46960656e-03,  8.99214117e-01,\n",
       "         6.21323776e-04],\n",
       "       [ 4.60509354e-04, -4.98116781e-02, -6.00651777e-04,\n",
       "        -4.04854718e-01,  0.00000000e+00,  5.02462885e-01,\n",
       "         1.66222589e-03,  1.40165593e-03,  7.56154863e-01,\n",
       "         0.00000000e+00, -3.15223814e-01, -3.03834767e-03,\n",
       "         1.15837620e+00,  1.30552562e-01,  0.00000000e+00,\n",
       "         0.00000000e+00,  7.42009284e-01,  1.78458147e-03,\n",
       "        -3.14841810e-01],\n",
       "       [ 0.00000000e+00,  0.00000000e+00,  0.00000000e+00,\n",
       "         0.00000000e+00,  5.11838550e-01,  0.00000000e+00,\n",
       "         0.00000000e+00,  0.00000000e+00,  0.00000000e+00,\n",
       "        -1.03587750e+00,  0.00000000e+00,  0.00000000e+00,\n",
       "         0.00000000e+00,  0.00000000e+00,  1.60711994e-07,\n",
       "         3.20220925e-02,  0.00000000e+00,  0.00000000e+00,\n",
       "         0.00000000e+00],\n",
       "       [-4.21063087e-03,  2.69332473e-02, -1.73908547e-04,\n",
       "        -7.83231195e-04,  0.00000000e+00,  5.67540339e-02,\n",
       "         7.96012599e-05, -6.81892194e-04, -1.85509308e-01,\n",
       "         0.00000000e+00,  2.49510059e-01, -8.83897407e-05,\n",
       "         6.43804223e-01, -5.64057122e-01,  0.00000000e+00,\n",
       "         0.00000000e+00, -7.74398437e-01,  4.42222142e-03,\n",
       "        -1.53484788e+00],\n",
       "       [-4.78372989e-07,  2.23628174e-05,  8.81074298e-02,\n",
       "        -1.85981346e-04,  0.00000000e+00,  4.72617141e-05,\n",
       "        -4.01657809e-02,  3.44691952e-01,  5.21446616e-04,\n",
       "         0.00000000e+00,  7.38704364e-04,  4.63491514e-02,\n",
       "         9.46653736e-04, -6.21995308e-03,  0.00000000e+00,\n",
       "         0.00000000e+00, -2.97044913e-03, -2.24380767e+00,\n",
       "         5.46088382e-05],\n",
       "       [ 0.00000000e+00,  0.00000000e+00,  0.00000000e+00,\n",
       "         0.00000000e+00,  1.16540029e-04,  0.00000000e+00,\n",
       "         0.00000000e+00,  0.00000000e+00,  0.00000000e+00,\n",
       "        -4.80595690e-05,  0.00000000e+00,  0.00000000e+00,\n",
       "         0.00000000e+00,  0.00000000e+00,  1.73204741e+00,\n",
       "        -3.42613048e-03,  0.00000000e+00,  0.00000000e+00,\n",
       "         0.00000000e+00],\n",
       "       [-4.08824478e-03,  2.13110951e-02,  1.74013958e-04,\n",
       "         4.62759319e-02,  0.00000000e+00,  4.47928030e-02,\n",
       "        -7.87731211e-05,  6.81573752e-04, -3.17220317e-01,\n",
       "         0.00000000e+00,  6.36133402e-02,  9.16753603e-05,\n",
       "         4.03644632e-01,  1.01128075e+00,  0.00000000e+00,\n",
       "         0.00000000e+00, -1.79598189e-02, -4.42975584e-03,\n",
       "        -1.54925553e+00],\n",
       "       [ 0.00000000e+00,  0.00000000e+00,  0.00000000e+00,\n",
       "         0.00000000e+00, -5.91457737e-02,  0.00000000e+00,\n",
       "         0.00000000e+00,  0.00000000e+00,  0.00000000e+00,\n",
       "         2.42817275e-02,  0.00000000e+00,  0.00000000e+00,\n",
       "         0.00000000e+00,  0.00000000e+00,  3.42844878e-03,\n",
       "         1.73086696e+00,  0.00000000e+00,  0.00000000e+00,\n",
       "         0.00000000e+00],\n",
       "       [-3.94307510e-03, -1.02978426e-03, -1.56958783e-08,\n",
       "        -1.18503052e-02,  0.00000000e+00,  7.27930494e-02,\n",
       "         6.49232056e-07,  2.73849158e-06, -3.75961048e-01,\n",
       "         0.00000000e+00, -8.01647548e-02, -1.95597184e-06,\n",
       "         2.93052266e-01, -3.85178826e-01,  0.00000000e+00,\n",
       "         0.00000000e+00,  1.13130753e+00,  1.10537146e-05,\n",
       "        -1.56205678e+00],\n",
       "       [ 3.24300248e-04,  1.33029924e-01, -2.32457752e-01,\n",
       "         1.40052939e-01,  0.00000000e+00,  5.36878727e-02,\n",
       "        -4.65829225e-02, -8.39474780e-01,  5.17486487e-01,\n",
       "         0.00000000e+00,  6.94417047e-01, -1.08462445e-01,\n",
       "         3.01314891e-01,  8.06482381e-02,  0.00000000e+00,\n",
       "         0.00000000e+00,  8.59003413e-01, -9.76451800e-01,\n",
       "         1.36788400e-01],\n",
       "       [-2.05152739e-04,  1.72623535e-03, -1.07255120e-01,\n",
       "         8.27850800e-02,  0.00000000e+00,  1.05153890e+00,\n",
       "        -1.41329895e+00,  4.20737019e-01, -4.36337030e-01,\n",
       "         0.00000000e+00, -3.68262446e-01,  9.34761956e-01,\n",
       "         8.12247034e-01,  3.73215106e-02,  0.00000000e+00,\n",
       "         0.00000000e+00,  1.47138428e-01,  2.50508250e-02,\n",
       "        -5.55688565e-01]]), scf_orbitals_b=None, scf_density_a=array([[ 9.13488567e-02,  3.67558727e-02, -1.73150916e-02,\n",
       "         4.03794212e-02, -1.18122906e-01, -9.09579760e-02,\n",
       "         0.00000000e+00,  1.23305569e-02, -7.05066555e-02,\n",
       "        -6.34665604e-02,  0.00000000e+00,  3.43147675e-03,\n",
       "         2.04582553e-02,  0.00000000e+00,  9.35518658e-03,\n",
       "         0.00000000e+00, -1.79793074e-03, -1.67249180e-02,\n",
       "        -1.31086075e-02],\n",
       "       [ 3.67558727e-02,  1.83597760e-02,  5.48509816e-03,\n",
       "        -1.27299215e-02, -5.44922051e-02, -4.64463697e-02,\n",
       "         0.00000000e+00, -2.61921964e-02, -3.25226233e-02,\n",
       "        -3.36659010e-02,  0.00000000e+00, -3.61378355e-05,\n",
       "         9.43459067e-03,  0.00000000e+00,  3.88718432e-03,\n",
       "         0.00000000e+00, -9.81983315e-04, -1.31085497e-02,\n",
       "        -4.64734715e-03],\n",
       "       [-1.73150916e-02,  5.48509816e-03,  1.03852034e+00,\n",
       "        -9.05886000e-02,  4.39444545e-05, -2.22446695e-02,\n",
       "         0.00000000e+00, -1.10875667e-01,  3.68638114e-05,\n",
       "        -1.86961610e-02,  0.00000000e+00, -9.88861743e-03,\n",
       "        -1.87129733e-05,  0.00000000e+00, -5.14925417e-03,\n",
       "         0.00000000e+00, -4.57225279e-03, -1.73149539e-02,\n",
       "         5.48506309e-03],\n",
       "       [ 4.03794212e-02, -1.27299215e-02, -9.05886000e-02,\n",
       "         2.53572509e-01, -9.12861390e-05,  4.61652559e-02,\n",
       "         0.00000000e+00,  2.60450086e-01, -8.39658796e-05,\n",
       "         4.25615986e-02,  0.00000000e+00,  1.28527452e-02,\n",
       "         4.09806765e-05,  0.00000000e+00,  2.47981429e-03,\n",
       "         0.00000000e+00,  1.36576295e-03,  4.03790506e-02,\n",
       "        -1.27298737e-02],\n",
       "       [-1.18122906e-01, -5.44922051e-02,  4.39444545e-05,\n",
       "        -9.12861390e-05,  2.58997560e-01, -1.20302957e-04,\n",
       "         0.00000000e+00, -2.76511664e-04,  1.54633682e-01,\n",
       "        -1.49916849e-04,  0.00000000e+00,  9.26452380e-05,\n",
       "        -4.48395521e-02,  0.00000000e+00, -3.35852889e-05,\n",
       "         0.00000000e+00, -1.32583200e-05,  1.18480825e-01,\n",
       "         5.46755184e-02],\n",
       "       [-9.09579760e-02, -4.64463697e-02, -2.22446695e-02,\n",
       "         4.61652559e-02, -1.20302957e-04,  3.20099963e-01,\n",
       "         0.00000000e+00,  1.40278467e-01, -1.49877434e-04,\n",
       "         2.30539776e-01,  0.00000000e+00, -2.10942065e-03,\n",
       "         1.29322822e-05,  0.00000000e+00, -2.78258533e-02,\n",
       "         0.00000000e+00,  6.71271439e-03, -9.04905995e-02,\n",
       "        -4.62311891e-02],\n",
       "       [ 0.00000000e+00,  0.00000000e+00,  0.00000000e+00,\n",
       "         0.00000000e+00,  0.00000000e+00,  0.00000000e+00,\n",
       "         4.08659668e-01,  0.00000000e+00,  0.00000000e+00,\n",
       "         0.00000000e+00,  3.27200442e-01,  0.00000000e+00,\n",
       "         0.00000000e+00,  7.44999554e-05,  0.00000000e+00,\n",
       "        -3.78098197e-02,  0.00000000e+00,  0.00000000e+00,\n",
       "         0.00000000e+00],\n",
       "       [ 1.23305569e-02, -2.61921964e-02, -1.10875667e-01,\n",
       "         2.60450086e-01, -2.76511664e-04,  1.40278467e-01,\n",
       "         0.00000000e+00,  2.95437897e-01, -2.16988492e-04,\n",
       "         1.10080607e-01,  0.00000000e+00,  1.19618877e-02,\n",
       "         7.00508290e-05,  0.00000000e+00, -5.80070567e-03,\n",
       "         0.00000000e+00,  3.39212208e-03,  1.23307084e-02,\n",
       "        -2.61920516e-02],\n",
       "       [-7.05066555e-02, -3.25226233e-02,  3.68638114e-05,\n",
       "        -8.39658796e-05,  1.54633682e-01, -1.49877434e-04,\n",
       "         0.00000000e+00, -2.16988492e-04,  9.23235758e-02,\n",
       "        -1.46408062e-04,  0.00000000e+00,  5.48643364e-05,\n",
       "        -2.67713142e-02,  0.00000000e+00, -1.37400032e-05,\n",
       "         0.00000000e+00, -9.57705149e-06,  7.07567200e-02,\n",
       "         3.26555592e-02],\n",
       "       [-6.34665604e-02, -3.36659010e-02, -1.86961610e-02,\n",
       "         4.25615986e-02, -1.49916849e-04,  2.30539776e-01,\n",
       "         0.00000000e+00,  1.10080607e-01, -1.46408062e-04,\n",
       "         1.66389119e-01,  0.00000000e+00, -1.02632998e-03,\n",
       "         2.12593915e-05,  0.00000000e+00, -1.97985580e-02,\n",
       "         0.00000000e+00,  4.84713143e-03, -6.31877615e-02,\n",
       "        -3.35375884e-02],\n",
       "       [ 0.00000000e+00,  0.00000000e+00,  0.00000000e+00,\n",
       "         0.00000000e+00,  0.00000000e+00,  0.00000000e+00,\n",
       "         3.27200442e-01,  0.00000000e+00,  0.00000000e+00,\n",
       "         0.00000000e+00,  2.61978702e-01,  0.00000000e+00,\n",
       "         0.00000000e+00,  5.96496798e-05,  0.00000000e+00,\n",
       "        -3.02730871e-02,  0.00000000e+00,  0.00000000e+00,\n",
       "         0.00000000e+00],\n",
       "       [ 3.43147675e-03, -3.61378355e-05, -9.88861743e-03,\n",
       "         1.28527452e-02,  9.26452380e-05, -2.10942065e-03,\n",
       "         0.00000000e+00,  1.19618877e-02,  5.48643364e-05,\n",
       "        -1.02632998e-03,  0.00000000e+00,  7.43772918e-04,\n",
       "        -1.45726512e-05,  0.00000000e+00,  5.54916070e-04,\n",
       "         0.00000000e+00, -1.85106885e-06,  3.51229488e-03,\n",
       "         1.16967100e-06],\n",
       "       [ 2.04582553e-02,  9.43459067e-03, -1.87129733e-05,\n",
       "         4.09806765e-05, -4.48395521e-02,  1.29322822e-05,\n",
       "         0.00000000e+00,  7.00508290e-05, -2.67713142e-02,\n",
       "         2.12593915e-05,  0.00000000e+00, -1.45726512e-05,\n",
       "         7.76295427e-03,  0.00000000e+00,  7.20399429e-06,\n",
       "         0.00000000e+00,  2.18141017e-06, -2.05043276e-02,\n",
       "        -9.46533074e-03],\n",
       "       [ 0.00000000e+00,  0.00000000e+00,  0.00000000e+00,\n",
       "         0.00000000e+00,  0.00000000e+00,  0.00000000e+00,\n",
       "         7.44999554e-05,  0.00000000e+00,  0.00000000e+00,\n",
       "         0.00000000e+00,  5.96496798e-05,  0.00000000e+00,\n",
       "         0.00000000e+00,  1.35815785e-08,  0.00000000e+00,\n",
       "        -6.89285021e-06,  0.00000000e+00,  0.00000000e+00,\n",
       "         0.00000000e+00],\n",
       "       [ 9.35518658e-03,  3.88718432e-03, -5.14925417e-03,\n",
       "         2.47981429e-03, -3.35852889e-05, -2.78258533e-02,\n",
       "         0.00000000e+00, -5.80070567e-03, -1.37400032e-05,\n",
       "        -1.97985580e-02,  0.00000000e+00,  5.54916070e-04,\n",
       "         7.20399429e-06,  0.00000000e+00,  2.61236868e-03,\n",
       "         0.00000000e+00, -5.54209493e-04,  9.27431693e-03,\n",
       "         3.84991952e-03],\n",
       "       [ 0.00000000e+00,  0.00000000e+00,  0.00000000e+00,\n",
       "         0.00000000e+00,  0.00000000e+00,  0.00000000e+00,\n",
       "        -3.78098197e-02,  0.00000000e+00,  0.00000000e+00,\n",
       "         0.00000000e+00, -3.02730871e-02,  0.00000000e+00,\n",
       "         0.00000000e+00, -6.89285021e-06,  0.00000000e+00,\n",
       "         3.49822254e-03,  0.00000000e+00,  0.00000000e+00,\n",
       "         0.00000000e+00],\n",
       "       [-1.79793074e-03, -9.81983315e-04, -4.57225279e-03,\n",
       "         1.36576295e-03, -1.32583200e-05,  6.71271439e-03,\n",
       "         0.00000000e+00,  3.39212208e-03, -9.57705149e-06,\n",
       "         4.84713143e-03,  0.00000000e+00, -1.85106885e-06,\n",
       "         2.18141017e-06,  0.00000000e+00, -5.54209493e-04,\n",
       "         0.00000000e+00,  1.57038030e-04, -1.79793729e-03,\n",
       "        -9.81995496e-04],\n",
       "       [-1.67249180e-02, -1.31085497e-02, -1.73149539e-02,\n",
       "         4.03790506e-02,  1.18480825e-01, -9.04905995e-02,\n",
       "         0.00000000e+00,  1.23307084e-02,  7.07567200e-02,\n",
       "        -6.31877615e-02,  0.00000000e+00,  3.51229488e-03,\n",
       "        -2.05043276e-02,  0.00000000e+00,  9.27431693e-03,\n",
       "         0.00000000e+00, -1.79793729e-03,  9.13484982e-02,\n",
       "         3.67561523e-02],\n",
       "       [-1.31086075e-02, -4.64734715e-03,  5.48506309e-03,\n",
       "        -1.27298737e-02,  5.46755184e-02, -4.62311891e-02,\n",
       "         0.00000000e+00, -2.61920516e-02,  3.26555592e-02,\n",
       "        -3.35375884e-02,  0.00000000e+00,  1.16967100e-06,\n",
       "        -9.46533074e-03,  0.00000000e+00,  3.84991952e-03,\n",
       "         0.00000000e+00, -9.81995496e-04,  3.67561523e-02,\n",
       "         1.83600522e-02]]), scf_density_b=None, scf_fock_a=array([[-2.45358571e-01, -6.46827100e-01, -8.11688710e-01,\n",
       "        -8.27871775e-01,  4.89388501e-01,  3.86279467e-01,\n",
       "         0.00000000e+00, -7.25976669e-01,  3.22313756e-01,\n",
       "         2.60516425e-01,  0.00000000e+00, -4.17463736e-01,\n",
       "         1.03151725e-02,  0.00000000e+00, -4.44020690e-01,\n",
       "         0.00000000e+00, -4.39255190e-01, -1.87493976e-01,\n",
       "        -3.82790078e-01],\n",
       "       [-6.46827100e-01, -5.80622111e-01, -1.53018503e+00,\n",
       "        -1.16436305e+00,  2.50717071e-01,  2.49992263e-01,\n",
       "         0.00000000e+00, -9.56576186e-01,  1.20560568e-01,\n",
       "         1.96319491e-01,  0.00000000e+00, -6.24105974e-01,\n",
       "        -5.54772319e-02,  0.00000000e+00, -5.82363863e-01,\n",
       "         0.00000000e+00, -4.84646443e-01, -3.82788738e-01,\n",
       "        -5.31507813e-01],\n",
       "       [-8.11688710e-01, -1.53018503e+00, -2.05517467e+01,\n",
       "        -5.12893334e+00, -4.68269615e-05,  2.37426032e-02,\n",
       "         0.00000000e+00, -3.64020384e+00, -1.01710161e-05,\n",
       "         5.15688205e-03,  0.00000000e+00, -8.23302235e-01,\n",
       "         2.23259261e-06,  0.00000000e+00, -8.24441664e-01,\n",
       "         0.00000000e+00, -8.25713203e-01, -8.11677176e-01,\n",
       "        -1.53017926e+00],\n",
       "       [-8.27871775e-01, -1.16436305e+00, -5.12893334e+00,\n",
       "        -2.12981169e+00, -1.20010537e-04,  6.12417766e-02,\n",
       "         0.00000000e+00, -2.11852904e+00, -1.30630475e-04,\n",
       "         6.64273858e-02,  0.00000000e+00, -1.20801972e+00,\n",
       "        -9.90096376e-05,  0.00000000e+00, -1.15811197e+00,\n",
       "         0.00000000e+00, -1.09688147e+00, -8.27864637e-01,\n",
       "        -1.16435933e+00],\n",
       "       [ 4.89388501e-01,  2.50717071e-01, -4.68269615e-05,\n",
       "        -1.20010537e-04, -1.17285398e-01,  4.61005986e-05,\n",
       "         0.00000000e+00, -2.00689174e-04, -7.02806269e-01,\n",
       "        -3.08709070e-05,  0.00000000e+00, -7.88627940e-04,\n",
       "         1.48018864e-01,  0.00000000e+00,  3.12145897e-04,\n",
       "         0.00000000e+00,  7.98374405e-06, -4.90907839e-01,\n",
       "        -2.51701893e-01],\n",
       "       [ 3.86279467e-01,  2.49992263e-01,  2.37426032e-02,\n",
       "         6.12417766e-02,  4.61005986e-05, -1.41138395e-01,\n",
       "         0.00000000e+00,  1.01996498e-01, -3.08770624e-05,\n",
       "        -6.87425195e-01,  0.00000000e+00,  1.03975878e-01,\n",
       "         2.25176259e-04,  0.00000000e+00,  1.38205299e-01,\n",
       "         0.00000000e+00, -3.94670692e-03,  3.84342378e-01,\n",
       "         2.49000219e-01],\n",
       "       [ 0.00000000e+00,  0.00000000e+00,  0.00000000e+00,\n",
       "         0.00000000e+00,  0.00000000e+00,  0.00000000e+00,\n",
       "        -1.68992286e-01,  0.00000000e+00,  0.00000000e+00,\n",
       "         0.00000000e+00, -6.56160801e-01,  0.00000000e+00,\n",
       "         0.00000000e+00, -8.29285299e-05,  0.00000000e+00,\n",
       "         4.20989964e-02,  0.00000000e+00,  0.00000000e+00,\n",
       "         0.00000000e+00],\n",
       "       [-7.25976669e-01, -9.56576186e-01, -3.64020384e+00,\n",
       "        -2.11852904e+00, -2.00689174e-04,  1.01996498e-01,\n",
       "         0.00000000e+00, -1.67156559e+00, -3.58982250e-04,\n",
       "         1.81965630e-01,  0.00000000e+00, -9.36188148e-01,\n",
       "        -1.53346850e-04,  0.00000000e+00, -8.58748172e-01,\n",
       "         0.00000000e+00, -7.56199029e-01, -7.25971377e-01,\n",
       "        -9.56573679e-01],\n",
       "       [ 3.22313756e-01,  1.20560568e-01, -1.01710161e-05,\n",
       "        -1.30630475e-04, -7.02806269e-01, -3.08770624e-05,\n",
       "         0.00000000e+00, -3.58982250e-04, -2.03862664e-01,\n",
       "        -1.73050273e-04,  0.00000000e+00, -1.09653018e-03,\n",
       "         1.92296909e-01,  0.00000000e+00,  3.64704765e-04,\n",
       "         0.00000000e+00, -5.12183325e-05, -3.23339536e-01,\n",
       "        -1.21335480e-01],\n",
       "       [ 2.60516425e-01,  1.96319491e-01,  5.15688205e-03,\n",
       "         6.64273858e-02, -3.08709070e-05, -6.87425195e-01,\n",
       "         0.00000000e+00,  1.81965630e-01, -1.73050273e-04,\n",
       "        -1.16205865e-01,  0.00000000e+00,  1.71192048e-01,\n",
       "         3.23081545e-04,  0.00000000e+00,  2.00028059e-01,\n",
       "         0.00000000e+00,  2.59851164e-02,  2.59241333e-01,\n",
       "         1.95842105e-01],\n",
       "       [ 0.00000000e+00,  0.00000000e+00,  0.00000000e+00,\n",
       "         0.00000000e+00,  0.00000000e+00,  0.00000000e+00,\n",
       "        -6.56160801e-01,  0.00000000e+00,  0.00000000e+00,\n",
       "         0.00000000e+00,  1.45865486e-02,  0.00000000e+00,\n",
       "         0.00000000e+00, -9.09601895e-05,  0.00000000e+00,\n",
       "         4.61427255e-02,  0.00000000e+00,  0.00000000e+00,\n",
       "         0.00000000e+00],\n",
       "       [-4.17463736e-01, -6.24105974e-01, -8.23302235e-01,\n",
       "        -1.20801972e+00, -7.88627940e-04,  1.03975878e-01,\n",
       "         0.00000000e+00, -9.36188148e-01, -1.09653018e-03,\n",
       "         1.71192048e-01,  0.00000000e+00,  3.80974086e-01,\n",
       "         9.86050883e-05,  0.00000000e+00, -8.49399076e-01,\n",
       "         0.00000000e+00, -7.54422983e-01, -4.17380501e-01,\n",
       "        -6.24541719e-01],\n",
       "       [ 1.03151725e-02, -5.54772319e-02,  2.23259261e-06,\n",
       "        -9.90096376e-05,  1.48018864e-01,  2.25176259e-04,\n",
       "         0.00000000e+00, -1.53346850e-04,  1.92296909e-01,\n",
       "         3.23081545e-04,  0.00000000e+00,  9.86050883e-05,\n",
       "         5.90041393e-01,  0.00000000e+00, -4.27282600e-04,\n",
       "         0.00000000e+00, -4.40407837e-05, -1.02093711e-02,\n",
       "         5.53102403e-02],\n",
       "       [ 0.00000000e+00,  0.00000000e+00,  0.00000000e+00,\n",
       "         0.00000000e+00,  0.00000000e+00,  0.00000000e+00,\n",
       "        -8.29285299e-05,  0.00000000e+00,  0.00000000e+00,\n",
       "         0.00000000e+00, -9.09601895e-05,  0.00000000e+00,\n",
       "         0.00000000e+00,  6.77036173e-01,  0.00000000e+00,\n",
       "        -2.22327642e-05,  0.00000000e+00,  0.00000000e+00,\n",
       "         0.00000000e+00],\n",
       "       [-4.44020690e-01, -5.82363863e-01, -8.24441664e-01,\n",
       "        -1.15811197e+00,  3.12145897e-04,  1.38205299e-01,\n",
       "         0.00000000e+00, -8.58748172e-01,  3.64704765e-04,\n",
       "         2.00028059e-01,  0.00000000e+00, -8.49399076e-01,\n",
       "        -4.27282600e-04,  0.00000000e+00,  5.46851456e-01,\n",
       "         0.00000000e+00, -7.32180220e-01, -4.44099206e-01,\n",
       "        -5.81925016e-01],\n",
       "       [ 0.00000000e+00,  0.00000000e+00,  0.00000000e+00,\n",
       "         0.00000000e+00,  0.00000000e+00,  0.00000000e+00,\n",
       "         4.20989964e-02,  0.00000000e+00,  0.00000000e+00,\n",
       "         0.00000000e+00,  4.61427255e-02,  0.00000000e+00,\n",
       "         0.00000000e+00, -2.22327642e-05,  0.00000000e+00,\n",
       "         6.88263532e-01,  0.00000000e+00,  0.00000000e+00,\n",
       "         0.00000000e+00],\n",
       "       [-4.39255190e-01, -4.84646443e-01, -8.25713203e-01,\n",
       "        -1.09688147e+00,  7.98374405e-06, -3.94670692e-03,\n",
       "         0.00000000e+00, -7.56199029e-01, -5.12183325e-05,\n",
       "         2.59851164e-02,  0.00000000e+00, -7.54422983e-01,\n",
       "        -4.40407837e-05,  0.00000000e+00, -7.32180220e-01,\n",
       "         0.00000000e+00,  7.00650360e-01, -4.39252229e-01,\n",
       "        -4.84645283e-01],\n",
       "       [-1.87493976e-01, -3.82788738e-01, -8.11677176e-01,\n",
       "        -8.27864637e-01, -4.90907839e-01,  3.84342378e-01,\n",
       "         0.00000000e+00, -7.25971377e-01, -3.23339536e-01,\n",
       "         2.59241333e-01,  0.00000000e+00, -4.17380501e-01,\n",
       "        -1.02093711e-02,  0.00000000e+00, -4.44099206e-01,\n",
       "         0.00000000e+00, -4.39252229e-01, -2.45353154e-01,\n",
       "        -6.46823762e-01],\n",
       "       [-3.82790078e-01, -5.31507813e-01, -1.53017926e+00,\n",
       "        -1.16435933e+00, -2.51701893e-01,  2.49000219e-01,\n",
       "         0.00000000e+00, -9.56573679e-01, -1.21335480e-01,\n",
       "         1.95842105e-01,  0.00000000e+00, -6.24541719e-01,\n",
       "         5.53102403e-02,  0.00000000e+00, -5.81925016e-01,\n",
       "         0.00000000e+00, -4.84645283e-01, -6.46823762e-01,\n",
       "        -5.80620085e-01]]), scf_fock_b=None, scf_eigenvalues_a=array([-20.55786612,  -1.34613686,  -0.71427593,  -0.57078178,\n",
       "        -0.49820077,   0.21302293,   0.30688311,   1.03178181,\n",
       "         1.1334488 ,   1.16806574,   1.17853049,   1.38520858,\n",
       "         1.43124925,   2.02121716,   2.03110839,   2.06795994,\n",
       "         2.63614004,   2.96608677,   3.9777501 ]), scf_eigenvalues_b=None, scf_occupations_a=array([1., 1., 1., 1., 1., 0., 0., 0., 0., 0., 0., 0., 0., 0., 0., 0., 0.,\n",
       "       0., 0.]), scf_occupations_b=None, scf_coulomb_a=None, scf_coulomb_b=None, scf_exchange_a=None, scf_exchange_b=None, localized_orbitals_a=None, localized_orbitals_b=None, localized_fock_a=None, localized_fock_b=None, orbitals_a='scf_orbitals_a', orbitals_b=None, density_a='scf_density_a', density_b=None, fock_a='scf_fock_a', fock_b=None, eigenvalues_a='scf_eigenvalues_a', eigenvalues_b=None, occupations_a='scf_occupations_a', occupations_b=None)"
      ]
     },
     "execution_count": 16,
     "metadata": {},
     "output_type": "execute_result"
    }
   ],
   "source": [
    "print(opt_2.dict().keys())\n",
    "\n",
    "opt_2.error\n",
    "opt_2.wavefunction"
   ]
  },
  {
   "cell_type": "code",
   "execution_count": 56,
   "metadata": {},
   "outputs": [
    {
     "name": "stdout",
     "output_type": "stream",
     "text": [
      "rdkit has generated 10 conformers from a requested 10 conformers\n"
     ]
    },
    {
     "data": {
      "text/plain": [
       "ComputeError(error_type='input_error', error_message='QCEngine Input Error: Procedure psi4 is not registered to QCEngine.')"
      ]
     },
     "execution_count": 56,
     "metadata": {},
     "output_type": "execute_result"
    }
   ],
   "source": [
    "import "
   ]
  }
 ],
 "metadata": {
  "kernelspec": {
   "display_name": "openff",
   "language": "python",
   "name": "python3"
  },
  "language_info": {
   "codemirror_mode": {
    "name": "ipython",
    "version": 3
   },
   "file_extension": ".py",
   "mimetype": "text/x-python",
   "name": "python",
   "nbconvert_exporter": "python",
   "pygments_lexer": "ipython3",
   "version": "3.11.5"
  },
  "orig_nbformat": 4
 },
 "nbformat": 4,
 "nbformat_minor": 2
}
