{
 "cells": [
  {
   "cell_type": "code",
   "execution_count": 2,
   "metadata": {},
   "outputs": [
    {
     "name": "stdout",
     "output_type": "stream",
     "text": [
      "Intel MKL WARNING: Support of Intel(R) Streaming SIMD Extensions 4.2 (Intel(R) SSE4.2) enabled only processors has been deprecated. Intel oneAPI Math Kernel Library 2025.0 will require Intel(R) Advanced Vector Extensions (Intel(R) AVX) instructions.\n"
     ]
    }
   ],
   "source": [
    "import os\n",
    "import sys\n",
    "import random\n",
    "import numpy as np\n",
    "\n",
    "from tqdm import tqdm\n",
    "from rdkit.Chem import AllChem\n",
    "from rdkit.Chem.rdForceFieldHelpers import MMFFOptimizeMolecule\n",
    "\n",
    "from openff.units.elements import SYMBOLS\n",
    "from openff.toolkit import Molecule\n",
    "from openff.recharge.conformers import ConformerGenerator, ConformerSettings\n",
    "from openff.recharge.esp import ESPSettings\n",
    "from openff.recharge.esp.storage import MoleculeESPRecord, MoleculeESPStore\n",
    "from openff.recharge.grids import LatticeGridSettings, GridSettingsType, GridGenerator\n",
    "from openff.recharge.utilities.molecule import smiles_to_molecule\n",
    "from qcelemental.models.procedures import OptimizationInput, QCInputSpecification\n",
    "from openff.units import unit\n",
    "from qcelemental.models.common_models import Model\n",
    "\n",
    "import qcengine\n",
    "\n",
    "sys.path.append('/Users/localadmin/Documents/projects/QM_ESP_Psi4')\n",
    "\n",
    "from source.optimize.openff_psi4_gen import Psi4Generate\n",
    "from source.conformers.conformer_gen import Conformers\n",
    "from source.utilities.conversion_functions import conf_to_xyz_string\n",
    "\n",
    "\n",
    "import psi4\n",
    "\n"
   ]
  },
  {
   "cell_type": "code",
   "execution_count": null,
   "metadata": {},
   "outputs": [
    {
     "ename": "",
     "evalue": "",
     "output_type": "error",
     "traceback": [
      "\u001b[1;31mRunning cells with '/Users/localadmin/miniconda3/envs/openff/bin/python' requires the ipykernel package.\n",
      "\u001b[1;31mRun the following command to install 'ipykernel' into the Python environment. \n",
      "\u001b[1;31mCommand: 'conda install -p /Users/localadmin/miniconda3/envs/openff ipykernel --update-deps --force-reinstall'"
     ]
    }
   ],
   "source": [
    "#load our molecule to create the conformers\n",
    "\n",
    "molecule = smiles_to_molecule(\"OCC(O)CO\")\n",
    "rdmol = molecule.to_rdkit()\n",
    "AllChem.EmbedMultipleConfs(rdmol, numConfs=10, randomSeed=42)"
   ]
  },
  {
   "cell_type": "code",
   "execution_count": null,
   "metadata": {},
   "outputs": [
    {
     "ename": "",
     "evalue": "",
     "output_type": "error",
     "traceback": [
      "\u001b[1;31mRunning cells with '/Users/localadmin/miniconda3/envs/openff/bin/python' requires the ipykernel package.\n",
      "\u001b[1;31mRun the following command to install 'ipykernel' into the Python environment. \n",
      "\u001b[1;31mCommand: 'conda install -p /Users/localadmin/miniconda3/envs/openff ipykernel --update-deps --force-reinstall'"
     ]
    }
   ],
   "source": [
    "#test the optimizer\n",
    "\n",
    "optimize_MMFF = MMFFOptimizeMolecule(rdmol,mmffVariant = 'MMFF94',confId=3) #,confId=1,mmffvariant='MMFF94'\n",
    "optimize_MMFF\n",
    "\n"
   ]
  },
  {
   "cell_type": "code",
   "execution_count": null,
   "metadata": {},
   "outputs": [
    {
     "ename": "",
     "evalue": "",
     "output_type": "error",
     "traceback": [
      "\u001b[1;31mRunning cells with '/Users/localadmin/miniconda3/envs/openff/bin/python' requires the ipykernel package.\n",
      "\u001b[1;31mRun the following command to install 'ipykernel' into the Python environment. \n",
      "\u001b[1;31mCommand: 'conda install -p /Users/localadmin/miniconda3/envs/openff ipykernel --update-deps --force-reinstall'"
     ]
    }
   ],
   "source": [
    "#test all the conformers\n",
    "\n",
    "for id in range(rdmol.GetNumConformers()):\n",
    "    optimize_MMFF = MMFFOptimizeMolecule(rdmol,mmffVariant = 'MMFF94',confId=3) #,confId=1,mmffvariant='MMFF94'\n",
    "    print(f'conformer:{id}, optimize (0 = converge, 1 = more iterations req): {optimize_MMFF}')"
   ]
  },
  {
   "cell_type": "code",
   "execution_count": null,
   "metadata": {},
   "outputs": [
    {
     "ename": "",
     "evalue": "",
     "output_type": "error",
     "traceback": [
      "\u001b[1;31mRunning cells with '/Users/localadmin/miniconda3/envs/openff/bin/python' requires the ipykernel package.\n",
      "\u001b[1;31mRun the following command to install 'ipykernel' into the Python environment. \n",
      "\u001b[1;31mCommand: 'conda install -p /Users/localadmin/miniconda3/envs/openff ipykernel --update-deps --force-reinstall'"
     ]
    }
   ],
   "source": [
    "from rdkit.Chem.Draw import IPythonConsole\n",
    "IPythonConsole.ipython_3d = True\n",
    "import py3Dmol\n"
   ]
  },
  {
   "cell_type": "code",
   "execution_count": null,
   "metadata": {},
   "outputs": [
    {
     "ename": "",
     "evalue": "",
     "output_type": "error",
     "traceback": [
      "\u001b[1;31mRunning cells with '/Users/localadmin/miniconda3/envs/openff/bin/python' requires the ipykernel package.\n",
      "\u001b[1;31mRun the following command to install 'ipykernel' into the Python environment. \n",
      "\u001b[1;31mCommand: 'conda install -p /Users/localadmin/miniconda3/envs/openff ipykernel --update-deps --force-reinstall'"
     ]
    }
   ],
   "source": [
    "#do the conformers look structurally sensible\n",
    "\n",
    "for id in range(rdmol.GetNumConformers()):\n",
    "    IPythonConsole.drawMol3D(rdmol,confId=id)\n"
   ]
  },
  {
   "cell_type": "code",
   "execution_count": null,
   "metadata": {},
   "outputs": [
    {
     "ename": "",
     "evalue": "",
     "output_type": "error",
     "traceback": [
      "\u001b[1;31mRunning cells with '/Users/localadmin/miniconda3/envs/openff/bin/python' requires the ipykernel package.\n",
      "\u001b[1;31mRun the following command to install 'ipykernel' into the Python environment. \n",
      "\u001b[1;31mCommand: 'conda install -p /Users/localadmin/miniconda3/envs/openff ipykernel --update-deps --force-reinstall'"
     ]
    }
   ],
   "source": [
    "optimize_MMFF"
   ]
  },
  {
   "cell_type": "code",
   "execution_count": null,
   "metadata": {},
   "outputs": [
    {
     "ename": "",
     "evalue": "",
     "output_type": "error",
     "traceback": [
      "\u001b[1;31mRunning cells with '/Users/localadmin/miniconda3/envs/openff/bin/python' requires the ipykernel package.\n",
      "\u001b[1;31mRun the following command to install 'ipykernel' into the Python environment. \n",
      "\u001b[1;31mCommand: 'conda install -p /Users/localadmin/miniconda3/envs/openff ipykernel --update-deps --force-reinstall'"
     ]
    }
   ],
   "source": [
    "#now create a series of xyz files so we can run the conformers with ASE, first convert our conformers to xyz format and then write to file\n",
    "\n",
    "from openff.units import unit\n",
    "\n",
    "cwd = os.getcwd()\n",
    "\n",
    "conformers = []\n",
    "\n",
    "\n",
    "\n",
    "for confs in range(rdmol.GetNumConformers()):\n",
    "    conformer = np.zeros((rdmol.GetConformer(confs).GetNumAtoms(), 3))\n",
    "    for atom_index, coordinates in enumerate(rdmol.GetConformer(confs).GetPositions()):\n",
    "        conformer[atom_index, :] = coordinates\n",
    "    conformers.append(conformer * unit.angstrom)\n",
    "\n",
    "\n",
    "for number ,conformer in enumerate(conformers):\n",
    "    atoms = [\n",
    "            {\n",
    "                \"element\": SYMBOLS[atom.atomic_number],\n",
    "                \"x\": conformer[index, 0],\n",
    "                \"y\": conformer[index, 1],\n",
    "                \"z\": conformer[index, 2],\n",
    "            }\n",
    "            for index, atom in enumerate(molecule.atoms)\n",
    "        ]\n",
    "    xyz = f'{molecule.n_atoms}\\n{molecule.to_smiles()}\\n'\n",
    "    for row in atoms:\n",
    "        xyz += f\"{row['element']}\\t{np.around(row['x'].magnitude,decimals=6)}\\t{np.around(row['y'].magnitude,decimals=6)}\\t{np.around(row['z'].magnitude, decimals=6)}\\n\"\n",
    "    try:\n",
    "        f = open(cwd+f\"/conformer_{number}.xyz\", 'x')\n",
    "        f.write(xyz)\n",
    "        f.close()\n",
    "    except FileExistsError:\n",
    "        continue"
   ]
  },
  {
   "cell_type": "code",
   "execution_count": 2,
   "metadata": {},
   "outputs": [
    {
     "name": "stdout",
     "output_type": "stream",
     "text": [
      "rdkit has generated 10 conformers from a requested 10 conformers\n"
     ]
    },
    {
     "ename": "NameError",
     "evalue": "name 'Model' is not defined",
     "output_type": "error",
     "traceback": [
      "\u001b[0;31m---------------------------------------------------------------------------\u001b[0m",
      "\u001b[0;31mNameError\u001b[0m                                 Traceback (most recent call last)",
      "\u001b[1;32m/Users/localadmin/Documents/projects/QM_ESP_Psi4/examples/notebook_test.ipynb Cell 9\u001b[0m line \u001b[0;36m1\n\u001b[1;32m      <a href='vscode-notebook-cell:/Users/localadmin/Documents/projects/QM_ESP_Psi4/examples/notebook_test.ipynb#X11sZmlsZQ%3D%3D?line=6'>7</a>\u001b[0m qc_mol \u001b[39m=\u001b[39m  test_mol\u001b[39m.\u001b[39mto_qcschema(conformer\u001b[39m=\u001b[39m\u001b[39m0\u001b[39m)\n\u001b[1;32m      <a href='vscode-notebook-cell:/Users/localadmin/Documents/projects/QM_ESP_Psi4/examples/notebook_test.ipynb#X11sZmlsZQ%3D%3D?line=8'>9</a>\u001b[0m \u001b[39m#Setup geometry optimisation\u001b[39;00m\n\u001b[0;32m---> <a href='vscode-notebook-cell:/Users/localadmin/Documents/projects/QM_ESP_Psi4/examples/notebook_test.ipynb#X11sZmlsZQ%3D%3D?line=9'>10</a>\u001b[0m hf_model \u001b[39m=\u001b[39m Model(method\u001b[39m=\u001b[39m\u001b[39m\"\u001b[39m\u001b[39mhf\u001b[39m\u001b[39m\"\u001b[39m, basis\u001b[39m=\u001b[39m\u001b[39m\"\u001b[39m\u001b[39m6-31G*\u001b[39m\u001b[39m\"\u001b[39m)\n\u001b[1;32m     <a href='vscode-notebook-cell:/Users/localadmin/Documents/projects/QM_ESP_Psi4/examples/notebook_test.ipynb#X11sZmlsZQ%3D%3D?line=10'>11</a>\u001b[0m spec \u001b[39m=\u001b[39m QCInputSpecification(model\u001b[39m=\u001b[39mhf_model, keywords\u001b[39m=\u001b[39m{}, driver\u001b[39m=\u001b[39m\u001b[39m\"\u001b[39m\u001b[39mgradient\u001b[39m\u001b[39m\"\u001b[39m)\n\u001b[1;32m     <a href='vscode-notebook-cell:/Users/localadmin/Documents/projects/QM_ESP_Psi4/examples/notebook_test.ipynb#X11sZmlsZQ%3D%3D?line=11'>12</a>\u001b[0m opt_spec \u001b[39m=\u001b[39m OptimizationInput(\n\u001b[1;32m     <a href='vscode-notebook-cell:/Users/localadmin/Documents/projects/QM_ESP_Psi4/examples/notebook_test.ipynb#X11sZmlsZQ%3D%3D?line=12'>13</a>\u001b[0m             initial_molecule\u001b[39m=\u001b[39mqc_mol,\n\u001b[1;32m     <a href='vscode-notebook-cell:/Users/localadmin/Documents/projects/QM_ESP_Psi4/examples/notebook_test.ipynb#X11sZmlsZQ%3D%3D?line=13'>14</a>\u001b[0m             input_specification\u001b[39m=\u001b[39mspec,\n\u001b[1;32m     <a href='vscode-notebook-cell:/Users/localadmin/Documents/projects/QM_ESP_Psi4/examples/notebook_test.ipynb#X11sZmlsZQ%3D%3D?line=14'>15</a>\u001b[0m             keywords\u001b[39m=\u001b[39m{\u001b[39m\"\u001b[39m\u001b[39mcoordsys\u001b[39m\u001b[39m\"\u001b[39m: \u001b[39m\"\u001b[39m\u001b[39mdlc\u001b[39m\u001b[39m\"\u001b[39m, \n\u001b[1;32m     <a href='vscode-notebook-cell:/Users/localadmin/Documents/projects/QM_ESP_Psi4/examples/notebook_test.ipynb#X11sZmlsZQ%3D%3D?line=15'>16</a>\u001b[0m                       \u001b[39m\"\u001b[39m\u001b[39mprogram\u001b[39m\u001b[39m\"\u001b[39m: \u001b[39m\"\u001b[39m\u001b[39mpsi4\u001b[39m\u001b[39m\"\u001b[39m}                                        \n\u001b[1;32m     <a href='vscode-notebook-cell:/Users/localadmin/Documents/projects/QM_ESP_Psi4/examples/notebook_test.ipynb#X11sZmlsZQ%3D%3D?line=16'>17</a>\u001b[0m         )\n",
      "\u001b[0;31mNameError\u001b[0m: name 'Model' is not defined"
     ]
    }
   ],
   "source": [
    "\n",
    "\n",
    "CWD = os.getcwd()\n",
    "\n",
    "#generate water test molecule as openff.toolkit.Molecule\n",
    "test_mol =  smiles_to_molecule('[H]O[H]')\n",
    "conformer_list = Conformers.generate(test_mol, generation_type='rdkit')\n",
    "conformer_list[0]\n",
    "qc_mol =  test_mol.to_qcschema(conformer=0)\n",
    "\n",
    "#Setup geometry optimisation\n",
    "hf_model = Model(method=\"hf\", basis=\"6-31G*\")\n",
    "spec = QCInputSpecification(model=hf_model, keywords={}, driver=\"gradient\")\n",
    "opt_spec = OptimizationInput(\n",
    "            initial_molecule=qc_mol,\n",
    "            input_specification=spec,\n",
    "            keywords={\"coordsys\": \"dlc\", \n",
    "                      \"program\": \"psi4\"}                                        \n",
    "        )\n",
    "\n",
    "opt = qcengine.compute_procedure(opt_spec, \"geometric\")\n",
    "print(f'geometry optimiztion was {opt.error}')\n",
    "#return optimized molecule\n",
    "optmized_mol = opt.final_molecule\n",
    "\n",
    "#Generate grid.dat file for grid_esp and grid_field\n",
    "grid_settings = LatticeGridSettings(\n",
    "        type=\"fcc\", spacing=0.5, inner_vdw_scale=1.4, outer_vdw_scale=2.0\n",
    "    )\n",
    "\n",
    "grid = GridGenerator.generate(test_mol, optmized_mol.geometry*unit.angstrom, grid_settings)\n",
    "\n",
    "grid = grid.to(unit.angstrom).m\n",
    "np.savetxt(\"grid.dat\", grid, delimiter=\" \", fmt=\"%16.10f\")\n",
    "#compute one-electron properties.\n",
    "opt_input_2 = { \"molecule\" : optmized_mol,\n",
    "              \"driver\" : \"energy\",\n",
    "              \"model\" : {\"method\":\"scf\",\"basis\":\"6-31G*\"},\n",
    "              \"protocols\":{\"wavefunction\":\"all\",\"stdout\":True,\"native_files\":\"all\"},\n",
    "              \"keywords\":{\"scf_properties\":[\"GRID_ESP\", \"GRID_FIELD\",\"MULLIKEN_CHARGES\", \"LOWDIN_CHARGES\", \"DIPOLE\", \"QUADRUPOLE\", \"MBIS_CHARGES\"]}                               \n",
    "              }\n",
    "\n",
    "\n",
    "opt_2 = qcengine.compute(opt_input_2, \"psi4\", task_config={\"scratch_directory\":CWD,\"scratch_messy\":True})\n",
    "\n",
    "print(opt_2.dict())\n",
    "\n",
    "esp = (np.loadtxt(\"grid_esp.dat\").reshape(-1, 1) * unit.hartree / unit.e)\n",
    "\n",
    "electric_field = (np.loadtxt(\"grid_field.dat\")* unit.hartree/ (unit.e * unit.bohr))"
   ]
  },
  {
   "cell_type": "code",
   "execution_count": null,
   "metadata": {},
   "outputs": [
    {
     "ename": "",
     "evalue": "",
     "output_type": "error",
     "traceback": [
      "\u001b[1;31mRunning cells with '/Users/localadmin/miniconda3/envs/openff/bin/python' requires the ipykernel package.\n",
      "\u001b[1;31mRun the following command to install 'ipykernel' into the Python environment. \n",
      "\u001b[1;31mCommand: 'conda install -p /Users/localadmin/miniconda3/envs/openff ipykernel --update-deps --force-reinstall'"
     ]
    }
   ],
   "source": [
    "psi4.core.variables(['MBIS Charges'])"
   ]
  },
  {
   "cell_type": "code",
   "execution_count": 4,
   "metadata": {},
   "outputs": [
    {
     "name": "stdout",
     "output_type": "stream",
     "text": [
      "rdkit has generated 10 conformers from a requested 10 conformers\n"
     ]
    },
    {
     "ename": "AttributeError",
     "evalue": "type object 'Psi4Generate' has no attribute 'run_calc'",
     "output_type": "error",
     "traceback": [
      "\u001b[0;31m---------------------------------------------------------------------------\u001b[0m",
      "\u001b[0;31mAttributeError\u001b[0m                            Traceback (most recent call last)",
      "\u001b[1;32m/Users/localadmin/Documents/projects/QM_ESP_Psi4/examples/notebook_test.ipynb Cell 11\u001b[0m line \u001b[0;36m2\n\u001b[1;32m     <a href='vscode-notebook-cell:/Users/localadmin/Documents/projects/QM_ESP_Psi4/examples/notebook_test.ipynb#X13sZmlsZQ%3D%3D?line=13'>14</a>\u001b[0m grid_settings \u001b[39m=\u001b[39m LatticeGridSettings(\n\u001b[1;32m     <a href='vscode-notebook-cell:/Users/localadmin/Documents/projects/QM_ESP_Psi4/examples/notebook_test.ipynb#X13sZmlsZQ%3D%3D?line=14'>15</a>\u001b[0m         \u001b[39mtype\u001b[39m\u001b[39m=\u001b[39m\u001b[39m\"\u001b[39m\u001b[39mfcc\u001b[39m\u001b[39m\"\u001b[39m, spacing\u001b[39m=\u001b[39m\u001b[39m0.5\u001b[39m, inner_vdw_scale\u001b[39m=\u001b[39m\u001b[39m1.4\u001b[39m, outer_vdw_scale\u001b[39m=\u001b[39m\u001b[39m2.0\u001b[39m\n\u001b[1;32m     <a href='vscode-notebook-cell:/Users/localadmin/Documents/projects/QM_ESP_Psi4/examples/notebook_test.ipynb#X13sZmlsZQ%3D%3D?line=15'>16</a>\u001b[0m     )\n\u001b[1;32m     <a href='vscode-notebook-cell:/Users/localadmin/Documents/projects/QM_ESP_Psi4/examples/notebook_test.ipynb#X13sZmlsZQ%3D%3D?line=18'>19</a>\u001b[0m esp_settings \u001b[39m=\u001b[39m ESPSettings(basis\u001b[39m=\u001b[39m\u001b[39m\"\u001b[39m\u001b[39m6-31G*\u001b[39m\u001b[39m\"\u001b[39m, method\u001b[39m=\u001b[39m\u001b[39m\"\u001b[39m\u001b[39mhf\u001b[39m\u001b[39m\"\u001b[39m, grid_settings\u001b[39m=\u001b[39mgrid_settings)\n\u001b[0;32m---> <a href='vscode-notebook-cell:/Users/localadmin/Documents/projects/QM_ESP_Psi4/examples/notebook_test.ipynb#X13sZmlsZQ%3D%3D?line=20'>21</a>\u001b[0m xyz \u001b[39m=\u001b[39m Psi4Generate\u001b[39m.\u001b[39;49mrun_calc(test_mol,conformer_list[\u001b[39m0\u001b[39m],esp_settings,compute_esp\u001b[39m=\u001b[39m\u001b[39mTrue\u001b[39;00m,compute_field\u001b[39m=\u001b[39m\u001b[39mTrue\u001b[39;00m, minimize\u001b[39m=\u001b[39m\u001b[39mFalse\u001b[39;00m)\n\u001b[1;32m     <a href='vscode-notebook-cell:/Users/localadmin/Documents/projects/QM_ESP_Psi4/examples/notebook_test.ipynb#X13sZmlsZQ%3D%3D?line=22'>23</a>\u001b[0m molecule \u001b[39m=\u001b[39m psi4\u001b[39m.\u001b[39mgeometry(\n\u001b[1;32m     <a href='vscode-notebook-cell:/Users/localadmin/Documents/projects/QM_ESP_Psi4/examples/notebook_test.ipynb#X13sZmlsZQ%3D%3D?line=23'>24</a>\u001b[0m \u001b[39m\"\"\"\u001b[39;00m\n\u001b[1;32m     <a href='vscode-notebook-cell:/Users/localadmin/Documents/projects/QM_ESP_Psi4/examples/notebook_test.ipynb#X13sZmlsZQ%3D%3D?line=24'>25</a>\u001b[0m \u001b[39m3\u001b[39;00m\n\u001b[0;32m   (...)\u001b[0m\n\u001b[1;32m     <a href='vscode-notebook-cell:/Users/localadmin/Documents/projects/QM_ESP_Psi4/examples/notebook_test.ipynb#X13sZmlsZQ%3D%3D?line=29'>30</a>\u001b[0m \u001b[39m\"\"\"\u001b[39;00m\n\u001b[1;32m     <a href='vscode-notebook-cell:/Users/localadmin/Documents/projects/QM_ESP_Psi4/examples/notebook_test.ipynb#X13sZmlsZQ%3D%3D?line=30'>31</a>\u001b[0m )\n\u001b[1;32m     <a href='vscode-notebook-cell:/Users/localadmin/Documents/projects/QM_ESP_Psi4/examples/notebook_test.ipynb#X13sZmlsZQ%3D%3D?line=32'>33</a>\u001b[0m molecule\u001b[39m.\u001b[39mset_molecular_charge(\u001b[39m0\u001b[39m)\n",
      "\u001b[0;31mAttributeError\u001b[0m: type object 'Psi4Generate' has no attribute 'run_calc'"
     ]
    }
   ],
   "source": [
    "from source.optimize.openff_psi4_gen import Psi4Generate\n",
    "import psi4\n",
    "import qcengine\n",
    "\n",
    "test_mol =  smiles_to_molecule('[H]O[H]')\n",
    "\n",
    "#generate water test molecule as openff.toolkit.Molecule\n",
    "test_mol =  smiles_to_molecule('[H]O[H]')\n",
    "\n",
    "conformer_list = Conformers.generate(test_mol, generation_type='rdkit')\n",
    "conformer_list[0]\n",
    "qc_mol =  test_mol.to_qcschema(conformer=0)\n",
    "\n",
    "#Generate grid.dat file for grid_esp and grid_field\n",
    "grid_settings = LatticeGridSettings(\n",
    "        type=\"fcc\", spacing=0.5, inner_vdw_scale=1.4, outer_vdw_scale=2.0\n",
    "    )\n",
    "\n",
    "\n",
    "esp_settings = ESPSettings(basis=\"6-31G*\", method=\"hf\", grid_settings=grid_settings)\n",
    "\n",
    "xyz = Psi4Generate.run_calc(test_mol,conformer_list[0],esp_settings,compute_esp=True,compute_field=True, minimize=False)\n",
    "\n",
    "molecule = psi4.geometry(\n",
    "\"\"\"\n",
    "3\n",
    "[H]O[H]\n",
    "H\t-0.81024874\t-0.18571238\t-0.0\n",
    "O\t-0.00248133\t0.36959931\t-0.0\n",
    "H\t0.81273007\t-0.18388693\t0.0\n",
    "\"\"\"\n",
    ")\n",
    "\n",
    "molecule.set_molecular_charge(0)\n",
    "molecule.set_multiplicity(1)\n",
    "\n",
    "E, wfn = psi4.energy('hf/6-31g*', return_wfn=True, molecule = molecule)\n",
    "psi4.prop('hf/6-31G*', properties=[\"GRID_ESP\", \"GRID_FIELD\",\"MULLIKEN_CHARGES\", \"LOWDIN_CHARGES\", \"DIPOLE\", \"QUADRUPOLE\", \"MBIS_CHARGES\"])\n",
    "#psi4.core.print_variables()\n",
    "psi4.core.variables(['MBIS Charges'])\n",
    "molecule.fcharge"
   ]
  },
  {
   "cell_type": "code",
   "execution_count": 13,
   "metadata": {},
   "outputs": [
    {
     "name": "stdout",
     "output_type": "stream",
     "text": [
      "rdkit has generated 10 conformers from a requested 10 conformers\n",
      "FailedOperation(error=ComputeError(error_type='input_error', error_message=\"QCEngine Input Error: Error creating 'OptimizationInput', data could not be correctly parsed:\\n5 validation errors for OptimizationInput\\ninput_specification\\n  field required (type=value_error.missing)\\ninitial_molecule\\n  field required (type=value_error.missing)\\ndriver\\n  extra fields not permitted (type=value_error.extra)\\nmodel\\n  extra fields not permitted (type=value_error.extra)\\nmolecule\\n  extra fields not permitted (type=value_error.extra)\"))\n"
     ]
    },
    {
     "name": "stderr",
     "output_type": "stream",
     "text": [
      "/var/folders/5m/c625w21d6q3cgv41hc6yjs100000gq/T/ipykernel_18109/3519759898.py:19: FutureWarning: Using the `local_options` keyword argument is depreciated in favor of using `task_config`, in version 0.30.0 it will stop working.\n",
      "  opt = qcengine.compute_procedure(opt_spec, \"geometric\", local_options = { \"memory\": 2000000, \"ncores\":4})\n"
     ]
    }
   ],
   "source": [
    "from source.optimize.openff_psi4_gen import Psi4Generate\n",
    "from qcelemental.models.common_models import Model\n",
    "\n",
    "test_mol =  smiles_to_molecule('[H]O[H]')\n",
    "\n",
    "#generate water test molecule as openff.toolkit.Molecule\n",
    "test_mol =  smiles_to_molecule('[H]O[H]')\n",
    "conformer_list = Conformers.generate(test_mol, generation_type='rdkit')\n",
    "conformer_list[0]\n",
    "qc_mol =  test_mol.to_qcschema(conformer=0)\n",
    "\n",
    "\n",
    "\n",
    "opt_spec = { \"molecule\" : qc_mol,\n",
    "              \"driver\" : \"gradient\",\n",
    "              \"model\" : {\"method\":\"hf\",\"basis\":\"6-31G*\"}\n",
    "            }\n",
    "\n",
    "opt = qcengine.compute_procedure(opt_spec, \"geometric\", local_options = { \"memory\": 2000000, \"ncores\":4})\n",
    "print(opt)\n",
    "# print(opt.result)\n"
   ]
  },
  {
   "cell_type": "code",
   "execution_count": 1,
   "metadata": {},
   "outputs": [
    {
     "name": "stdout",
     "output_type": "stream",
     "text": [
      "Intel MKL WARNING: Support of Intel(R) Streaming SIMD Extensions 4.2 (Intel(R) SSE4.2) enabled only processors has been deprecated. Intel oneAPI Math Kernel Library 2025.0 will require Intel(R) Advanced Vector Extensions (Intel(R) AVX) instructions.\n",
      "Intel MKL WARNING: Support of Intel(R) Streaming SIMD Extensions 4.2 (Intel(R) SSE4.2) enabled only processors has been deprecated. Intel oneAPI Math Kernel Library 2025.0 will require Intel(R) Advanced Vector Extensions (Intel(R) AVX) instructions.\n",
      "rdkit has generated 10 conformers from a requested 10 conformers\n"
     ]
    },
    {
     "data": {
      "text/plain": [
       "{'CURRENT ENERGY': -76.00688623049763,\n",
       " 'CURRENT REFERENCE ENERGY': -76.00688623049763,\n",
       " 'DD SOLVATION ENERGY': 0.0,\n",
       " 'HF KINETIC ENERGY': 75.71208232169353,\n",
       " 'HF POTENTIAL ENERGY': -151.71896855219114,\n",
       " 'HF TOTAL ENERGY': -76.00688623049763,\n",
       " 'HF VIRIAL RATIO': 2.0038937498449916,\n",
       " 'NUCLEAR REPULSION ENERGY': 8.941189202753957,\n",
       " 'ONE-ELECTRON ENERGY': -122.62733060211329,\n",
       " 'PCM POLARIZATION ENERGY': 0.0,\n",
       " 'PE ENERGY': 0.0,\n",
       " 'SCF ITERATION ENERGY': -76.00688623049763,\n",
       " 'SCF ITERATIONS': 8.0,\n",
       " 'SCF TOTAL ENERGY': -76.00688623049763,\n",
       " 'TWO-ELECTRON ENERGY': 37.679255168861694,\n",
       " 'HF DIPOLE': array([ 0.00408617, -0.83522958,  0.        ]),\n",
       " 'HF QUADRUPOLE': array([[-2.78962776e+00,  4.75167568e-03,  0.00000000e+00],\n",
       "        [ 4.75167568e-03, -5.40692800e+00,  0.00000000e+00],\n",
       "        [ 0.00000000e+00,  0.00000000e+00, -5.41213293e+00]]),\n",
       " 'LOWDIN CHARGES': array([ 0.36108223, -0.72231233,  0.3612301 ]),\n",
       " 'MBIS CHARGES': array([[ 0.46457588],\n",
       "        [-0.92803681],\n",
       "        [ 0.46346084]]),\n",
       " 'MBIS DIPOLES': array([[-2.01864290e-02,  7.31481669e-04, -4.58530648e-16],\n",
       "        [-8.96320526e-04,  1.35494942e-01, -1.02401817e-15],\n",
       "        [ 2.03514443e-02,  8.15247025e-04,  1.26333295e-16]]),\n",
       " 'MBIS OCTUPOLES': array([[[[-2.47423681e-02,  3.17520881e-03, -4.15577920e-17],\n",
       "          [ 3.17520881e-03, -1.09086801e-02, -7.30112480e-16],\n",
       "          [-4.15577920e-17, -7.30112480e-16, -1.08872072e-02]],\n",
       " \n",
       "         [[ 3.17520881e-03, -1.09086801e-02, -7.30112480e-16],\n",
       "          [-1.09086801e-02,  9.90390205e-03, -4.37295146e-15],\n",
       "          [-7.30112480e-16, -4.37295146e-15,  7.79411957e-04]],\n",
       " \n",
       "         [[-4.15577920e-17, -7.30112480e-16, -1.08872072e-02],\n",
       "          [-7.30112480e-16, -4.37295146e-15,  7.79411957e-04],\n",
       "          [-1.08872072e-02,  7.79411957e-04, -3.31510674e-17]]],\n",
       " \n",
       " \n",
       "        [[[-7.76094285e-03,  3.91114582e-01, -4.07364536e-15],\n",
       "          [ 3.91114582e-01, -4.80041706e-04, -5.93541499e-16],\n",
       "          [-4.07364536e-15, -5.93541499e-16, -2.28133029e-03]],\n",
       " \n",
       "         [[ 3.91114582e-01, -4.80041706e-04, -5.93541499e-16],\n",
       "          [-4.80041706e-04,  4.90402600e-01, -1.88371716e-14],\n",
       "          [-5.93541499e-16, -1.88371716e-14,  1.19589947e-01]],\n",
       " \n",
       "         [[-4.07364536e-15, -5.93541499e-16, -2.28133029e-03],\n",
       "          [-5.93541499e-16, -1.88371716e-14,  1.19589947e-01],\n",
       "          [-2.28133029e-03,  1.19589947e-01, -4.90170474e-16]]],\n",
       " \n",
       " \n",
       "        [[[ 2.49307882e-02,  3.15906823e-03, -5.99109669e-17],\n",
       "          [ 3.15906823e-03,  1.10112553e-02,  9.42279375e-16],\n",
       "          [-5.99109669e-17,  9.42279375e-16,  1.09673771e-02]],\n",
       " \n",
       "         [[ 3.15906823e-03,  1.10112553e-02,  9.42279375e-16],\n",
       "          [ 1.10112553e-02,  1.02682277e-02, -4.22776639e-15],\n",
       "          [ 9.42279375e-16, -4.22776639e-15,  8.80509364e-04]],\n",
       " \n",
       "         [[-5.99109669e-17,  9.42279375e-16,  1.09673771e-02],\n",
       "          [ 9.42279375e-16, -4.22776639e-15,  8.80509364e-04],\n",
       "          [ 1.09673771e-02,  8.80509364e-04, -6.92013380e-17]]]]),\n",
       " 'MBIS QUADRUPOLES': array([[[-2.44526441e-01, -1.92142965e-03,  2.42888104e-16],\n",
       "         [-1.92142965e-03, -2.40525249e-01,  9.65235043e-16],\n",
       "         [ 2.42888104e-16,  9.65235043e-16, -2.49256924e-01]],\n",
       " \n",
       "        [[-4.60488438e+00,  6.33244257e-04,  1.50421516e-15],\n",
       "         [ 6.33244257e-04, -4.77221371e+00,  3.49333554e-15],\n",
       "         [ 1.50421516e-15,  3.49333554e-15, -4.91111602e+00]],\n",
       " \n",
       "        [[-2.46903142e-01,  1.82558118e-03, -1.49853864e-16],\n",
       "         [ 1.82558118e-03, -2.42847379e-01,  1.27428000e-15],\n",
       "         [-1.49853864e-16,  1.27428000e-15, -2.51759608e-01]]]),\n",
       " 'MBIS RADIAL MOMENTS <R^2>': <psi4.core.Matrix at 0x143326ab0>,\n",
       " 'MBIS RADIAL MOMENTS <R^3>': <psi4.core.Matrix at 0x143327410>,\n",
       " 'MBIS RADIAL MOMENTS <R^4>': <psi4.core.Matrix at 0x164630d70>,\n",
       " 'MBIS VALENCE WIDTHS': <psi4.core.Matrix at 0x164630cb0>,\n",
       " 'MULLIKEN CHARGES': array([ 0.43907508, -0.87763326,  0.43855818])}"
      ]
     },
     "execution_count": 1,
     "metadata": {},
     "output_type": "execute_result"
    }
   ],
   "source": [
    "import os\n",
    "import sys\n",
    "import random\n",
    "import numpy as np\n",
    "\n",
    "from tqdm import tqdm\n",
    "from rdkit.Chem import AllChem\n",
    "from rdkit.Chem.rdForceFieldHelpers import MMFFOptimizeMolecule\n",
    "\n",
    "from openff.units.elements import SYMBOLS\n",
    "from openff.toolkit import Molecule\n",
    "from openff.recharge.conformers import ConformerGenerator, ConformerSettings\n",
    "from openff.recharge.esp import ESPSettings\n",
    "from openff.recharge.esp.storage import MoleculeESPRecord, MoleculeESPStore\n",
    "from openff.recharge.grids import LatticeGridSettings, GridSettingsType, GridGenerator\n",
    "from openff.recharge.utilities.molecule import smiles_to_molecule\n",
    "from qcelemental.models.procedures import OptimizationInput, QCInputSpecification\n",
    "from openff.units import unit\n",
    "from qcelemental.models.common_models import Model\n",
    "\n",
    "sys.path.append('/Users/localadmin/Documents/projects/QM_ESP_Psi4')\n",
    "\n",
    "from source.optimize.openff_psi4_gen import Psi4Generate\n",
    "from source.conformers.conformer_gen import Conformers\n",
    "from source.utilities.conversion_functions import conf_to_xyz_string\n",
    "\n",
    "\n",
    "import psi4\n",
    "\n",
    "sys.settrace \n",
    "\n",
    "test_mol =  smiles_to_molecule('[H]O[H]')\n",
    "\n",
    "#generate water test molecule as openff.toolkit.Molecule\n",
    "test_mol =  smiles_to_molecule('[H]O[H]')\n",
    "conformer_list = Conformers.generate(test_mol, generation_type='rdkit')\n",
    "conformer_list[0]\n",
    "qc_mol =  test_mol.to_qcschema(conformer=0)\n",
    "\n",
    "#Generate grid.dat file for grid_esp and grid_field\n",
    "grid_settings = LatticeGridSettings(\n",
    "        type=\"fcc\", spacing=0.5, inner_vdw_scale=1.4, outer_vdw_scale=2.0\n",
    "    )\n",
    "grid = GridGenerator.generate(test_mol, conformer_list[0], grid_settings)\n",
    "\n",
    "grid = grid.to(unit.angstrom).m\n",
    "np.savetxt(\"grid.dat\", grid, delimiter=\" \", fmt=\"%16.10f\")\n",
    "\n",
    "\n",
    "esp_settings = ESPSettings(basis=\"6-31G*\", method=\"hf\", grid_settings=grid_settings)\n",
    "\n",
    "xyz = conformer_string = conf_to_xyz_string(conformer_list[0], test_mol)\n",
    "\n",
    "psi4.set_output_file('output.dat')\n",
    "\n",
    "molecule = psi4.core.Molecule.from_string(\"\"\"\n",
    "                                            nocom\n",
    "                                            noreorient\n",
    "                                            H\t-0.81024874\t-0.18571238\t-0.0\n",
    "                                            O\t-0.00248133\t0.36959931\t-0.0\n",
    "                                            H\t0.81273007\t-0.18388693\t0.0 \n",
    "                                          \"\"\")\n",
    "\n",
    "molecule.set_molecular_charge(0)\n",
    "molecule.set_multiplicity(1)\n",
    "\n",
    "psi4.set_options({\"DFT_SPHERICAL_POINTS\":\"590\",\n",
    "                  \"DFT_RADIAL_POINTS\":\"99\"})\n",
    "\n",
    "E, wfn = psi4.prop('hf/6-31G*', properties=[\"GRID_ESP\", \n",
    "                                            \"GRID_FIELD\",\n",
    "                                            \"MULLIKEN_CHARGES\", \n",
    "                                            \"LOWDIN_CHARGES\", \n",
    "                                            \"DIPOLE\", \n",
    "                                            \"QUADRUPOLE\", \n",
    "                                            \"MBIS_CHARGES\"],\n",
    "                                            molecule = molecule, \n",
    "                                            return_wfn = True,\n",
    "                                            )  #\"GRID_ESP\", \"GRID_FIELD\"\n",
    "psi4.core.variables(['MBIS Charges'])\n",
    "wfn.variables()"
   ]
  },
  {
   "cell_type": "code",
   "execution_count": null,
   "metadata": {},
   "outputs": [
    {
     "ename": "",
     "evalue": "",
     "output_type": "error",
     "traceback": [
      "\u001b[1;31mRunning cells with '/Users/localadmin/miniconda3/envs/openff/bin/python' requires the ipykernel package.\n",
      "\u001b[1;31mRun the following command to install 'ipykernel' into the Python environment. \n",
      "\u001b[1;31mCommand: 'conda install -p /Users/localadmin/miniconda3/envs/openff ipykernel --update-deps --force-reinstall'"
     ]
    }
   ],
   "source": [
    "prop"
   ]
  },
  {
   "cell_type": "code",
   "execution_count": null,
   "metadata": {},
   "outputs": [
    {
     "ename": "",
     "evalue": "",
     "output_type": "error",
     "traceback": [
      "\u001b[1;31mRunning cells with '/Users/localadmin/miniconda3/envs/openff/bin/python' requires the ipykernel package.\n",
      "\u001b[1;31mRun the following command to install 'ipykernel' into the Python environment. \n",
      "\u001b[1;31mCommand: 'conda install -p /Users/localadmin/miniconda3/envs/openff ipykernel --update-deps --force-reinstall'"
     ]
    }
   ],
   "source": [
    "wfn.variables()"
   ]
  },
  {
   "cell_type": "code",
   "execution_count": null,
   "metadata": {},
   "outputs": [
    {
     "ename": "",
     "evalue": "",
     "output_type": "error",
     "traceback": [
      "\u001b[1;31mRunning cells with '/Users/localadmin/miniconda3/envs/openff/bin/python' requires the ipykernel package.\n",
      "\u001b[1;31mRun the following command to install 'ipykernel' into the Python environment. \n",
      "\u001b[1;31mCommand: 'conda install -p /Users/localadmin/miniconda3/envs/openff ipykernel --update-deps --force-reinstall'"
     ]
    }
   ],
   "source": [
    "molecule = psi4.core.Molecule.from_string(\"\"\"\n",
    "                                            nocom\n",
    "                                            noreorient\n",
    "                                            H\t-0.81024874\t-0.18571238\t-0.0\n",
    "                                            O\t-0.00248133\t0.36959931\t-0.0\n",
    "                                            H\t0.81273007\t-0.18388693\t0.0 \n",
    "                                          \"\"\")\n",
    "\n",
    "molecule.to_string('xyz')\n"
   ]
  },
  {
   "cell_type": "code",
   "execution_count": null,
   "metadata": {},
   "outputs": [
    {
     "ename": "",
     "evalue": "",
     "output_type": "error",
     "traceback": [
      "\u001b[1;31mRunning cells with '/Users/localadmin/miniconda3/envs/openff/bin/python' requires the ipykernel package.\n",
      "\u001b[1;31mRun the following command to install 'ipykernel' into the Python environment. \n",
      "\u001b[1;31mCommand: 'conda install -p /Users/localadmin/miniconda3/envs/openff ipykernel --update-deps --force-reinstall'"
     ]
    }
   ],
   "source": [
    "mulliken_charges = wfn.variable(\"MULLIKEN_CHARGES\")\n",
    "lowdin_charges = wfn.variable(\"LOWDIN_CHARGES\")\n",
    "dipole = wfn.variable(\"HF DIPOLE\")\n",
    "quadrupole = wfn.variable(\"HF QUADRUPOLE\")\n",
    "mbis_charges = wfn.variable(\"MBIS CHARGES\")"
   ]
  },
  {
   "cell_type": "code",
   "execution_count": null,
   "metadata": {},
   "outputs": [
    {
     "ename": "",
     "evalue": "",
     "output_type": "error",
     "traceback": [
      "\u001b[1;31mRunning cells with '/Users/localadmin/miniconda3/envs/openff/bin/python' requires the ipykernel package.\n",
      "\u001b[1;31mRun the following command to install 'ipykernel' into the Python environment. \n",
      "\u001b[1;31mCommand: 'conda install -p /Users/localadmin/miniconda3/envs/openff ipykernel --update-deps --force-reinstall'"
     ]
    }
   ],
   "source": [
    "variable_names = [\"MULLIKEN_CHARGES\", \"LOWDIN_CHARGES\", \"HF DIPOLE\", \"HF QUADRUPOLE\", \"MBIS CHARGES\"]\n",
    "variables = {name: wfn.variable(name) for name in variable_names}"
   ]
  },
  {
   "cell_type": "code",
   "execution_count": null,
   "metadata": {},
   "outputs": [
    {
     "ename": "",
     "evalue": "",
     "output_type": "error",
     "traceback": [
      "\u001b[1;31mRunning cells with '/Users/localadmin/miniconda3/envs/openff/bin/python' requires the ipykernel package.\n",
      "\u001b[1;31mRun the following command to install 'ipykernel' into the Python environment. \n",
      "\u001b[1;31mCommand: 'conda install -p /Users/localadmin/miniconda3/envs/openff ipykernel --update-deps --force-reinstall'"
     ]
    }
   ],
   "source": [
    "from qcelemental.models import Molecule as QCMol\n",
    "qc_mol =  test_mol.to_qcschema(conformer=0)\n",
    "qc_mol = QCMol(**qc_mol.dict(exclude={\"fix_com\", \"fix_orientation\"}), fix_com=True, fix_orientation=True)\n",
    "molecule = psi4.geometry(qc_mol.to_string(\"psi4\"))\n",
    "qc_mol.geometry"
   ]
  },
  {
   "cell_type": "code",
   "execution_count": 2,
   "metadata": {},
   "outputs": [
    {
     "name": "stdout",
     "output_type": "stream",
     "text": [
      "rdkit has generated 10 conformers from a requested 10 conformers\n"
     ]
    },
    {
     "name": "stderr",
     "output_type": "stream",
     "text": [
      "/Users/localadmin/Documents/projects/QM_ESP_Psi4/source/optimize/esp_generator_wrapper.py:147: FutureWarning: Using the `local_options` keyword argument is depreciated in favor of using `task_config`, in version 0.30.0 it will stop working.\n",
      "  opt = qcengine.compute_procedure(opt_spec, \"geometric\", local_options = { \"memory\": self.memory, \"ncores\": self.ncores})\n"
     ]
    },
    {
     "name": "stdout",
     "output_type": "stream",
     "text": [
      "number of cores is 4\n",
      "memory is 2000000000.0\n",
      "conformer 0 for [H][O][C]([H])([H])[C]([H])([O][H])[C]([H])([H])[O][H]\n",
      "Intel MKL WARNING: Support of Intel(R) Streaming SIMD Extensions 4.2 (Intel(R) SSE4.2) enabled only processors has been deprecated. Intel oneAPI Math Kernel Library 2025.0 will require Intel(R) Advanced Vector Extensions (Intel(R) AVX) instructions.\n",
      "Intel MKL WARNING: Support of Intel(R) Streaming SIMD Extensions 4.2 (Intel(R) SSE4.2) enabled only processors has been deprecated. Intel oneAPI Math Kernel Library 2025.0 will require Intel(R) Advanced Vector Extensions (Intel(R) AVX) instructions.\n",
      "Intel MKL WARNING: Support of Intel(R) Streaming SIMD Extensions 4.2 (Intel(R) SSE4.2) enabled only processors has been deprecated. Intel oneAPI Math Kernel Library 2025.0 will require Intel(R) Advanced Vector Extensions (Intel(R) AVX) instructions.\n",
      "Intel MKL WARNING: Support of Intel(R) Streaming SIMD Extensions 4.2 (Intel(R) SSE4.2) enabled only processors has been deprecated. Intel oneAPI Math Kernel Library 2025.0 will require Intel(R) Advanced Vector Extensions (Intel(R) AVX) instructions.\n",
      "Intel MKL WARNING: Support of Intel(R) Streaming SIMD Extensions 4.2 (Intel(R) SSE4.2) enabled only processors has been deprecated. Intel oneAPI Math Kernel Library 2025.0 will require Intel(R) Advanced Vector Extensions (Intel(R) AVX) instructions.\n",
      "Intel MKL WARNING: Support of Intel(R) Streaming SIMD Extensions 4.2 (Intel(R) SSE4.2) enabled only processors has been deprecated. Intel oneAPI Math Kernel Library 2025.0 will require Intel(R) Advanced Vector Extensions (Intel(R) AVX) instructions.\n",
      "Intel MKL WARNING: Support of Intel(R) Streaming SIMD Extensions 4.2 (Intel(R) SSE4.2) enabled only processors has been deprecated. Intel oneAPI Math Kernel Library 2025.0 will require Intel(R) Advanced Vector Extensions (Intel(R) AVX) instructions.\n",
      "Intel MKL WARNING: Support of Intel(R) Streaming SIMD Extensions 4.2 (Intel(R) SSE4.2) enabled only processors has been deprecated. Intel oneAPI Math Kernel Library 2025.0 will require Intel(R) Advanced Vector Extensions (Intel(R) AVX) instructions.\n",
      "Intel MKL WARNING: Support of Intel(R) Streaming SIMD Extensions 4.2 (Intel(R) SSE4.2) enabled only processors has been deprecated. Intel oneAPI Math Kernel Library 2025.0 will require Intel(R) Advanced Vector Extensions (Intel(R) AVX) instructions.\n",
      "Intel MKL WARNING: Support of Intel(R) Streaming SIMD Extensions 4.2 (Intel(R) SSE4.2) enabled only processors has been deprecated. Intel oneAPI Math Kernel Library 2025.0 will require Intel(R) Advanced Vector Extensions (Intel(R) AVX) instructions.\n",
      "Intel MKL WARNING: Support of Intel(R) Streaming SIMD Extensions 4.2 (Intel(R) SSE4.2) enabled only processors has been deprecated. Intel oneAPI Math Kernel Library 2025.0 will require Intel(R) Advanced Vector Extensions (Intel(R) AVX) instructions.\n",
      "Intel MKL WARNING: Support of Intel(R) Streaming SIMD Extensions 4.2 (Intel(R) SSE4.2) enabled only processors has been deprecated. Intel oneAPI Math Kernel Library 2025.0 will require Intel(R) Advanced Vector Extensions (Intel(R) AVX) instructions.\n",
      "Intel MKL WARNING: Support of Intel(R) Streaming SIMD Extensions 4.2 (Intel(R) SSE4.2) enabled only processors has been deprecated. Intel oneAPI Math Kernel Library 2025.0 will require Intel(R) Advanced Vector Extensions (Intel(R) AVX) instructions.\n",
      "Intel MKL WARNING: Support of Intel(R) Streaming SIMD Extensions 4.2 (Intel(R) SSE4.2) enabled only processors has been deprecated. Intel oneAPI Math Kernel Library 2025.0 will require Intel(R) Advanced Vector Extensions (Intel(R) AVX) instructions.\n",
      "Intel MKL WARNING: Support of Intel(R) Streaming SIMD Extensions 4.2 (Intel(R) SSE4.2) enabled only processors has been deprecated. Intel oneAPI Math Kernel Library 2025.0 will require Intel(R) Advanced Vector Extensions (Intel(R) AVX) instructions.\n",
      "Intel MKL WARNING: Support of Intel(R) Streaming SIMD Extensions 4.2 (Intel(R) SSE4.2) enabled only processors has been deprecated. Intel oneAPI Math Kernel Library 2025.0 will require Intel(R) Advanced Vector Extensions (Intel(R) AVX) instructions.\n",
      "Intel MKL WARNING: Support of Intel(R) Streaming SIMD Extensions 4.2 (Intel(R) SSE4.2) enabled only processors has been deprecated. Intel oneAPI Math Kernel Library 2025.0 will require Intel(R) Advanced Vector Extensions (Intel(R) AVX) instructions.\n",
      "Intel MKL WARNING: Support of Intel(R) Streaming SIMD Extensions 4.2 (Intel(R) SSE4.2) enabled only processors has been deprecated. Intel oneAPI Math Kernel Library 2025.0 will require Intel(R) Advanced Vector Extensions (Intel(R) AVX) instructions.\n",
      "Intel MKL WARNING: Support of Intel(R) Streaming SIMD Extensions 4.2 (Intel(R) SSE4.2) enabled only processors has been deprecated. Intel oneAPI Math Kernel Library 2025.0 will require Intel(R) Advanced Vector Extensions (Intel(R) AVX) instructions.\n",
      "Intel MKL WARNING: Support of Intel(R) Streaming SIMD Extensions 4.2 (Intel(R) SSE4.2) enabled only processors has been deprecated. Intel oneAPI Math Kernel Library 2025.0 will require Intel(R) Advanced Vector Extensions (Intel(R) AVX) instructions.\n",
      "Intel MKL WARNING: Support of Intel(R) Streaming SIMD Extensions 4.2 (Intel(R) SSE4.2) enabled only processors has been deprecated. Intel oneAPI Math Kernel Library 2025.0 will require Intel(R) Advanced Vector Extensions (Intel(R) AVX) instructions.\n",
      "Intel MKL WARNING: Support of Intel(R) Streaming SIMD Extensions 4.2 (Intel(R) SSE4.2) enabled only processors has been deprecated. Intel oneAPI Math Kernel Library 2025.0 will require Intel(R) Advanced Vector Extensions (Intel(R) AVX) instructions.\n",
      "Intel MKL WARNING: Support of Intel(R) Streaming SIMD Extensions 4.2 (Intel(R) SSE4.2) enabled only processors has been deprecated. Intel oneAPI Math Kernel Library 2025.0 will require Intel(R) Advanced Vector Extensions (Intel(R) AVX) instructions.\n",
      "Intel MKL WARNING: Support of Intel(R) Streaming SIMD Extensions 4.2 (Intel(R) SSE4.2) enabled only processors has been deprecated. Intel oneAPI Math Kernel Library 2025.0 will require Intel(R) Advanced Vector Extensions (Intel(R) AVX) instructions.\n",
      "Intel MKL WARNING: Support of Intel(R) Streaming SIMD Extensions 4.2 (Intel(R) SSE4.2) enabled only processors has been deprecated. Intel oneAPI Math Kernel Library 2025.0 will require Intel(R) Advanced Vector Extensions (Intel(R) AVX) instructions.\n",
      "Intel MKL WARNING: Support of Intel(R) Streaming SIMD Extensions 4.2 (Intel(R) SSE4.2) enabled only processors has been deprecated. Intel oneAPI Math Kernel Library 2025.0 will require Intel(R) Advanced Vector Extensions (Intel(R) AVX) instructions.\n",
      "Intel MKL WARNING: Support of Intel(R) Streaming SIMD Extensions 4.2 (Intel(R) SSE4.2) enabled only processors has been deprecated. Intel oneAPI Math Kernel Library 2025.0 will require Intel(R) Advanced Vector Extensions (Intel(R) AVX) instructions.\n",
      "Intel MKL WARNING: Support of Intel(R) Streaming SIMD Extensions 4.2 (Intel(R) SSE4.2) enabled only processors has been deprecated. Intel oneAPI Math Kernel Library 2025.0 will require Intel(R) Advanced Vector Extensions (Intel(R) AVX) instructions.\n",
      "Intel MKL WARNING: Support of Intel(R) Streaming SIMD Extensions 4.2 (Intel(R) SSE4.2) enabled only processors has been deprecated. Intel oneAPI Math Kernel Library 2025.0 will require Intel(R) Advanced Vector Extensions (Intel(R) AVX) instructions.\n",
      "Intel MKL WARNING: Support of Intel(R) Streaming SIMD Extensions 4.2 (Intel(R) SSE4.2) enabled only processors has been deprecated. Intel oneAPI Math Kernel Library 2025.0 will require Intel(R) Advanced Vector Extensions (Intel(R) AVX) instructions.\n",
      "Intel MKL WARNING: Support of Intel(R) Streaming SIMD Extensions 4.2 (Intel(R) SSE4.2) enabled only processors has been deprecated. Intel oneAPI Math Kernel Library 2025.0 will require Intel(R) Advanced Vector Extensions (Intel(R) AVX) instructions.\n",
      "Intel MKL WARNING: Support of Intel(R) Streaming SIMD Extensions 4.2 (Intel(R) SSE4.2) enabled only processors has been deprecated. Intel oneAPI Math Kernel Library 2025.0 will require Intel(R) Advanced Vector Extensions (Intel(R) AVX) instructions.\n",
      "Intel MKL WARNING: Support of Intel(R) Streaming SIMD Extensions 4.2 (Intel(R) SSE4.2) enabled only processors has been deprecated. Intel oneAPI Math Kernel Library 2025.0 will require Intel(R) Advanced Vector Extensions (Intel(R) AVX) instructions.\n",
      "Intel MKL WARNING: Support of Intel(R) Streaming SIMD Extensions 4.2 (Intel(R) SSE4.2) enabled only processors has been deprecated. Intel oneAPI Math Kernel Library 2025.0 will require Intel(R) Advanced Vector Extensions (Intel(R) AVX) instructions.\n",
      "Intel MKL WARNING: Support of Intel(R) Streaming SIMD Extensions 4.2 (Intel(R) SSE4.2) enabled only processors has been deprecated. Intel oneAPI Math Kernel Library 2025.0 will require Intel(R) Advanced Vector Extensions (Intel(R) AVX) instructions.\n",
      "Intel MKL WARNING: Support of Intel(R) Streaming SIMD Extensions 4.2 (Intel(R) SSE4.2) enabled only processors has been deprecated. Intel oneAPI Math Kernel Library 2025.0 will require Intel(R) Advanced Vector Extensions (Intel(R) AVX) instructions.\n",
      "Intel MKL WARNING: Support of Intel(R) Streaming SIMD Extensions 4.2 (Intel(R) SSE4.2) enabled only processors has been deprecated. Intel oneAPI Math Kernel Library 2025.0 will require Intel(R) Advanced Vector Extensions (Intel(R) AVX) instructions.\n",
      "Intel MKL WARNING: Support of Intel(R) Streaming SIMD Extensions 4.2 (Intel(R) SSE4.2) enabled only processors has been deprecated. Intel oneAPI Math Kernel Library 2025.0 will require Intel(R) Advanced Vector Extensions (Intel(R) AVX) instructions.\n",
      "Intel MKL WARNING: Support of Intel(R) Streaming SIMD Extensions 4.2 (Intel(R) SSE4.2) enabled only processors has been deprecated. Intel oneAPI Math Kernel Library 2025.0 will require Intel(R) Advanced Vector Extensions (Intel(R) AVX) instructions.\n",
      "Intel MKL WARNING: Support of Intel(R) Streaming SIMD Extensions 4.2 (Intel(R) SSE4.2) enabled only processors has been deprecated. Intel oneAPI Math Kernel Library 2025.0 will require Intel(R) Advanced Vector Extensions (Intel(R) AVX) instructions.\n",
      "Intel MKL WARNING: Support of Intel(R) Streaming SIMD Extensions 4.2 (Intel(R) SSE4.2) enabled only processors has been deprecated. Intel oneAPI Math Kernel Library 2025.0 will require Intel(R) Advanced Vector Extensions (Intel(R) AVX) instructions.\n",
      "Intel MKL WARNING: Support of Intel(R) Streaming SIMD Extensions 4.2 (Intel(R) SSE4.2) enabled only processors has been deprecated. Intel oneAPI Math Kernel Library 2025.0 will require Intel(R) Advanced Vector Extensions (Intel(R) AVX) instructions.\n",
      "Intel MKL WARNING: Support of Intel(R) Streaming SIMD Extensions 4.2 (Intel(R) SSE4.2) enabled only processors has been deprecated. Intel oneAPI Math Kernel Library 2025.0 will require Intel(R) Advanced Vector Extensions (Intel(R) AVX) instructions.\n",
      "Intel MKL WARNING: Support of Intel(R) Streaming SIMD Extensions 4.2 (Intel(R) SSE4.2) enabled only processors has been deprecated. Intel oneAPI Math Kernel Library 2025.0 will require Intel(R) Advanced Vector Extensions (Intel(R) AVX) instructions.\n",
      "Intel MKL WARNING: Support of Intel(R) Streaming SIMD Extensions 4.2 (Intel(R) SSE4.2) enabled only processors has been deprecated. Intel oneAPI Math Kernel Library 2025.0 will require Intel(R) Advanced Vector Extensions (Intel(R) AVX) instructions.\n",
      "Intel MKL WARNING: Support of Intel(R) Streaming SIMD Extensions 4.2 (Intel(R) SSE4.2) enabled only processors has been deprecated. Intel oneAPI Math Kernel Library 2025.0 will require Intel(R) Advanced Vector Extensions (Intel(R) AVX) instructions.\n",
      "Intel MKL WARNING: Support of Intel(R) Streaming SIMD Extensions 4.2 (Intel(R) SSE4.2) enabled only processors has been deprecated. Intel oneAPI Math Kernel Library 2025.0 will require Intel(R) Advanced Vector Extensions (Intel(R) AVX) instructions.\n",
      "Intel MKL WARNING: Support of Intel(R) Streaming SIMD Extensions 4.2 (Intel(R) SSE4.2) enabled only processors has been deprecated. Intel oneAPI Math Kernel Library 2025.0 will require Intel(R) Advanced Vector Extensions (Intel(R) AVX) instructions.\n"
     ]
    },
    {
     "ename": "KeyboardInterrupt",
     "evalue": "",
     "output_type": "error",
     "traceback": [
      "\u001b[0;31m---------------------------------------------------------------------------\u001b[0m",
      "\u001b[0;31mKeyboardInterrupt\u001b[0m                         Traceback (most recent call last)",
      "\u001b[1;32m/Users/localadmin/Documents/projects/QM_ESP_Psi4/examples/notebook_test.ipynb Cell 20\u001b[0m line \u001b[0;36m3\n\u001b[1;32m     <a href='vscode-notebook-cell:/Users/localadmin/Documents/projects/QM_ESP_Psi4/examples/notebook_test.ipynb#X25sZmlsZQ%3D%3D?line=33'>34</a>\u001b[0m \u001b[39mprint\u001b[39m(\u001b[39mf\u001b[39m\u001b[39m'\u001b[39m\u001b[39mnumber of cores is \u001b[39m\u001b[39m{\u001b[39;00mESP_gen\u001b[39m.\u001b[39mncores\u001b[39m}\u001b[39;00m\u001b[39m'\u001b[39m)\n\u001b[1;32m     <a href='vscode-notebook-cell:/Users/localadmin/Documents/projects/QM_ESP_Psi4/examples/notebook_test.ipynb#X25sZmlsZQ%3D%3D?line=34'>35</a>\u001b[0m \u001b[39mprint\u001b[39m(\u001b[39mf\u001b[39m\u001b[39m'\u001b[39m\u001b[39mmemory is \u001b[39m\u001b[39m{\u001b[39;00mESP_gen\u001b[39m.\u001b[39mmemory\u001b[39m}\u001b[39;00m\u001b[39m'\u001b[39m)\n\u001b[0;32m---> <a href='vscode-notebook-cell:/Users/localadmin/Documents/projects/QM_ESP_Psi4/examples/notebook_test.ipynb#X25sZmlsZQ%3D%3D?line=35'>36</a>\u001b[0m ESP_gen\u001b[39m.\u001b[39;49mrun_props()\n\u001b[1;32m     <a href='vscode-notebook-cell:/Users/localadmin/Documents/projects/QM_ESP_Psi4/examples/notebook_test.ipynb#X25sZmlsZQ%3D%3D?line=36'>37</a>\u001b[0m \u001b[39m#ESP_gen.fetch_data()\u001b[39;00m\n",
      "File \u001b[0;32m~/Documents/projects/QM_ESP_Psi4/source/optimize/esp_generator_wrapper.py:229\u001b[0m, in \u001b[0;36mPropGenerator.run_props\u001b[0;34m(self)\u001b[0m\n\u001b[1;32m    227\u001b[0m qc_mol \u001b[39m=\u001b[39m \u001b[39mself\u001b[39m\u001b[39m.\u001b[39mmolecule\u001b[39m.\u001b[39mto_qcschema(conformer\u001b[39m=\u001b[39mconf_no)\n\u001b[1;32m    228\u001b[0m \u001b[39m#run a ff optimize for each conformer to make sure the starting structure is sensible\u001b[39;00m\n\u001b[0;32m--> 229\u001b[0m xtb_opt_mol \u001b[39m=\u001b[39m \u001b[39mself\u001b[39;49m\u001b[39m.\u001b[39;49m_xtb_ff_opt(qc_mol)\n\u001b[1;32m    230\u001b[0m \u001b[39m#hf QM optimisation           \u001b[39;00m\n\u001b[1;32m    231\u001b[0m hf_opt_mol \u001b[39m=\u001b[39m \u001b[39mself\u001b[39m\u001b[39m.\u001b[39m_psi4_opt(qc_mol\u001b[39m=\u001b[39mxtb_opt_mol)\n",
      "File \u001b[0;32m~/Documents/projects/QM_ESP_Psi4/source/optimize/esp_generator_wrapper.py:130\u001b[0m, in \u001b[0;36mESPGenerator._xtb_ff_opt\u001b[0;34m(self, qc_mol)\u001b[0m\n\u001b[1;32m    128\u001b[0m xtb_model \u001b[39m=\u001b[39m Model(method\u001b[39m=\u001b[39m\u001b[39m\"\u001b[39m\u001b[39mgfn2-xtb\u001b[39m\u001b[39m\"\u001b[39m, basis\u001b[39m=\u001b[39m\u001b[39mNone\u001b[39;00m)\n\u001b[1;32m    129\u001b[0m keywords \u001b[39m=\u001b[39m {\u001b[39m\"\u001b[39m\u001b[39mverbosity\u001b[39m\u001b[39m\"\u001b[39m: \u001b[39m\"\u001b[39m\u001b[39mmuted\u001b[39m\u001b[39m\"\u001b[39m}\n\u001b[0;32m--> 130\u001b[0m \u001b[39mreturn\u001b[39;00m \u001b[39mself\u001b[39;49m\u001b[39m.\u001b[39;49m_qcengine_opt(\n\u001b[1;32m    131\u001b[0m     qc_mol\u001b[39m=\u001b[39;49mqc_mol, model\u001b[39m=\u001b[39;49mxtb_model, program\u001b[39m=\u001b[39;49m\u001b[39m\"\u001b[39;49m\u001b[39mxtb\u001b[39;49m\u001b[39m\"\u001b[39;49m, spec_keywords\u001b[39m=\u001b[39;49mkeywords\n\u001b[1;32m    132\u001b[0m )\n",
      "File \u001b[0;32m~/Documents/projects/QM_ESP_Psi4/source/optimize/esp_generator_wrapper.py:147\u001b[0m, in \u001b[0;36mESPGenerator._qcengine_opt\u001b[0;34m(self, qc_mol, model, program, spec_keywords)\u001b[0m\n\u001b[1;32m    138\u001b[0m spec \u001b[39m=\u001b[39m QCInputSpecification(model\u001b[39m=\u001b[39mmodel, keywords\u001b[39m=\u001b[39mspec_keywords, driver\u001b[39m=\u001b[39m\u001b[39m\"\u001b[39m\u001b[39mgradient\u001b[39m\u001b[39m\"\u001b[39m)\n\u001b[1;32m    139\u001b[0m opt_spec \u001b[39m=\u001b[39m OptimizationInput(\n\u001b[1;32m    140\u001b[0m     initial_molecule\u001b[39m=\u001b[39mqc_mol,\n\u001b[1;32m    141\u001b[0m     input_specification\u001b[39m=\u001b[39mspec,\n\u001b[0;32m   (...)\u001b[0m\n\u001b[1;32m    145\u001b[0m             \n\u001b[1;32m    146\u001b[0m )\n\u001b[0;32m--> 147\u001b[0m opt \u001b[39m=\u001b[39m qcengine\u001b[39m.\u001b[39;49mcompute_procedure(opt_spec, \u001b[39m\"\u001b[39;49m\u001b[39mgeometric\u001b[39;49m\u001b[39m\"\u001b[39;49m, local_options \u001b[39m=\u001b[39;49m { \u001b[39m\"\u001b[39;49m\u001b[39mmemory\u001b[39;49m\u001b[39m\"\u001b[39;49m: \u001b[39mself\u001b[39;49m\u001b[39m.\u001b[39;49mmemory, \u001b[39m\"\u001b[39;49m\u001b[39mncores\u001b[39;49m\u001b[39m\"\u001b[39;49m: \u001b[39mself\u001b[39;49m\u001b[39m.\u001b[39;49mncores})\n\u001b[1;32m    148\u001b[0m \u001b[39mprint\u001b[39m(opt)\n\u001b[1;32m    149\u001b[0m \u001b[39mreturn\u001b[39;00m opt\u001b[39m.\u001b[39mfinal_molecule\n",
      "File \u001b[0;32m~/mambaforge/envs/openff/lib/python3.11/site-packages/qcengine/compute.py:179\u001b[0m, in \u001b[0;36mcompute_procedure\u001b[0;34m(input_data, procedure, raise_error, task_config, local_options, return_dict)\u001b[0m\n\u001b[1;32m    177\u001b[0m     \u001b[39m# Set environment parameters and execute\u001b[39;00m\n\u001b[1;32m    178\u001b[0m     \u001b[39mwith\u001b[39;00m environ_context(config\u001b[39m=\u001b[39mconfig):\n\u001b[0;32m--> 179\u001b[0m         output_data \u001b[39m=\u001b[39m executor\u001b[39m.\u001b[39;49mcompute(input_data, config)\n\u001b[1;32m    181\u001b[0m \u001b[39mreturn\u001b[39;00m handle_output_metadata(output_data, metadata, raise_error\u001b[39m=\u001b[39mraise_error, return_dict\u001b[39m=\u001b[39mreturn_dict)\n",
      "File \u001b[0;32m~/mambaforge/envs/openff/lib/python3.11/site-packages/qcengine/procedures/geometric.py:57\u001b[0m, in \u001b[0;36mGeometricProcedure.compute\u001b[0;34m(self, input_model, config)\u001b[0m\n\u001b[1;32m     54\u001b[0m input_data[\u001b[39m\"\u001b[39m\u001b[39minput_specification\u001b[39m\u001b[39m\"\u001b[39m][\u001b[39m\"\u001b[39m\u001b[39mextras\u001b[39m\u001b[39m\"\u001b[39m][\u001b[39m\"\u001b[39m\u001b[39m_qcengine_local_config\u001b[39m\u001b[39m\"\u001b[39m] \u001b[39m=\u001b[39m local_config\n\u001b[1;32m     56\u001b[0m \u001b[39m# Run the program\u001b[39;00m\n\u001b[0;32m---> 57\u001b[0m output_data \u001b[39m=\u001b[39m geometric\u001b[39m.\u001b[39;49mrun_json\u001b[39m.\u001b[39;49mgeometric_run_json(input_data)\n\u001b[1;32m     59\u001b[0m output_data[\u001b[39m\"\u001b[39m\u001b[39mprovenance\u001b[39m\u001b[39m\"\u001b[39m] \u001b[39m=\u001b[39m {\n\u001b[1;32m     60\u001b[0m     \u001b[39m\"\u001b[39m\u001b[39mcreator\u001b[39m\u001b[39m\"\u001b[39m: \u001b[39m\"\u001b[39m\u001b[39mgeomeTRIC\u001b[39m\u001b[39m\"\u001b[39m,\n\u001b[1;32m     61\u001b[0m     \u001b[39m\"\u001b[39m\u001b[39mroutine\u001b[39m\u001b[39m\"\u001b[39m: \u001b[39m\"\u001b[39m\u001b[39mgeometric.run_json.geometric_run_json\u001b[39m\u001b[39m\"\u001b[39m,\n\u001b[1;32m     62\u001b[0m     \u001b[39m\"\u001b[39m\u001b[39mversion\u001b[39m\u001b[39m\"\u001b[39m: geometric\u001b[39m.\u001b[39m__version__,\n\u001b[1;32m     63\u001b[0m }\n\u001b[1;32m     65\u001b[0m output_data[\u001b[39m\"\u001b[39m\u001b[39mschema_name\u001b[39m\u001b[39m\"\u001b[39m] \u001b[39m=\u001b[39m \u001b[39m\"\u001b[39m\u001b[39mqcschema_optimization_output\u001b[39m\u001b[39m\"\u001b[39m\n",
      "File \u001b[0;32m~/mambaforge/envs/openff/lib/python3.11/site-packages/geometric/run_json.py:258\u001b[0m, in \u001b[0;36mgeometric_run_json\u001b[0;34m(in_json_dict)\u001b[0m\n\u001b[1;32m    255\u001b[0m \u001b[39mif\u001b[39;00m Cons \u001b[39mis\u001b[39;00m \u001b[39mNone\u001b[39;00m:\n\u001b[1;32m    256\u001b[0m     \u001b[39m# Run a standard geometry optimization\u001b[39;00m\n\u001b[1;32m    257\u001b[0m     params\u001b[39m.\u001b[39mxyzout \u001b[39m=\u001b[39m \u001b[39m\"\u001b[39m\u001b[39mqce_optim.xyz\u001b[39m\u001b[39m\"\u001b[39m\n\u001b[0;32m--> 258\u001b[0m     geometric\u001b[39m.\u001b[39;49moptimize\u001b[39m.\u001b[39;49mOptimize(coords, M, IC, engine, dirname, params)\n\u001b[1;32m    259\u001b[0m \u001b[39melse\u001b[39;00m:\n\u001b[1;32m    260\u001b[0m     \u001b[39m# Run a constrained geometry optimization\u001b[39;00m\n\u001b[1;32m    261\u001b[0m     \u001b[39mif\u001b[39;00m \u001b[39misinstance\u001b[39m(IC, (geometric\u001b[39m.\u001b[39minternal\u001b[39m.\u001b[39mCartesianCoordinates,\n\u001b[1;32m    262\u001b[0m                        geometric\u001b[39m.\u001b[39minternal\u001b[39m.\u001b[39mPrimitiveInternalCoordinates)):\n",
      "File \u001b[0;32m~/mambaforge/envs/openff/lib/python3.11/site-packages/geometric/optimize.py:779\u001b[0m, in \u001b[0;36mOptimize\u001b[0;34m(coords, molecule, IC, engine, dirname, params, print_info)\u001b[0m\n\u001b[1;32m    751\u001b[0m \u001b[39m\u001b[39m\u001b[39m\"\"\"\u001b[39;00m\n\u001b[1;32m    752\u001b[0m \u001b[39mOptimize the geometry of a molecule. This function used to contain the whole\u001b[39;00m\n\u001b[1;32m    753\u001b[0m \u001b[39moptimization loop, which has since been moved to the Optimizer() class;\u001b[39;00m\n\u001b[0;32m   (...)\u001b[0m\n\u001b[1;32m    776\u001b[0m \u001b[39m    A molecule object for opt trajectory and energies\u001b[39;00m\n\u001b[1;32m    777\u001b[0m \u001b[39m\"\"\"\u001b[39;00m\n\u001b[1;32m    778\u001b[0m optimizer \u001b[39m=\u001b[39m Optimizer(coords, molecule, IC, engine, dirname, params, print_info)\n\u001b[0;32m--> 779\u001b[0m \u001b[39mreturn\u001b[39;00m optimizer\u001b[39m.\u001b[39;49moptimizeGeometry()\n",
      "File \u001b[0;32m~/mambaforge/envs/openff/lib/python3.11/site-packages/geometric/optimize.py:695\u001b[0m, in \u001b[0;36mOptimizer.optimizeGeometry\u001b[0;34m(self)\u001b[0m\n\u001b[1;32m    693\u001b[0m \u001b[39mself\u001b[39m\u001b[39m.\u001b[39mprepareFirstStep()\n\u001b[1;32m    694\u001b[0m \u001b[39mwhile\u001b[39;00m \u001b[39mself\u001b[39m\u001b[39m.\u001b[39mstate \u001b[39mnot\u001b[39;00m \u001b[39min\u001b[39;00m [OPT_STATE\u001b[39m.\u001b[39mCONVERGED, OPT_STATE\u001b[39m.\u001b[39mFAILED]:\n\u001b[0;32m--> 695\u001b[0m     \u001b[39mself\u001b[39;49m\u001b[39m.\u001b[39;49mstep()\n\u001b[1;32m    696\u001b[0m     \u001b[39mif\u001b[39;00m \u001b[39mself\u001b[39m\u001b[39m.\u001b[39mstate \u001b[39m==\u001b[39m OPT_STATE\u001b[39m.\u001b[39mNEEDS_EVALUATION:\n\u001b[1;32m    697\u001b[0m         \u001b[39mself\u001b[39m\u001b[39m.\u001b[39mcalcEnergyForce()\n",
      "File \u001b[0;32m~/mambaforge/envs/openff/lib/python3.11/site-packages/geometric/optimize.py:427\u001b[0m, in \u001b[0;36mOptimizer.step\u001b[0;34m(self)\u001b[0m\n\u001b[1;32m    425\u001b[0m inorm \u001b[39m=\u001b[39m np\u001b[39m.\u001b[39mlinalg\u001b[39m.\u001b[39mnorm(dy)\n\u001b[1;32m    426\u001b[0m \u001b[39m# Cartesian coordinate step size\u001b[39;00m\n\u001b[0;32m--> 427\u001b[0m \u001b[39mself\u001b[39m\u001b[39m.\u001b[39mcnorm \u001b[39m=\u001b[39m \u001b[39mself\u001b[39;49m\u001b[39m.\u001b[39;49mget_cartesian_norm(dy)\n\u001b[1;32m    428\u001b[0m \u001b[39m# If the full-size step is within the trust radius, then call get_delta_prime again with diagnostic messages if needed\u001b[39;00m\n\u001b[1;32m    429\u001b[0m \u001b[39mif\u001b[39;00m (\u001b[39mself\u001b[39m\u001b[39m.\u001b[39mparams\u001b[39m.\u001b[39mverbose \u001b[39m>\u001b[39m\u001b[39m=\u001b[39m \u001b[39m2\u001b[39m \u001b[39mand\u001b[39;00m \u001b[39mself\u001b[39m\u001b[39m.\u001b[39mparams\u001b[39m.\u001b[39mverbose \u001b[39m<\u001b[39m \u001b[39m4\u001b[39m \u001b[39mand\u001b[39;00m \u001b[39mself\u001b[39m\u001b[39m.\u001b[39mcnorm \u001b[39m<\u001b[39m\u001b[39m=\u001b[39m \u001b[39m1.1\u001b[39m\u001b[39m*\u001b[39m\u001b[39mself\u001b[39m\u001b[39m.\u001b[39mtrust):\n",
      "File \u001b[0;32m~/mambaforge/envs/openff/lib/python3.11/site-packages/geometric/optimize.py:176\u001b[0m, in \u001b[0;36mOptimizer.get_cartesian_norm\u001b[0;34m(self, dy, verbose)\u001b[0m\n\u001b[1;32m    174\u001b[0m \u001b[39mdef\u001b[39;00m \u001b[39mget_cartesian_norm\u001b[39m(\u001b[39mself\u001b[39m, dy, verbose\u001b[39m=\u001b[39m\u001b[39mNone\u001b[39;00m):\n\u001b[1;32m    175\u001b[0m     \u001b[39mif\u001b[39;00m \u001b[39mnot\u001b[39;00m verbose: verbose \u001b[39m=\u001b[39m \u001b[39mself\u001b[39m\u001b[39m.\u001b[39mparams\u001b[39m.\u001b[39mverbose\n\u001b[0;32m--> 176\u001b[0m     \u001b[39mreturn\u001b[39;00m get_cartesian_norm(\u001b[39mself\u001b[39;49m\u001b[39m.\u001b[39;49mX, dy, \u001b[39mself\u001b[39;49m\u001b[39m.\u001b[39;49mIC, \u001b[39mself\u001b[39;49m\u001b[39m.\u001b[39;49mparams\u001b[39m.\u001b[39;49menforce, \u001b[39mself\u001b[39;49m\u001b[39m.\u001b[39;49mparams\u001b[39m.\u001b[39;49mverbose, \u001b[39mself\u001b[39;49m\u001b[39m.\u001b[39;49mparams\u001b[39m.\u001b[39;49musedmax)\n",
      "File \u001b[0;32m~/mambaforge/envs/openff/lib/python3.11/site-packages/geometric/step.py:269\u001b[0m, in \u001b[0;36mget_cartesian_norm\u001b[0;34m(X, dy, IC, enforce, verbose, usedmax)\u001b[0m\n\u001b[1;32m    267\u001b[0m     Xnew \u001b[39m=\u001b[39m IC\u001b[39m.\u001b[39mnewCartesian_withConstraint(X, dy, thre\u001b[39m=\u001b[39menforce, verbose\u001b[39m=\u001b[39mverbose)\n\u001b[1;32m    268\u001b[0m \u001b[39melse\u001b[39;00m:\n\u001b[0;32m--> 269\u001b[0m     Xnew \u001b[39m=\u001b[39m IC\u001b[39m.\u001b[39;49mnewCartesian(X, dy, verbose\u001b[39m=\u001b[39;49mverbose)\n\u001b[1;32m    270\u001b[0m rmsd, maxd \u001b[39m=\u001b[39m calc_drms_dmax(Xnew, X)\n\u001b[1;32m    271\u001b[0m \u001b[39mreturn\u001b[39;00m maxd \u001b[39mif\u001b[39;00m usedmax \u001b[39melse\u001b[39;00m rmsd\n",
      "File \u001b[0;32m~/mambaforge/envs/openff/lib/python3.11/site-packages/geometric/internal.py:1972\u001b[0m, in \u001b[0;36mInternalCoordinates.newCartesian\u001b[0;34m(self, xyz, dQ, verbose)\u001b[0m\n\u001b[1;32m   1970\u001b[0m     xyz_iter1 \u001b[39m=\u001b[39m xyz2\u001b[39m.\u001b[39mcopy()\n\u001b[1;32m   1971\u001b[0m \u001b[39m# Calculate the actual change in internal coordinates\u001b[39;00m\n\u001b[0;32m-> 1972\u001b[0m dQ_actual \u001b[39m=\u001b[39m \u001b[39mself\u001b[39;49m\u001b[39m.\u001b[39;49mcalcDiff(xyz2, xyz1)\n\u001b[1;32m   1973\u001b[0m rmsd \u001b[39m=\u001b[39m np\u001b[39m.\u001b[39msqrt(np\u001b[39m.\u001b[39mmean((np\u001b[39m.\u001b[39marray(xyz2\u001b[39m-\u001b[39mxyz1)\u001b[39m.\u001b[39mflatten())\u001b[39m*\u001b[39m\u001b[39m*\u001b[39m\u001b[39m2\u001b[39m))\n\u001b[1;32m   1974\u001b[0m ndq \u001b[39m=\u001b[39m np\u001b[39m.\u001b[39mlinalg\u001b[39m.\u001b[39mnorm(dQ1\u001b[39m-\u001b[39mdQ_actual)\n",
      "File \u001b[0;32m~/mambaforge/envs/openff/lib/python3.11/site-packages/geometric/internal.py:3405\u001b[0m, in \u001b[0;36mDelocalizedInternalCoordinates.calcDiff\u001b[0;34m(self, coord1, coord2)\u001b[0m\n\u001b[1;32m   3403\u001b[0m \u001b[39mdef\u001b[39;00m \u001b[39mcalcDiff\u001b[39m(\u001b[39mself\u001b[39m, coord1, coord2):\n\u001b[1;32m   3404\u001b[0m \u001b[39m    \u001b[39m\u001b[39m\"\"\" Calculate difference in internal coordinates (coord1-coord2), accounting for changes in 2*pi of angles. \"\"\"\u001b[39;00m\n\u001b[0;32m-> 3405\u001b[0m     PMDiff \u001b[39m=\u001b[39m \u001b[39mself\u001b[39;49m\u001b[39m.\u001b[39;49mPrims\u001b[39m.\u001b[39;49mcalcDiff(coord1, coord2)\n\u001b[1;32m   3406\u001b[0m     Answer \u001b[39m=\u001b[39m np\u001b[39m.\u001b[39mdot(PMDiff, \u001b[39mself\u001b[39m\u001b[39m.\u001b[39mVecs)\n\u001b[1;32m   3407\u001b[0m     \u001b[39mreturn\u001b[39;00m np\u001b[39m.\u001b[39marray(Answer)\u001b[39m.\u001b[39mflatten()\n",
      "File \u001b[0;32m~/mambaforge/envs/openff/lib/python3.11/site-packages/geometric/internal.py:2559\u001b[0m, in \u001b[0;36mPrimitiveInternalCoordinates.calcDiff\u001b[0;34m(self, xyz1, xyz2)\u001b[0m\n\u001b[1;32m   2557\u001b[0m answer \u001b[39m=\u001b[39m []\n\u001b[1;32m   2558\u001b[0m \u001b[39mfor\u001b[39;00m Internal \u001b[39min\u001b[39;00m \u001b[39mself\u001b[39m\u001b[39m.\u001b[39mInternals:\n\u001b[0;32m-> 2559\u001b[0m     answer\u001b[39m.\u001b[39mappend(Internal\u001b[39m.\u001b[39;49mcalcDiff(xyz1, xyz2))\n\u001b[1;32m   2560\u001b[0m \u001b[39mreturn\u001b[39;00m np\u001b[39m.\u001b[39marray(answer)\n",
      "File \u001b[0;32m~/mambaforge/envs/openff/lib/python3.11/site-packages/geometric/internal.py:173\u001b[0m, in \u001b[0;36mPrimitiveCoordinate.calcDiff\u001b[0;34m(self, xyz1, xyz2, val2)\u001b[0m\n\u001b[1;32m    171\u001b[0m \u001b[39mif\u001b[39;00m xyz2 \u001b[39mis\u001b[39;00m \u001b[39mnot\u001b[39;00m \u001b[39mNone\u001b[39;00m:\n\u001b[1;32m    172\u001b[0m     val2 \u001b[39m=\u001b[39m \u001b[39mself\u001b[39m\u001b[39m.\u001b[39mvalue(xyz2)\n\u001b[0;32m--> 173\u001b[0m diff \u001b[39m=\u001b[39m \u001b[39mself\u001b[39;49m\u001b[39m.\u001b[39;49mvalue(xyz1) \u001b[39m-\u001b[39m val2\n\u001b[1;32m    174\u001b[0m \u001b[39mif\u001b[39;00m \u001b[39mhasattr\u001b[39m(\u001b[39mself\u001b[39m, \u001b[39m'\u001b[39m\u001b[39mw\u001b[39m\u001b[39m'\u001b[39m):\n\u001b[1;32m    175\u001b[0m     w \u001b[39m=\u001b[39m \u001b[39mself\u001b[39m\u001b[39m.\u001b[39mw\n",
      "File \u001b[0;32m~/mambaforge/envs/openff/lib/python3.11/site-packages/geometric/internal.py:1306\u001b[0m, in \u001b[0;36mDihedral.value\u001b[0;34m(self, xyz)\u001b[0m\n\u001b[1;32m   1304\u001b[0m vec3 \u001b[39m=\u001b[39m xyz[d] \u001b[39m-\u001b[39m xyz[c]\n\u001b[1;32m   1305\u001b[0m cross1 \u001b[39m=\u001b[39m np\u001b[39m.\u001b[39mcross(vec2, vec3)\n\u001b[0;32m-> 1306\u001b[0m cross2 \u001b[39m=\u001b[39m np\u001b[39m.\u001b[39;49mcross(vec1, vec2)\n\u001b[1;32m   1307\u001b[0m arg1 \u001b[39m=\u001b[39m np\u001b[39m.\u001b[39msum(np\u001b[39m.\u001b[39mmultiply(vec1, cross1)) \u001b[39m*\u001b[39m \\\n\u001b[1;32m   1308\u001b[0m        np\u001b[39m.\u001b[39msqrt(np\u001b[39m.\u001b[39msum(vec2\u001b[39m*\u001b[39m\u001b[39m*\u001b[39m\u001b[39m2\u001b[39m))\n\u001b[1;32m   1309\u001b[0m arg2 \u001b[39m=\u001b[39m np\u001b[39m.\u001b[39msum(np\u001b[39m.\u001b[39mmultiply(cross1, cross2))\n",
      "File \u001b[0;32m~/mambaforge/envs/openff/lib/python3.11/site-packages/numpy/core/numeric.py:1653\u001b[0m, in \u001b[0;36mcross\u001b[0;34m(a, b, axisa, axisb, axisc, axis)\u001b[0m\n\u001b[1;32m   1651\u001b[0m multiply(a0, b2, out\u001b[39m=\u001b[39mtmp)\n\u001b[1;32m   1652\u001b[0m cp1 \u001b[39m-\u001b[39m\u001b[39m=\u001b[39m tmp\n\u001b[0;32m-> 1653\u001b[0m multiply(a0, b1, out\u001b[39m=\u001b[39;49mcp2)\n\u001b[1;32m   1654\u001b[0m multiply(a1, b0, out\u001b[39m=\u001b[39mtmp)\n\u001b[1;32m   1655\u001b[0m cp2 \u001b[39m-\u001b[39m\u001b[39m=\u001b[39m tmp\n",
      "\u001b[0;31mKeyboardInterrupt\u001b[0m: "
     ]
    }
   ],
   "source": [
    "import sys\n",
    "import os\n",
    "CWD = os.getcwd()\n",
    "sys.path.append(os.path.dirname(CWD))\n",
    "\n",
    "from source.inputSetup.SmilesInputs import ReadInput\n",
    "from source.optimize.esp_generator_wrapper import ESPGenerator, PropGenerator\n",
    "from source.conformers.conformer_gen import Conformers\n",
    "from openff.recharge.utilities.molecule import smiles_to_molecule\n",
    "from openff.recharge.grids import LatticeGridSettings\n",
    "from openff.recharge.esp import ESPSettings\n",
    "\n",
    "\n",
    "\n",
    "    \n",
    "#Read the .smi input and add to list\n",
    "smiles = ReadInput.read_smiles('test_files.smi')\n",
    "\n",
    "# Define the grid that the electrostatic properties will be trained on and the\n",
    "# level of theory to compute the properties at.\n",
    "grid_settings = LatticeGridSettings(\n",
    "    type=\"fcc\", spacing=0.5, inner_vdw_scale=1.4, outer_vdw_scale=2.0\n",
    ")\n",
    "\n",
    "esp_settings = ESPSettings(basis=\"6-31G*\", method=\"hf\", grid_settings=grid_settings)\n",
    "\n",
    "#Loop through molecules\n",
    "for mol in smiles:\n",
    "    molecule = smiles_to_molecule(mol)\n",
    "    #Generate the conformers\n",
    "    conformer_list = Conformers.generate(molecule, generation_type='rdkit')\n",
    "    ESP_gen = PropGenerator(molecule = molecule, conformers = conformer_list, esp_settings = esp_settings, grid_settings = grid_settings)\n",
    "    ESP_gen.memory = 2e+9 #2gb\n",
    "    print(f'number of cores is {ESP_gen.ncores}')\n",
    "    print(f'memory is {ESP_gen.memory}')\n",
    "    ESP_gen.run_props()\n",
    "    #ESP_gen.fetch_data()"
   ]
  },
  {
   "cell_type": "code",
   "execution_count": 6,
   "metadata": {},
   "outputs": [
    {
     "name": "stdout",
     "output_type": "stream",
     "text": [
      "\n",
      "  Memory set to   1.863 GiB by Python driver.\n"
     ]
    },
    {
     "data": {
      "text/plain": [
       "2000000000"
      ]
     },
     "execution_count": 6,
     "metadata": {},
     "output_type": "execute_result"
    }
   ],
   "source": [
    "import psi4\n",
    "psi4.set_memory('2gb')"
   ]
  },
  {
   "cell_type": "code",
   "execution_count": 4,
   "metadata": {},
   "outputs": [],
   "source": [
    "variables_dict = {'MULLIKEN_CHARGES': np.array([-0.73734578, -0.02447919,  0.11756134, -0.73731244,  0.0087507 ,\n",
    "       -0.73499064,  0.43804742,  0.18581185,  0.14089697,  0.1203388 ,\n",
    "        0.43975199,  0.18330349,  0.16756023,  0.43210525]), 'LOWDIN_CHARGES': np.array([-0.52128412, -0.10109616,  0.00531395, -0.5040507 , -0.09043403,\n",
    "       -0.5125839 ,  0.35640563,  0.15199032,  0.11833242,  0.10783985,\n",
    "        0.35337187,  0.15071365,  0.13581654,  0.34966469]), 'HF DIPOLE': np.array([-1.04266932, -0.2294717 , -1.13023893]), 'HF QUADRUPOLE': np.array([[-31.86914081,  -4.25065534,   2.02651926],\n",
    "       [ -4.25065534, -27.07297069,   1.47545515],\n",
    "       [  2.02651926,   1.47545515, -23.87739699]]), 'MBIS CHARGES': np.array([[-0.68146552],\n",
    "       [ 0.11369298],\n",
    "       [ 0.10728801],\n",
    "       [-0.65628907],\n",
    "       [ 0.14327947],\n",
    "       [-0.673989  ],\n",
    "       [ 0.44975509],\n",
    "       [ 0.08898321],\n",
    "       [ 0.03800309],\n",
    "       [ 0.03757985],\n",
    "       [ 0.44693836],\n",
    "       [ 0.08720612],\n",
    "       [ 0.05736164],\n",
    "       [ 0.44166793]])}"
   ]
  },
  {
   "cell_type": "code",
   "execution_count": 4,
   "metadata": {},
   "outputs": [],
   "source": [
    "import sys\n",
    "import os\n",
    "CWD = os.getcwd()\n",
    "sys.path.append(os.path.dirname(CWD))\n",
    "\n",
    "from openff.recharge.esp.storage import MoleculeESPRecord, MoleculeESPStore\n",
    "from source.storage.storage import MoleculePropRecord, MoleculePropStore\n",
    "prop_store = MoleculePropStore(\"prop-store copy.sqlite\")"
   ]
  },
  {
   "cell_type": "code",
   "execution_count": 5,
   "metadata": {},
   "outputs": [
    {
     "data": {
      "text/plain": [
       "['OCC(O)CO',\n",
       " 'C#CC',\n",
       " 'C1CN1',\n",
       " 'C1COC1',\n",
       " 'CC#N',\n",
       " 'CC(=O)[O-]',\n",
       " 'CC(C)=O',\n",
       " 'CCCC',\n",
       " 'CCNCC',\n",
       " 'CN(C)C',\n",
       " 'CN=[N+]=[N-]',\n",
       " 'CNC',\n",
       " 'COC',\n",
       " 'CSC',\n",
       " 'Fc1ccccc1',\n",
       " 'NCO',\n",
       " 'Nc1ccccc1',\n",
       " 'O=[NH+][O-]',\n",
       " 'Oc1ccccc1',\n",
       " 'CCl',\n",
       " 'CF',\n",
       " 'CO',\n",
       " 'CS',\n",
       " 'C1COCO1',\n",
       " 'c1ccccc1',\n",
       " 'c1ccncc1',\n",
       " 'c1ccsc1']"
      ]
     },
     "execution_count": 5,
     "metadata": {},
     "output_type": "execute_result"
    }
   ],
   "source": [
    "smiles_list = prop_store.list()\n",
    "smiles_list"
   ]
  },
  {
   "cell_type": "code",
   "execution_count": 6,
   "metadata": {},
   "outputs": [
    {
     "ename": "ValidationError",
     "evalue": "5 validation errors for MoleculePropRecord\nmulliken_charges\n  field required (type=value_error.missing)\nlowdin_charges\n  field required (type=value_error.missing)\nmbis_charges\n  field required (type=value_error.missing)\ndipole\n  field required (type=value_error.missing)\nquadropole\n  field required (type=value_error.missing)",
     "output_type": "error",
     "traceback": [
      "\u001b[0;31m---------------------------------------------------------------------------\u001b[0m",
      "\u001b[0;31mValidationError\u001b[0m                           Traceback (most recent call last)",
      "\u001b[1;32m/Users/localadmin/Documents/projects/QM_ESP_Psi4/examples/notebook_test.ipynb Cell 25\u001b[0m line \u001b[0;36m1\n\u001b[0;32m----> <a href='vscode-notebook-cell:/Users/localadmin/Documents/projects/QM_ESP_Psi4/examples/notebook_test.ipynb#X62sZmlsZQ%3D%3D?line=0'>1</a>\u001b[0m prop_store\u001b[39m.\u001b[39;49mretrieve(smiles_list[\u001b[39m0\u001b[39;49m])[\u001b[39m0\u001b[39m]\u001b[39m.\u001b[39mgrid_coordinates\n",
      "File \u001b[0;32m~/Documents/projects/QM_ESP_Psi4/source/storage/storage.py:328\u001b[0m, in \u001b[0;36mMoleculePropStore.retrieve\u001b[0;34m(self, smiles, basis, method, implicit_solvent)\u001b[0m\n\u001b[1;32m    322\u001b[0m             db_records \u001b[39m=\u001b[39m db_records\u001b[39m.\u001b[39mfilter(\n\u001b[1;32m    323\u001b[0m                 DBConformerRecordProp\u001b[39m.\u001b[39mpcm_settings_id\u001b[39m.\u001b[39mis_(\u001b[39mNone\u001b[39;00m)\n\u001b[1;32m    324\u001b[0m             )\n\u001b[1;32m    326\u001b[0m db_records \u001b[39m=\u001b[39m db_records\u001b[39m.\u001b[39mall()\n\u001b[0;32m--> 328\u001b[0m records \u001b[39m=\u001b[39m \u001b[39mself\u001b[39;49m\u001b[39m.\u001b[39;49m_db_records_to_model(db_records)\n\u001b[1;32m    330\u001b[0m \u001b[39mif\u001b[39;00m basis:\n\u001b[1;32m    331\u001b[0m     records \u001b[39m=\u001b[39m [\n\u001b[1;32m    332\u001b[0m         record \u001b[39mfor\u001b[39;00m record \u001b[39min\u001b[39;00m records \u001b[39mif\u001b[39;00m record\u001b[39m.\u001b[39mesp_settings\u001b[39m.\u001b[39mbasis \u001b[39m==\u001b[39m basis\n\u001b[1;32m    333\u001b[0m     ]\n",
      "File \u001b[0;32m~/Documents/projects/QM_ESP_Psi4/source/storage/storage.py:172\u001b[0m, in \u001b[0;36mMoleculePropStore._db_records_to_model\u001b[0;34m(cls, db_records)\u001b[0m\n\u001b[1;32m    157\u001b[0m \u001b[39m\u001b[39m\u001b[39m\"\"\"Maps a set of database records into their corresponding\u001b[39;00m\n\u001b[1;32m    158\u001b[0m \u001b[39mdata models.\u001b[39;00m\n\u001b[1;32m    159\u001b[0m \n\u001b[0;32m   (...)\u001b[0m\n\u001b[1;32m    167\u001b[0m \u001b[39m    The mapped data models.\u001b[39;00m\n\u001b[1;32m    168\u001b[0m \u001b[39m\"\"\"\u001b[39;00m\n\u001b[1;32m    169\u001b[0m \u001b[39m#molecule_esp_db_records = super()._db_records_to_model(db_records: List[DBMoleculeRecord])\u001b[39;00m\n\u001b[1;32m    170\u001b[0m \n\u001b[1;32m    171\u001b[0m \u001b[39m# noinspection PyTypeChecker\u001b[39;00m\n\u001b[0;32m--> 172\u001b[0m \u001b[39mreturn\u001b[39;00m [\n\u001b[1;32m    173\u001b[0m     MoleculePropRecord(\n\u001b[1;32m    174\u001b[0m         tagged_smiles\u001b[39m=\u001b[39;49mdb_conformer\u001b[39m.\u001b[39;49mtagged_smiles,\n\u001b[1;32m    175\u001b[0m         conformer\u001b[39m=\u001b[39;49mdb_conformer\u001b[39m.\u001b[39;49mcoordinates,\n\u001b[1;32m    176\u001b[0m         grid_coordinates\u001b[39m=\u001b[39;49mdb_conformer\u001b[39m.\u001b[39;49mgrid,\n\u001b[1;32m    177\u001b[0m         esp\u001b[39m=\u001b[39;49mdb_conformer\u001b[39m.\u001b[39;49mesp,\n\u001b[1;32m    178\u001b[0m         electric_field\u001b[39m=\u001b[39;49mdb_conformer\u001b[39m.\u001b[39;49mfield,\n\u001b[1;32m    179\u001b[0m         esp_settings\u001b[39m=\u001b[39;49mESPSettings(\n\u001b[1;32m    180\u001b[0m             basis\u001b[39m=\u001b[39;49mdb_conformer\u001b[39m.\u001b[39;49mesp_settings\u001b[39m.\u001b[39;49mbasis,\n\u001b[1;32m    181\u001b[0m             method\u001b[39m=\u001b[39;49mdb_conformer\u001b[39m.\u001b[39;49mesp_settings\u001b[39m.\u001b[39;49mmethod,\n\u001b[1;32m    182\u001b[0m             grid_settings\u001b[39m=\u001b[39;49mDBGridSettings\u001b[39m.\u001b[39;49mdb_to_instance(\n\u001b[1;32m    183\u001b[0m                 db_conformer\u001b[39m.\u001b[39;49mgrid_settings\n\u001b[1;32m    184\u001b[0m             ),\n\u001b[1;32m    185\u001b[0m             pcm_settings\u001b[39m=\u001b[39;49m\u001b[39mNone\u001b[39;49;00m\n\u001b[1;32m    186\u001b[0m             \u001b[39mif\u001b[39;49;00m \u001b[39mnot\u001b[39;49;00m db_conformer\u001b[39m.\u001b[39;49mpcm_settings\n\u001b[1;32m    187\u001b[0m             \u001b[39melse\u001b[39;49;00m DBPCMSettings\u001b[39m.\u001b[39;49mdb_to_instance(db_conformer\u001b[39m.\u001b[39;49mpcm_settings),\n\u001b[1;32m    188\u001b[0m         mulliken_charges \u001b[39m=\u001b[39;49m db_conformer\u001b[39m.\u001b[39;49mmulliken_charges,\n\u001b[1;32m    189\u001b[0m         lowdin_charges \u001b[39m=\u001b[39;49m db_conformer\u001b[39m.\u001b[39;49mlowdin_charges,\n\u001b[1;32m    190\u001b[0m         mbis_charges \u001b[39m=\u001b[39;49m db_conformer\u001b[39m.\u001b[39;49mmbis_charges,\n\u001b[1;32m    191\u001b[0m         dipole \u001b[39m=\u001b[39;49m db_conformer\u001b[39m.\u001b[39;49mdipole,\n\u001b[1;32m    192\u001b[0m         quadropole \u001b[39m=\u001b[39;49m db_conformer\u001b[39m.\u001b[39;49mquadropole\n\u001b[1;32m    193\u001b[0m         ),\n\u001b[1;32m    194\u001b[0m     )\n\u001b[1;32m    195\u001b[0m     \u001b[39mfor\u001b[39;49;00m db_record \u001b[39min\u001b[39;49;00m db_records\n\u001b[1;32m    196\u001b[0m     \u001b[39mfor\u001b[39;49;00m db_conformer \u001b[39min\u001b[39;49;00m db_record\u001b[39m.\u001b[39;49mconformers\n\u001b[1;32m    197\u001b[0m ]\n",
      "File \u001b[0;32m~/Documents/projects/QM_ESP_Psi4/source/storage/storage.py:173\u001b[0m, in \u001b[0;36m<listcomp>\u001b[0;34m(.0)\u001b[0m\n\u001b[1;32m    157\u001b[0m \u001b[39m\u001b[39m\u001b[39m\"\"\"Maps a set of database records into their corresponding\u001b[39;00m\n\u001b[1;32m    158\u001b[0m \u001b[39mdata models.\u001b[39;00m\n\u001b[1;32m    159\u001b[0m \n\u001b[0;32m   (...)\u001b[0m\n\u001b[1;32m    167\u001b[0m \u001b[39m    The mapped data models.\u001b[39;00m\n\u001b[1;32m    168\u001b[0m \u001b[39m\"\"\"\u001b[39;00m\n\u001b[1;32m    169\u001b[0m \u001b[39m#molecule_esp_db_records = super()._db_records_to_model(db_records: List[DBMoleculeRecord])\u001b[39;00m\n\u001b[1;32m    170\u001b[0m \n\u001b[1;32m    171\u001b[0m \u001b[39m# noinspection PyTypeChecker\u001b[39;00m\n\u001b[1;32m    172\u001b[0m \u001b[39mreturn\u001b[39;00m [\n\u001b[0;32m--> 173\u001b[0m     MoleculePropRecord(\n\u001b[1;32m    174\u001b[0m         tagged_smiles\u001b[39m=\u001b[39;49mdb_conformer\u001b[39m.\u001b[39;49mtagged_smiles,\n\u001b[1;32m    175\u001b[0m         conformer\u001b[39m=\u001b[39;49mdb_conformer\u001b[39m.\u001b[39;49mcoordinates,\n\u001b[1;32m    176\u001b[0m         grid_coordinates\u001b[39m=\u001b[39;49mdb_conformer\u001b[39m.\u001b[39;49mgrid,\n\u001b[1;32m    177\u001b[0m         esp\u001b[39m=\u001b[39;49mdb_conformer\u001b[39m.\u001b[39;49mesp,\n\u001b[1;32m    178\u001b[0m         electric_field\u001b[39m=\u001b[39;49mdb_conformer\u001b[39m.\u001b[39;49mfield,\n\u001b[1;32m    179\u001b[0m         esp_settings\u001b[39m=\u001b[39;49mESPSettings(\n\u001b[1;32m    180\u001b[0m             basis\u001b[39m=\u001b[39;49mdb_conformer\u001b[39m.\u001b[39;49mesp_settings\u001b[39m.\u001b[39;49mbasis,\n\u001b[1;32m    181\u001b[0m             method\u001b[39m=\u001b[39;49mdb_conformer\u001b[39m.\u001b[39;49mesp_settings\u001b[39m.\u001b[39;49mmethod,\n\u001b[1;32m    182\u001b[0m             grid_settings\u001b[39m=\u001b[39;49mDBGridSettings\u001b[39m.\u001b[39;49mdb_to_instance(\n\u001b[1;32m    183\u001b[0m                 db_conformer\u001b[39m.\u001b[39;49mgrid_settings\n\u001b[1;32m    184\u001b[0m             ),\n\u001b[1;32m    185\u001b[0m             pcm_settings\u001b[39m=\u001b[39;49m\u001b[39mNone\u001b[39;49;00m\n\u001b[1;32m    186\u001b[0m             \u001b[39mif\u001b[39;49;00m \u001b[39mnot\u001b[39;49;00m db_conformer\u001b[39m.\u001b[39;49mpcm_settings\n\u001b[1;32m    187\u001b[0m             \u001b[39melse\u001b[39;49;00m DBPCMSettings\u001b[39m.\u001b[39;49mdb_to_instance(db_conformer\u001b[39m.\u001b[39;49mpcm_settings),\n\u001b[1;32m    188\u001b[0m         mulliken_charges \u001b[39m=\u001b[39;49m db_conformer\u001b[39m.\u001b[39;49mmulliken_charges,\n\u001b[1;32m    189\u001b[0m         lowdin_charges \u001b[39m=\u001b[39;49m db_conformer\u001b[39m.\u001b[39;49mlowdin_charges,\n\u001b[1;32m    190\u001b[0m         mbis_charges \u001b[39m=\u001b[39;49m db_conformer\u001b[39m.\u001b[39;49mmbis_charges,\n\u001b[1;32m    191\u001b[0m         dipole \u001b[39m=\u001b[39;49m db_conformer\u001b[39m.\u001b[39;49mdipole,\n\u001b[1;32m    192\u001b[0m         quadropole \u001b[39m=\u001b[39;49m db_conformer\u001b[39m.\u001b[39;49mquadropole\n\u001b[1;32m    193\u001b[0m         ),\n\u001b[1;32m    194\u001b[0m     )\n\u001b[1;32m    195\u001b[0m     \u001b[39mfor\u001b[39;00m db_record \u001b[39min\u001b[39;00m db_records\n\u001b[1;32m    196\u001b[0m     \u001b[39mfor\u001b[39;00m db_conformer \u001b[39min\u001b[39;00m db_record\u001b[39m.\u001b[39mconformers\n\u001b[1;32m    197\u001b[0m ]\n",
      "File \u001b[0;32m~/mambaforge/envs/openff/lib/python3.11/site-packages/pydantic/main.py:341\u001b[0m, in \u001b[0;36mpydantic.main.BaseModel.__init__\u001b[0;34m()\u001b[0m\n",
      "\u001b[0;31mValidationError\u001b[0m: 5 validation errors for MoleculePropRecord\nmulliken_charges\n  field required (type=value_error.missing)\nlowdin_charges\n  field required (type=value_error.missing)\nmbis_charges\n  field required (type=value_error.missing)\ndipole\n  field required (type=value_error.missing)\nquadropole\n  field required (type=value_error.missing)"
     ]
    }
   ],
   "source": [
    "prop_store.retrieve(smiles_list[0])[0].grid_coordinates\n"
   ]
  },
  {
   "cell_type": "code",
   "execution_count": 9,
   "metadata": {},
   "outputs": [
    {
     "ename": "ValidationError",
     "evalue": "5 validation errors for MoleculePropRecord\nmulliken_charges\n  field required (type=value_error.missing)\nlowdin_charges\n  field required (type=value_error.missing)\nmbis_charges\n  field required (type=value_error.missing)\ndipole\n  field required (type=value_error.missing)\nquadropole\n  field required (type=value_error.missing)",
     "output_type": "error",
     "traceback": [
      "\u001b[0;31m---------------------------------------------------------------------------\u001b[0m",
      "\u001b[0;31mValidationError\u001b[0m                           Traceback (most recent call last)",
      "\u001b[1;32m/Users/localadmin/Documents/projects/QM_ESP_Psi4/examples/notebook_test.ipynb Cell 26\u001b[0m line \u001b[0;36m1\n\u001b[0;32m----> <a href='vscode-notebook-cell:/Users/localadmin/Documents/projects/QM_ESP_Psi4/examples/notebook_test.ipynb#X64sZmlsZQ%3D%3D?line=0'>1</a>\u001b[0m prop_store\u001b[39m.\u001b[39;49mretrieve(smiles_list[\u001b[39m0\u001b[39;49m])\n",
      "File \u001b[0;32m~/Documents/projects/QM_ESP_Psi4/source/storage/storage.py:328\u001b[0m, in \u001b[0;36mMoleculePropStore.retrieve\u001b[0;34m(self, smiles, basis, method, implicit_solvent)\u001b[0m\n\u001b[1;32m    322\u001b[0m             db_records \u001b[39m=\u001b[39m db_records\u001b[39m.\u001b[39mfilter(\n\u001b[1;32m    323\u001b[0m                 DBConformerRecordProp\u001b[39m.\u001b[39mpcm_settings_id\u001b[39m.\u001b[39mis_(\u001b[39mNone\u001b[39;00m)\n\u001b[1;32m    324\u001b[0m             )\n\u001b[1;32m    326\u001b[0m db_records \u001b[39m=\u001b[39m db_records\u001b[39m.\u001b[39mall()\n\u001b[0;32m--> 328\u001b[0m records \u001b[39m=\u001b[39m \u001b[39mself\u001b[39;49m\u001b[39m.\u001b[39;49m_db_records_to_model(db_records)\n\u001b[1;32m    330\u001b[0m \u001b[39mif\u001b[39;00m basis:\n\u001b[1;32m    331\u001b[0m     records \u001b[39m=\u001b[39m [\n\u001b[1;32m    332\u001b[0m         record \u001b[39mfor\u001b[39;00m record \u001b[39min\u001b[39;00m records \u001b[39mif\u001b[39;00m record\u001b[39m.\u001b[39mesp_settings\u001b[39m.\u001b[39mbasis \u001b[39m==\u001b[39m basis\n\u001b[1;32m    333\u001b[0m     ]\n",
      "File \u001b[0;32m~/Documents/projects/QM_ESP_Psi4/source/storage/storage.py:172\u001b[0m, in \u001b[0;36mMoleculePropStore._db_records_to_model\u001b[0;34m(cls, db_records)\u001b[0m\n\u001b[1;32m    157\u001b[0m \u001b[39m\u001b[39m\u001b[39m\"\"\"Maps a set of database records into their corresponding\u001b[39;00m\n\u001b[1;32m    158\u001b[0m \u001b[39mdata models.\u001b[39;00m\n\u001b[1;32m    159\u001b[0m \n\u001b[0;32m   (...)\u001b[0m\n\u001b[1;32m    167\u001b[0m \u001b[39m    The mapped data models.\u001b[39;00m\n\u001b[1;32m    168\u001b[0m \u001b[39m\"\"\"\u001b[39;00m\n\u001b[1;32m    169\u001b[0m \u001b[39m#molecule_esp_db_records = super()._db_records_to_model(db_records: List[DBMoleculeRecord])\u001b[39;00m\n\u001b[1;32m    170\u001b[0m \n\u001b[1;32m    171\u001b[0m \u001b[39m# noinspection PyTypeChecker\u001b[39;00m\n\u001b[0;32m--> 172\u001b[0m \u001b[39mreturn\u001b[39;00m [\n\u001b[1;32m    173\u001b[0m     MoleculePropRecord(\n\u001b[1;32m    174\u001b[0m         tagged_smiles\u001b[39m=\u001b[39;49mdb_conformer\u001b[39m.\u001b[39;49mtagged_smiles,\n\u001b[1;32m    175\u001b[0m         conformer\u001b[39m=\u001b[39;49mdb_conformer\u001b[39m.\u001b[39;49mcoordinates,\n\u001b[1;32m    176\u001b[0m         grid_coordinates\u001b[39m=\u001b[39;49mdb_conformer\u001b[39m.\u001b[39;49mgrid,\n\u001b[1;32m    177\u001b[0m         esp\u001b[39m=\u001b[39;49mdb_conformer\u001b[39m.\u001b[39;49mesp,\n\u001b[1;32m    178\u001b[0m         electric_field\u001b[39m=\u001b[39;49mdb_conformer\u001b[39m.\u001b[39;49mfield,\n\u001b[1;32m    179\u001b[0m         esp_settings\u001b[39m=\u001b[39;49mESPSettings(\n\u001b[1;32m    180\u001b[0m             basis\u001b[39m=\u001b[39;49mdb_conformer\u001b[39m.\u001b[39;49mesp_settings\u001b[39m.\u001b[39;49mbasis,\n\u001b[1;32m    181\u001b[0m             method\u001b[39m=\u001b[39;49mdb_conformer\u001b[39m.\u001b[39;49mesp_settings\u001b[39m.\u001b[39;49mmethod,\n\u001b[1;32m    182\u001b[0m             grid_settings\u001b[39m=\u001b[39;49mDBGridSettings\u001b[39m.\u001b[39;49mdb_to_instance(\n\u001b[1;32m    183\u001b[0m                 db_conformer\u001b[39m.\u001b[39;49mgrid_settings\n\u001b[1;32m    184\u001b[0m             ),\n\u001b[1;32m    185\u001b[0m             pcm_settings\u001b[39m=\u001b[39;49m\u001b[39mNone\u001b[39;49;00m\n\u001b[1;32m    186\u001b[0m             \u001b[39mif\u001b[39;49;00m \u001b[39mnot\u001b[39;49;00m db_conformer\u001b[39m.\u001b[39;49mpcm_settings\n\u001b[1;32m    187\u001b[0m             \u001b[39melse\u001b[39;49;00m DBPCMSettings\u001b[39m.\u001b[39;49mdb_to_instance(db_conformer\u001b[39m.\u001b[39;49mpcm_settings),\n\u001b[1;32m    188\u001b[0m         mulliken_charges \u001b[39m=\u001b[39;49m db_conformer\u001b[39m.\u001b[39;49mmulliken_charges,\n\u001b[1;32m    189\u001b[0m         lowdin_charges \u001b[39m=\u001b[39;49m db_conformer\u001b[39m.\u001b[39;49mlowdin_charges,\n\u001b[1;32m    190\u001b[0m         mbis_charges \u001b[39m=\u001b[39;49m db_conformer\u001b[39m.\u001b[39;49mmbis_charges,\n\u001b[1;32m    191\u001b[0m         dipole \u001b[39m=\u001b[39;49m db_conformer\u001b[39m.\u001b[39;49mdipole,\n\u001b[1;32m    192\u001b[0m         quadropole \u001b[39m=\u001b[39;49m db_conformer\u001b[39m.\u001b[39;49mquadropole\n\u001b[1;32m    193\u001b[0m         ),\n\u001b[1;32m    194\u001b[0m     )\n\u001b[1;32m    195\u001b[0m     \u001b[39mfor\u001b[39;49;00m db_record \u001b[39min\u001b[39;49;00m db_records\n\u001b[1;32m    196\u001b[0m     \u001b[39mfor\u001b[39;49;00m db_conformer \u001b[39min\u001b[39;49;00m db_record\u001b[39m.\u001b[39;49mconformers\n\u001b[1;32m    197\u001b[0m ]\n",
      "File \u001b[0;32m~/Documents/projects/QM_ESP_Psi4/source/storage/storage.py:173\u001b[0m, in \u001b[0;36m<listcomp>\u001b[0;34m(.0)\u001b[0m\n\u001b[1;32m    157\u001b[0m \u001b[39m\u001b[39m\u001b[39m\"\"\"Maps a set of database records into their corresponding\u001b[39;00m\n\u001b[1;32m    158\u001b[0m \u001b[39mdata models.\u001b[39;00m\n\u001b[1;32m    159\u001b[0m \n\u001b[0;32m   (...)\u001b[0m\n\u001b[1;32m    167\u001b[0m \u001b[39m    The mapped data models.\u001b[39;00m\n\u001b[1;32m    168\u001b[0m \u001b[39m\"\"\"\u001b[39;00m\n\u001b[1;32m    169\u001b[0m \u001b[39m#molecule_esp_db_records = super()._db_records_to_model(db_records: List[DBMoleculeRecord])\u001b[39;00m\n\u001b[1;32m    170\u001b[0m \n\u001b[1;32m    171\u001b[0m \u001b[39m# noinspection PyTypeChecker\u001b[39;00m\n\u001b[1;32m    172\u001b[0m \u001b[39mreturn\u001b[39;00m [\n\u001b[0;32m--> 173\u001b[0m     MoleculePropRecord(\n\u001b[1;32m    174\u001b[0m         tagged_smiles\u001b[39m=\u001b[39;49mdb_conformer\u001b[39m.\u001b[39;49mtagged_smiles,\n\u001b[1;32m    175\u001b[0m         conformer\u001b[39m=\u001b[39;49mdb_conformer\u001b[39m.\u001b[39;49mcoordinates,\n\u001b[1;32m    176\u001b[0m         grid_coordinates\u001b[39m=\u001b[39;49mdb_conformer\u001b[39m.\u001b[39;49mgrid,\n\u001b[1;32m    177\u001b[0m         esp\u001b[39m=\u001b[39;49mdb_conformer\u001b[39m.\u001b[39;49mesp,\n\u001b[1;32m    178\u001b[0m         electric_field\u001b[39m=\u001b[39;49mdb_conformer\u001b[39m.\u001b[39;49mfield,\n\u001b[1;32m    179\u001b[0m         esp_settings\u001b[39m=\u001b[39;49mESPSettings(\n\u001b[1;32m    180\u001b[0m             basis\u001b[39m=\u001b[39;49mdb_conformer\u001b[39m.\u001b[39;49mesp_settings\u001b[39m.\u001b[39;49mbasis,\n\u001b[1;32m    181\u001b[0m             method\u001b[39m=\u001b[39;49mdb_conformer\u001b[39m.\u001b[39;49mesp_settings\u001b[39m.\u001b[39;49mmethod,\n\u001b[1;32m    182\u001b[0m             grid_settings\u001b[39m=\u001b[39;49mDBGridSettings\u001b[39m.\u001b[39;49mdb_to_instance(\n\u001b[1;32m    183\u001b[0m                 db_conformer\u001b[39m.\u001b[39;49mgrid_settings\n\u001b[1;32m    184\u001b[0m             ),\n\u001b[1;32m    185\u001b[0m             pcm_settings\u001b[39m=\u001b[39;49m\u001b[39mNone\u001b[39;49;00m\n\u001b[1;32m    186\u001b[0m             \u001b[39mif\u001b[39;49;00m \u001b[39mnot\u001b[39;49;00m db_conformer\u001b[39m.\u001b[39;49mpcm_settings\n\u001b[1;32m    187\u001b[0m             \u001b[39melse\u001b[39;49;00m DBPCMSettings\u001b[39m.\u001b[39;49mdb_to_instance(db_conformer\u001b[39m.\u001b[39;49mpcm_settings),\n\u001b[1;32m    188\u001b[0m         mulliken_charges \u001b[39m=\u001b[39;49m db_conformer\u001b[39m.\u001b[39;49mmulliken_charges,\n\u001b[1;32m    189\u001b[0m         lowdin_charges \u001b[39m=\u001b[39;49m db_conformer\u001b[39m.\u001b[39;49mlowdin_charges,\n\u001b[1;32m    190\u001b[0m         mbis_charges \u001b[39m=\u001b[39;49m db_conformer\u001b[39m.\u001b[39;49mmbis_charges,\n\u001b[1;32m    191\u001b[0m         dipole \u001b[39m=\u001b[39;49m db_conformer\u001b[39m.\u001b[39;49mdipole,\n\u001b[1;32m    192\u001b[0m         quadropole \u001b[39m=\u001b[39;49m db_conformer\u001b[39m.\u001b[39;49mquadropole\n\u001b[1;32m    193\u001b[0m         ),\n\u001b[1;32m    194\u001b[0m     )\n\u001b[1;32m    195\u001b[0m     \u001b[39mfor\u001b[39;00m db_record \u001b[39min\u001b[39;00m db_records\n\u001b[1;32m    196\u001b[0m     \u001b[39mfor\u001b[39;00m db_conformer \u001b[39min\u001b[39;00m db_record\u001b[39m.\u001b[39mconformers\n\u001b[1;32m    197\u001b[0m ]\n",
      "File \u001b[0;32m~/mambaforge/envs/openff/lib/python3.11/site-packages/pydantic/main.py:341\u001b[0m, in \u001b[0;36mpydantic.main.BaseModel.__init__\u001b[0;34m()\u001b[0m\n",
      "\u001b[0;31mValidationError\u001b[0m: 5 validation errors for MoleculePropRecord\nmulliken_charges\n  field required (type=value_error.missing)\nlowdin_charges\n  field required (type=value_error.missing)\nmbis_charges\n  field required (type=value_error.missing)\ndipole\n  field required (type=value_error.missing)\nquadropole\n  field required (type=value_error.missing)"
     ]
    }
   ],
   "source": [
    "prop_store.retrieve(smiles_list[0])"
   ]
  },
  {
   "cell_type": "code",
   "execution_count": 8,
   "metadata": {},
   "outputs": [
    {
     "ename": "ValidationError",
     "evalue": "5 validation errors for MoleculePropRecord\nmulliken_charges\n  field required (type=value_error.missing)\nlowdin_charges\n  field required (type=value_error.missing)\nmbis_charges\n  field required (type=value_error.missing)\ndipole\n  field required (type=value_error.missing)\nquadropole\n  field required (type=value_error.missing)",
     "output_type": "error",
     "traceback": [
      "\u001b[0;31m---------------------------------------------------------------------------\u001b[0m",
      "\u001b[0;31mValidationError\u001b[0m                           Traceback (most recent call last)",
      "\u001b[1;32m/Users/localadmin/Documents/projects/QM_ESP_Psi4/examples/notebook_test.ipynb Cell 26\u001b[0m line \u001b[0;36m1\n\u001b[0;32m----> <a href='vscode-notebook-cell:/Users/localadmin/Documents/projects/QM_ESP_Psi4/examples/notebook_test.ipynb#X63sZmlsZQ%3D%3D?line=0'>1</a>\u001b[0m prop_store\u001b[39m.\u001b[39;49mretrieve(smiles_list[\u001b[39m0\u001b[39;49m])\n",
      "File \u001b[0;32m~/Documents/projects/QM_ESP_Psi4/source/storage/storage.py:328\u001b[0m, in \u001b[0;36mMoleculePropStore.retrieve\u001b[0;34m(self, smiles, basis, method, implicit_solvent)\u001b[0m\n\u001b[1;32m    322\u001b[0m             db_records \u001b[39m=\u001b[39m db_records\u001b[39m.\u001b[39mfilter(\n\u001b[1;32m    323\u001b[0m                 DBConformerRecordProp\u001b[39m.\u001b[39mpcm_settings_id\u001b[39m.\u001b[39mis_(\u001b[39mNone\u001b[39;00m)\n\u001b[1;32m    324\u001b[0m             )\n\u001b[1;32m    326\u001b[0m db_records \u001b[39m=\u001b[39m db_records\u001b[39m.\u001b[39mall()\n\u001b[0;32m--> 328\u001b[0m records \u001b[39m=\u001b[39m \u001b[39mself\u001b[39;49m\u001b[39m.\u001b[39;49m_db_records_to_model(db_records)\n\u001b[1;32m    330\u001b[0m \u001b[39mif\u001b[39;00m basis:\n\u001b[1;32m    331\u001b[0m     records \u001b[39m=\u001b[39m [\n\u001b[1;32m    332\u001b[0m         record \u001b[39mfor\u001b[39;00m record \u001b[39min\u001b[39;00m records \u001b[39mif\u001b[39;00m record\u001b[39m.\u001b[39mesp_settings\u001b[39m.\u001b[39mbasis \u001b[39m==\u001b[39m basis\n\u001b[1;32m    333\u001b[0m     ]\n",
      "File \u001b[0;32m~/Documents/projects/QM_ESP_Psi4/source/storage/storage.py:172\u001b[0m, in \u001b[0;36mMoleculePropStore._db_records_to_model\u001b[0;34m(cls, db_records)\u001b[0m\n\u001b[1;32m    157\u001b[0m \u001b[39m\u001b[39m\u001b[39m\"\"\"Maps a set of database records into their corresponding\u001b[39;00m\n\u001b[1;32m    158\u001b[0m \u001b[39mdata models.\u001b[39;00m\n\u001b[1;32m    159\u001b[0m \n\u001b[0;32m   (...)\u001b[0m\n\u001b[1;32m    167\u001b[0m \u001b[39m    The mapped data models.\u001b[39;00m\n\u001b[1;32m    168\u001b[0m \u001b[39m\"\"\"\u001b[39;00m\n\u001b[1;32m    169\u001b[0m \u001b[39m#molecule_esp_db_records = super()._db_records_to_model(db_records: List[DBMoleculeRecord])\u001b[39;00m\n\u001b[1;32m    170\u001b[0m \n\u001b[1;32m    171\u001b[0m \u001b[39m# noinspection PyTypeChecker\u001b[39;00m\n\u001b[0;32m--> 172\u001b[0m \u001b[39mreturn\u001b[39;00m [\n\u001b[1;32m    173\u001b[0m     MoleculePropRecord(\n\u001b[1;32m    174\u001b[0m         tagged_smiles\u001b[39m=\u001b[39;49mdb_conformer\u001b[39m.\u001b[39;49mtagged_smiles,\n\u001b[1;32m    175\u001b[0m         conformer\u001b[39m=\u001b[39;49mdb_conformer\u001b[39m.\u001b[39;49mcoordinates,\n\u001b[1;32m    176\u001b[0m         grid_coordinates\u001b[39m=\u001b[39;49mdb_conformer\u001b[39m.\u001b[39;49mgrid,\n\u001b[1;32m    177\u001b[0m         esp\u001b[39m=\u001b[39;49mdb_conformer\u001b[39m.\u001b[39;49mesp,\n\u001b[1;32m    178\u001b[0m         electric_field\u001b[39m=\u001b[39;49mdb_conformer\u001b[39m.\u001b[39;49mfield,\n\u001b[1;32m    179\u001b[0m         esp_settings\u001b[39m=\u001b[39;49mESPSettings(\n\u001b[1;32m    180\u001b[0m             basis\u001b[39m=\u001b[39;49mdb_conformer\u001b[39m.\u001b[39;49mesp_settings\u001b[39m.\u001b[39;49mbasis,\n\u001b[1;32m    181\u001b[0m             method\u001b[39m=\u001b[39;49mdb_conformer\u001b[39m.\u001b[39;49mesp_settings\u001b[39m.\u001b[39;49mmethod,\n\u001b[1;32m    182\u001b[0m             grid_settings\u001b[39m=\u001b[39;49mDBGridSettings\u001b[39m.\u001b[39;49mdb_to_instance(\n\u001b[1;32m    183\u001b[0m                 db_conformer\u001b[39m.\u001b[39;49mgrid_settings\n\u001b[1;32m    184\u001b[0m             ),\n\u001b[1;32m    185\u001b[0m             pcm_settings\u001b[39m=\u001b[39;49m\u001b[39mNone\u001b[39;49;00m\n\u001b[1;32m    186\u001b[0m             \u001b[39mif\u001b[39;49;00m \u001b[39mnot\u001b[39;49;00m db_conformer\u001b[39m.\u001b[39;49mpcm_settings\n\u001b[1;32m    187\u001b[0m             \u001b[39melse\u001b[39;49;00m DBPCMSettings\u001b[39m.\u001b[39;49mdb_to_instance(db_conformer\u001b[39m.\u001b[39;49mpcm_settings),\n\u001b[1;32m    188\u001b[0m         mulliken_charges \u001b[39m=\u001b[39;49m db_conformer\u001b[39m.\u001b[39;49mmulliken_charges,\n\u001b[1;32m    189\u001b[0m         lowdin_charges \u001b[39m=\u001b[39;49m db_conformer\u001b[39m.\u001b[39;49mlowdin_charges,\n\u001b[1;32m    190\u001b[0m         mbis_charges \u001b[39m=\u001b[39;49m db_conformer\u001b[39m.\u001b[39;49mmbis_charges,\n\u001b[1;32m    191\u001b[0m         dipole \u001b[39m=\u001b[39;49m db_conformer\u001b[39m.\u001b[39;49mdipole,\n\u001b[1;32m    192\u001b[0m         quadropole \u001b[39m=\u001b[39;49m db_conformer\u001b[39m.\u001b[39;49mquadropole\n\u001b[1;32m    193\u001b[0m         ),\n\u001b[1;32m    194\u001b[0m     )\n\u001b[1;32m    195\u001b[0m     \u001b[39mfor\u001b[39;49;00m db_record \u001b[39min\u001b[39;49;00m db_records\n\u001b[1;32m    196\u001b[0m     \u001b[39mfor\u001b[39;49;00m db_conformer \u001b[39min\u001b[39;49;00m db_record\u001b[39m.\u001b[39;49mconformers\n\u001b[1;32m    197\u001b[0m ]\n",
      "File \u001b[0;32m~/Documents/projects/QM_ESP_Psi4/source/storage/storage.py:173\u001b[0m, in \u001b[0;36m<listcomp>\u001b[0;34m(.0)\u001b[0m\n\u001b[1;32m    157\u001b[0m \u001b[39m\u001b[39m\u001b[39m\"\"\"Maps a set of database records into their corresponding\u001b[39;00m\n\u001b[1;32m    158\u001b[0m \u001b[39mdata models.\u001b[39;00m\n\u001b[1;32m    159\u001b[0m \n\u001b[0;32m   (...)\u001b[0m\n\u001b[1;32m    167\u001b[0m \u001b[39m    The mapped data models.\u001b[39;00m\n\u001b[1;32m    168\u001b[0m \u001b[39m\"\"\"\u001b[39;00m\n\u001b[1;32m    169\u001b[0m \u001b[39m#molecule_esp_db_records = super()._db_records_to_model(db_records: List[DBMoleculeRecord])\u001b[39;00m\n\u001b[1;32m    170\u001b[0m \n\u001b[1;32m    171\u001b[0m \u001b[39m# noinspection PyTypeChecker\u001b[39;00m\n\u001b[1;32m    172\u001b[0m \u001b[39mreturn\u001b[39;00m [\n\u001b[0;32m--> 173\u001b[0m     MoleculePropRecord(\n\u001b[1;32m    174\u001b[0m         tagged_smiles\u001b[39m=\u001b[39;49mdb_conformer\u001b[39m.\u001b[39;49mtagged_smiles,\n\u001b[1;32m    175\u001b[0m         conformer\u001b[39m=\u001b[39;49mdb_conformer\u001b[39m.\u001b[39;49mcoordinates,\n\u001b[1;32m    176\u001b[0m         grid_coordinates\u001b[39m=\u001b[39;49mdb_conformer\u001b[39m.\u001b[39;49mgrid,\n\u001b[1;32m    177\u001b[0m         esp\u001b[39m=\u001b[39;49mdb_conformer\u001b[39m.\u001b[39;49mesp,\n\u001b[1;32m    178\u001b[0m         electric_field\u001b[39m=\u001b[39;49mdb_conformer\u001b[39m.\u001b[39;49mfield,\n\u001b[1;32m    179\u001b[0m         esp_settings\u001b[39m=\u001b[39;49mESPSettings(\n\u001b[1;32m    180\u001b[0m             basis\u001b[39m=\u001b[39;49mdb_conformer\u001b[39m.\u001b[39;49mesp_settings\u001b[39m.\u001b[39;49mbasis,\n\u001b[1;32m    181\u001b[0m             method\u001b[39m=\u001b[39;49mdb_conformer\u001b[39m.\u001b[39;49mesp_settings\u001b[39m.\u001b[39;49mmethod,\n\u001b[1;32m    182\u001b[0m             grid_settings\u001b[39m=\u001b[39;49mDBGridSettings\u001b[39m.\u001b[39;49mdb_to_instance(\n\u001b[1;32m    183\u001b[0m                 db_conformer\u001b[39m.\u001b[39;49mgrid_settings\n\u001b[1;32m    184\u001b[0m             ),\n\u001b[1;32m    185\u001b[0m             pcm_settings\u001b[39m=\u001b[39;49m\u001b[39mNone\u001b[39;49;00m\n\u001b[1;32m    186\u001b[0m             \u001b[39mif\u001b[39;49;00m \u001b[39mnot\u001b[39;49;00m db_conformer\u001b[39m.\u001b[39;49mpcm_settings\n\u001b[1;32m    187\u001b[0m             \u001b[39melse\u001b[39;49;00m DBPCMSettings\u001b[39m.\u001b[39;49mdb_to_instance(db_conformer\u001b[39m.\u001b[39;49mpcm_settings),\n\u001b[1;32m    188\u001b[0m         mulliken_charges \u001b[39m=\u001b[39;49m db_conformer\u001b[39m.\u001b[39;49mmulliken_charges,\n\u001b[1;32m    189\u001b[0m         lowdin_charges \u001b[39m=\u001b[39;49m db_conformer\u001b[39m.\u001b[39;49mlowdin_charges,\n\u001b[1;32m    190\u001b[0m         mbis_charges \u001b[39m=\u001b[39;49m db_conformer\u001b[39m.\u001b[39;49mmbis_charges,\n\u001b[1;32m    191\u001b[0m         dipole \u001b[39m=\u001b[39;49m db_conformer\u001b[39m.\u001b[39;49mdipole,\n\u001b[1;32m    192\u001b[0m         quadropole \u001b[39m=\u001b[39;49m db_conformer\u001b[39m.\u001b[39;49mquadropole\n\u001b[1;32m    193\u001b[0m         ),\n\u001b[1;32m    194\u001b[0m     )\n\u001b[1;32m    195\u001b[0m     \u001b[39mfor\u001b[39;00m db_record \u001b[39min\u001b[39;00m db_records\n\u001b[1;32m    196\u001b[0m     \u001b[39mfor\u001b[39;00m db_conformer \u001b[39min\u001b[39;00m db_record\u001b[39m.\u001b[39mconformers\n\u001b[1;32m    197\u001b[0m ]\n",
      "File \u001b[0;32m~/mambaforge/envs/openff/lib/python3.11/site-packages/pydantic/main.py:341\u001b[0m, in \u001b[0;36mpydantic.main.BaseModel.__init__\u001b[0;34m()\u001b[0m\n",
      "\u001b[0;31mValidationError\u001b[0m: 5 validation errors for MoleculePropRecord\nmulliken_charges\n  field required (type=value_error.missing)\nlowdin_charges\n  field required (type=value_error.missing)\nmbis_charges\n  field required (type=value_error.missing)\ndipole\n  field required (type=value_error.missing)\nquadropole\n  field required (type=value_error.missing)"
     ]
    }
   ],
   "source": [
    "prop_store.retrieve(smiles_list[0])[0].mulliken_charges\n"
   ]
  }
 ],
 "metadata": {
  "kernelspec": {
   "display_name": "openff",
   "language": "python",
   "name": "python3"
  },
  "language_info": {
   "codemirror_mode": {
    "name": "ipython",
    "version": 3
   },
   "file_extension": ".py",
   "mimetype": "text/x-python",
   "name": "python",
   "nbconvert_exporter": "python",
   "pygments_lexer": "ipython3",
   "version": "3.11.6"
  },
  "orig_nbformat": 4
 },
 "nbformat": 4,
 "nbformat_minor": 2
}
