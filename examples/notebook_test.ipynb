{
 "cells": [
  {
   "cell_type": "code",
   "execution_count": 2,
   "metadata": {},
   "outputs": [
    {
     "name": "stdout",
     "output_type": "stream",
     "text": [
      "Intel MKL WARNING: Support of Intel(R) Streaming SIMD Extensions 4.2 (Intel(R) SSE4.2) enabled only processors has been deprecated. Intel oneAPI Math Kernel Library 2025.0 will require Intel(R) Advanced Vector Extensions (Intel(R) AVX) instructions.\n"
     ]
    }
   ],
   "source": [
    "import os\n",
    "import sys\n",
    "import random\n",
    "import numpy as np\n",
    "\n",
    "from tqdm import tqdm\n",
    "from rdkit.Chem import AllChem\n",
    "from rdkit.Chem.rdForceFieldHelpers import MMFFOptimizeMolecule\n",
    "\n",
    "from openff.units.elements import SYMBOLS\n",
    "from openff.toolkit import Molecule\n",
    "from openff.recharge.conformers import ConformerGenerator, ConformerSettings\n",
    "from openff.recharge.esp import ESPSettings\n",
    "from openff.recharge.esp.storage import MoleculeESPRecord, MoleculeESPStore\n",
    "from openff.recharge.grids import LatticeGridSettings, GridSettingsType, GridGenerator\n",
    "from openff.recharge.utilities.molecule import smiles_to_molecule\n",
    "from qcelemental.models.procedures import OptimizationInput, QCInputSpecification\n",
    "from openff.units import unit\n",
    "from qcelemental.models.common_models import Model\n",
    "\n",
    "import qcengine\n",
    "\n",
    "sys.path.append('/Users/localadmin/Documents/projects/QM_ESP_Psi4')\n",
    "\n",
    "from source.optimize.openff_psi4_gen import Psi4Generate\n",
    "from source.conformers.conformer_gen import Conformers\n",
    "from source.utilities.conversion_functions import conf_to_xyz_string\n",
    "\n",
    "\n",
    "import psi4\n",
    "\n"
   ]
  },
  {
   "cell_type": "code",
   "execution_count": null,
   "metadata": {},
   "outputs": [
    {
     "ename": "",
     "evalue": "",
     "output_type": "error",
     "traceback": [
      "\u001b[1;31mRunning cells with '/Users/localadmin/miniconda3/envs/openff/bin/python' requires the ipykernel package.\n",
      "\u001b[1;31mRun the following command to install 'ipykernel' into the Python environment. \n",
      "\u001b[1;31mCommand: 'conda install -p /Users/localadmin/miniconda3/envs/openff ipykernel --update-deps --force-reinstall'"
     ]
    }
   ],
   "source": [
    "#load our molecule to create the conformers\n",
    "\n",
    "molecule = smiles_to_molecule(\"OCC(O)CO\")\n",
    "rdmol = molecule.to_rdkit()\n",
    "AllChem.EmbedMultipleConfs(rdmol, numConfs=10, randomSeed=42)"
   ]
  },
  {
   "cell_type": "code",
   "execution_count": null,
   "metadata": {},
   "outputs": [
    {
     "ename": "",
     "evalue": "",
     "output_type": "error",
     "traceback": [
      "\u001b[1;31mRunning cells with '/Users/localadmin/miniconda3/envs/openff/bin/python' requires the ipykernel package.\n",
      "\u001b[1;31mRun the following command to install 'ipykernel' into the Python environment. \n",
      "\u001b[1;31mCommand: 'conda install -p /Users/localadmin/miniconda3/envs/openff ipykernel --update-deps --force-reinstall'"
     ]
    }
   ],
   "source": [
    "#test the optimizer\n",
    "\n",
    "optimize_MMFF = MMFFOptimizeMolecule(rdmol,mmffVariant = 'MMFF94',confId=3) #,confId=1,mmffvariant='MMFF94'\n",
    "optimize_MMFF\n",
    "\n"
   ]
  },
  {
   "cell_type": "code",
   "execution_count": null,
   "metadata": {},
   "outputs": [
    {
     "ename": "",
     "evalue": "",
     "output_type": "error",
     "traceback": [
      "\u001b[1;31mRunning cells with '/Users/localadmin/miniconda3/envs/openff/bin/python' requires the ipykernel package.\n",
      "\u001b[1;31mRun the following command to install 'ipykernel' into the Python environment. \n",
      "\u001b[1;31mCommand: 'conda install -p /Users/localadmin/miniconda3/envs/openff ipykernel --update-deps --force-reinstall'"
     ]
    }
   ],
   "source": [
    "#test all the conformers\n",
    "\n",
    "for id in range(rdmol.GetNumConformers()):\n",
    "    optimize_MMFF = MMFFOptimizeMolecule(rdmol,mmffVariant = 'MMFF94',confId=3) #,confId=1,mmffvariant='MMFF94'\n",
    "    print(f'conformer:{id}, optimize (0 = converge, 1 = more iterations req): {optimize_MMFF}')"
   ]
  },
  {
   "cell_type": "code",
   "execution_count": null,
   "metadata": {},
   "outputs": [
    {
     "ename": "",
     "evalue": "",
     "output_type": "error",
     "traceback": [
      "\u001b[1;31mRunning cells with '/Users/localadmin/miniconda3/envs/openff/bin/python' requires the ipykernel package.\n",
      "\u001b[1;31mRun the following command to install 'ipykernel' into the Python environment. \n",
      "\u001b[1;31mCommand: 'conda install -p /Users/localadmin/miniconda3/envs/openff ipykernel --update-deps --force-reinstall'"
     ]
    }
   ],
   "source": [
    "from rdkit.Chem.Draw import IPythonConsole\n",
    "IPythonConsole.ipython_3d = True\n",
    "import py3Dmol\n"
   ]
  },
  {
   "cell_type": "code",
   "execution_count": null,
   "metadata": {},
   "outputs": [
    {
     "ename": "",
     "evalue": "",
     "output_type": "error",
     "traceback": [
      "\u001b[1;31mRunning cells with '/Users/localadmin/miniconda3/envs/openff/bin/python' requires the ipykernel package.\n",
      "\u001b[1;31mRun the following command to install 'ipykernel' into the Python environment. \n",
      "\u001b[1;31mCommand: 'conda install -p /Users/localadmin/miniconda3/envs/openff ipykernel --update-deps --force-reinstall'"
     ]
    }
   ],
   "source": [
    "#do the conformers look structurally sensible\n",
    "\n",
    "for id in range(rdmol.GetNumConformers()):\n",
    "    IPythonConsole.drawMol3D(rdmol,confId=id)\n"
   ]
  },
  {
   "cell_type": "code",
   "execution_count": null,
   "metadata": {},
   "outputs": [
    {
     "ename": "",
     "evalue": "",
     "output_type": "error",
     "traceback": [
      "\u001b[1;31mRunning cells with '/Users/localadmin/miniconda3/envs/openff/bin/python' requires the ipykernel package.\n",
      "\u001b[1;31mRun the following command to install 'ipykernel' into the Python environment. \n",
      "\u001b[1;31mCommand: 'conda install -p /Users/localadmin/miniconda3/envs/openff ipykernel --update-deps --force-reinstall'"
     ]
    }
   ],
   "source": [
    "optimize_MMFF"
   ]
  },
  {
   "cell_type": "code",
   "execution_count": null,
   "metadata": {},
   "outputs": [
    {
     "ename": "",
     "evalue": "",
     "output_type": "error",
     "traceback": [
      "\u001b[1;31mRunning cells with '/Users/localadmin/miniconda3/envs/openff/bin/python' requires the ipykernel package.\n",
      "\u001b[1;31mRun the following command to install 'ipykernel' into the Python environment. \n",
      "\u001b[1;31mCommand: 'conda install -p /Users/localadmin/miniconda3/envs/openff ipykernel --update-deps --force-reinstall'"
     ]
    }
   ],
   "source": [
    "#now create a series of xyz files so we can run the conformers with ASE, first convert our conformers to xyz format and then write to file\n",
    "\n",
    "from openff.units import unit\n",
    "\n",
    "cwd = os.getcwd()\n",
    "\n",
    "conformers = []\n",
    "\n",
    "\n",
    "\n",
    "for confs in range(rdmol.GetNumConformers()):\n",
    "    conformer = np.zeros((rdmol.GetConformer(confs).GetNumAtoms(), 3))\n",
    "    for atom_index, coordinates in enumerate(rdmol.GetConformer(confs).GetPositions()):\n",
    "        conformer[atom_index, :] = coordinates\n",
    "    conformers.append(conformer * unit.angstrom)\n",
    "\n",
    "\n",
    "for number ,conformer in enumerate(conformers):\n",
    "    atoms = [\n",
    "            {\n",
    "                \"element\": SYMBOLS[atom.atomic_number],\n",
    "                \"x\": conformer[index, 0],\n",
    "                \"y\": conformer[index, 1],\n",
    "                \"z\": conformer[index, 2],\n",
    "            }\n",
    "            for index, atom in enumerate(molecule.atoms)\n",
    "        ]\n",
    "    xyz = f'{molecule.n_atoms}\\n{molecule.to_smiles()}\\n'\n",
    "    for row in atoms:\n",
    "        xyz += f\"{row['element']}\\t{np.around(row['x'].magnitude,decimals=6)}\\t{np.around(row['y'].magnitude,decimals=6)}\\t{np.around(row['z'].magnitude, decimals=6)}\\n\"\n",
    "    try:\n",
    "        f = open(cwd+f\"/conformer_{number}.xyz\", 'x')\n",
    "        f.write(xyz)\n",
    "        f.close()\n",
    "    except FileExistsError:\n",
    "        continue"
   ]
  },
  {
   "cell_type": "code",
   "execution_count": 2,
   "metadata": {},
   "outputs": [
    {
     "name": "stdout",
     "output_type": "stream",
     "text": [
      "rdkit has generated 10 conformers from a requested 10 conformers\n"
     ]
    },
    {
     "ename": "NameError",
     "evalue": "name 'Model' is not defined",
     "output_type": "error",
     "traceback": [
      "\u001b[0;31m---------------------------------------------------------------------------\u001b[0m",
      "\u001b[0;31mNameError\u001b[0m                                 Traceback (most recent call last)",
      "\u001b[1;32m/Users/localadmin/Documents/projects/QM_ESP_Psi4/examples/notebook_test.ipynb Cell 9\u001b[0m line \u001b[0;36m1\n\u001b[1;32m      <a href='vscode-notebook-cell:/Users/localadmin/Documents/projects/QM_ESP_Psi4/examples/notebook_test.ipynb#X11sZmlsZQ%3D%3D?line=6'>7</a>\u001b[0m qc_mol \u001b[39m=\u001b[39m  test_mol\u001b[39m.\u001b[39mto_qcschema(conformer\u001b[39m=\u001b[39m\u001b[39m0\u001b[39m)\n\u001b[1;32m      <a href='vscode-notebook-cell:/Users/localadmin/Documents/projects/QM_ESP_Psi4/examples/notebook_test.ipynb#X11sZmlsZQ%3D%3D?line=8'>9</a>\u001b[0m \u001b[39m#Setup geometry optimisation\u001b[39;00m\n\u001b[0;32m---> <a href='vscode-notebook-cell:/Users/localadmin/Documents/projects/QM_ESP_Psi4/examples/notebook_test.ipynb#X11sZmlsZQ%3D%3D?line=9'>10</a>\u001b[0m hf_model \u001b[39m=\u001b[39m Model(method\u001b[39m=\u001b[39m\u001b[39m\"\u001b[39m\u001b[39mhf\u001b[39m\u001b[39m\"\u001b[39m, basis\u001b[39m=\u001b[39m\u001b[39m\"\u001b[39m\u001b[39m6-31G*\u001b[39m\u001b[39m\"\u001b[39m)\n\u001b[1;32m     <a href='vscode-notebook-cell:/Users/localadmin/Documents/projects/QM_ESP_Psi4/examples/notebook_test.ipynb#X11sZmlsZQ%3D%3D?line=10'>11</a>\u001b[0m spec \u001b[39m=\u001b[39m QCInputSpecification(model\u001b[39m=\u001b[39mhf_model, keywords\u001b[39m=\u001b[39m{}, driver\u001b[39m=\u001b[39m\u001b[39m\"\u001b[39m\u001b[39mgradient\u001b[39m\u001b[39m\"\u001b[39m)\n\u001b[1;32m     <a href='vscode-notebook-cell:/Users/localadmin/Documents/projects/QM_ESP_Psi4/examples/notebook_test.ipynb#X11sZmlsZQ%3D%3D?line=11'>12</a>\u001b[0m opt_spec \u001b[39m=\u001b[39m OptimizationInput(\n\u001b[1;32m     <a href='vscode-notebook-cell:/Users/localadmin/Documents/projects/QM_ESP_Psi4/examples/notebook_test.ipynb#X11sZmlsZQ%3D%3D?line=12'>13</a>\u001b[0m             initial_molecule\u001b[39m=\u001b[39mqc_mol,\n\u001b[1;32m     <a href='vscode-notebook-cell:/Users/localadmin/Documents/projects/QM_ESP_Psi4/examples/notebook_test.ipynb#X11sZmlsZQ%3D%3D?line=13'>14</a>\u001b[0m             input_specification\u001b[39m=\u001b[39mspec,\n\u001b[1;32m     <a href='vscode-notebook-cell:/Users/localadmin/Documents/projects/QM_ESP_Psi4/examples/notebook_test.ipynb#X11sZmlsZQ%3D%3D?line=14'>15</a>\u001b[0m             keywords\u001b[39m=\u001b[39m{\u001b[39m\"\u001b[39m\u001b[39mcoordsys\u001b[39m\u001b[39m\"\u001b[39m: \u001b[39m\"\u001b[39m\u001b[39mdlc\u001b[39m\u001b[39m\"\u001b[39m, \n\u001b[1;32m     <a href='vscode-notebook-cell:/Users/localadmin/Documents/projects/QM_ESP_Psi4/examples/notebook_test.ipynb#X11sZmlsZQ%3D%3D?line=15'>16</a>\u001b[0m                       \u001b[39m\"\u001b[39m\u001b[39mprogram\u001b[39m\u001b[39m\"\u001b[39m: \u001b[39m\"\u001b[39m\u001b[39mpsi4\u001b[39m\u001b[39m\"\u001b[39m}                                        \n\u001b[1;32m     <a href='vscode-notebook-cell:/Users/localadmin/Documents/projects/QM_ESP_Psi4/examples/notebook_test.ipynb#X11sZmlsZQ%3D%3D?line=16'>17</a>\u001b[0m         )\n",
      "\u001b[0;31mNameError\u001b[0m: name 'Model' is not defined"
     ]
    }
   ],
   "source": [
    "\n",
    "\n",
    "CWD = os.getcwd()\n",
    "\n",
    "#generate water test molecule as openff.toolkit.Molecule\n",
    "test_mol =  smiles_to_molecule('[H]O[H]')\n",
    "conformer_list = Conformers.generate(test_mol, generation_type='rdkit')\n",
    "conformer_list[0]\n",
    "qc_mol =  test_mol.to_qcschema(conformer=0)\n",
    "\n",
    "#Setup geometry optimisation\n",
    "hf_model = Model(method=\"hf\", basis=\"6-31G*\")\n",
    "spec = QCInputSpecification(model=hf_model, keywords={}, driver=\"gradient\")\n",
    "opt_spec = OptimizationInput(\n",
    "            initial_molecule=qc_mol,\n",
    "            input_specification=spec,\n",
    "            keywords={\"coordsys\": \"dlc\", \n",
    "                      \"program\": \"psi4\"}                                        \n",
    "        )\n",
    "\n",
    "opt = qcengine.compute_procedure(opt_spec, \"geometric\")\n",
    "print(f'geometry optimiztion was {opt.error}')\n",
    "#return optimized molecule\n",
    "optmized_mol = opt.final_molecule\n",
    "\n",
    "#Generate grid.dat file for grid_esp and grid_field\n",
    "grid_settings = LatticeGridSettings(\n",
    "        type=\"fcc\", spacing=0.5, inner_vdw_scale=1.4, outer_vdw_scale=2.0\n",
    "    )\n",
    "\n",
    "grid = GridGenerator.generate(test_mol, optmized_mol.geometry*unit.angstrom, grid_settings)\n",
    "\n",
    "grid = grid.to(unit.angstrom).m\n",
    "np.savetxt(\"grid.dat\", grid, delimiter=\" \", fmt=\"%16.10f\")\n",
    "#compute one-electron properties.\n",
    "opt_input_2 = { \"molecule\" : optmized_mol,\n",
    "              \"driver\" : \"energy\",\n",
    "              \"model\" : {\"method\":\"scf\",\"basis\":\"6-31G*\"},\n",
    "              \"protocols\":{\"wavefunction\":\"all\",\"stdout\":True,\"native_files\":\"all\"},\n",
    "              \"keywords\":{\"scf_properties\":[\"GRID_ESP\", \"GRID_FIELD\",\"MULLIKEN_CHARGES\", \"LOWDIN_CHARGES\", \"DIPOLE\", \"QUADRUPOLE\", \"MBIS_CHARGES\"]}                               \n",
    "              }\n",
    "\n",
    "\n",
    "opt_2 = qcengine.compute(opt_input_2, \"psi4\", task_config={\"scratch_directory\":CWD,\"scratch_messy\":True})\n",
    "\n",
    "print(opt_2.dict())\n",
    "\n",
    "esp = (np.loadtxt(\"grid_esp.dat\").reshape(-1, 1) * unit.hartree / unit.e)\n",
    "\n",
    "electric_field = (np.loadtxt(\"grid_field.dat\")* unit.hartree/ (unit.e * unit.bohr))"
   ]
  },
  {
   "cell_type": "code",
   "execution_count": null,
   "metadata": {},
   "outputs": [
    {
     "ename": "",
     "evalue": "",
     "output_type": "error",
     "traceback": [
      "\u001b[1;31mRunning cells with '/Users/localadmin/miniconda3/envs/openff/bin/python' requires the ipykernel package.\n",
      "\u001b[1;31mRun the following command to install 'ipykernel' into the Python environment. \n",
      "\u001b[1;31mCommand: 'conda install -p /Users/localadmin/miniconda3/envs/openff ipykernel --update-deps --force-reinstall'"
     ]
    }
   ],
   "source": [
    "psi4.core.variables(['MBIS Charges'])"
   ]
  },
  {
   "cell_type": "code",
   "execution_count": 4,
   "metadata": {},
   "outputs": [
    {
     "name": "stdout",
     "output_type": "stream",
     "text": [
      "rdkit has generated 10 conformers from a requested 10 conformers\n"
     ]
    },
    {
     "ename": "AttributeError",
     "evalue": "type object 'Psi4Generate' has no attribute 'run_calc'",
     "output_type": "error",
     "traceback": [
      "\u001b[0;31m---------------------------------------------------------------------------\u001b[0m",
      "\u001b[0;31mAttributeError\u001b[0m                            Traceback (most recent call last)",
      "\u001b[1;32m/Users/localadmin/Documents/projects/QM_ESP_Psi4/examples/notebook_test.ipynb Cell 11\u001b[0m line \u001b[0;36m2\n\u001b[1;32m     <a href='vscode-notebook-cell:/Users/localadmin/Documents/projects/QM_ESP_Psi4/examples/notebook_test.ipynb#X13sZmlsZQ%3D%3D?line=13'>14</a>\u001b[0m grid_settings \u001b[39m=\u001b[39m LatticeGridSettings(\n\u001b[1;32m     <a href='vscode-notebook-cell:/Users/localadmin/Documents/projects/QM_ESP_Psi4/examples/notebook_test.ipynb#X13sZmlsZQ%3D%3D?line=14'>15</a>\u001b[0m         \u001b[39mtype\u001b[39m\u001b[39m=\u001b[39m\u001b[39m\"\u001b[39m\u001b[39mfcc\u001b[39m\u001b[39m\"\u001b[39m, spacing\u001b[39m=\u001b[39m\u001b[39m0.5\u001b[39m, inner_vdw_scale\u001b[39m=\u001b[39m\u001b[39m1.4\u001b[39m, outer_vdw_scale\u001b[39m=\u001b[39m\u001b[39m2.0\u001b[39m\n\u001b[1;32m     <a href='vscode-notebook-cell:/Users/localadmin/Documents/projects/QM_ESP_Psi4/examples/notebook_test.ipynb#X13sZmlsZQ%3D%3D?line=15'>16</a>\u001b[0m     )\n\u001b[1;32m     <a href='vscode-notebook-cell:/Users/localadmin/Documents/projects/QM_ESP_Psi4/examples/notebook_test.ipynb#X13sZmlsZQ%3D%3D?line=18'>19</a>\u001b[0m esp_settings \u001b[39m=\u001b[39m ESPSettings(basis\u001b[39m=\u001b[39m\u001b[39m\"\u001b[39m\u001b[39m6-31G*\u001b[39m\u001b[39m\"\u001b[39m, method\u001b[39m=\u001b[39m\u001b[39m\"\u001b[39m\u001b[39mhf\u001b[39m\u001b[39m\"\u001b[39m, grid_settings\u001b[39m=\u001b[39mgrid_settings)\n\u001b[0;32m---> <a href='vscode-notebook-cell:/Users/localadmin/Documents/projects/QM_ESP_Psi4/examples/notebook_test.ipynb#X13sZmlsZQ%3D%3D?line=20'>21</a>\u001b[0m xyz \u001b[39m=\u001b[39m Psi4Generate\u001b[39m.\u001b[39;49mrun_calc(test_mol,conformer_list[\u001b[39m0\u001b[39m],esp_settings,compute_esp\u001b[39m=\u001b[39m\u001b[39mTrue\u001b[39;00m,compute_field\u001b[39m=\u001b[39m\u001b[39mTrue\u001b[39;00m, minimize\u001b[39m=\u001b[39m\u001b[39mFalse\u001b[39;00m)\n\u001b[1;32m     <a href='vscode-notebook-cell:/Users/localadmin/Documents/projects/QM_ESP_Psi4/examples/notebook_test.ipynb#X13sZmlsZQ%3D%3D?line=22'>23</a>\u001b[0m molecule \u001b[39m=\u001b[39m psi4\u001b[39m.\u001b[39mgeometry(\n\u001b[1;32m     <a href='vscode-notebook-cell:/Users/localadmin/Documents/projects/QM_ESP_Psi4/examples/notebook_test.ipynb#X13sZmlsZQ%3D%3D?line=23'>24</a>\u001b[0m \u001b[39m\"\"\"\u001b[39;00m\n\u001b[1;32m     <a href='vscode-notebook-cell:/Users/localadmin/Documents/projects/QM_ESP_Psi4/examples/notebook_test.ipynb#X13sZmlsZQ%3D%3D?line=24'>25</a>\u001b[0m \u001b[39m3\u001b[39;00m\n\u001b[0;32m   (...)\u001b[0m\n\u001b[1;32m     <a href='vscode-notebook-cell:/Users/localadmin/Documents/projects/QM_ESP_Psi4/examples/notebook_test.ipynb#X13sZmlsZQ%3D%3D?line=29'>30</a>\u001b[0m \u001b[39m\"\"\"\u001b[39;00m\n\u001b[1;32m     <a href='vscode-notebook-cell:/Users/localadmin/Documents/projects/QM_ESP_Psi4/examples/notebook_test.ipynb#X13sZmlsZQ%3D%3D?line=30'>31</a>\u001b[0m )\n\u001b[1;32m     <a href='vscode-notebook-cell:/Users/localadmin/Documents/projects/QM_ESP_Psi4/examples/notebook_test.ipynb#X13sZmlsZQ%3D%3D?line=32'>33</a>\u001b[0m molecule\u001b[39m.\u001b[39mset_molecular_charge(\u001b[39m0\u001b[39m)\n",
      "\u001b[0;31mAttributeError\u001b[0m: type object 'Psi4Generate' has no attribute 'run_calc'"
     ]
    }
   ],
   "source": [
    "from source.optimize.openff_psi4_gen import Psi4Generate\n",
    "import psi4\n",
    "import qcengine\n",
    "\n",
    "test_mol =  smiles_to_molecule('[H]O[H]')\n",
    "\n",
    "#generate water test molecule as openff.toolkit.Molecule\n",
    "test_mol =  smiles_to_molecule('[H]O[H]')\n",
    "\n",
    "conformer_list = Conformers.generate(test_mol, generation_type='rdkit')\n",
    "conformer_list[0]\n",
    "qc_mol =  test_mol.to_qcschema(conformer=0)\n",
    "\n",
    "#Generate grid.dat file for grid_esp and grid_field\n",
    "grid_settings = LatticeGridSettings(\n",
    "        type=\"fcc\", spacing=0.5, inner_vdw_scale=1.4, outer_vdw_scale=2.0\n",
    "    )\n",
    "\n",
    "\n",
    "esp_settings = ESPSettings(basis=\"6-31G*\", method=\"hf\", grid_settings=grid_settings)\n",
    "\n",
    "xyz = Psi4Generate.run_calc(test_mol,conformer_list[0],esp_settings,compute_esp=True,compute_field=True, minimize=False)\n",
    "\n",
    "molecule = psi4.geometry(\n",
    "\"\"\"\n",
    "3\n",
    "[H]O[H]\n",
    "H\t-0.81024874\t-0.18571238\t-0.0\n",
    "O\t-0.00248133\t0.36959931\t-0.0\n",
    "H\t0.81273007\t-0.18388693\t0.0\n",
    "\"\"\"\n",
    ")\n",
    "\n",
    "molecule.set_molecular_charge(0)\n",
    "molecule.set_multiplicity(1)\n",
    "\n",
    "E, wfn = psi4.energy('hf/6-31g*', return_wfn=True, molecule = molecule)\n",
    "psi4.prop('hf/6-31G*', properties=[\"GRID_ESP\", \"GRID_FIELD\",\"MULLIKEN_CHARGES\", \"LOWDIN_CHARGES\", \"DIPOLE\", \"QUADRUPOLE\", \"MBIS_CHARGES\"])\n",
    "#psi4.core.print_variables()\n",
    "psi4.core.variables(['MBIS Charges'])\n",
    "molecule.fcharge"
   ]
  },
  {
   "cell_type": "code",
   "execution_count": 13,
   "metadata": {},
   "outputs": [
    {
     "name": "stdout",
     "output_type": "stream",
     "text": [
      "rdkit has generated 10 conformers from a requested 10 conformers\n",
      "FailedOperation(error=ComputeError(error_type='input_error', error_message=\"QCEngine Input Error: Error creating 'OptimizationInput', data could not be correctly parsed:\\n5 validation errors for OptimizationInput\\ninput_specification\\n  field required (type=value_error.missing)\\ninitial_molecule\\n  field required (type=value_error.missing)\\ndriver\\n  extra fields not permitted (type=value_error.extra)\\nmodel\\n  extra fields not permitted (type=value_error.extra)\\nmolecule\\n  extra fields not permitted (type=value_error.extra)\"))\n"
     ]
    },
    {
     "name": "stderr",
     "output_type": "stream",
     "text": [
      "/var/folders/5m/c625w21d6q3cgv41hc6yjs100000gq/T/ipykernel_18109/3519759898.py:19: FutureWarning: Using the `local_options` keyword argument is depreciated in favor of using `task_config`, in version 0.30.0 it will stop working.\n",
      "  opt = qcengine.compute_procedure(opt_spec, \"geometric\", local_options = { \"memory\": 2000000, \"ncores\":4})\n"
     ]
    }
   ],
   "source": [
    "from source.optimize.openff_psi4_gen import Psi4Generate\n",
    "from qcelemental.models.common_models import Model\n",
    "\n",
    "test_mol =  smiles_to_molecule('[H]O[H]')\n",
    "\n",
    "#generate water test molecule as openff.toolkit.Molecule\n",
    "test_mol =  smiles_to_molecule('[H]O[H]')\n",
    "conformer_list = Conformers.generate(test_mol, generation_type='rdkit')\n",
    "conformer_list[0]\n",
    "qc_mol =  test_mol.to_qcschema(conformer=0)\n",
    "\n",
    "\n",
    "\n",
    "opt_spec = { \"molecule\" : qc_mol,\n",
    "              \"driver\" : \"gradient\",\n",
    "              \"model\" : {\"method\":\"hf\",\"basis\":\"6-31G*\"}\n",
    "            }\n",
    "\n",
    "opt = qcengine.compute_procedure(opt_spec, \"geometric\", local_options = { \"memory\": 2000000, \"ncores\":4})\n",
    "print(opt)\n",
    "# print(opt.result)\n"
   ]
  },
  {
   "cell_type": "code",
   "execution_count": 1,
   "metadata": {},
   "outputs": [
    {
     "name": "stdout",
     "output_type": "stream",
     "text": [
      "Intel MKL WARNING: Support of Intel(R) Streaming SIMD Extensions 4.2 (Intel(R) SSE4.2) enabled only processors has been deprecated. Intel oneAPI Math Kernel Library 2025.0 will require Intel(R) Advanced Vector Extensions (Intel(R) AVX) instructions.\n",
      "Intel MKL WARNING: Support of Intel(R) Streaming SIMD Extensions 4.2 (Intel(R) SSE4.2) enabled only processors has been deprecated. Intel oneAPI Math Kernel Library 2025.0 will require Intel(R) Advanced Vector Extensions (Intel(R) AVX) instructions.\n",
      "rdkit has generated 10 conformers from a requested 10 conformers\n"
     ]
    },
    {
     "data": {
      "text/plain": [
       "{'CURRENT ENERGY': -76.00688623049763,\n",
       " 'CURRENT REFERENCE ENERGY': -76.00688623049763,\n",
       " 'DD SOLVATION ENERGY': 0.0,\n",
       " 'HF KINETIC ENERGY': 75.71208232169353,\n",
       " 'HF POTENTIAL ENERGY': -151.71896855219114,\n",
       " 'HF TOTAL ENERGY': -76.00688623049763,\n",
       " 'HF VIRIAL RATIO': 2.0038937498449916,\n",
       " 'NUCLEAR REPULSION ENERGY': 8.941189202753957,\n",
       " 'ONE-ELECTRON ENERGY': -122.62733060211329,\n",
       " 'PCM POLARIZATION ENERGY': 0.0,\n",
       " 'PE ENERGY': 0.0,\n",
       " 'SCF ITERATION ENERGY': -76.00688623049763,\n",
       " 'SCF ITERATIONS': 8.0,\n",
       " 'SCF TOTAL ENERGY': -76.00688623049763,\n",
       " 'TWO-ELECTRON ENERGY': 37.679255168861694,\n",
       " 'HF DIPOLE': array([ 0.00408617, -0.83522958,  0.        ]),\n",
       " 'HF QUADRUPOLE': array([[-2.78962776e+00,  4.75167568e-03,  0.00000000e+00],\n",
       "        [ 4.75167568e-03, -5.40692800e+00,  0.00000000e+00],\n",
       "        [ 0.00000000e+00,  0.00000000e+00, -5.41213293e+00]]),\n",
       " 'LOWDIN CHARGES': array([ 0.36108223, -0.72231233,  0.3612301 ]),\n",
       " 'MBIS CHARGES': array([[ 0.46457588],\n",
       "        [-0.92803681],\n",
       "        [ 0.46346084]]),\n",
       " 'MBIS DIPOLES': array([[-2.01864290e-02,  7.31481669e-04, -4.58530648e-16],\n",
       "        [-8.96320526e-04,  1.35494942e-01, -1.02401817e-15],\n",
       "        [ 2.03514443e-02,  8.15247025e-04,  1.26333295e-16]]),\n",
       " 'MBIS OCTUPOLES': array([[[[-2.47423681e-02,  3.17520881e-03, -4.15577920e-17],\n",
       "          [ 3.17520881e-03, -1.09086801e-02, -7.30112480e-16],\n",
       "          [-4.15577920e-17, -7.30112480e-16, -1.08872072e-02]],\n",
       " \n",
       "         [[ 3.17520881e-03, -1.09086801e-02, -7.30112480e-16],\n",
       "          [-1.09086801e-02,  9.90390205e-03, -4.37295146e-15],\n",
       "          [-7.30112480e-16, -4.37295146e-15,  7.79411957e-04]],\n",
       " \n",
       "         [[-4.15577920e-17, -7.30112480e-16, -1.08872072e-02],\n",
       "          [-7.30112480e-16, -4.37295146e-15,  7.79411957e-04],\n",
       "          [-1.08872072e-02,  7.79411957e-04, -3.31510674e-17]]],\n",
       " \n",
       " \n",
       "        [[[-7.76094285e-03,  3.91114582e-01, -4.07364536e-15],\n",
       "          [ 3.91114582e-01, -4.80041706e-04, -5.93541499e-16],\n",
       "          [-4.07364536e-15, -5.93541499e-16, -2.28133029e-03]],\n",
       " \n",
       "         [[ 3.91114582e-01, -4.80041706e-04, -5.93541499e-16],\n",
       "          [-4.80041706e-04,  4.90402600e-01, -1.88371716e-14],\n",
       "          [-5.93541499e-16, -1.88371716e-14,  1.19589947e-01]],\n",
       " \n",
       "         [[-4.07364536e-15, -5.93541499e-16, -2.28133029e-03],\n",
       "          [-5.93541499e-16, -1.88371716e-14,  1.19589947e-01],\n",
       "          [-2.28133029e-03,  1.19589947e-01, -4.90170474e-16]]],\n",
       " \n",
       " \n",
       "        [[[ 2.49307882e-02,  3.15906823e-03, -5.99109669e-17],\n",
       "          [ 3.15906823e-03,  1.10112553e-02,  9.42279375e-16],\n",
       "          [-5.99109669e-17,  9.42279375e-16,  1.09673771e-02]],\n",
       " \n",
       "         [[ 3.15906823e-03,  1.10112553e-02,  9.42279375e-16],\n",
       "          [ 1.10112553e-02,  1.02682277e-02, -4.22776639e-15],\n",
       "          [ 9.42279375e-16, -4.22776639e-15,  8.80509364e-04]],\n",
       " \n",
       "         [[-5.99109669e-17,  9.42279375e-16,  1.09673771e-02],\n",
       "          [ 9.42279375e-16, -4.22776639e-15,  8.80509364e-04],\n",
       "          [ 1.09673771e-02,  8.80509364e-04, -6.92013380e-17]]]]),\n",
       " 'MBIS QUADRUPOLES': array([[[-2.44526441e-01, -1.92142965e-03,  2.42888104e-16],\n",
       "         [-1.92142965e-03, -2.40525249e-01,  9.65235043e-16],\n",
       "         [ 2.42888104e-16,  9.65235043e-16, -2.49256924e-01]],\n",
       " \n",
       "        [[-4.60488438e+00,  6.33244257e-04,  1.50421516e-15],\n",
       "         [ 6.33244257e-04, -4.77221371e+00,  3.49333554e-15],\n",
       "         [ 1.50421516e-15,  3.49333554e-15, -4.91111602e+00]],\n",
       " \n",
       "        [[-2.46903142e-01,  1.82558118e-03, -1.49853864e-16],\n",
       "         [ 1.82558118e-03, -2.42847379e-01,  1.27428000e-15],\n",
       "         [-1.49853864e-16,  1.27428000e-15, -2.51759608e-01]]]),\n",
       " 'MBIS RADIAL MOMENTS <R^2>': <psi4.core.Matrix at 0x143326ab0>,\n",
       " 'MBIS RADIAL MOMENTS <R^3>': <psi4.core.Matrix at 0x143327410>,\n",
       " 'MBIS RADIAL MOMENTS <R^4>': <psi4.core.Matrix at 0x164630d70>,\n",
       " 'MBIS VALENCE WIDTHS': <psi4.core.Matrix at 0x164630cb0>,\n",
       " 'MULLIKEN CHARGES': array([ 0.43907508, -0.87763326,  0.43855818])}"
      ]
     },
     "execution_count": 1,
     "metadata": {},
     "output_type": "execute_result"
    }
   ],
   "source": [
    "import os\n",
    "import sys\n",
    "import random\n",
    "import numpy as np\n",
    "\n",
    "from tqdm import tqdm\n",
    "from rdkit.Chem import AllChem\n",
    "from rdkit.Chem.rdForceFieldHelpers import MMFFOptimizeMolecule\n",
    "\n",
    "from openff.units.elements import SYMBOLS\n",
    "from openff.toolkit import Molecule\n",
    "from openff.recharge.conformers import ConformerGenerator, ConformerSettings\n",
    "from openff.recharge.esp import ESPSettings\n",
    "from openff.recharge.esp.storage import MoleculeESPRecord, MoleculeESPStore\n",
    "from openff.recharge.grids import LatticeGridSettings, GridSettingsType, GridGenerator\n",
    "from openff.recharge.utilities.molecule import smiles_to_molecule\n",
    "from qcelemental.models.procedures import OptimizationInput, QCInputSpecification\n",
    "from openff.units import unit\n",
    "from qcelemental.models.common_models import Model\n",
    "\n",
    "sys.path.append('/Users/localadmin/Documents/projects/QM_ESP_Psi4')\n",
    "\n",
    "from source.optimize.openff_psi4_gen import Psi4Generate\n",
    "from source.conformers.conformer_gen import Conformers\n",
    "from source.utilities.conversion_functions import conf_to_xyz_string\n",
    "\n",
    "\n",
    "import psi4\n",
    "\n",
    "sys.settrace \n",
    "\n",
    "test_mol =  smiles_to_molecule('[H]O[H]')\n",
    "\n",
    "#generate water test molecule as openff.toolkit.Molecule\n",
    "test_mol =  smiles_to_molecule('[H]O[H]')\n",
    "conformer_list = Conformers.generate(test_mol, generation_type='rdkit')\n",
    "conformer_list[0]\n",
    "qc_mol =  test_mol.to_qcschema(conformer=0)\n",
    "\n",
    "#Generate grid.dat file for grid_esp and grid_field\n",
    "grid_settings = LatticeGridSettings(\n",
    "        type=\"fcc\", spacing=0.5, inner_vdw_scale=1.4, outer_vdw_scale=2.0\n",
    "    )\n",
    "grid = GridGenerator.generate(test_mol, conformer_list[0], grid_settings)\n",
    "\n",
    "grid = grid.to(unit.angstrom).m\n",
    "np.savetxt(\"grid.dat\", grid, delimiter=\" \", fmt=\"%16.10f\")\n",
    "\n",
    "\n",
    "esp_settings = ESPSettings(basis=\"6-31G*\", method=\"hf\", grid_settings=grid_settings)\n",
    "\n",
    "xyz = conformer_string = conf_to_xyz_string(conformer_list[0], test_mol)\n",
    "\n",
    "psi4.set_output_file('output.dat')\n",
    "\n",
    "molecule = psi4.core.Molecule.from_string(\"\"\"\n",
    "                                            nocom\n",
    "                                            noreorient\n",
    "                                            H\t-0.81024874\t-0.18571238\t-0.0\n",
    "                                            O\t-0.00248133\t0.36959931\t-0.0\n",
    "                                            H\t0.81273007\t-0.18388693\t0.0 \n",
    "                                          \"\"\")\n",
    "\n",
    "molecule.set_molecular_charge(0)\n",
    "molecule.set_multiplicity(1)\n",
    "\n",
    "psi4.set_options({\"DFT_SPHERICAL_POINTS\":\"590\",\n",
    "                  \"DFT_RADIAL_POINTS\":\"99\"})\n",
    "\n",
    "E, wfn = psi4.prop('hf/6-31G*', properties=[\"GRID_ESP\", \n",
    "                                            \"GRID_FIELD\",\n",
    "                                            \"MULLIKEN_CHARGES\", \n",
    "                                            \"LOWDIN_CHARGES\", \n",
    "                                            \"DIPOLE\", \n",
    "                                            \"QUADRUPOLE\", \n",
    "                                            \"MBIS_CHARGES\"],\n",
    "                                            molecule = molecule, \n",
    "                                            return_wfn = True,\n",
    "                                            )  #\"GRID_ESP\", \"GRID_FIELD\"\n",
    "psi4.core.variables(['MBIS Charges'])\n",
    "wfn.variables()"
   ]
  },
  {
   "cell_type": "code",
   "execution_count": null,
   "metadata": {},
   "outputs": [
    {
     "ename": "",
     "evalue": "",
     "output_type": "error",
     "traceback": [
      "\u001b[1;31mRunning cells with '/Users/localadmin/miniconda3/envs/openff/bin/python' requires the ipykernel package.\n",
      "\u001b[1;31mRun the following command to install 'ipykernel' into the Python environment. \n",
      "\u001b[1;31mCommand: 'conda install -p /Users/localadmin/miniconda3/envs/openff ipykernel --update-deps --force-reinstall'"
     ]
    }
   ],
   "source": [
    "prop"
   ]
  },
  {
   "cell_type": "code",
   "execution_count": null,
   "metadata": {},
   "outputs": [
    {
     "ename": "",
     "evalue": "",
     "output_type": "error",
     "traceback": [
      "\u001b[1;31mRunning cells with '/Users/localadmin/miniconda3/envs/openff/bin/python' requires the ipykernel package.\n",
      "\u001b[1;31mRun the following command to install 'ipykernel' into the Python environment. \n",
      "\u001b[1;31mCommand: 'conda install -p /Users/localadmin/miniconda3/envs/openff ipykernel --update-deps --force-reinstall'"
     ]
    }
   ],
   "source": [
    "wfn.variables()"
   ]
  },
  {
   "cell_type": "code",
   "execution_count": null,
   "metadata": {},
   "outputs": [
    {
     "ename": "",
     "evalue": "",
     "output_type": "error",
     "traceback": [
      "\u001b[1;31mRunning cells with '/Users/localadmin/miniconda3/envs/openff/bin/python' requires the ipykernel package.\n",
      "\u001b[1;31mRun the following command to install 'ipykernel' into the Python environment. \n",
      "\u001b[1;31mCommand: 'conda install -p /Users/localadmin/miniconda3/envs/openff ipykernel --update-deps --force-reinstall'"
     ]
    }
   ],
   "source": [
    "molecule = psi4.core.Molecule.from_string(\"\"\"\n",
    "                                            nocom\n",
    "                                            noreorient\n",
    "                                            H\t-0.81024874\t-0.18571238\t-0.0\n",
    "                                            O\t-0.00248133\t0.36959931\t-0.0\n",
    "                                            H\t0.81273007\t-0.18388693\t0.0 \n",
    "                                          \"\"\")\n",
    "\n",
    "molecule.to_string('xyz')\n"
   ]
  },
  {
   "cell_type": "code",
   "execution_count": null,
   "metadata": {},
   "outputs": [
    {
     "ename": "",
     "evalue": "",
     "output_type": "error",
     "traceback": [
      "\u001b[1;31mRunning cells with '/Users/localadmin/miniconda3/envs/openff/bin/python' requires the ipykernel package.\n",
      "\u001b[1;31mRun the following command to install 'ipykernel' into the Python environment. \n",
      "\u001b[1;31mCommand: 'conda install -p /Users/localadmin/miniconda3/envs/openff ipykernel --update-deps --force-reinstall'"
     ]
    }
   ],
   "source": [
    "mulliken_charges = wfn.variable(\"MULLIKEN_CHARGES\")\n",
    "lowdin_charges = wfn.variable(\"LOWDIN_CHARGES\")\n",
    "dipole = wfn.variable(\"HF DIPOLE\")\n",
    "quadrupole = wfn.variable(\"HF QUADRUPOLE\")\n",
    "mbis_charges = wfn.variable(\"MBIS CHARGES\")"
   ]
  },
  {
   "cell_type": "code",
   "execution_count": null,
   "metadata": {},
   "outputs": [
    {
     "ename": "",
     "evalue": "",
     "output_type": "error",
     "traceback": [
      "\u001b[1;31mRunning cells with '/Users/localadmin/miniconda3/envs/openff/bin/python' requires the ipykernel package.\n",
      "\u001b[1;31mRun the following command to install 'ipykernel' into the Python environment. \n",
      "\u001b[1;31mCommand: 'conda install -p /Users/localadmin/miniconda3/envs/openff ipykernel --update-deps --force-reinstall'"
     ]
    }
   ],
   "source": [
    "variable_names = [\"MULLIKEN_CHARGES\", \"LOWDIN_CHARGES\", \"HF DIPOLE\", \"HF QUADRUPOLE\", \"MBIS CHARGES\"]\n",
    "variables = {name: wfn.variable(name) for name in variable_names}"
   ]
  },
  {
   "cell_type": "code",
   "execution_count": null,
   "metadata": {},
   "outputs": [
    {
     "ename": "",
     "evalue": "",
     "output_type": "error",
     "traceback": [
      "\u001b[1;31mRunning cells with '/Users/localadmin/miniconda3/envs/openff/bin/python' requires the ipykernel package.\n",
      "\u001b[1;31mRun the following command to install 'ipykernel' into the Python environment. \n",
      "\u001b[1;31mCommand: 'conda install -p /Users/localadmin/miniconda3/envs/openff ipykernel --update-deps --force-reinstall'"
     ]
    }
   ],
   "source": [
    "from qcelemental.models import Molecule as QCMol\n",
    "qc_mol =  test_mol.to_qcschema(conformer=0)\n",
    "qc_mol = QCMol(**qc_mol.dict(exclude={\"fix_com\", \"fix_orientation\"}), fix_com=True, fix_orientation=True)\n",
    "molecule = psi4.geometry(qc_mol.to_string(\"psi4\"))\n",
    "qc_mol.geometry"
   ]
  },
  {
   "cell_type": "code",
   "execution_count": 1,
   "metadata": {},
   "outputs": [
    {
     "name": "stdout",
     "output_type": "stream",
     "text": [
      "Intel MKL WARNING: Support of Intel(R) Streaming SIMD Extensions 4.2 (Intel(R) SSE4.2) enabled only processors has been deprecated. Intel oneAPI Math Kernel Library 2025.0 will require Intel(R) Advanced Vector Extensions (Intel(R) AVX) instructions.\n",
      "Intel MKL WARNING: Support of Intel(R) Streaming SIMD Extensions 4.2 (Intel(R) SSE4.2) enabled only processors has been deprecated. Intel oneAPI Math Kernel Library 2025.0 will require Intel(R) Advanced Vector Extensions (Intel(R) AVX) instructions.\n",
      "rdkit has generated 10 conformers from a requested 10 conformers\n"
     ]
    },
    {
     "name": "stderr",
     "output_type": "stream",
     "text": [
      "ERROR:tornado.general:SEND Error: Host unreachable\n"
     ]
    },
    {
     "ename": "KeyboardInterrupt",
     "evalue": "",
     "output_type": "error",
     "traceback": [
      "\u001b[0;31m---------------------------------------------------------------------------\u001b[0m",
      "\u001b[0;31mKeyboardInterrupt\u001b[0m                         Traceback (most recent call last)",
      "\u001b[1;32m/Users/localadmin/Documents/projects/QM_ESP_Psi4/examples/notebook_test.ipynb Cell 20\u001b[0m line \u001b[0;36m3\n\u001b[1;32m     <a href='vscode-notebook-cell:/Users/localadmin/Documents/projects/QM_ESP_Psi4/examples/notebook_test.ipynb#X24sZmlsZQ%3D%3D?line=29'>30</a>\u001b[0m \u001b[39m#Generate the conformers\u001b[39;00m\n\u001b[1;32m     <a href='vscode-notebook-cell:/Users/localadmin/Documents/projects/QM_ESP_Psi4/examples/notebook_test.ipynb#X24sZmlsZQ%3D%3D?line=30'>31</a>\u001b[0m conformer_list \u001b[39m=\u001b[39m Conformers\u001b[39m.\u001b[39mgenerate(molecule, generation_type\u001b[39m=\u001b[39m\u001b[39m'\u001b[39m\u001b[39mrdkit\u001b[39m\u001b[39m'\u001b[39m)\n\u001b[0;32m---> <a href='vscode-notebook-cell:/Users/localadmin/Documents/projects/QM_ESP_Psi4/examples/notebook_test.ipynb#X24sZmlsZQ%3D%3D?line=31'>32</a>\u001b[0m ESP_gen \u001b[39m=\u001b[39m PropGenerator(molecule \u001b[39m=\u001b[39;49m molecule, conformers \u001b[39m=\u001b[39;49m conformer_list, esp_settings \u001b[39m=\u001b[39;49m esp_settings, grid_settings \u001b[39m=\u001b[39;49m grid_settings)\n\u001b[1;32m     <a href='vscode-notebook-cell:/Users/localadmin/Documents/projects/QM_ESP_Psi4/examples/notebook_test.ipynb#X24sZmlsZQ%3D%3D?line=32'>33</a>\u001b[0m ESP_gen\u001b[39m.\u001b[39mmemory \u001b[39m=\u001b[39m \u001b[39m2e+9\u001b[39m \u001b[39m#2gb\u001b[39;00m\n\u001b[1;32m     <a href='vscode-notebook-cell:/Users/localadmin/Documents/projects/QM_ESP_Psi4/examples/notebook_test.ipynb#X24sZmlsZQ%3D%3D?line=33'>34</a>\u001b[0m \u001b[39mprint\u001b[39m(\u001b[39mf\u001b[39m\u001b[39m'\u001b[39m\u001b[39mnumber of cores is \u001b[39m\u001b[39m{\u001b[39;00mESP_gen\u001b[39m.\u001b[39mncores\u001b[39m}\u001b[39;00m\u001b[39m'\u001b[39m)\n",
      "File \u001b[0;32m~/Documents/projects/QM_ESP_Psi4/source/optimize/esp_generator_wrapper.py:201\u001b[0m, in \u001b[0;36mPropGenerator.__init__\u001b[0;34m(self, molecule, conformers, esp_settings, grid_settings, ncores, memory)\u001b[0m\n\u001b[1;32m    193\u001b[0m \u001b[39mdef\u001b[39;00m \u001b[39m__init__\u001b[39m(\u001b[39mself\u001b[39m,\n\u001b[1;32m    194\u001b[0m              molecule: \u001b[39m\"\u001b[39m\u001b[39mMolecule\u001b[39m\u001b[39m\"\u001b[39m,\n\u001b[1;32m    195\u001b[0m              conformers: \u001b[39mlist\u001b[39m[unit\u001b[39m.\u001b[39mQuantity],\n\u001b[0;32m   (...)\u001b[0m\n\u001b[1;32m    199\u001b[0m              memory: \u001b[39mint\u001b[39m \u001b[39m|\u001b[39m \u001b[39mNone\u001b[39;00m \u001b[39m=\u001b[39m \u001b[39mNone\u001b[39;00m\n\u001b[1;32m    200\u001b[0m              ) \u001b[39m-\u001b[39m\u001b[39m>\u001b[39m \u001b[39mNone\u001b[39;00m:\n\u001b[0;32m--> 201\u001b[0m     \u001b[39msuper\u001b[39;49m()\u001b[39m.\u001b[39;49m\u001b[39m__init__\u001b[39;49m(\n\u001b[1;32m    202\u001b[0m                molecule,\n\u001b[1;32m    203\u001b[0m                conformers,\n\u001b[1;32m    204\u001b[0m                esp_settings,\n\u001b[1;32m    205\u001b[0m                grid_settings,\n\u001b[1;32m    206\u001b[0m                ncores,\n\u001b[1;32m    207\u001b[0m                memory)\n",
      "File \u001b[0;32m~/Documents/projects/QM_ESP_Psi4/source/optimize/esp_generator_wrapper.py:40\u001b[0m, in \u001b[0;36mESPGenerator.__init__\u001b[0;34m(self, molecule, conformers, esp_settings, grid_settings, ncores, memory)\u001b[0m\n\u001b[1;32m     38\u001b[0m \u001b[39mself\u001b[39m\u001b[39m.\u001b[39mqc_data_store \u001b[39m=\u001b[39m MoleculeESPStore()\n\u001b[1;32m     39\u001b[0m \u001b[39mself\u001b[39m\u001b[39m.\u001b[39mrecords \u001b[39m=\u001b[39m []\n\u001b[0;32m---> 40\u001b[0m \u001b[39mself\u001b[39;49m\u001b[39m.\u001b[39;49mncores \u001b[39m=\u001b[39m ncores\n\u001b[1;32m     41\u001b[0m \u001b[39mself\u001b[39m\u001b[39m.\u001b[39mmemory \u001b[39m=\u001b[39m memory\n",
      "File \u001b[0;32m~/Documents/projects/QM_ESP_Psi4/source/optimize/esp_generator_wrapper.py:50\u001b[0m, in \u001b[0;36mESPGenerator.ncores\u001b[0;34m(self, value)\u001b[0m\n\u001b[1;32m     47\u001b[0m \u001b[39m@ncores\u001b[39m\u001b[39m.\u001b[39msetter\n\u001b[1;32m     48\u001b[0m \u001b[39mdef\u001b[39;00m \u001b[39mncores\u001b[39m(\u001b[39mself\u001b[39m, value):\n\u001b[1;32m     49\u001b[0m     \u001b[39mif\u001b[39;00m value \u001b[39mis\u001b[39;00m \u001b[39mNone\u001b[39;00m:\n\u001b[0;32m---> 50\u001b[0m         \u001b[39mself\u001b[39m\u001b[39m.\u001b[39m_ncores \u001b[39m=\u001b[39m qcengine\u001b[39m.\u001b[39;49mget_config()\u001b[39m.\u001b[39mncores\n\u001b[1;32m     51\u001b[0m     \u001b[39melse\u001b[39;00m:\n\u001b[1;32m     52\u001b[0m         \u001b[39mself\u001b[39m\u001b[39m.\u001b[39m_ncores \u001b[39m=\u001b[39m value\n",
      "File \u001b[0;32m~/mambaforge/envs/openff/lib/python3.11/site-packages/qcengine/config.py:301\u001b[0m, in \u001b[0;36mget_config\u001b[0;34m(hostname, task_config)\u001b[0m\n\u001b[1;32m    298\u001b[0m config \u001b[39m=\u001b[39m {}\n\u001b[1;32m    300\u001b[0m \u001b[39m# Node data\u001b[39;00m\n\u001b[0;32m--> 301\u001b[0m node \u001b[39m=\u001b[39m get_node_descriptor(hostname)\n\u001b[1;32m    302\u001b[0m ncores \u001b[39m=\u001b[39m node\u001b[39m.\u001b[39mncores \u001b[39mor\u001b[39;00m get_global(\u001b[39m\"\u001b[39m\u001b[39mncores\u001b[39m\u001b[39m\"\u001b[39m)\n\u001b[1;32m    303\u001b[0m config[\u001b[39m\"\u001b[39m\u001b[39mscratch_directory\u001b[39m\u001b[39m\"\u001b[39m] \u001b[39m=\u001b[39m task_config\u001b[39m.\u001b[39mpop(\u001b[39m\"\u001b[39m\u001b[39mscratch_directory\u001b[39m\u001b[39m\"\u001b[39m, node\u001b[39m.\u001b[39mscratch_directory)\n",
      "File \u001b[0;32m~/mambaforge/envs/openff/lib/python3.11/site-packages/qcengine/config.py:242\u001b[0m, in \u001b[0;36mget_node_descriptor\u001b[0;34m(hostname)\u001b[0m\n\u001b[1;32m    239\u001b[0m     \u001b[39mreturn\u001b[39;00m hostname\n\u001b[1;32m    241\u001b[0m \u001b[39mif\u001b[39;00m hostname \u001b[39mis\u001b[39;00m \u001b[39mNone\u001b[39;00m:\n\u001b[0;32m--> 242\u001b[0m     hostname \u001b[39m=\u001b[39m get_global(\u001b[39m\"\u001b[39;49m\u001b[39mhostname\u001b[39;49m\u001b[39m\"\u001b[39;49m)\n\u001b[1;32m    244\u001b[0m \u001b[39m# Find a match\u001b[39;00m\n\u001b[1;32m    245\u001b[0m \u001b[39mfor\u001b[39;00m name, node \u001b[39min\u001b[39;00m NODE_DESCRIPTORS\u001b[39m.\u001b[39mitems():\n",
      "File \u001b[0;32m~/mambaforge/envs/openff/lib/python3.11/site-packages/qcengine/config.py:54\u001b[0m, in \u001b[0;36mget_global\u001b[0;34m(key)\u001b[0m\n\u001b[1;32m     51\u001b[0m _global_values[\u001b[39m\"\u001b[39m\u001b[39mncores\u001b[39m\u001b[39m\"\u001b[39m] \u001b[39m=\u001b[39m cpu_cnt\n\u001b[1;32m     52\u001b[0m _global_values[\u001b[39m\"\u001b[39m\u001b[39mnnodes\u001b[39m\u001b[39m\"\u001b[39m] \u001b[39m=\u001b[39m \u001b[39m1\u001b[39m\n\u001b[0;32m---> 54\u001b[0m _global_values[\u001b[39m\"\u001b[39m\u001b[39mcpuinfo\u001b[39m\u001b[39m\"\u001b[39m] \u001b[39m=\u001b[39m cpuinfo\u001b[39m.\u001b[39;49mget_cpu_info()\n\u001b[1;32m     55\u001b[0m \u001b[39mtry\u001b[39;00m:\n\u001b[1;32m     56\u001b[0m     _global_values[\u001b[39m\"\u001b[39m\u001b[39mcpu_brand\u001b[39m\u001b[39m\"\u001b[39m] \u001b[39m=\u001b[39m _global_values[\u001b[39m\"\u001b[39m\u001b[39mcpuinfo\u001b[39m\u001b[39m\"\u001b[39m][\u001b[39m\"\u001b[39m\u001b[39mbrand_raw\u001b[39m\u001b[39m\"\u001b[39m]\n",
      "File \u001b[0;32m~/mambaforge/envs/openff/lib/python3.11/site-packages/cpuinfo/cpuinfo.py:2759\u001b[0m, in \u001b[0;36mget_cpu_info\u001b[0;34m()\u001b[0m\n\u001b[1;32m   2752\u001b[0m \u001b[39m\u001b[39m\u001b[39m'''\u001b[39;00m\n\u001b[1;32m   2753\u001b[0m \u001b[39mReturns the CPU info by using the best sources of information for your OS.\u001b[39;00m\n\u001b[1;32m   2754\u001b[0m \u001b[39mReturns the result in a dict\u001b[39;00m\n\u001b[1;32m   2755\u001b[0m \u001b[39m'''\u001b[39;00m\n\u001b[1;32m   2757\u001b[0m \u001b[39mimport\u001b[39;00m \u001b[39mjson\u001b[39;00m\n\u001b[0;32m-> 2759\u001b[0m output \u001b[39m=\u001b[39m get_cpu_info_json()\n\u001b[1;32m   2761\u001b[0m \u001b[39m# Convert JSON to Python with non unicode strings\u001b[39;00m\n\u001b[1;32m   2762\u001b[0m output \u001b[39m=\u001b[39m json\u001b[39m.\u001b[39mloads(output, object_hook \u001b[39m=\u001b[39m _utf_to_str)\n",
      "File \u001b[0;32m~/mambaforge/envs/openff/lib/python3.11/site-packages/cpuinfo/cpuinfo.py:2742\u001b[0m, in \u001b[0;36mget_cpu_info_json\u001b[0;34m()\u001b[0m\n\u001b[1;32m   2740\u001b[0m command \u001b[39m=\u001b[39m [sys\u001b[39m.\u001b[39mexecutable, \u001b[39m__file__\u001b[39m, \u001b[39m'\u001b[39m\u001b[39m--json\u001b[39m\u001b[39m'\u001b[39m]\n\u001b[1;32m   2741\u001b[0m p1 \u001b[39m=\u001b[39m Popen(command, stdout\u001b[39m=\u001b[39mPIPE, stderr\u001b[39m=\u001b[39mPIPE, stdin\u001b[39m=\u001b[39mPIPE)\n\u001b[0;32m-> 2742\u001b[0m output \u001b[39m=\u001b[39m p1\u001b[39m.\u001b[39;49mcommunicate()[\u001b[39m0\u001b[39m]\n\u001b[1;32m   2744\u001b[0m \u001b[39mif\u001b[39;00m p1\u001b[39m.\u001b[39mreturncode \u001b[39m!=\u001b[39m \u001b[39m0\u001b[39m:\n\u001b[1;32m   2745\u001b[0m \t\u001b[39mreturn\u001b[39;00m \u001b[39m\"\u001b[39m\u001b[39m{}\u001b[39;00m\u001b[39m\"\u001b[39m\n",
      "File \u001b[0;32m~/mambaforge/envs/openff/lib/python3.11/subprocess.py:1209\u001b[0m, in \u001b[0;36mPopen.communicate\u001b[0;34m(self, input, timeout)\u001b[0m\n\u001b[1;32m   1206\u001b[0m     endtime \u001b[39m=\u001b[39m \u001b[39mNone\u001b[39;00m\n\u001b[1;32m   1208\u001b[0m \u001b[39mtry\u001b[39;00m:\n\u001b[0;32m-> 1209\u001b[0m     stdout, stderr \u001b[39m=\u001b[39m \u001b[39mself\u001b[39;49m\u001b[39m.\u001b[39;49m_communicate(\u001b[39minput\u001b[39;49m, endtime, timeout)\n\u001b[1;32m   1210\u001b[0m \u001b[39mexcept\u001b[39;00m \u001b[39mKeyboardInterrupt\u001b[39;00m:\n\u001b[1;32m   1211\u001b[0m     \u001b[39m# https://bugs.python.org/issue25942\u001b[39;00m\n\u001b[1;32m   1212\u001b[0m     \u001b[39m# See the detailed comment in .wait().\u001b[39;00m\n\u001b[1;32m   1213\u001b[0m     \u001b[39mif\u001b[39;00m timeout \u001b[39mis\u001b[39;00m \u001b[39mnot\u001b[39;00m \u001b[39mNone\u001b[39;00m:\n",
      "File \u001b[0;32m~/mambaforge/envs/openff/lib/python3.11/subprocess.py:2108\u001b[0m, in \u001b[0;36mPopen._communicate\u001b[0;34m(self, input, endtime, orig_timeout)\u001b[0m\n\u001b[1;32m   2101\u001b[0m     \u001b[39mself\u001b[39m\u001b[39m.\u001b[39m_check_timeout(endtime, orig_timeout,\n\u001b[1;32m   2102\u001b[0m                         stdout, stderr,\n\u001b[1;32m   2103\u001b[0m                         skip_check_and_raise\u001b[39m=\u001b[39m\u001b[39mTrue\u001b[39;00m)\n\u001b[1;32m   2104\u001b[0m     \u001b[39mraise\u001b[39;00m \u001b[39mRuntimeError\u001b[39;00m(  \u001b[39m# Impossible :)\u001b[39;00m\n\u001b[1;32m   2105\u001b[0m         \u001b[39m'\u001b[39m\u001b[39m_check_timeout(..., skip_check_and_raise=True) \u001b[39m\u001b[39m'\u001b[39m\n\u001b[1;32m   2106\u001b[0m         \u001b[39m'\u001b[39m\u001b[39mfailed to raise TimeoutExpired.\u001b[39m\u001b[39m'\u001b[39m)\n\u001b[0;32m-> 2108\u001b[0m ready \u001b[39m=\u001b[39m selector\u001b[39m.\u001b[39;49mselect(timeout)\n\u001b[1;32m   2109\u001b[0m \u001b[39mself\u001b[39m\u001b[39m.\u001b[39m_check_timeout(endtime, orig_timeout, stdout, stderr)\n\u001b[1;32m   2111\u001b[0m \u001b[39m# XXX Rewrite these to use non-blocking I/O on the file\u001b[39;00m\n\u001b[1;32m   2112\u001b[0m \u001b[39m# objects; they are no longer using C stdio!\u001b[39;00m\n",
      "File \u001b[0;32m~/mambaforge/envs/openff/lib/python3.11/selectors.py:415\u001b[0m, in \u001b[0;36m_PollLikeSelector.select\u001b[0;34m(self, timeout)\u001b[0m\n\u001b[1;32m    413\u001b[0m ready \u001b[39m=\u001b[39m []\n\u001b[1;32m    414\u001b[0m \u001b[39mtry\u001b[39;00m:\n\u001b[0;32m--> 415\u001b[0m     fd_event_list \u001b[39m=\u001b[39m \u001b[39mself\u001b[39;49m\u001b[39m.\u001b[39;49m_selector\u001b[39m.\u001b[39;49mpoll(timeout)\n\u001b[1;32m    416\u001b[0m \u001b[39mexcept\u001b[39;00m \u001b[39mInterruptedError\u001b[39;00m:\n\u001b[1;32m    417\u001b[0m     \u001b[39mreturn\u001b[39;00m ready\n",
      "\u001b[0;31mKeyboardInterrupt\u001b[0m: "
     ]
    }
   ],
   "source": [
    "import sys\n",
    "import os\n",
    "CWD = os.getcwd()\n",
    "sys.path.append(os.path.dirname(CWD))\n",
    "\n",
    "from source.inputSetup.SmilesInputs import ReadInput\n",
    "from source.optimize.esp_generator_wrapper import ESPGenerator, PropGenerator\n",
    "from source.conformers.conformer_gen import Conformers\n",
    "from openff.recharge.utilities.molecule import smiles_to_molecule\n",
    "from openff.recharge.grids import LatticeGridSettings\n",
    "from openff.recharge.esp import ESPSettings\n",
    "\n",
    "\n",
    "\n",
    "    \n",
    "#Read the .smi input and add to list\n",
    "smiles = ReadInput.read_smiles('test_files.smi')\n",
    "\n",
    "# Define the grid that the electrostatic properties will be trained on and the\n",
    "# level of theory to compute the properties at.\n",
    "grid_settings = LatticeGridSettings(\n",
    "    type=\"fcc\", spacing=0.5, inner_vdw_scale=1.4, outer_vdw_scale=2.0\n",
    ")\n",
    "\n",
    "esp_settings = ESPSettings(basis=\"6-31G*\", method=\"hf\", grid_settings=grid_settings)\n",
    "\n",
    "#Loop through molecules\n",
    "for mol in smiles:\n",
    "    molecule = smiles_to_molecule(mol)\n",
    "    #Generate the conformers\n",
    "    conformer_list = Conformers.generate(molecule, generation_type='rdkit')\n",
    "    ESP_gen = PropGenerator(molecule = molecule, conformers = conformer_list, esp_settings = esp_settings, grid_settings = grid_settings)\n",
    "    ESP_gen.memory = 2e+9 #2gb\n",
    "    print(f'number of cores is {ESP_gen.ncores}')\n",
    "    print(f'memory is {ESP_gen.memory}')\n",
    "    ESP_gen.run_props()\n",
    "    #ESP_gen.fetch_data()"
   ]
  },
  {
   "cell_type": "code",
   "execution_count": 6,
   "metadata": {},
   "outputs": [
    {
     "name": "stdout",
     "output_type": "stream",
     "text": [
      "\n",
      "  Memory set to   1.863 GiB by Python driver.\n"
     ]
    },
    {
     "data": {
      "text/plain": [
       "2000000000"
      ]
     },
     "execution_count": 6,
     "metadata": {},
     "output_type": "execute_result"
    }
   ],
   "source": [
    "import psi4\n",
    "psi4.set_memory('2gb')"
   ]
  },
  {
   "cell_type": "code",
   "execution_count": null,
   "metadata": {},
   "outputs": [],
   "source": []
  },
  {
   "cell_type": "code",
   "execution_count": null,
   "metadata": {},
   "outputs": [
    {
     "ename": "",
     "evalue": "",
     "output_type": "error",
     "traceback": [
      "\u001b[1;31mRunning cells with '/Users/localadmin/miniconda3/envs/openff/bin/python' requires the ipykernel package.\n",
      "\u001b[1;31mRun the following command to install 'ipykernel' into the Python environment. \n",
      "\u001b[1;31mCommand: 'conda install -p /Users/localadmin/miniconda3/envs/openff ipykernel --update-deps --force-reinstall'"
     ]
    }
   ],
   "source": [
    "import ipykernel"
   ]
  },
  {
   "cell_type": "code",
   "execution_count": null,
   "metadata": {},
   "outputs": [
    {
     "ename": "",
     "evalue": "",
     "output_type": "error",
     "traceback": [
      "\u001b[1;31mRunning cells with '/Users/localadmin/miniconda3/envs/openff/bin/python' requires the ipykernel package.\n",
      "\u001b[1;31mRun the following command to install 'ipykernel' into the Python environment. \n",
      "\u001b[1;31mCommand: 'conda install -p /Users/localadmin/miniconda3/envs/openff ipykernel --update-deps --force-reinstall'"
     ]
    }
   ],
   "source": []
  },
  {
   "cell_type": "code",
   "execution_count": null,
   "metadata": {},
   "outputs": [
    {
     "ename": "",
     "evalue": "",
     "output_type": "error",
     "traceback": [
      "\u001b[1;31mRunning cells with '/Users/localadmin/miniconda3/envs/openff/bin/python' requires the ipykernel package.\n",
      "\u001b[1;31mRun the following command to install 'ipykernel' into the Python environment. \n",
      "\u001b[1;31mCommand: 'conda install -p /Users/localadmin/miniconda3/envs/openff ipykernel --update-deps --force-reinstall'"
     ]
    }
   ],
   "source": [
    "!mamba install -c conda-forge xtb"
   ]
  }
 ],
 "metadata": {
  "kernelspec": {
   "display_name": "openff",
   "language": "python",
   "name": "python3"
  },
  "language_info": {
   "codemirror_mode": {
    "name": "ipython",
    "version": 3
   },
   "file_extension": ".py",
   "mimetype": "text/x-python",
   "name": "python",
   "nbconvert_exporter": "python",
   "pygments_lexer": "ipython3",
   "version": "3.11.6"
  },
  "orig_nbformat": 4
 },
 "nbformat": 4,
 "nbformat_minor": 2
}
