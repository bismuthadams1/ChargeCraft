{
 "cells": [
  {
   "cell_type": "code",
   "execution_count": null,
   "metadata": {},
   "outputs": [
    {
     "ename": "",
     "evalue": "",
     "output_type": "error",
     "traceback": [
      "\u001b[1;31mRunning cells with '/Users/localadmin/miniconda3/envs/openff/bin/python' requires the ipykernel package.\n",
      "\u001b[1;31mRun the following command to install 'ipykernel' into the Python environment. \n",
      "\u001b[1;31mCommand: 'conda install -p /Users/localadmin/miniconda3/envs/openff ipykernel --update-deps --force-reinstall'"
     ]
    }
   ],
   "source": [
    "import os\n",
    "import sys\n",
    "import random\n",
    "import numpy as np\n",
    "\n",
    "from tqdm import tqdm\n",
    "from rdkit.Chem import AllChem\n",
    "from rdkit.Chem.rdForceFieldHelpers import MMFFOptimizeMolecule\n",
    "\n",
    "from openff.units.elements import SYMBOLS\n",
    "from openff.toolkit import Molecule\n",
    "from openff.recharge.conformers import ConformerGenerator, ConformerSettings\n",
    "from openff.recharge.esp import ESPSettings\n",
    "from openff.recharge.esp.storage import MoleculeESPRecord, MoleculeESPStore\n",
    "from openff.recharge.grids import LatticeGridSettings, GridSettingsType, GridGenerator\n",
    "from openff.recharge.utilities.molecule import smiles_to_molecule\n",
    "from qcelemental.models.procedures import OptimizationInput, QCInputSpecification\n",
    "from openff.units import unit\n",
    "from qcelemental.models.common_models import Model\n",
    "\n",
    "sys.path.append('/Users/localadmin/Documents/projects/QM_ESP_Psi4')\n",
    "\n",
    "from source.optimize.openff_psi4_gen import Psi4Generate\n",
    "from source.conformers.conformer_gen import Conformers\n",
    "from source.utilities.conversion_functions import conf_to_xyz_string\n",
    "\n",
    "\n",
    "import psi4\n",
    "\n"
   ]
  },
  {
   "cell_type": "code",
   "execution_count": null,
   "metadata": {},
   "outputs": [
    {
     "ename": "",
     "evalue": "",
     "output_type": "error",
     "traceback": [
      "\u001b[1;31mRunning cells with '/Users/localadmin/miniconda3/envs/openff/bin/python' requires the ipykernel package.\n",
      "\u001b[1;31mRun the following command to install 'ipykernel' into the Python environment. \n",
      "\u001b[1;31mCommand: 'conda install -p /Users/localadmin/miniconda3/envs/openff ipykernel --update-deps --force-reinstall'"
     ]
    }
   ],
   "source": [
    "#load our molecule to create the conformers\n",
    "\n",
    "molecule = smiles_to_molecule(\"OCC(O)CO\")\n",
    "rdmol = molecule.to_rdkit()\n",
    "AllChem.EmbedMultipleConfs(rdmol, numConfs=10, randomSeed=42)"
   ]
  },
  {
   "cell_type": "code",
   "execution_count": null,
   "metadata": {},
   "outputs": [
    {
     "ename": "",
     "evalue": "",
     "output_type": "error",
     "traceback": [
      "\u001b[1;31mRunning cells with '/Users/localadmin/miniconda3/envs/openff/bin/python' requires the ipykernel package.\n",
      "\u001b[1;31mRun the following command to install 'ipykernel' into the Python environment. \n",
      "\u001b[1;31mCommand: 'conda install -p /Users/localadmin/miniconda3/envs/openff ipykernel --update-deps --force-reinstall'"
     ]
    }
   ],
   "source": [
    "#test the optimizer\n",
    "\n",
    "optimize_MMFF = MMFFOptimizeMolecule(rdmol,mmffVariant = 'MMFF94',confId=3) #,confId=1,mmffvariant='MMFF94'\n",
    "optimize_MMFF\n",
    "\n"
   ]
  },
  {
   "cell_type": "code",
   "execution_count": null,
   "metadata": {},
   "outputs": [
    {
     "ename": "",
     "evalue": "",
     "output_type": "error",
     "traceback": [
      "\u001b[1;31mRunning cells with '/Users/localadmin/miniconda3/envs/openff/bin/python' requires the ipykernel package.\n",
      "\u001b[1;31mRun the following command to install 'ipykernel' into the Python environment. \n",
      "\u001b[1;31mCommand: 'conda install -p /Users/localadmin/miniconda3/envs/openff ipykernel --update-deps --force-reinstall'"
     ]
    }
   ],
   "source": [
    "#test all the conformers\n",
    "\n",
    "for id in range(rdmol.GetNumConformers()):\n",
    "    optimize_MMFF = MMFFOptimizeMolecule(rdmol,mmffVariant = 'MMFF94',confId=3) #,confId=1,mmffvariant='MMFF94'\n",
    "    print(f'conformer:{id}, optimize (0 = converge, 1 = more iterations req): {optimize_MMFF}')"
   ]
  },
  {
   "cell_type": "code",
   "execution_count": null,
   "metadata": {},
   "outputs": [
    {
     "ename": "",
     "evalue": "",
     "output_type": "error",
     "traceback": [
      "\u001b[1;31mRunning cells with '/Users/localadmin/miniconda3/envs/openff/bin/python' requires the ipykernel package.\n",
      "\u001b[1;31mRun the following command to install 'ipykernel' into the Python environment. \n",
      "\u001b[1;31mCommand: 'conda install -p /Users/localadmin/miniconda3/envs/openff ipykernel --update-deps --force-reinstall'"
     ]
    }
   ],
   "source": [
    "from rdkit.Chem.Draw import IPythonConsole\n",
    "IPythonConsole.ipython_3d = True\n",
    "import py3Dmol\n"
   ]
  },
  {
   "cell_type": "code",
   "execution_count": null,
   "metadata": {},
   "outputs": [
    {
     "ename": "",
     "evalue": "",
     "output_type": "error",
     "traceback": [
      "\u001b[1;31mRunning cells with '/Users/localadmin/miniconda3/envs/openff/bin/python' requires the ipykernel package.\n",
      "\u001b[1;31mRun the following command to install 'ipykernel' into the Python environment. \n",
      "\u001b[1;31mCommand: 'conda install -p /Users/localadmin/miniconda3/envs/openff ipykernel --update-deps --force-reinstall'"
     ]
    }
   ],
   "source": [
    "#do the conformers look structurally sensible\n",
    "\n",
    "for id in range(rdmol.GetNumConformers()):\n",
    "    IPythonConsole.drawMol3D(rdmol,confId=id)\n"
   ]
  },
  {
   "cell_type": "code",
   "execution_count": null,
   "metadata": {},
   "outputs": [
    {
     "ename": "",
     "evalue": "",
     "output_type": "error",
     "traceback": [
      "\u001b[1;31mRunning cells with '/Users/localadmin/miniconda3/envs/openff/bin/python' requires the ipykernel package.\n",
      "\u001b[1;31mRun the following command to install 'ipykernel' into the Python environment. \n",
      "\u001b[1;31mCommand: 'conda install -p /Users/localadmin/miniconda3/envs/openff ipykernel --update-deps --force-reinstall'"
     ]
    }
   ],
   "source": [
    "optimize_MMFF"
   ]
  },
  {
   "cell_type": "code",
   "execution_count": null,
   "metadata": {},
   "outputs": [
    {
     "ename": "",
     "evalue": "",
     "output_type": "error",
     "traceback": [
      "\u001b[1;31mRunning cells with '/Users/localadmin/miniconda3/envs/openff/bin/python' requires the ipykernel package.\n",
      "\u001b[1;31mRun the following command to install 'ipykernel' into the Python environment. \n",
      "\u001b[1;31mCommand: 'conda install -p /Users/localadmin/miniconda3/envs/openff ipykernel --update-deps --force-reinstall'"
     ]
    }
   ],
   "source": [
    "#now create a series of xyz files so we can run the conformers with ASE, first convert our conformers to xyz format and then write to file\n",
    "\n",
    "from openff.units import unit\n",
    "\n",
    "cwd = os.getcwd()\n",
    "\n",
    "conformers = []\n",
    "\n",
    "\n",
    "\n",
    "for confs in range(rdmol.GetNumConformers()):\n",
    "    conformer = np.zeros((rdmol.GetConformer(confs).GetNumAtoms(), 3))\n",
    "    for atom_index, coordinates in enumerate(rdmol.GetConformer(confs).GetPositions()):\n",
    "        conformer[atom_index, :] = coordinates\n",
    "    conformers.append(conformer * unit.angstrom)\n",
    "\n",
    "\n",
    "for number ,conformer in enumerate(conformers):\n",
    "    atoms = [\n",
    "            {\n",
    "                \"element\": SYMBOLS[atom.atomic_number],\n",
    "                \"x\": conformer[index, 0],\n",
    "                \"y\": conformer[index, 1],\n",
    "                \"z\": conformer[index, 2],\n",
    "            }\n",
    "            for index, atom in enumerate(molecule.atoms)\n",
    "        ]\n",
    "    xyz = f'{molecule.n_atoms}\\n{molecule.to_smiles()}\\n'\n",
    "    for row in atoms:\n",
    "        xyz += f\"{row['element']}\\t{np.around(row['x'].magnitude,decimals=6)}\\t{np.around(row['y'].magnitude,decimals=6)}\\t{np.around(row['z'].magnitude, decimals=6)}\\n\"\n",
    "    try:\n",
    "        f = open(cwd+f\"/conformer_{number}.xyz\", 'x')\n",
    "        f.write(xyz)\n",
    "        f.close()\n",
    "    except FileExistsError:\n",
    "        continue"
   ]
  },
  {
   "cell_type": "code",
   "execution_count": null,
   "metadata": {},
   "outputs": [
    {
     "ename": "",
     "evalue": "",
     "output_type": "error",
     "traceback": [
      "\u001b[1;31mRunning cells with '/Users/localadmin/miniconda3/envs/openff/bin/python' requires the ipykernel package.\n",
      "\u001b[1;31mRun the following command to install 'ipykernel' into the Python environment. \n",
      "\u001b[1;31mCommand: 'conda install -p /Users/localadmin/miniconda3/envs/openff ipykernel --update-deps --force-reinstall'"
     ]
    }
   ],
   "source": [
    "\n",
    "\n",
    "CWD = os.getcwd()\n",
    "\n",
    "#generate water test molecule as openff.toolkit.Molecule\n",
    "test_mol =  smiles_to_molecule('[H]O[H]')\n",
    "conformer_list = Conformers.generate(test_mol, generation_type='rdkit')\n",
    "conformer_list[0]\n",
    "qc_mol =  test_mol.to_qcschema(conformer=0)\n",
    "\n",
    "#Setup geometry optimisation\n",
    "hf_model = Model(method=\"hf\", basis=\"6-31G*\")\n",
    "spec = QCInputSpecification(model=hf_model, keywords={}, driver=\"gradient\")\n",
    "opt_spec = OptimizationInput(\n",
    "            initial_molecule=qc_mol,\n",
    "            input_specification=spec,\n",
    "            keywords={\"coordsys\": \"dlc\", \n",
    "                      \"program\": \"psi4\"}                                        \n",
    "        )\n",
    "\n",
    "opt = qcengine.compute_procedure(opt_spec, \"geometric\")\n",
    "print(f'geometry optimiztion was {opt.error}')\n",
    "#return optimized molecule\n",
    "optmized_mol = opt.final_molecule\n",
    "\n",
    "#Generate grid.dat file for grid_esp and grid_field\n",
    "grid_settings = LatticeGridSettings(\n",
    "        type=\"fcc\", spacing=0.5, inner_vdw_scale=1.4, outer_vdw_scale=2.0\n",
    "    )\n",
    "\n",
    "grid = GridGenerator.generate(test_mol, optmized_mol.geometry*unit.angstrom, grid_settings)\n",
    "\n",
    "grid = grid.to(unit.angstrom).m\n",
    "np.savetxt(\"grid.dat\", grid, delimiter=\" \", fmt=\"%16.10f\")\n",
    "#compute one-electron properties.\n",
    "opt_input_2 = { \"molecule\" : optmized_mol,\n",
    "              \"driver\" : \"energy\",\n",
    "              \"model\" : {\"method\":\"scf\",\"basis\":\"6-31G*\"},\n",
    "              \"protocols\":{\"wavefunction\":\"all\",\"stdout\":True,\"native_files\":\"all\"},\n",
    "              \"keywords\":{\"scf_properties\":[\"GRID_ESP\", \"GRID_FIELD\",\"MULLIKEN_CHARGES\", \"LOWDIN_CHARGES\", \"DIPOLE\", \"QUADRUPOLE\", \"MBIS_CHARGES\"]}                               \n",
    "              }\n",
    "\n",
    "\n",
    "opt_2 = qcengine.compute(opt_input_2, \"psi4\", task_config={\"scratch_directory\":CWD,\"scratch_messy\":True})\n",
    "\n",
    "print(opt_2.dict())\n",
    "\n",
    "esp = (np.loadtxt(\"grid_esp.dat\").reshape(-1, 1) * unit.hartree / unit.e)\n",
    "\n",
    "electric_field = (np.loadtxt(\"grid_field.dat\")* unit.hartree/ (unit.e * unit.bohr))"
   ]
  },
  {
   "cell_type": "code",
   "execution_count": null,
   "metadata": {},
   "outputs": [
    {
     "ename": "",
     "evalue": "",
     "output_type": "error",
     "traceback": [
      "\u001b[1;31mRunning cells with '/Users/localadmin/miniconda3/envs/openff/bin/python' requires the ipykernel package.\n",
      "\u001b[1;31mRun the following command to install 'ipykernel' into the Python environment. \n",
      "\u001b[1;31mCommand: 'conda install -p /Users/localadmin/miniconda3/envs/openff ipykernel --update-deps --force-reinstall'"
     ]
    }
   ],
   "source": [
    "psi4.core.variables(['MBIS Charges'])"
   ]
  },
  {
   "cell_type": "code",
   "execution_count": null,
   "metadata": {},
   "outputs": [
    {
     "ename": "",
     "evalue": "",
     "output_type": "error",
     "traceback": [
      "\u001b[1;31mRunning cells with '/Users/localadmin/miniconda3/envs/openff/bin/python' requires the ipykernel package.\n",
      "\u001b[1;31mRun the following command to install 'ipykernel' into the Python environment. \n",
      "\u001b[1;31mCommand: 'conda install -p /Users/localadmin/miniconda3/envs/openff ipykernel --update-deps --force-reinstall'"
     ]
    }
   ],
   "source": [
    "from source.optimize.openff_psi4_gen import Psi4Generate\n",
    "import psi4\n",
    "\n",
    "test_mol =  smiles_to_molecule('[H]O[H]')\n",
    "\n",
    "#generate water test molecule as openff.toolkit.Molecule\n",
    "test_mol =  smiles_to_molecule('[H]O[H]')\n",
    "conformer_list = Conformers.generate(test_mol, generation_type='rdkit')\n",
    "conformer_list[0]\n",
    "qc_mol =  test_mol.to_qcschema(conformer=0)\n",
    "\n",
    "#Generate grid.dat file for grid_esp and grid_field\n",
    "grid_settings = LatticeGridSettings(\n",
    "        type=\"fcc\", spacing=0.5, inner_vdw_scale=1.4, outer_vdw_scale=2.0\n",
    "    )\n",
    "\n",
    "\n",
    "esp_settings = ESPSettings(basis=\"6-31G*\", method=\"hf\", grid_settings=grid_settings)\n",
    "\n",
    "xyz = Psi4Generate.run_calc(test_mol,conformer_list[0],esp_settings,compute_esp=True,compute_field=True, minimize=False)\n",
    "\n",
    "molecule = psi4.geometry(\n",
    "\"\"\"\n",
    "3\n",
    "[H]O[H]\n",
    "H\t-0.81024874\t-0.18571238\t-0.0\n",
    "O\t-0.00248133\t0.36959931\t-0.0\n",
    "H\t0.81273007\t-0.18388693\t0.0\n",
    "\"\"\"\n",
    ")\n",
    "\n",
    "molecule.set_molecular_charge(0)\n",
    "molecule.set_multiplicity(1)\n",
    "\n",
    "E, wfn = psi4.energy('hf/6-31g*', return_wfn=True, molecule = molecule)\n",
    "psi4.prop('hf/6-31G*', properties=[\"GRID_ESP\", \"GRID_FIELD\",\"MULLIKEN_CHARGES\", \"LOWDIN_CHARGES\", \"DIPOLE\", \"QUADRUPOLE\", \"MBIS_CHARGES\"])\n",
    "#psi4.core.print_variables()\n",
    "psi4.core.variables(['MBIS Charges'])\n",
    "molecule.fcharge"
   ]
  },
  {
   "cell_type": "code",
   "execution_count": null,
   "metadata": {},
   "outputs": [
    {
     "ename": "",
     "evalue": "",
     "output_type": "error",
     "traceback": [
      "\u001b[1;31mRunning cells with '/Users/localadmin/miniconda3/envs/openff/bin/python' requires the ipykernel package.\n",
      "\u001b[1;31mRun the following command to install 'ipykernel' into the Python environment. \n",
      "\u001b[1;31mCommand: 'conda install -p /Users/localadmin/miniconda3/envs/openff ipykernel --update-deps --force-reinstall'"
     ]
    }
   ],
   "source": [
    "import os\n",
    "import sys\n",
    "import random\n",
    "import numpy as np\n",
    "\n",
    "from tqdm import tqdm\n",
    "from rdkit.Chem import AllChem\n",
    "from rdkit.Chem.rdForceFieldHelpers import MMFFOptimizeMolecule\n",
    "\n",
    "from openff.units.elements import SYMBOLS\n",
    "from openff.toolkit import Molecule\n",
    "from openff.recharge.conformers import ConformerGenerator, ConformerSettings\n",
    "from openff.recharge.esp import ESPSettings\n",
    "from openff.recharge.esp.storage import MoleculeESPRecord, MoleculeESPStore\n",
    "from openff.recharge.grids import LatticeGridSettings, GridSettingsType, GridGenerator\n",
    "from openff.recharge.utilities.molecule import smiles_to_molecule\n",
    "from qcelemental.models.procedures import OptimizationInput, QCInputSpecification\n",
    "from openff.units import unit\n",
    "from qcelemental.models.common_models import Model\n",
    "\n",
    "sys.path.append('/Users/localadmin/Documents/projects/QM_ESP_Psi4')\n",
    "\n",
    "from source.optimize.openff_psi4_gen import Psi4Generate\n",
    "from source.conformers.conformer_gen import Conformers\n",
    "from source.utilities.conversion_functions import conf_to_xyz_string\n",
    "\n",
    "\n",
    "import psi4\n",
    "\n",
    "sys.settrace \n",
    "\n",
    "test_mol =  smiles_to_molecule('[H]O[H]')\n",
    "\n",
    "#generate water test molecule as openff.toolkit.Molecule\n",
    "test_mol =  smiles_to_molecule('[H]O[H]')\n",
    "conformer_list = Conformers.generate(test_mol, generation_type='rdkit')\n",
    "conformer_list[0]\n",
    "qc_mol =  test_mol.to_qcschema(conformer=0)\n",
    "\n",
    "#Generate grid.dat file for grid_esp and grid_field\n",
    "grid_settings = LatticeGridSettings(\n",
    "        type=\"fcc\", spacing=0.5, inner_vdw_scale=1.4, outer_vdw_scale=2.0\n",
    "    )\n",
    "grid = GridGenerator.generate(test_mol, conformer_list[0], grid_settings)\n",
    "\n",
    "grid = grid.to(unit.angstrom).m\n",
    "np.savetxt(\"grid.dat\", grid, delimiter=\" \", fmt=\"%16.10f\")\n",
    "\n",
    "\n",
    "esp_settings = ESPSettings(basis=\"6-31G*\", method=\"hf\", grid_settings=grid_settings)\n",
    "\n",
    "xyz = conformer_string = conf_to_xyz_string(conformer_list[0], test_mol)\n",
    "\n",
    "psi4.set_output_file('output.dat')\n",
    "\n",
    "molecule = psi4.core.Molecule.from_string(\"\"\"\n",
    "                                            nocom\n",
    "                                            noreorient\n",
    "                                            H\t-0.81024874\t-0.18571238\t-0.0\n",
    "                                            O\t-0.00248133\t0.36959931\t-0.0\n",
    "                                            H\t0.81273007\t-0.18388693\t0.0 \n",
    "                                          \"\"\")\n",
    "\n",
    "molecule.set_molecular_charge(0)\n",
    "molecule.set_multiplicity(1)\n",
    "\n",
    "psi4.set_options({\"DFT_SPHERICAL_POINTS\":\"590\",\n",
    "                  \"DFT_RADIAL_POINTS\":\"99\"})\n",
    "\n",
    "E, wfn = psi4.prop('hf/6-31G*', properties=[\"GRID_ESP\", \n",
    "                                            \"GRID_FIELD\",\n",
    "                                            \"MULLIKEN_CHARGES\", \n",
    "                                            \"LOWDIN_CHARGES\", \n",
    "                                            \"DIPOLE\", \n",
    "                                            \"QUADRUPOLE\", \n",
    "                                            \"MBIS_CHARGES\"],\n",
    "                                            molecule = molecule, \n",
    "                                            return_wfn = True,\n",
    "                                            )  #\"GRID_ESP\", \"GRID_FIELD\"\n",
    "psi4.core.variables(['MBIS Charges'])\n",
    "wfn.variables()"
   ]
  },
  {
   "cell_type": "code",
   "execution_count": null,
   "metadata": {},
   "outputs": [
    {
     "ename": "",
     "evalue": "",
     "output_type": "error",
     "traceback": [
      "\u001b[1;31mRunning cells with '/Users/localadmin/miniconda3/envs/openff/bin/python' requires the ipykernel package.\n",
      "\u001b[1;31mRun the following command to install 'ipykernel' into the Python environment. \n",
      "\u001b[1;31mCommand: 'conda install -p /Users/localadmin/miniconda3/envs/openff ipykernel --update-deps --force-reinstall'"
     ]
    }
   ],
   "source": [
    "prop"
   ]
  },
  {
   "cell_type": "code",
   "execution_count": null,
   "metadata": {},
   "outputs": [
    {
     "ename": "",
     "evalue": "",
     "output_type": "error",
     "traceback": [
      "\u001b[1;31mRunning cells with '/Users/localadmin/miniconda3/envs/openff/bin/python' requires the ipykernel package.\n",
      "\u001b[1;31mRun the following command to install 'ipykernel' into the Python environment. \n",
      "\u001b[1;31mCommand: 'conda install -p /Users/localadmin/miniconda3/envs/openff ipykernel --update-deps --force-reinstall'"
     ]
    }
   ],
   "source": [
    "wfn.variables()"
   ]
  },
  {
   "cell_type": "code",
   "execution_count": null,
   "metadata": {},
   "outputs": [
    {
     "ename": "",
     "evalue": "",
     "output_type": "error",
     "traceback": [
      "\u001b[1;31mRunning cells with '/Users/localadmin/miniconda3/envs/openff/bin/python' requires the ipykernel package.\n",
      "\u001b[1;31mRun the following command to install 'ipykernel' into the Python environment. \n",
      "\u001b[1;31mCommand: 'conda install -p /Users/localadmin/miniconda3/envs/openff ipykernel --update-deps --force-reinstall'"
     ]
    }
   ],
   "source": [
    "molecule = psi4.core.Molecule.from_string(\"\"\"\n",
    "                                            nocom\n",
    "                                            noreorient\n",
    "                                            H\t-0.81024874\t-0.18571238\t-0.0\n",
    "                                            O\t-0.00248133\t0.36959931\t-0.0\n",
    "                                            H\t0.81273007\t-0.18388693\t0.0 \n",
    "                                          \"\"\")\n",
    "\n",
    "molecule.to_string('xyz')\n"
   ]
  },
  {
   "cell_type": "code",
   "execution_count": null,
   "metadata": {},
   "outputs": [
    {
     "ename": "",
     "evalue": "",
     "output_type": "error",
     "traceback": [
      "\u001b[1;31mRunning cells with '/Users/localadmin/miniconda3/envs/openff/bin/python' requires the ipykernel package.\n",
      "\u001b[1;31mRun the following command to install 'ipykernel' into the Python environment. \n",
      "\u001b[1;31mCommand: 'conda install -p /Users/localadmin/miniconda3/envs/openff ipykernel --update-deps --force-reinstall'"
     ]
    }
   ],
   "source": [
    "mulliken_charges = wfn.variable(\"MULLIKEN_CHARGES\")\n",
    "lowdin_charges = wfn.variable(\"LOWDIN_CHARGES\")\n",
    "dipole = wfn.variable(\"HF DIPOLE\")\n",
    "quadrupole = wfn.variable(\"HF QUADRUPOLE\")\n",
    "mbis_charges = wfn.variable(\"MBIS CHARGES\")"
   ]
  },
  {
   "cell_type": "code",
   "execution_count": null,
   "metadata": {},
   "outputs": [
    {
     "ename": "",
     "evalue": "",
     "output_type": "error",
     "traceback": [
      "\u001b[1;31mRunning cells with '/Users/localadmin/miniconda3/envs/openff/bin/python' requires the ipykernel package.\n",
      "\u001b[1;31mRun the following command to install 'ipykernel' into the Python environment. \n",
      "\u001b[1;31mCommand: 'conda install -p /Users/localadmin/miniconda3/envs/openff ipykernel --update-deps --force-reinstall'"
     ]
    }
   ],
   "source": [
    "variable_names = [\"MULLIKEN_CHARGES\", \"LOWDIN_CHARGES\", \"HF DIPOLE\", \"HF QUADRUPOLE\", \"MBIS CHARGES\"]\n",
    "variables = {name: wfn.variable(name) for name in variable_names}"
   ]
  },
  {
   "cell_type": "code",
   "execution_count": null,
   "metadata": {},
   "outputs": [
    {
     "ename": "",
     "evalue": "",
     "output_type": "error",
     "traceback": [
      "\u001b[1;31mRunning cells with '/Users/localadmin/miniconda3/envs/openff/bin/python' requires the ipykernel package.\n",
      "\u001b[1;31mRun the following command to install 'ipykernel' into the Python environment. \n",
      "\u001b[1;31mCommand: 'conda install -p /Users/localadmin/miniconda3/envs/openff ipykernel --update-deps --force-reinstall'"
     ]
    }
   ],
   "source": [
    "from qcelemental.models import Molecule as QCMol\n",
    "qc_mol =  test_mol.to_qcschema(conformer=0)\n",
    "qc_mol = QCMol(**qc_mol.dict(exclude={\"fix_com\", \"fix_orientation\"}), fix_com=True, fix_orientation=True)\n",
    "molecule = psi4.geometry(qc_mol.to_string(\"psi4\"))\n",
    "qc_mol.geometry"
   ]
  },
  {
   "cell_type": "code",
   "execution_count": 2,
   "metadata": {},
   "outputs": [
    {
     "name": "stdout",
     "output_type": "stream",
     "text": [
      "rdkit has generated 10 conformers from a requested 10 conformers\n",
      "number of cores is 4\n",
      "memory is 262144000\n",
      "conformer 0 for [H][O][C]([H])([H])[C]([H])([O][H])[C]([H])([H])[O][H]\n",
      "Intel MKL WARNING: Support of Intel(R) Streaming SIMD Extensions 4.2 (Intel(R) SSE4.2) enabled only processors has been deprecated. Intel oneAPI Math Kernel Library 2025.0 will require Intel(R) Advanced Vector Extensions (Intel(R) AVX) instructions.\n",
      "Intel MKL WARNING: Support of Intel(R) Streaming SIMD Extensions 4.2 (Intel(R) SSE4.2) enabled only processors has been deprecated. Intel oneAPI Math Kernel Library 2025.0 will require Intel(R) Advanced Vector Extensions (Intel(R) AVX) instructions.\n",
      "Intel MKL WARNING: Support of Intel(R) Streaming SIMD Extensions 4.2 (Intel(R) SSE4.2) enabled only processors has been deprecated. Intel oneAPI Math Kernel Library 2025.0 will require Intel(R) Advanced Vector Extensions (Intel(R) AVX) instructions.\n",
      "Intel MKL WARNING: Support of Intel(R) Streaming SIMD Extensions 4.2 (Intel(R) SSE4.2) enabled only processors has been deprecated. Intel oneAPI Math Kernel Library 2025.0 will require Intel(R) Advanced Vector Extensions (Intel(R) AVX) instructions.\n",
      "Intel MKL WARNING: Support of Intel(R) Streaming SIMD Extensions 4.2 (Intel(R) SSE4.2) enabled only processors has been deprecated. Intel oneAPI Math Kernel Library 2025.0 will require Intel(R) Advanced Vector Extensions (Intel(R) AVX) instructions.\n",
      "Intel MKL WARNING: Support of Intel(R) Streaming SIMD Extensions 4.2 (Intel(R) SSE4.2) enabled only processors has been deprecated. Intel oneAPI Math Kernel Library 2025.0 will require Intel(R) Advanced Vector Extensions (Intel(R) AVX) instructions.\n",
      "Intel MKL WARNING: Support of Intel(R) Streaming SIMD Extensions 4.2 (Intel(R) SSE4.2) enabled only processors has been deprecated. Intel oneAPI Math Kernel Library 2025.0 will require Intel(R) Advanced Vector Extensions (Intel(R) AVX) instructions.\n",
      "Intel MKL WARNING: Support of Intel(R) Streaming SIMD Extensions 4.2 (Intel(R) SSE4.2) enabled only processors has been deprecated. Intel oneAPI Math Kernel Library 2025.0 will require Intel(R) Advanced Vector Extensions (Intel(R) AVX) instructions.\n",
      "Intel MKL WARNING: Support of Intel(R) Streaming SIMD Extensions 4.2 (Intel(R) SSE4.2) enabled only processors has been deprecated. Intel oneAPI Math Kernel Library 2025.0 will require Intel(R) Advanced Vector Extensions (Intel(R) AVX) instructions.\n",
      "Intel MKL WARNING: Support of Intel(R) Streaming SIMD Extensions 4.2 (Intel(R) SSE4.2) enabled only processors has been deprecated. Intel oneAPI Math Kernel Library 2025.0 will require Intel(R) Advanced Vector Extensions (Intel(R) AVX) instructions.\n",
      "Intel MKL WARNING: Support of Intel(R) Streaming SIMD Extensions 4.2 (Intel(R) SSE4.2) enabled only processors has been deprecated. Intel oneAPI Math Kernel Library 2025.0 will require Intel(R) Advanced Vector Extensions (Intel(R) AVX) instructions.\n",
      "Intel MKL WARNING: Support of Intel(R) Streaming SIMD Extensions 4.2 (Intel(R) SSE4.2) enabled only processors has been deprecated. Intel oneAPI Math Kernel Library 2025.0 will require Intel(R) Advanced Vector Extensions (Intel(R) AVX) instructions.\n",
      "Intel MKL WARNING: Support of Intel(R) Streaming SIMD Extensions 4.2 (Intel(R) SSE4.2) enabled only processors has been deprecated. Intel oneAPI Math Kernel Library 2025.0 will require Intel(R) Advanced Vector Extensions (Intel(R) AVX) instructions.\n",
      "Intel MKL WARNING: Support of Intel(R) Streaming SIMD Extensions 4.2 (Intel(R) SSE4.2) enabled only processors has been deprecated. Intel oneAPI Math Kernel Library 2025.0 will require Intel(R) Advanced Vector Extensions (Intel(R) AVX) instructions.\n",
      "Intel MKL WARNING: Support of Intel(R) Streaming SIMD Extensions 4.2 (Intel(R) SSE4.2) enabled only processors has been deprecated. Intel oneAPI Math Kernel Library 2025.0 will require Intel(R) Advanced Vector Extensions (Intel(R) AVX) instructions.\n",
      "Intel MKL WARNING: Support of Intel(R) Streaming SIMD Extensions 4.2 (Intel(R) SSE4.2) enabled only processors has been deprecated. Intel oneAPI Math Kernel Library 2025.0 will require Intel(R) Advanced Vector Extensions (Intel(R) AVX) instructions.\n",
      "Intel MKL WARNING: Support of Intel(R) Streaming SIMD Extensions 4.2 (Intel(R) SSE4.2) enabled only processors has been deprecated. Intel oneAPI Math Kernel Library 2025.0 will require Intel(R) Advanced Vector Extensions (Intel(R) AVX) instructions.\n",
      "Intel MKL WARNING: Support of Intel(R) Streaming SIMD Extensions 4.2 (Intel(R) SSE4.2) enabled only processors has been deprecated. Intel oneAPI Math Kernel Library 2025.0 will require Intel(R) Advanced Vector Extensions (Intel(R) AVX) instructions.\n",
      "Intel MKL WARNING: Support of Intel(R) Streaming SIMD Extensions 4.2 (Intel(R) SSE4.2) enabled only processors has been deprecated. Intel oneAPI Math Kernel Library 2025.0 will require Intel(R) Advanced Vector Extensions (Intel(R) AVX) instructions.\n",
      "Intel MKL WARNING: Support of Intel(R) Streaming SIMD Extensions 4.2 (Intel(R) SSE4.2) enabled only processors has been deprecated. Intel oneAPI Math Kernel Library 2025.0 will require Intel(R) Advanced Vector Extensions (Intel(R) AVX) instructions.\n",
      "Intel MKL WARNING: Support of Intel(R) Streaming SIMD Extensions 4.2 (Intel(R) SSE4.2) enabled only processors has been deprecated. Intel oneAPI Math Kernel Library 2025.0 will require Intel(R) Advanced Vector Extensions (Intel(R) AVX) instructions.\n",
      "Intel MKL WARNING: Support of Intel(R) Streaming SIMD Extensions 4.2 (Intel(R) SSE4.2) enabled only processors has been deprecated. Intel oneAPI Math Kernel Library 2025.0 will require Intel(R) Advanced Vector Extensions (Intel(R) AVX) instructions.\n",
      "Intel MKL WARNING: Support of Intel(R) Streaming SIMD Extensions 4.2 (Intel(R) SSE4.2) enabled only processors has been deprecated. Intel oneAPI Math Kernel Library 2025.0 will require Intel(R) Advanced Vector Extensions (Intel(R) AVX) instructions.\n",
      "Intel MKL WARNING: Support of Intel(R) Streaming SIMD Extensions 4.2 (Intel(R) SSE4.2) enabled only processors has been deprecated. Intel oneAPI Math Kernel Library 2025.0 will require Intel(R) Advanced Vector Extensions (Intel(R) AVX) instructions.\n",
      "Intel MKL WARNING: Support of Intel(R) Streaming SIMD Extensions 4.2 (Intel(R) SSE4.2) enabled only processors has been deprecated. Intel oneAPI Math Kernel Library 2025.0 will require Intel(R) Advanced Vector Extensions (Intel(R) AVX) instructions.\n",
      "Intel MKL WARNING: Support of Intel(R) Streaming SIMD Extensions 4.2 (Intel(R) SSE4.2) enabled only processors has been deprecated. Intel oneAPI Math Kernel Library 2025.0 will require Intel(R) Advanced Vector Extensions (Intel(R) AVX) instructions.\n",
      "Intel MKL WARNING: Support of Intel(R) Streaming SIMD Extensions 4.2 (Intel(R) SSE4.2) enabled only processors has been deprecated. Intel oneAPI Math Kernel Library 2025.0 will require Intel(R) Advanced Vector Extensions (Intel(R) AVX) instructions.\n",
      "Intel MKL WARNING: Support of Intel(R) Streaming SIMD Extensions 4.2 (Intel(R) SSE4.2) enabled only processors has been deprecated. Intel oneAPI Math Kernel Library 2025.0 will require Intel(R) Advanced Vector Extensions (Intel(R) AVX) instructions.\n",
      "Intel MKL WARNING: Support of Intel(R) Streaming SIMD Extensions 4.2 (Intel(R) SSE4.2) enabled only processors has been deprecated. Intel oneAPI Math Kernel Library 2025.0 will require Intel(R) Advanced Vector Extensions (Intel(R) AVX) instructions.\n",
      "Intel MKL WARNING: Support of Intel(R) Streaming SIMD Extensions 4.2 (Intel(R) SSE4.2) enabled only processors has been deprecated. Intel oneAPI Math Kernel Library 2025.0 will require Intel(R) Advanced Vector Extensions (Intel(R) AVX) instructions.\n",
      "Intel MKL WARNING: Support of Intel(R) Streaming SIMD Extensions 4.2 (Intel(R) SSE4.2) enabled only processors has been deprecated. Intel oneAPI Math Kernel Library 2025.0 will require Intel(R) Advanced Vector Extensions (Intel(R) AVX) instructions.\n",
      "Intel MKL WARNING: Support of Intel(R) Streaming SIMD Extensions 4.2 (Intel(R) SSE4.2) enabled only processors has been deprecated. Intel oneAPI Math Kernel Library 2025.0 will require Intel(R) Advanced Vector Extensions (Intel(R) AVX) instructions.\n",
      "Intel MKL WARNING: Support of Intel(R) Streaming SIMD Extensions 4.2 (Intel(R) SSE4.2) enabled only processors has been deprecated. Intel oneAPI Math Kernel Library 2025.0 will require Intel(R) Advanced Vector Extensions (Intel(R) AVX) instructions.\n",
      "Intel MKL WARNING: Support of Intel(R) Streaming SIMD Extensions 4.2 (Intel(R) SSE4.2) enabled only processors has been deprecated. Intel oneAPI Math Kernel Library 2025.0 will require Intel(R) Advanced Vector Extensions (Intel(R) AVX) instructions.\n",
      "Intel MKL WARNING: Support of Intel(R) Streaming SIMD Extensions 4.2 (Intel(R) SSE4.2) enabled only processors has been deprecated. Intel oneAPI Math Kernel Library 2025.0 will require Intel(R) Advanced Vector Extensions (Intel(R) AVX) instructions.\n",
      "Intel MKL WARNING: Support of Intel(R) Streaming SIMD Extensions 4.2 (Intel(R) SSE4.2) enabled only processors has been deprecated. Intel oneAPI Math Kernel Library 2025.0 will require Intel(R) Advanced Vector Extensions (Intel(R) AVX) instructions.\n",
      "Intel MKL WARNING: Support of Intel(R) Streaming SIMD Extensions 4.2 (Intel(R) SSE4.2) enabled only processors has been deprecated. Intel oneAPI Math Kernel Library 2025.0 will require Intel(R) Advanced Vector Extensions (Intel(R) AVX) instructions.\n",
      "Intel MKL WARNING: Support of Intel(R) Streaming SIMD Extensions 4.2 (Intel(R) SSE4.2) enabled only processors has been deprecated. Intel oneAPI Math Kernel Library 2025.0 will require Intel(R) Advanced Vector Extensions (Intel(R) AVX) instructions.\n",
      "Intel MKL WARNING: Support of Intel(R) Streaming SIMD Extensions 4.2 (Intel(R) SSE4.2) enabled only processors has been deprecated. Intel oneAPI Math Kernel Library 2025.0 will require Intel(R) Advanced Vector Extensions (Intel(R) AVX) instructions.\n",
      "Intel MKL WARNING: Support of Intel(R) Streaming SIMD Extensions 4.2 (Intel(R) SSE4.2) enabled only processors has been deprecated. Intel oneAPI Math Kernel Library 2025.0 will require Intel(R) Advanced Vector Extensions (Intel(R) AVX) instructions.\n",
      "Intel MKL WARNING: Support of Intel(R) Streaming SIMD Extensions 4.2 (Intel(R) SSE4.2) enabled only processors has been deprecated. Intel oneAPI Math Kernel Library 2025.0 will require Intel(R) Advanced Vector Extensions (Intel(R) AVX) instructions.\n",
      "Intel MKL WARNING: Support of Intel(R) Streaming SIMD Extensions 4.2 (Intel(R) SSE4.2) enabled only processors has been deprecated. Intel oneAPI Math Kernel Library 2025.0 will require Intel(R) Advanced Vector Extensions (Intel(R) AVX) instructions.\n",
      "Intel MKL WARNING: Support of Intel(R) Streaming SIMD Extensions 4.2 (Intel(R) SSE4.2) enabled only processors has been deprecated. Intel oneAPI Math Kernel Library 2025.0 will require Intel(R) Advanced Vector Extensions (Intel(R) AVX) instructions.\n",
      "Intel MKL WARNING: Support of Intel(R) Streaming SIMD Extensions 4.2 (Intel(R) SSE4.2) enabled only processors has been deprecated. Intel oneAPI Math Kernel Library 2025.0 will require Intel(R) Advanced Vector Extensions (Intel(R) AVX) instructions.\n",
      "Intel MKL WARNING: Support of Intel(R) Streaming SIMD Extensions 4.2 (Intel(R) SSE4.2) enabled only processors has been deprecated. Intel oneAPI Math Kernel Library 2025.0 will require Intel(R) Advanced Vector Extensions (Intel(R) AVX) instructions.\n",
      "Intel MKL WARNING: Support of Intel(R) Streaming SIMD Extensions 4.2 (Intel(R) SSE4.2) enabled only processors has been deprecated. Intel oneAPI Math Kernel Library 2025.0 will require Intel(R) Advanced Vector Extensions (Intel(R) AVX) instructions.\n",
      "Intel MKL WARNING: Support of Intel(R) Streaming SIMD Extensions 4.2 (Intel(R) SSE4.2) enabled only processors has been deprecated. Intel oneAPI Math Kernel Library 2025.0 will require Intel(R) Advanced Vector Extensions (Intel(R) AVX) instructions.\n",
      "Intel MKL WARNING: Support of Intel(R) Streaming SIMD Extensions 4.2 (Intel(R) SSE4.2) enabled only processors has been deprecated. Intel oneAPI Math Kernel Library 2025.0 will require Intel(R) Advanced Vector Extensions (Intel(R) AVX) instructions.\n",
      "Intel MKL WARNING: Support of Intel(R) Streaming SIMD Extensions 4.2 (Intel(R) SSE4.2) enabled only processors has been deprecated. Intel oneAPI Math Kernel Library 2025.0 will require Intel(R) Advanced Vector Extensions (Intel(R) AVX) instructions.\n",
      "Intel MKL WARNING: Support of Intel(R) Streaming SIMD Extensions 4.2 (Intel(R) SSE4.2) enabled only processors has been deprecated. Intel oneAPI Math Kernel Library 2025.0 will require Intel(R) Advanced Vector Extensions (Intel(R) AVX) instructions.\n",
      "Intel MKL WARNING: Support of Intel(R) Streaming SIMD Extensions 4.2 (Intel(R) SSE4.2) enabled only processors has been deprecated. Intel oneAPI Math Kernel Library 2025.0 will require Intel(R) Advanced Vector Extensions (Intel(R) AVX) instructions.\n",
      "Intel MKL WARNING: Support of Intel(R) Streaming SIMD Extensions 4.2 (Intel(R) SSE4.2) enabled only processors has been deprecated. Intel oneAPI Math Kernel Library 2025.0 will require Intel(R) Advanced Vector Extensions (Intel(R) AVX) instructions.\n",
      "Intel MKL WARNING: Support of Intel(R) Streaming SIMD Extensions 4.2 (Intel(R) SSE4.2) enabled only processors has been deprecated. Intel oneAPI Math Kernel Library 2025.0 will require Intel(R) Advanced Vector Extensions (Intel(R) AVX) instructions.\n",
      "Intel MKL WARNING: Support of Intel(R) Streaming SIMD Extensions 4.2 (Intel(R) SSE4.2) enabled only processors has been deprecated. Intel oneAPI Math Kernel Library 2025.0 will require Intel(R) Advanced Vector Extensions (Intel(R) AVX) instructions.\n",
      "Intel MKL WARNING: Support of Intel(R) Streaming SIMD Extensions 4.2 (Intel(R) SSE4.2) enabled only processors has been deprecated. Intel oneAPI Math Kernel Library 2025.0 will require Intel(R) Advanced Vector Extensions (Intel(R) AVX) instructions.\n",
      "Intel MKL WARNING: Support of Intel(R) Streaming SIMD Extensions 4.2 (Intel(R) SSE4.2) enabled only processors has been deprecated. Intel oneAPI Math Kernel Library 2025.0 will require Intel(R) Advanced Vector Extensions (Intel(R) AVX) instructions.\n",
      "Intel MKL WARNING: Support of Intel(R) Streaming SIMD Extensions 4.2 (Intel(R) SSE4.2) enabled only processors has been deprecated. Intel oneAPI Math Kernel Library 2025.0 will require Intel(R) Advanced Vector Extensions (Intel(R) AVX) instructions.\n",
      "Intel MKL WARNING: Support of Intel(R) Streaming SIMD Extensions 4.2 (Intel(R) SSE4.2) enabled only processors has been deprecated. Intel oneAPI Math Kernel Library 2025.0 will require Intel(R) Advanced Vector Extensions (Intel(R) AVX) instructions.\n",
      "Intel MKL WARNING: Support of Intel(R) Streaming SIMD Extensions 4.2 (Intel(R) SSE4.2) enabled only processors has been deprecated. Intel oneAPI Math Kernel Library 2025.0 will require Intel(R) Advanced Vector Extensions (Intel(R) AVX) instructions.\n",
      "Intel MKL WARNING: Support of Intel(R) Streaming SIMD Extensions 4.2 (Intel(R) SSE4.2) enabled only processors has been deprecated. Intel oneAPI Math Kernel Library 2025.0 will require Intel(R) Advanced Vector Extensions (Intel(R) AVX) instructions.\n",
      "Intel MKL WARNING: Support of Intel(R) Streaming SIMD Extensions 4.2 (Intel(R) SSE4.2) enabled only processors has been deprecated. Intel oneAPI Math Kernel Library 2025.0 will require Intel(R) Advanced Vector Extensions (Intel(R) AVX) instructions.\n",
      "Intel MKL WARNING: Support of Intel(R) Streaming SIMD Extensions 4.2 (Intel(R) SSE4.2) enabled only processors has been deprecated. Intel oneAPI Math Kernel Library 2025.0 will require Intel(R) Advanced Vector Extensions (Intel(R) AVX) instructions.\n",
      "Intel MKL WARNING: Support of Intel(R) Streaming SIMD Extensions 4.2 (Intel(R) SSE4.2) enabled only processors has been deprecated. Intel oneAPI Math Kernel Library 2025.0 will require Intel(R) Advanced Vector Extensions (Intel(R) AVX) instructions.\n",
      "Intel MKL WARNING: Support of Intel(R) Streaming SIMD Extensions 4.2 (Intel(R) SSE4.2) enabled only processors has been deprecated. Intel oneAPI Math Kernel Library 2025.0 will require Intel(R) Advanced Vector Extensions (Intel(R) AVX) instructions.\n",
      "Intel MKL WARNING: Support of Intel(R) Streaming SIMD Extensions 4.2 (Intel(R) SSE4.2) enabled only processors has been deprecated. Intel oneAPI Math Kernel Library 2025.0 will require Intel(R) Advanced Vector Extensions (Intel(R) AVX) instructions.\n",
      "Intel MKL WARNING: Support of Intel(R) Streaming SIMD Extensions 4.2 (Intel(R) SSE4.2) enabled only processors has been deprecated. Intel oneAPI Math Kernel Library 2025.0 will require Intel(R) Advanced Vector Extensions (Intel(R) AVX) instructions.\n",
      "Intel MKL WARNING: Support of Intel(R) Streaming SIMD Extensions 4.2 (Intel(R) SSE4.2) enabled only processors has been deprecated. Intel oneAPI Math Kernel Library 2025.0 will require Intel(R) Advanced Vector Extensions (Intel(R) AVX) instructions.\n",
      "Intel MKL WARNING: Support of Intel(R) Streaming SIMD Extensions 4.2 (Intel(R) SSE4.2) enabled only processors has been deprecated. Intel oneAPI Math Kernel Library 2025.0 will require Intel(R) Advanced Vector Extensions (Intel(R) AVX) instructions.\n",
      "Intel MKL WARNING: Support of Intel(R) Streaming SIMD Extensions 4.2 (Intel(R) SSE4.2) enabled only processors has been deprecated. Intel oneAPI Math Kernel Library 2025.0 will require Intel(R) Advanced Vector Extensions (Intel(R) AVX) instructions.\n",
      "Intel MKL WARNING: Support of Intel(R) Streaming SIMD Extensions 4.2 (Intel(R) SSE4.2) enabled only processors has been deprecated. Intel oneAPI Math Kernel Library 2025.0 will require Intel(R) Advanced Vector Extensions (Intel(R) AVX) instructions.\n",
      "Intel MKL WARNING: Support of Intel(R) Streaming SIMD Extensions 4.2 (Intel(R) SSE4.2) enabled only processors has been deprecated. Intel oneAPI Math Kernel Library 2025.0 will require Intel(R) Advanced Vector Extensions (Intel(R) AVX) instructions.\n",
      "Intel MKL WARNING: Support of Intel(R) Streaming SIMD Extensions 4.2 (Intel(R) SSE4.2) enabled only processors has been deprecated. Intel oneAPI Math Kernel Library 2025.0 will require Intel(R) Advanced Vector Extensions (Intel(R) AVX) instructions.\n",
      "Intel MKL WARNING: Support of Intel(R) Streaming SIMD Extensions 4.2 (Intel(R) SSE4.2) enabled only processors has been deprecated. Intel oneAPI Math Kernel Library 2025.0 will require Intel(R) Advanced Vector Extensions (Intel(R) AVX) instructions.\n",
      "Intel MKL WARNING: Support of Intel(R) Streaming SIMD Extensions 4.2 (Intel(R) SSE4.2) enabled only processors has been deprecated. Intel oneAPI Math Kernel Library 2025.0 will require Intel(R) Advanced Vector Extensions (Intel(R) AVX) instructions.\n",
      "Intel MKL WARNING: Support of Intel(R) Streaming SIMD Extensions 4.2 (Intel(R) SSE4.2) enabled only processors has been deprecated. Intel oneAPI Math Kernel Library 2025.0 will require Intel(R) Advanced Vector Extensions (Intel(R) AVX) instructions.\n",
      "Intel MKL WARNING: Support of Intel(R) Streaming SIMD Extensions 4.2 (Intel(R) SSE4.2) enabled only processors has been deprecated. Intel oneAPI Math Kernel Library 2025.0 will require Intel(R) Advanced Vector Extensions (Intel(R) AVX) instructions.\n",
      "Intel MKL WARNING: Support of Intel(R) Streaming SIMD Extensions 4.2 (Intel(R) SSE4.2) enabled only processors has been deprecated. Intel oneAPI Math Kernel Library 2025.0 will require Intel(R) Advanced Vector Extensions (Intel(R) AVX) instructions.\n",
      "Intel MKL WARNING: Support of Intel(R) Streaming SIMD Extensions 4.2 (Intel(R) SSE4.2) enabled only processors has been deprecated. Intel oneAPI Math Kernel Library 2025.0 will require Intel(R) Advanced Vector Extensions (Intel(R) AVX) instructions.\n",
      "Intel MKL WARNING: Support of Intel(R) Streaming SIMD Extensions 4.2 (Intel(R) SSE4.2) enabled only processors has been deprecated. Intel oneAPI Math Kernel Library 2025.0 will require Intel(R) Advanced Vector Extensions (Intel(R) AVX) instructions.\n",
      "Intel MKL WARNING: Support of Intel(R) Streaming SIMD Extensions 4.2 (Intel(R) SSE4.2) enabled only processors has been deprecated. Intel oneAPI Math Kernel Library 2025.0 will require Intel(R) Advanced Vector Extensions (Intel(R) AVX) instructions.\n",
      "Intel MKL WARNING: Support of Intel(R) Streaming SIMD Extensions 4.2 (Intel(R) SSE4.2) enabled only processors has been deprecated. Intel oneAPI Math Kernel Library 2025.0 will require Intel(R) Advanced Vector Extensions (Intel(R) AVX) instructions.\n",
      "Intel MKL WARNING: Support of Intel(R) Streaming SIMD Extensions 4.2 (Intel(R) SSE4.2) enabled only processors has been deprecated. Intel oneAPI Math Kernel Library 2025.0 will require Intel(R) Advanced Vector Extensions (Intel(R) AVX) instructions.\n",
      "Intel MKL WARNING: Support of Intel(R) Streaming SIMD Extensions 4.2 (Intel(R) SSE4.2) enabled only processors has been deprecated. Intel oneAPI Math Kernel Library 2025.0 will require Intel(R) Advanced Vector Extensions (Intel(R) AVX) instructions.\n",
      "Intel MKL WARNING: Support of Intel(R) Streaming SIMD Extensions 4.2 (Intel(R) SSE4.2) enabled only processors has been deprecated. Intel oneAPI Math Kernel Library 2025.0 will require Intel(R) Advanced Vector Extensions (Intel(R) AVX) instructions.\n",
      "Intel MKL WARNING: Support of Intel(R) Streaming SIMD Extensions 4.2 (Intel(R) SSE4.2) enabled only processors has been deprecated. Intel oneAPI Math Kernel Library 2025.0 will require Intel(R) Advanced Vector Extensions (Intel(R) AVX) instructions.\n",
      "Intel MKL WARNING: Support of Intel(R) Streaming SIMD Extensions 4.2 (Intel(R) SSE4.2) enabled only processors has been deprecated. Intel oneAPI Math Kernel Library 2025.0 will require Intel(R) Advanced Vector Extensions (Intel(R) AVX) instructions.\n",
      "Intel MKL WARNING: Support of Intel(R) Streaming SIMD Extensions 4.2 (Intel(R) SSE4.2) enabled only processors has been deprecated. Intel oneAPI Math Kernel Library 2025.0 will require Intel(R) Advanced Vector Extensions (Intel(R) AVX) instructions.\n",
      "Intel MKL WARNING: Support of Intel(R) Streaming SIMD Extensions 4.2 (Intel(R) SSE4.2) enabled only processors has been deprecated. Intel oneAPI Math Kernel Library 2025.0 will require Intel(R) Advanced Vector Extensions (Intel(R) AVX) instructions.\n",
      "Intel MKL WARNING: Support of Intel(R) Streaming SIMD Extensions 4.2 (Intel(R) SSE4.2) enabled only processors has been deprecated. Intel oneAPI Math Kernel Library 2025.0 will require Intel(R) Advanced Vector Extensions (Intel(R) AVX) instructions.\n",
      "OptimizationResult(model={'method': 'gfn2-xtb', 'basis': None}, molecule_hash='850c601')\n",
      "Intel MKL WARNING: Support of Intel(R) Streaming SIMD Extensions 4.2 (Intel(R) SSE4.2) enabled only processors has been deprecated. Intel oneAPI Math Kernel Library 2025.0 will require Intel(R) Advanced Vector Extensions (Intel(R) AVX) instructions.\n",
      "FailedOperation(error=ComputeError(error_type='unknown', error_message='geomeTRIC run_json error:\\nTraceback (most recent call last):\\n  File \"/Users/localadmin/mambaforge/envs/openff/lib/python3.11/site-packages/geometric/run_json.py\", line 258, in geometric_run_json\\n    geometric.optimize.Optimize(coords, M, IC, engine, dirname, params)\\n  File \"/Users/localadmin/mambaforge/envs/openff/lib/python3.11/site-packages/geometric/optimize.py\", line 779, in Optimize\\n    return optimizer.optimizeGeometry()\\n           ^^^^^^^^^^^^^^^^^^^^^^^^^^^^\\n  File \"/Users/localadmin/mambaforge/envs/openff/lib/python3.11/site-packages/geometric/optimize.py\", line 692, in optimizeGeometry\\n    self.calcEnergyForce()\\n  File \"/Users/localadmin/mambaforge/envs/openff/lib/python3.11/site-packages/geometric/optimize.py\", line 283, in calcEnergyForce\\n    spcalc = self.engine.calc(self.X, self.dirname, read_data=(self.Iteration==0))\\n             ^^^^^^^^^^^^^^^^^^^^^^^^^^^^^^^^^^^^^^^^^^^^^^^^^^^^^^^^^^^^^^^^^^^^^\\n  File \"/Users/localadmin/mambaforge/envs/openff/lib/python3.11/site-packages/geometric/engine.py\", line 1470, in calc\\n    return self.calc_new(coords, dirname)\\n           ^^^^^^^^^^^^^^^^^^^^^^^^^^^^^^\\n  File \"/Users/localadmin/mambaforge/envs/openff/lib/python3.11/site-packages/geometric/engine.py\", line 1461, in calc_new\\n    raise QCEngineAPIEngineError(\"QCEngineAPI computation did not execute correctly. Message: \" + ret[\"error\"][\"error_message\"])\\ngeometric.errors.QCEngineAPIEngineError: QCEngineAPI computation did not execute correctly. Message: QCEngine Unknown Error: Traceback (most recent call last):\\n  File \"/Users/localadmin/mambaforge/envs/openff/bin/psi4\", line 262, in <module>\\n    psi4.set_memory(args[\"memory\"], quiet=True)\\n  File \"/Users/localadmin/mambaforge/envs/openff/lib/python3.11/site-packages/psi4/driver/p4util/util.py\", line 220, in set_memory\\n    raise ValidationError(\\npsi4.driver.p4util.exceptions.ValidationError: set_memory(): Requested 1.96e+02 MiB (2.05e+02 MB); minimum 250 MiB (263 MB). Please, sir, I want some more.\\n\\n'))\n"
     ]
    },
    {
     "ename": "AttributeError",
     "evalue": "'FailedOperation' object has no attribute 'final_molecule'",
     "output_type": "error",
     "traceback": [
      "\u001b[0;31m---------------------------------------------------------------------------\u001b[0m",
      "\u001b[0;31mAttributeError\u001b[0m                            Traceback (most recent call last)",
      "\u001b[1;32m/Users/localadmin/Documents/projects/QM_ESP_Psi4/examples/notebook_test.ipynb Cell 19\u001b[0m line \u001b[0;36m3\n\u001b[1;32m     <a href='vscode-notebook-cell:/Users/localadmin/Documents/projects/QM_ESP_Psi4/examples/notebook_test.ipynb#X24sZmlsZQ%3D%3D?line=33'>34</a>\u001b[0m \u001b[39mprint\u001b[39m(\u001b[39mf\u001b[39m\u001b[39m'\u001b[39m\u001b[39mnumber of cores is \u001b[39m\u001b[39m{\u001b[39;00mESP_gen\u001b[39m.\u001b[39mncores\u001b[39m}\u001b[39;00m\u001b[39m'\u001b[39m)\n\u001b[1;32m     <a href='vscode-notebook-cell:/Users/localadmin/Documents/projects/QM_ESP_Psi4/examples/notebook_test.ipynb#X24sZmlsZQ%3D%3D?line=34'>35</a>\u001b[0m \u001b[39mprint\u001b[39m(\u001b[39mf\u001b[39m\u001b[39m'\u001b[39m\u001b[39mmemory is \u001b[39m\u001b[39m{\u001b[39;00mESP_gen\u001b[39m.\u001b[39mmemory\u001b[39m}\u001b[39;00m\u001b[39m'\u001b[39m)\n\u001b[0;32m---> <a href='vscode-notebook-cell:/Users/localadmin/Documents/projects/QM_ESP_Psi4/examples/notebook_test.ipynb#X24sZmlsZQ%3D%3D?line=35'>36</a>\u001b[0m ESP_gen\u001b[39m.\u001b[39;49mrun_props()\n\u001b[1;32m     <a href='vscode-notebook-cell:/Users/localadmin/Documents/projects/QM_ESP_Psi4/examples/notebook_test.ipynb#X24sZmlsZQ%3D%3D?line=36'>37</a>\u001b[0m \u001b[39m#ESP_gen.fetch_data()\u001b[39;00m\n",
      "File \u001b[0;32m~/Documents/projects/QM_ESP_Psi4/source/optimize/esp_generator_wrapper.py:223\u001b[0m, in \u001b[0;36mPropGenerator.run_props\u001b[0;34m(self)\u001b[0m\n\u001b[1;32m    220\u001b[0m \u001b[39m#run a ff optimize for each conformer to make sure the starting structure is sensible\u001b[39;00m\n\u001b[1;32m    221\u001b[0m xtb_opt_mol \u001b[39m=\u001b[39m \u001b[39mself\u001b[39m\u001b[39m.\u001b[39m_xtb_ff_opt(qc_mol)\n\u001b[0;32m--> 223\u001b[0m hf_opt_mol \u001b[39m=\u001b[39m \u001b[39mself\u001b[39;49m\u001b[39m.\u001b[39;49m_psi4_opt(qc_mol\u001b[39m=\u001b[39;49mxtb_opt_mol)\n\u001b[1;32m    225\u001b[0m qc_mol \u001b[39m=\u001b[39m QCMolecule(\u001b[39m*\u001b[39m\u001b[39m*\u001b[39mhf_opt_mol\u001b[39m.\u001b[39mdict(exclude\u001b[39m=\u001b[39m{\u001b[39m\"\u001b[39m\u001b[39mfix_com\u001b[39m\u001b[39m\"\u001b[39m, \u001b[39m\"\u001b[39m\u001b[39mfix_orientation\u001b[39m\u001b[39m\"\u001b[39m}), fix_com\u001b[39m=\u001b[39m\u001b[39mTrue\u001b[39;00m, fix_orientation\u001b[39m=\u001b[39m\u001b[39mTrue\u001b[39;00m)\n\u001b[1;32m    227\u001b[0m grid \u001b[39m=\u001b[39m \u001b[39mself\u001b[39m\u001b[39m.\u001b[39m_generate_grid(qc_mol\u001b[39m.\u001b[39mgeometry \u001b[39m*\u001b[39m unit\u001b[39m.\u001b[39mangstrom)\n",
      "File \u001b[0;32m~/Documents/projects/QM_ESP_Psi4/source/optimize/esp_generator_wrapper.py:169\u001b[0m, in \u001b[0;36mESPGenerator._psi4_opt\u001b[0;34m(self, qc_mol)\u001b[0m\n\u001b[1;32m    167\u001b[0m \u001b[39m# do want anything here like density fitting?\u001b[39;00m\n\u001b[1;32m    168\u001b[0m keywords \u001b[39m=\u001b[39m {}\n\u001b[0;32m--> 169\u001b[0m \u001b[39mreturn\u001b[39;00m \u001b[39mself\u001b[39;49m\u001b[39m.\u001b[39;49m_qcengine_opt(\n\u001b[1;32m    170\u001b[0m     qc_mol\u001b[39m=\u001b[39;49mqc_mol, model\u001b[39m=\u001b[39;49mhf_model, program\u001b[39m=\u001b[39;49m\u001b[39m\"\u001b[39;49m\u001b[39mpsi4\u001b[39;49m\u001b[39m\"\u001b[39;49m, spec_keywords\u001b[39m=\u001b[39;49mkeywords\n\u001b[1;32m    171\u001b[0m )\n",
      "File \u001b[0;32m~/Documents/projects/QM_ESP_Psi4/source/optimize/esp_generator_wrapper.py:151\u001b[0m, in \u001b[0;36mESPGenerator._qcengine_opt\u001b[0;34m(self, qc_mol, model, program, spec_keywords)\u001b[0m\n\u001b[1;32m    149\u001b[0m  \u001b[39mprint\u001b[39m(opt)\n\u001b[1;32m    150\u001b[0m \u001b[39m# print(opt.result)\u001b[39;00m\n\u001b[0;32m--> 151\u001b[0m  \u001b[39mreturn\u001b[39;00m opt\u001b[39m.\u001b[39;49mfinal_molecule\n",
      "\u001b[0;31mAttributeError\u001b[0m: 'FailedOperation' object has no attribute 'final_molecule'"
     ]
    }
   ],
   "source": [
    "import sys\n",
    "import os\n",
    "CWD = os.getcwd()\n",
    "sys.path.append(os.path.dirname(CWD))\n",
    "\n",
    "from source.inputSetup.SmilesInputs import ReadInput\n",
    "from source.optimize.esp_generator_wrapper import ESPGenerator, PropGenerator\n",
    "from source.conformers.conformer_gen import Conformers\n",
    "from openff.recharge.utilities.molecule import smiles_to_molecule\n",
    "from openff.recharge.grids import LatticeGridSettings\n",
    "from openff.recharge.esp import ESPSettings\n",
    "\n",
    "\n",
    "\n",
    "    \n",
    "#Read the .smi input and add to list\n",
    "smiles = ReadInput.read_smiles('test_files.smi')\n",
    "\n",
    "# Define the grid that the electrostatic properties will be trained on and the\n",
    "# level of theory to compute the properties at.\n",
    "grid_settings = LatticeGridSettings(\n",
    "    type=\"fcc\", spacing=0.5, inner_vdw_scale=1.4, outer_vdw_scale=2.0\n",
    ")\n",
    "\n",
    "esp_settings = ESPSettings(basis=\"6-31G*\", method=\"hf\", grid_settings=grid_settings)\n",
    "\n",
    "#Loop through molecules\n",
    "for mol in smiles:\n",
    "    molecule = smiles_to_molecule(mol)\n",
    "    #Generate the conformers\n",
    "    conformer_list = Conformers.generate(molecule, generation_type='rdkit')\n",
    "    ESP_gen = PropGenerator(molecule = molecule, conformers = conformer_list, esp_settings = esp_settings, grid_settings = grid_settings)\n",
    "    ESP_gen.memory = 2e+9 #2gb\n",
    "    print(f'number of cores is {ESP_gen.ncores}')\n",
    "    print(f'memory is {ESP_gen.memory}')\n",
    "    ESP_gen.run_props()\n",
    "    #ESP_gen.fetch_data()"
   ]
  },
  {
   "cell_type": "code",
   "execution_count": 6,
   "metadata": {},
   "outputs": [
    {
     "name": "stdout",
     "output_type": "stream",
     "text": [
      "\n",
      "  Memory set to   1.863 GiB by Python driver.\n"
     ]
    },
    {
     "data": {
      "text/plain": [
       "2000000000"
      ]
     },
     "execution_count": 6,
     "metadata": {},
     "output_type": "execute_result"
    }
   ],
   "source": [
    "import psi4\n",
    "psi4.set_memory('2gb')"
   ]
  },
  {
   "cell_type": "code",
   "execution_count": null,
   "metadata": {},
   "outputs": [],
   "source": []
  },
  {
   "cell_type": "code",
   "execution_count": null,
   "metadata": {},
   "outputs": [
    {
     "ename": "",
     "evalue": "",
     "output_type": "error",
     "traceback": [
      "\u001b[1;31mRunning cells with '/Users/localadmin/miniconda3/envs/openff/bin/python' requires the ipykernel package.\n",
      "\u001b[1;31mRun the following command to install 'ipykernel' into the Python environment. \n",
      "\u001b[1;31mCommand: 'conda install -p /Users/localadmin/miniconda3/envs/openff ipykernel --update-deps --force-reinstall'"
     ]
    }
   ],
   "source": [
    "import ipykernel"
   ]
  },
  {
   "cell_type": "code",
   "execution_count": null,
   "metadata": {},
   "outputs": [
    {
     "ename": "",
     "evalue": "",
     "output_type": "error",
     "traceback": [
      "\u001b[1;31mRunning cells with '/Users/localadmin/miniconda3/envs/openff/bin/python' requires the ipykernel package.\n",
      "\u001b[1;31mRun the following command to install 'ipykernel' into the Python environment. \n",
      "\u001b[1;31mCommand: 'conda install -p /Users/localadmin/miniconda3/envs/openff ipykernel --update-deps --force-reinstall'"
     ]
    }
   ],
   "source": []
  },
  {
   "cell_type": "code",
   "execution_count": null,
   "metadata": {},
   "outputs": [
    {
     "ename": "",
     "evalue": "",
     "output_type": "error",
     "traceback": [
      "\u001b[1;31mRunning cells with '/Users/localadmin/miniconda3/envs/openff/bin/python' requires the ipykernel package.\n",
      "\u001b[1;31mRun the following command to install 'ipykernel' into the Python environment. \n",
      "\u001b[1;31mCommand: 'conda install -p /Users/localadmin/miniconda3/envs/openff ipykernel --update-deps --force-reinstall'"
     ]
    }
   ],
   "source": [
    "!mamba install -c conda-forge xtb"
   ]
  }
 ],
 "metadata": {
  "kernelspec": {
   "display_name": "openff",
   "language": "python",
   "name": "python3"
  },
  "language_info": {
   "codemirror_mode": {
    "name": "ipython",
    "version": 3
   },
   "file_extension": ".py",
   "mimetype": "text/x-python",
   "name": "python",
   "nbconvert_exporter": "python",
   "pygments_lexer": "ipython3",
   "version": "3.11.6"
  },
  "orig_nbformat": 4
 },
 "nbformat": 4,
 "nbformat_minor": 2
}
