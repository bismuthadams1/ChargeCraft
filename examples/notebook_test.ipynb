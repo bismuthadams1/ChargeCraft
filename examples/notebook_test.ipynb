{
 "cells": [
  {
   "cell_type": "code",
   "execution_count": 5,
   "metadata": {},
   "outputs": [],
   "source": [
    "import os\n",
    "import sys\n",
    "import random\n",
    "import numpy as np\n",
    "\n",
    "from tqdm import tqdm\n",
    "from rdkit.Chem import AllChem\n",
    "from rdkit.Chem.rdForceFieldHelpers import MMFFOptimizeMolecule\n",
    "\n",
    "from openff.units.elements import SYMBOLS\n",
    "from openff.toolkit import Molecule\n",
    "from openff.recharge.conformers import ConformerGenerator, ConformerSettings\n",
    "from source.storage.ddx_storage import ESPSettings, DDXSettings\n",
    "from openff.recharge.esp.storage import MoleculeESPRecord, MoleculeESPStore\n",
    "from openff.recharge.grids import LatticeGridSettings, GridSettingsType, GridGenerator\n",
    "from openff.recharge.utilities.molecule import smiles_to_molecule\n",
    "from qcelemental.models.procedures import OptimizationInput, QCInputSpecification\n",
    "from openff.units import unit\n",
    "from qcelemental.models.common_models import Model\n",
    "\n",
    "import qcengine\n",
    "\n",
    "sys.path.append('/Users/localadmin/Documents/projects/QM_ESP_Psi4')\n",
    "\n",
    "from source.optimize.openff_psi4_gen import Psi4Generate\n",
    "from source.conformers.conformer_gen import Conformers\n",
    "from source.utilities.conversion_functions import conf_to_xyz_string\n",
    "\n",
    "\n",
    "import psi4\n",
    "\n"
   ]
  },
  {
   "cell_type": "code",
   "execution_count": null,
   "metadata": {},
   "outputs": [
    {
     "ename": "",
     "evalue": "",
     "output_type": "error",
     "traceback": [
      "\u001b[1;31mRunning cells with '/Users/localadmin/miniconda3/envs/openff/bin/python' requires the ipykernel package.\n",
      "\u001b[1;31mRun the following command to install 'ipykernel' into the Python environment. \n",
      "\u001b[1;31mCommand: 'conda install -p /Users/localadmin/miniconda3/envs/openff ipykernel --update-deps --force-reinstall'"
     ]
    }
   ],
   "source": [
    "#load our molecule to create the conformers\n",
    "\n",
    "molecule = smiles_to_molecule(\"OCC(O)CO\")\n",
    "rdmol = molecule.to_rdkit()\n",
    "AllChem.EmbedMultipleConfs(rdmol, numConfs=10, randomSeed=42)"
   ]
  },
  {
   "cell_type": "code",
   "execution_count": null,
   "metadata": {},
   "outputs": [
    {
     "ename": "",
     "evalue": "",
     "output_type": "error",
     "traceback": [
      "\u001b[1;31mRunning cells with '/Users/localadmin/miniconda3/envs/openff/bin/python' requires the ipykernel package.\n",
      "\u001b[1;31mRun the following command to install 'ipykernel' into the Python environment. \n",
      "\u001b[1;31mCommand: 'conda install -p /Users/localadmin/miniconda3/envs/openff ipykernel --update-deps --force-reinstall'"
     ]
    }
   ],
   "source": [
    "#test the optimizer\n",
    "\n",
    "optimize_MMFF = MMFFOptimizeMolecule(rdmol,mmffVariant = 'MMFF94',confId=3) #,confId=1,mmffvariant='MMFF94'\n",
    "optimize_MMFF\n",
    "\n"
   ]
  },
  {
   "cell_type": "code",
   "execution_count": null,
   "metadata": {},
   "outputs": [
    {
     "ename": "",
     "evalue": "",
     "output_type": "error",
     "traceback": [
      "\u001b[1;31mRunning cells with '/Users/localadmin/miniconda3/envs/openff/bin/python' requires the ipykernel package.\n",
      "\u001b[1;31mRun the following command to install 'ipykernel' into the Python environment. \n",
      "\u001b[1;31mCommand: 'conda install -p /Users/localadmin/miniconda3/envs/openff ipykernel --update-deps --force-reinstall'"
     ]
    }
   ],
   "source": [
    "#test all the conformers\n",
    "\n",
    "for id in range(rdmol.GetNumConformers()):\n",
    "    optimize_MMFF = MMFFOptimizeMolecule(rdmol,mmffVariant = 'MMFF94',confId=3) #,confId=1,mmffvariant='MMFF94'\n",
    "    print(f'conformer:{id}, optimize (0 = converge, 1 = more iterations req): {optimize_MMFF}')"
   ]
  },
  {
   "cell_type": "code",
   "execution_count": null,
   "metadata": {},
   "outputs": [
    {
     "ename": "",
     "evalue": "",
     "output_type": "error",
     "traceback": [
      "\u001b[1;31mRunning cells with '/Users/localadmin/miniconda3/envs/openff/bin/python' requires the ipykernel package.\n",
      "\u001b[1;31mRun the following command to install 'ipykernel' into the Python environment. \n",
      "\u001b[1;31mCommand: 'conda install -p /Users/localadmin/miniconda3/envs/openff ipykernel --update-deps --force-reinstall'"
     ]
    }
   ],
   "source": [
    "from rdkit.Chem.Draw import IPythonConsole\n",
    "IPythonConsole.ipython_3d = True\n",
    "import py3Dmol\n"
   ]
  },
  {
   "cell_type": "code",
   "execution_count": null,
   "metadata": {},
   "outputs": [
    {
     "ename": "",
     "evalue": "",
     "output_type": "error",
     "traceback": [
      "\u001b[1;31mRunning cells with '/Users/localadmin/miniconda3/envs/openff/bin/python' requires the ipykernel package.\n",
      "\u001b[1;31mRun the following command to install 'ipykernel' into the Python environment. \n",
      "\u001b[1;31mCommand: 'conda install -p /Users/localadmin/miniconda3/envs/openff ipykernel --update-deps --force-reinstall'"
     ]
    }
   ],
   "source": [
    "#do the conformers look structurally sensible\n",
    "\n",
    "for id in range(rdmol.GetNumConformers()):\n",
    "    IPythonConsole.drawMol3D(rdmol,confId=id)\n"
   ]
  },
  {
   "cell_type": "code",
   "execution_count": null,
   "metadata": {},
   "outputs": [
    {
     "ename": "",
     "evalue": "",
     "output_type": "error",
     "traceback": [
      "\u001b[1;31mRunning cells with '/Users/localadmin/miniconda3/envs/openff/bin/python' requires the ipykernel package.\n",
      "\u001b[1;31mRun the following command to install 'ipykernel' into the Python environment. \n",
      "\u001b[1;31mCommand: 'conda install -p /Users/localadmin/miniconda3/envs/openff ipykernel --update-deps --force-reinstall'"
     ]
    }
   ],
   "source": [
    "optimize_MMFF"
   ]
  },
  {
   "cell_type": "code",
   "execution_count": null,
   "metadata": {},
   "outputs": [
    {
     "ename": "",
     "evalue": "",
     "output_type": "error",
     "traceback": [
      "\u001b[1;31mRunning cells with '/Users/localadmin/miniconda3/envs/openff/bin/python' requires the ipykernel package.\n",
      "\u001b[1;31mRun the following command to install 'ipykernel' into the Python environment. \n",
      "\u001b[1;31mCommand: 'conda install -p /Users/localadmin/miniconda3/envs/openff ipykernel --update-deps --force-reinstall'"
     ]
    }
   ],
   "source": [
    "#now create a series of xyz files so we can run the conformers with ASE, first convert our conformers to xyz format and then write to file\n",
    "\n",
    "from openff.units import unit\n",
    "\n",
    "cwd = os.getcwd()\n",
    "\n",
    "conformers = []\n",
    "\n",
    "\n",
    "\n",
    "for confs in range(rdmol.GetNumConformers()):\n",
    "    conformer = np.zeros((rdmol.GetConformer(confs).GetNumAtoms(), 3))\n",
    "    for atom_index, coordinates in enumerate(rdmol.GetConformer(confs).GetPositions()):\n",
    "        conformer[atom_index, :] = coordinates\n",
    "    conformers.append(conformer * unit.angstrom)\n",
    "\n",
    "\n",
    "for number ,conformer in enumerate(conformers):\n",
    "    atoms = [\n",
    "            {\n",
    "                \"element\": SYMBOLS[atom.atomic_number],\n",
    "                \"x\": conformer[index, 0],\n",
    "                \"y\": conformer[index, 1],\n",
    "                \"z\": conformer[index, 2],\n",
    "            }\n",
    "            for index, atom in enumerate(molecule.atoms)\n",
    "        ]\n",
    "    xyz = f'{molecule.n_atoms}\\n{molecule.to_smiles()}\\n'\n",
    "    for row in atoms:\n",
    "        xyz += f\"{row['element']}\\t{np.around(row['x'].magnitude,decimals=6)}\\t{np.around(row['y'].magnitude,decimals=6)}\\t{np.around(row['z'].magnitude, decimals=6)}\\n\"\n",
    "    try:\n",
    "        f = open(cwd+f\"/conformer_{number}.xyz\", 'x')\n",
    "        f.write(xyz)\n",
    "        f.close()\n",
    "    except FileExistsError:\n",
    "        continue"
   ]
  },
  {
   "cell_type": "code",
   "execution_count": 2,
   "metadata": {},
   "outputs": [
    {
     "name": "stdout",
     "output_type": "stream",
     "text": [
      "rdkit has generated 10 conformers from a requested 10 conformers\n"
     ]
    },
    {
     "ename": "NameError",
     "evalue": "name 'Model' is not defined",
     "output_type": "error",
     "traceback": [
      "\u001b[0;31m---------------------------------------------------------------------------\u001b[0m",
      "\u001b[0;31mNameError\u001b[0m                                 Traceback (most recent call last)",
      "\u001b[1;32m/Users/localadmin/Documents/projects/QM_ESP_Psi4/examples/notebook_test.ipynb Cell 9\u001b[0m line \u001b[0;36m1\n\u001b[1;32m      <a href='vscode-notebook-cell:/Users/localadmin/Documents/projects/QM_ESP_Psi4/examples/notebook_test.ipynb#X11sZmlsZQ%3D%3D?line=6'>7</a>\u001b[0m qc_mol \u001b[39m=\u001b[39m  test_mol\u001b[39m.\u001b[39mto_qcschema(conformer\u001b[39m=\u001b[39m\u001b[39m0\u001b[39m)\n\u001b[1;32m      <a href='vscode-notebook-cell:/Users/localadmin/Documents/projects/QM_ESP_Psi4/examples/notebook_test.ipynb#X11sZmlsZQ%3D%3D?line=8'>9</a>\u001b[0m \u001b[39m#Setup geometry optimisation\u001b[39;00m\n\u001b[0;32m---> <a href='vscode-notebook-cell:/Users/localadmin/Documents/projects/QM_ESP_Psi4/examples/notebook_test.ipynb#X11sZmlsZQ%3D%3D?line=9'>10</a>\u001b[0m hf_model \u001b[39m=\u001b[39m Model(method\u001b[39m=\u001b[39m\u001b[39m\"\u001b[39m\u001b[39mhf\u001b[39m\u001b[39m\"\u001b[39m, basis\u001b[39m=\u001b[39m\u001b[39m\"\u001b[39m\u001b[39m6-31G*\u001b[39m\u001b[39m\"\u001b[39m)\n\u001b[1;32m     <a href='vscode-notebook-cell:/Users/localadmin/Documents/projects/QM_ESP_Psi4/examples/notebook_test.ipynb#X11sZmlsZQ%3D%3D?line=10'>11</a>\u001b[0m spec \u001b[39m=\u001b[39m QCInputSpecification(model\u001b[39m=\u001b[39mhf_model, keywords\u001b[39m=\u001b[39m{}, driver\u001b[39m=\u001b[39m\u001b[39m\"\u001b[39m\u001b[39mgradient\u001b[39m\u001b[39m\"\u001b[39m)\n\u001b[1;32m     <a href='vscode-notebook-cell:/Users/localadmin/Documents/projects/QM_ESP_Psi4/examples/notebook_test.ipynb#X11sZmlsZQ%3D%3D?line=11'>12</a>\u001b[0m opt_spec \u001b[39m=\u001b[39m OptimizationInput(\n\u001b[1;32m     <a href='vscode-notebook-cell:/Users/localadmin/Documents/projects/QM_ESP_Psi4/examples/notebook_test.ipynb#X11sZmlsZQ%3D%3D?line=12'>13</a>\u001b[0m             initial_molecule\u001b[39m=\u001b[39mqc_mol,\n\u001b[1;32m     <a href='vscode-notebook-cell:/Users/localadmin/Documents/projects/QM_ESP_Psi4/examples/notebook_test.ipynb#X11sZmlsZQ%3D%3D?line=13'>14</a>\u001b[0m             input_specification\u001b[39m=\u001b[39mspec,\n\u001b[1;32m     <a href='vscode-notebook-cell:/Users/localadmin/Documents/projects/QM_ESP_Psi4/examples/notebook_test.ipynb#X11sZmlsZQ%3D%3D?line=14'>15</a>\u001b[0m             keywords\u001b[39m=\u001b[39m{\u001b[39m\"\u001b[39m\u001b[39mcoordsys\u001b[39m\u001b[39m\"\u001b[39m: \u001b[39m\"\u001b[39m\u001b[39mdlc\u001b[39m\u001b[39m\"\u001b[39m, \n\u001b[1;32m     <a href='vscode-notebook-cell:/Users/localadmin/Documents/projects/QM_ESP_Psi4/examples/notebook_test.ipynb#X11sZmlsZQ%3D%3D?line=15'>16</a>\u001b[0m                       \u001b[39m\"\u001b[39m\u001b[39mprogram\u001b[39m\u001b[39m\"\u001b[39m: \u001b[39m\"\u001b[39m\u001b[39mpsi4\u001b[39m\u001b[39m\"\u001b[39m}                                        \n\u001b[1;32m     <a href='vscode-notebook-cell:/Users/localadmin/Documents/projects/QM_ESP_Psi4/examples/notebook_test.ipynb#X11sZmlsZQ%3D%3D?line=16'>17</a>\u001b[0m         )\n",
      "\u001b[0;31mNameError\u001b[0m: name 'Model' is not defined"
     ]
    }
   ],
   "source": [
    "esp_store = MoleculeESPStore('testdb.sqlite')\n",
    "\n",
    "CWD = os.getcwd()\n",
    "\n",
    "#generate water test molecule as openff.toolkit.Molecule\n",
    "test_mol =  smiles_to_molecule('[H]O[H]')\n",
    "conformer_list = Conformers.generate(test_mol, generation_type='rdkit')\n",
    "conformer_list[0]\n",
    "qc_mol =  test_mol.to_qcschema(conformer=0)\n",
    "\n",
    "#Setup geometry optimisation\n",
    "hf_model = Model(method=\"hf\", basis=\"6-31G*\")\n",
    "spec = QCInputSpecification(model=hf_model, keywords={}, driver=\"gradient\")\n",
    "opt_spec = OptimizationInput(\n",
    "            initial_molecule=qc_mol,\n",
    "            input_specification=spec,\n",
    "            keywords={\"coordsys\": \"dlc\", \n",
    "                      \"program\": \"psi4\"}                                        \n",
    "        )\n",
    "\n",
    "opt = qcengine.compute_procedure(opt_spec, \"geometric\")\n",
    "print(f'geometry optimiztion was {opt.error}')\n",
    "#return optimized molecule\n",
    "optmized_mol = opt.final_molecule\n",
    "\n",
    "#Generate grid.dat file for grid_esp and grid_field\n",
    "grid_settings = LatticeGridSettings(\n",
    "        type=\"fcc\", spacing=0.5, inner_vdw_scale=1.4, outer_vdw_scale=2.0\n",
    "    )\n",
    "\n",
    "grid = GridGenerator.generate(test_mol, optmized_mol.geometry*unit.angstrom, grid_settings)\n",
    "\n",
    "grid = grid.to(unit.angstrom).m\n",
    "np.savetxt(\"grid.dat\", grid, delimiter=\" \", fmt=\"%16.10f\")\n",
    "#compute one-electron properties.\n",
    "opt_input_2 = { \"molecule\" : optmized_mol,\n",
    "              \"driver\" : \"energy\",\n",
    "              \"model\" : {\"method\":\"scf\",\"basis\":\"6-31G*\"},\n",
    "              \"protocols\":{\"wavefunction\":\"all\",\"stdout\":True,\"native_files\":\"all\"},\n",
    "              \"keywords\":{\"scf_properties\":[\"GRID_ESP\", \"GRID_FIELD\",\"MULLIKEN_CHARGES\", \"LOWDIN_CHARGES\", \"DIPOLE\", \"QUADRUPOLE\", \"MBIS_CHARGES\"]}                               \n",
    "              }\n",
    "\n",
    "\n",
    "opt_2 = qcengine.compute(opt_input_2, \"psi4\", task_config={\"scratch_directory\":CWD,\"scratch_messy\":True})\n",
    "\n",
    "print(opt_2.dict())\n",
    "\n",
    "esp = (np.loadtxt(\"grid_esp.dat\").reshape(-1, 1) * unit.hartree / unit.e)\n",
    "\n",
    "electric_field = (np.loadtxt(\"grid_field.dat\")* unit.hartree/ (unit.e * unit.bohr))"
   ]
  },
  {
   "cell_type": "code",
   "execution_count": null,
   "metadata": {},
   "outputs": [
    {
     "ename": "",
     "evalue": "",
     "output_type": "error",
     "traceback": [
      "\u001b[1;31mRunning cells with '/Users/localadmin/miniconda3/envs/openff/bin/python' requires the ipykernel package.\n",
      "\u001b[1;31mRun the following command to install 'ipykernel' into the Python environment. \n",
      "\u001b[1;31mCommand: 'conda install -p /Users/localadmin/miniconda3/envs/openff ipykernel --update-deps --force-reinstall'"
     ]
    }
   ],
   "source": [
    "psi4.core.variables(['MBIS Charges'])"
   ]
  },
  {
   "cell_type": "code",
   "execution_count": 4,
   "metadata": {},
   "outputs": [
    {
     "name": "stdout",
     "output_type": "stream",
     "text": [
      "rdkit has generated 10 conformers from a requested 10 conformers\n"
     ]
    },
    {
     "ename": "AttributeError",
     "evalue": "type object 'Psi4Generate' has no attribute 'run_calc'",
     "output_type": "error",
     "traceback": [
      "\u001b[0;31m---------------------------------------------------------------------------\u001b[0m",
      "\u001b[0;31mAttributeError\u001b[0m                            Traceback (most recent call last)",
      "\u001b[1;32m/Users/localadmin/Documents/projects/QM_ESP_Psi4/examples/notebook_test.ipynb Cell 11\u001b[0m line \u001b[0;36m2\n\u001b[1;32m     <a href='vscode-notebook-cell:/Users/localadmin/Documents/projects/QM_ESP_Psi4/examples/notebook_test.ipynb#X13sZmlsZQ%3D%3D?line=13'>14</a>\u001b[0m grid_settings \u001b[39m=\u001b[39m LatticeGridSettings(\n\u001b[1;32m     <a href='vscode-notebook-cell:/Users/localadmin/Documents/projects/QM_ESP_Psi4/examples/notebook_test.ipynb#X13sZmlsZQ%3D%3D?line=14'>15</a>\u001b[0m         \u001b[39mtype\u001b[39m\u001b[39m=\u001b[39m\u001b[39m\"\u001b[39m\u001b[39mfcc\u001b[39m\u001b[39m\"\u001b[39m, spacing\u001b[39m=\u001b[39m\u001b[39m0.5\u001b[39m, inner_vdw_scale\u001b[39m=\u001b[39m\u001b[39m1.4\u001b[39m, outer_vdw_scale\u001b[39m=\u001b[39m\u001b[39m2.0\u001b[39m\n\u001b[1;32m     <a href='vscode-notebook-cell:/Users/localadmin/Documents/projects/QM_ESP_Psi4/examples/notebook_test.ipynb#X13sZmlsZQ%3D%3D?line=15'>16</a>\u001b[0m     )\n\u001b[1;32m     <a href='vscode-notebook-cell:/Users/localadmin/Documents/projects/QM_ESP_Psi4/examples/notebook_test.ipynb#X13sZmlsZQ%3D%3D?line=18'>19</a>\u001b[0m esp_settings \u001b[39m=\u001b[39m ESPSettings(basis\u001b[39m=\u001b[39m\u001b[39m\"\u001b[39m\u001b[39m6-31G*\u001b[39m\u001b[39m\"\u001b[39m, method\u001b[39m=\u001b[39m\u001b[39m\"\u001b[39m\u001b[39mhf\u001b[39m\u001b[39m\"\u001b[39m, grid_settings\u001b[39m=\u001b[39mgrid_settings)\n\u001b[0;32m---> <a href='vscode-notebook-cell:/Users/localadmin/Documents/projects/QM_ESP_Psi4/examples/notebook_test.ipynb#X13sZmlsZQ%3D%3D?line=20'>21</a>\u001b[0m xyz \u001b[39m=\u001b[39m Psi4Generate\u001b[39m.\u001b[39;49mrun_calc(test_mol,conformer_list[\u001b[39m0\u001b[39m],esp_settings,compute_esp\u001b[39m=\u001b[39m\u001b[39mTrue\u001b[39;00m,compute_field\u001b[39m=\u001b[39m\u001b[39mTrue\u001b[39;00m, minimize\u001b[39m=\u001b[39m\u001b[39mFalse\u001b[39;00m)\n\u001b[1;32m     <a href='vscode-notebook-cell:/Users/localadmin/Documents/projects/QM_ESP_Psi4/examples/notebook_test.ipynb#X13sZmlsZQ%3D%3D?line=22'>23</a>\u001b[0m molecule \u001b[39m=\u001b[39m psi4\u001b[39m.\u001b[39mgeometry(\n\u001b[1;32m     <a href='vscode-notebook-cell:/Users/localadmin/Documents/projects/QM_ESP_Psi4/examples/notebook_test.ipynb#X13sZmlsZQ%3D%3D?line=23'>24</a>\u001b[0m \u001b[39m\"\"\"\u001b[39;00m\n\u001b[1;32m     <a href='vscode-notebook-cell:/Users/localadmin/Documents/projects/QM_ESP_Psi4/examples/notebook_test.ipynb#X13sZmlsZQ%3D%3D?line=24'>25</a>\u001b[0m \u001b[39m3\u001b[39;00m\n\u001b[0;32m   (...)\u001b[0m\n\u001b[1;32m     <a href='vscode-notebook-cell:/Users/localadmin/Documents/projects/QM_ESP_Psi4/examples/notebook_test.ipynb#X13sZmlsZQ%3D%3D?line=29'>30</a>\u001b[0m \u001b[39m\"\"\"\u001b[39;00m\n\u001b[1;32m     <a href='vscode-notebook-cell:/Users/localadmin/Documents/projects/QM_ESP_Psi4/examples/notebook_test.ipynb#X13sZmlsZQ%3D%3D?line=30'>31</a>\u001b[0m )\n\u001b[1;32m     <a href='vscode-notebook-cell:/Users/localadmin/Documents/projects/QM_ESP_Psi4/examples/notebook_test.ipynb#X13sZmlsZQ%3D%3D?line=32'>33</a>\u001b[0m molecule\u001b[39m.\u001b[39mset_molecular_charge(\u001b[39m0\u001b[39m)\n",
      "\u001b[0;31mAttributeError\u001b[0m: type object 'Psi4Generate' has no attribute 'run_calc'"
     ]
    }
   ],
   "source": [
    "from source.optimize.openff_psi4_gen import Psi4Generate\n",
    "import psi4\n",
    "import qcengine\n",
    "\n",
    "test_mol =  smiles_to_molecule('[H]O[H]')\n",
    "\n",
    "#generate water test molecule as openff.toolkit.Molecule\n",
    "test_mol =  smiles_to_molecule('[H]O[H]')\n",
    "\n",
    "conformer_list = Conformers.generate(test_mol, generation_type='rdkit')\n",
    "conformer_list[0]\n",
    "qc_mol =  test_mol.to_qcschema(conformer=0)\n",
    "\n",
    "#Generate grid.dat file for grid_esp and grid_field\n",
    "grid_settings = LatticeGridSettings(\n",
    "        type=\"fcc\", spacing=0.5, inner_vdw_scale=1.4, outer_vdw_scale=2.0\n",
    "    )\n",
    "\n",
    "\n",
    "esp_settings = ESPSettings(basis=\"6-31G*\", method=\"hf\", grid_settings=grid_settings)\n",
    "\n",
    "xyz = Psi4Generate.run_calc(test_mol,conformer_list[0],esp_settings,compute_esp=True,compute_field=True, minimize=False)\n",
    "\n",
    "molecule = psi4.geometry(\n",
    "\"\"\"\n",
    "3\n",
    "[H]O[H]\n",
    "H\t-0.81024874\t-0.18571238\t-0.0\n",
    "O\t-0.00248133\t0.36959931\t-0.0\n",
    "H\t0.81273007\t-0.18388693\t0.0\n",
    "\"\"\"\n",
    ")\n",
    "\n",
    "molecule.set_molecular_charge(0)\n",
    "molecule.set_multiplicity(1)\n",
    "\n",
    "E, wfn = psi4.energy('hf/6-31g*', return_wfn=True, molecule = molecule)\n",
    "psi4.prop('hf/6-31G*', properties=[\"GRID_ESP\", \"GRID_FIELD\",\"MULLIKEN_CHARGES\", \"LOWDIN_CHARGES\", \"DIPOLE\", \"QUADRUPOLE\", \"MBIS_CHARGES\"])\n",
    "#psi4.core.print_variables()\n",
    "psi4.core.variables(['MBIS Charges'])\n",
    "molecule.fcharge"
   ]
  },
  {
   "cell_type": "code",
   "execution_count": 13,
   "metadata": {},
   "outputs": [
    {
     "name": "stdout",
     "output_type": "stream",
     "text": [
      "rdkit has generated 10 conformers from a requested 10 conformers\n",
      "FailedOperation(error=ComputeError(error_type='input_error', error_message=\"QCEngine Input Error: Error creating 'OptimizationInput', data could not be correctly parsed:\\n5 validation errors for OptimizationInput\\ninput_specification\\n  field required (type=value_error.missing)\\ninitial_molecule\\n  field required (type=value_error.missing)\\ndriver\\n  extra fields not permitted (type=value_error.extra)\\nmodel\\n  extra fields not permitted (type=value_error.extra)\\nmolecule\\n  extra fields not permitted (type=value_error.extra)\"))\n"
     ]
    },
    {
     "name": "stderr",
     "output_type": "stream",
     "text": [
      "/var/folders/5m/c625w21d6q3cgv41hc6yjs100000gq/T/ipykernel_18109/3519759898.py:19: FutureWarning: Using the `local_options` keyword argument is depreciated in favor of using `task_config`, in version 0.30.0 it will stop working.\n",
      "  opt = qcengine.compute_procedure(opt_spec, \"geometric\", local_options = { \"memory\": 2000000, \"ncores\":4})\n"
     ]
    }
   ],
   "source": [
    "from source.optimize.openff_psi4_gen import Psi4Generate\n",
    "from qcelemental.models.common_models import Model\n",
    "\n",
    "test_mol =  smiles_to_molecule('[H]O[H]')\n",
    "\n",
    "#generate water test molecule as openff.toolkit.Molecule\n",
    "test_mol =  smiles_to_molecule('[H]O[H]')\n",
    "conformer_list = Conformers.generate(test_mol, generation_type='rdkit')\n",
    "conformer_list[0]\n",
    "qc_mol =  test_mol.to_qcschema(conformer=0)\n",
    "\n",
    "\n",
    "\n",
    "opt_spec = { \"molecule\" : qc_mol,\n",
    "              \"driver\" : \"gradient\",\n",
    "              \"model\" : {\"method\":\"hf\",\"basis\":\"6-31G*\"}\n",
    "            }\n",
    "\n",
    "opt = qcengine.compute_procedure(opt_spec, \"geometric\", local_options = { \"memory\": 2000000, \"ncores\":4})\n",
    "print(opt)\n",
    "# print(opt.result)\n"
   ]
  },
  {
   "cell_type": "code",
   "execution_count": 22,
   "metadata": {},
   "outputs": [
    {
     "name": "stdout",
     "output_type": "stream",
     "text": [
      "rdkit has generated 10 conformers from a requested 10 conformers\n"
     ]
    },
    {
     "data": {
      "text/plain": [
       "{'CURRENT ENERGY': -76.00688623049763,\n",
       " 'CURRENT REFERENCE ENERGY': -76.00688623049763,\n",
       " 'DD SOLVATION ENERGY': 0.0,\n",
       " 'HF KINETIC ENERGY': 75.71208232169353,\n",
       " 'HF POTENTIAL ENERGY': -151.71896855219114,\n",
       " 'HF TOTAL ENERGY': -76.00688623049763,\n",
       " 'HF VIRIAL RATIO': 2.0038937498449916,\n",
       " 'NUCLEAR REPULSION ENERGY': 8.941189202753957,\n",
       " 'ONE-ELECTRON ENERGY': -122.62733060211329,\n",
       " 'PCM POLARIZATION ENERGY': 0.0,\n",
       " 'PE ENERGY': 0.0,\n",
       " 'SCF ITERATION ENERGY': -76.00688623049763,\n",
       " 'SCF ITERATIONS': 8.0,\n",
       " 'SCF TOTAL ENERGY': -76.00688623049763,\n",
       " 'TWO-ELECTRON ENERGY': 37.679255168861694,\n",
       " 'HF DIPOLE': array([ 0.00408617, -0.83522958,  0.        ]),\n",
       " 'HF QUADRUPOLE': array([[-2.78962776e+00,  4.75167568e-03,  0.00000000e+00],\n",
       "        [ 4.75167568e-03, -5.40692800e+00,  0.00000000e+00],\n",
       "        [ 0.00000000e+00,  0.00000000e+00, -5.41213293e+00]]),\n",
       " 'LOWDIN CHARGES': array([ 0.36108223, -0.72231233,  0.3612301 ]),\n",
       " 'MBIS CHARGES': array([[ 0.46457588],\n",
       "        [-0.92803681],\n",
       "        [ 0.46346084]]),\n",
       " 'MBIS DIPOLES': array([[-2.01864290e-02,  7.31481669e-04, -4.58530648e-16],\n",
       "        [-8.96320526e-04,  1.35494942e-01, -1.02401817e-15],\n",
       "        [ 2.03514443e-02,  8.15247025e-04,  1.26333295e-16]]),\n",
       " 'MBIS OCTUPOLES': array([[[[-2.47423681e-02,  3.17520881e-03, -4.15577920e-17],\n",
       "          [ 3.17520881e-03, -1.09086801e-02, -7.30112480e-16],\n",
       "          [-4.15577920e-17, -7.30112480e-16, -1.08872072e-02]],\n",
       " \n",
       "         [[ 3.17520881e-03, -1.09086801e-02, -7.30112480e-16],\n",
       "          [-1.09086801e-02,  9.90390205e-03, -4.37295146e-15],\n",
       "          [-7.30112480e-16, -4.37295146e-15,  7.79411957e-04]],\n",
       " \n",
       "         [[-4.15577920e-17, -7.30112480e-16, -1.08872072e-02],\n",
       "          [-7.30112480e-16, -4.37295146e-15,  7.79411957e-04],\n",
       "          [-1.08872072e-02,  7.79411957e-04, -3.31510674e-17]]],\n",
       " \n",
       " \n",
       "        [[[-7.76094285e-03,  3.91114582e-01, -4.07364536e-15],\n",
       "          [ 3.91114582e-01, -4.80041706e-04, -5.93541499e-16],\n",
       "          [-4.07364536e-15, -5.93541499e-16, -2.28133029e-03]],\n",
       " \n",
       "         [[ 3.91114582e-01, -4.80041706e-04, -5.93541499e-16],\n",
       "          [-4.80041706e-04,  4.90402600e-01, -1.88371716e-14],\n",
       "          [-5.93541499e-16, -1.88371716e-14,  1.19589947e-01]],\n",
       " \n",
       "         [[-4.07364536e-15, -5.93541499e-16, -2.28133029e-03],\n",
       "          [-5.93541499e-16, -1.88371716e-14,  1.19589947e-01],\n",
       "          [-2.28133029e-03,  1.19589947e-01, -4.90170474e-16]]],\n",
       " \n",
       " \n",
       "        [[[ 2.49307882e-02,  3.15906823e-03, -5.99109669e-17],\n",
       "          [ 3.15906823e-03,  1.10112553e-02,  9.42279375e-16],\n",
       "          [-5.99109669e-17,  9.42279375e-16,  1.09673771e-02]],\n",
       " \n",
       "         [[ 3.15906823e-03,  1.10112553e-02,  9.42279375e-16],\n",
       "          [ 1.10112553e-02,  1.02682277e-02, -4.22776639e-15],\n",
       "          [ 9.42279375e-16, -4.22776639e-15,  8.80509364e-04]],\n",
       " \n",
       "         [[-5.99109669e-17,  9.42279375e-16,  1.09673771e-02],\n",
       "          [ 9.42279375e-16, -4.22776639e-15,  8.80509364e-04],\n",
       "          [ 1.09673771e-02,  8.80509364e-04, -6.92013380e-17]]]]),\n",
       " 'MBIS QUADRUPOLES': array([[[-2.44526441e-01, -1.92142965e-03,  2.42888104e-16],\n",
       "         [-1.92142965e-03, -2.40525249e-01,  9.65235043e-16],\n",
       "         [ 2.42888104e-16,  9.65235043e-16, -2.49256924e-01]],\n",
       " \n",
       "        [[-4.60488438e+00,  6.33244257e-04,  1.50421516e-15],\n",
       "         [ 6.33244257e-04, -4.77221371e+00,  3.49333554e-15],\n",
       "         [ 1.50421516e-15,  3.49333554e-15, -4.91111602e+00]],\n",
       " \n",
       "        [[-2.46903142e-01,  1.82558118e-03, -1.49853864e-16],\n",
       "         [ 1.82558118e-03, -2.42847379e-01,  1.27428000e-15],\n",
       "         [-1.49853864e-16,  1.27428000e-15, -2.51759608e-01]]]),\n",
       " 'MBIS RADIAL MOMENTS <R^2>': <psi4.core.Matrix at 0x14e245fd0>,\n",
       " 'MBIS RADIAL MOMENTS <R^3>': <psi4.core.Matrix at 0x14e2461b0>,\n",
       " 'MBIS RADIAL MOMENTS <R^4>': <psi4.core.Matrix at 0x16441e2d0>,\n",
       " 'MBIS VALENCE WIDTHS': <psi4.core.Matrix at 0x16441e930>,\n",
       " 'MULLIKEN CHARGES': array([ 0.43907508, -0.87763326,  0.43855818])}"
      ]
     },
     "execution_count": 22,
     "metadata": {},
     "output_type": "execute_result"
    }
   ],
   "source": [
    "import os\n",
    "import sys\n",
    "import random\n",
    "import numpy as np\n",
    "\n",
    "from tqdm import tqdm\n",
    "from rdkit.Chem import AllChem\n",
    "from rdkit.Chem.rdForceFieldHelpers import MMFFOptimizeMolecule\n",
    "\n",
    "from openff.units.elements import SYMBOLS\n",
    "from openff.toolkit import Molecule\n",
    "from openff.recharge.conformers import ConformerGenerator, ConformerSettings\n",
    "from openff.storage.ddx_storage import ESPSettings\n",
    "\n",
    "from openff.recharge.esp.storage import MoleculeESPRecord, MoleculeESPStore\n",
    "from openff.recharge.grids import LatticeGridSettings, GridSettingsType, GridGenerator\n",
    "from openff.recharge.utilities.molecule import smiles_to_molecule\n",
    "from qcelemental.models.procedures import OptimizationInput, QCInputSpecification\n",
    "from openff.units import unit\n",
    "from qcelemental.models.common_models import Model\n",
    "\n",
    "sys.path.append('/Users/localadmin/Documents/projects/QM_ESP_Psi4')\n",
    "\n",
    "from source.optimize.openff_psi4_gen import Psi4Generate\n",
    "from source.conformers.conformer_gen import Conformers\n",
    "from source.utilities.conversion_functions import conf_to_xyz_string\n",
    "\n",
    "\n",
    "import psi4\n",
    "\n",
    "sys.settrace \n",
    "\n",
    "test_mol =  smiles_to_molecule('[H]O[H]')\n",
    "\n",
    "#generate water test molecule as openff.toolkit.Molecule\n",
    "test_mol =  smiles_to_molecule('[H]O[H]')\n",
    "conformer_list = Conformers.generate(test_mol, generation_type='rdkit')\n",
    "conformer_list[0]\n",
    "qc_mol =  test_mol.to_qcschema(conformer=0)\n",
    "\n",
    "#Generate grid.dat file for grid_esp and grid_field\n",
    "grid_settings = LatticeGridSettings(\n",
    "        type=\"fcc\", spacing=0.5, inner_vdw_scale=1.4, outer_vdw_scale=2.0\n",
    "    )\n",
    "grid = GridGenerator.generate(test_mol, conformer_list[0], grid_settings)\n",
    "\n",
    "grid = grid.to(unit.angstrom).m\n",
    "np.savetxt(\"grid.dat\", grid, delimiter=\" \", fmt=\"%16.10f\")\n",
    "\n",
    "\n",
    "esp_settings = ESPSettings(basis=\"6-31G*\", method=\"hf\", grid_settings=grid_settings)\n",
    "\n",
    "xyz = conformer_string = conf_to_xyz_string(conformer_list[0], test_mol)\n",
    "\n",
    "psi4.set_output_file('output.dat')\n",
    "\n",
    "molecule = psi4.core.Molecule.from_string(\"\"\"\n",
    "                                            nocom\n",
    "                                            noreorient\n",
    "                                            H\t-0.81024874\t-0.18571238\t-0.0\n",
    "                                            O\t-0.00248133\t0.36959931\t-0.0\n",
    "                                            H\t0.81273007\t-0.18388693\t0.0 \n",
    "                                          \"\"\")\n",
    "\n",
    "molecule.set_molecular_charge(0)\n",
    "molecule.set_multiplicity(1)\n",
    "\n",
    "psi4.set_options({\"DFT_SPHERICAL_POINTS\":\"590\",\n",
    "                  \"DFT_RADIAL_POINTS\":\"99\"})\n",
    "\n",
    "E, wfn = psi4.prop('hf/6-31G*', properties=[\"GRID_ESP\", \n",
    "                                            \"GRID_FIELD\",\n",
    "                                            \"MULLIKEN_CHARGES\", \n",
    "                                            \"LOWDIN_CHARGES\", \n",
    "                                            \"DIPOLE\", \n",
    "                                            \"QUADRUPOLE\", \n",
    "                                            \"MBIS_CHARGES\"],\n",
    "                                            molecule = molecule, \n",
    "                                            return_wfn = True,\n",
    "                                            )  #\"GRID_ESP\", \"GRID_FIELD\"\n",
    "psi4.core.variables(['MBIS Charges'])\n",
    "wfn.variables()\n"
   ]
  },
  {
   "cell_type": "code",
   "execution_count": 23,
   "metadata": {},
   "outputs": [
    {
     "data": {
      "text/plain": [
       "-76.00688623049763"
      ]
     },
     "execution_count": 23,
     "metadata": {},
     "output_type": "execute_result"
    }
   ],
   "source": [
    "E"
   ]
  },
  {
   "cell_type": "code",
   "execution_count": null,
   "metadata": {},
   "outputs": [
    {
     "ename": "",
     "evalue": "",
     "output_type": "error",
     "traceback": [
      "\u001b[1;31mRunning cells with '/Users/localadmin/miniconda3/envs/openff/bin/python' requires the ipykernel package.\n",
      "\u001b[1;31mRun the following command to install 'ipykernel' into the Python environment. \n",
      "\u001b[1;31mCommand: 'conda install -p /Users/localadmin/miniconda3/envs/openff ipykernel --update-deps --force-reinstall'"
     ]
    }
   ],
   "source": [
    "wfn.variables()"
   ]
  },
  {
   "cell_type": "code",
   "execution_count": null,
   "metadata": {},
   "outputs": [
    {
     "ename": "",
     "evalue": "",
     "output_type": "error",
     "traceback": [
      "\u001b[1;31mRunning cells with '/Users/localadmin/miniconda3/envs/openff/bin/python' requires the ipykernel package.\n",
      "\u001b[1;31mRun the following command to install 'ipykernel' into the Python environment. \n",
      "\u001b[1;31mCommand: 'conda install -p /Users/localadmin/miniconda3/envs/openff ipykernel --update-deps --force-reinstall'"
     ]
    }
   ],
   "source": [
    "molecule = psi4.core.Molecule.from_string(\"\"\"\n",
    "                                            nocom\n",
    "                                            noreorient\n",
    "                                            H\t-0.81024874\t-0.18571238\t-0.0\n",
    "                                            O\t-0.00248133\t0.36959931\t-0.0\n",
    "                                            H\t0.81273007\t-0.18388693\t0.0 \n",
    "                                          \"\"\")\n",
    "\n",
    "molecule.to_string('xyz')\n"
   ]
  },
  {
   "cell_type": "code",
   "execution_count": 51,
   "metadata": {},
   "outputs": [
    {
     "name": "stderr",
     "output_type": "stream",
     "text": [
      "/var/folders/5m/c625w21d6q3cgv41hc6yjs100000gq/T/ipykernel_61022/1490584054.py:1: FutureWarning: Using QCVariable `MULLIKEN_CHARGES` instead of `MULLIKEN CHARGES` is deprecated, and as soon as 1.5 it will stop working\n",
      "\n",
      "  mulliken_charges = wfn.variable(\"MULLIKEN_CHARGES\")\n",
      "/var/folders/5m/c625w21d6q3cgv41hc6yjs100000gq/T/ipykernel_61022/1490584054.py:2: FutureWarning: Using QCVariable `LOWDIN_CHARGES` instead of `LOWDIN CHARGES` is deprecated, and as soon as 1.5 it will stop working\n",
      "\n",
      "  lowdin_charges = wfn.variable(\"LOWDIN_CHARGES\")\n"
     ]
    }
   ],
   "source": [
    "mulliken_charges = wfn.variable(\"MULLIKEN_CHARGES\")\n",
    "lowdin_charges = wfn.variable(\"LOWDIN_CHARGES\")\n",
    "dipole = wfn.variable(\"HF DIPOLE\")\n",
    "quadrupole = wfn.variable(\"HF QUADRUPOLE\")\n",
    "mbis_charges = wfn.variable(\"MBIS CHARGES\")\n",
    "mbis_dipole = wfn.variable(\"MBIS DIPOLES\")\n",
    "mbis_quadropole = wfn.variable(\"MBIS QUADRUPOLES\")\n",
    "mbis_octopoles = wfn.variable(\"MBIS OCTUPOLES\")"
   ]
  },
  {
   "cell_type": "code",
   "execution_count": 55,
   "metadata": {},
   "outputs": [
    {
     "ename": "KeyError",
     "evalue": "\"psi4.core.Wavefunction.variable: Requested variable 'MBIS Radial Moments' was not set!\\n\"",
     "output_type": "error",
     "traceback": [
      "\u001b[0;31m---------------------------------------------------------------------------\u001b[0m",
      "\u001b[0;31mKeyError\u001b[0m                                  Traceback (most recent call last)",
      "\u001b[1;32m/Users/localadmin/Documents/projects/QM_ESP_Psi4/examples/notebook_test.ipynb Cell 18\u001b[0m line \u001b[0;36m1\n\u001b[0;32m----> <a href='vscode-notebook-cell:/Users/localadmin/Documents/projects/QM_ESP_Psi4/examples/notebook_test.ipynb#Y424sZmlsZQ%3D%3D?line=0'>1</a>\u001b[0m wfn\u001b[39m.\u001b[39;49mvariable(\u001b[39m\"\u001b[39;49m\u001b[39mMBIS Radial Moments\u001b[39;49m\u001b[39m\"\u001b[39;49m)\n",
      "File \u001b[0;32m~/mambaforge/envs/openff/lib/python3.11/site-packages/psi4/driver/p4util/python_helpers.py:1183\u001b[0m, in \u001b[0;36m_core_wavefunction_variable\u001b[0;34m(self, key)\u001b[0m\n\u001b[1;32m   1181\u001b[0m     \u001b[39mreturn\u001b[39;00m _qcvar_reshape_get(key, \u001b[39mself\u001b[39m\u001b[39m.\u001b[39marray_variable(key))\n\u001b[1;32m   1182\u001b[0m \u001b[39melse\u001b[39;00m:\n\u001b[0;32m-> 1183\u001b[0m     \u001b[39mraise\u001b[39;00m \u001b[39mKeyError\u001b[39;00m(\u001b[39mf\u001b[39m\u001b[39m\"\u001b[39m\u001b[39mpsi4.core.Wavefunction.variable: Requested variable \u001b[39m\u001b[39m'\u001b[39m\u001b[39m{\u001b[39;00mkey\u001b[39m}\u001b[39;00m\u001b[39m'\u001b[39m\u001b[39m was not set!\u001b[39m\u001b[39m\\n\u001b[39;00m\u001b[39m\"\u001b[39m)\n",
      "\u001b[0;31mKeyError\u001b[0m: \"psi4.core.Wavefunction.variable: Requested variable 'MBIS Radial Moments' was not set!\\n\""
     ]
    }
   ],
   "source": [
    "wfn.variable(\"MBIS Radial Moments\")"
   ]
  },
  {
   "cell_type": "code",
   "execution_count": 52,
   "metadata": {},
   "outputs": [
    {
     "data": {
      "text/plain": [
       "array([[[-2.44526441e-01, -1.92142965e-03,  2.42888104e-16],\n",
       "        [-1.92142965e-03, -2.40525249e-01,  9.65235043e-16],\n",
       "        [ 2.42888104e-16,  9.65235043e-16, -2.49256924e-01]],\n",
       "\n",
       "       [[-4.60488438e+00,  6.33244257e-04,  1.50421516e-15],\n",
       "        [ 6.33244257e-04, -4.77221371e+00,  3.49333554e-15],\n",
       "        [ 1.50421516e-15,  3.49333554e-15, -4.91111602e+00]],\n",
       "\n",
       "       [[-2.46903142e-01,  1.82558118e-03, -1.49853864e-16],\n",
       "        [ 1.82558118e-03, -2.42847379e-01,  1.27428000e-15],\n",
       "        [-1.49853864e-16,  1.27428000e-15, -2.51759608e-01]]])"
      ]
     },
     "execution_count": 52,
     "metadata": {},
     "output_type": "execute_result"
    }
   ],
   "source": [
    "mbis_quadropole"
   ]
  },
  {
   "cell_type": "code",
   "execution_count": null,
   "metadata": {},
   "outputs": [
    {
     "ename": "",
     "evalue": "",
     "output_type": "error",
     "traceback": [
      "\u001b[1;31mRunning cells with '/Users/localadmin/miniconda3/envs/openff/bin/python' requires the ipykernel package.\n",
      "\u001b[1;31mRun the following command to install 'ipykernel' into the Python environment. \n",
      "\u001b[1;31mCommand: 'conda install -p /Users/localadmin/miniconda3/envs/openff ipykernel --update-deps --force-reinstall'"
     ]
    }
   ],
   "source": [
    "variable_names = [\"MULLIKEN_CHARGES\", \"LOWDIN_CHARGES\", \"HF DIPOLE\", \"HF QUADRUPOLE\", \"MBIS CHARGES\"]\n",
    "variables = {name: wfn.variable(name) for name in variable_names}"
   ]
  },
  {
   "cell_type": "code",
   "execution_count": null,
   "metadata": {},
   "outputs": [
    {
     "ename": "",
     "evalue": "",
     "output_type": "error",
     "traceback": [
      "\u001b[1;31mRunning cells with '/Users/localadmin/miniconda3/envs/openff/bin/python' requires the ipykernel package.\n",
      "\u001b[1;31mRun the following command to install 'ipykernel' into the Python environment. \n",
      "\u001b[1;31mCommand: 'conda install -p /Users/localadmin/miniconda3/envs/openff ipykernel --update-deps --force-reinstall'"
     ]
    }
   ],
   "source": [
    "from qcelemental.models import Molecule as QCMol\n",
    "qc_mol =  test_mol.to_qcschema(conformer=0)\n",
    "qc_mol = QCMol(**qc_mol.dict(exclude={\"fix_com\", \"fix_orientation\"}), fix_com=True, fix_orientation=True)\n",
    "molecule = psi4.geometry(qc_mol.to_string(\"psi4\"))\n",
    "qc_mol.geometry"
   ]
  },
  {
   "cell_type": "code",
   "execution_count": 2,
   "metadata": {},
   "outputs": [
    {
     "name": "stdout",
     "output_type": "stream",
     "text": [
      "rdkit has generated 10 conformers from a requested 10 conformers\n"
     ]
    },
    {
     "name": "stderr",
     "output_type": "stream",
     "text": [
      "/Users/localadmin/Documents/projects/QM_ESP_Psi4/source/optimize/esp_generator_wrapper.py:147: FutureWarning: Using the `local_options` keyword argument is depreciated in favor of using `task_config`, in version 0.30.0 it will stop working.\n",
      "  opt = qcengine.compute_procedure(opt_spec, \"geometric\", local_options = { \"memory\": self.memory, \"ncores\": self.ncores})\n"
     ]
    },
    {
     "name": "stdout",
     "output_type": "stream",
     "text": [
      "number of cores is 4\n",
      "memory is 2000000000.0\n",
      "conformer 0 for [H][O][C]([H])([H])[C]([H])([O][H])[C]([H])([H])[O][H]\n",
      "Intel MKL WARNING: Support of Intel(R) Streaming SIMD Extensions 4.2 (Intel(R) SSE4.2) enabled only processors has been deprecated. Intel oneAPI Math Kernel Library 2025.0 will require Intel(R) Advanced Vector Extensions (Intel(R) AVX) instructions.\n",
      "Intel MKL WARNING: Support of Intel(R) Streaming SIMD Extensions 4.2 (Intel(R) SSE4.2) enabled only processors has been deprecated. Intel oneAPI Math Kernel Library 2025.0 will require Intel(R) Advanced Vector Extensions (Intel(R) AVX) instructions.\n",
      "Intel MKL WARNING: Support of Intel(R) Streaming SIMD Extensions 4.2 (Intel(R) SSE4.2) enabled only processors has been deprecated. Intel oneAPI Math Kernel Library 2025.0 will require Intel(R) Advanced Vector Extensions (Intel(R) AVX) instructions.\n",
      "Intel MKL WARNING: Support of Intel(R) Streaming SIMD Extensions 4.2 (Intel(R) SSE4.2) enabled only processors has been deprecated. Intel oneAPI Math Kernel Library 2025.0 will require Intel(R) Advanced Vector Extensions (Intel(R) AVX) instructions.\n",
      "Intel MKL WARNING: Support of Intel(R) Streaming SIMD Extensions 4.2 (Intel(R) SSE4.2) enabled only processors has been deprecated. Intel oneAPI Math Kernel Library 2025.0 will require Intel(R) Advanced Vector Extensions (Intel(R) AVX) instructions.\n",
      "Intel MKL WARNING: Support of Intel(R) Streaming SIMD Extensions 4.2 (Intel(R) SSE4.2) enabled only processors has been deprecated. Intel oneAPI Math Kernel Library 2025.0 will require Intel(R) Advanced Vector Extensions (Intel(R) AVX) instructions.\n",
      "Intel MKL WARNING: Support of Intel(R) Streaming SIMD Extensions 4.2 (Intel(R) SSE4.2) enabled only processors has been deprecated. Intel oneAPI Math Kernel Library 2025.0 will require Intel(R) Advanced Vector Extensions (Intel(R) AVX) instructions.\n",
      "Intel MKL WARNING: Support of Intel(R) Streaming SIMD Extensions 4.2 (Intel(R) SSE4.2) enabled only processors has been deprecated. Intel oneAPI Math Kernel Library 2025.0 will require Intel(R) Advanced Vector Extensions (Intel(R) AVX) instructions.\n",
      "Intel MKL WARNING: Support of Intel(R) Streaming SIMD Extensions 4.2 (Intel(R) SSE4.2) enabled only processors has been deprecated. Intel oneAPI Math Kernel Library 2025.0 will require Intel(R) Advanced Vector Extensions (Intel(R) AVX) instructions.\n",
      "Intel MKL WARNING: Support of Intel(R) Streaming SIMD Extensions 4.2 (Intel(R) SSE4.2) enabled only processors has been deprecated. Intel oneAPI Math Kernel Library 2025.0 will require Intel(R) Advanced Vector Extensions (Intel(R) AVX) instructions.\n",
      "Intel MKL WARNING: Support of Intel(R) Streaming SIMD Extensions 4.2 (Intel(R) SSE4.2) enabled only processors has been deprecated. Intel oneAPI Math Kernel Library 2025.0 will require Intel(R) Advanced Vector Extensions (Intel(R) AVX) instructions.\n",
      "Intel MKL WARNING: Support of Intel(R) Streaming SIMD Extensions 4.2 (Intel(R) SSE4.2) enabled only processors has been deprecated. Intel oneAPI Math Kernel Library 2025.0 will require Intel(R) Advanced Vector Extensions (Intel(R) AVX) instructions.\n",
      "Intel MKL WARNING: Support of Intel(R) Streaming SIMD Extensions 4.2 (Intel(R) SSE4.2) enabled only processors has been deprecated. Intel oneAPI Math Kernel Library 2025.0 will require Intel(R) Advanced Vector Extensions (Intel(R) AVX) instructions.\n",
      "Intel MKL WARNING: Support of Intel(R) Streaming SIMD Extensions 4.2 (Intel(R) SSE4.2) enabled only processors has been deprecated. Intel oneAPI Math Kernel Library 2025.0 will require Intel(R) Advanced Vector Extensions (Intel(R) AVX) instructions.\n",
      "Intel MKL WARNING: Support of Intel(R) Streaming SIMD Extensions 4.2 (Intel(R) SSE4.2) enabled only processors has been deprecated. Intel oneAPI Math Kernel Library 2025.0 will require Intel(R) Advanced Vector Extensions (Intel(R) AVX) instructions.\n",
      "Intel MKL WARNING: Support of Intel(R) Streaming SIMD Extensions 4.2 (Intel(R) SSE4.2) enabled only processors has been deprecated. Intel oneAPI Math Kernel Library 2025.0 will require Intel(R) Advanced Vector Extensions (Intel(R) AVX) instructions.\n",
      "Intel MKL WARNING: Support of Intel(R) Streaming SIMD Extensions 4.2 (Intel(R) SSE4.2) enabled only processors has been deprecated. Intel oneAPI Math Kernel Library 2025.0 will require Intel(R) Advanced Vector Extensions (Intel(R) AVX) instructions.\n",
      "Intel MKL WARNING: Support of Intel(R) Streaming SIMD Extensions 4.2 (Intel(R) SSE4.2) enabled only processors has been deprecated. Intel oneAPI Math Kernel Library 2025.0 will require Intel(R) Advanced Vector Extensions (Intel(R) AVX) instructions.\n",
      "Intel MKL WARNING: Support of Intel(R) Streaming SIMD Extensions 4.2 (Intel(R) SSE4.2) enabled only processors has been deprecated. Intel oneAPI Math Kernel Library 2025.0 will require Intel(R) Advanced Vector Extensions (Intel(R) AVX) instructions.\n",
      "Intel MKL WARNING: Support of Intel(R) Streaming SIMD Extensions 4.2 (Intel(R) SSE4.2) enabled only processors has been deprecated. Intel oneAPI Math Kernel Library 2025.0 will require Intel(R) Advanced Vector Extensions (Intel(R) AVX) instructions.\n",
      "Intel MKL WARNING: Support of Intel(R) Streaming SIMD Extensions 4.2 (Intel(R) SSE4.2) enabled only processors has been deprecated. Intel oneAPI Math Kernel Library 2025.0 will require Intel(R) Advanced Vector Extensions (Intel(R) AVX) instructions.\n",
      "Intel MKL WARNING: Support of Intel(R) Streaming SIMD Extensions 4.2 (Intel(R) SSE4.2) enabled only processors has been deprecated. Intel oneAPI Math Kernel Library 2025.0 will require Intel(R) Advanced Vector Extensions (Intel(R) AVX) instructions.\n",
      "Intel MKL WARNING: Support of Intel(R) Streaming SIMD Extensions 4.2 (Intel(R) SSE4.2) enabled only processors has been deprecated. Intel oneAPI Math Kernel Library 2025.0 will require Intel(R) Advanced Vector Extensions (Intel(R) AVX) instructions.\n",
      "Intel MKL WARNING: Support of Intel(R) Streaming SIMD Extensions 4.2 (Intel(R) SSE4.2) enabled only processors has been deprecated. Intel oneAPI Math Kernel Library 2025.0 will require Intel(R) Advanced Vector Extensions (Intel(R) AVX) instructions.\n",
      "Intel MKL WARNING: Support of Intel(R) Streaming SIMD Extensions 4.2 (Intel(R) SSE4.2) enabled only processors has been deprecated. Intel oneAPI Math Kernel Library 2025.0 will require Intel(R) Advanced Vector Extensions (Intel(R) AVX) instructions.\n",
      "Intel MKL WARNING: Support of Intel(R) Streaming SIMD Extensions 4.2 (Intel(R) SSE4.2) enabled only processors has been deprecated. Intel oneAPI Math Kernel Library 2025.0 will require Intel(R) Advanced Vector Extensions (Intel(R) AVX) instructions.\n",
      "Intel MKL WARNING: Support of Intel(R) Streaming SIMD Extensions 4.2 (Intel(R) SSE4.2) enabled only processors has been deprecated. Intel oneAPI Math Kernel Library 2025.0 will require Intel(R) Advanced Vector Extensions (Intel(R) AVX) instructions.\n",
      "Intel MKL WARNING: Support of Intel(R) Streaming SIMD Extensions 4.2 (Intel(R) SSE4.2) enabled only processors has been deprecated. Intel oneAPI Math Kernel Library 2025.0 will require Intel(R) Advanced Vector Extensions (Intel(R) AVX) instructions.\n",
      "Intel MKL WARNING: Support of Intel(R) Streaming SIMD Extensions 4.2 (Intel(R) SSE4.2) enabled only processors has been deprecated. Intel oneAPI Math Kernel Library 2025.0 will require Intel(R) Advanced Vector Extensions (Intel(R) AVX) instructions.\n",
      "Intel MKL WARNING: Support of Intel(R) Streaming SIMD Extensions 4.2 (Intel(R) SSE4.2) enabled only processors has been deprecated. Intel oneAPI Math Kernel Library 2025.0 will require Intel(R) Advanced Vector Extensions (Intel(R) AVX) instructions.\n",
      "Intel MKL WARNING: Support of Intel(R) Streaming SIMD Extensions 4.2 (Intel(R) SSE4.2) enabled only processors has been deprecated. Intel oneAPI Math Kernel Library 2025.0 will require Intel(R) Advanced Vector Extensions (Intel(R) AVX) instructions.\n",
      "Intel MKL WARNING: Support of Intel(R) Streaming SIMD Extensions 4.2 (Intel(R) SSE4.2) enabled only processors has been deprecated. Intel oneAPI Math Kernel Library 2025.0 will require Intel(R) Advanced Vector Extensions (Intel(R) AVX) instructions.\n",
      "Intel MKL WARNING: Support of Intel(R) Streaming SIMD Extensions 4.2 (Intel(R) SSE4.2) enabled only processors has been deprecated. Intel oneAPI Math Kernel Library 2025.0 will require Intel(R) Advanced Vector Extensions (Intel(R) AVX) instructions.\n",
      "Intel MKL WARNING: Support of Intel(R) Streaming SIMD Extensions 4.2 (Intel(R) SSE4.2) enabled only processors has been deprecated. Intel oneAPI Math Kernel Library 2025.0 will require Intel(R) Advanced Vector Extensions (Intel(R) AVX) instructions.\n",
      "Intel MKL WARNING: Support of Intel(R) Streaming SIMD Extensions 4.2 (Intel(R) SSE4.2) enabled only processors has been deprecated. Intel oneAPI Math Kernel Library 2025.0 will require Intel(R) Advanced Vector Extensions (Intel(R) AVX) instructions.\n",
      "Intel MKL WARNING: Support of Intel(R) Streaming SIMD Extensions 4.2 (Intel(R) SSE4.2) enabled only processors has been deprecated. Intel oneAPI Math Kernel Library 2025.0 will require Intel(R) Advanced Vector Extensions (Intel(R) AVX) instructions.\n",
      "Intel MKL WARNING: Support of Intel(R) Streaming SIMD Extensions 4.2 (Intel(R) SSE4.2) enabled only processors has been deprecated. Intel oneAPI Math Kernel Library 2025.0 will require Intel(R) Advanced Vector Extensions (Intel(R) AVX) instructions.\n",
      "Intel MKL WARNING: Support of Intel(R) Streaming SIMD Extensions 4.2 (Intel(R) SSE4.2) enabled only processors has been deprecated. Intel oneAPI Math Kernel Library 2025.0 will require Intel(R) Advanced Vector Extensions (Intel(R) AVX) instructions.\n",
      "Intel MKL WARNING: Support of Intel(R) Streaming SIMD Extensions 4.2 (Intel(R) SSE4.2) enabled only processors has been deprecated. Intel oneAPI Math Kernel Library 2025.0 will require Intel(R) Advanced Vector Extensions (Intel(R) AVX) instructions.\n",
      "Intel MKL WARNING: Support of Intel(R) Streaming SIMD Extensions 4.2 (Intel(R) SSE4.2) enabled only processors has been deprecated. Intel oneAPI Math Kernel Library 2025.0 will require Intel(R) Advanced Vector Extensions (Intel(R) AVX) instructions.\n",
      "Intel MKL WARNING: Support of Intel(R) Streaming SIMD Extensions 4.2 (Intel(R) SSE4.2) enabled only processors has been deprecated. Intel oneAPI Math Kernel Library 2025.0 will require Intel(R) Advanced Vector Extensions (Intel(R) AVX) instructions.\n",
      "Intel MKL WARNING: Support of Intel(R) Streaming SIMD Extensions 4.2 (Intel(R) SSE4.2) enabled only processors has been deprecated. Intel oneAPI Math Kernel Library 2025.0 will require Intel(R) Advanced Vector Extensions (Intel(R) AVX) instructions.\n",
      "Intel MKL WARNING: Support of Intel(R) Streaming SIMD Extensions 4.2 (Intel(R) SSE4.2) enabled only processors has been deprecated. Intel oneAPI Math Kernel Library 2025.0 will require Intel(R) Advanced Vector Extensions (Intel(R) AVX) instructions.\n",
      "Intel MKL WARNING: Support of Intel(R) Streaming SIMD Extensions 4.2 (Intel(R) SSE4.2) enabled only processors has been deprecated. Intel oneAPI Math Kernel Library 2025.0 will require Intel(R) Advanced Vector Extensions (Intel(R) AVX) instructions.\n",
      "Intel MKL WARNING: Support of Intel(R) Streaming SIMD Extensions 4.2 (Intel(R) SSE4.2) enabled only processors has been deprecated. Intel oneAPI Math Kernel Library 2025.0 will require Intel(R) Advanced Vector Extensions (Intel(R) AVX) instructions.\n",
      "Intel MKL WARNING: Support of Intel(R) Streaming SIMD Extensions 4.2 (Intel(R) SSE4.2) enabled only processors has been deprecated. Intel oneAPI Math Kernel Library 2025.0 will require Intel(R) Advanced Vector Extensions (Intel(R) AVX) instructions.\n",
      "Intel MKL WARNING: Support of Intel(R) Streaming SIMD Extensions 4.2 (Intel(R) SSE4.2) enabled only processors has been deprecated. Intel oneAPI Math Kernel Library 2025.0 will require Intel(R) Advanced Vector Extensions (Intel(R) AVX) instructions.\n",
      "Intel MKL WARNING: Support of Intel(R) Streaming SIMD Extensions 4.2 (Intel(R) SSE4.2) enabled only processors has been deprecated. Intel oneAPI Math Kernel Library 2025.0 will require Intel(R) Advanced Vector Extensions (Intel(R) AVX) instructions.\n"
     ]
    },
    {
     "ename": "KeyboardInterrupt",
     "evalue": "",
     "output_type": "error",
     "traceback": [
      "\u001b[0;31m---------------------------------------------------------------------------\u001b[0m",
      "\u001b[0;31mKeyboardInterrupt\u001b[0m                         Traceback (most recent call last)",
      "\u001b[1;32m/Users/localadmin/Documents/projects/QM_ESP_Psi4/examples/notebook_test.ipynb Cell 20\u001b[0m line \u001b[0;36m3\n\u001b[1;32m     <a href='vscode-notebook-cell:/Users/localadmin/Documents/projects/QM_ESP_Psi4/examples/notebook_test.ipynb#X25sZmlsZQ%3D%3D?line=33'>34</a>\u001b[0m \u001b[39mprint\u001b[39m(\u001b[39mf\u001b[39m\u001b[39m'\u001b[39m\u001b[39mnumber of cores is \u001b[39m\u001b[39m{\u001b[39;00mESP_gen\u001b[39m.\u001b[39mncores\u001b[39m}\u001b[39;00m\u001b[39m'\u001b[39m)\n\u001b[1;32m     <a href='vscode-notebook-cell:/Users/localadmin/Documents/projects/QM_ESP_Psi4/examples/notebook_test.ipynb#X25sZmlsZQ%3D%3D?line=34'>35</a>\u001b[0m \u001b[39mprint\u001b[39m(\u001b[39mf\u001b[39m\u001b[39m'\u001b[39m\u001b[39mmemory is \u001b[39m\u001b[39m{\u001b[39;00mESP_gen\u001b[39m.\u001b[39mmemory\u001b[39m}\u001b[39;00m\u001b[39m'\u001b[39m)\n\u001b[0;32m---> <a href='vscode-notebook-cell:/Users/localadmin/Documents/projects/QM_ESP_Psi4/examples/notebook_test.ipynb#X25sZmlsZQ%3D%3D?line=35'>36</a>\u001b[0m ESP_gen\u001b[39m.\u001b[39;49mrun_props()\n\u001b[1;32m     <a href='vscode-notebook-cell:/Users/localadmin/Documents/projects/QM_ESP_Psi4/examples/notebook_test.ipynb#X25sZmlsZQ%3D%3D?line=36'>37</a>\u001b[0m \u001b[39m#ESP_gen.fetch_data()\u001b[39;00m\n",
      "File \u001b[0;32m~/Documents/projects/QM_ESP_Psi4/source/optimize/esp_generator_wrapper.py:229\u001b[0m, in \u001b[0;36mPropGenerator.run_props\u001b[0;34m(self)\u001b[0m\n\u001b[1;32m    227\u001b[0m qc_mol \u001b[39m=\u001b[39m \u001b[39mself\u001b[39m\u001b[39m.\u001b[39mmolecule\u001b[39m.\u001b[39mto_qcschema(conformer\u001b[39m=\u001b[39mconf_no)\n\u001b[1;32m    228\u001b[0m \u001b[39m#run a ff optimize for each conformer to make sure the starting structure is sensible\u001b[39;00m\n\u001b[0;32m--> 229\u001b[0m xtb_opt_mol \u001b[39m=\u001b[39m \u001b[39mself\u001b[39;49m\u001b[39m.\u001b[39;49m_xtb_ff_opt(qc_mol)\n\u001b[1;32m    230\u001b[0m \u001b[39m#hf QM optimisation           \u001b[39;00m\n\u001b[1;32m    231\u001b[0m hf_opt_mol \u001b[39m=\u001b[39m \u001b[39mself\u001b[39m\u001b[39m.\u001b[39m_psi4_opt(qc_mol\u001b[39m=\u001b[39mxtb_opt_mol)\n",
      "File \u001b[0;32m~/Documents/projects/QM_ESP_Psi4/source/optimize/esp_generator_wrapper.py:130\u001b[0m, in \u001b[0;36mESPGenerator._xtb_ff_opt\u001b[0;34m(self, qc_mol)\u001b[0m\n\u001b[1;32m    128\u001b[0m xtb_model \u001b[39m=\u001b[39m Model(method\u001b[39m=\u001b[39m\u001b[39m\"\u001b[39m\u001b[39mgfn2-xtb\u001b[39m\u001b[39m\"\u001b[39m, basis\u001b[39m=\u001b[39m\u001b[39mNone\u001b[39;00m)\n\u001b[1;32m    129\u001b[0m keywords \u001b[39m=\u001b[39m {\u001b[39m\"\u001b[39m\u001b[39mverbosity\u001b[39m\u001b[39m\"\u001b[39m: \u001b[39m\"\u001b[39m\u001b[39mmuted\u001b[39m\u001b[39m\"\u001b[39m}\n\u001b[0;32m--> 130\u001b[0m \u001b[39mreturn\u001b[39;00m \u001b[39mself\u001b[39;49m\u001b[39m.\u001b[39;49m_qcengine_opt(\n\u001b[1;32m    131\u001b[0m     qc_mol\u001b[39m=\u001b[39;49mqc_mol, model\u001b[39m=\u001b[39;49mxtb_model, program\u001b[39m=\u001b[39;49m\u001b[39m\"\u001b[39;49m\u001b[39mxtb\u001b[39;49m\u001b[39m\"\u001b[39;49m, spec_keywords\u001b[39m=\u001b[39;49mkeywords\n\u001b[1;32m    132\u001b[0m )\n",
      "File \u001b[0;32m~/Documents/projects/QM_ESP_Psi4/source/optimize/esp_generator_wrapper.py:147\u001b[0m, in \u001b[0;36mESPGenerator._qcengine_opt\u001b[0;34m(self, qc_mol, model, program, spec_keywords)\u001b[0m\n\u001b[1;32m    138\u001b[0m spec \u001b[39m=\u001b[39m QCInputSpecification(model\u001b[39m=\u001b[39mmodel, keywords\u001b[39m=\u001b[39mspec_keywords, driver\u001b[39m=\u001b[39m\u001b[39m\"\u001b[39m\u001b[39mgradient\u001b[39m\u001b[39m\"\u001b[39m)\n\u001b[1;32m    139\u001b[0m opt_spec \u001b[39m=\u001b[39m OptimizationInput(\n\u001b[1;32m    140\u001b[0m     initial_molecule\u001b[39m=\u001b[39mqc_mol,\n\u001b[1;32m    141\u001b[0m     input_specification\u001b[39m=\u001b[39mspec,\n\u001b[0;32m   (...)\u001b[0m\n\u001b[1;32m    145\u001b[0m             \n\u001b[1;32m    146\u001b[0m )\n\u001b[0;32m--> 147\u001b[0m opt \u001b[39m=\u001b[39m qcengine\u001b[39m.\u001b[39;49mcompute_procedure(opt_spec, \u001b[39m\"\u001b[39;49m\u001b[39mgeometric\u001b[39;49m\u001b[39m\"\u001b[39;49m, local_options \u001b[39m=\u001b[39;49m { \u001b[39m\"\u001b[39;49m\u001b[39mmemory\u001b[39;49m\u001b[39m\"\u001b[39;49m: \u001b[39mself\u001b[39;49m\u001b[39m.\u001b[39;49mmemory, \u001b[39m\"\u001b[39;49m\u001b[39mncores\u001b[39;49m\u001b[39m\"\u001b[39;49m: \u001b[39mself\u001b[39;49m\u001b[39m.\u001b[39;49mncores})\n\u001b[1;32m    148\u001b[0m \u001b[39mprint\u001b[39m(opt)\n\u001b[1;32m    149\u001b[0m \u001b[39mreturn\u001b[39;00m opt\u001b[39m.\u001b[39mfinal_molecule\n",
      "File \u001b[0;32m~/mambaforge/envs/openff/lib/python3.11/site-packages/qcengine/compute.py:179\u001b[0m, in \u001b[0;36mcompute_procedure\u001b[0;34m(input_data, procedure, raise_error, task_config, local_options, return_dict)\u001b[0m\n\u001b[1;32m    177\u001b[0m     \u001b[39m# Set environment parameters and execute\u001b[39;00m\n\u001b[1;32m    178\u001b[0m     \u001b[39mwith\u001b[39;00m environ_context(config\u001b[39m=\u001b[39mconfig):\n\u001b[0;32m--> 179\u001b[0m         output_data \u001b[39m=\u001b[39m executor\u001b[39m.\u001b[39;49mcompute(input_data, config)\n\u001b[1;32m    181\u001b[0m \u001b[39mreturn\u001b[39;00m handle_output_metadata(output_data, metadata, raise_error\u001b[39m=\u001b[39mraise_error, return_dict\u001b[39m=\u001b[39mreturn_dict)\n",
      "File \u001b[0;32m~/mambaforge/envs/openff/lib/python3.11/site-packages/qcengine/procedures/geometric.py:57\u001b[0m, in \u001b[0;36mGeometricProcedure.compute\u001b[0;34m(self, input_model, config)\u001b[0m\n\u001b[1;32m     54\u001b[0m input_data[\u001b[39m\"\u001b[39m\u001b[39minput_specification\u001b[39m\u001b[39m\"\u001b[39m][\u001b[39m\"\u001b[39m\u001b[39mextras\u001b[39m\u001b[39m\"\u001b[39m][\u001b[39m\"\u001b[39m\u001b[39m_qcengine_local_config\u001b[39m\u001b[39m\"\u001b[39m] \u001b[39m=\u001b[39m local_config\n\u001b[1;32m     56\u001b[0m \u001b[39m# Run the program\u001b[39;00m\n\u001b[0;32m---> 57\u001b[0m output_data \u001b[39m=\u001b[39m geometric\u001b[39m.\u001b[39;49mrun_json\u001b[39m.\u001b[39;49mgeometric_run_json(input_data)\n\u001b[1;32m     59\u001b[0m output_data[\u001b[39m\"\u001b[39m\u001b[39mprovenance\u001b[39m\u001b[39m\"\u001b[39m] \u001b[39m=\u001b[39m {\n\u001b[1;32m     60\u001b[0m     \u001b[39m\"\u001b[39m\u001b[39mcreator\u001b[39m\u001b[39m\"\u001b[39m: \u001b[39m\"\u001b[39m\u001b[39mgeomeTRIC\u001b[39m\u001b[39m\"\u001b[39m,\n\u001b[1;32m     61\u001b[0m     \u001b[39m\"\u001b[39m\u001b[39mroutine\u001b[39m\u001b[39m\"\u001b[39m: \u001b[39m\"\u001b[39m\u001b[39mgeometric.run_json.geometric_run_json\u001b[39m\u001b[39m\"\u001b[39m,\n\u001b[1;32m     62\u001b[0m     \u001b[39m\"\u001b[39m\u001b[39mversion\u001b[39m\u001b[39m\"\u001b[39m: geometric\u001b[39m.\u001b[39m__version__,\n\u001b[1;32m     63\u001b[0m }\n\u001b[1;32m     65\u001b[0m output_data[\u001b[39m\"\u001b[39m\u001b[39mschema_name\u001b[39m\u001b[39m\"\u001b[39m] \u001b[39m=\u001b[39m \u001b[39m\"\u001b[39m\u001b[39mqcschema_optimization_output\u001b[39m\u001b[39m\"\u001b[39m\n",
      "File \u001b[0;32m~/mambaforge/envs/openff/lib/python3.11/site-packages/geometric/run_json.py:258\u001b[0m, in \u001b[0;36mgeometric_run_json\u001b[0;34m(in_json_dict)\u001b[0m\n\u001b[1;32m    255\u001b[0m \u001b[39mif\u001b[39;00m Cons \u001b[39mis\u001b[39;00m \u001b[39mNone\u001b[39;00m:\n\u001b[1;32m    256\u001b[0m     \u001b[39m# Run a standard geometry optimization\u001b[39;00m\n\u001b[1;32m    257\u001b[0m     params\u001b[39m.\u001b[39mxyzout \u001b[39m=\u001b[39m \u001b[39m\"\u001b[39m\u001b[39mqce_optim.xyz\u001b[39m\u001b[39m\"\u001b[39m\n\u001b[0;32m--> 258\u001b[0m     geometric\u001b[39m.\u001b[39;49moptimize\u001b[39m.\u001b[39;49mOptimize(coords, M, IC, engine, dirname, params)\n\u001b[1;32m    259\u001b[0m \u001b[39melse\u001b[39;00m:\n\u001b[1;32m    260\u001b[0m     \u001b[39m# Run a constrained geometry optimization\u001b[39;00m\n\u001b[1;32m    261\u001b[0m     \u001b[39mif\u001b[39;00m \u001b[39misinstance\u001b[39m(IC, (geometric\u001b[39m.\u001b[39minternal\u001b[39m.\u001b[39mCartesianCoordinates,\n\u001b[1;32m    262\u001b[0m                        geometric\u001b[39m.\u001b[39minternal\u001b[39m.\u001b[39mPrimitiveInternalCoordinates)):\n",
      "File \u001b[0;32m~/mambaforge/envs/openff/lib/python3.11/site-packages/geometric/optimize.py:779\u001b[0m, in \u001b[0;36mOptimize\u001b[0;34m(coords, molecule, IC, engine, dirname, params, print_info)\u001b[0m\n\u001b[1;32m    751\u001b[0m \u001b[39m\u001b[39m\u001b[39m\"\"\"\u001b[39;00m\n\u001b[1;32m    752\u001b[0m \u001b[39mOptimize the geometry of a molecule. This function used to contain the whole\u001b[39;00m\n\u001b[1;32m    753\u001b[0m \u001b[39moptimization loop, which has since been moved to the Optimizer() class;\u001b[39;00m\n\u001b[0;32m   (...)\u001b[0m\n\u001b[1;32m    776\u001b[0m \u001b[39m    A molecule object for opt trajectory and energies\u001b[39;00m\n\u001b[1;32m    777\u001b[0m \u001b[39m\"\"\"\u001b[39;00m\n\u001b[1;32m    778\u001b[0m optimizer \u001b[39m=\u001b[39m Optimizer(coords, molecule, IC, engine, dirname, params, print_info)\n\u001b[0;32m--> 779\u001b[0m \u001b[39mreturn\u001b[39;00m optimizer\u001b[39m.\u001b[39;49moptimizeGeometry()\n",
      "File \u001b[0;32m~/mambaforge/envs/openff/lib/python3.11/site-packages/geometric/optimize.py:695\u001b[0m, in \u001b[0;36mOptimizer.optimizeGeometry\u001b[0;34m(self)\u001b[0m\n\u001b[1;32m    693\u001b[0m \u001b[39mself\u001b[39m\u001b[39m.\u001b[39mprepareFirstStep()\n\u001b[1;32m    694\u001b[0m \u001b[39mwhile\u001b[39;00m \u001b[39mself\u001b[39m\u001b[39m.\u001b[39mstate \u001b[39mnot\u001b[39;00m \u001b[39min\u001b[39;00m [OPT_STATE\u001b[39m.\u001b[39mCONVERGED, OPT_STATE\u001b[39m.\u001b[39mFAILED]:\n\u001b[0;32m--> 695\u001b[0m     \u001b[39mself\u001b[39;49m\u001b[39m.\u001b[39;49mstep()\n\u001b[1;32m    696\u001b[0m     \u001b[39mif\u001b[39;00m \u001b[39mself\u001b[39m\u001b[39m.\u001b[39mstate \u001b[39m==\u001b[39m OPT_STATE\u001b[39m.\u001b[39mNEEDS_EVALUATION:\n\u001b[1;32m    697\u001b[0m         \u001b[39mself\u001b[39m\u001b[39m.\u001b[39mcalcEnergyForce()\n",
      "File \u001b[0;32m~/mambaforge/envs/openff/lib/python3.11/site-packages/geometric/optimize.py:427\u001b[0m, in \u001b[0;36mOptimizer.step\u001b[0;34m(self)\u001b[0m\n\u001b[1;32m    425\u001b[0m inorm \u001b[39m=\u001b[39m np\u001b[39m.\u001b[39mlinalg\u001b[39m.\u001b[39mnorm(dy)\n\u001b[1;32m    426\u001b[0m \u001b[39m# Cartesian coordinate step size\u001b[39;00m\n\u001b[0;32m--> 427\u001b[0m \u001b[39mself\u001b[39m\u001b[39m.\u001b[39mcnorm \u001b[39m=\u001b[39m \u001b[39mself\u001b[39;49m\u001b[39m.\u001b[39;49mget_cartesian_norm(dy)\n\u001b[1;32m    428\u001b[0m \u001b[39m# If the full-size step is within the trust radius, then call get_delta_prime again with diagnostic messages if needed\u001b[39;00m\n\u001b[1;32m    429\u001b[0m \u001b[39mif\u001b[39;00m (\u001b[39mself\u001b[39m\u001b[39m.\u001b[39mparams\u001b[39m.\u001b[39mverbose \u001b[39m>\u001b[39m\u001b[39m=\u001b[39m \u001b[39m2\u001b[39m \u001b[39mand\u001b[39;00m \u001b[39mself\u001b[39m\u001b[39m.\u001b[39mparams\u001b[39m.\u001b[39mverbose \u001b[39m<\u001b[39m \u001b[39m4\u001b[39m \u001b[39mand\u001b[39;00m \u001b[39mself\u001b[39m\u001b[39m.\u001b[39mcnorm \u001b[39m<\u001b[39m\u001b[39m=\u001b[39m \u001b[39m1.1\u001b[39m\u001b[39m*\u001b[39m\u001b[39mself\u001b[39m\u001b[39m.\u001b[39mtrust):\n",
      "File \u001b[0;32m~/mambaforge/envs/openff/lib/python3.11/site-packages/geometric/optimize.py:176\u001b[0m, in \u001b[0;36mOptimizer.get_cartesian_norm\u001b[0;34m(self, dy, verbose)\u001b[0m\n\u001b[1;32m    174\u001b[0m \u001b[39mdef\u001b[39;00m \u001b[39mget_cartesian_norm\u001b[39m(\u001b[39mself\u001b[39m, dy, verbose\u001b[39m=\u001b[39m\u001b[39mNone\u001b[39;00m):\n\u001b[1;32m    175\u001b[0m     \u001b[39mif\u001b[39;00m \u001b[39mnot\u001b[39;00m verbose: verbose \u001b[39m=\u001b[39m \u001b[39mself\u001b[39m\u001b[39m.\u001b[39mparams\u001b[39m.\u001b[39mverbose\n\u001b[0;32m--> 176\u001b[0m     \u001b[39mreturn\u001b[39;00m get_cartesian_norm(\u001b[39mself\u001b[39;49m\u001b[39m.\u001b[39;49mX, dy, \u001b[39mself\u001b[39;49m\u001b[39m.\u001b[39;49mIC, \u001b[39mself\u001b[39;49m\u001b[39m.\u001b[39;49mparams\u001b[39m.\u001b[39;49menforce, \u001b[39mself\u001b[39;49m\u001b[39m.\u001b[39;49mparams\u001b[39m.\u001b[39;49mverbose, \u001b[39mself\u001b[39;49m\u001b[39m.\u001b[39;49mparams\u001b[39m.\u001b[39;49musedmax)\n",
      "File \u001b[0;32m~/mambaforge/envs/openff/lib/python3.11/site-packages/geometric/step.py:269\u001b[0m, in \u001b[0;36mget_cartesian_norm\u001b[0;34m(X, dy, IC, enforce, verbose, usedmax)\u001b[0m\n\u001b[1;32m    267\u001b[0m     Xnew \u001b[39m=\u001b[39m IC\u001b[39m.\u001b[39mnewCartesian_withConstraint(X, dy, thre\u001b[39m=\u001b[39menforce, verbose\u001b[39m=\u001b[39mverbose)\n\u001b[1;32m    268\u001b[0m \u001b[39melse\u001b[39;00m:\n\u001b[0;32m--> 269\u001b[0m     Xnew \u001b[39m=\u001b[39m IC\u001b[39m.\u001b[39;49mnewCartesian(X, dy, verbose\u001b[39m=\u001b[39;49mverbose)\n\u001b[1;32m    270\u001b[0m rmsd, maxd \u001b[39m=\u001b[39m calc_drms_dmax(Xnew, X)\n\u001b[1;32m    271\u001b[0m \u001b[39mreturn\u001b[39;00m maxd \u001b[39mif\u001b[39;00m usedmax \u001b[39melse\u001b[39;00m rmsd\n",
      "File \u001b[0;32m~/mambaforge/envs/openff/lib/python3.11/site-packages/geometric/internal.py:1972\u001b[0m, in \u001b[0;36mInternalCoordinates.newCartesian\u001b[0;34m(self, xyz, dQ, verbose)\u001b[0m\n\u001b[1;32m   1970\u001b[0m     xyz_iter1 \u001b[39m=\u001b[39m xyz2\u001b[39m.\u001b[39mcopy()\n\u001b[1;32m   1971\u001b[0m \u001b[39m# Calculate the actual change in internal coordinates\u001b[39;00m\n\u001b[0;32m-> 1972\u001b[0m dQ_actual \u001b[39m=\u001b[39m \u001b[39mself\u001b[39;49m\u001b[39m.\u001b[39;49mcalcDiff(xyz2, xyz1)\n\u001b[1;32m   1973\u001b[0m rmsd \u001b[39m=\u001b[39m np\u001b[39m.\u001b[39msqrt(np\u001b[39m.\u001b[39mmean((np\u001b[39m.\u001b[39marray(xyz2\u001b[39m-\u001b[39mxyz1)\u001b[39m.\u001b[39mflatten())\u001b[39m*\u001b[39m\u001b[39m*\u001b[39m\u001b[39m2\u001b[39m))\n\u001b[1;32m   1974\u001b[0m ndq \u001b[39m=\u001b[39m np\u001b[39m.\u001b[39mlinalg\u001b[39m.\u001b[39mnorm(dQ1\u001b[39m-\u001b[39mdQ_actual)\n",
      "File \u001b[0;32m~/mambaforge/envs/openff/lib/python3.11/site-packages/geometric/internal.py:3405\u001b[0m, in \u001b[0;36mDelocalizedInternalCoordinates.calcDiff\u001b[0;34m(self, coord1, coord2)\u001b[0m\n\u001b[1;32m   3403\u001b[0m \u001b[39mdef\u001b[39;00m \u001b[39mcalcDiff\u001b[39m(\u001b[39mself\u001b[39m, coord1, coord2):\n\u001b[1;32m   3404\u001b[0m \u001b[39m    \u001b[39m\u001b[39m\"\"\" Calculate difference in internal coordinates (coord1-coord2), accounting for changes in 2*pi of angles. \"\"\"\u001b[39;00m\n\u001b[0;32m-> 3405\u001b[0m     PMDiff \u001b[39m=\u001b[39m \u001b[39mself\u001b[39;49m\u001b[39m.\u001b[39;49mPrims\u001b[39m.\u001b[39;49mcalcDiff(coord1, coord2)\n\u001b[1;32m   3406\u001b[0m     Answer \u001b[39m=\u001b[39m np\u001b[39m.\u001b[39mdot(PMDiff, \u001b[39mself\u001b[39m\u001b[39m.\u001b[39mVecs)\n\u001b[1;32m   3407\u001b[0m     \u001b[39mreturn\u001b[39;00m np\u001b[39m.\u001b[39marray(Answer)\u001b[39m.\u001b[39mflatten()\n",
      "File \u001b[0;32m~/mambaforge/envs/openff/lib/python3.11/site-packages/geometric/internal.py:2559\u001b[0m, in \u001b[0;36mPrimitiveInternalCoordinates.calcDiff\u001b[0;34m(self, xyz1, xyz2)\u001b[0m\n\u001b[1;32m   2557\u001b[0m answer \u001b[39m=\u001b[39m []\n\u001b[1;32m   2558\u001b[0m \u001b[39mfor\u001b[39;00m Internal \u001b[39min\u001b[39;00m \u001b[39mself\u001b[39m\u001b[39m.\u001b[39mInternals:\n\u001b[0;32m-> 2559\u001b[0m     answer\u001b[39m.\u001b[39mappend(Internal\u001b[39m.\u001b[39;49mcalcDiff(xyz1, xyz2))\n\u001b[1;32m   2560\u001b[0m \u001b[39mreturn\u001b[39;00m np\u001b[39m.\u001b[39marray(answer)\n",
      "File \u001b[0;32m~/mambaforge/envs/openff/lib/python3.11/site-packages/geometric/internal.py:173\u001b[0m, in \u001b[0;36mPrimitiveCoordinate.calcDiff\u001b[0;34m(self, xyz1, xyz2, val2)\u001b[0m\n\u001b[1;32m    171\u001b[0m \u001b[39mif\u001b[39;00m xyz2 \u001b[39mis\u001b[39;00m \u001b[39mnot\u001b[39;00m \u001b[39mNone\u001b[39;00m:\n\u001b[1;32m    172\u001b[0m     val2 \u001b[39m=\u001b[39m \u001b[39mself\u001b[39m\u001b[39m.\u001b[39mvalue(xyz2)\n\u001b[0;32m--> 173\u001b[0m diff \u001b[39m=\u001b[39m \u001b[39mself\u001b[39;49m\u001b[39m.\u001b[39;49mvalue(xyz1) \u001b[39m-\u001b[39m val2\n\u001b[1;32m    174\u001b[0m \u001b[39mif\u001b[39;00m \u001b[39mhasattr\u001b[39m(\u001b[39mself\u001b[39m, \u001b[39m'\u001b[39m\u001b[39mw\u001b[39m\u001b[39m'\u001b[39m):\n\u001b[1;32m    175\u001b[0m     w \u001b[39m=\u001b[39m \u001b[39mself\u001b[39m\u001b[39m.\u001b[39mw\n",
      "File \u001b[0;32m~/mambaforge/envs/openff/lib/python3.11/site-packages/geometric/internal.py:1306\u001b[0m, in \u001b[0;36mDihedral.value\u001b[0;34m(self, xyz)\u001b[0m\n\u001b[1;32m   1304\u001b[0m vec3 \u001b[39m=\u001b[39m xyz[d] \u001b[39m-\u001b[39m xyz[c]\n\u001b[1;32m   1305\u001b[0m cross1 \u001b[39m=\u001b[39m np\u001b[39m.\u001b[39mcross(vec2, vec3)\n\u001b[0;32m-> 1306\u001b[0m cross2 \u001b[39m=\u001b[39m np\u001b[39m.\u001b[39;49mcross(vec1, vec2)\n\u001b[1;32m   1307\u001b[0m arg1 \u001b[39m=\u001b[39m np\u001b[39m.\u001b[39msum(np\u001b[39m.\u001b[39mmultiply(vec1, cross1)) \u001b[39m*\u001b[39m \\\n\u001b[1;32m   1308\u001b[0m        np\u001b[39m.\u001b[39msqrt(np\u001b[39m.\u001b[39msum(vec2\u001b[39m*\u001b[39m\u001b[39m*\u001b[39m\u001b[39m2\u001b[39m))\n\u001b[1;32m   1309\u001b[0m arg2 \u001b[39m=\u001b[39m np\u001b[39m.\u001b[39msum(np\u001b[39m.\u001b[39mmultiply(cross1, cross2))\n",
      "File \u001b[0;32m~/mambaforge/envs/openff/lib/python3.11/site-packages/numpy/core/numeric.py:1653\u001b[0m, in \u001b[0;36mcross\u001b[0;34m(a, b, axisa, axisb, axisc, axis)\u001b[0m\n\u001b[1;32m   1651\u001b[0m multiply(a0, b2, out\u001b[39m=\u001b[39mtmp)\n\u001b[1;32m   1652\u001b[0m cp1 \u001b[39m-\u001b[39m\u001b[39m=\u001b[39m tmp\n\u001b[0;32m-> 1653\u001b[0m multiply(a0, b1, out\u001b[39m=\u001b[39;49mcp2)\n\u001b[1;32m   1654\u001b[0m multiply(a1, b0, out\u001b[39m=\u001b[39mtmp)\n\u001b[1;32m   1655\u001b[0m cp2 \u001b[39m-\u001b[39m\u001b[39m=\u001b[39m tmp\n",
      "\u001b[0;31mKeyboardInterrupt\u001b[0m: "
     ]
    }
   ],
   "source": [
    "import sys\n",
    "import os\n",
    "CWD = os.getcwd()\n",
    "sys.path.append(os.path.dirname(CWD))\n",
    "\n",
    "from source.inputSetup.SmilesInputs import ReadInput\n",
    "from source.optimize.esp_generator_wrapper import ESPGenerator, PropGenerator\n",
    "from source.conformers.conformer_gen import Conformers\n",
    "from openff.recharge.utilities.molecule import smiles_to_molecule\n",
    "from openff.recharge.grids import LatticeGridSettings\n",
    "from openff.storage.ddx_storage import ESPSettings\n",
    "\n",
    "\n",
    "\n",
    "\n",
    "    \n",
    "#Read the .smi input and add to list\n",
    "smiles = ReadInput.read_smiles('test_files.smi')\n",
    "\n",
    "# Define the grid that the electrostatic properties will be trained on and the\n",
    "# level of theory to compute the properties at.\n",
    "grid_settings = LatticeGridSettings(\n",
    "    type=\"fcc\", spacing=0.5, inner_vdw_scale=1.4, outer_vdw_scale=2.0\n",
    ")\n",
    "\n",
    "esp_settings = ESPSettings(basis=\"6-31G*\", method=\"hf\", grid_settings=grid_settings)\n",
    "\n",
    "#Loop through molecules\n",
    "for mol in smiles:\n",
    "    molecule = smiles_to_molecule(mol)\n",
    "    #Generate the conformers\n",
    "    conformer_list = Conformers.generate(molecule, generation_type='rdkit')\n",
    "    ESP_gen = PropGenerator(molecule = molecule, conformers = conformer_list, esp_settings = esp_settings, grid_settings = grid_settings)\n",
    "    ESP_gen.memory = 2e+9 #2gb\n",
    "    print(f'number of cores is {ESP_gen.ncores}')\n",
    "    print(f'memory is {ESP_gen.memory}')\n",
    "    ESP_gen.run_props()\n",
    "    #ESP_gen.fetch_data()"
   ]
  },
  {
   "cell_type": "code",
   "execution_count": 6,
   "metadata": {},
   "outputs": [
    {
     "name": "stdout",
     "output_type": "stream",
     "text": [
      "\n",
      "  Memory set to   1.863 GiB by Python driver.\n"
     ]
    },
    {
     "data": {
      "text/plain": [
       "2000000000"
      ]
     },
     "execution_count": 6,
     "metadata": {},
     "output_type": "execute_result"
    }
   ],
   "source": [
    "import psi4\n",
    "psi4.set_memory('2gb')"
   ]
  },
  {
   "cell_type": "code",
   "execution_count": 4,
   "metadata": {},
   "outputs": [],
   "source": [
    "variables_dict = {'MULLIKEN_CHARGES': np.array([-0.73734578, -0.02447919,  0.11756134, -0.73731244,  0.0087507 ,\n",
    "       -0.73499064,  0.43804742,  0.18581185,  0.14089697,  0.1203388 ,\n",
    "        0.43975199,  0.18330349,  0.16756023,  0.43210525]), 'LOWDIN_CHARGES': np.array([-0.52128412, -0.10109616,  0.00531395, -0.5040507 , -0.09043403,\n",
    "       -0.5125839 ,  0.35640563,  0.15199032,  0.11833242,  0.10783985,\n",
    "        0.35337187,  0.15071365,  0.13581654,  0.34966469]), 'HF DIPOLE': np.array([-1.04266932, -0.2294717 , -1.13023893]), 'HF QUADRUPOLE': np.array([[-31.86914081,  -4.25065534,   2.02651926],\n",
    "       [ -4.25065534, -27.07297069,   1.47545515],\n",
    "       [  2.02651926,   1.47545515, -23.87739699]]), 'MBIS CHARGES': np.array([[-0.68146552],\n",
    "       [ 0.11369298],\n",
    "       [ 0.10728801],\n",
    "       [-0.65628907],\n",
    "       [ 0.14327947],\n",
    "       [-0.673989  ],\n",
    "       [ 0.44975509],\n",
    "       [ 0.08898321],\n",
    "       [ 0.03800309],\n",
    "       [ 0.03757985],\n",
    "       [ 0.44693836],\n",
    "       [ 0.08720612],\n",
    "       [ 0.05736164],\n",
    "       [ 0.44166793]])}"
   ]
  },
  {
   "cell_type": "code",
   "execution_count": 2,
   "metadata": {},
   "outputs": [],
   "source": [
    "import sys\n",
    "import os\n",
    "CWD = os.getcwd()\n",
    "sys.path.append(os.path.dirname(CWD))\n",
    "\n",
    "from openff.recharge.esp.storage import MoleculeESPRecord, MoleculeESPStore\n",
    "from source.storage.storage import MoleculePropRecord, MoleculePropStore\n",
    "prop_store = MoleculePropStore(\"prop-store.sqlite\")"
   ]
  },
  {
   "cell_type": "code",
   "execution_count": 3,
   "metadata": {},
   "outputs": [
    {
     "data": {
      "text/plain": [
       "[]"
      ]
     },
     "execution_count": 3,
     "metadata": {},
     "output_type": "execute_result"
    }
   ],
   "source": [
    "smiles_list = prop_store.list()\n",
    "smiles_list"
   ]
  },
  {
   "cell_type": "code",
   "execution_count": 4,
   "metadata": {},
   "outputs": [
    {
     "ename": "IndexError",
     "evalue": "list index out of range",
     "output_type": "error",
     "traceback": [
      "\u001b[0;31m---------------------------------------------------------------------------\u001b[0m",
      "\u001b[0;31mIndexError\u001b[0m                                Traceback (most recent call last)",
      "\u001b[1;32m/Users/localadmin/Documents/projects/QM_ESP_Psi4/examples/notebook_test.ipynb Cell 27\u001b[0m line \u001b[0;36m1\n\u001b[0;32m----> <a href='vscode-notebook-cell:/Users/localadmin/Documents/projects/QM_ESP_Psi4/examples/notebook_test.ipynb#Y553sZmlsZQ%3D%3D?line=0'>1</a>\u001b[0m prop_store\u001b[39m.\u001b[39mretrieve(smiles_list[\u001b[39m0\u001b[39;49m])[\u001b[39m0\u001b[39m]\u001b[39m.\u001b[39mgrid_coordinates\n",
      "\u001b[0;31mIndexError\u001b[0m: list index out of range"
     ]
    }
   ],
   "source": [
    "prop_store.retrieve(smiles_list[0])[0].grid_coordinates\n"
   ]
  },
  {
   "cell_type": "code",
   "execution_count": null,
   "metadata": {},
   "outputs": [
    {
     "data": {
      "text/plain": [
       "[MoleculePropRecord(tagged_smiles='[O:1]([C:2]([C:3]([O:4][H:11])([C:5]([O:6][H:14])([H:12])[H:13])[H:10])([H:8])[H:9])[H:7]', conformer=array([[-1.74483703e+00, -1.16923060e+00,  3.52914901e-01],\n",
       "        [-1.30043753e+00,  1.60682346e-01,  3.88060241e-01],\n",
       "        [ 5.52571638e-02,  3.46731501e-01, -2.91818903e-01],\n",
       "        [ 3.85542160e-01,  1.70943527e+00, -3.26207642e-01],\n",
       "        [ 1.16166035e+00, -3.80040506e-01,  4.56204039e-01],\n",
       "        [ 2.37386480e+00, -4.03906825e-01, -2.44070689e-01],\n",
       "        [-2.03999392e+00, -1.38608172e+00, -5.20295999e-01],\n",
       "        [-1.22258478e+00,  4.37792816e-01,  1.43130355e+00],\n",
       "        [-2.02864702e+00,  8.28642019e-01, -6.89099802e-02],\n",
       "        [-1.42782310e-03, -5.67833524e-02, -1.30592730e+00],\n",
       "        [-1.30197132e-01,  2.15553406e+00, -9.82944742e-01],\n",
       "        [ 1.35308642e+00,  1.49434039e-01,  1.38025050e+00],\n",
       "        [ 8.29012242e-01, -1.38378347e+00,  7.01182150e-01],\n",
       "        [ 2.30970210e+00, -1.00842557e+00, -9.69740128e-01]]), grid_coordinates=array([[-4.59619408e+00, -2.12132034e+00,  3.83026943e-15],\n",
       "        [-4.59619408e+00, -2.12132034e+00,  7.07106781e-01],\n",
       "        [-4.59619408e+00, -1.76776695e+00, -3.53553391e-01],\n",
       "        ...,\n",
       "        [ 5.30330086e+00, -3.85405993e-15, -7.07106781e-01],\n",
       "        [ 5.30330086e+00, -3.85405993e-15,  3.83026943e-15],\n",
       "        [ 5.30330086e+00,  3.53553391e-01, -3.53553391e-01]]), esp=array([[0.27289809],\n",
       "        [0.27677997],\n",
       "        [0.20381352],\n",
       "        ...,\n",
       "        [0.44356306],\n",
       "        [0.33451579],\n",
       "        [0.11323702]]), electric_field=array([[-0.74247909,  0.12429136, -0.04425888],\n",
       "        [-1.15469098,  0.07796686,  0.17528542],\n",
       "        [-0.38870797,  0.22715495,  0.03094617],\n",
       "        ...,\n",
       "        [ 1.37276285,  1.36462339, -0.37504292],\n",
       "        [ 1.1056205 ,  0.97723728,  0.54824476],\n",
       "        [ 0.50607833,  0.6772855 ,  0.03606254]]), esp_settings=ESPSettings(basis='6-31G*', method='hf', grid_settings=LatticeGridSettings(type='fcc', spacing=0.5, inner_vdw_scale=1.4, outer_vdw_scale=2.0), pcm_settings=None, psi4_dft_grid_settings=<DFTGridSettings.Default: 'default'>), mulliken_charges=array([-0.73734578, -0.02447918,  0.11756132, -0.73731242,  0.00875072,\n",
       "        -0.73499063,  0.43804742,  0.18581185,  0.14089697,  0.1203388 ,\n",
       "         0.43975199,  0.18330348,  0.16756022,  0.43210525]), lowdin_charges=array([-0.52128413, -0.10109615,  0.00531394, -0.50405069, -0.09043403,\n",
       "        -0.51258389,  0.35640563,  0.15199032,  0.11833241,  0.10783985,\n",
       "         0.35337186,  0.15071365,  0.13581653,  0.34966469]), mbis_charges=array([[-0.68146552],\n",
       "        [ 0.11369298],\n",
       "        [ 0.10728799],\n",
       "        [-0.65628906],\n",
       "        [ 0.14327948],\n",
       "        [-0.67398898],\n",
       "        [ 0.44975509],\n",
       "        [ 0.08898321],\n",
       "        [ 0.03800308],\n",
       "        [ 0.03757985],\n",
       "        [ 0.44693835],\n",
       "        [ 0.08720612],\n",
       "        [ 0.05736163],\n",
       "        [ 0.44166793]]), dipole=array([-1.04266946, -0.22947154, -1.13023897]), quadropole=array([[-31.86914179,  -4.25065497,   2.02651873],\n",
       "        [ -4.25065497, -27.07297017,   1.47545594],\n",
       "        [  2.02651873,   1.47545594, -23.87739747]]), mbis_dipole=array([[ 0.0423795 ,  0.0817365 ,  0.05666081],\n",
       "        [-0.05116511, -0.14980226,  0.02349646],\n",
       "        [ 0.06343287,  0.14716018, -0.01750751],\n",
       "        [ 0.02628692, -0.1043703 ,  0.04596402],\n",
       "        [ 0.14679028,  0.03395472, -0.07640193],\n",
       "        [-0.0600789 ,  0.05742006,  0.07224618],\n",
       "        [-0.00598221, -0.00342261, -0.01568646],\n",
       "        [ 0.01066748,  0.00523096,  0.05522062],\n",
       "        [-0.03693496,  0.03396674, -0.02735309],\n",
       "        [ 0.00163061, -0.01944368, -0.04329387],\n",
       "        [-0.00911471,  0.0086815 , -0.01317768],\n",
       "        [ 0.01731748,  0.04047856,  0.03870743],\n",
       "        [-0.02388052, -0.05645075,  0.01054764],\n",
       "        [-0.00111479, -0.01127107, -0.01302382]]), mbis_quadropole=array([[[-4.48992892e+00,  6.65008874e-02,  4.69344930e-02],\n",
       "         [ 6.65008874e-02, -4.40996813e+00,  3.62874238e-02],\n",
       "         [ 4.69344930e-02,  3.62874238e-02, -4.37318112e+00]],\n",
       " \n",
       "        [[-4.21646562e+00,  3.34356385e-02,  5.44509664e-02],\n",
       "         [ 3.34356385e-02, -4.07991286e+00, -3.93309151e-02],\n",
       "         [ 5.44509664e-02, -3.93309151e-02, -4.18016509e+00]],\n",
       " \n",
       "        [[-4.28490723e+00,  7.75525293e-02, -8.81753540e-03],\n",
       "         [ 7.75525293e-02, -4.14270454e+00,  4.52288229e-02],\n",
       "         [-8.81753540e-03,  4.52288229e-02, -4.22182754e+00]],\n",
       " \n",
       "        [[-4.41644486e+00, -1.75734037e-02,  6.00789455e-02],\n",
       "         [-1.75734037e-02, -4.32444616e+00, -6.48214954e-02],\n",
       "         [ 6.00789455e-02, -6.48214954e-02, -4.40541135e+00]],\n",
       " \n",
       "        [[-4.03422324e+00,  6.00510772e-02, -5.52354384e-02],\n",
       "         [ 6.00510772e-02, -4.03204044e+00,  1.81946871e-02],\n",
       "         [-5.52354384e-02,  1.81946871e-02, -4.13588547e+00]],\n",
       " \n",
       "        [[-4.40538597e+00, -5.39867199e-03, -4.22463948e-02],\n",
       "         [-5.39867199e-03, -4.42289768e+00,  9.23138570e-02],\n",
       "         [-4.22463948e-02,  9.23138570e-02, -4.38156385e+00]],\n",
       " \n",
       "        [[-2.42530777e-01,  2.13982790e-03,  4.80706063e-04],\n",
       "         [ 2.13982790e-03, -2.33660342e-01, -4.53928635e-03],\n",
       "         [ 4.80706063e-04, -4.53928635e-03, -2.39401175e-01]],\n",
       " \n",
       "        [[-5.01402337e-01,  1.03702168e-02, -1.66827799e-03],\n",
       "         [ 1.03702168e-02, -4.89328974e-01, -2.18125276e-03],\n",
       "         [-1.66827799e-03, -2.18125276e-03, -5.18751768e-01]],\n",
       " \n",
       "        [[-5.69082962e-01,  1.53210057e-02, -5.19629488e-03],\n",
       "         [ 1.53210057e-02, -5.59543315e-01,  1.86389370e-04],\n",
       "         [-5.19629488e-03,  1.86389370e-04, -5.74002992e-01]],\n",
       " \n",
       "        [[-5.55315004e-01,  4.86369110e-03, -7.61652860e-04],\n",
       "         [ 4.86369110e-03, -5.52257408e-01, -1.00281733e-02],\n",
       "         [-7.61652860e-04, -1.00281733e-02, -5.87371832e-01]],\n",
       " \n",
       "        [[-2.42636632e-01,  4.34781532e-03,  3.44998201e-03],\n",
       "         [ 4.34781532e-03, -2.37585524e-01,  1.64689886e-03],\n",
       "         [ 3.44998201e-03,  1.64689886e-03, -2.42458521e-01]],\n",
       " \n",
       "        [[-4.91398995e-01, -5.76297462e-03, -9.07084988e-03],\n",
       "         [-5.76297462e-03, -5.09878453e-01, -4.34410218e-03],\n",
       "         [-9.07084988e-03, -4.34410218e-03, -5.12956499e-01]],\n",
       " \n",
       "        [[-5.25222283e-01, -6.25893446e-03, -6.87453014e-03],\n",
       "         [-6.25893446e-03, -5.52094633e-01, -2.46694631e-04],\n",
       "         [-6.87453014e-03, -2.46694631e-04, -5.45153288e-01]],\n",
       " \n",
       "        [[-2.38929799e-01,  3.75958619e-03, -2.08184508e-03],\n",
       "         [ 3.75958619e-03, -2.46934914e-01,  8.85639118e-04],\n",
       "         [-2.08184508e-03,  8.85639118e-04, -2.49354299e-01]]]), mbis_octopole=array([[[[ 6.02585475e-02,  9.02020024e-02,  4.92922632e-02],\n",
       "          [ 9.02020024e-02, -1.35044265e-01,  3.13669777e-03],\n",
       "          [ 4.92922632e-02,  3.13669777e-03,  7.81582207e-02]],\n",
       " \n",
       "         [[ 9.02020024e-02, -1.35044265e-01,  3.13669777e-03],\n",
       "          [-1.35044265e-01, -1.69592859e-01,  1.62137921e-02],\n",
       "          [ 3.13669777e-03,  1.62137921e-02,  1.16072044e-01]],\n",
       " \n",
       "         [[ 4.92922632e-02,  3.13669777e-03,  7.81582207e-02],\n",
       "          [ 3.13669777e-03,  1.62137921e-02,  1.16072044e-01],\n",
       "          [ 7.81582207e-02,  1.16072044e-01,  2.94821547e-01]]],\n",
       " \n",
       " \n",
       "        [[[-3.20119131e-01, -1.31547286e-01,  1.93775645e-01],\n",
       "          [-1.31547286e-01,  1.77928907e-01,  1.85825858e-02],\n",
       "          [ 1.93775645e-01,  1.85825858e-02, -9.55725298e-02]],\n",
       " \n",
       "         [[-1.31547286e-01,  1.77928907e-01,  1.85825858e-02],\n",
       "          [ 1.77928907e-01,  1.52587824e-02,  9.03996567e-02],\n",
       "          [ 1.85825858e-02,  9.03996567e-02, -2.18811991e-01]],\n",
       " \n",
       "         [[ 1.93775645e-01,  1.85825858e-02, -9.55725298e-02],\n",
       "          [ 1.85825858e-02,  9.03996567e-02, -2.18811991e-01],\n",
       "          [-9.55725298e-02, -2.18811991e-01, -2.26577756e-02]]],\n",
       " \n",
       " \n",
       "        [[[ 3.29120682e-01,  2.00616185e-01, -2.21144013e-01],\n",
       "          [ 2.00616185e-01, -9.91605492e-02,  7.84165291e-02],\n",
       "          [-2.21144013e-01,  7.84165291e-02,  4.58650593e-02]],\n",
       " \n",
       "         [[ 2.00616185e-01, -9.91605492e-02,  7.84165291e-02],\n",
       "          [-9.91605492e-02, -7.87271780e-02,  2.34506053e-02],\n",
       "          [ 7.84165291e-02,  2.34506053e-02,  2.22550699e-01]],\n",
       " \n",
       "         [[-2.21144013e-01,  7.84165291e-02,  4.58650593e-02],\n",
       "          [ 7.84165291e-02,  2.34506053e-02,  2.22550699e-01],\n",
       "          [ 4.58650593e-02,  2.22550699e-01,  9.91731769e-02]]],\n",
       " \n",
       " \n",
       "        [[[ 9.25308016e-02, -1.18673525e-01,  6.60366102e-02],\n",
       "          [-1.18673525e-01,  1.41367308e-01, -1.90328513e-02],\n",
       "          [ 6.60366102e-02, -1.90328513e-02,  5.52445942e-02]],\n",
       " \n",
       "         [[-1.18673525e-01,  1.41367308e-01, -1.90328513e-02],\n",
       "          [ 1.41367308e-01,  1.50426906e-01,  2.64863949e-02],\n",
       "          [-1.90328513e-02,  2.64863949e-02, -1.46880531e-01]],\n",
       " \n",
       "         [[ 6.60366102e-02, -1.90328513e-02,  5.52445942e-02],\n",
       "          [-1.90328513e-02,  2.64863949e-02, -1.46880531e-01],\n",
       "          [ 5.52445942e-02, -1.46880531e-01,  1.26551195e-01]]],\n",
       " \n",
       " \n",
       "        [[[ 2.38127373e-01, -2.44282288e-02,  2.51849781e-01],\n",
       "          [-2.44282288e-02,  2.06631438e-01, -9.51649748e-02],\n",
       "          [ 2.51849781e-01, -9.51649748e-02,  4.45914598e-02]],\n",
       " \n",
       "         [[-2.44282288e-02,  2.06631438e-01, -9.51649748e-02],\n",
       "          [ 2.06631438e-01,  2.55252947e-01, -8.71588691e-02],\n",
       "          [-9.51649748e-02, -8.71588691e-02, -3.84444991e-02]],\n",
       " \n",
       "         [[ 2.51849781e-01, -9.51649748e-02,  4.45914598e-02],\n",
       "          [-9.51649748e-02, -8.71588691e-02, -3.84444991e-02],\n",
       "          [ 4.45914598e-02, -3.84444991e-02, -2.23092385e-01]]],\n",
       " \n",
       " \n",
       "        [[[ 1.04454487e-01,  4.82844327e-02, -1.25286920e-01],\n",
       "          [ 4.82844327e-02, -6.73910093e-02,  2.13557936e-02],\n",
       "          [-1.25286920e-01,  2.13557936e-02,  7.60528306e-02]],\n",
       " \n",
       "         [[ 4.82844327e-02, -6.73910093e-02,  2.13557936e-02],\n",
       "          [-6.73910093e-02,  1.91283950e-01,  1.42500728e-01],\n",
       "          [ 2.13557936e-02,  1.42500728e-01,  1.01773631e-01]],\n",
       " \n",
       "         [[-1.25286920e-01,  2.13557936e-02,  7.60528306e-02],\n",
       "          [ 2.13557936e-02,  1.42500728e-01,  1.01773631e-01],\n",
       "          [ 7.60528306e-02,  1.01773631e-01,  2.20230865e-01]]],\n",
       " \n",
       " \n",
       "        [[[-6.97462109e-03,  1.92301932e-03, -6.30083778e-03],\n",
       "          [ 1.92301932e-03, -2.52654635e-03,  1.10999767e-03],\n",
       "          [-6.30083778e-03,  1.10999767e-03, -1.58447846e-03]],\n",
       " \n",
       "         [[ 1.92301932e-03, -2.52654635e-03,  1.10999767e-03],\n",
       "          [-2.52654635e-03, -1.77853906e-03, -4.56601513e-03],\n",
       "          [ 1.10999767e-03, -4.56601513e-03,  6.63459152e-04]],\n",
       " \n",
       "         [[-6.30083778e-03,  1.10999767e-03, -1.58447846e-03],\n",
       "          [ 1.10999767e-03, -4.56601513e-03,  6.63459152e-04],\n",
       "          [-1.58447846e-03,  6.63459152e-04, -1.48584220e-02]]],\n",
       " \n",
       " \n",
       "        [[[ 1.84208145e-02, -6.75397267e-03,  1.78506072e-02],\n",
       "          [-6.75397267e-03,  1.20696617e-02, -2.55592357e-03],\n",
       "          [ 1.78506072e-02, -2.55592357e-03,  2.74097413e-03]],\n",
       " \n",
       "         [[-6.75397267e-03,  1.20696617e-02, -2.55592357e-03],\n",
       "          [ 1.20696617e-02, -1.45593444e-02,  1.28046215e-02],\n",
       "          [-2.55592357e-03,  1.28046215e-02, -5.44456567e-03]],\n",
       " \n",
       "         [[ 1.78506072e-02, -2.55592357e-03,  2.74097413e-03],\n",
       "          [-2.55592357e-03,  1.28046215e-02, -5.44456567e-03],\n",
       "          [ 2.74097413e-03, -5.44456567e-03,  3.43287029e-02]]],\n",
       " \n",
       " \n",
       "        [[[-3.04091641e-02,  5.57483205e-03, -1.93472707e-03],\n",
       "          [ 5.57483205e-03, -4.64962510e-03, -7.15729612e-04],\n",
       "          [-1.93472707e-03, -7.15729612e-04, -7.96438336e-03]],\n",
       " \n",
       "         [[ 5.57483205e-03, -4.64962510e-03, -7.15729612e-04],\n",
       "          [-4.64962510e-03,  1.56336043e-02, -5.01999138e-03],\n",
       "          [-7.15729612e-04, -5.01999138e-03,  1.57533807e-03]],\n",
       " \n",
       "         [[-1.93472707e-03, -7.15729612e-04, -7.96438336e-03],\n",
       "          [-7.15729612e-04, -5.01999138e-03,  1.57533807e-03],\n",
       "          [-7.96438336e-03,  1.57533807e-03, -4.29434604e-02]]],\n",
       " \n",
       " \n",
       "        [[[ 6.23360690e-03, -1.10468104e-03, -1.18112635e-02],\n",
       "          [-1.10468104e-03,  3.09518895e-03,  3.32640487e-03],\n",
       "          [-1.18112635e-02,  3.32640487e-03,  1.46667533e-03]],\n",
       " \n",
       "         [[-1.10468104e-03,  3.09518895e-03,  3.32640487e-03],\n",
       "          [ 3.09518895e-03, -1.24644638e-02, -3.00570284e-04],\n",
       "          [ 3.32640487e-03, -3.00570284e-04,  2.48239400e-03]],\n",
       " \n",
       "         [[-1.18112635e-02,  3.32640487e-03,  1.46667533e-03],\n",
       "          [ 3.32640487e-03, -3.00570284e-04,  2.48239400e-03],\n",
       "          [ 1.46667533e-03,  2.48239400e-03, -1.01736126e-02]]],\n",
       " \n",
       " \n",
       "        [[[-1.02920274e-02,  1.97293344e-03, -4.36404544e-03],\n",
       "          [ 1.97293344e-03, -2.36696630e-03,  3.83640518e-04],\n",
       "          [-4.36404544e-03,  3.83640518e-04, -2.27427298e-03]],\n",
       " \n",
       "         [[ 1.97293344e-03, -2.36696630e-03,  3.83640518e-04],\n",
       "          [-2.36696630e-03,  7.18491458e-03, -3.31590023e-03],\n",
       "          [ 3.83640518e-04, -3.31590023e-03,  8.65821712e-04]],\n",
       " \n",
       "         [[-4.36404544e-03,  3.83640518e-04, -2.27427298e-03],\n",
       "          [ 3.83640518e-04, -3.31590023e-03,  8.65821712e-04],\n",
       "          [-2.27427298e-03,  8.65821712e-04, -1.75913693e-02]]],\n",
       " \n",
       " \n",
       "        [[[ 2.29284125e-02,  1.49550800e-02,  3.97752296e-03],\n",
       "          [ 1.49550800e-02,  8.41202923e-03, -3.00685956e-03],\n",
       "          [ 3.97752296e-03, -3.00685956e-03,  1.19276213e-02]],\n",
       " \n",
       "         [[ 1.49550800e-02,  8.41202923e-03, -3.00685956e-03],\n",
       "          [ 8.41202923e-03,  6.01370924e-02, -1.49100862e-03],\n",
       "          [-3.00685956e-03, -1.49100862e-03,  1.45768352e-02]],\n",
       " \n",
       "         [[ 3.97752296e-03, -3.00685956e-03,  1.19276213e-02],\n",
       "          [-3.00685956e-03, -1.49100862e-03,  1.45768352e-02],\n",
       "          [ 1.19276213e-02,  1.45768352e-02,  6.52627697e-03]]],\n",
       " \n",
       " \n",
       "        [[[-1.84190782e-02, -1.24101517e-02,  6.88398914e-03],\n",
       "          [-1.24101517e-02, -5.87757709e-03, -4.90332209e-03],\n",
       "          [ 6.88398914e-03, -4.90332209e-03, -1.34767899e-02]],\n",
       " \n",
       "         [[-1.24101517e-02, -5.87757709e-03, -4.90332209e-03],\n",
       "          [-5.87757709e-03, -4.48606202e-02, -1.43396643e-03],\n",
       "          [-4.90332209e-03, -1.43396643e-03, -2.27706461e-02]],\n",
       " \n",
       "         [[ 6.88398914e-03, -4.90332209e-03, -1.34767899e-02],\n",
       "          [-4.90332209e-03, -1.43396643e-03, -2.27706461e-02],\n",
       "          [-1.34767899e-02, -2.27706461e-02, -8.26585547e-03]]],\n",
       " \n",
       " \n",
       "        [[[-2.17317427e-03, -2.63543718e-03, -4.33234197e-03],\n",
       "          [-2.63543718e-03, -2.13492654e-03, -3.63261919e-04],\n",
       "          [-4.33234197e-03, -3.63261919e-04, -1.31564951e-03]],\n",
       " \n",
       "         [[-2.63543718e-03, -2.13492654e-03, -3.63261919e-04],\n",
       "          [-2.13492654e-03, -1.46401772e-02, -2.31296033e-03],\n",
       "          [-3.63261919e-04, -2.31296033e-03, -2.79230494e-03]],\n",
       " \n",
       "         [[-4.33234197e-03, -3.63261919e-04, -1.31564951e-03],\n",
       "          [-3.63261919e-04, -2.31296033e-03, -2.79230494e-03],\n",
       "          [-1.31564951e-03, -2.79230494e-03, -1.02999566e-02]]]]))]"
      ]
     },
     "execution_count": 6,
     "metadata": {},
     "output_type": "execute_result"
    }
   ],
   "source": [
    "prop_store.retrieve(smiles_list[0])"
   ]
  },
  {
   "cell_type": "code",
   "execution_count": null,
   "metadata": {},
   "outputs": [
    {
     "data": {
      "text/plain": [
       "array([-0.73734578, -0.02447918,  0.11756132, -0.73731242,  0.00875072,\n",
       "       -0.73499063,  0.43804742,  0.18581185,  0.14089697,  0.1203388 ,\n",
       "        0.43975199,  0.18330348,  0.16756022,  0.43210525])"
      ]
     },
     "execution_count": 7,
     "metadata": {},
     "output_type": "execute_result"
    }
   ],
   "source": [
    "prop_store.retrieve(smiles_list[0])[0].mulliken_charges\n"
   ]
  },
  {
   "cell_type": "code",
   "execution_count": null,
   "metadata": {},
   "outputs": [
    {
     "data": {
      "text/plain": [
       "array([-1.04266946, -0.22947154, -1.13023897])"
      ]
     },
     "execution_count": 8,
     "metadata": {},
     "output_type": "execute_result"
    }
   ],
   "source": [
    "prop_store.retrieve(smiles_list[0])[0].dipole\n"
   ]
  },
  {
   "cell_type": "code",
   "execution_count": null,
   "metadata": {},
   "outputs": [
    {
     "data": {
      "text/plain": [
       "array([-0.52128413, -0.10109615,  0.00531394, -0.50405069, -0.09043403,\n",
       "       -0.51258389,  0.35640563,  0.15199032,  0.11833241,  0.10783985,\n",
       "        0.35337186,  0.15071365,  0.13581653,  0.34966469])"
      ]
     },
     "execution_count": 9,
     "metadata": {},
     "output_type": "execute_result"
    }
   ],
   "source": [
    "prop_store.retrieve(smiles_list[0])[0].lowdin_charges\n"
   ]
  },
  {
   "cell_type": "code",
   "execution_count": null,
   "metadata": {},
   "outputs": [
    {
     "data": {
      "text/plain": [
       "array([[-0.68146552],\n",
       "       [ 0.11369298],\n",
       "       [ 0.10728799],\n",
       "       [-0.65628906],\n",
       "       [ 0.14327948],\n",
       "       [-0.67398898],\n",
       "       [ 0.44975509],\n",
       "       [ 0.08898321],\n",
       "       [ 0.03800308],\n",
       "       [ 0.03757985],\n",
       "       [ 0.44693835],\n",
       "       [ 0.08720612],\n",
       "       [ 0.05736163],\n",
       "       [ 0.44166793]])"
      ]
     },
     "execution_count": 10,
     "metadata": {},
     "output_type": "execute_result"
    }
   ],
   "source": [
    "prop_store.retrieve(smiles_list[0])[0].mbis_charges\n"
   ]
  },
  {
   "cell_type": "code",
   "execution_count": null,
   "metadata": {},
   "outputs": [
    {
     "data": {
      "text/plain": [
       "array([[ 0.0423795 ,  0.0817365 ,  0.05666081],\n",
       "       [-0.05116511, -0.14980226,  0.02349646],\n",
       "       [ 0.06343287,  0.14716018, -0.01750751],\n",
       "       [ 0.02628692, -0.1043703 ,  0.04596402],\n",
       "       [ 0.14679028,  0.03395472, -0.07640193],\n",
       "       [-0.0600789 ,  0.05742006,  0.07224618],\n",
       "       [-0.00598221, -0.00342261, -0.01568646],\n",
       "       [ 0.01066748,  0.00523096,  0.05522062],\n",
       "       [-0.03693496,  0.03396674, -0.02735309],\n",
       "       [ 0.00163061, -0.01944368, -0.04329387],\n",
       "       [-0.00911471,  0.0086815 , -0.01317768],\n",
       "       [ 0.01731748,  0.04047856,  0.03870743],\n",
       "       [-0.02388052, -0.05645075,  0.01054764],\n",
       "       [-0.00111479, -0.01127107, -0.01302382]])"
      ]
     },
     "execution_count": 18,
     "metadata": {},
     "output_type": "execute_result"
    }
   ],
   "source": [
    "prop_store.retrieve(smiles_list[0])[0].mbis_dipole\n"
   ]
  },
  {
   "cell_type": "code",
   "execution_count": null,
   "metadata": {},
   "outputs": [],
   "source": [
    "mbis_array = prop_store.retrieve(smiles_list[-1])[0].mbis_charges.flatten()"
   ]
  },
  {
   "cell_type": "code",
   "execution_count": null,
   "metadata": {},
   "outputs": [],
   "source": [
    "muliken_array = prop_store.retrieve(smiles_list[-1])[0].mulliken_charges"
   ]
  },
  {
   "cell_type": "code",
   "execution_count": null,
   "metadata": {},
   "outputs": [],
   "source": [
    "lowdin_array = prop_store.retrieve(smiles_list[-1])[0].lowdin_charges"
   ]
  },
  {
   "cell_type": "code",
   "execution_count": null,
   "metadata": {},
   "outputs": [
    {
     "data": {
      "text/plain": [
       "'[H:1][C:2]1=[C:3]([H:9])[S:4][C:5]([H:8])=[C:6]1[H:7]'"
      ]
     },
     "execution_count": 15,
     "metadata": {},
     "output_type": "execute_result"
    }
   ],
   "source": [
    "prop_store.retrieve(smiles_list[-1])[0].tagged_smiles\n"
   ]
  },
  {
   "cell_type": "code",
   "execution_count": null,
   "metadata": {},
   "outputs": [
    {
     "data": {
      "text/plain": [
       "array([-0.00540298, -0.35337431, -0.01537461])"
      ]
     },
     "execution_count": 16,
     "metadata": {},
     "output_type": "execute_result"
    }
   ],
   "source": [
    "prop_store.retrieve(smiles_list[-1])[0].dipole\n"
   ]
  },
  {
   "cell_type": "code",
   "execution_count": null,
   "metadata": {},
   "outputs": [
    {
     "data": {
      "image/png": "[encoded data removed]",
      "text/plain": [
       "<rdkit.Chem.rdchem.Mol at 0x14e1e8810>"
      ]
     },
     "execution_count": 20,
     "metadata": {},
     "output_type": "execute_result"
    }
   ],
   "source": [
    "from rdkit import Chem;\n",
    "sulfur_mol = Molecule.from_mapped_smiles(prop_store.retrieve(smiles_list[-1])[0].tagged_smiles)\n",
    "sulfur_mol_rdkit = sulfur_mol.to_rdkit()\n",
    "for i,atoms in enumerate(sulfur_mol_rdkit.GetAtoms()):\n",
    "    lbl = '%.3f'%(mbis_array[i])\n",
    "    atoms.SetProp('atomNote',lbl)\n",
    "    \n",
    "sulfur_mol_rdkit"
   ]
  },
  {
   "cell_type": "code",
   "execution_count": null,
   "metadata": {},
   "outputs": [
    {
     "data": {
      "image/png": "[encoded data removed]",
      "text/plain": [
       "<rdkit.Chem.rdchem.Mol at 0x14e2a1fd0>"
      ]
     },
     "execution_count": 45,
     "metadata": {},
     "output_type": "execute_result"
    }
   ],
   "source": [
    "for i,atoms in enumerate(sulfur_mol_rdkit.GetAtoms()):\n",
    "    lbl = '%.3f'%(muliken_array[i])\n",
    "    atoms.SetProp('atomNote',lbl)\n",
    "sulfur_mol_rdkit"
   ]
  },
  {
   "cell_type": "code",
   "execution_count": 1,
   "metadata": {},
   "outputs": [
    {
     "name": "stdout",
     "output_type": "stream",
     "text": [
      "Intel MKL WARNING: Support of Intel(R) Streaming SIMD Extensions 4.2 (Intel(R) SSE4.2) enabled only processors has been deprecated. Intel oneAPI Math Kernel Library 2025.0 will require Intel(R) Advanced Vector Extensions (Intel(R) AVX) instructions.\n",
      "Intel MKL WARNING: Support of Intel(R) Streaming SIMD Extensions 4.2 (Intel(R) SSE4.2) enabled only processors has been deprecated. Intel oneAPI Math Kernel Library 2025.0 will require Intel(R) Advanced Vector Extensions (Intel(R) AVX) instructions.\n"
     ]
    }
   ],
   "source": [
    "import sys\n",
    "import os\n",
    "CWD = os.getcwd()\n",
    "sys.path.append(os.path.dirname(CWD))\n",
    "\n",
    "from openff.recharge.esp.storage import MoleculeESPRecord, MoleculeESPStore\n",
    "from source.storage.storage import MoleculePropRecord, MoleculePropStore\n",
    "\n",
    "prop_test = MoleculePropStore(\"/Users/localadmin/Documents/projects/QM_ESP_Psi4/examples/prop_test_2.db\")"
   ]
  },
  {
   "cell_type": "code",
   "execution_count": 2,
   "metadata": {},
   "outputs": [
    {
     "data": {
      "text/plain": [
       "['OCC(O)CO',\n",
       " 'C#CC',\n",
       " 'C1CN1',\n",
       " 'C1COC1',\n",
       " 'CC#N',\n",
       " 'CC(=O)[O-]',\n",
       " 'CC(C)=O',\n",
       " 'CCCC',\n",
       " 'CCNCC',\n",
       " 'CN(C)C',\n",
       " 'CN=[N+]=[N-]',\n",
       " 'CNC',\n",
       " 'COC',\n",
       " 'CSC',\n",
       " 'Fc1ccccc1',\n",
       " 'NCO',\n",
       " 'Nc1ccccc1',\n",
       " 'O=[NH+][O-]',\n",
       " 'Oc1ccccc1',\n",
       " 'CCl',\n",
       " 'CF',\n",
       " 'CO',\n",
       " 'CS',\n",
       " 'C1COCO1',\n",
       " 'c1ccccc1',\n",
       " 'c1ccncc1',\n",
       " 'c1ccsc1']"
      ]
     },
     "execution_count": 2,
     "metadata": {},
     "output_type": "execute_result"
    }
   ],
   "source": [
    "smiles_list = prop_test.list()\n",
    "smiles_list"
   ]
  },
  {
   "cell_type": "code",
   "execution_count": 3,
   "metadata": {},
   "outputs": [],
   "source": [
    "prop_test.retrieve(smiles_list[-1])[0].charge_model_charges"
   ]
  },
  {
   "cell_type": "code",
   "execution_count": 6,
   "metadata": {},
   "outputs": [
    {
     "name": "stdout",
     "output_type": "stream",
     "text": [
      "[H:1][C:2]1=[C:3]([H:9])[S:4][C:5]([H:8])=[C:6]1[H:7]\n"
     ]
    },
    {
     "data": {
      "text/html": [
       "<table><tbody><tr><th>Magnitude</th><td style='text-align:left;'><pre>[0.15 -0.15 -0.10999999999999999 -0.08 -0.10999999999999999 -0.15 0.15<br> 0.15 0.15]</pre></td></tr><tr><th>Units</th><td style='text-align:left;'>elementary_charge</td></tr></tbody></table>"
      ],
      "text/latex": [
       "$\\begin{pmatrix}0.15 & -0.15 & -0.10999999999999999 & -0.08 & -0.10999999999999999 & -0.15 & 0.15 & 0.15 & 0.15\\end{pmatrix}\\ \\mathrm{elementary\\_charge}$"
      ],
      "text/plain": [
       "array([ 0.15, -0.15, -0.11, -0.08, -0.11, -0.15,  0.15,  0.15,  0.15]) <Unit('elementary_charge')>"
      ]
     },
     "execution_count": 6,
     "metadata": {},
     "output_type": "execute_result"
    }
   ],
   "source": [
    "\n",
    "mapped_smiles = prop_test.retrieve(smiles_list[-1])[0].tagged_smiles\n",
    "print(mapped_smiles)\n",
    "charge_mol_am1bcc = Molecule.from_mapped_smiles(mapped_smiles)\n",
    "charge_mol_am1bcc.assign_partial_charges('mmff94', use_conformers=[prop_test.retrieve(smiles_list[-1])[0].conformer_quantity])\n",
    "charge_mol_am1bcc_list = charge_mol_am1bcc.partial_charges\n",
    "charge_mol_am1bcc_list"
   ]
  },
  {
   "cell_type": "code",
   "execution_count": 7,
   "metadata": {},
   "outputs": [
    {
     "data": {
      "text/plain": [
       "{'mmff94': [0.15,\n",
       "  -0.15,\n",
       "  -0.10999999999999999,\n",
       "  -0.08,\n",
       "  -0.10999999999999999,\n",
       "  -0.15,\n",
       "  0.15,\n",
       "  0.15,\n",
       "  0.15],\n",
       " 'zeros': [0.15,\n",
       "  -0.15,\n",
       "  -0.10999999999999999,\n",
       "  -0.08,\n",
       "  -0.10999999999999999,\n",
       "  -0.15,\n",
       "  0.15,\n",
       "  0.15,\n",
       "  0.15]}"
      ]
     },
     "execution_count": 7,
     "metadata": {},
     "output_type": "execute_result"
    }
   ],
   "source": [
    "prop_test.store_partial(smiles=mapped_smiles,\n",
    "                        conformer=prop_test.retrieve(smiles_list[-1])[0].conformer,\n",
    "                        charge_model= 'zeros',\n",
    "                        charges=charge_mol_am1bcc_list)\n",
    "\n",
    "prop_test.retrieve_partial(smiles=mapped_smiles,\n",
    "                           conformer=prop_test.retrieve(smiles_list[-1])[0].conformer)"
   ]
  },
  {
   "cell_type": "code",
   "execution_count": 12,
   "metadata": {},
   "outputs": [
    {
     "data": {
      "text/plain": [
       "MoleculePropRecord(tagged_smiles='[O:1]([C:2]([C:3]([O:4][H:11])([C:5]([O:6][H:14])([H:12])[H:13])[H:10])([H:8])[H:9])[H:7]', conformer=array([[-1.74483717e+00, -1.16923060e+00,  3.52914751e-01],\n",
       "       [-1.30043745e+00,  1.60682281e-01,  3.88060305e-01],\n",
       "       [ 5.52572148e-02,  3.46731476e-01, -2.91818870e-01],\n",
       "       [ 3.85542074e-01,  1.70943527e+00, -3.26207719e-01],\n",
       "       [ 1.16166040e+00, -3.80040443e-01,  4.56204088e-01],\n",
       "       [ 2.37386482e+00, -4.03906723e-01, -2.44070740e-01],\n",
       "       [-2.03999415e+00, -1.38608151e+00, -5.20296182e-01],\n",
       "       [-1.22258471e+00,  4.37792559e-01,  1.43130366e+00],\n",
       "       [-2.02864692e+00,  8.28642073e-01, -6.89097897e-02],\n",
       "       [-1.42782733e-03, -5.67834309e-02, -1.30592724e+00],\n",
       "       [-1.30197184e-01,  2.15553394e+00, -9.82944930e-01],\n",
       "       [ 1.35308643e+00,  1.49434130e-01,  1.38025051e+00],\n",
       "       [ 8.29012288e-01, -1.38378339e+00,  7.01182193e-01],\n",
       "       [ 2.30970220e+00, -1.00842563e+00, -9.69740037e-01]]), grid_coordinates=array([[-4.59619408e+00, -2.12132034e+00,  3.82233927e-15],\n",
       "       [-4.59619408e+00, -2.12132034e+00,  7.07106781e-01],\n",
       "       [-4.59619408e+00, -1.76776695e+00, -3.53553391e-01],\n",
       "       ...,\n",
       "       [ 5.30330086e+00, -3.74303763e-15, -7.07106781e-01],\n",
       "       [ 5.30330086e+00, -3.74303763e-15,  3.82233927e-15],\n",
       "       [ 5.30330086e+00,  3.53553391e-01, -3.53553391e-01]]), esp=array([[ 0.00241175],\n",
       "       [-0.00532535],\n",
       "       [ 0.00737906],\n",
       "       ...,\n",
       "       [-0.02025454],\n",
       "       [-0.02289385],\n",
       "       [-0.02232666]]), electric_field=array([[ 6.0851150e-04, -1.7931760e-04,  6.6285872e-03],\n",
       "       [ 4.7021949e-03,  9.8802830e-04,  4.4560350e-03],\n",
       "       [-2.0543921e-03, -7.8282320e-04,  6.9575885e-03],\n",
       "       ...,\n",
       "       [-5.9732837e-03,  1.3272246e-03,  3.0098107e-03],\n",
       "       [-7.1988127e-03,  8.1357000e-04,  7.8672220e-04],\n",
       "       [-6.7656718e-03,  7.3597400e-05,  1.7383174e-03]]), esp_settings=ESPSettings(basis='6-31G*', method='hf', grid_settings=LatticeGridSettings(type='fcc', spacing=0.5, inner_vdw_scale=1.4, outer_vdw_scale=2.0), pcm_settings=None, psi4_dft_grid_settings=<DFTGridSettings.Default: 'default'>), mulliken_charges=array([-0.73734579, -0.02447918,  0.11756135, -0.73731243,  0.00875071,\n",
       "       -0.73499065,  0.43804742,  0.18581185,  0.14089696,  0.1203388 ,\n",
       "        0.43975199,  0.18330349,  0.16756023,  0.43210525]), lowdin_charges=array([-0.52128414, -0.10109616,  0.00531395, -0.50405069, -0.09043403,\n",
       "       -0.51258391,  0.35640563,  0.15199032,  0.11833241,  0.10783985,\n",
       "        0.35337187,  0.15071366,  0.13581654,  0.3496647 ]), mbis_charges=array([[-0.68146554],\n",
       "       [ 0.11369298],\n",
       "       [ 0.10728801],\n",
       "       [-0.65628907],\n",
       "       [ 0.14327948],\n",
       "       [-0.673989  ],\n",
       "       [ 0.44975509],\n",
       "       [ 0.08898321],\n",
       "       [ 0.03800307],\n",
       "       [ 0.03757985],\n",
       "       [ 0.44693836],\n",
       "       [ 0.08720612],\n",
       "       [ 0.05736164],\n",
       "       [ 0.44166794]]), dipole=array([-1.04266925, -0.22947166, -1.1302388 ]), quadropole=array([[-31.25747178,  -4.10965089,   2.4182963 ],\n",
       "       [ -4.10965089, -27.04053299,   1.56860298],\n",
       "       [  2.4182963 ,   1.56860298, -23.7467629 ]]), mbis_dipole=array([[ 0.04237951,  0.08173648,  0.05666083],\n",
       "       [-0.05116512, -0.14980226,  0.02349644],\n",
       "       [ 0.06343287,  0.14716019, -0.01750752],\n",
       "       [ 0.02628693, -0.1043703 ,  0.04596404],\n",
       "       [ 0.14679028,  0.03395472, -0.07640193],\n",
       "       [-0.06007891,  0.05742007,  0.07224617],\n",
       "       [-0.00598222, -0.0034226 , -0.01568646],\n",
       "       [ 0.01066747,  0.00523095,  0.05522063],\n",
       "       [-0.03693496,  0.03396674, -0.02735308],\n",
       "       [ 0.0016306 , -0.01944368, -0.04329387],\n",
       "       [-0.0091147 ,  0.00868149, -0.01317768],\n",
       "       [ 0.01731747,  0.04047857,  0.03870743],\n",
       "       [-0.02388053, -0.05645074,  0.01054763],\n",
       "       [-0.00111478, -0.01127107, -0.01302381]]), mbis_quadropole=array([[[-4.48992892e+00,  6.65009026e-02,  4.69345180e-02],\n",
       "        [ 6.65009026e-02, -4.40996820e+00,  3.62874042e-02],\n",
       "        [ 4.69345180e-02,  3.62874042e-02, -4.37318115e+00]],\n",
       "\n",
       "       [[-4.21646562e+00,  3.34356353e-02,  5.44509661e-02],\n",
       "        [ 3.34356353e-02, -4.07991284e+00, -3.93308987e-02],\n",
       "        [ 5.44509661e-02, -3.93308987e-02, -4.18016511e+00]],\n",
       "\n",
       "       [[-4.28490716e+00,  7.75525279e-02, -8.81753927e-03],\n",
       "        [ 7.75525279e-02, -4.14270446e+00,  4.52288393e-02],\n",
       "        [-8.81753927e-03,  4.52288393e-02, -4.22182748e+00]],\n",
       "\n",
       "       [[-4.41644489e+00, -1.75734034e-02,  6.00789501e-02],\n",
       "        [-1.75734034e-02, -4.32444618e+00, -6.48215069e-02],\n",
       "        [ 6.00789501e-02, -6.48215069e-02, -4.40541132e+00]],\n",
       "\n",
       "       [[-4.03422321e+00,  6.00510868e-02, -5.52354446e-02],\n",
       "        [ 6.00510868e-02, -4.03204039e+00,  1.81946896e-02],\n",
       "        [-5.52354446e-02,  1.81946896e-02, -4.13588546e+00]],\n",
       "\n",
       "       [[-4.40538600e+00, -5.39867081e-03, -4.22464253e-02],\n",
       "        [-5.39867081e-03, -4.42289766e+00,  9.23138642e-02],\n",
       "        [-4.22464253e-02,  9.23138642e-02, -4.38156390e+00]],\n",
       "\n",
       "       [[-2.42530783e-01,  2.13982901e-03,  4.80706266e-04],\n",
       "        [ 2.13982901e-03, -2.33660348e-01, -4.53928571e-03],\n",
       "        [ 4.80706266e-04, -4.53928571e-03, -2.39401183e-01]],\n",
       "\n",
       "       [[-5.01402337e-01,  1.03702194e-02, -1.66827855e-03],\n",
       "        [ 1.03702194e-02, -4.89328978e-01, -2.18124815e-03],\n",
       "        [-1.66827855e-03, -2.18124815e-03, -5.18751770e-01]],\n",
       "\n",
       "       [[-5.69082971e-01,  1.53210074e-02, -5.19629326e-03],\n",
       "        [ 1.53210074e-02, -5.59543329e-01,  1.86392281e-04],\n",
       "        [-5.19629326e-03,  1.86392281e-04, -5.74003002e-01]],\n",
       "\n",
       "       [[-5.55314998e-01,  4.86368910e-03, -7.61653185e-04],\n",
       "        [ 4.86368910e-03, -5.52257402e-01, -1.00281750e-02],\n",
       "        [-7.61653185e-04, -1.00281750e-02, -5.87371823e-01]],\n",
       "\n",
       "       [[-2.42636630e-01,  4.34781463e-03,  3.44998181e-03],\n",
       "        [ 4.34781463e-03, -2.37585519e-01,  1.64689884e-03],\n",
       "        [ 3.44998181e-03,  1.64689884e-03, -2.42458517e-01]],\n",
       "\n",
       "       [[-4.91398982e-01, -5.76297373e-03, -9.07084886e-03],\n",
       "        [-5.76297373e-03, -5.09878436e-01, -4.34410171e-03],\n",
       "        [-9.07084886e-03, -4.34410171e-03, -5.12956481e-01]],\n",
       "\n",
       "       [[-5.25222262e-01, -6.25893178e-03, -6.87452914e-03],\n",
       "        [-6.25893178e-03, -5.52094617e-01, -2.46694070e-04],\n",
       "        [-6.87452914e-03, -2.46694070e-04, -5.45153271e-01]],\n",
       "\n",
       "       [[-2.38929793e-01,  3.75958706e-03, -2.08184680e-03],\n",
       "        [ 3.75958706e-03, -2.46934905e-01,  8.85638695e-04],\n",
       "        [-2.08184680e-03,  8.85638695e-04, -2.49354291e-01]]]), mbis_octopole=array([[[[ 6.02585737e-02,  9.02019349e-02,  4.92922911e-02],\n",
       "         [ 9.02019349e-02, -1.35044315e-01,  3.13665771e-03],\n",
       "         [ 4.92922911e-02,  3.13665771e-03,  7.81582352e-02]],\n",
       "\n",
       "        [[ 9.02019349e-02, -1.35044315e-01,  3.13665771e-03],\n",
       "         [-1.35044315e-01, -1.69592823e-01,  1.62137349e-02],\n",
       "         [ 3.13665771e-03,  1.62137349e-02,  1.16071980e-01]],\n",
       "\n",
       "        [[ 4.92922911e-02,  3.13665771e-03,  7.81582352e-02],\n",
       "         [ 3.13665771e-03,  1.62137349e-02,  1.16071980e-01],\n",
       "         [ 7.81582352e-02,  1.16071980e-01,  2.94821632e-01]]],\n",
       "\n",
       "\n",
       "       [[[-3.20119125e-01, -1.31547240e-01,  1.93775619e-01],\n",
       "         [-1.31547240e-01,  1.77928964e-01,  1.85826286e-02],\n",
       "         [ 1.93775619e-01,  1.85826286e-02, -9.55725661e-02]],\n",
       "\n",
       "        [[-1.31547240e-01,  1.77928964e-01,  1.85826286e-02],\n",
       "         [ 1.77928964e-01,  1.52586660e-02,  9.03997576e-02],\n",
       "         [ 1.85826286e-02,  9.03997576e-02, -2.18811930e-01]],\n",
       "\n",
       "        [[ 1.93775619e-01,  1.85826286e-02, -9.55725661e-02],\n",
       "         [ 1.85826286e-02,  9.03997576e-02, -2.18811930e-01],\n",
       "         [-9.55725661e-02, -2.18811930e-01, -2.26578664e-02]]],\n",
       "\n",
       "\n",
       "       [[[ 3.29120646e-01,  2.00616198e-01, -2.21144019e-01],\n",
       "         [ 2.00616198e-01, -9.91604812e-02,  7.84165240e-02],\n",
       "         [-2.21144019e-01,  7.84165240e-02,  4.58650560e-02]],\n",
       "\n",
       "        [[ 2.00616198e-01, -9.91604812e-02,  7.84165240e-02],\n",
       "         [-9.91604812e-02, -7.87272034e-02,  2.34506778e-02],\n",
       "         [ 7.84165240e-02,  2.34506778e-02,  2.22550736e-01]],\n",
       "\n",
       "        [[-2.21144019e-01,  7.84165240e-02,  4.58650560e-02],\n",
       "         [ 7.84165240e-02,  2.34506778e-02,  2.22550736e-01],\n",
       "         [ 4.58650560e-02,  2.22550736e-01,  9.91731347e-02]]],\n",
       "\n",
       "\n",
       "       [[[ 9.25308515e-02, -1.18673538e-01,  6.60366264e-02],\n",
       "         [-1.18673538e-01,  1.41367267e-01, -1.90328543e-02],\n",
       "         [ 6.60366264e-02, -1.90328543e-02,  5.52446167e-02]],\n",
       "\n",
       "        [[-1.18673538e-01,  1.41367267e-01, -1.90328543e-02],\n",
       "         [ 1.41367267e-01,  1.50426948e-01,  2.64863623e-02],\n",
       "         [-1.90328543e-02,  2.64863623e-02, -1.46880530e-01]],\n",
       "\n",
       "        [[ 6.60366264e-02, -1.90328543e-02,  5.52446167e-02],\n",
       "         [-1.90328543e-02,  2.64863623e-02, -1.46880530e-01],\n",
       "         [ 5.52446167e-02, -1.46880530e-01,  1.26551301e-01]]],\n",
       "\n",
       "\n",
       "       [[[ 2.38127396e-01, -2.44282375e-02,  2.51849753e-01],\n",
       "         [-2.44282375e-02,  2.06631408e-01, -9.51649777e-02],\n",
       "         [ 2.51849753e-01, -9.51649777e-02,  4.45914618e-02]],\n",
       "\n",
       "        [[-2.44282375e-02,  2.06631408e-01, -9.51649777e-02],\n",
       "         [ 2.06631408e-01,  2.55253006e-01, -8.71588825e-02],\n",
       "         [-9.51649777e-02, -8.71588825e-02, -3.84444818e-02]],\n",
       "\n",
       "        [[ 2.51849753e-01, -9.51649777e-02,  4.45914618e-02],\n",
       "         [-9.51649777e-02, -8.71588825e-02, -3.84444818e-02],\n",
       "         [ 4.45914618e-02, -3.84444818e-02, -2.23092372e-01]]],\n",
       "\n",
       "\n",
       "       [[[ 1.04454441e-01,  4.82844458e-02, -1.25286934e-01],\n",
       "         [ 4.82844458e-02, -6.73910028e-02,  2.13557778e-02],\n",
       "         [-1.25286934e-01,  2.13557778e-02,  7.60528365e-02]],\n",
       "\n",
       "        [[ 4.82844458e-02, -6.73910028e-02,  2.13557778e-02],\n",
       "         [-6.73910028e-02,  1.91284021e-01,  1.42500751e-01],\n",
       "         [ 2.13557778e-02,  1.42500751e-01,  1.01773634e-01]],\n",
       "\n",
       "        [[-1.25286934e-01,  2.13557778e-02,  7.60528365e-02],\n",
       "         [ 2.13557778e-02,  1.42500751e-01,  1.01773634e-01],\n",
       "         [ 7.60528365e-02,  1.01773634e-01,  2.20230774e-01]]],\n",
       "\n",
       "\n",
       "       [[[-6.97462443e-03,  1.92302114e-03, -6.30083593e-03],\n",
       "         [ 1.92302114e-03, -2.52654849e-03,  1.10999766e-03],\n",
       "         [-6.30083593e-03,  1.10999766e-03, -1.58447922e-03]],\n",
       "\n",
       "        [[ 1.92302114e-03, -2.52654849e-03,  1.10999766e-03],\n",
       "         [-2.52654849e-03, -1.77853520e-03, -4.56601543e-03],\n",
       "         [ 1.10999766e-03, -4.56601543e-03,  6.63460469e-04]],\n",
       "\n",
       "        [[-6.30083593e-03,  1.10999766e-03, -1.58447922e-03],\n",
       "         [ 1.10999766e-03, -4.56601543e-03,  6.63460469e-04],\n",
       "         [-1.58447922e-03,  6.63460469e-04, -1.48584206e-02]]],\n",
       "\n",
       "\n",
       "       [[[ 1.84207967e-02, -6.75397482e-03,  1.78506049e-02],\n",
       "         [-6.75397482e-03,  1.20696601e-02, -2.55592343e-03],\n",
       "         [ 1.78506049e-02, -2.55592343e-03,  2.74096907e-03]],\n",
       "\n",
       "        [[-6.75397482e-03,  1.20696601e-02, -2.55592343e-03],\n",
       "         [ 1.20696601e-02, -1.45593536e-02,  1.28046203e-02],\n",
       "         [-2.55592343e-03,  1.28046203e-02, -5.44456949e-03]],\n",
       "\n",
       "        [[ 1.78506049e-02, -2.55592343e-03,  2.74096907e-03],\n",
       "         [-2.55592343e-03,  1.28046203e-02, -5.44456949e-03],\n",
       "         [ 2.74096907e-03, -5.44456949e-03,  3.43287003e-02]]],\n",
       "\n",
       "\n",
       "       [[[-3.04091679e-02,  5.57482891e-03, -1.93472557e-03],\n",
       "         [ 5.57482891e-03, -4.64962763e-03, -7.15728146e-04],\n",
       "         [-1.93472557e-03, -7.15728146e-04, -7.96438511e-03]],\n",
       "\n",
       "        [[ 5.57482891e-03, -4.64962763e-03, -7.15728146e-04],\n",
       "         [-4.64962763e-03,  1.56336030e-02, -5.01998783e-03],\n",
       "         [-7.15728146e-04, -5.01998783e-03,  1.57533998e-03]],\n",
       "\n",
       "        [[-1.93472557e-03, -7.15728146e-04, -7.96438511e-03],\n",
       "         [-7.15728146e-04, -5.01998783e-03,  1.57533998e-03],\n",
       "         [-7.96438511e-03,  1.57533998e-03, -4.29434570e-02]]],\n",
       "\n",
       "\n",
       "       [[[ 6.23359595e-03, -1.10467983e-03, -1.18112643e-02],\n",
       "         [-1.10467983e-03,  3.09518848e-03,  3.32640453e-03],\n",
       "         [-1.18112643e-02,  3.32640453e-03,  1.46667510e-03]],\n",
       "\n",
       "        [[-1.10467983e-03,  3.09518848e-03,  3.32640453e-03],\n",
       "         [ 3.09518848e-03, -1.24644661e-02, -3.00569609e-04],\n",
       "         [ 3.32640453e-03, -3.00569609e-04,  2.48239207e-03]],\n",
       "\n",
       "        [[-1.18112643e-02,  3.32640453e-03,  1.46667510e-03],\n",
       "         [ 3.32640453e-03, -3.00569609e-04,  2.48239207e-03],\n",
       "         [ 1.46667510e-03,  2.48239207e-03, -1.01736155e-02]]],\n",
       "\n",
       "\n",
       "       [[[-1.02920253e-02,  1.97293257e-03, -4.36404770e-03],\n",
       "         [ 1.97293257e-03, -2.36696573e-03,  3.83640770e-04],\n",
       "         [-4.36404770e-03,  3.83640770e-04, -2.27427157e-03]],\n",
       "\n",
       "        [[ 1.97293257e-03, -2.36696573e-03,  3.83640770e-04],\n",
       "         [-2.36696573e-03,  7.18491459e-03, -3.31590118e-03],\n",
       "         [ 3.83640770e-04, -3.31590118e-03,  8.65821134e-04]],\n",
       "\n",
       "        [[-4.36404770e-03,  3.83640770e-04, -2.27427157e-03],\n",
       "         [ 3.83640770e-04, -3.31590118e-03,  8.65821134e-04],\n",
       "         [-2.27427157e-03,  8.65821134e-04, -1.75913713e-02]]],\n",
       "\n",
       "\n",
       "       [[[ 2.29284027e-02,  1.49550835e-02,  3.97752256e-03],\n",
       "         [ 1.49550835e-02,  8.41202384e-03, -3.00685996e-03],\n",
       "         [ 3.97752256e-03, -3.00685996e-03,  1.19276198e-02]],\n",
       "\n",
       "        [[ 1.49550835e-02,  8.41202384e-03, -3.00685996e-03],\n",
       "         [ 8.41202384e-03,  6.01371002e-02, -1.49100980e-03],\n",
       "         [-3.00685996e-03, -1.49100980e-03,  1.45768368e-02]],\n",
       "\n",
       "        [[ 3.97752256e-03, -3.00685996e-03,  1.19276198e-02],\n",
       "         [-3.00685996e-03, -1.49100980e-03,  1.45768368e-02],\n",
       "         [ 1.19276198e-02,  1.45768368e-02,  6.52627730e-03]]],\n",
       "\n",
       "\n",
       "       [[[-1.84191009e-02, -1.24101527e-02,  6.88398556e-03],\n",
       "         [-1.24101527e-02, -5.87757871e-03, -4.90332165e-03],\n",
       "         [ 6.88398556e-03, -4.90332165e-03, -1.34767930e-02]],\n",
       "\n",
       "        [[-1.24101527e-02, -5.87757871e-03, -4.90332165e-03],\n",
       "         [-5.87757871e-03, -4.48606139e-02, -1.43396889e-03],\n",
       "         [-4.90332165e-03, -1.43396889e-03, -2.27706448e-02]],\n",
       "\n",
       "        [[ 6.88398556e-03, -4.90332165e-03, -1.34767930e-02],\n",
       "         [-4.90332165e-03, -1.43396889e-03, -2.27706448e-02],\n",
       "         [-1.34767930e-02, -2.27706448e-02, -8.26586470e-03]]],\n",
       "\n",
       "\n",
       "       [[[-2.17317054e-03, -2.63543809e-03, -4.33234284e-03],\n",
       "         [-2.63543809e-03, -2.13492313e-03, -3.63262680e-04],\n",
       "         [-4.33234284e-03, -3.63262680e-04, -1.31564830e-03]],\n",
       "\n",
       "        [[-2.63543809e-03, -2.13492313e-03, -3.63262680e-04],\n",
       "         [-2.13492313e-03, -1.46401798e-02, -2.31295926e-03],\n",
       "         [-3.63262680e-04, -2.31295926e-03, -2.79230664e-03]],\n",
       "\n",
       "        [[-4.33234284e-03, -3.63262680e-04, -1.31564830e-03],\n",
       "         [-3.63262680e-04, -2.31295926e-03, -2.79230664e-03],\n",
       "         [-1.31564830e-03, -2.79230664e-03, -1.02999577e-02]]]]), energy=array(-342.80416159), charge_model_charges=None)"
      ]
     },
     "execution_count": 12,
     "metadata": {},
     "output_type": "execute_result"
    }
   ],
   "source": [
    "prop_test.retrieve(smiles_list[0])[0]"
   ]
  },
  {
   "cell_type": "code",
   "execution_count": 13,
   "metadata": {},
   "outputs": [],
   "source": [
    "import sys\n",
    "import os\n",
    "CWD = os.getcwd()\n",
    "sys.path.append(os.path.dirname(CWD))\n",
    "\n",
    "from openff.recharge.esp.storage import MoleculeESPRecord, MoleculeESPStore\n",
    "from source.storage.storage import MoleculePropRecord, MoleculePropStore\n",
    "\n",
    "prop_store = MoleculePropStore(\"/Users/localadmin/Documents/projects/QM_ESP_Psi4/properties_store.db\")"
   ]
  },
  {
   "cell_type": "code",
   "execution_count": 14,
   "metadata": {},
   "outputs": [
    {
     "data": {
      "text/plain": [
       "['OCC(O)CO',\n",
       " 'C#CC',\n",
       " 'C1CN1',\n",
       " 'C1COC1',\n",
       " 'CC#N',\n",
       " 'CC(=O)[O-]',\n",
       " 'CC(C)=O',\n",
       " 'CCCC',\n",
       " 'CCNCC',\n",
       " 'CN(C)C',\n",
       " 'CN=[N+]=[N-]',\n",
       " 'CNC',\n",
       " 'COC',\n",
       " 'CSC',\n",
       " 'Fc1ccccc1',\n",
       " 'NCO',\n",
       " 'Nc1ccccc1',\n",
       " 'O=[NH+][O-]',\n",
       " 'Oc1ccccc1',\n",
       " 'CCl',\n",
       " 'CF',\n",
       " 'CO',\n",
       " 'CS',\n",
       " 'C1COCO1',\n",
       " 'c1ccccc1',\n",
       " 'c1ccncc1',\n",
       " 'c1ccsc1']"
      ]
     },
     "execution_count": 14,
     "metadata": {},
     "output_type": "execute_result"
    }
   ],
   "source": [
    "prop_store.list()"
   ]
  },
  {
   "cell_type": "code",
   "execution_count": 16,
   "metadata": {},
   "outputs": [
    {
     "data": {
      "text/plain": [
       "MoleculePropRecord(tagged_smiles='[O:1]([C:2]([C:3]([O:4][H:11])([C:5]([O:6][H:14])([H:12])[H:13])[H:10])([H:8])[H:9])[H:7]', conformer=array([[-1.74483717e+00, -1.16923047e+00,  3.52915111e-01],\n",
       "       [-1.30043747e+00,  1.60682425e-01,  3.88060227e-01],\n",
       "       [ 5.52572052e-02,  3.46731346e-01, -2.91818959e-01],\n",
       "       [ 3.85542282e-01,  1.70943510e+00, -3.26207861e-01],\n",
       "       [ 1.16166033e+00, -3.80040665e-01,  4.56204066e-01],\n",
       "       [ 2.37386492e+00, -4.03906578e-01, -2.44070448e-01],\n",
       "       [-2.03999420e+00, -1.38608159e+00, -5.20295724e-01],\n",
       "       [-1.22258476e+00,  4.37793005e-01,  1.43130349e+00],\n",
       "       [-2.02864693e+00,  8.28642072e-01, -6.89100770e-02],\n",
       "       [-1.42786564e-03, -5.67835820e-02, -1.30592730e+00],\n",
       "       [-1.30197209e-01,  2.15553390e+00, -9.82944781e-01],\n",
       "       [ 1.35308615e+00,  1.49433644e-01,  1.38025067e+00],\n",
       "       [ 8.29012354e-01, -1.38378373e+00,  7.01181821e-01],\n",
       "       [ 2.30970237e+00, -1.00842489e+00, -9.69740233e-01]]), grid_coordinates=array([[-4.59619408e+00, -2.12132034e+00,  3.72717730e-15],\n",
       "       [-4.59619408e+00, -2.12132034e+00,  7.07106781e-01],\n",
       "       [-4.59619408e+00, -1.76776695e+00, -3.53553391e-01],\n",
       "       ...,\n",
       "       [ 5.30330086e+00, -3.85405993e-15, -7.07106781e-01],\n",
       "       [ 5.30330086e+00, -3.85405993e-15,  3.72717730e-15],\n",
       "       [ 5.30330086e+00,  3.53553391e-01, -3.53553391e-01]]), esp=array([[ 0.00241176],\n",
       "       [-0.00532534],\n",
       "       [ 0.00737907],\n",
       "       ...,\n",
       "       [-0.02025453],\n",
       "       [-0.02289385],\n",
       "       [-0.02232666]]), electric_field=array([[ 6.0850680e-04, -1.7931780e-04,  6.6285878e-03],\n",
       "       [ 4.7021919e-03,  9.8802860e-04,  4.4560377e-03],\n",
       "       [-2.0543967e-03, -7.8282280e-04,  6.9575878e-03],\n",
       "       ...,\n",
       "       [-5.9732821e-03,  1.3272247e-03,  3.0098134e-03],\n",
       "       [-7.1988131e-03,  8.1357000e-04,  7.8672480e-04],\n",
       "       [-6.7656714e-03,  7.3597800e-05,  1.7383201e-03]]), esp_settings=ESPSettings(basis='6-31G*', method='hf', grid_settings=LatticeGridSettings(type='fcc', spacing=0.5, inner_vdw_scale=1.4, outer_vdw_scale=2.0), pcm_settings=None, psi4_dft_grid_settings=<DFTGridSettings.Default: 'default'>), mulliken_charges=array([-0.73734578, -0.02447918,  0.11756129, -0.73731242,  0.00875075,\n",
       "       -0.73499063,  0.43804742,  0.18581186,  0.14089696,  0.1203388 ,\n",
       "        0.43975199,  0.18330348,  0.16756023,  0.43210524]), lowdin_charges=array([-0.52128413, -0.10109616,  0.00531395, -0.50405069, -0.09043403,\n",
       "       -0.5125839 ,  0.35640562,  0.15199033,  0.11833241,  0.10783985,\n",
       "        0.35337186,  0.15071366,  0.13581654,  0.34966469]), mbis_charges=array([[-0.68146553],\n",
       "       [ 0.113693  ],\n",
       "       [ 0.10728797],\n",
       "       [-0.65628906],\n",
       "       [ 0.14327951],\n",
       "       [-0.67398899],\n",
       "       [ 0.44975509],\n",
       "       [ 0.08898321],\n",
       "       [ 0.03800307],\n",
       "       [ 0.03757985],\n",
       "       [ 0.44693835],\n",
       "       [ 0.08720611],\n",
       "       [ 0.05736163],\n",
       "       [ 0.44166793]]), dipole=array([-1.0426696 , -0.22947148, -1.13023911]), quadropole=array([[-31.25747123,  -4.10964999,   2.41829465],\n",
       "       [ -4.10964999, -27.04053279,   1.56860371],\n",
       "       [  2.41829465,   1.56860371, -23.7467634 ]]), mbis_dipole=array([[ 0.04237952,  0.08173649,  0.05666081],\n",
       "       [-0.05116512, -0.14980225,  0.02349648],\n",
       "       [ 0.06343288,  0.14716016, -0.01750753],\n",
       "       [ 0.02628693, -0.1043703 ,  0.04596403],\n",
       "       [ 0.14679028,  0.03395475, -0.07640187],\n",
       "       [-0.06007892,  0.05742002,  0.07224618],\n",
       "       [-0.00598222, -0.0034226 , -0.01568646],\n",
       "       [ 0.01066746,  0.00523096,  0.05522063],\n",
       "       [-0.03693496,  0.03396673, -0.02735309],\n",
       "       [ 0.00163059, -0.01944368, -0.04329387],\n",
       "       [-0.00911471,  0.0086815 , -0.01317768],\n",
       "       [ 0.01731747,  0.04047855,  0.03870745],\n",
       "       [-0.02388051, -0.05645075,  0.01054761],\n",
       "       [-0.00111479, -0.01127106, -0.01302382]]), mbis_quadropole=array([[[-4.48992888e+00,  6.65009180e-02,  4.69345172e-02],\n",
       "        [ 6.65009180e-02, -4.40996814e+00,  3.62874097e-02],\n",
       "        [ 4.69345172e-02,  3.62874097e-02, -4.37318112e+00]],\n",
       "\n",
       "       [[-4.21646555e+00,  3.34356363e-02,  5.44509540e-02],\n",
       "        [ 3.34356363e-02, -4.07991281e+00, -3.93309364e-02],\n",
       "        [ 5.44509540e-02, -3.93309364e-02, -4.18016501e+00]],\n",
       "\n",
       "       [[-4.28490723e+00,  7.75525684e-02, -8.81752295e-03],\n",
       "        [ 7.75525684e-02, -4.14270456e+00,  4.52288004e-02],\n",
       "        [-8.81752295e-03,  4.52288004e-02, -4.22182758e+00]],\n",
       "\n",
       "       [[-4.41644483e+00, -1.75734172e-02,  6.00789768e-02],\n",
       "        [-1.75734172e-02, -4.32444615e+00, -6.48215050e-02],\n",
       "        [ 6.00789768e-02, -6.48215050e-02, -4.40541139e+00]],\n",
       "\n",
       "       [[-4.03422312e+00,  6.00510774e-02, -5.52354081e-02],\n",
       "        [ 6.00510774e-02, -4.03204035e+00,  1.81947017e-02],\n",
       "        [-5.52354081e-02,  1.81947017e-02, -4.13588537e+00]],\n",
       "\n",
       "       [[-4.40538594e+00, -5.39866415e-03, -4.22464004e-02],\n",
       "        [-5.39866415e-03, -4.42289780e+00,  9.23138214e-02],\n",
       "        [-4.22464004e-02,  9.23138214e-02, -4.38156374e+00]],\n",
       "\n",
       "       [[-2.42530771e-01,  2.13982865e-03,  4.80705149e-04],\n",
       "        [ 2.13982865e-03, -2.33660340e-01, -4.53928777e-03],\n",
       "        [ 4.80705149e-04, -4.53928777e-03, -2.39401169e-01]],\n",
       "\n",
       "       [[-5.01402326e-01,  1.03702165e-02, -1.66828211e-03],\n",
       "        [ 1.03702165e-02, -4.89328969e-01, -2.18125599e-03],\n",
       "        [-1.66828211e-03, -2.18125599e-03, -5.18751755e-01]],\n",
       "\n",
       "       [[-5.69082970e-01,  1.53210054e-02, -5.19629861e-03],\n",
       "        [ 1.53210054e-02, -5.59543334e-01,  1.86387840e-04],\n",
       "        [-5.19629861e-03,  1.86387840e-04, -5.74003005e-01]],\n",
       "\n",
       "       [[-5.55314991e-01,  4.86369158e-03, -7.61653016e-04],\n",
       "        [ 4.86369158e-03, -5.52257399e-01, -1.00281760e-02],\n",
       "        [-7.61653016e-04, -1.00281760e-02, -5.87371816e-01]],\n",
       "\n",
       "       [[-2.42636629e-01,  4.34781647e-03,  3.44998152e-03],\n",
       "        [ 4.34781647e-03, -2.37585522e-01,  1.64689714e-03],\n",
       "        [ 3.44998152e-03,  1.64689714e-03, -2.42458523e-01]],\n",
       "\n",
       "       [[-4.91398976e-01, -5.76296507e-03, -9.07084608e-03],\n",
       "        [-5.76296507e-03, -5.09878436e-01, -4.34410479e-03],\n",
       "        [-9.07084608e-03, -4.34410479e-03, -5.12956488e-01]],\n",
       "\n",
       "       [[-5.25222269e-01, -6.25892789e-03, -6.87452485e-03],\n",
       "        [-6.25892789e-03, -5.52094621e-01, -2.46696751e-04],\n",
       "        [-6.87452485e-03, -2.46696751e-04, -5.45153277e-01]],\n",
       "\n",
       "       [[-2.38929791e-01,  3.75958629e-03, -2.08184154e-03],\n",
       "        [ 3.75958629e-03, -2.46934907e-01,  8.85639815e-04],\n",
       "        [-2.08184154e-03,  8.85639815e-04, -2.49354291e-01]]]), mbis_octopole=array([[[[ 6.02586235e-02,  9.02019617e-02,  4.92922784e-02],\n",
       "         [ 9.02019617e-02, -1.35044313e-01,  3.13671701e-03],\n",
       "         [ 4.92922784e-02,  3.13671701e-03,  7.81582817e-02]],\n",
       "\n",
       "        [[ 9.02019617e-02, -1.35044313e-01,  3.13671701e-03],\n",
       "         [-1.35044313e-01, -1.69592800e-01,  1.62138607e-02],\n",
       "         [ 3.13671701e-03,  1.62138607e-02,  1.16072051e-01]],\n",
       "\n",
       "        [[ 4.92922784e-02,  3.13671701e-03,  7.81582817e-02],\n",
       "         [ 3.13671701e-03,  1.62138607e-02,  1.16072051e-01],\n",
       "         [ 7.81582817e-02,  1.16072051e-01,  2.94821493e-01]]],\n",
       "\n",
       "\n",
       "       [[[-3.20119139e-01, -1.31547184e-01,  1.93775658e-01],\n",
       "         [-1.31547184e-01,  1.77928966e-01,  1.85825064e-02],\n",
       "         [ 1.93775658e-01,  1.85825064e-02, -9.55725582e-02]],\n",
       "\n",
       "        [[-1.31547184e-01,  1.77928966e-01,  1.85825064e-02],\n",
       "         [ 1.77928966e-01,  1.52586774e-02,  9.03995955e-02],\n",
       "         [ 1.85825064e-02,  9.03995955e-02, -2.18812029e-01]],\n",
       "\n",
       "        [[ 1.93775658e-01,  1.85825064e-02, -9.55725582e-02],\n",
       "         [ 1.85825064e-02,  9.03995955e-02, -2.18812029e-01],\n",
       "         [-9.55725582e-02, -2.18812029e-01, -2.26576528e-02]]],\n",
       "\n",
       "\n",
       "       [[[ 3.29120682e-01,  2.00616103e-01, -2.21143988e-01],\n",
       "         [ 2.00616103e-01, -9.91605680e-02,  7.84165844e-02],\n",
       "         [-2.21143988e-01,  7.84165844e-02,  4.58650595e-02]],\n",
       "\n",
       "        [[ 2.00616103e-01, -9.91605680e-02,  7.84165844e-02],\n",
       "         [-9.91605680e-02, -7.87271493e-02,  2.34506639e-02],\n",
       "         [ 7.84165844e-02,  2.34506639e-02,  2.22550664e-01]],\n",
       "\n",
       "        [[-2.21143988e-01,  7.84165844e-02,  4.58650595e-02],\n",
       "         [ 7.84165844e-02,  2.34506639e-02,  2.22550664e-01],\n",
       "         [ 4.58650595e-02,  2.22550664e-01,  9.91730543e-02]]],\n",
       "\n",
       "\n",
       "       [[[ 9.25308208e-02, -1.18673504e-01,  6.60366795e-02],\n",
       "         [-1.18673504e-01,  1.41367332e-01, -1.90328840e-02],\n",
       "         [ 6.60366795e-02, -1.90328840e-02,  5.52446098e-02]],\n",
       "\n",
       "        [[-1.18673504e-01,  1.41367332e-01, -1.90328840e-02],\n",
       "         [ 1.41367332e-01,  1.50426887e-01,  2.64863468e-02],\n",
       "         [-1.90328840e-02,  2.64863468e-02, -1.46880510e-01]],\n",
       "\n",
       "        [[ 6.60366795e-02, -1.90328840e-02,  5.52446098e-02],\n",
       "         [-1.90328840e-02,  2.64863468e-02, -1.46880510e-01],\n",
       "         [ 5.52446098e-02, -1.46880510e-01,  1.26551188e-01]]],\n",
       "\n",
       "\n",
       "       [[[ 2.38127212e-01, -2.44283311e-02,  2.51849865e-01],\n",
       "         [-2.44283311e-02,  2.06631462e-01, -9.51648340e-02],\n",
       "         [ 2.51849865e-01, -9.51648340e-02,  4.45915647e-02]],\n",
       "\n",
       "        [[-2.44283311e-02,  2.06631462e-01, -9.51648340e-02],\n",
       "         [ 2.06631462e-01,  2.55253082e-01, -8.71587520e-02],\n",
       "         [-9.51648340e-02, -8.71587520e-02, -3.84445296e-02]],\n",
       "\n",
       "        [[ 2.51849865e-01, -9.51648340e-02,  4.45915647e-02],\n",
       "         [-9.51648340e-02, -8.71587520e-02, -3.84445296e-02],\n",
       "         [ 4.45915647e-02, -3.84445296e-02, -2.23092312e-01]]],\n",
       "\n",
       "\n",
       "       [[[ 1.04454527e-01,  4.82845063e-02, -1.25286930e-01],\n",
       "         [ 4.82845063e-02, -6.73910641e-02,  2.13557084e-02],\n",
       "         [-1.25286930e-01,  2.13557084e-02,  7.60527423e-02]],\n",
       "\n",
       "        [[ 4.82845063e-02, -6.73910641e-02,  2.13557084e-02],\n",
       "         [-6.73910641e-02,  1.91283684e-01,  1.42500687e-01],\n",
       "         [ 2.13557084e-02,  1.42500687e-01,  1.01773686e-01]],\n",
       "\n",
       "        [[-1.25286930e-01,  2.13557084e-02,  7.60527423e-02],\n",
       "         [ 2.13557084e-02,  1.42500687e-01,  1.01773686e-01],\n",
       "         [ 7.60527423e-02,  1.01773686e-01,  2.20231004e-01]]],\n",
       "\n",
       "\n",
       "       [[[-6.97462235e-03,  1.92302082e-03, -6.30083779e-03],\n",
       "         [ 1.92302082e-03, -2.52654774e-03,  1.10999757e-03],\n",
       "         [-6.30083779e-03,  1.10999757e-03, -1.58447793e-03]],\n",
       "\n",
       "        [[ 1.92302082e-03, -2.52654774e-03,  1.10999757e-03],\n",
       "         [-2.52654774e-03, -1.77853692e-03, -4.56601499e-03],\n",
       "         [ 1.10999757e-03, -4.56601499e-03,  6.63459991e-04]],\n",
       "\n",
       "        [[-6.30083779e-03,  1.10999757e-03, -1.58447793e-03],\n",
       "         [ 1.10999757e-03, -4.56601499e-03,  6.63459991e-04],\n",
       "         [-1.58447793e-03,  6.63459991e-04, -1.48584233e-02]]],\n",
       "\n",
       "\n",
       "       [[[ 1.84207857e-02, -6.75397284e-03,  1.78506075e-02],\n",
       "         [-6.75397284e-03,  1.20696569e-02, -2.55592409e-03],\n",
       "         [ 1.78506075e-02, -2.55592409e-03,  2.74096705e-03]],\n",
       "\n",
       "        [[-6.75397284e-03,  1.20696569e-02, -2.55592409e-03],\n",
       "         [ 1.20696569e-02, -1.45593575e-02,  1.28046268e-02],\n",
       "         [-2.55592409e-03,  1.28046268e-02, -5.44456949e-03]],\n",
       "\n",
       "        [[ 1.78506075e-02, -2.55592409e-03,  2.74096705e-03],\n",
       "         [-2.55592409e-03,  1.28046268e-02, -5.44456949e-03],\n",
       "         [ 2.74096705e-03, -5.44456949e-03,  3.43287069e-02]]],\n",
       "\n",
       "\n",
       "       [[[-3.04091717e-02,  5.57482825e-03, -1.93472599e-03],\n",
       "         [ 5.57482825e-03, -4.64962800e-03, -7.15730791e-04],\n",
       "         [-1.93472599e-03, -7.15730791e-04, -7.96438756e-03]],\n",
       "\n",
       "        [[ 5.57482825e-03, -4.64962800e-03, -7.15730791e-04],\n",
       "         [-4.64962800e-03,  1.56335889e-02, -5.01999116e-03],\n",
       "         [-7.15730791e-04, -5.01999116e-03,  1.57532834e-03]],\n",
       "\n",
       "        [[-1.93472599e-03, -7.15730791e-04, -7.96438756e-03],\n",
       "         [-7.15730791e-04, -5.01999116e-03,  1.57532834e-03],\n",
       "         [-7.96438756e-03,  1.57532834e-03, -4.29434530e-02]]],\n",
       "\n",
       "\n",
       "       [[[ 6.23359064e-03, -1.10468285e-03, -1.18112624e-02],\n",
       "         [-1.10468285e-03,  3.09518087e-03,  3.32640727e-03],\n",
       "         [-1.18112624e-02,  3.32640727e-03,  1.46666818e-03]],\n",
       "\n",
       "        [[-1.10468285e-03,  3.09518087e-03,  3.32640727e-03],\n",
       "         [ 3.09518087e-03, -1.24644579e-02, -3.00572749e-04],\n",
       "         [ 3.32640727e-03, -3.00572749e-04,  2.48239567e-03]],\n",
       "\n",
       "        [[-1.18112624e-02,  3.32640727e-03,  1.46666818e-03],\n",
       "         [ 3.32640727e-03, -3.00572749e-04,  2.48239567e-03],\n",
       "         [ 1.46666818e-03,  2.48239567e-03, -1.01736124e-02]]],\n",
       "\n",
       "\n",
       "       [[[-1.02920280e-02,  1.97293489e-03, -4.36404153e-03],\n",
       "         [ 1.97293489e-03, -2.36696766e-03,  3.83639650e-04],\n",
       "         [-4.36404153e-03,  3.83639650e-04, -2.27427620e-03]],\n",
       "\n",
       "        [[ 1.97293489e-03, -2.36696766e-03,  3.83639650e-04],\n",
       "         [-2.36696766e-03,  7.18491581e-03, -3.31589946e-03],\n",
       "         [ 3.83639650e-04, -3.31589946e-03,  8.65821628e-04]],\n",
       "\n",
       "        [[-4.36404153e-03,  3.83639650e-04, -2.27427620e-03],\n",
       "         [ 3.83639650e-04, -3.31589946e-03,  8.65821628e-04],\n",
       "         [-2.27427620e-03,  8.65821628e-04, -1.75913651e-02]]],\n",
       "\n",
       "\n",
       "       [[[ 2.29284153e-02,  1.49550708e-02,  3.97752912e-03],\n",
       "         [ 1.49550708e-02,  8.41202981e-03, -3.00685698e-03],\n",
       "         [ 3.97752912e-03, -3.00685698e-03,  1.19276190e-02]],\n",
       "\n",
       "        [[ 1.49550708e-02,  8.41202981e-03, -3.00685698e-03],\n",
       "         [ 8.41202981e-03,  6.01370873e-02, -1.49100164e-03],\n",
       "         [-3.00685698e-03, -1.49100164e-03,  1.45768263e-02]],\n",
       "\n",
       "        [[ 3.97752912e-03, -3.00685698e-03,  1.19276190e-02],\n",
       "         [-3.00685698e-03, -1.49100164e-03,  1.45768263e-02],\n",
       "         [ 1.19276190e-02,  1.45768263e-02,  6.52629737e-03]]],\n",
       "\n",
       "\n",
       "       [[[-1.84190627e-02, -1.24101530e-02,  6.88398358e-03],\n",
       "         [-1.24101530e-02, -5.87756867e-03, -4.90332059e-03],\n",
       "         [ 6.88398358e-03, -4.90332059e-03, -1.34767816e-02]],\n",
       "\n",
       "        [[-1.24101530e-02, -5.87756867e-03, -4.90332059e-03],\n",
       "         [-5.87756867e-03, -4.48606132e-02, -1.43396854e-03],\n",
       "         [-4.90332059e-03, -1.43396854e-03, -2.27706472e-02]],\n",
       "\n",
       "        [[ 6.88398358e-03, -4.90332059e-03, -1.34767816e-02],\n",
       "         [-4.90332059e-03, -1.43396854e-03, -2.27706472e-02],\n",
       "         [-1.34767816e-02, -2.27706472e-02, -8.26587254e-03]]],\n",
       "\n",
       "\n",
       "       [[[-2.17316914e-03, -2.63543240e-03, -4.33234242e-03],\n",
       "         [-2.63543240e-03, -2.13492609e-03, -3.63260825e-04],\n",
       "         [-4.33234242e-03, -3.63260825e-04, -1.31564891e-03]],\n",
       "\n",
       "        [[-2.63543240e-03, -2.13492609e-03, -3.63260825e-04],\n",
       "         [-2.13492609e-03, -1.46401678e-02, -2.31296734e-03],\n",
       "         [-3.63260825e-04, -2.31296734e-03, -2.79229870e-03]],\n",
       "\n",
       "        [[-4.33234242e-03, -3.63260825e-04, -1.31564891e-03],\n",
       "         [-3.63260825e-04, -2.31296734e-03, -2.79229870e-03],\n",
       "         [-1.31564891e-03, -2.79229870e-03, -1.02999639e-02]]]]), energy=array(-342.80416159), charge_model_charges=None)"
      ]
     },
     "execution_count": 16,
     "metadata": {},
     "output_type": "execute_result"
    }
   ],
   "source": [
    "prop_store.retrieve_partial(smiles=prop_store.)"
   ]
  }
 ],
 "metadata": {
  "kernelspec": {
   "display_name": "openff",
   "language": "python",
   "name": "python3"
  },
  "language_info": {
   "codemirror_mode": {
    "name": "ipython",
    "version": 3
   },
   "file_extension": ".py",
   "mimetype": "text/x-python",
   "name": "python",
   "nbconvert_exporter": "python",
   "pygments_lexer": "ipython3",
   "version": "3.11.6"
  },
  "orig_nbformat": 4
 },
 "nbformat": 4,
 "nbformat_minor": 2
}
