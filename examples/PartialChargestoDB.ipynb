{
 "cells": [
  {
   "cell_type": "code",
   "execution_count": 10,
   "metadata": {},
   "outputs": [],
   "source": [
    "import os\n",
    "import sys\n",
    "import random\n",
    "import numpy as np\n",
    "\n",
    "from tqdm import tqdm\n",
    "from rdkit.Chem import AllChem\n",
    "from rdkit.Chem.rdForceFieldHelpers import MMFFOptimizeMolecule\n",
    "\n",
    "from openff.units.elements import SYMBOLS\n",
    "from openff.toolkit import Molecule\n",
    "from openff.recharge.conformers import ConformerGenerator, ConformerSettings\n",
    "from openff.recharge.esp import ESPSettings\n",
    "from openff.recharge.esp.storage import MoleculeESPRecord, MoleculeESPStore\n",
    "from openff.recharge.grids import LatticeGridSettings, GridSettingsType, GridGenerator\n",
    "from openff.recharge.utilities.molecule import smiles_to_molecule\n",
    "from qcelemental.models.procedures import OptimizationInput, QCInputSpecification\n",
    "from openff.units import unit\n",
    "from qcelemental.models.common_models import Model\n",
    "\n",
    "import qcengine\n",
    "\n",
    "sys.path.append('/Users/localadmin/Documents/projects/QM_ESP_Psi4')\n",
    "\n",
    "from source.optimize.openff_psi4_gen import Psi4Generate\n",
    "from source.conformers.conformer_gen import Conformers\n",
    "from source.utilities.conversion_functions import conf_to_xyz_string\n",
    "\n",
    "\n",
    "import psi4\n",
    "\n",
    "CWD = os.getcwd()\n",
    "sys.path.append(os.path.dirname(CWD))\n",
    "\n",
    "from openff.recharge.esp.storage import MoleculeESPRecord, MoleculeESPStore\n",
    "from source.storage.storage import MoleculePropRecord, MoleculePropStore\n",
    "\n"
   ]
  },
  {
   "cell_type": "code",
   "execution_count": 11,
   "metadata": {},
   "outputs": [
    {
     "data": {
      "text/plain": [
       "['OCC(O)CO',\n",
       " 'C#CC',\n",
       " 'C1CN1',\n",
       " 'C1COC1',\n",
       " 'CC#N',\n",
       " 'CC(=O)[O-]',\n",
       " 'CC(C)=O',\n",
       " 'CCCC',\n",
       " 'CCNCC',\n",
       " 'CN(C)C',\n",
       " 'CN=[N+]=[N-]',\n",
       " 'CNC',\n",
       " 'COC',\n",
       " 'CSC',\n",
       " 'Fc1ccccc1',\n",
       " 'NCO',\n",
       " 'Nc1ccccc1',\n",
       " 'O=[NH+][O-]',\n",
       " 'Oc1ccccc1',\n",
       " 'CCl',\n",
       " 'CF',\n",
       " 'CO',\n",
       " 'CS',\n",
       " 'C1COCO1',\n",
       " 'c1ccccc1',\n",
       " 'c1ccncc1',\n",
       " 'c1ccsc1']"
      ]
     },
     "execution_count": 11,
     "metadata": {},
     "output_type": "execute_result"
    }
   ],
   "source": [
    "prop_test = MoleculePropStore(\"/Users/localadmin/Documents/projects/QM_ESP_Psi4/examples/prop_test_2.db\")\n",
    "smiles_list = prop_test.list()\n",
    "smiles_list"
   ]
  },
  {
   "cell_type": "code",
   "execution_count": 12,
   "metadata": {},
   "outputs": [
    {
     "data": {
      "text/html": [
       "<table><tbody><tr><th>Magnitude</th><td style='text-align:left;'><pre>[0.15 -0.15 -0.10999999999999999 -0.08 -0.10999999999999999 -0.15 0.15<br> 0.15 0.15]</pre></td></tr><tr><th>Units</th><td style='text-align:left;'>elementary_charge</td></tr></tbody></table>"
      ],
      "text/latex": [
       "$\\begin{pmatrix}0.15 & -0.15 & -0.10999999999999999 & -0.08 & -0.10999999999999999 & -0.15 & 0.15 & 0.15 & 0.15\\end{pmatrix}\\ \\mathrm{elementary\\_charge}$"
      ],
      "text/plain": [
       "array([ 0.15, -0.15, -0.11, -0.08, -0.11, -0.15,  0.15,  0.15,  0.15]) <Unit('elementary_charge')>"
      ]
     },
     "execution_count": 12,
     "metadata": {},
     "output_type": "execute_result"
    }
   ],
   "source": [
    "\n",
    "mapped_smiles = prop_test.retrieve(smiles_list[-1])[0].tagged_smiles\n",
    "charge_mol_mmff94 = Molecule.from_mapped_smiles(mapped_smiles)\n",
    "charge_mol_mmff94.assign_partial_charges('mmff94', use_conformers=[prop_test.retrieve(smiles_list[-1])[0].conformer_quantity])\n",
    "charge_mol_mmff94_list = charge_mol_mmff94.partial_charges\n",
    "charge_mol_mmff94_list"
   ]
  },
  {
   "cell_type": "code",
   "execution_count": 13,
   "metadata": {},
   "outputs": [
    {
     "data": {
      "text/plain": [
       "{'mmff94': [0.15,\n",
       "  -0.15,\n",
       "  -0.10999999999999999,\n",
       "  -0.08,\n",
       "  -0.10999999999999999,\n",
       "  -0.15,\n",
       "  0.15,\n",
       "  0.15,\n",
       "  0.15],\n",
       " 'zeros': [0.15,\n",
       "  -0.15,\n",
       "  -0.10999999999999999,\n",
       "  -0.08,\n",
       "  -0.10999999999999999,\n",
       "  -0.15,\n",
       "  0.15,\n",
       "  0.15,\n",
       "  0.15]}"
      ]
     },
     "execution_count": 13,
     "metadata": {},
     "output_type": "execute_result"
    }
   ],
   "source": [
    "prop_test.store_partial(smiles=mapped_smiles,\n",
    "                        conformer=prop_test.retrieve(smiles_list[-1])[0].conformer,\n",
    "                        charge_model= 'mmff94',\n",
    "                        charges=charge_mol_mmff94_list)\n",
    "\n",
    "prop_test.retrieve_partial(smiles=mapped_smiles,\n",
    "                           conformer=prop_test.retrieve(smiles_list[-1])[0].conformer)"
   ]
  },
  {
   "cell_type": "code",
   "execution_count": 14,
   "metadata": {},
   "outputs": [
    {
     "data": {
      "text/html": [
       "<table><tbody><tr><th>Magnitude</th><td style='text-align:left;'><pre>[0.0 0.0 0.0 0.0 0.0 0.0 0.0 0.0 0.0]</pre></td></tr><tr><th>Units</th><td style='text-align:left;'>elementary_charge</td></tr></tbody></table>"
      ],
      "text/latex": [
       "$\\begin{pmatrix}0.0 & 0.0 & 0.0 & 0.0 & 0.0 & 0.0 & 0.0 & 0.0 & 0.0\\end{pmatrix}\\ \\mathrm{elementary\\_charge}$"
      ],
      "text/plain": [
       "array([0., 0., 0., 0., 0., 0., 0., 0., 0.]) <Unit('elementary_charge')>"
      ]
     },
     "execution_count": 14,
     "metadata": {},
     "output_type": "execute_result"
    }
   ],
   "source": [
    "\n",
    "mapped_smiles = prop_test.retrieve(smiles_list[-1])[0].tagged_smiles\n",
    "charge_mol_zeros = Molecule.from_mapped_smiles(mapped_smiles)\n",
    "charge_mol_zeros.assign_partial_charges('zeros', use_conformers=[prop_test.retrieve(smiles_list[-1])[0].conformer_quantity])\n",
    "charge_mol_zeros_list = charge_mol_zeros.partial_charges\n",
    "charge_mol_zeros_list"
   ]
  },
  {
   "cell_type": "code",
   "execution_count": 15,
   "metadata": {},
   "outputs": [
    {
     "data": {
      "text/plain": [
       "{'mmff94': [0.15,\n",
       "  -0.15,\n",
       "  -0.10999999999999999,\n",
       "  -0.08,\n",
       "  -0.10999999999999999,\n",
       "  -0.15,\n",
       "  0.15,\n",
       "  0.15,\n",
       "  0.15],\n",
       " 'zeros': [0.0, 0.0, 0.0, 0.0, 0.0, 0.0, 0.0, 0.0, 0.0]}"
      ]
     },
     "execution_count": 15,
     "metadata": {},
     "output_type": "execute_result"
    }
   ],
   "source": [
    "prop_test.store_partial(smiles=mapped_smiles,\n",
    "                        conformer=prop_test.retrieve(smiles_list[-1])[0].conformer,\n",
    "                        charge_model= 'zeros',\n",
    "                        charges=charge_mol_zeros_list)\n",
    "\n",
    "prop_test.retrieve_partial(smiles=mapped_smiles,\n",
    "                           conformer=prop_test.retrieve(smiles_list[-1])[0].conformer)"
   ]
  }
 ],
 "metadata": {
  "kernelspec": {
   "display_name": "openff",
   "language": "python",
   "name": "python3"
  },
  "language_info": {
   "codemirror_mode": {
    "name": "ipython",
    "version": 3
   },
   "file_extension": ".py",
   "mimetype": "text/x-python",
   "name": "python",
   "nbconvert_exporter": "python",
   "pygments_lexer": "ipython3",
   "version": "3.11.6"
  }
 },
 "nbformat": 4,
 "nbformat_minor": 2
}
