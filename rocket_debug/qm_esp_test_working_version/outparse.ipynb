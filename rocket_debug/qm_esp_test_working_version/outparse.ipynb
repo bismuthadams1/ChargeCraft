{
 "cells": [
  {
   "cell_type": "code",
   "execution_count": 2,
   "metadata": {},
   "outputs": [
    {
     "name": "stderr",
     "output_type": "stream",
     "text": [
      "[Psi4 out.dat ERROR] Encountered error when parsing.\n",
      "[Psi4 out.dat ERROR] Last line read:                          Git: Rev {} zzzzzzz \n",
      "\n"
     ]
    },
    {
     "ename": "InvalidVersion",
     "evalue": "Invalid version: '1!1.8.1.dev+-zzzzzzz'",
     "output_type": "error",
     "traceback": [
      "\u001b[0;31m---------------------------------------------------------------------------\u001b[0m",
      "\u001b[0;31mInvalidVersion\u001b[0m                            Traceback (most recent call last)",
      "Cell \u001b[0;32mIn[2], line 4\u001b[0m\n\u001b[1;32m      2\u001b[0m filename \u001b[39m=\u001b[39m \u001b[39m\"\u001b[39m\u001b[39mout.dat\u001b[39m\u001b[39m\"\u001b[39m\n\u001b[1;32m      3\u001b[0m parser \u001b[39m=\u001b[39m cclib\u001b[39m.\u001b[39mio\u001b[39m.\u001b[39mccopen(filename)\n\u001b[0;32m----> 4\u001b[0m data \u001b[39m=\u001b[39m parser\u001b[39m.\u001b[39;49mparse()\n",
      "File \u001b[0;32m~/mambaforge/envs/openff/lib/python3.11/site-packages/cclib/parser/logfileparser.py:171\u001b[0m, in \u001b[0;36mLogfile.parse\u001b[0;34m(self, progress, fupdate, cupdate)\u001b[0m\n\u001b[1;32m    166\u001b[0m \u001b[39m# This call should check if the line begins a section of extracted data.\u001b[39;00m\n\u001b[1;32m    167\u001b[0m \u001b[39m# If it does, it parses some lines and sets the relevant attributes (to self).\u001b[39;00m\n\u001b[1;32m    168\u001b[0m \u001b[39m# Any attributes can be freely set and used across calls, however only those\u001b[39;00m\n\u001b[1;32m    169\u001b[0m \u001b[39m#   in data._attrlist will be moved to final data object that is returned.\u001b[39;00m\n\u001b[1;32m    170\u001b[0m \u001b[39mtry\u001b[39;00m:\n\u001b[0;32m--> 171\u001b[0m     \u001b[39mself\u001b[39;49m\u001b[39m.\u001b[39;49mextract(\u001b[39mself\u001b[39;49m\u001b[39m.\u001b[39;49minputfile, line)\n\u001b[1;32m    172\u001b[0m \u001b[39mexcept\u001b[39;00m StopParsing:\n\u001b[1;32m    173\u001b[0m     \u001b[39m# This is fine\u001b[39;00m\n\u001b[1;32m    174\u001b[0m     \u001b[39mbreak\u001b[39;00m\n",
      "File \u001b[0;32m~/mambaforge/envs/openff/lib/python3.11/site-packages/cclib/parser/psi4parser.py:121\u001b[0m, in \u001b[0;36mPsi4.extract\u001b[0;34m(self, inputfile, line)\u001b[0m\n\u001b[1;32m    119\u001b[0m         package_version \u001b[39m=\u001b[39m \u001b[39mf\u001b[39m\u001b[39m\"\u001b[39m\u001b[39m{\u001b[39;00mpackage_version\u001b[39m}\u001b[39;00m\u001b[39m{\u001b[39;00mdev_flag\u001b[39m}\u001b[39;00m\u001b[39m+\u001b[39m\u001b[39m{\u001b[39;00mrevision\u001b[39m}\u001b[39;00m\u001b[39m\"\u001b[39m\n\u001b[1;32m    120\u001b[0m     \u001b[39mself\u001b[39m\u001b[39m.\u001b[39mmetadata[\u001b[39m\"\u001b[39m\u001b[39mpackage_version\u001b[39m\u001b[39m\"\u001b[39m] \u001b[39m=\u001b[39m package_version\n\u001b[0;32m--> 121\u001b[0m     \u001b[39mself\u001b[39m\u001b[39m.\u001b[39mpackage_version \u001b[39m=\u001b[39m parse_version(package_version)\n\u001b[1;32m    123\u001b[0m \u001b[39m# This will automatically change the section attribute for Psi4, when encountering\u001b[39;00m\n\u001b[1;32m    124\u001b[0m \u001b[39m# a line that <== looks like this ==>, to whatever is in between.\u001b[39;00m\n\u001b[1;32m    125\u001b[0m \u001b[39mif\u001b[39;00m (line\u001b[39m.\u001b[39mstrip()[:\u001b[39m3\u001b[39m] \u001b[39m==\u001b[39m \u001b[39m\"\u001b[39m\u001b[39m==>\u001b[39m\u001b[39m\"\u001b[39m) \u001b[39mand\u001b[39;00m (line\u001b[39m.\u001b[39mstrip()[\u001b[39m-\u001b[39m\u001b[39m3\u001b[39m:] \u001b[39m==\u001b[39m \u001b[39m\"\u001b[39m\u001b[39m<==\u001b[39m\u001b[39m\"\u001b[39m):\n",
      "File \u001b[0;32m~/mambaforge/envs/openff/lib/python3.11/site-packages/packaging/version.py:52\u001b[0m, in \u001b[0;36mparse\u001b[0;34m(version)\u001b[0m\n\u001b[1;32m     43\u001b[0m \u001b[39mdef\u001b[39;00m \u001b[39mparse\u001b[39m(version: \u001b[39mstr\u001b[39m) \u001b[39m-\u001b[39m\u001b[39m>\u001b[39m \u001b[39m\"\u001b[39m\u001b[39mVersion\u001b[39m\u001b[39m\"\u001b[39m:\n\u001b[1;32m     44\u001b[0m \u001b[39m    \u001b[39m\u001b[39m\"\"\"Parse the given version string.\u001b[39;00m\n\u001b[1;32m     45\u001b[0m \n\u001b[1;32m     46\u001b[0m \u001b[39m    >>> parse('1.0.dev1')\u001b[39;00m\n\u001b[0;32m   (...)\u001b[0m\n\u001b[1;32m     50\u001b[0m \u001b[39m    :raises InvalidVersion: When the version string is not a valid version.\u001b[39;00m\n\u001b[1;32m     51\u001b[0m \u001b[39m    \"\"\"\u001b[39;00m\n\u001b[0;32m---> 52\u001b[0m     \u001b[39mreturn\u001b[39;00m Version(version)\n",
      "File \u001b[0;32m~/mambaforge/envs/openff/lib/python3.11/site-packages/packaging/version.py:198\u001b[0m, in \u001b[0;36mVersion.__init__\u001b[0;34m(self, version)\u001b[0m\n\u001b[1;32m    196\u001b[0m match \u001b[39m=\u001b[39m \u001b[39mself\u001b[39m\u001b[39m.\u001b[39m_regex\u001b[39m.\u001b[39msearch(version)\n\u001b[1;32m    197\u001b[0m \u001b[39mif\u001b[39;00m \u001b[39mnot\u001b[39;00m match:\n\u001b[0;32m--> 198\u001b[0m     \u001b[39mraise\u001b[39;00m InvalidVersion(\u001b[39mf\u001b[39m\u001b[39m\"\u001b[39m\u001b[39mInvalid version: \u001b[39m\u001b[39m'\u001b[39m\u001b[39m{\u001b[39;00mversion\u001b[39m}\u001b[39;00m\u001b[39m'\u001b[39m\u001b[39m\"\u001b[39m)\n\u001b[1;32m    200\u001b[0m \u001b[39m# Store the parsed out pieces of the version\u001b[39;00m\n\u001b[1;32m    201\u001b[0m \u001b[39mself\u001b[39m\u001b[39m.\u001b[39m_version \u001b[39m=\u001b[39m _Version(\n\u001b[1;32m    202\u001b[0m     epoch\u001b[39m=\u001b[39m\u001b[39mint\u001b[39m(match\u001b[39m.\u001b[39mgroup(\u001b[39m\"\u001b[39m\u001b[39mepoch\u001b[39m\u001b[39m\"\u001b[39m)) \u001b[39mif\u001b[39;00m match\u001b[39m.\u001b[39mgroup(\u001b[39m\"\u001b[39m\u001b[39mepoch\u001b[39m\u001b[39m\"\u001b[39m) \u001b[39melse\u001b[39;00m \u001b[39m0\u001b[39m,\n\u001b[1;32m    203\u001b[0m     release\u001b[39m=\u001b[39m\u001b[39mtuple\u001b[39m(\u001b[39mint\u001b[39m(i) \u001b[39mfor\u001b[39;00m i \u001b[39min\u001b[39;00m match\u001b[39m.\u001b[39mgroup(\u001b[39m\"\u001b[39m\u001b[39mrelease\u001b[39m\u001b[39m\"\u001b[39m)\u001b[39m.\u001b[39msplit(\u001b[39m\"\u001b[39m\u001b[39m.\u001b[39m\u001b[39m\"\u001b[39m)),\n\u001b[0;32m   (...)\u001b[0m\n\u001b[1;32m    209\u001b[0m     local\u001b[39m=\u001b[39m_parse_local_version(match\u001b[39m.\u001b[39mgroup(\u001b[39m\"\u001b[39m\u001b[39mlocal\u001b[39m\u001b[39m\"\u001b[39m)),\n\u001b[1;32m    210\u001b[0m )\n",
      "\u001b[0;31mInvalidVersion\u001b[0m: Invalid version: '1!1.8.1.dev+-zzzzzzz'"
     ]
    }
   ],
   "chargecraft": [
    "import psi4\n",
    "\n",
    "psi4.core.get_output()"
   ]
  }
 ],
 "metadata": {
  "kernelspec": {
   "display_name": "openff",
   "language": "python",
   "name": "python3"
  },
  "language_info": {
   "codemirror_mode": {
    "name": "ipython",
    "version": 3
   },
   "file_extension": ".py",
   "mimetype": "text/x-python",
   "name": "python",
   "nbconvert_exporter": "python",
   "pygments_lexer": "ipython3",
   "version": "3.11.5"
  },
  "orig_nbformat": 4
 },
 "nbformat": 4,
 "nbformat_minor": 2
}
