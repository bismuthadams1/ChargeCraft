{
 "cells": [
  {
   "cell_type": "code",
   "execution_count": 1,
   "metadata": {},
   "outputs": [],
   "source": [
    "from tqdm import tqdm\n",
    "\n",
    "from openff.recharge.conformers import ConformerGenerator, ConformerSettings\n",
    "from openff.recharge.esp import ESPSettings\n",
    "#from openff.recharge.esp.psi4 import Psi4ESPGenerator\n",
    "from openff_psi4_debug import Psi4ESPGenerator\n",
    "from openff.recharge.esp.storage import MoleculeESPRecord, MoleculeESPStore\n",
    "from openff.recharge.grids import LatticeGridSettings\n",
    "from openff.recharge.utilities.molecule import smiles_to_molecule\n",
    "from openff.units.elements import SYMBOLS\n",
    "from rdkit.Chem import AllChem\n",
    "from openff.toolkit import Molecule\n",
    "\n",
    "import os\n",
    "import numpy as np\n",
    "import random"
   ]
  },
  {
   "cell_type": "code",
   "execution_count": null,
   "metadata": {},
   "outputs": [],
   "source": []
  },
  {
   "cell_type": "code",
   "execution_count": null,
   "metadata": {},
   "outputs": [],
   "source": []
  },
  {
   "cell_type": "code",
   "execution_count": null,
   "metadata": {},
   "outputs": [],
   "source": []
  },
  {
   "cell_type": "code",
   "execution_count": null,
   "metadata": {},
   "outputs": [],
   "source": []
  },
  {
   "cell_type": "code",
   "execution_count": 3,
   "metadata": {},
   "outputs": [],
   "source": [
    "#load our molecule to create the conformers\n",
    "\n",
    "molecule = smiles_to_molecule(\"OCC(O)CO\")\n",
    "rdmol = molecule.to_rdkit()\n"
   ]
  },
  {
   "cell_type": "code",
   "execution_count": null,
   "metadata": {},
   "outputs": [],
   "source": []
  },
  {
   "cell_type": "code",
   "execution_count": 4,
   "metadata": {},
   "outputs": [
    {
     "data": {
      "text/plain": [
       "<rdkit.rdBase._vecti at 0x2b5e0ffeab40>"
      ]
     },
     "execution_count": 4,
     "metadata": {},
     "output_type": "execute_result"
    }
   ],
   "source": [
    "AllChem.EmbedMultipleConfs(rdmol, numConfs=10, randomSeed=42)"
   ]
  },
  {
   "cell_type": "code",
   "execution_count": null,
   "metadata": {},
   "outputs": [],
   "source": []
  },
  {
   "cell_type": "code",
   "execution_count": 3,
   "metadata": {},
   "outputs": [],
   "source": [
    "from rdkit.Chem.rdForceFieldHelpers import MMFFOptimizeMolecule"
   ]
  },
  {
   "cell_type": "code",
   "execution_count": null,
   "metadata": {},
   "outputs": [],
   "source": []
  },
  {
   "cell_type": "code",
   "execution_count": null,
   "metadata": {},
   "outputs": [],
   "source": []
  },
  {
   "cell_type": "code",
   "execution_count": 6,
   "metadata": {},
   "outputs": [
    {
     "data": {
      "text/plain": [
       "0"
      ]
     },
     "execution_count": 6,
     "metadata": {},
     "output_type": "execute_result"
    }
   ],
   "source": [
    "#test the optimizer\n",
    "\n",
    "optimize_MMFF = MMFFOptimizeMolecule(rdmol,mmffVariant = 'MMFF94',confId=3) #,confId=1,mmffvariant='MMFF94'\n",
    "optimize_MMFF\n",
    "\n"
   ]
  },
  {
   "cell_type": "code",
   "execution_count": 7,
   "metadata": {},
   "outputs": [
    {
     "name": "stdout",
     "output_type": "stream",
     "text": [
      "conformer:0, optimize (0 = converge, 1 = more iterations req): 0\n",
      "conformer:1, optimize (0 = converge, 1 = more iterations req): 0\n",
      "conformer:2, optimize (0 = converge, 1 = more iterations req): 0\n",
      "conformer:3, optimize (0 = converge, 1 = more iterations req): 0\n",
      "conformer:4, optimize (0 = converge, 1 = more iterations req): 0\n",
      "conformer:5, optimize (0 = converge, 1 = more iterations req): 0\n",
      "conformer:6, optimize (0 = converge, 1 = more iterations req): 0\n",
      "conformer:7, optimize (0 = converge, 1 = more iterations req): 0\n",
      "conformer:8, optimize (0 = converge, 1 = more iterations req): 0\n",
      "conformer:9, optimize (0 = converge, 1 = more iterations req): 0\n"
     ]
    }
   ],
   "source": [
    "#test all the conformers\n",
    "\n",
    "for id in range(rdmol.GetNumConformers()):\n",
    "    optimize_MMFF = MMFFOptimizeMolecule(rdmol,mmffVariant = 'MMFF94',confId=3) #,confId=1,mmffvariant='MMFF94'\n",
    "    print(f'conformer:{id}, optimize (0 = converge, 1 = more iterations req): {optimize_MMFF}')"
   ]
  },
  {
   "cell_type": "code",
   "execution_count": 8,
   "metadata": {},
   "outputs": [
    {
     "data": {
      "text/plain": [
       "<rdkit.Chem.rdchem.Conformer at 0x2b022ed3edc0>"
      ]
     },
     "execution_count": 8,
     "metadata": {},
     "output_type": "execute_result"
    }
   ],
   "source": [
    "rdmol.GetConformer(1)"
   ]
  },
  {
   "cell_type": "code",
   "execution_count": 9,
   "metadata": {},
   "outputs": [],
   "source": [
    "from rdkit.Chem.Draw import IPythonConsole\n",
    "IPythonConsole.ipython_3d = True\n",
    "import py3Dmol\n"
   ]
  },
  {
   "cell_type": "code",
   "execution_count": 10,
   "metadata": {},
   "outputs": [
    {
     "data": {
      "application/3dmoljs_load.v0": "<div id=\"3dmolviewer_1695902838245891\"  style=\"position: relative; width: 400px; height: 400px\">\n        <p id=\"3dmolwarning_1695902838245891\" style=\"background-color:#ffcccc;color:black\">You appear to be running in JupyterLab (or JavaScript failed to load for some other reason).  You need to install the 3dmol extension: <br>\n        <tt>jupyter labextension install jupyterlab_3dmol</tt></p>\n        </div>\n<script>\n\nvar loadScriptAsync = function(uri){\n  return new Promise((resolve, reject) => {\n    //this is to ignore the existence of requirejs amd\n    var savedexports, savedmodule;\n    if (typeof exports !== 'undefined') savedexports = exports;\n    else exports = {}\n    if (typeof module !== 'undefined') savedmodule = module;\n    else module = {}\n\n    var tag = document.createElement('script');\n    tag.src = uri;\n    tag.async = true;\n    tag.onload = () => {\n        exports = savedexports;\n        module = savedmodule;\n        resolve();\n    };\n  var firstScriptTag = document.getElementsByTagName('script')[0];\n  firstScriptTag.parentNode.insertBefore(tag, firstScriptTag);\n});\n};\n\nif(typeof $3Dmolpromise === 'undefined') {\n$3Dmolpromise = null;\n  $3Dmolpromise = loadScriptAsync('https://cdnjs.cloudflare.com/ajax/libs/3Dmol/2.0.1/3Dmol-min.js');\n}\n\nvar viewer_1695902838245891 = null;\nvar warn = document.getElementById(\"3dmolwarning_1695902838245891\");\nif(warn) {\n    warn.parentNode.removeChild(warn);\n}\n$3Dmolpromise.then(function() {\nviewer_1695902838245891 = $3Dmol.createViewer(document.getElementById(\"3dmolviewer_1695902838245891\"),{backgroundColor:\"white\"});\nviewer_1695902838245891.zoomTo();\n\tviewer_1695902838245891.removeAllModels();\n\tviewer_1695902838245891.addModel(\"\\n     RDKit          3D\\n\\n 14 13  0  0  0  0  0  0  0  0999 V2000\\n   -1.6885   -1.1039    0.4377 O   0  0  0  0  0  0  0  0  0  0  0  0\\n   -1.2912    0.2270    0.3563 C   0  0  0  0  0  0  0  0  0  0  0  0\\n    0.0570    0.3687   -0.3171 C   0  0  0  0  0  0  0  0  0  0  0  0\\n    0.4677    1.6754   -0.4076 O   0  0  0  0  0  0  0  0  0  0  0  0\\n    1.1007   -0.4176    0.4482 C   0  0  0  0  0  0  0  0  0  0  0  0\\n    2.2898   -0.3065   -0.2817 O   0  0  0  0  0  0  0  0  0  0  0  0\\n   -1.7686   -1.5117   -0.4560 H   0  0  0  0  0  0  0  0  0  0  0  0\\n   -1.1416    0.5665    1.4230 H   0  0  0  0  0  0  0  0  0  0  0  0\\n   -2.0699    0.8176   -0.1142 H   0  0  0  0  0  0  0  0  0  0  0  0\\n   -0.0308   -0.1063   -1.3231 H   0  0  0  0  0  0  0  0  0  0  0  0\\n   -0.1949    2.2624   -0.8146 H   0  0  0  0  0  0  0  0  0  0  0  0\\n    1.2096    0.0745    1.4336 H   0  0  0  0  0  0  0  0  0  0  0  0\\n    0.7472   -1.4561    0.5223 H   0  0  0  0  0  0  0  0  0  0  0  0\\n    2.3134   -1.0898   -0.9068 H   0  0  0  0  0  0  0  0  0  0  0  0\\n  1  2  1  0\\n  2  3  1  0\\n  3  4  1  0\\n  3  5  1  0\\n  5  6  1  0\\n  1  7  1  0\\n  2  8  1  0\\n  2  9  1  0\\n  3 10  1  0\\n  4 11  1  0\\n  5 12  1  0\\n  5 13  1  0\\n  6 14  1  0\\nM  END\\n\",\"sdf\");\n\tviewer_1695902838245891.setStyle({\"stick\": {}});\n\tviewer_1695902838245891.setBackgroundColor(\"0xeeeeee\");\n\tviewer_1695902838245891.zoomTo();\nviewer_1695902838245891.render();\n});\n</script>",
      "text/html": [
       "<div id=\"3dmolviewer_1695902838245891\"  style=\"position: relative; width: 400px; height: 400px\">\n",
       "        <p id=\"3dmolwarning_1695902838245891\" style=\"background-color:#ffcccc;color:black\">You appear to be running in JupyterLab (or JavaScript failed to load for some other reason).  You need to install the 3dmol extension: <br>\n",
       "        <tt>jupyter labextension install jupyterlab_3dmol</tt></p>\n",
       "        </div>\n",
       "<script>\n",
       "\n",
       "var loadScriptAsync = function(uri){\n",
       "  return new Promise((resolve, reject) => {\n",
       "    //this is to ignore the existence of requirejs amd\n",
       "    var savedexports, savedmodule;\n",
       "    if (typeof exports !== 'undefined') savedexports = exports;\n",
       "    else exports = {}\n",
       "    if (typeof module !== 'undefined') savedmodule = module;\n",
       "    else module = {}\n",
       "\n",
       "    var tag = document.createElement('script');\n",
       "    tag.src = uri;\n",
       "    tag.async = true;\n",
       "    tag.onload = () => {\n",
       "        exports = savedexports;\n",
       "        module = savedmodule;\n",
       "        resolve();\n",
       "    };\n",
       "  var firstScriptTag = document.getElementsByTagName('script')[0];\n",
       "  firstScriptTag.parentNode.insertBefore(tag, firstScriptTag);\n",
       "});\n",
       "};\n",
       "\n",
       "if(typeof $3Dmolpromise === 'undefined') {\n",
       "$3Dmolpromise = null;\n",
       "  $3Dmolpromise = loadScriptAsync('https://cdnjs.cloudflare.com/ajax/libs/3Dmol/2.0.1/3Dmol-min.js');\n",
       "}\n",
       "\n",
       "var viewer_1695902838245891 = null;\n",
       "var warn = document.getElementById(\"3dmolwarning_1695902838245891\");\n",
       "if(warn) {\n",
       "    warn.parentNode.removeChild(warn);\n",
       "}\n",
       "$3Dmolpromise.then(function() {\n",
       "viewer_1695902838245891 = $3Dmol.createViewer(document.getElementById(\"3dmolviewer_1695902838245891\"),{backgroundColor:\"white\"});\n",
       "viewer_1695902838245891.zoomTo();\n",
       "\tviewer_1695902838245891.removeAllModels();\n",
       "\tviewer_1695902838245891.addModel(\"\\n     RDKit          3D\\n\\n 14 13  0  0  0  0  0  0  0  0999 V2000\\n   -1.6885   -1.1039    0.4377 O   0  0  0  0  0  0  0  0  0  0  0  0\\n   -1.2912    0.2270    0.3563 C   0  0  0  0  0  0  0  0  0  0  0  0\\n    0.0570    0.3687   -0.3171 C   0  0  0  0  0  0  0  0  0  0  0  0\\n    0.4677    1.6754   -0.4076 O   0  0  0  0  0  0  0  0  0  0  0  0\\n    1.1007   -0.4176    0.4482 C   0  0  0  0  0  0  0  0  0  0  0  0\\n    2.2898   -0.3065   -0.2817 O   0  0  0  0  0  0  0  0  0  0  0  0\\n   -1.7686   -1.5117   -0.4560 H   0  0  0  0  0  0  0  0  0  0  0  0\\n   -1.1416    0.5665    1.4230 H   0  0  0  0  0  0  0  0  0  0  0  0\\n   -2.0699    0.8176   -0.1142 H   0  0  0  0  0  0  0  0  0  0  0  0\\n   -0.0308   -0.1063   -1.3231 H   0  0  0  0  0  0  0  0  0  0  0  0\\n   -0.1949    2.2624   -0.8146 H   0  0  0  0  0  0  0  0  0  0  0  0\\n    1.2096    0.0745    1.4336 H   0  0  0  0  0  0  0  0  0  0  0  0\\n    0.7472   -1.4561    0.5223 H   0  0  0  0  0  0  0  0  0  0  0  0\\n    2.3134   -1.0898   -0.9068 H   0  0  0  0  0  0  0  0  0  0  0  0\\n  1  2  1  0\\n  2  3  1  0\\n  3  4  1  0\\n  3  5  1  0\\n  5  6  1  0\\n  1  7  1  0\\n  2  8  1  0\\n  2  9  1  0\\n  3 10  1  0\\n  4 11  1  0\\n  5 12  1  0\\n  5 13  1  0\\n  6 14  1  0\\nM  END\\n\",\"sdf\");\n",
       "\tviewer_1695902838245891.setStyle({\"stick\": {}});\n",
       "\tviewer_1695902838245891.setBackgroundColor(\"0xeeeeee\");\n",
       "\tviewer_1695902838245891.zoomTo();\n",
       "viewer_1695902838245891.render();\n",
       "});\n",
       "</script>"
      ]
     },
     "metadata": {},
     "output_type": "display_data"
    },
    {
     "data": {
      "application/3dmoljs_load.v0": "<div id=\"3dmolviewer_16959028382483954\"  style=\"position: relative; width: 400px; height: 400px\">\n        <p id=\"3dmolwarning_16959028382483954\" style=\"background-color:#ffcccc;color:black\">You appear to be running in JupyterLab (or JavaScript failed to load for some other reason).  You need to install the 3dmol extension: <br>\n        <tt>jupyter labextension install jupyterlab_3dmol</tt></p>\n        </div>\n<script>\n\nvar loadScriptAsync = function(uri){\n  return new Promise((resolve, reject) => {\n    //this is to ignore the existence of requirejs amd\n    var savedexports, savedmodule;\n    if (typeof exports !== 'undefined') savedexports = exports;\n    else exports = {}\n    if (typeof module !== 'undefined') savedmodule = module;\n    else module = {}\n\n    var tag = document.createElement('script');\n    tag.src = uri;\n    tag.async = true;\n    tag.onload = () => {\n        exports = savedexports;\n        module = savedmodule;\n        resolve();\n    };\n  var firstScriptTag = document.getElementsByTagName('script')[0];\n  firstScriptTag.parentNode.insertBefore(tag, firstScriptTag);\n});\n};\n\nif(typeof $3Dmolpromise === 'undefined') {\n$3Dmolpromise = null;\n  $3Dmolpromise = loadScriptAsync('https://cdnjs.cloudflare.com/ajax/libs/3Dmol/2.0.1/3Dmol-min.js');\n}\n\nvar viewer_16959028382483954 = null;\nvar warn = document.getElementById(\"3dmolwarning_16959028382483954\");\nif(warn) {\n    warn.parentNode.removeChild(warn);\n}\n$3Dmolpromise.then(function() {\nviewer_16959028382483954 = $3Dmol.createViewer(document.getElementById(\"3dmolviewer_16959028382483954\"),{backgroundColor:\"white\"});\nviewer_16959028382483954.zoomTo();\n\tviewer_16959028382483954.removeAllModels();\n\tviewer_16959028382483954.addModel(\"\\n     RDKit          3D\\n\\n 14 13  0  0  0  0  0  0  0  0999 V2000\\n    2.3730   -0.1226   -0.0030 O   0  0  0  0  0  0  0  0  0  0  0  0\\n    1.1006   -0.2125    0.5266 C   0  0  0  0  0  0  0  0  0  0  0  0\\n    0.0277    0.1038   -0.5054 C   0  0  0  0  0  0  0  0  0  0  0  0\\n    0.2862    1.4235   -0.9294 O   0  0  0  0  0  0  0  0  0  0  0  0\\n   -1.3309    0.1192    0.1301 C   0  0  0  0  0  0  0  0  0  0  0  0\\n   -1.7338   -1.1180    0.6033 O   0  0  0  0  0  0  0  0  0  0  0  0\\n    2.3926   -0.4724   -0.9193 H   0  0  0  0  0  0  0  0  0  0  0  0\\n    0.9861   -1.2436    0.9261 H   0  0  0  0  0  0  0  0  0  0  0  0\\n    1.0390    0.5042    1.3646 H   0  0  0  0  0  0  0  0  0  0  0  0\\n    0.1114   -0.5642   -1.3705 H   0  0  0  0  0  0  0  0  0  0  0  0\\n    0.0417    1.9936   -0.1414 H   0  0  0  0  0  0  0  0  0  0  0  0\\n   -1.2656    0.7933    1.0208 H   0  0  0  0  0  0  0  0  0  0  0  0\\n   -2.0693    0.5481   -0.5693 H   0  0  0  0  0  0  0  0  0  0  0  0\\n   -1.9588   -1.7525   -0.1332 H   0  0  0  0  0  0  0  0  0  0  0  0\\n  1  2  1  0\\n  2  3  1  0\\n  3  4  1  0\\n  3  5  1  0\\n  5  6  1  0\\n  1  7  1  0\\n  2  8  1  0\\n  2  9  1  0\\n  3 10  1  0\\n  4 11  1  0\\n  5 12  1  0\\n  5 13  1  0\\n  6 14  1  0\\nM  END\\n\",\"sdf\");\n\tviewer_16959028382483954.setStyle({\"stick\": {}});\n\tviewer_16959028382483954.setBackgroundColor(\"0xeeeeee\");\n\tviewer_16959028382483954.zoomTo();\nviewer_16959028382483954.render();\n});\n</script>",
      "text/html": [
       "<div id=\"3dmolviewer_16959028382483954\"  style=\"position: relative; width: 400px; height: 400px\">\n",
       "        <p id=\"3dmolwarning_16959028382483954\" style=\"background-color:#ffcccc;color:black\">You appear to be running in JupyterLab (or JavaScript failed to load for some other reason).  You need to install the 3dmol extension: <br>\n",
       "        <tt>jupyter labextension install jupyterlab_3dmol</tt></p>\n",
       "        </div>\n",
       "<script>\n",
       "\n",
       "var loadScriptAsync = function(uri){\n",
       "  return new Promise((resolve, reject) => {\n",
       "    //this is to ignore the existence of requirejs amd\n",
       "    var savedexports, savedmodule;\n",
       "    if (typeof exports !== 'undefined') savedexports = exports;\n",
       "    else exports = {}\n",
       "    if (typeof module !== 'undefined') savedmodule = module;\n",
       "    else module = {}\n",
       "\n",
       "    var tag = document.createElement('script');\n",
       "    tag.src = uri;\n",
       "    tag.async = true;\n",
       "    tag.onload = () => {\n",
       "        exports = savedexports;\n",
       "        module = savedmodule;\n",
       "        resolve();\n",
       "    };\n",
       "  var firstScriptTag = document.getElementsByTagName('script')[0];\n",
       "  firstScriptTag.parentNode.insertBefore(tag, firstScriptTag);\n",
       "});\n",
       "};\n",
       "\n",
       "if(typeof $3Dmolpromise === 'undefined') {\n",
       "$3Dmolpromise = null;\n",
       "  $3Dmolpromise = loadScriptAsync('https://cdnjs.cloudflare.com/ajax/libs/3Dmol/2.0.1/3Dmol-min.js');\n",
       "}\n",
       "\n",
       "var viewer_16959028382483954 = null;\n",
       "var warn = document.getElementById(\"3dmolwarning_16959028382483954\");\n",
       "if(warn) {\n",
       "    warn.parentNode.removeChild(warn);\n",
       "}\n",
       "$3Dmolpromise.then(function() {\n",
       "viewer_16959028382483954 = $3Dmol.createViewer(document.getElementById(\"3dmolviewer_16959028382483954\"),{backgroundColor:\"white\"});\n",
       "viewer_16959028382483954.zoomTo();\n",
       "\tviewer_16959028382483954.removeAllModels();\n",
       "\tviewer_16959028382483954.addModel(\"\\n     RDKit          3D\\n\\n 14 13  0  0  0  0  0  0  0  0999 V2000\\n    2.3730   -0.1226   -0.0030 O   0  0  0  0  0  0  0  0  0  0  0  0\\n    1.1006   -0.2125    0.5266 C   0  0  0  0  0  0  0  0  0  0  0  0\\n    0.0277    0.1038   -0.5054 C   0  0  0  0  0  0  0  0  0  0  0  0\\n    0.2862    1.4235   -0.9294 O   0  0  0  0  0  0  0  0  0  0  0  0\\n   -1.3309    0.1192    0.1301 C   0  0  0  0  0  0  0  0  0  0  0  0\\n   -1.7338   -1.1180    0.6033 O   0  0  0  0  0  0  0  0  0  0  0  0\\n    2.3926   -0.4724   -0.9193 H   0  0  0  0  0  0  0  0  0  0  0  0\\n    0.9861   -1.2436    0.9261 H   0  0  0  0  0  0  0  0  0  0  0  0\\n    1.0390    0.5042    1.3646 H   0  0  0  0  0  0  0  0  0  0  0  0\\n    0.1114   -0.5642   -1.3705 H   0  0  0  0  0  0  0  0  0  0  0  0\\n    0.0417    1.9936   -0.1414 H   0  0  0  0  0  0  0  0  0  0  0  0\\n   -1.2656    0.7933    1.0208 H   0  0  0  0  0  0  0  0  0  0  0  0\\n   -2.0693    0.5481   -0.5693 H   0  0  0  0  0  0  0  0  0  0  0  0\\n   -1.9588   -1.7525   -0.1332 H   0  0  0  0  0  0  0  0  0  0  0  0\\n  1  2  1  0\\n  2  3  1  0\\n  3  4  1  0\\n  3  5  1  0\\n  5  6  1  0\\n  1  7  1  0\\n  2  8  1  0\\n  2  9  1  0\\n  3 10  1  0\\n  4 11  1  0\\n  5 12  1  0\\n  5 13  1  0\\n  6 14  1  0\\nM  END\\n\",\"sdf\");\n",
       "\tviewer_16959028382483954.setStyle({\"stick\": {}});\n",
       "\tviewer_16959028382483954.setBackgroundColor(\"0xeeeeee\");\n",
       "\tviewer_16959028382483954.zoomTo();\n",
       "viewer_16959028382483954.render();\n",
       "});\n",
       "</script>"
      ]
     },
     "metadata": {},
     "output_type": "display_data"
    },
    {
     "data": {
      "application/3dmoljs_load.v0": "<div id=\"3dmolviewer_1695902838249923\"  style=\"position: relative; width: 400px; height: 400px\">\n        <p id=\"3dmolwarning_1695902838249923\" style=\"background-color:#ffcccc;color:black\">You appear to be running in JupyterLab (or JavaScript failed to load for some other reason).  You need to install the 3dmol extension: <br>\n        <tt>jupyter labextension install jupyterlab_3dmol</tt></p>\n        </div>\n<script>\n\nvar loadScriptAsync = function(uri){\n  return new Promise((resolve, reject) => {\n    //this is to ignore the existence of requirejs amd\n    var savedexports, savedmodule;\n    if (typeof exports !== 'undefined') savedexports = exports;\n    else exports = {}\n    if (typeof module !== 'undefined') savedmodule = module;\n    else module = {}\n\n    var tag = document.createElement('script');\n    tag.src = uri;\n    tag.async = true;\n    tag.onload = () => {\n        exports = savedexports;\n        module = savedmodule;\n        resolve();\n    };\n  var firstScriptTag = document.getElementsByTagName('script')[0];\n  firstScriptTag.parentNode.insertBefore(tag, firstScriptTag);\n});\n};\n\nif(typeof $3Dmolpromise === 'undefined') {\n$3Dmolpromise = null;\n  $3Dmolpromise = loadScriptAsync('https://cdnjs.cloudflare.com/ajax/libs/3Dmol/2.0.1/3Dmol-min.js');\n}\n\nvar viewer_1695902838249923 = null;\nvar warn = document.getElementById(\"3dmolwarning_1695902838249923\");\nif(warn) {\n    warn.parentNode.removeChild(warn);\n}\n$3Dmolpromise.then(function() {\nviewer_1695902838249923 = $3Dmol.createViewer(document.getElementById(\"3dmolviewer_1695902838249923\"),{backgroundColor:\"white\"});\nviewer_1695902838249923.zoomTo();\n\tviewer_1695902838249923.removeAllModels();\n\tviewer_1695902838249923.addModel(\"\\n     RDKit          3D\\n\\n 14 13  0  0  0  0  0  0  0  0999 V2000\\n    2.2141    0.2593    0.6192 O   0  0  0  0  0  0  0  0  0  0  0  0\\n    1.1685    0.2191   -0.2981 C   0  0  0  0  0  0  0  0  0  0  0  0\\n   -0.0880   -0.3231    0.3725 C   0  0  0  0  0  0  0  0  0  0  0  0\\n    0.0955   -1.6007    0.8645 O   0  0  0  0  0  0  0  0  0  0  0  0\\n   -1.2173   -0.2605   -0.6561 C   0  0  0  0  0  0  0  0  0  0  0  0\\n   -1.3100    1.0691   -1.0801 O   0  0  0  0  0  0  0  0  0  0  0  0\\n    2.1495    1.0927    1.1164 H   0  0  0  0  0  0  0  0  0  0  0  0\\n    1.4740   -0.3975   -1.1532 H   0  0  0  0  0  0  0  0  0  0  0  0\\n    0.9553    1.2645   -0.5996 H   0  0  0  0  0  0  0  0  0  0  0  0\\n   -0.3339    0.3419    1.2237 H   0  0  0  0  0  0  0  0  0  0  0  0\\n   -0.4307   -1.7806    1.6897 H   0  0  0  0  0  0  0  0  0  0  0  0\\n   -0.9301   -0.8481   -1.5524 H   0  0  0  0  0  0  0  0  0  0  0  0\\n   -2.1586   -0.6509   -0.2593 H   0  0  0  0  0  0  0  0  0  0  0  0\\n   -1.5881    1.6148   -0.2871 H   0  0  0  0  0  0  0  0  0  0  0  0\\n  1  2  1  0\\n  2  3  1  0\\n  3  4  1  0\\n  3  5  1  0\\n  5  6  1  0\\n  1  7  1  0\\n  2  8  1  0\\n  2  9  1  0\\n  3 10  1  0\\n  4 11  1  0\\n  5 12  1  0\\n  5 13  1  0\\n  6 14  1  0\\nM  END\\n\",\"sdf\");\n\tviewer_1695902838249923.setStyle({\"stick\": {}});\n\tviewer_1695902838249923.setBackgroundColor(\"0xeeeeee\");\n\tviewer_1695902838249923.zoomTo();\nviewer_1695902838249923.render();\n});\n</script>",
      "text/html": [
       "<div id=\"3dmolviewer_1695902838249923\"  style=\"position: relative; width: 400px; height: 400px\">\n",
       "        <p id=\"3dmolwarning_1695902838249923\" style=\"background-color:#ffcccc;color:black\">You appear to be running in JupyterLab (or JavaScript failed to load for some other reason).  You need to install the 3dmol extension: <br>\n",
       "        <tt>jupyter labextension install jupyterlab_3dmol</tt></p>\n",
       "        </div>\n",
       "<script>\n",
       "\n",
       "var loadScriptAsync = function(uri){\n",
       "  return new Promise((resolve, reject) => {\n",
       "    //this is to ignore the existence of requirejs amd\n",
       "    var savedexports, savedmodule;\n",
       "    if (typeof exports !== 'undefined') savedexports = exports;\n",
       "    else exports = {}\n",
       "    if (typeof module !== 'undefined') savedmodule = module;\n",
       "    else module = {}\n",
       "\n",
       "    var tag = document.createElement('script');\n",
       "    tag.src = uri;\n",
       "    tag.async = true;\n",
       "    tag.onload = () => {\n",
       "        exports = savedexports;\n",
       "        module = savedmodule;\n",
       "        resolve();\n",
       "    };\n",
       "  var firstScriptTag = document.getElementsByTagName('script')[0];\n",
       "  firstScriptTag.parentNode.insertBefore(tag, firstScriptTag);\n",
       "});\n",
       "};\n",
       "\n",
       "if(typeof $3Dmolpromise === 'undefined') {\n",
       "$3Dmolpromise = null;\n",
       "  $3Dmolpromise = loadScriptAsync('https://cdnjs.cloudflare.com/ajax/libs/3Dmol/2.0.1/3Dmol-min.js');\n",
       "}\n",
       "\n",
       "var viewer_1695902838249923 = null;\n",
       "var warn = document.getElementById(\"3dmolwarning_1695902838249923\");\n",
       "if(warn) {\n",
       "    warn.parentNode.removeChild(warn);\n",
       "}\n",
       "$3Dmolpromise.then(function() {\n",
       "viewer_1695902838249923 = $3Dmol.createViewer(document.getElementById(\"3dmolviewer_1695902838249923\"),{backgroundColor:\"white\"});\n",
       "viewer_1695902838249923.zoomTo();\n",
       "\tviewer_1695902838249923.removeAllModels();\n",
       "\tviewer_1695902838249923.addModel(\"\\n     RDKit          3D\\n\\n 14 13  0  0  0  0  0  0  0  0999 V2000\\n    2.2141    0.2593    0.6192 O   0  0  0  0  0  0  0  0  0  0  0  0\\n    1.1685    0.2191   -0.2981 C   0  0  0  0  0  0  0  0  0  0  0  0\\n   -0.0880   -0.3231    0.3725 C   0  0  0  0  0  0  0  0  0  0  0  0\\n    0.0955   -1.6007    0.8645 O   0  0  0  0  0  0  0  0  0  0  0  0\\n   -1.2173   -0.2605   -0.6561 C   0  0  0  0  0  0  0  0  0  0  0  0\\n   -1.3100    1.0691   -1.0801 O   0  0  0  0  0  0  0  0  0  0  0  0\\n    2.1495    1.0927    1.1164 H   0  0  0  0  0  0  0  0  0  0  0  0\\n    1.4740   -0.3975   -1.1532 H   0  0  0  0  0  0  0  0  0  0  0  0\\n    0.9553    1.2645   -0.5996 H   0  0  0  0  0  0  0  0  0  0  0  0\\n   -0.3339    0.3419    1.2237 H   0  0  0  0  0  0  0  0  0  0  0  0\\n   -0.4307   -1.7806    1.6897 H   0  0  0  0  0  0  0  0  0  0  0  0\\n   -0.9301   -0.8481   -1.5524 H   0  0  0  0  0  0  0  0  0  0  0  0\\n   -2.1586   -0.6509   -0.2593 H   0  0  0  0  0  0  0  0  0  0  0  0\\n   -1.5881    1.6148   -0.2871 H   0  0  0  0  0  0  0  0  0  0  0  0\\n  1  2  1  0\\n  2  3  1  0\\n  3  4  1  0\\n  3  5  1  0\\n  5  6  1  0\\n  1  7  1  0\\n  2  8  1  0\\n  2  9  1  0\\n  3 10  1  0\\n  4 11  1  0\\n  5 12  1  0\\n  5 13  1  0\\n  6 14  1  0\\nM  END\\n\",\"sdf\");\n",
       "\tviewer_1695902838249923.setStyle({\"stick\": {}});\n",
       "\tviewer_1695902838249923.setBackgroundColor(\"0xeeeeee\");\n",
       "\tviewer_1695902838249923.zoomTo();\n",
       "viewer_1695902838249923.render();\n",
       "});\n",
       "</script>"
      ]
     },
     "metadata": {},
     "output_type": "display_data"
    },
    {
     "data": {
      "application/3dmoljs_load.v0": "<div id=\"3dmolviewer_16959028382539642\"  style=\"position: relative; width: 400px; height: 400px\">\n        <p id=\"3dmolwarning_16959028382539642\" style=\"background-color:#ffcccc;color:black\">You appear to be running in JupyterLab (or JavaScript failed to load for some other reason).  You need to install the 3dmol extension: <br>\n        <tt>jupyter labextension install jupyterlab_3dmol</tt></p>\n        </div>\n<script>\n\nvar loadScriptAsync = function(uri){\n  return new Promise((resolve, reject) => {\n    //this is to ignore the existence of requirejs amd\n    var savedexports, savedmodule;\n    if (typeof exports !== 'undefined') savedexports = exports;\n    else exports = {}\n    if (typeof module !== 'undefined') savedmodule = module;\n    else module = {}\n\n    var tag = document.createElement('script');\n    tag.src = uri;\n    tag.async = true;\n    tag.onload = () => {\n        exports = savedexports;\n        module = savedmodule;\n        resolve();\n    };\n  var firstScriptTag = document.getElementsByTagName('script')[0];\n  firstScriptTag.parentNode.insertBefore(tag, firstScriptTag);\n});\n};\n\nif(typeof $3Dmolpromise === 'undefined') {\n$3Dmolpromise = null;\n  $3Dmolpromise = loadScriptAsync('https://cdnjs.cloudflare.com/ajax/libs/3Dmol/2.0.1/3Dmol-min.js');\n}\n\nvar viewer_16959028382539642 = null;\nvar warn = document.getElementById(\"3dmolwarning_16959028382539642\");\nif(warn) {\n    warn.parentNode.removeChild(warn);\n}\n$3Dmolpromise.then(function() {\nviewer_16959028382539642 = $3Dmol.createViewer(document.getElementById(\"3dmolviewer_16959028382539642\"),{backgroundColor:\"white\"});\nviewer_16959028382539642.zoomTo();\n\tviewer_16959028382539642.removeAllModels();\n\tviewer_16959028382539642.addModel(\"\\n     RDKit          3D\\n\\n 14 13  0  0  0  0  0  0  0  0999 V2000\\n    2.3296    0.5553   -0.6984 O   0  0  0  0  0  0  0  0  0  0  0  0\\n    1.0954   -0.1635   -0.7503 C   0  0  0  0  0  0  0  0  0  0  0  0\\n    0.3103    0.0883    0.5396 C   0  0  0  0  0  0  0  0  0  0  0  0\\n    0.0348    1.4987    0.6175 O   0  0  0  0  0  0  0  0  0  0  0  0\\n   -1.0092   -0.6821    0.5810 C   0  0  0  0  0  0  0  0  0  0  0  0\\n   -1.8588   -0.2154   -0.4688 O   0  0  0  0  0  0  0  0  0  0  0  0\\n    2.0996    1.4362   -0.3408 H   0  0  0  0  0  0  0  0  0  0  0  0\\n    1.3232   -1.2255   -0.8789 H   0  0  0  0  0  0  0  0  0  0  0  0\\n    0.5511    0.1946   -1.6299 H   0  0  0  0  0  0  0  0  0  0  0  0\\n    0.9289   -0.1652    1.4069 H   0  0  0  0  0  0  0  0  0  0  0  0\\n   -0.7345    1.6377    0.0274 H   0  0  0  0  0  0  0  0  0  0  0  0\\n   -1.5260   -0.4925    1.5271 H   0  0  0  0  0  0  0  0  0  0  0  0\\n   -0.8488   -1.7577    0.4620 H   0  0  0  0  0  0  0  0  0  0  0  0\\n   -2.6957   -0.7088   -0.3943 H   0  0  0  0  0  0  0  0  0  0  0  0\\n  1  2  1  0\\n  2  3  1  0\\n  3  4  1  0\\n  3  5  1  0\\n  5  6  1  0\\n  1  7  1  0\\n  2  8  1  0\\n  2  9  1  0\\n  3 10  1  0\\n  4 11  1  0\\n  5 12  1  0\\n  5 13  1  0\\n  6 14  1  0\\nM  END\\n\",\"sdf\");\n\tviewer_16959028382539642.setStyle({\"stick\": {}});\n\tviewer_16959028382539642.setBackgroundColor(\"0xeeeeee\");\n\tviewer_16959028382539642.zoomTo();\nviewer_16959028382539642.render();\n});\n</script>",
      "text/html": [
       "<div id=\"3dmolviewer_16959028382539642\"  style=\"position: relative; width: 400px; height: 400px\">\n",
       "        <p id=\"3dmolwarning_16959028382539642\" style=\"background-color:#ffcccc;color:black\">You appear to be running in JupyterLab (or JavaScript failed to load for some other reason).  You need to install the 3dmol extension: <br>\n",
       "        <tt>jupyter labextension install jupyterlab_3dmol</tt></p>\n",
       "        </div>\n",
       "<script>\n",
       "\n",
       "var loadScriptAsync = function(uri){\n",
       "  return new Promise((resolve, reject) => {\n",
       "    //this is to ignore the existence of requirejs amd\n",
       "    var savedexports, savedmodule;\n",
       "    if (typeof exports !== 'undefined') savedexports = exports;\n",
       "    else exports = {}\n",
       "    if (typeof module !== 'undefined') savedmodule = module;\n",
       "    else module = {}\n",
       "\n",
       "    var tag = document.createElement('script');\n",
       "    tag.src = uri;\n",
       "    tag.async = true;\n",
       "    tag.onload = () => {\n",
       "        exports = savedexports;\n",
       "        module = savedmodule;\n",
       "        resolve();\n",
       "    };\n",
       "  var firstScriptTag = document.getElementsByTagName('script')[0];\n",
       "  firstScriptTag.parentNode.insertBefore(tag, firstScriptTag);\n",
       "});\n",
       "};\n",
       "\n",
       "if(typeof $3Dmolpromise === 'undefined') {\n",
       "$3Dmolpromise = null;\n",
       "  $3Dmolpromise = loadScriptAsync('https://cdnjs.cloudflare.com/ajax/libs/3Dmol/2.0.1/3Dmol-min.js');\n",
       "}\n",
       "\n",
       "var viewer_16959028382539642 = null;\n",
       "var warn = document.getElementById(\"3dmolwarning_16959028382539642\");\n",
       "if(warn) {\n",
       "    warn.parentNode.removeChild(warn);\n",
       "}\n",
       "$3Dmolpromise.then(function() {\n",
       "viewer_16959028382539642 = $3Dmol.createViewer(document.getElementById(\"3dmolviewer_16959028382539642\"),{backgroundColor:\"white\"});\n",
       "viewer_16959028382539642.zoomTo();\n",
       "\tviewer_16959028382539642.removeAllModels();\n",
       "\tviewer_16959028382539642.addModel(\"\\n     RDKit          3D\\n\\n 14 13  0  0  0  0  0  0  0  0999 V2000\\n    2.3296    0.5553   -0.6984 O   0  0  0  0  0  0  0  0  0  0  0  0\\n    1.0954   -0.1635   -0.7503 C   0  0  0  0  0  0  0  0  0  0  0  0\\n    0.3103    0.0883    0.5396 C   0  0  0  0  0  0  0  0  0  0  0  0\\n    0.0348    1.4987    0.6175 O   0  0  0  0  0  0  0  0  0  0  0  0\\n   -1.0092   -0.6821    0.5810 C   0  0  0  0  0  0  0  0  0  0  0  0\\n   -1.8588   -0.2154   -0.4688 O   0  0  0  0  0  0  0  0  0  0  0  0\\n    2.0996    1.4362   -0.3408 H   0  0  0  0  0  0  0  0  0  0  0  0\\n    1.3232   -1.2255   -0.8789 H   0  0  0  0  0  0  0  0  0  0  0  0\\n    0.5511    0.1946   -1.6299 H   0  0  0  0  0  0  0  0  0  0  0  0\\n    0.9289   -0.1652    1.4069 H   0  0  0  0  0  0  0  0  0  0  0  0\\n   -0.7345    1.6377    0.0274 H   0  0  0  0  0  0  0  0  0  0  0  0\\n   -1.5260   -0.4925    1.5271 H   0  0  0  0  0  0  0  0  0  0  0  0\\n   -0.8488   -1.7577    0.4620 H   0  0  0  0  0  0  0  0  0  0  0  0\\n   -2.6957   -0.7088   -0.3943 H   0  0  0  0  0  0  0  0  0  0  0  0\\n  1  2  1  0\\n  2  3  1  0\\n  3  4  1  0\\n  3  5  1  0\\n  5  6  1  0\\n  1  7  1  0\\n  2  8  1  0\\n  2  9  1  0\\n  3 10  1  0\\n  4 11  1  0\\n  5 12  1  0\\n  5 13  1  0\\n  6 14  1  0\\nM  END\\n\",\"sdf\");\n",
       "\tviewer_16959028382539642.setStyle({\"stick\": {}});\n",
       "\tviewer_16959028382539642.setBackgroundColor(\"0xeeeeee\");\n",
       "\tviewer_16959028382539642.zoomTo();\n",
       "viewer_16959028382539642.render();\n",
       "});\n",
       "</script>"
      ]
     },
     "metadata": {},
     "output_type": "display_data"
    },
    {
     "data": {
      "application/3dmoljs_load.v0": "<div id=\"3dmolviewer_16959028382579536\"  style=\"position: relative; width: 400px; height: 400px\">\n        <p id=\"3dmolwarning_16959028382579536\" style=\"background-color:#ffcccc;color:black\">You appear to be running in JupyterLab (or JavaScript failed to load for some other reason).  You need to install the 3dmol extension: <br>\n        <tt>jupyter labextension install jupyterlab_3dmol</tt></p>\n        </div>\n<script>\n\nvar loadScriptAsync = function(uri){\n  return new Promise((resolve, reject) => {\n    //this is to ignore the existence of requirejs amd\n    var savedexports, savedmodule;\n    if (typeof exports !== 'undefined') savedexports = exports;\n    else exports = {}\n    if (typeof module !== 'undefined') savedmodule = module;\n    else module = {}\n\n    var tag = document.createElement('script');\n    tag.src = uri;\n    tag.async = true;\n    tag.onload = () => {\n        exports = savedexports;\n        module = savedmodule;\n        resolve();\n    };\n  var firstScriptTag = document.getElementsByTagName('script')[0];\n  firstScriptTag.parentNode.insertBefore(tag, firstScriptTag);\n});\n};\n\nif(typeof $3Dmolpromise === 'undefined') {\n$3Dmolpromise = null;\n  $3Dmolpromise = loadScriptAsync('https://cdnjs.cloudflare.com/ajax/libs/3Dmol/2.0.1/3Dmol-min.js');\n}\n\nvar viewer_16959028382579536 = null;\nvar warn = document.getElementById(\"3dmolwarning_16959028382579536\");\nif(warn) {\n    warn.parentNode.removeChild(warn);\n}\n$3Dmolpromise.then(function() {\nviewer_16959028382579536 = $3Dmol.createViewer(document.getElementById(\"3dmolviewer_16959028382579536\"),{backgroundColor:\"white\"});\nviewer_16959028382579536.zoomTo();\n\tviewer_16959028382579536.removeAllModels();\n\tviewer_16959028382579536.addModel(\"\\n     RDKit          3D\\n\\n 14 13  0  0  0  0  0  0  0  0999 V2000\\n    2.1443    0.8932    0.5396 O   0  0  0  0  0  0  0  0  0  0  0  0\\n    1.0450    0.0635    0.7708 C   0  0  0  0  0  0  0  0  0  0  0  0\\n   -0.0449    0.4960   -0.1696 C   0  0  0  0  0  0  0  0  0  0  0  0\\n    0.4495    0.3475   -1.4696 O   0  0  0  0  0  0  0  0  0  0  0  0\\n   -1.2856   -0.3602   -0.0556 C   0  0  0  0  0  0  0  0  0  0  0  0\\n   -1.8438   -0.2669    1.2218 O   0  0  0  0  0  0  0  0  0  0  0  0\\n    2.9777    0.4043    0.3807 H   0  0  0  0  0  0  0  0  0  0  0  0\\n    0.7479    0.0050    1.8165 H   0  0  0  0  0  0  0  0  0  0  0  0\\n    1.3689   -0.9589    0.4336 H   0  0  0  0  0  0  0  0  0  0  0  0\\n   -0.3299    1.5487   -0.0378 H   0  0  0  0  0  0  0  0  0  0  0  0\\n    0.6315   -0.6412   -1.5654 H   0  0  0  0  0  0  0  0  0  0  0  0\\n   -1.0560   -1.4280   -0.3033 H   0  0  0  0  0  0  0  0  0  0  0  0\\n   -1.9876   -0.0067   -0.8458 H   0  0  0  0  0  0  0  0  0  0  0  0\\n   -2.8171   -0.0964    1.1348 H   0  0  0  0  0  0  0  0  0  0  0  0\\n  1  2  1  0\\n  2  3  1  0\\n  3  4  1  0\\n  3  5  1  0\\n  5  6  1  0\\n  1  7  1  0\\n  2  8  1  0\\n  2  9  1  0\\n  3 10  1  0\\n  4 11  1  0\\n  5 12  1  0\\n  5 13  1  0\\n  6 14  1  0\\nM  END\\n\",\"sdf\");\n\tviewer_16959028382579536.setStyle({\"stick\": {}});\n\tviewer_16959028382579536.setBackgroundColor(\"0xeeeeee\");\n\tviewer_16959028382579536.zoomTo();\nviewer_16959028382579536.render();\n});\n</script>",
      "text/html": [
       "<div id=\"3dmolviewer_16959028382579536\"  style=\"position: relative; width: 400px; height: 400px\">\n",
       "        <p id=\"3dmolwarning_16959028382579536\" style=\"background-color:#ffcccc;color:black\">You appear to be running in JupyterLab (or JavaScript failed to load for some other reason).  You need to install the 3dmol extension: <br>\n",
       "        <tt>jupyter labextension install jupyterlab_3dmol</tt></p>\n",
       "        </div>\n",
       "<script>\n",
       "\n",
       "var loadScriptAsync = function(uri){\n",
       "  return new Promise((resolve, reject) => {\n",
       "    //this is to ignore the existence of requirejs amd\n",
       "    var savedexports, savedmodule;\n",
       "    if (typeof exports !== 'undefined') savedexports = exports;\n",
       "    else exports = {}\n",
       "    if (typeof module !== 'undefined') savedmodule = module;\n",
       "    else module = {}\n",
       "\n",
       "    var tag = document.createElement('script');\n",
       "    tag.src = uri;\n",
       "    tag.async = true;\n",
       "    tag.onload = () => {\n",
       "        exports = savedexports;\n",
       "        module = savedmodule;\n",
       "        resolve();\n",
       "    };\n",
       "  var firstScriptTag = document.getElementsByTagName('script')[0];\n",
       "  firstScriptTag.parentNode.insertBefore(tag, firstScriptTag);\n",
       "});\n",
       "};\n",
       "\n",
       "if(typeof $3Dmolpromise === 'undefined') {\n",
       "$3Dmolpromise = null;\n",
       "  $3Dmolpromise = loadScriptAsync('https://cdnjs.cloudflare.com/ajax/libs/3Dmol/2.0.1/3Dmol-min.js');\n",
       "}\n",
       "\n",
       "var viewer_16959028382579536 = null;\n",
       "var warn = document.getElementById(\"3dmolwarning_16959028382579536\");\n",
       "if(warn) {\n",
       "    warn.parentNode.removeChild(warn);\n",
       "}\n",
       "$3Dmolpromise.then(function() {\n",
       "viewer_16959028382579536 = $3Dmol.createViewer(document.getElementById(\"3dmolviewer_16959028382579536\"),{backgroundColor:\"white\"});\n",
       "viewer_16959028382579536.zoomTo();\n",
       "\tviewer_16959028382579536.removeAllModels();\n",
       "\tviewer_16959028382579536.addModel(\"\\n     RDKit          3D\\n\\n 14 13  0  0  0  0  0  0  0  0999 V2000\\n    2.1443    0.8932    0.5396 O   0  0  0  0  0  0  0  0  0  0  0  0\\n    1.0450    0.0635    0.7708 C   0  0  0  0  0  0  0  0  0  0  0  0\\n   -0.0449    0.4960   -0.1696 C   0  0  0  0  0  0  0  0  0  0  0  0\\n    0.4495    0.3475   -1.4696 O   0  0  0  0  0  0  0  0  0  0  0  0\\n   -1.2856   -0.3602   -0.0556 C   0  0  0  0  0  0  0  0  0  0  0  0\\n   -1.8438   -0.2669    1.2218 O   0  0  0  0  0  0  0  0  0  0  0  0\\n    2.9777    0.4043    0.3807 H   0  0  0  0  0  0  0  0  0  0  0  0\\n    0.7479    0.0050    1.8165 H   0  0  0  0  0  0  0  0  0  0  0  0\\n    1.3689   -0.9589    0.4336 H   0  0  0  0  0  0  0  0  0  0  0  0\\n   -0.3299    1.5487   -0.0378 H   0  0  0  0  0  0  0  0  0  0  0  0\\n    0.6315   -0.6412   -1.5654 H   0  0  0  0  0  0  0  0  0  0  0  0\\n   -1.0560   -1.4280   -0.3033 H   0  0  0  0  0  0  0  0  0  0  0  0\\n   -1.9876   -0.0067   -0.8458 H   0  0  0  0  0  0  0  0  0  0  0  0\\n   -2.8171   -0.0964    1.1348 H   0  0  0  0  0  0  0  0  0  0  0  0\\n  1  2  1  0\\n  2  3  1  0\\n  3  4  1  0\\n  3  5  1  0\\n  5  6  1  0\\n  1  7  1  0\\n  2  8  1  0\\n  2  9  1  0\\n  3 10  1  0\\n  4 11  1  0\\n  5 12  1  0\\n  5 13  1  0\\n  6 14  1  0\\nM  END\\n\",\"sdf\");\n",
       "\tviewer_16959028382579536.setStyle({\"stick\": {}});\n",
       "\tviewer_16959028382579536.setBackgroundColor(\"0xeeeeee\");\n",
       "\tviewer_16959028382579536.zoomTo();\n",
       "viewer_16959028382579536.render();\n",
       "});\n",
       "</script>"
      ]
     },
     "metadata": {},
     "output_type": "display_data"
    },
    {
     "data": {
      "application/3dmoljs_load.v0": "<div id=\"3dmolviewer_1695902838259846\"  style=\"position: relative; width: 400px; height: 400px\">\n        <p id=\"3dmolwarning_1695902838259846\" style=\"background-color:#ffcccc;color:black\">You appear to be running in JupyterLab (or JavaScript failed to load for some other reason).  You need to install the 3dmol extension: <br>\n        <tt>jupyter labextension install jupyterlab_3dmol</tt></p>\n        </div>\n<script>\n\nvar loadScriptAsync = function(uri){\n  return new Promise((resolve, reject) => {\n    //this is to ignore the existence of requirejs amd\n    var savedexports, savedmodule;\n    if (typeof exports !== 'undefined') savedexports = exports;\n    else exports = {}\n    if (typeof module !== 'undefined') savedmodule = module;\n    else module = {}\n\n    var tag = document.createElement('script');\n    tag.src = uri;\n    tag.async = true;\n    tag.onload = () => {\n        exports = savedexports;\n        module = savedmodule;\n        resolve();\n    };\n  var firstScriptTag = document.getElementsByTagName('script')[0];\n  firstScriptTag.parentNode.insertBefore(tag, firstScriptTag);\n});\n};\n\nif(typeof $3Dmolpromise === 'undefined') {\n$3Dmolpromise = null;\n  $3Dmolpromise = loadScriptAsync('https://cdnjs.cloudflare.com/ajax/libs/3Dmol/2.0.1/3Dmol-min.js');\n}\n\nvar viewer_1695902838259846 = null;\nvar warn = document.getElementById(\"3dmolwarning_1695902838259846\");\nif(warn) {\n    warn.parentNode.removeChild(warn);\n}\n$3Dmolpromise.then(function() {\nviewer_1695902838259846 = $3Dmol.createViewer(document.getElementById(\"3dmolviewer_1695902838259846\"),{backgroundColor:\"white\"});\nviewer_1695902838259846.zoomTo();\n\tviewer_1695902838259846.removeAllModels();\n\tviewer_1695902838259846.addModel(\"\\n     RDKit          3D\\n\\n 14 13  0  0  0  0  0  0  0  0999 V2000\\n    1.7237   -1.2203    0.1841 O   0  0  0  0  0  0  0  0  0  0  0  0\\n    1.3640    0.1271    0.1340 C   0  0  0  0  0  0  0  0  0  0  0  0\\n   -0.0416    0.2903   -0.4269 C   0  0  0  0  0  0  0  0  0  0  0  0\\n   -0.3729    1.6200   -0.4665 O   0  0  0  0  0  0  0  0  0  0  0  0\\n   -1.0075   -0.5519    0.3816 C   0  0  0  0  0  0  0  0  0  0  0  0\\n   -2.2853   -0.4628   -0.1664 O   0  0  0  0  0  0  0  0  0  0  0  0\\n    2.4310   -1.2911    0.8919 H   0  0  0  0  0  0  0  0  0  0  0  0\\n    1.4166    0.6225    1.1242 H   0  0  0  0  0  0  0  0  0  0  0  0\\n    2.0430    0.6264   -0.6099 H   0  0  0  0  0  0  0  0  0  0  0  0\\n   -0.1024   -0.1059   -1.4627 H   0  0  0  0  0  0  0  0  0  0  0  0\\n   -0.7003    2.0005    0.3740 H   0  0  0  0  0  0  0  0  0  0  0  0\\n   -0.6890   -1.6181    0.2289 H   0  0  0  0  0  0  0  0  0  0  0  0\\n   -0.9762   -0.3404    1.4558 H   0  0  0  0  0  0  0  0  0  0  0  0\\n   -2.8032    0.3036    0.1787 H   0  0  0  0  0  0  0  0  0  0  0  0\\n  1  2  1  0\\n  2  3  1  0\\n  3  4  1  0\\n  3  5  1  0\\n  5  6  1  0\\n  1  7  1  0\\n  2  8  1  0\\n  2  9  1  0\\n  3 10  1  0\\n  4 11  1  0\\n  5 12  1  0\\n  5 13  1  0\\n  6 14  1  0\\nM  END\\n\",\"sdf\");\n\tviewer_1695902838259846.setStyle({\"stick\": {}});\n\tviewer_1695902838259846.setBackgroundColor(\"0xeeeeee\");\n\tviewer_1695902838259846.zoomTo();\nviewer_1695902838259846.render();\n});\n</script>",
      "text/html": [
       "<div id=\"3dmolviewer_1695902838259846\"  style=\"position: relative; width: 400px; height: 400px\">\n",
       "        <p id=\"3dmolwarning_1695902838259846\" style=\"background-color:#ffcccc;color:black\">You appear to be running in JupyterLab (or JavaScript failed to load for some other reason).  You need to install the 3dmol extension: <br>\n",
       "        <tt>jupyter labextension install jupyterlab_3dmol</tt></p>\n",
       "        </div>\n",
       "<script>\n",
       "\n",
       "var loadScriptAsync = function(uri){\n",
       "  return new Promise((resolve, reject) => {\n",
       "    //this is to ignore the existence of requirejs amd\n",
       "    var savedexports, savedmodule;\n",
       "    if (typeof exports !== 'undefined') savedexports = exports;\n",
       "    else exports = {}\n",
       "    if (typeof module !== 'undefined') savedmodule = module;\n",
       "    else module = {}\n",
       "\n",
       "    var tag = document.createElement('script');\n",
       "    tag.src = uri;\n",
       "    tag.async = true;\n",
       "    tag.onload = () => {\n",
       "        exports = savedexports;\n",
       "        module = savedmodule;\n",
       "        resolve();\n",
       "    };\n",
       "  var firstScriptTag = document.getElementsByTagName('script')[0];\n",
       "  firstScriptTag.parentNode.insertBefore(tag, firstScriptTag);\n",
       "});\n",
       "};\n",
       "\n",
       "if(typeof $3Dmolpromise === 'undefined') {\n",
       "$3Dmolpromise = null;\n",
       "  $3Dmolpromise = loadScriptAsync('https://cdnjs.cloudflare.com/ajax/libs/3Dmol/2.0.1/3Dmol-min.js');\n",
       "}\n",
       "\n",
       "var viewer_1695902838259846 = null;\n",
       "var warn = document.getElementById(\"3dmolwarning_1695902838259846\");\n",
       "if(warn) {\n",
       "    warn.parentNode.removeChild(warn);\n",
       "}\n",
       "$3Dmolpromise.then(function() {\n",
       "viewer_1695902838259846 = $3Dmol.createViewer(document.getElementById(\"3dmolviewer_1695902838259846\"),{backgroundColor:\"white\"});\n",
       "viewer_1695902838259846.zoomTo();\n",
       "\tviewer_1695902838259846.removeAllModels();\n",
       "\tviewer_1695902838259846.addModel(\"\\n     RDKit          3D\\n\\n 14 13  0  0  0  0  0  0  0  0999 V2000\\n    1.7237   -1.2203    0.1841 O   0  0  0  0  0  0  0  0  0  0  0  0\\n    1.3640    0.1271    0.1340 C   0  0  0  0  0  0  0  0  0  0  0  0\\n   -0.0416    0.2903   -0.4269 C   0  0  0  0  0  0  0  0  0  0  0  0\\n   -0.3729    1.6200   -0.4665 O   0  0  0  0  0  0  0  0  0  0  0  0\\n   -1.0075   -0.5519    0.3816 C   0  0  0  0  0  0  0  0  0  0  0  0\\n   -2.2853   -0.4628   -0.1664 O   0  0  0  0  0  0  0  0  0  0  0  0\\n    2.4310   -1.2911    0.8919 H   0  0  0  0  0  0  0  0  0  0  0  0\\n    1.4166    0.6225    1.1242 H   0  0  0  0  0  0  0  0  0  0  0  0\\n    2.0430    0.6264   -0.6099 H   0  0  0  0  0  0  0  0  0  0  0  0\\n   -0.1024   -0.1059   -1.4627 H   0  0  0  0  0  0  0  0  0  0  0  0\\n   -0.7003    2.0005    0.3740 H   0  0  0  0  0  0  0  0  0  0  0  0\\n   -0.6890   -1.6181    0.2289 H   0  0  0  0  0  0  0  0  0  0  0  0\\n   -0.9762   -0.3404    1.4558 H   0  0  0  0  0  0  0  0  0  0  0  0\\n   -2.8032    0.3036    0.1787 H   0  0  0  0  0  0  0  0  0  0  0  0\\n  1  2  1  0\\n  2  3  1  0\\n  3  4  1  0\\n  3  5  1  0\\n  5  6  1  0\\n  1  7  1  0\\n  2  8  1  0\\n  2  9  1  0\\n  3 10  1  0\\n  4 11  1  0\\n  5 12  1  0\\n  5 13  1  0\\n  6 14  1  0\\nM  END\\n\",\"sdf\");\n",
       "\tviewer_1695902838259846.setStyle({\"stick\": {}});\n",
       "\tviewer_1695902838259846.setBackgroundColor(\"0xeeeeee\");\n",
       "\tviewer_1695902838259846.zoomTo();\n",
       "viewer_1695902838259846.render();\n",
       "});\n",
       "</script>"
      ]
     },
     "metadata": {},
     "output_type": "display_data"
    },
    {
     "data": {
      "application/3dmoljs_load.v0": "<div id=\"3dmolviewer_1695902838261657\"  style=\"position: relative; width: 400px; height: 400px\">\n        <p id=\"3dmolwarning_1695902838261657\" style=\"background-color:#ffcccc;color:black\">You appear to be running in JupyterLab (or JavaScript failed to load for some other reason).  You need to install the 3dmol extension: <br>\n        <tt>jupyter labextension install jupyterlab_3dmol</tt></p>\n        </div>\n<script>\n\nvar loadScriptAsync = function(uri){\n  return new Promise((resolve, reject) => {\n    //this is to ignore the existence of requirejs amd\n    var savedexports, savedmodule;\n    if (typeof exports !== 'undefined') savedexports = exports;\n    else exports = {}\n    if (typeof module !== 'undefined') savedmodule = module;\n    else module = {}\n\n    var tag = document.createElement('script');\n    tag.src = uri;\n    tag.async = true;\n    tag.onload = () => {\n        exports = savedexports;\n        module = savedmodule;\n        resolve();\n    };\n  var firstScriptTag = document.getElementsByTagName('script')[0];\n  firstScriptTag.parentNode.insertBefore(tag, firstScriptTag);\n});\n};\n\nif(typeof $3Dmolpromise === 'undefined') {\n$3Dmolpromise = null;\n  $3Dmolpromise = loadScriptAsync('https://cdnjs.cloudflare.com/ajax/libs/3Dmol/2.0.1/3Dmol-min.js');\n}\n\nvar viewer_1695902838261657 = null;\nvar warn = document.getElementById(\"3dmolwarning_1695902838261657\");\nif(warn) {\n    warn.parentNode.removeChild(warn);\n}\n$3Dmolpromise.then(function() {\nviewer_1695902838261657 = $3Dmol.createViewer(document.getElementById(\"3dmolviewer_1695902838261657\"),{backgroundColor:\"white\"});\nviewer_1695902838261657.zoomTo();\n\tviewer_1695902838261657.removeAllModels();\n\tviewer_1695902838261657.addModel(\"\\n     RDKit          3D\\n\\n 14 13  0  0  0  0  0  0  0  0999 V2000\\n   -1.5671   -0.2474    0.9462 O   0  0  0  0  0  0  0  0  0  0  0  0\\n   -1.2632   -0.1408   -0.4047 C   0  0  0  0  0  0  0  0  0  0  0  0\\n    0.2324   -0.1759   -0.6111 C   0  0  0  0  0  0  0  0  0  0  0  0\\n    0.7265   -1.3782   -0.1230 O   0  0  0  0  0  0  0  0  0  0  0  0\\n    0.9478    0.9488    0.0908 C   0  0  0  0  0  0  0  0  0  0  0  0\\n    2.3090    0.8027   -0.1972 O   0  0  0  0  0  0  0  0  0  0  0  0\\n   -2.5604   -0.2637    1.0358 H   0  0  0  0  0  0  0  0  0  0  0  0\\n   -1.6825    0.8105   -0.8054 H   0  0  0  0  0  0  0  0  0  0  0  0\\n   -1.6813   -0.9997   -0.9705 H   0  0  0  0  0  0  0  0  0  0  0  0\\n    0.5063   -0.1182   -1.6815 H   0  0  0  0  0  0  0  0  0  0  0  0\\n   -0.0245   -1.9941    0.1437 H   0  0  0  0  0  0  0  0  0  0  0  0\\n    0.8550    0.8924    1.1976 H   0  0  0  0  0  0  0  0  0  0  0  0\\n    0.6581    1.9468   -0.3037 H   0  0  0  0  0  0  0  0  0  0  0  0\\n    2.5442   -0.0831   -0.5261 H   0  0  0  0  0  0  0  0  0  0  0  0\\n  1  2  1  0\\n  2  3  1  0\\n  3  4  1  0\\n  3  5  1  0\\n  5  6  1  0\\n  1  7  1  0\\n  2  8  1  0\\n  2  9  1  0\\n  3 10  1  0\\n  4 11  1  0\\n  5 12  1  0\\n  5 13  1  0\\n  6 14  1  0\\nM  END\\n\",\"sdf\");\n\tviewer_1695902838261657.setStyle({\"stick\": {}});\n\tviewer_1695902838261657.setBackgroundColor(\"0xeeeeee\");\n\tviewer_1695902838261657.zoomTo();\nviewer_1695902838261657.render();\n});\n</script>",
      "text/html": [
       "<div id=\"3dmolviewer_1695902838261657\"  style=\"position: relative; width: 400px; height: 400px\">\n",
       "        <p id=\"3dmolwarning_1695902838261657\" style=\"background-color:#ffcccc;color:black\">You appear to be running in JupyterLab (or JavaScript failed to load for some other reason).  You need to install the 3dmol extension: <br>\n",
       "        <tt>jupyter labextension install jupyterlab_3dmol</tt></p>\n",
       "        </div>\n",
       "<script>\n",
       "\n",
       "var loadScriptAsync = function(uri){\n",
       "  return new Promise((resolve, reject) => {\n",
       "    //this is to ignore the existence of requirejs amd\n",
       "    var savedexports, savedmodule;\n",
       "    if (typeof exports !== 'undefined') savedexports = exports;\n",
       "    else exports = {}\n",
       "    if (typeof module !== 'undefined') savedmodule = module;\n",
       "    else module = {}\n",
       "\n",
       "    var tag = document.createElement('script');\n",
       "    tag.src = uri;\n",
       "    tag.async = true;\n",
       "    tag.onload = () => {\n",
       "        exports = savedexports;\n",
       "        module = savedmodule;\n",
       "        resolve();\n",
       "    };\n",
       "  var firstScriptTag = document.getElementsByTagName('script')[0];\n",
       "  firstScriptTag.parentNode.insertBefore(tag, firstScriptTag);\n",
       "});\n",
       "};\n",
       "\n",
       "if(typeof $3Dmolpromise === 'undefined') {\n",
       "$3Dmolpromise = null;\n",
       "  $3Dmolpromise = loadScriptAsync('https://cdnjs.cloudflare.com/ajax/libs/3Dmol/2.0.1/3Dmol-min.js');\n",
       "}\n",
       "\n",
       "var viewer_1695902838261657 = null;\n",
       "var warn = document.getElementById(\"3dmolwarning_1695902838261657\");\n",
       "if(warn) {\n",
       "    warn.parentNode.removeChild(warn);\n",
       "}\n",
       "$3Dmolpromise.then(function() {\n",
       "viewer_1695902838261657 = $3Dmol.createViewer(document.getElementById(\"3dmolviewer_1695902838261657\"),{backgroundColor:\"white\"});\n",
       "viewer_1695902838261657.zoomTo();\n",
       "\tviewer_1695902838261657.removeAllModels();\n",
       "\tviewer_1695902838261657.addModel(\"\\n     RDKit          3D\\n\\n 14 13  0  0  0  0  0  0  0  0999 V2000\\n   -1.5671   -0.2474    0.9462 O   0  0  0  0  0  0  0  0  0  0  0  0\\n   -1.2632   -0.1408   -0.4047 C   0  0  0  0  0  0  0  0  0  0  0  0\\n    0.2324   -0.1759   -0.6111 C   0  0  0  0  0  0  0  0  0  0  0  0\\n    0.7265   -1.3782   -0.1230 O   0  0  0  0  0  0  0  0  0  0  0  0\\n    0.9478    0.9488    0.0908 C   0  0  0  0  0  0  0  0  0  0  0  0\\n    2.3090    0.8027   -0.1972 O   0  0  0  0  0  0  0  0  0  0  0  0\\n   -2.5604   -0.2637    1.0358 H   0  0  0  0  0  0  0  0  0  0  0  0\\n   -1.6825    0.8105   -0.8054 H   0  0  0  0  0  0  0  0  0  0  0  0\\n   -1.6813   -0.9997   -0.9705 H   0  0  0  0  0  0  0  0  0  0  0  0\\n    0.5063   -0.1182   -1.6815 H   0  0  0  0  0  0  0  0  0  0  0  0\\n   -0.0245   -1.9941    0.1437 H   0  0  0  0  0  0  0  0  0  0  0  0\\n    0.8550    0.8924    1.1976 H   0  0  0  0  0  0  0  0  0  0  0  0\\n    0.6581    1.9468   -0.3037 H   0  0  0  0  0  0  0  0  0  0  0  0\\n    2.5442   -0.0831   -0.5261 H   0  0  0  0  0  0  0  0  0  0  0  0\\n  1  2  1  0\\n  2  3  1  0\\n  3  4  1  0\\n  3  5  1  0\\n  5  6  1  0\\n  1  7  1  0\\n  2  8  1  0\\n  2  9  1  0\\n  3 10  1  0\\n  4 11  1  0\\n  5 12  1  0\\n  5 13  1  0\\n  6 14  1  0\\nM  END\\n\",\"sdf\");\n",
       "\tviewer_1695902838261657.setStyle({\"stick\": {}});\n",
       "\tviewer_1695902838261657.setBackgroundColor(\"0xeeeeee\");\n",
       "\tviewer_1695902838261657.zoomTo();\n",
       "viewer_1695902838261657.render();\n",
       "});\n",
       "</script>"
      ]
     },
     "metadata": {},
     "output_type": "display_data"
    },
    {
     "data": {
      "application/3dmoljs_load.v0": "<div id=\"3dmolviewer_16959028382633939\"  style=\"position: relative; width: 400px; height: 400px\">\n        <p id=\"3dmolwarning_16959028382633939\" style=\"background-color:#ffcccc;color:black\">You appear to be running in JupyterLab (or JavaScript failed to load for some other reason).  You need to install the 3dmol extension: <br>\n        <tt>jupyter labextension install jupyterlab_3dmol</tt></p>\n        </div>\n<script>\n\nvar loadScriptAsync = function(uri){\n  return new Promise((resolve, reject) => {\n    //this is to ignore the existence of requirejs amd\n    var savedexports, savedmodule;\n    if (typeof exports !== 'undefined') savedexports = exports;\n    else exports = {}\n    if (typeof module !== 'undefined') savedmodule = module;\n    else module = {}\n\n    var tag = document.createElement('script');\n    tag.src = uri;\n    tag.async = true;\n    tag.onload = () => {\n        exports = savedexports;\n        module = savedmodule;\n        resolve();\n    };\n  var firstScriptTag = document.getElementsByTagName('script')[0];\n  firstScriptTag.parentNode.insertBefore(tag, firstScriptTag);\n});\n};\n\nif(typeof $3Dmolpromise === 'undefined') {\n$3Dmolpromise = null;\n  $3Dmolpromise = loadScriptAsync('https://cdnjs.cloudflare.com/ajax/libs/3Dmol/2.0.1/3Dmol-min.js');\n}\n\nvar viewer_16959028382633939 = null;\nvar warn = document.getElementById(\"3dmolwarning_16959028382633939\");\nif(warn) {\n    warn.parentNode.removeChild(warn);\n}\n$3Dmolpromise.then(function() {\nviewer_16959028382633939 = $3Dmol.createViewer(document.getElementById(\"3dmolviewer_16959028382633939\"),{backgroundColor:\"white\"});\nviewer_16959028382633939.zoomTo();\n\tviewer_16959028382633939.removeAllModels();\n\tviewer_16959028382633939.addModel(\"\\n     RDKit          3D\\n\\n 14 13  0  0  0  0  0  0  0  0999 V2000\\n    1.6950    0.5968   -0.4351 O   0  0  0  0  0  0  0  0  0  0  0  0\\n    0.7915   -0.4229   -0.7471 C   0  0  0  0  0  0  0  0  0  0  0  0\\n   -0.0848   -0.5968    0.4769 C   0  0  0  0  0  0  0  0  0  0  0  0\\n   -1.0347   -1.5755    0.3236 O   0  0  0  0  0  0  0  0  0  0  0  0\\n   -0.7101    0.7728    0.7479 C   0  0  0  0  0  0  0  0  0  0  0  0\\n   -1.5165    1.0758   -0.3460 O   0  0  0  0  0  0  0  0  0  0  0  0\\n    2.3421    0.1897    0.2128 H   0  0  0  0  0  0  0  0  0  0  0  0\\n    1.3880   -1.3101   -0.9826 H   0  0  0  0  0  0  0  0  0  0  0  0\\n    0.2142   -0.0967   -1.6316 H   0  0  0  0  0  0  0  0  0  0  0  0\\n    0.5849   -0.8673    1.3188 H   0  0  0  0  0  0  0  0  0  0  0  0\\n   -1.4292   -1.6118   -0.5818 H   0  0  0  0  0  0  0  0  0  0  0  0\\n   -1.3561    0.6370    1.6529 H   0  0  0  0  0  0  0  0  0  0  0  0\\n    0.1034    1.4990    0.9073 H   0  0  0  0  0  0  0  0  0  0  0  0\\n   -0.9877    1.7100   -0.9160 H   0  0  0  0  0  0  0  0  0  0  0  0\\n  1  2  1  0\\n  2  3  1  0\\n  3  4  1  0\\n  3  5  1  0\\n  5  6  1  0\\n  1  7  1  0\\n  2  8  1  0\\n  2  9  1  0\\n  3 10  1  0\\n  4 11  1  0\\n  5 12  1  0\\n  5 13  1  0\\n  6 14  1  0\\nM  END\\n\",\"sdf\");\n\tviewer_16959028382633939.setStyle({\"stick\": {}});\n\tviewer_16959028382633939.setBackgroundColor(\"0xeeeeee\");\n\tviewer_16959028382633939.zoomTo();\nviewer_16959028382633939.render();\n});\n</script>",
      "text/html": [
       "<div id=\"3dmolviewer_16959028382633939\"  style=\"position: relative; width: 400px; height: 400px\">\n",
       "        <p id=\"3dmolwarning_16959028382633939\" style=\"background-color:#ffcccc;color:black\">You appear to be running in JupyterLab (or JavaScript failed to load for some other reason).  You need to install the 3dmol extension: <br>\n",
       "        <tt>jupyter labextension install jupyterlab_3dmol</tt></p>\n",
       "        </div>\n",
       "<script>\n",
       "\n",
       "var loadScriptAsync = function(uri){\n",
       "  return new Promise((resolve, reject) => {\n",
       "    //this is to ignore the existence of requirejs amd\n",
       "    var savedexports, savedmodule;\n",
       "    if (typeof exports !== 'undefined') savedexports = exports;\n",
       "    else exports = {}\n",
       "    if (typeof module !== 'undefined') savedmodule = module;\n",
       "    else module = {}\n",
       "\n",
       "    var tag = document.createElement('script');\n",
       "    tag.src = uri;\n",
       "    tag.async = true;\n",
       "    tag.onload = () => {\n",
       "        exports = savedexports;\n",
       "        module = savedmodule;\n",
       "        resolve();\n",
       "    };\n",
       "  var firstScriptTag = document.getElementsByTagName('script')[0];\n",
       "  firstScriptTag.parentNode.insertBefore(tag, firstScriptTag);\n",
       "});\n",
       "};\n",
       "\n",
       "if(typeof $3Dmolpromise === 'undefined') {\n",
       "$3Dmolpromise = null;\n",
       "  $3Dmolpromise = loadScriptAsync('https://cdnjs.cloudflare.com/ajax/libs/3Dmol/2.0.1/3Dmol-min.js');\n",
       "}\n",
       "\n",
       "var viewer_16959028382633939 = null;\n",
       "var warn = document.getElementById(\"3dmolwarning_16959028382633939\");\n",
       "if(warn) {\n",
       "    warn.parentNode.removeChild(warn);\n",
       "}\n",
       "$3Dmolpromise.then(function() {\n",
       "viewer_16959028382633939 = $3Dmol.createViewer(document.getElementById(\"3dmolviewer_16959028382633939\"),{backgroundColor:\"white\"});\n",
       "viewer_16959028382633939.zoomTo();\n",
       "\tviewer_16959028382633939.removeAllModels();\n",
       "\tviewer_16959028382633939.addModel(\"\\n     RDKit          3D\\n\\n 14 13  0  0  0  0  0  0  0  0999 V2000\\n    1.6950    0.5968   -0.4351 O   0  0  0  0  0  0  0  0  0  0  0  0\\n    0.7915   -0.4229   -0.7471 C   0  0  0  0  0  0  0  0  0  0  0  0\\n   -0.0848   -0.5968    0.4769 C   0  0  0  0  0  0  0  0  0  0  0  0\\n   -1.0347   -1.5755    0.3236 O   0  0  0  0  0  0  0  0  0  0  0  0\\n   -0.7101    0.7728    0.7479 C   0  0  0  0  0  0  0  0  0  0  0  0\\n   -1.5165    1.0758   -0.3460 O   0  0  0  0  0  0  0  0  0  0  0  0\\n    2.3421    0.1897    0.2128 H   0  0  0  0  0  0  0  0  0  0  0  0\\n    1.3880   -1.3101   -0.9826 H   0  0  0  0  0  0  0  0  0  0  0  0\\n    0.2142   -0.0967   -1.6316 H   0  0  0  0  0  0  0  0  0  0  0  0\\n    0.5849   -0.8673    1.3188 H   0  0  0  0  0  0  0  0  0  0  0  0\\n   -1.4292   -1.6118   -0.5818 H   0  0  0  0  0  0  0  0  0  0  0  0\\n   -1.3561    0.6370    1.6529 H   0  0  0  0  0  0  0  0  0  0  0  0\\n    0.1034    1.4990    0.9073 H   0  0  0  0  0  0  0  0  0  0  0  0\\n   -0.9877    1.7100   -0.9160 H   0  0  0  0  0  0  0  0  0  0  0  0\\n  1  2  1  0\\n  2  3  1  0\\n  3  4  1  0\\n  3  5  1  0\\n  5  6  1  0\\n  1  7  1  0\\n  2  8  1  0\\n  2  9  1  0\\n  3 10  1  0\\n  4 11  1  0\\n  5 12  1  0\\n  5 13  1  0\\n  6 14  1  0\\nM  END\\n\",\"sdf\");\n",
       "\tviewer_16959028382633939.setStyle({\"stick\": {}});\n",
       "\tviewer_16959028382633939.setBackgroundColor(\"0xeeeeee\");\n",
       "\tviewer_16959028382633939.zoomTo();\n",
       "viewer_16959028382633939.render();\n",
       "});\n",
       "</script>"
      ]
     },
     "metadata": {},
     "output_type": "display_data"
    },
    {
     "data": {
      "application/3dmoljs_load.v0": "<div id=\"3dmolviewer_16959028382650173\"  style=\"position: relative; width: 400px; height: 400px\">\n        <p id=\"3dmolwarning_16959028382650173\" style=\"background-color:#ffcccc;color:black\">You appear to be running in JupyterLab (or JavaScript failed to load for some other reason).  You need to install the 3dmol extension: <br>\n        <tt>jupyter labextension install jupyterlab_3dmol</tt></p>\n        </div>\n<script>\n\nvar loadScriptAsync = function(uri){\n  return new Promise((resolve, reject) => {\n    //this is to ignore the existence of requirejs amd\n    var savedexports, savedmodule;\n    if (typeof exports !== 'undefined') savedexports = exports;\n    else exports = {}\n    if (typeof module !== 'undefined') savedmodule = module;\n    else module = {}\n\n    var tag = document.createElement('script');\n    tag.src = uri;\n    tag.async = true;\n    tag.onload = () => {\n        exports = savedexports;\n        module = savedmodule;\n        resolve();\n    };\n  var firstScriptTag = document.getElementsByTagName('script')[0];\n  firstScriptTag.parentNode.insertBefore(tag, firstScriptTag);\n});\n};\n\nif(typeof $3Dmolpromise === 'undefined') {\n$3Dmolpromise = null;\n  $3Dmolpromise = loadScriptAsync('https://cdnjs.cloudflare.com/ajax/libs/3Dmol/2.0.1/3Dmol-min.js');\n}\n\nvar viewer_16959028382650173 = null;\nvar warn = document.getElementById(\"3dmolwarning_16959028382650173\");\nif(warn) {\n    warn.parentNode.removeChild(warn);\n}\n$3Dmolpromise.then(function() {\nviewer_16959028382650173 = $3Dmol.createViewer(document.getElementById(\"3dmolviewer_16959028382650173\"),{backgroundColor:\"white\"});\nviewer_16959028382650173.zoomTo();\n\tviewer_16959028382650173.removeAllModels();\n\tviewer_16959028382650173.addModel(\"\\n     RDKit          3D\\n\\n 14 13  0  0  0  0  0  0  0  0999 V2000\\n    2.1984    0.0428   -0.4630 O   0  0  0  0  0  0  0  0  0  0  0  0\\n    0.9624   -0.5683   -0.3812 C   0  0  0  0  0  0  0  0  0  0  0  0\\n   -0.1482    0.4923   -0.3229 C   0  0  0  0  0  0  0  0  0  0  0  0\\n    0.0380    1.3037    0.8026 O   0  0  0  0  0  0  0  0  0  0  0  0\\n   -1.4972   -0.1762   -0.1484 C   0  0  0  0  0  0  0  0  0  0  0  0\\n   -1.5392   -0.9421    0.9992 O   0  0  0  0  0  0  0  0  0  0  0  0\\n    2.7504   -0.1654    0.3165 H   0  0  0  0  0  0  0  0  0  0  0  0\\n    0.8838   -1.1398    0.5840 H   0  0  0  0  0  0  0  0  0  0  0  0\\n    0.7696   -1.2120   -1.2592 H   0  0  0  0  0  0  0  0  0  0  0  0\\n   -0.1320    1.0736   -1.2501 H   0  0  0  0  0  0  0  0  0  0  0  0\\n    0.5753    2.0795    0.5485 H   0  0  0  0  0  0  0  0  0  0  0  0\\n   -1.7775   -0.7498   -1.0615 H   0  0  0  0  0  0  0  0  0  0  0  0\\n   -2.2343    0.6571   -0.0308 H   0  0  0  0  0  0  0  0  0  0  0  0\\n   -0.8495   -0.6953    1.6662 H   0  0  0  0  0  0  0  0  0  0  0  0\\n  1  2  1  0\\n  2  3  1  0\\n  3  4  1  0\\n  3  5  1  0\\n  5  6  1  0\\n  1  7  1  0\\n  2  8  1  0\\n  2  9  1  0\\n  3 10  1  0\\n  4 11  1  0\\n  5 12  1  0\\n  5 13  1  0\\n  6 14  1  0\\nM  END\\n\",\"sdf\");\n\tviewer_16959028382650173.setStyle({\"stick\": {}});\n\tviewer_16959028382650173.setBackgroundColor(\"0xeeeeee\");\n\tviewer_16959028382650173.zoomTo();\nviewer_16959028382650173.render();\n});\n</script>",
      "text/html": [
       "<div id=\"3dmolviewer_16959028382650173\"  style=\"position: relative; width: 400px; height: 400px\">\n",
       "        <p id=\"3dmolwarning_16959028382650173\" style=\"background-color:#ffcccc;color:black\">You appear to be running in JupyterLab (or JavaScript failed to load for some other reason).  You need to install the 3dmol extension: <br>\n",
       "        <tt>jupyter labextension install jupyterlab_3dmol</tt></p>\n",
       "        </div>\n",
       "<script>\n",
       "\n",
       "var loadScriptAsync = function(uri){\n",
       "  return new Promise((resolve, reject) => {\n",
       "    //this is to ignore the existence of requirejs amd\n",
       "    var savedexports, savedmodule;\n",
       "    if (typeof exports !== 'undefined') savedexports = exports;\n",
       "    else exports = {}\n",
       "    if (typeof module !== 'undefined') savedmodule = module;\n",
       "    else module = {}\n",
       "\n",
       "    var tag = document.createElement('script');\n",
       "    tag.src = uri;\n",
       "    tag.async = true;\n",
       "    tag.onload = () => {\n",
       "        exports = savedexports;\n",
       "        module = savedmodule;\n",
       "        resolve();\n",
       "    };\n",
       "  var firstScriptTag = document.getElementsByTagName('script')[0];\n",
       "  firstScriptTag.parentNode.insertBefore(tag, firstScriptTag);\n",
       "});\n",
       "};\n",
       "\n",
       "if(typeof $3Dmolpromise === 'undefined') {\n",
       "$3Dmolpromise = null;\n",
       "  $3Dmolpromise = loadScriptAsync('https://cdnjs.cloudflare.com/ajax/libs/3Dmol/2.0.1/3Dmol-min.js');\n",
       "}\n",
       "\n",
       "var viewer_16959028382650173 = null;\n",
       "var warn = document.getElementById(\"3dmolwarning_16959028382650173\");\n",
       "if(warn) {\n",
       "    warn.parentNode.removeChild(warn);\n",
       "}\n",
       "$3Dmolpromise.then(function() {\n",
       "viewer_16959028382650173 = $3Dmol.createViewer(document.getElementById(\"3dmolviewer_16959028382650173\"),{backgroundColor:\"white\"});\n",
       "viewer_16959028382650173.zoomTo();\n",
       "\tviewer_16959028382650173.removeAllModels();\n",
       "\tviewer_16959028382650173.addModel(\"\\n     RDKit          3D\\n\\n 14 13  0  0  0  0  0  0  0  0999 V2000\\n    2.1984    0.0428   -0.4630 O   0  0  0  0  0  0  0  0  0  0  0  0\\n    0.9624   -0.5683   -0.3812 C   0  0  0  0  0  0  0  0  0  0  0  0\\n   -0.1482    0.4923   -0.3229 C   0  0  0  0  0  0  0  0  0  0  0  0\\n    0.0380    1.3037    0.8026 O   0  0  0  0  0  0  0  0  0  0  0  0\\n   -1.4972   -0.1762   -0.1484 C   0  0  0  0  0  0  0  0  0  0  0  0\\n   -1.5392   -0.9421    0.9992 O   0  0  0  0  0  0  0  0  0  0  0  0\\n    2.7504   -0.1654    0.3165 H   0  0  0  0  0  0  0  0  0  0  0  0\\n    0.8838   -1.1398    0.5840 H   0  0  0  0  0  0  0  0  0  0  0  0\\n    0.7696   -1.2120   -1.2592 H   0  0  0  0  0  0  0  0  0  0  0  0\\n   -0.1320    1.0736   -1.2501 H   0  0  0  0  0  0  0  0  0  0  0  0\\n    0.5753    2.0795    0.5485 H   0  0  0  0  0  0  0  0  0  0  0  0\\n   -1.7775   -0.7498   -1.0615 H   0  0  0  0  0  0  0  0  0  0  0  0\\n   -2.2343    0.6571   -0.0308 H   0  0  0  0  0  0  0  0  0  0  0  0\\n   -0.8495   -0.6953    1.6662 H   0  0  0  0  0  0  0  0  0  0  0  0\\n  1  2  1  0\\n  2  3  1  0\\n  3  4  1  0\\n  3  5  1  0\\n  5  6  1  0\\n  1  7  1  0\\n  2  8  1  0\\n  2  9  1  0\\n  3 10  1  0\\n  4 11  1  0\\n  5 12  1  0\\n  5 13  1  0\\n  6 14  1  0\\nM  END\\n\",\"sdf\");\n",
       "\tviewer_16959028382650173.setStyle({\"stick\": {}});\n",
       "\tviewer_16959028382650173.setBackgroundColor(\"0xeeeeee\");\n",
       "\tviewer_16959028382650173.zoomTo();\n",
       "viewer_16959028382650173.render();\n",
       "});\n",
       "</script>"
      ]
     },
     "metadata": {},
     "output_type": "display_data"
    },
    {
     "data": {
      "application/3dmoljs_load.v0": "<div id=\"3dmolviewer_16959028382666483\"  style=\"position: relative; width: 400px; height: 400px\">\n        <p id=\"3dmolwarning_16959028382666483\" style=\"background-color:#ffcccc;color:black\">You appear to be running in JupyterLab (or JavaScript failed to load for some other reason).  You need to install the 3dmol extension: <br>\n        <tt>jupyter labextension install jupyterlab_3dmol</tt></p>\n        </div>\n<script>\n\nvar loadScriptAsync = function(uri){\n  return new Promise((resolve, reject) => {\n    //this is to ignore the existence of requirejs amd\n    var savedexports, savedmodule;\n    if (typeof exports !== 'undefined') savedexports = exports;\n    else exports = {}\n    if (typeof module !== 'undefined') savedmodule = module;\n    else module = {}\n\n    var tag = document.createElement('script');\n    tag.src = uri;\n    tag.async = true;\n    tag.onload = () => {\n        exports = savedexports;\n        module = savedmodule;\n        resolve();\n    };\n  var firstScriptTag = document.getElementsByTagName('script')[0];\n  firstScriptTag.parentNode.insertBefore(tag, firstScriptTag);\n});\n};\n\nif(typeof $3Dmolpromise === 'undefined') {\n$3Dmolpromise = null;\n  $3Dmolpromise = loadScriptAsync('https://cdnjs.cloudflare.com/ajax/libs/3Dmol/2.0.1/3Dmol-min.js');\n}\n\nvar viewer_16959028382666483 = null;\nvar warn = document.getElementById(\"3dmolwarning_16959028382666483\");\nif(warn) {\n    warn.parentNode.removeChild(warn);\n}\n$3Dmolpromise.then(function() {\nviewer_16959028382666483 = $3Dmol.createViewer(document.getElementById(\"3dmolviewer_16959028382666483\"),{backgroundColor:\"white\"});\nviewer_16959028382666483.zoomTo();\n\tviewer_16959028382666483.removeAllModels();\n\tviewer_16959028382666483.addModel(\"\\n     RDKit          3D\\n\\n 14 13  0  0  0  0  0  0  0  0999 V2000\\n    1.6789    0.4339   -0.9323 O   0  0  0  0  0  0  0  0  0  0  0  0\\n    1.1262   -0.7496   -0.4243 C   0  0  0  0  0  0  0  0  0  0  0  0\\n   -0.1280   -0.4079    0.3245 C   0  0  0  0  0  0  0  0  0  0  0  0\\n    0.2622    0.4699    1.3614 O   0  0  0  0  0  0  0  0  0  0  0  0\\n   -1.1399    0.3192   -0.5270 C   0  0  0  0  0  0  0  0  0  0  0  0\\n   -2.2396    0.6708    0.2511 O   0  0  0  0  0  0  0  0  0  0  0  0\\n    2.1753    0.9367   -0.2546 H   0  0  0  0  0  0  0  0  0  0  0  0\\n    1.8633   -1.1200    0.3309 H   0  0  0  0  0  0  0  0  0  0  0  0\\n    0.9902   -1.5139   -1.2010 H   0  0  0  0  0  0  0  0  0  0  0  0\\n   -0.5859   -1.3077    0.7613 H   0  0  0  0  0  0  0  0  0  0  0  0\\n    0.4180   -0.0990    2.1516 H   0  0  0  0  0  0  0  0  0  0  0  0\\n   -1.5145   -0.4097   -1.3007 H   0  0  0  0  0  0  0  0  0  0  0  0\\n   -0.7045    1.1549   -1.0845 H   0  0  0  0  0  0  0  0  0  0  0  0\\n   -2.2016    1.6225    0.5436 H   0  0  0  0  0  0  0  0  0  0  0  0\\n  1  2  1  0\\n  2  3  1  0\\n  3  4  1  0\\n  3  5  1  0\\n  5  6  1  0\\n  1  7  1  0\\n  2  8  1  0\\n  2  9  1  0\\n  3 10  1  0\\n  4 11  1  0\\n  5 12  1  0\\n  5 13  1  0\\n  6 14  1  0\\nM  END\\n\",\"sdf\");\n\tviewer_16959028382666483.setStyle({\"stick\": {}});\n\tviewer_16959028382666483.setBackgroundColor(\"0xeeeeee\");\n\tviewer_16959028382666483.zoomTo();\nviewer_16959028382666483.render();\n});\n</script>",
      "text/html": [
       "<div id=\"3dmolviewer_16959028382666483\"  style=\"position: relative; width: 400px; height: 400px\">\n",
       "        <p id=\"3dmolwarning_16959028382666483\" style=\"background-color:#ffcccc;color:black\">You appear to be running in JupyterLab (or JavaScript failed to load for some other reason).  You need to install the 3dmol extension: <br>\n",
       "        <tt>jupyter labextension install jupyterlab_3dmol</tt></p>\n",
       "        </div>\n",
       "<script>\n",
       "\n",
       "var loadScriptAsync = function(uri){\n",
       "  return new Promise((resolve, reject) => {\n",
       "    //this is to ignore the existence of requirejs amd\n",
       "    var savedexports, savedmodule;\n",
       "    if (typeof exports !== 'undefined') savedexports = exports;\n",
       "    else exports = {}\n",
       "    if (typeof module !== 'undefined') savedmodule = module;\n",
       "    else module = {}\n",
       "\n",
       "    var tag = document.createElement('script');\n",
       "    tag.src = uri;\n",
       "    tag.async = true;\n",
       "    tag.onload = () => {\n",
       "        exports = savedexports;\n",
       "        module = savedmodule;\n",
       "        resolve();\n",
       "    };\n",
       "  var firstScriptTag = document.getElementsByTagName('script')[0];\n",
       "  firstScriptTag.parentNode.insertBefore(tag, firstScriptTag);\n",
       "});\n",
       "};\n",
       "\n",
       "if(typeof $3Dmolpromise === 'undefined') {\n",
       "$3Dmolpromise = null;\n",
       "  $3Dmolpromise = loadScriptAsync('https://cdnjs.cloudflare.com/ajax/libs/3Dmol/2.0.1/3Dmol-min.js');\n",
       "}\n",
       "\n",
       "var viewer_16959028382666483 = null;\n",
       "var warn = document.getElementById(\"3dmolwarning_16959028382666483\");\n",
       "if(warn) {\n",
       "    warn.parentNode.removeChild(warn);\n",
       "}\n",
       "$3Dmolpromise.then(function() {\n",
       "viewer_16959028382666483 = $3Dmol.createViewer(document.getElementById(\"3dmolviewer_16959028382666483\"),{backgroundColor:\"white\"});\n",
       "viewer_16959028382666483.zoomTo();\n",
       "\tviewer_16959028382666483.removeAllModels();\n",
       "\tviewer_16959028382666483.addModel(\"\\n     RDKit          3D\\n\\n 14 13  0  0  0  0  0  0  0  0999 V2000\\n    1.6789    0.4339   -0.9323 O   0  0  0  0  0  0  0  0  0  0  0  0\\n    1.1262   -0.7496   -0.4243 C   0  0  0  0  0  0  0  0  0  0  0  0\\n   -0.1280   -0.4079    0.3245 C   0  0  0  0  0  0  0  0  0  0  0  0\\n    0.2622    0.4699    1.3614 O   0  0  0  0  0  0  0  0  0  0  0  0\\n   -1.1399    0.3192   -0.5270 C   0  0  0  0  0  0  0  0  0  0  0  0\\n   -2.2396    0.6708    0.2511 O   0  0  0  0  0  0  0  0  0  0  0  0\\n    2.1753    0.9367   -0.2546 H   0  0  0  0  0  0  0  0  0  0  0  0\\n    1.8633   -1.1200    0.3309 H   0  0  0  0  0  0  0  0  0  0  0  0\\n    0.9902   -1.5139   -1.2010 H   0  0  0  0  0  0  0  0  0  0  0  0\\n   -0.5859   -1.3077    0.7613 H   0  0  0  0  0  0  0  0  0  0  0  0\\n    0.4180   -0.0990    2.1516 H   0  0  0  0  0  0  0  0  0  0  0  0\\n   -1.5145   -0.4097   -1.3007 H   0  0  0  0  0  0  0  0  0  0  0  0\\n   -0.7045    1.1549   -1.0845 H   0  0  0  0  0  0  0  0  0  0  0  0\\n   -2.2016    1.6225    0.5436 H   0  0  0  0  0  0  0  0  0  0  0  0\\n  1  2  1  0\\n  2  3  1  0\\n  3  4  1  0\\n  3  5  1  0\\n  5  6  1  0\\n  1  7  1  0\\n  2  8  1  0\\n  2  9  1  0\\n  3 10  1  0\\n  4 11  1  0\\n  5 12  1  0\\n  5 13  1  0\\n  6 14  1  0\\nM  END\\n\",\"sdf\");\n",
       "\tviewer_16959028382666483.setStyle({\"stick\": {}});\n",
       "\tviewer_16959028382666483.setBackgroundColor(\"0xeeeeee\");\n",
       "\tviewer_16959028382666483.zoomTo();\n",
       "viewer_16959028382666483.render();\n",
       "});\n",
       "</script>"
      ]
     },
     "metadata": {},
     "output_type": "display_data"
    }
   ],
   "source": [
    "#do the conformers look structurally sensible\n",
    "\n",
    "for id in range(rdmol.GetNumConformers()):\n",
    "    IPythonConsole.drawMol3D(rdmol,confId=id)\n"
   ]
  },
  {
   "cell_type": "code",
   "execution_count": 11,
   "metadata": {},
   "outputs": [
    {
     "data": {
      "text/plain": [
       "0"
      ]
     },
     "execution_count": 11,
     "metadata": {},
     "output_type": "execute_result"
    }
   ],
   "source": [
    "optimize_MMFF"
   ]
  },
  {
   "cell_type": "code",
   "execution_count": 12,
   "metadata": {},
   "outputs": [],
   "source": [
    "#now create a series of xyz files so we can run the conformers with ASE, first convert our conformers to xyz format and then write to file\n",
    "\n",
    "from openff.units import unit\n",
    "\n",
    "cwd = os.getcwd()\n",
    "\n",
    "conformers = []\n",
    "\n",
    "\n",
    "\n",
    "for confs in range(rdmol.GetNumConformers()):\n",
    "    conformer = np.zeros((rdmol.GetConformer(confs).GetNumAtoms(), 3))\n",
    "    for atom_index, coordinates in enumerate(rdmol.GetConformer(confs).GetPositions()):\n",
    "        conformer[atom_index, :] = coordinates\n",
    "    conformers.append(conformer * unit.angstrom)\n",
    "\n",
    "\n",
    "for number ,conformer in enumerate(conformers):\n",
    "    atoms = [\n",
    "            {\n",
    "                \"element\": SYMBOLS[atom.atomic_number],\n",
    "                \"x\": conformer[index, 0],\n",
    "                \"y\": conformer[index, 1],\n",
    "                \"z\": conformer[index, 2],\n",
    "            }\n",
    "            for index, atom in enumerate(molecule.atoms)\n",
    "        ]\n",
    "    xyz = f'{molecule.n_atoms}\\n{molecule.to_smiles()}\\n'\n",
    "    for row in atoms:\n",
    "        xyz += f\"{row['element']}\\t{np.around(row['x'].magnitude,decimals=6)}\\t{np.around(row['y'].magnitude,decimals=6)}\\t{np.around(row['z'].magnitude, decimals=6)}\\n\"\n",
    "    try:\n",
    "        f = open(cwd+f\"/conformer_{number}.xyz\", 'x')\n",
    "        f.write(xyz)\n",
    "        f.close()\n",
    "    except FileExistsError:\n",
    "        continue"
   ]
  },
  {
   "cell_type": "code",
   "execution_count": 13,
   "metadata": {},
   "outputs": [
    {
     "name": "stderr",
     "output_type": "stream",
     "text": [
      "/mnt/nfs/home/nca121/mambaforge/envs/openff/lib/python3.11/site-packages/numpy/core/getlimits.py:549: UserWarning: The value of the smallest subnormal for <class 'numpy.float64'> type is zero.\n",
      "  setattr(self, word, getattr(machar, word).flat[0])\n",
      "/mnt/nfs/home/nca121/mambaforge/envs/openff/lib/python3.11/site-packages/numpy/core/getlimits.py:89: UserWarning: The value of the smallest subnormal for <class 'numpy.float64'> type is zero.\n",
      "  return self._float_to_str(self.smallest_subnormal)\n",
      "/mnt/nfs/home/nca121/mambaforge/envs/openff/lib/python3.11/site-packages/numpy/core/getlimits.py:549: UserWarning: The value of the smallest subnormal for <class 'numpy.float32'> type is zero.\n",
      "  setattr(self, word, getattr(machar, word).flat[0])\n",
      "/mnt/nfs/home/nca121/mambaforge/envs/openff/lib/python3.11/site-packages/numpy/core/getlimits.py:89: UserWarning: The value of the smallest subnormal for <class 'numpy.float32'> type is zero.\n",
      "  return self._float_to_str(self.smallest_subnormal)\n"
     ]
    }
   ],
   "source": [
    "from ase.calculators.gaussian import Gaussian, GaussianOptimizer\n",
    "import ase.io\n",
    "from ase.visualize import view\n",
    "!module load gaussian/09\n",
    "\n",
    "\n"
   ]
  },
  {
   "cell_type": "code",
   "execution_count": 14,
   "metadata": {},
   "outputs": [],
   "source": [
    "Gaussian.command = '/mnt/storage/apps/eb/software/gaussian/09/g09 < PREFIX.com > PREFIX.log'"
   ]
  },
  {
   "cell_type": "code",
   "execution_count": 15,
   "metadata": {},
   "outputs": [],
   "source": [
    "test_atoms = ase.io.read('conformer_0.xyz')"
   ]
  },
  {
   "cell_type": "code",
   "execution_count": 16,
   "metadata": {},
   "outputs": [
    {
     "data": {
      "text/plain": [
       "<Popen: returncode: None args: ['/mnt/nfs/home/nca121/mambaforge/envs/openff...>"
      ]
     },
     "execution_count": 16,
     "metadata": {},
     "output_type": "execute_result"
    }
   ],
   "source": [
    "view(test_atoms)"
   ]
  },
  {
   "cell_type": "code",
   "execution_count": 17,
   "metadata": {},
   "outputs": [
    {
     "name": "stderr",
     "output_type": "stream",
     "text": [
      "No executable for file l1.exe.\n",
      "\n",
      "Search path GAUSS_EXEDIR is \"\"\n",
      ": No such file or directory\n",
      "/bin/sh: line 1: 29642 Segmentation fault      /mnt/storage/apps/eb/software/gaussian/09/g09 < conformer_0_opt.com > conformer_0_opt.log\n"
     ]
    },
    {
     "ename": "CalculationFailed",
     "evalue": "Calculator \"gaussian\" failed with command \"/mnt/storage/apps/eb/software/gaussian/09/g09 < conformer_0_opt.com > conformer_0_opt.log\" failed in /mnt/storage/nobackup/nca121/test_jobs/QM_ESP_Psi4/QM_ESP_Psi4 with error code 139",
     "output_type": "error",
     "traceback": [
      "\u001b[0;31m---------------------------------------------------------------------------\u001b[0m",
      "\u001b[0;31mCalculationFailed\u001b[0m                         Traceback (most recent call last)",
      "Cell \u001b[0;32mIn[17], line 7\u001b[0m\n\u001b[1;32m      1\u001b[0m calc_opt \u001b[39m=\u001b[39m Gaussian(label \u001b[39m=\u001b[39m \u001b[39m'\u001b[39m\u001b[39mconformer_0_opt\u001b[39m\u001b[39m'\u001b[39m,\n\u001b[1;32m      2\u001b[0m                     method \u001b[39m=\u001b[39m \u001b[39m'\u001b[39m\u001b[39mhf\u001b[39m\u001b[39m'\u001b[39m,\n\u001b[1;32m      3\u001b[0m                     basis \u001b[39m=\u001b[39m \u001b[39m'\u001b[39m\u001b[39m6-31G*\u001b[39m\u001b[39m'\u001b[39m,\n\u001b[1;32m      4\u001b[0m                     scf\u001b[39m=\u001b[39m\u001b[39m'\u001b[39m\u001b[39mqc\u001b[39m\u001b[39m'\u001b[39m\n\u001b[1;32m      5\u001b[0m                     )\n\u001b[1;32m      6\u001b[0m opt \u001b[39m=\u001b[39m GaussianOptimizer(test_atoms, calc_opt)\n\u001b[0;32m----> 7\u001b[0m opt\u001b[39m.\u001b[39;49mrun(fmax\u001b[39m=\u001b[39;49m\u001b[39m'\u001b[39;49m\u001b[39mtight\u001b[39;49m\u001b[39m'\u001b[39;49m, steps\u001b[39m=\u001b[39;49m\u001b[39m100\u001b[39;49m)\n",
      "File \u001b[0;32m~/mambaforge/envs/openff/lib/python3.11/site-packages/ase/calculators/gaussian.py:63\u001b[0m, in \u001b[0;36mGaussianDynamics.run\u001b[0;34m(self, **kwargs)\u001b[0m\n\u001b[1;32m     60\u001b[0m \u001b[39mself\u001b[39m\u001b[39m.\u001b[39matoms\u001b[39m.\u001b[39mcalc \u001b[39m=\u001b[39m \u001b[39mself\u001b[39m\u001b[39m.\u001b[39mcalc\n\u001b[1;32m     62\u001b[0m \u001b[39mtry\u001b[39;00m:\n\u001b[0;32m---> 63\u001b[0m     \u001b[39mself\u001b[39;49m\u001b[39m.\u001b[39;49matoms\u001b[39m.\u001b[39;49mget_potential_energy()\n\u001b[1;32m     64\u001b[0m \u001b[39mexcept\u001b[39;00m \u001b[39mOSError\u001b[39;00m:\n\u001b[1;32m     65\u001b[0m     converged \u001b[39m=\u001b[39m \u001b[39mFalse\u001b[39;00m\n",
      "File \u001b[0;32m~/mambaforge/envs/openff/lib/python3.11/site-packages/ase/atoms.py:731\u001b[0m, in \u001b[0;36mAtoms.get_potential_energy\u001b[0;34m(self, force_consistent, apply_constraint)\u001b[0m\n\u001b[1;32m    728\u001b[0m     energy \u001b[39m=\u001b[39m \u001b[39mself\u001b[39m\u001b[39m.\u001b[39m_calc\u001b[39m.\u001b[39mget_potential_energy(\n\u001b[1;32m    729\u001b[0m         \u001b[39mself\u001b[39m, force_consistent\u001b[39m=\u001b[39mforce_consistent)\n\u001b[1;32m    730\u001b[0m \u001b[39melse\u001b[39;00m:\n\u001b[0;32m--> 731\u001b[0m     energy \u001b[39m=\u001b[39m \u001b[39mself\u001b[39;49m\u001b[39m.\u001b[39;49m_calc\u001b[39m.\u001b[39;49mget_potential_energy(\u001b[39mself\u001b[39;49m)\n\u001b[1;32m    732\u001b[0m \u001b[39mif\u001b[39;00m apply_constraint:\n\u001b[1;32m    733\u001b[0m     \u001b[39mfor\u001b[39;00m constraint \u001b[39min\u001b[39;00m \u001b[39mself\u001b[39m\u001b[39m.\u001b[39mconstraints:\n",
      "File \u001b[0;32m~/mambaforge/envs/openff/lib/python3.11/site-packages/ase/calculators/calculator.py:709\u001b[0m, in \u001b[0;36mCalculator.get_potential_energy\u001b[0;34m(self, atoms, force_consistent)\u001b[0m\n\u001b[1;32m    708\u001b[0m \u001b[39mdef\u001b[39;00m \u001b[39mget_potential_energy\u001b[39m(\u001b[39mself\u001b[39m, atoms\u001b[39m=\u001b[39m\u001b[39mNone\u001b[39;00m, force_consistent\u001b[39m=\u001b[39m\u001b[39mFalse\u001b[39;00m):\n\u001b[0;32m--> 709\u001b[0m     energy \u001b[39m=\u001b[39m \u001b[39mself\u001b[39;49m\u001b[39m.\u001b[39;49mget_property(\u001b[39m'\u001b[39;49m\u001b[39menergy\u001b[39;49m\u001b[39m'\u001b[39;49m, atoms)\n\u001b[1;32m    710\u001b[0m     \u001b[39mif\u001b[39;00m force_consistent:\n\u001b[1;32m    711\u001b[0m         \u001b[39mif\u001b[39;00m \u001b[39m'\u001b[39m\u001b[39mfree_energy\u001b[39m\u001b[39m'\u001b[39m \u001b[39mnot\u001b[39;00m \u001b[39min\u001b[39;00m \u001b[39mself\u001b[39m\u001b[39m.\u001b[39mresults:\n",
      "File \u001b[0;32m~/mambaforge/envs/openff/lib/python3.11/site-packages/ase/calculators/calculator.py:737\u001b[0m, in \u001b[0;36mCalculator.get_property\u001b[0;34m(self, name, atoms, allow_calculation)\u001b[0m\n\u001b[1;32m    735\u001b[0m     \u001b[39mif\u001b[39;00m \u001b[39mnot\u001b[39;00m allow_calculation:\n\u001b[1;32m    736\u001b[0m         \u001b[39mreturn\u001b[39;00m \u001b[39mNone\u001b[39;00m\n\u001b[0;32m--> 737\u001b[0m     \u001b[39mself\u001b[39;49m\u001b[39m.\u001b[39;49mcalculate(atoms, [name], system_changes)\n\u001b[1;32m    739\u001b[0m \u001b[39mif\u001b[39;00m name \u001b[39mnot\u001b[39;00m \u001b[39min\u001b[39;00m \u001b[39mself\u001b[39m\u001b[39m.\u001b[39mresults:\n\u001b[1;32m    740\u001b[0m     \u001b[39m# For some reason the calculator was not able to do what we want,\u001b[39;00m\n\u001b[1;32m    741\u001b[0m     \u001b[39m# and that is OK.\u001b[39;00m\n\u001b[1;32m    742\u001b[0m     \u001b[39mraise\u001b[39;00m PropertyNotImplementedError(\u001b[39m'\u001b[39m\u001b[39m{}\u001b[39;00m\u001b[39m not present in this \u001b[39m\u001b[39m'\u001b[39m\n\u001b[1;32m    743\u001b[0m                                       \u001b[39m'\u001b[39m\u001b[39mcalculation\u001b[39m\u001b[39m'\u001b[39m\u001b[39m.\u001b[39mformat(name))\n",
      "File \u001b[0;32m~/mambaforge/envs/openff/lib/python3.11/site-packages/ase/calculators/gaussian.py:116\u001b[0m, in \u001b[0;36mGaussian.calculate\u001b[0;34m(self, *args, **kwargs)\u001b[0m\n\u001b[1;32m    112\u001b[0m     \u001b[39melse\u001b[39;00m:\n\u001b[1;32m    113\u001b[0m         \u001b[39mraise\u001b[39;00m \u001b[39mEnvironmentError\u001b[39;00m(\u001b[39m'\u001b[39m\u001b[39mMissing Gaussian executable \u001b[39m\u001b[39m{}\u001b[39;00m\u001b[39m'\u001b[39m\n\u001b[1;32m    114\u001b[0m                                \u001b[39m.\u001b[39mformat(gaussians))\n\u001b[0;32m--> 116\u001b[0m FileIOCalculator\u001b[39m.\u001b[39;49mcalculate(\u001b[39mself\u001b[39;49m, \u001b[39m*\u001b[39;49margs, \u001b[39m*\u001b[39;49m\u001b[39m*\u001b[39;49mkwargs)\n",
      "File \u001b[0;32m~/mambaforge/envs/openff/lib/python3.11/site-packages/ase/calculators/calculator.py:938\u001b[0m, in \u001b[0;36mFileIOCalculator.calculate\u001b[0;34m(self, atoms, properties, system_changes)\u001b[0m\n\u001b[1;32m    934\u001b[0m     path \u001b[39m=\u001b[39m os\u001b[39m.\u001b[39mpath\u001b[39m.\u001b[39mabspath(\u001b[39mself\u001b[39m\u001b[39m.\u001b[39mdirectory)\n\u001b[1;32m    935\u001b[0m     msg \u001b[39m=\u001b[39m (\u001b[39m'\u001b[39m\u001b[39mCalculator \u001b[39m\u001b[39m\"\u001b[39m\u001b[39m{}\u001b[39;00m\u001b[39m\"\u001b[39m\u001b[39m failed with command \u001b[39m\u001b[39m\"\u001b[39m\u001b[39m{}\u001b[39;00m\u001b[39m\"\u001b[39m\u001b[39m failed in \u001b[39m\u001b[39m'\u001b[39m\n\u001b[1;32m    936\u001b[0m            \u001b[39m'\u001b[39m\u001b[39m{}\u001b[39;00m\u001b[39m with error code \u001b[39m\u001b[39m{}\u001b[39;00m\u001b[39m'\u001b[39m\u001b[39m.\u001b[39mformat(\u001b[39mself\u001b[39m\u001b[39m.\u001b[39mname, command,\n\u001b[1;32m    937\u001b[0m                                           path, errorcode))\n\u001b[0;32m--> 938\u001b[0m     \u001b[39mraise\u001b[39;00m CalculationFailed(msg)\n\u001b[1;32m    940\u001b[0m \u001b[39mself\u001b[39m\u001b[39m.\u001b[39mread_results()\n",
      "\u001b[0;31mCalculationFailed\u001b[0m: Calculator \"gaussian\" failed with command \"/mnt/storage/apps/eb/software/gaussian/09/g09 < conformer_0_opt.com > conformer_0_opt.log\" failed in /mnt/storage/nobackup/nca121/test_jobs/QM_ESP_Psi4/QM_ESP_Psi4 with error code 139"
     ]
    }
   ],
   "source": [
    "calc_opt = Gaussian(label = 'conformer_0_opt',\n",
    "                    method = 'hf',\n",
    "                    basis = '6-31G*',\n",
    "                    scf='qc'\n",
    "                    )\n",
    "opt = GaussianOptimizer(test_atoms, calc_opt)\n",
    "opt.run(fmax='tight', steps=100)\n",
    "\n"
   ]
  },
  {
   "cell_type": "code",
   "execution_count": null,
   "metadata": {},
   "outputs": [],
   "source": [
    "from openff.recharge.utilities.molecule import smiles_to_molecule\n",
    "from openff.recharge.conformers import ConformerGenerator, ConformerSettings\n",
    "from openff.units.elements import SYMBOLS\n",
    "import numpy as np\n",
    "from openff.units import unit\n"
   ]
  },
  {
   "cell_type": "code",
   "execution_count": null,
   "metadata": {},
   "outputs": [],
   "source": []
  },
  {
   "cell_type": "code",
   "execution_count": null,
   "metadata": {},
   "outputs": [],
   "source": []
  },
  {
   "cell_type": "code",
   "execution_count": null,
   "metadata": {},
   "outputs": [],
   "source": [
    "molecule = smiles_to_molecule(\"OCC(O)CO\")\n",
    "conformers = ConformerGenerator.generate(\n",
    "    molecule, ConformerSettings(max_conformers=10)\n",
    ")"
   ]
  },
  {
   "cell_type": "code",
   "execution_count": null,
   "metadata": {},
   "outputs": [],
   "source": []
  },
  {
   "cell_type": "code",
   "execution_count": null,
   "metadata": {},
   "outputs": [],
   "source": [
    "def conf_to_xyz_string(conformer, molecule):\n",
    "    atoms = [\n",
    "                    {\n",
    "                        \"element\": SYMBOLS[atom.atomic_number],\n",
    "                        \"x\": conformer[index, 0],\n",
    "                        \"y\": conformer[index, 1],\n",
    "                        \"z\": conformer[index, 2],\n",
    "                    }\n",
    "                    for index, atom in enumerate(molecule.atoms)\n",
    "                ]\n",
    "    xyz = f'{molecule.n_atoms}\\n{molecule.to_smiles()}\\n'\n",
    "    for row in atoms:\n",
    "        xyz += f\"{row['element']}\\t{np.around(row['x'].magnitude,decimals=6)}\\t{np.around(row['y'].magnitude,decimals=6)}\\t{np.around(row['z'].magnitude, decimals=6)}\\n\"\n",
    "    return xyz"
   ]
  },
  {
   "cell_type": "code",
   "execution_count": null,
   "metadata": {},
   "outputs": [],
   "source": []
  },
  {
   "cell_type": "code",
   "execution_count": null,
   "metadata": {},
   "outputs": [
    {
     "data": {
      "text/html": [
       "<table><tbody><tr><th>Magnitude</th><td style='text-align:left;'><pre>[[-0.3611847460269928 -0.008062569424510002 0.021483348682522774]<br> [0.9523459672927856 0.5384629368782043 -0.032555222511291504]<br> [1.1439802646636963 1.233094573020935 -1.3743836879730225]<br> [2.4670777320861816 1.7732906341552734 -1.4064496755599976]<br> [0.9855600595474243 0.2572946548461914 -2.534839153289795]<br> [1.1710933446884155 0.9411581158638 -3.7698163986206055]<br> [-0.45401597023010254 -0.4434690475463867 0.8860717415809631]<br> [1.0573564767837524 1.2441487312316895 0.7981725335121155]<br> [1.6660577058792114 -0.28194597363471985 0.09198283404111862]<br> [0.4551912844181061 2.0798325538635254 -1.4719767570495605]<br> [2.5237202644348145 2.3979244232177734 -0.6684095859527588]<br> [-0.009874296374619007 -0.19747895002365112 -2.545755624771118]<br> [1.7366387844085693 -0.5375308394432068 -2.487229347229004]<br> [1.0608800649642944 0.2808915376663208 -4.472022533416748]]</pre></td></tr><tr><th>Units</th><td style='text-align:left;'>angstrom</td></tr></tbody></table>"
      ],
      "text/latex": [
       "$\\begin{pmatrix}-0.3611847460269928 & -0.008062569424510002 & 0.021483348682522774\\\\ \n",
       "0.9523459672927856 & 0.5384629368782043 & -0.032555222511291504\\\\ \n",
       "1.1439802646636963 & 1.233094573020935 & -1.3743836879730225\\\\ \n",
       "2.4670777320861816 & 1.7732906341552734 & -1.4064496755599976\\\\ \n",
       "0.9855600595474243 & 0.2572946548461914 & -2.534839153289795\\\\ \n",
       "1.1710933446884155 & 0.9411581158638 & -3.7698163986206055\\\\ \n",
       "-0.45401597023010254 & -0.4434690475463867 & 0.8860717415809631\\\\ \n",
       "1.0573564767837524 & 1.2441487312316895 & 0.7981725335121155\\\\ \n",
       "1.6660577058792114 & -0.28194597363471985 & 0.09198283404111862\\\\ \n",
       "0.4551912844181061 & 2.0798325538635254 & -1.4719767570495605\\\\ \n",
       "2.5237202644348145 & 2.3979244232177734 & -0.6684095859527588\\\\ \n",
       "-0.009874296374619007 & -0.19747895002365112 & -2.545755624771118\\\\ \n",
       "1.7366387844085693 & -0.5375308394432068 & -2.487229347229004\\\\ \n",
       "1.0608800649642944 & 0.2808915376663208 & -4.472022533416748\\end{pmatrix}\\ \\mathrm{angstrom}$"
      ],
      "text/plain": [
       "array([[-0.36118475, -0.00806257,  0.02148335],\n",
       "       [ 0.95234597,  0.53846294, -0.03255522],\n",
       "       [ 1.14398026,  1.23309457, -1.37438369],\n",
       "       [ 2.46707773,  1.77329063, -1.40644968],\n",
       "       [ 0.98556006,  0.25729465, -2.53483915],\n",
       "       [ 1.17109334,  0.94115812, -3.7698164 ],\n",
       "       [-0.45401597, -0.44346905,  0.88607174],\n",
       "       [ 1.05735648,  1.24414873,  0.79817253],\n",
       "       [ 1.66605771, -0.28194597,  0.09198283],\n",
       "       [ 0.45519128,  2.07983255, -1.47197676],\n",
       "       [ 2.52372026,  2.39792442, -0.66840959],\n",
       "       [-0.0098743 , -0.19747895, -2.54575562],\n",
       "       [ 1.73663878, -0.53753084, -2.48722935],\n",
       "       [ 1.06088006,  0.28089154, -4.47202253]]) <Unit('angstrom')>"
      ]
     },
     "execution_count": 9,
     "metadata": {},
     "output_type": "execute_result"
    }
   ],
   "source": [
    "conformers[0]"
   ]
  },
  {
   "cell_type": "code",
   "execution_count": null,
   "metadata": {},
   "outputs": [],
   "source": []
  },
  {
   "cell_type": "code",
   "execution_count": null,
   "metadata": {},
   "outputs": [],
   "source": [
    "xyz_conf = conf_to_xyz_string(conformers[0],molecule)"
   ]
  },
  {
   "cell_type": "code",
   "execution_count": null,
   "metadata": {},
   "outputs": [],
   "source": []
  },
  {
   "cell_type": "code",
   "execution_count": null,
   "metadata": {},
   "outputs": [
    {
     "data": {
      "text/plain": [
       "'14\\n[H]C([H])(C([H])(C([H])([H])O[H])O[H])O[H]\\nO\\t-0.361185\\t-0.008063\\t0.021483\\nC\\t0.952346\\t0.538463\\t-0.032555\\nC\\t1.14398\\t1.233095\\t-1.374384\\nO\\t2.467078\\t1.773291\\t-1.40645\\nC\\t0.98556\\t0.257295\\t-2.534839\\nO\\t1.171093\\t0.941158\\t-3.769816\\nH\\t-0.454016\\t-0.443469\\t0.886072\\nH\\t1.057356\\t1.244149\\t0.798173\\nH\\t1.666058\\t-0.281946\\t0.091983\\nH\\t0.455191\\t2.079833\\t-1.471977\\nH\\t2.52372\\t2.397924\\t-0.66841\\nH\\t-0.009874\\t-0.197479\\t-2.545756\\nH\\t1.736639\\t-0.537531\\t-2.487229\\nH\\t1.06088\\t0.280892\\t-4.472023\\n'"
      ]
     },
     "execution_count": 11,
     "metadata": {},
     "output_type": "execute_result"
    }
   ],
   "source": [
    "xyz_conf"
   ]
  },
  {
   "cell_type": "code",
   "execution_count": null,
   "metadata": {},
   "outputs": [
    {
     "data": {
      "text/plain": [
       "'14'"
      ]
     },
     "execution_count": 12,
     "metadata": {},
     "output_type": "execute_result"
    }
   ],
   "source": [
    "xyz_conf.split('\\n')[0]"
   ]
  },
  {
   "cell_type": "code",
   "execution_count": null,
   "metadata": {},
   "outputs": [],
   "source": []
  },
  {
   "cell_type": "code",
   "execution_count": null,
   "metadata": {},
   "outputs": [
    {
     "data": {
      "text/plain": [
       "['O\\t-0.361185\\t-0.008063\\t0.021483',\n",
       " 'C\\t0.952346\\t0.538463\\t-0.032555',\n",
       " 'C\\t1.14398\\t1.233095\\t-1.374384',\n",
       " 'O\\t2.467078\\t1.773291\\t-1.40645',\n",
       " 'C\\t0.98556\\t0.257295\\t-2.534839',\n",
       " 'O\\t1.171093\\t0.941158\\t-3.769816',\n",
       " 'H\\t-0.454016\\t-0.443469\\t0.886072',\n",
       " 'H\\t1.057356\\t1.244149\\t0.798173',\n",
       " 'H\\t1.666058\\t-0.281946\\t0.091983',\n",
       " 'H\\t0.455191\\t2.079833\\t-1.471977',\n",
       " 'H\\t2.52372\\t2.397924\\t-0.66841',\n",
       " 'H\\t-0.009874\\t-0.197479\\t-2.545756',\n",
       " 'H\\t1.736639\\t-0.537531\\t-2.487229',\n",
       " 'H\\t1.06088\\t0.280892\\t-4.472023',\n",
       " '']"
      ]
     },
     "execution_count": 49,
     "metadata": {},
     "output_type": "execute_result"
    }
   ],
   "source": [
    "xyz_conf.split('\\n')[2:]#.split('\\t')"
   ]
  },
  {
   "cell_type": "code",
   "execution_count": null,
   "metadata": {},
   "outputs": [
    {
     "ename": "NameError",
     "evalue": "name 'xyz_conf' is not defined",
     "output_type": "error",
     "traceback": [
      "\u001b[0;31m---------------------------------------------------------------------------\u001b[0m",
      "\u001b[0;31mNameError\u001b[0m                                 Traceback (most recent call last)",
      "Cell \u001b[0;32mIn[6], line 1\u001b[0m\n\u001b[0;32m----> 1\u001b[0m xyz_conf\u001b[39m.\u001b[39msplit(\u001b[39m'\u001b[39m\u001b[39m\\n\u001b[39;00m\u001b[39m'\u001b[39m)\n",
      "\u001b[0;31mNameError\u001b[0m: name 'xyz_conf' is not defined"
     ]
    }
   ],
   "source": [
    "xyz_conf.split('\\n')"
   ]
  },
  {
   "cell_type": "code",
   "execution_count": null,
   "metadata": {},
   "outputs": [
    {
     "data": {
      "text/plain": [
       "<map at 0x2ae3b2bd2260>"
      ]
     },
     "execution_count": 24,
     "metadata": {},
     "output_type": "execute_result"
    }
   ],
   "source": [
    "map(int,xyz_conf.split('\\n')[2:][0].split('\\t')[1:])\n"
   ]
  },
  {
   "cell_type": "code",
   "execution_count": null,
   "metadata": {},
   "outputs": [
    {
     "data": {
      "text/plain": [
       "[-0.361185, -0.008063, 0.021483]"
      ]
     },
     "execution_count": 26,
     "metadata": {},
     "output_type": "execute_result"
    }
   ],
   "source": [
    "list(map(float,xyz_conf.split('\\n')[2:][0].split('\\t')[1:]))\n"
   ]
  },
  {
   "cell_type": "code",
   "execution_count": null,
   "metadata": {},
   "outputs": [
    {
     "data": {
      "text/plain": [
       "['0.952346', '0.538463', '-0.032555']"
      ]
     },
     "execution_count": 34,
     "metadata": {},
     "output_type": "execute_result"
    }
   ],
   "source": [
    "xyz_conf.split('\\n')[2:][1].split('\\t')[1:]"
   ]
  },
  {
   "cell_type": "code",
   "execution_count": 1,
   "metadata": {},
   "outputs": [
    {
     "ename": "NameError",
     "evalue": "name 'molecule' is not defined",
     "output_type": "error",
     "traceback": [
      "\u001b[0;31m---------------------------------------------------------------------------\u001b[0m",
      "\u001b[0;31mNameError\u001b[0m                                 Traceback (most recent call last)",
      "Cell \u001b[0;32mIn[1], line 1\u001b[0m\n\u001b[0;32m----> 1\u001b[0m molecule\u001b[39m.\u001b[39mn_conformers\n",
      "\u001b[0;31mNameError\u001b[0m: name 'molecule' is not defined"
     ]
    }
   ],
   "source": [
    "molecule.n_conformers"
   ]
  },
  {
   "cell_type": "code",
   "execution_count": null,
   "metadata": {},
   "outputs": [],
   "source": []
  },
  {
   "cell_type": "code",
   "execution_count": null,
   "metadata": {},
   "outputs": [],
   "source": []
  },
  {
   "cell_type": "code",
   "execution_count": null,
   "metadata": {},
   "outputs": [],
   "source": []
  },
  {
   "cell_type": "code",
   "execution_count": null,
   "metadata": {},
   "outputs": [],
   "source": []
  },
  {
   "cell_type": "code",
   "execution_count": null,
   "metadata": {},
   "outputs": [],
   "source": []
  },
  {
   "cell_type": "code",
   "execution_count": null,
   "metadata": {},
   "outputs": [],
   "source": []
  },
  {
   "cell_type": "code",
   "execution_count": null,
   "metadata": {},
   "outputs": [],
   "source": []
  },
  {
   "cell_type": "code",
   "execution_count": null,
   "metadata": {},
   "outputs": [],
   "source": []
  },
  {
   "cell_type": "code",
   "execution_count": null,
   "metadata": {},
   "outputs": [],
   "source": []
  },
  {
   "cell_type": "code",
   "execution_count": null,
   "metadata": {},
   "outputs": [],
   "source": []
  },
  {
   "cell_type": "code",
   "execution_count": null,
   "metadata": {},
   "outputs": [
    {
     "ename": "NameError",
     "evalue": "name 'rdmol' is not defined",
     "output_type": "error",
     "traceback": [
      "\u001b[0;31m---------------------------------------------------------------------------\u001b[0m",
      "\u001b[0;31mNameError\u001b[0m                                 Traceback (most recent call last)",
      "Cell \u001b[0;32mIn[4], line 4\u001b[0m\n\u001b[1;32m      1\u001b[0m \u001b[39mfrom\u001b[39;00m \u001b[39mopenff\u001b[39;00m\u001b[39m.\u001b[39;00m\u001b[39munits\u001b[39;00m \u001b[39mimport\u001b[39;00m unit\n\u001b[1;32m      3\u001b[0m conformer \u001b[39m=\u001b[39m np\u001b[39m.\u001b[39mzeros(\u001b[39m3\u001b[39m)\n\u001b[0;32m----> 4\u001b[0m \u001b[39mfor\u001b[39;00m atom_index, coordinates \u001b[39min\u001b[39;00m \u001b[39menumerate\u001b[39m(rdmol\u001b[39m.\u001b[39mGetConformer(confs)\u001b[39m.\u001b[39mGetPositions()):\n\u001b[1;32m      5\u001b[0m     conformer[atom_index, :] \u001b[39m=\u001b[39m coordinates\n\u001b[1;32m      6\u001b[0m conformers\u001b[39m.\u001b[39mappend(conformer \u001b[39m*\u001b[39m unit\u001b[39m.\u001b[39mangstrom)\n",
      "\u001b[0;31mNameError\u001b[0m: name 'rdmol' is not defined"
     ]
    }
   ],
   "source": [
    "from openff.units import unit\n",
    "\n",
    "conformer = np.zeros(3)\n",
    "for atom_index, coordinates in enumerate(rdmol.GetConformer(confs).GetPositions()):\n",
    "    conformer[atom_index, :] = coordinates\n",
    "conformers.append(conformer * unit.angstrom)"
   ]
  },
  {
   "cell_type": "code",
   "execution_count": null,
   "metadata": {},
   "outputs": [],
   "source": [
    "conformer = np.zeros(shape=(int(xyz_conf.split('\\n')[0]),3))"
   ]
  },
  {
   "cell_type": "code",
   "execution_count": null,
   "metadata": {},
   "outputs": [
    {
     "data": {
      "text/plain": [
       "'14\\n[H]C([H])(C([H])(C([H])([H])O[H])O[H])O[H]\\nO\\t-0.361185\\t-0.008063\\t0.021483\\nC\\t0.952346\\t0.538463\\t-0.032555\\nC\\t1.14398\\t1.233095\\t-1.374384\\nO\\t2.467078\\t1.773291\\t-1.40645\\nC\\t0.98556\\t0.257295\\t-2.534839\\nO\\t1.171093\\t0.941158\\t-3.769816\\nH\\t-0.454016\\t-0.443469\\t0.886072\\nH\\t1.057356\\t1.244149\\t0.798173\\nH\\t1.666058\\t-0.281946\\t0.091983\\nH\\t0.455191\\t2.079833\\t-1.471977\\nH\\t2.52372\\t2.397924\\t-0.66841\\nH\\t-0.009874\\t-0.197479\\t-2.545756\\nH\\t1.736639\\t-0.537531\\t-2.487229\\nH\\t1.06088\\t0.280892\\t-4.472023\\n'"
      ]
     },
     "execution_count": 30,
     "metadata": {},
     "output_type": "execute_result"
    }
   ],
   "source": [
    "xyz_conf"
   ]
  },
  {
   "cell_type": "code",
   "execution_count": null,
   "metadata": {},
   "outputs": [],
   "source": []
  },
  {
   "cell_type": "code",
   "execution_count": null,
   "metadata": {},
   "outputs": [
    {
     "data": {
      "text/plain": [
       "array([[0., 0., 0.],\n",
       "       [0., 0., 0.],\n",
       "       [0., 0., 0.],\n",
       "       [0., 0., 0.],\n",
       "       [0., 0., 0.],\n",
       "       [0., 0., 0.],\n",
       "       [0., 0., 0.],\n",
       "       [0., 0., 0.],\n",
       "       [0., 0., 0.],\n",
       "       [0., 0., 0.],\n",
       "       [0., 0., 0.],\n",
       "       [0., 0., 0.],\n",
       "       [0., 0., 0.],\n",
       "       [0., 0., 0.]])"
      ]
     },
     "execution_count": 17,
     "metadata": {},
     "output_type": "execute_result"
    }
   ],
   "source": [
    "conformer"
   ]
  },
  {
   "cell_type": "code",
   "execution_count": null,
   "metadata": {},
   "outputs": [
    {
     "name": "stdout",
     "output_type": "stream",
     "text": [
      "0\n"
     ]
    },
    {
     "ename": "ValueError",
     "evalue": "could not convert string to float: 'O'",
     "output_type": "error",
     "traceback": [
      "\u001b[0;31m---------------------------------------------------------------------------\u001b[0m",
      "\u001b[0;31mValueError\u001b[0m                                Traceback (most recent call last)",
      "Cell \u001b[0;32mIn[36], line 3\u001b[0m\n\u001b[1;32m      1\u001b[0m \u001b[39mfor\u001b[39;00m row \u001b[39min\u001b[39;00m \u001b[39mrange\u001b[39m(\u001b[39mint\u001b[39m(xyz_conf\u001b[39m.\u001b[39msplit(\u001b[39m'\u001b[39m\u001b[39m\\n\u001b[39;00m\u001b[39m'\u001b[39m)[\u001b[39m0\u001b[39m])\u001b[39m+\u001b[39m\u001b[39m1\u001b[39m):\n\u001b[1;32m      2\u001b[0m     \u001b[39mprint\u001b[39m(row)\n\u001b[0;32m----> 3\u001b[0m     conformer[row, :] \u001b[39m=\u001b[39m \u001b[39mlist\u001b[39;49m(\u001b[39mmap\u001b[39;49m(\u001b[39mfloat\u001b[39;49m,xyz_conf\u001b[39m.\u001b[39;49msplit(\u001b[39m'\u001b[39;49m\u001b[39m\\n\u001b[39;49;00m\u001b[39m'\u001b[39;49m)[\u001b[39m2\u001b[39;49m:][row]\u001b[39m.\u001b[39;49msplit(\u001b[39m'\u001b[39;49m\u001b[39m\\t\u001b[39;49;00m\u001b[39m'\u001b[39;49m)[:\u001b[39m1\u001b[39;49m]))\n",
      "\u001b[0;31mValueError\u001b[0m: could not convert string to float: 'O'"
     ]
    }
   ],
   "source": [
    "for row in range(int(xyz_conf.split('\\n')[0])+1):\n",
    "    print(row)\n",
    "    conformer[row, :] = list(map(float,xyz_conf.split('\\n')[2:][row].split('\\t')[:1]))"
   ]
  },
  {
   "cell_type": "code",
   "execution_count": 7,
   "metadata": {},
   "outputs": [],
   "source": [
    "from openff.units import unit\n",
    "\n",
    "cwd = os.getcwd()\n",
    "\n",
    "conformers = []\n",
    "\n",
    "molecule = smiles_to_molecule(\"OCC(O)CO\")\n",
    "rdmol = molecule.to_rdkit()\n",
    "AllChem.EmbedMultipleConfs(rdmol, numConfs=10, randomSeed=42)\n",
    "\n",
    "for confs in range(rdmol.GetNumConformers()):\n",
    "    \n",
    "    conformer = np.zeros((rdmol.GetConformer(confs).GetNumAtoms(), 3))\n",
    "    for atom_index, coordinates in enumerate(rdmol.GetConformer(confs).GetPositions()):\n",
    "        conformer[atom_index, :] = coordinates\n",
    "    conformers.append(conformer * unit.angstrom)\n"
   ]
  },
  {
   "cell_type": "code",
   "execution_count": 8,
   "metadata": {},
   "outputs": [
    {
     "data": {
      "text/plain": [
       "[1, 2, 3, 4, 5, 6, 7, 8, 9, 10]"
      ]
     },
     "execution_count": 8,
     "metadata": {},
     "output_type": "execute_result"
    }
   ],
   "source": [
    "[molecule.add_conformer(i) for i in conformers]"
   ]
  },
  {
   "cell_type": "code",
   "execution_count": null,
   "metadata": {},
   "outputs": [],
   "source": []
  },
  {
   "cell_type": "code",
   "execution_count": 9,
   "metadata": {},
   "outputs": [
    {
     "data": {
      "text/plain": [
       "10"
      ]
     },
     "execution_count": 9,
     "metadata": {},
     "output_type": "execute_result"
    }
   ],
   "source": [
    "molecule.n_conformers"
   ]
  },
  {
   "cell_type": "code",
   "execution_count": null,
   "metadata": {},
   "outputs": [],
   "source": []
  },
  {
   "cell_type": "code",
   "execution_count": 10,
   "metadata": {},
   "outputs": [
    {
     "data": {
      "image/png": "[encoded data removed]",
      "text/plain": [
       "<rdkit.Chem.rdchem.Mol at 0x2b5e1009e700>"
      ]
     },
     "execution_count": 10,
     "metadata": {},
     "output_type": "execute_result"
    }
   ],
   "source": [
    "rdmol =  molecule.to_rdkit()"
   ]
  },
  {
   "cell_type": "code",
   "execution_count": 12,
   "metadata": {},
   "outputs": [
    {
     "data": {
      "text/plain": [
       "10"
      ]
     },
     "execution_count": 12,
     "metadata": {},
     "output_type": "execute_result"
    }
   ],
   "source": [
    "rdmol.GetNumConformers()"
   ]
  },
  {
   "cell_type": "code",
   "execution_count": 13,
   "metadata": {},
   "outputs": [],
   "source": [
    "optimize_MMFF = MMFFOptimizeMolecule(rdmol,mmffVariant = 'MMFF94')"
   ]
  },
  {
   "cell_type": "code",
   "execution_count": null,
   "metadata": {},
   "outputs": [],
   "source": []
  },
  {
   "cell_type": "code",
   "execution_count": null,
   "metadata": {},
   "outputs": [],
   "source": []
  },
  {
   "cell_type": "code",
   "execution_count": 11,
   "metadata": {},
   "outputs": [],
   "source": [
    "optimized_conformer = Molecule.from_rdkit(rdmol)"
   ]
  },
  {
   "cell_type": "code",
   "execution_count": 12,
   "metadata": {},
   "outputs": [
    {
     "data": {
      "text/plain": [
       "10"
      ]
     },
     "execution_count": 12,
     "metadata": {},
     "output_type": "execute_result"
    }
   ],
   "source": [
    "optimized_conformer.n_conformers\n"
   ]
  },
  {
   "cell_type": "code",
   "execution_count": null,
   "metadata": {},
   "outputs": [],
   "source": []
  },
  {
   "cell_type": "code",
   "execution_count": null,
   "metadata": {},
   "outputs": [],
   "source": []
  },
  {
   "cell_type": "code",
   "execution_count": null,
   "metadata": {},
   "outputs": [],
   "source": []
  },
  {
   "cell_type": "code",
   "execution_count": null,
   "metadata": {},
   "outputs": [],
   "source": []
  },
  {
   "cell_type": "code",
   "execution_count": null,
   "metadata": {},
   "outputs": [],
   "source": []
  },
  {
   "cell_type": "code",
   "execution_count": null,
   "metadata": {},
   "outputs": [],
   "source": []
  },
  {
   "cell_type": "code",
   "execution_count": null,
   "metadata": {},
   "outputs": [],
   "source": []
  },
  {
   "cell_type": "code",
   "execution_count": null,
   "metadata": {},
   "outputs": [],
   "source": []
  },
  {
   "cell_type": "code",
   "execution_count": null,
   "metadata": {},
   "outputs": [],
   "source": []
  },
  {
   "cell_type": "code",
   "execution_count": null,
   "metadata": {},
   "outputs": [],
   "source": []
  },
  {
   "cell_type": "code",
   "execution_count": null,
   "metadata": {},
   "outputs": [],
   "source": []
  },
  {
   "cell_type": "code",
   "execution_count": null,
   "metadata": {},
   "outputs": [],
   "source": []
  },
  {
   "cell_type": "code",
   "execution_count": null,
   "metadata": {},
   "outputs": [],
   "source": []
  },
  {
   "cell_type": "code",
   "execution_count": null,
   "metadata": {},
   "outputs": [],
   "source": []
  },
  {
   "cell_type": "code",
   "execution_count": null,
   "metadata": {},
   "outputs": [],
   "source": []
  },
  {
   "cell_type": "code",
   "execution_count": null,
   "metadata": {},
   "outputs": [],
   "source": []
  },
  {
   "cell_type": "code",
   "execution_count": null,
   "metadata": {},
   "outputs": [],
   "source": []
  },
  {
   "cell_type": "code",
   "execution_count": null,
   "metadata": {},
   "outputs": [],
   "source": []
  },
  {
   "cell_type": "code",
   "execution_count": null,
   "metadata": {},
   "outputs": [],
   "source": []
  },
  {
   "cell_type": "code",
   "execution_count": null,
   "metadata": {},
   "outputs": [],
   "source": []
  },
  {
   "cell_type": "code",
   "execution_count": null,
   "metadata": {},
   "outputs": [],
   "source": []
  },
  {
   "cell_type": "code",
   "execution_count": null,
   "metadata": {},
   "outputs": [
    {
     "data": {
      "text/plain": [
       "array([0., 0., 0.])"
      ]
     },
     "execution_count": 46,
     "metadata": {},
     "output_type": "execute_result"
    }
   ],
   "source": [
    "np.zeros(3)"
   ]
  },
  {
   "cell_type": "code",
   "execution_count": null,
   "metadata": {},
   "outputs": [
    {
     "data": {
      "text/plain": [
       "array([['O', '-0.361185', '-0.008063', '0.021483'],\n",
       "       ['C', '0.952346', '0.538463', '-0.032555'],\n",
       "       ['C', '1.14398', '1.233095', '-1.374384'],\n",
       "       ['O', '2.467078', '1.773291', '-1.40645'],\n",
       "       ['C', '0.98556', '0.257295', '-2.534839'],\n",
       "       ['O', '1.171093', '0.941158', '-3.769816'],\n",
       "       ['H', '-0.454016', '-0.443469', '0.886072'],\n",
       "       ['H', '1.057356', '1.244149', '0.798173'],\n",
       "       ['H', '1.666058', '-0.281946', '0.091983'],\n",
       "       ['H', '0.455191', '2.079833', '-1.471977'],\n",
       "       ['H', '2.52372', '2.397924', '-0.66841'],\n",
       "       ['H', '-0.009874', '-0.197479', '-2.545756'],\n",
       "       ['H', '1.736639', '-0.537531', '-2.487229'],\n",
       "       ['H', '1.06088', '0.280892', '-4.472023']], dtype='<U9')"
      ]
     },
     "execution_count": 63,
     "metadata": {},
     "output_type": "execute_result"
    }
   ],
   "source": [
    "np.array([row.split('\\t') for row in xyz_conf.split('\\n')[2:]][:-1])"
   ]
  },
  {
   "cell_type": "code",
   "execution_count": null,
   "metadata": {},
   "outputs": [],
   "source": []
  },
  {
   "cell_type": "code",
   "execution_count": null,
   "metadata": {},
   "outputs": [],
   "source": []
  },
  {
   "cell_type": "code",
   "execution_count": null,
   "metadata": {},
   "outputs": [],
   "source": []
  },
  {
   "cell_type": "code",
   "execution_count": null,
   "metadata": {},
   "outputs": [],
   "source": []
  },
  {
   "cell_type": "code",
   "execution_count": null,
   "metadata": {},
   "outputs": [],
   "source": []
  },
  {
   "cell_type": "code",
   "execution_count": null,
   "metadata": {},
   "outputs": [],
   "source": []
  },
  {
   "cell_type": "code",
   "execution_count": null,
   "metadata": {},
   "outputs": [],
   "source": []
  },
  {
   "cell_type": "code",
   "execution_count": null,
   "metadata": {},
   "outputs": [],
   "source": []
  },
  {
   "cell_type": "code",
   "execution_count": null,
   "metadata": {},
   "outputs": [],
   "source": []
  },
  {
   "cell_type": "code",
   "execution_count": null,
   "metadata": {},
   "outputs": [],
   "source": []
  },
  {
   "cell_type": "code",
   "execution_count": null,
   "metadata": {},
   "outputs": [],
   "source": []
  },
  {
   "cell_type": "code",
   "execution_count": null,
   "metadata": {},
   "outputs": [],
   "source": []
  },
  {
   "cell_type": "code",
   "execution_count": null,
   "metadata": {},
   "outputs": [],
   "source": []
  },
  {
   "cell_type": "code",
   "execution_count": null,
   "metadata": {},
   "outputs": [],
   "source": []
  },
  {
   "cell_type": "code",
   "execution_count": null,
   "metadata": {},
   "outputs": [],
   "source": []
  },
  {
   "cell_type": "code",
   "execution_count": null,
   "metadata": {},
   "outputs": [],
   "source": []
  },
  {
   "cell_type": "code",
   "execution_count": null,
   "metadata": {},
   "outputs": [],
   "source": []
  },
  {
   "cell_type": "code",
   "execution_count": null,
   "metadata": {},
   "outputs": [],
   "source": []
  },
  {
   "cell_type": "code",
   "execution_count": null,
   "metadata": {},
   "outputs": [],
   "source": []
  },
  {
   "cell_type": "code",
   "execution_count": null,
   "metadata": {},
   "outputs": [],
   "source": []
  }
 ],
 "metadata": {
  "kernelspec": {
   "display_name": "openff",
   "language": "python",
   "name": "python3"
  },
  "language_info": {
   "codemirror_mode": {
    "name": "ipython",
    "version": 3
   },
   "file_extension": ".py",
   "mimetype": "text/x-python",
   "name": "python",
   "nbconvert_exporter": "python",
   "pygments_lexer": "ipython3",
   "version": "3.11.5"
  },
  "orig_nbformat": 4
 },
 "nbformat": 4,
 "nbformat_minor": 2
}
