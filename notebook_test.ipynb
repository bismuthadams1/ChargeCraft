{
 "cells": [
  {
   "cell_type": "code",
   "execution_count": 1,
   "metadata": {},
   "outputs": [],
   "source": [
    "from tqdm import tqdm\n",
    "\n",
    "from openff.recharge.conformers import ConformerGenerator, ConformerSettings\n",
    "from openff.recharge.esp import ESPSettings\n",
    "#from openff.recharge.esp.psi4 import Psi4ESPGenerator\n",
    "from QM_ESP_Psi4.openff_psi4_gen import Psi4ESPGenerator\n",
    "from openff.recharge.esp.storage import MoleculeESPRecord, MoleculeESPStore\n",
    "from openff.recharge.grids import LatticeGridSettings\n",
    "from openff.recharge.utilities.molecule import smiles_to_molecule\n",
    "from openff.units.elements import SYMBOLS\n",
    "from rdkit.Chem import AllChem\n",
    "from openff.toolkit import Molecule\n",
    "from rdkit.Chem.rdForceFieldHelpers import MMFFOptimizeMolecule\n",
    "\n",
    "import os\n",
    "import numpy as np\n",
    "import random"
   ]
  },
  {
   "cell_type": "code",
   "execution_count": 2,
   "metadata": {},
   "outputs": [
    {
     "data": {
      "text/plain": [
       "<rdkit.rdBase._vecti at 0x2ad8b75252c0>"
      ]
     },
     "execution_count": 2,
     "metadata": {},
     "output_type": "execute_result"
    }
   ],
   "source": [
    "#load our molecule to create the conformers\n",
    "\n",
    "molecule = smiles_to_molecule(\"OCC(O)CO\")\n",
    "rdmol = molecule.to_rdkit()\n",
    "AllChem.EmbedMultipleConfs(rdmol, numConfs=10, randomSeed=42)"
   ]
  },
  {
   "cell_type": "code",
   "execution_count": 3,
   "metadata": {},
   "outputs": [
    {
     "data": {
      "text/plain": [
       "0"
      ]
     },
     "execution_count": 3,
     "metadata": {},
     "output_type": "execute_result"
    }
   ],
   "source": [
    "#test the optimizer\n",
    "\n",
    "optimize_MMFF = MMFFOptimizeMolecule(rdmol,mmffVariant = 'MMFF94',confId=3) #,confId=1,mmffvariant='MMFF94'\n",
    "optimize_MMFF\n",
    "\n"
   ]
  },
  {
   "cell_type": "code",
   "execution_count": 4,
   "metadata": {},
   "outputs": [
    {
     "name": "stdout",
     "output_type": "stream",
     "text": [
      "conformer:0, optimize (0 = converge, 1 = more iterations req): 0\n",
      "conformer:1, optimize (0 = converge, 1 = more iterations req): 0\n",
      "conformer:2, optimize (0 = converge, 1 = more iterations req): 0\n",
      "conformer:3, optimize (0 = converge, 1 = more iterations req): 0\n",
      "conformer:4, optimize (0 = converge, 1 = more iterations req): 0\n",
      "conformer:5, optimize (0 = converge, 1 = more iterations req): 0\n",
      "conformer:6, optimize (0 = converge, 1 = more iterations req): 0\n",
      "conformer:7, optimize (0 = converge, 1 = more iterations req): 0\n",
      "conformer:8, optimize (0 = converge, 1 = more iterations req): 0\n",
      "conformer:9, optimize (0 = converge, 1 = more iterations req): 0\n"
     ]
    }
   ],
   "source": [
    "#test all the conformers\n",
    "\n",
    "for id in range(rdmol.GetNumConformers()):\n",
    "    optimize_MMFF = MMFFOptimizeMolecule(rdmol,mmffVariant = 'MMFF94',confId=3) #,confId=1,mmffvariant='MMFF94'\n",
    "    print(f'conformer:{id}, optimize (0 = converge, 1 = more iterations req): {optimize_MMFF}')"
   ]
  },
  {
   "cell_type": "code",
   "execution_count": 5,
   "metadata": {},
   "outputs": [
    {
     "data": {
      "text/plain": [
       "<rdkit.Chem.rdchem.Conformer at 0x2ad8b74fd5b0>"
      ]
     },
     "execution_count": 5,
     "metadata": {},
     "output_type": "execute_result"
    }
   ],
   "source": [
    "rdmol.GetConformer(1)"
   ]
  },
  {
   "cell_type": "code",
   "execution_count": 6,
   "metadata": {},
   "outputs": [],
   "source": [
    "from rdkit.Chem.Draw import IPythonConsole\n",
    "IPythonConsole.ipython_3d = True\n",
    "import py3Dmol\n"
   ]
  },
  {
   "cell_type": "code",
   "execution_count": 7,
   "metadata": {},
   "outputs": [
    {
     "data": {
      "application/3dmoljs_load.v0": "<div id=\"3dmolviewer_16964249114221003\"  style=\"position: relative; width: 400px; height: 400px\">\n        <p id=\"3dmolwarning_16964249114221003\" style=\"background-color:#ffcccc;color:black\">You appear to be running in JupyterLab (or JavaScript failed to load for some other reason).  You need to install the 3dmol extension: <br>\n        <tt>jupyter labextension install jupyterlab_3dmol</tt></p>\n        </div>\n<script>\n\nvar loadScriptAsync = function(uri){\n  return new Promise((resolve, reject) => {\n    //this is to ignore the existence of requirejs amd\n    var savedexports, savedmodule;\n    if (typeof exports !== 'undefined') savedexports = exports;\n    else exports = {}\n    if (typeof module !== 'undefined') savedmodule = module;\n    else module = {}\n\n    var tag = document.createElement('script');\n    tag.src = uri;\n    tag.async = true;\n    tag.onload = () => {\n        exports = savedexports;\n        module = savedmodule;\n        resolve();\n    };\n  var firstScriptTag = document.getElementsByTagName('script')[0];\n  firstScriptTag.parentNode.insertBefore(tag, firstScriptTag);\n});\n};\n\nif(typeof $3Dmolpromise === 'undefined') {\n$3Dmolpromise = null;\n  $3Dmolpromise = loadScriptAsync('https://cdnjs.cloudflare.com/ajax/libs/3Dmol/2.0.1/3Dmol-min.js');\n}\n\nvar viewer_16964249114221003 = null;\nvar warn = document.getElementById(\"3dmolwarning_16964249114221003\");\nif(warn) {\n    warn.parentNode.removeChild(warn);\n}\n$3Dmolpromise.then(function() {\nviewer_16964249114221003 = $3Dmol.createViewer(document.getElementById(\"3dmolviewer_16964249114221003\"),{backgroundColor:\"white\"});\nviewer_16964249114221003.zoomTo();\n\tviewer_16964249114221003.removeAllModels();\n\tviewer_16964249114221003.addModel(\"\\n     RDKit          3D\\n\\n 14 13  0  0  0  0  0  0  0  0999 V2000\\n   -1.6885   -1.1039    0.4377 O   0  0  0  0  0  0  0  0  0  0  0  0\\n   -1.2912    0.2270    0.3563 C   0  0  0  0  0  0  0  0  0  0  0  0\\n    0.0570    0.3687   -0.3171 C   0  0  0  0  0  0  0  0  0  0  0  0\\n    0.4677    1.6754   -0.4076 O   0  0  0  0  0  0  0  0  0  0  0  0\\n    1.1007   -0.4176    0.4482 C   0  0  0  0  0  0  0  0  0  0  0  0\\n    2.2898   -0.3065   -0.2817 O   0  0  0  0  0  0  0  0  0  0  0  0\\n   -1.7686   -1.5117   -0.4560 H   0  0  0  0  0  0  0  0  0  0  0  0\\n   -1.1416    0.5665    1.4230 H   0  0  0  0  0  0  0  0  0  0  0  0\\n   -2.0699    0.8176   -0.1142 H   0  0  0  0  0  0  0  0  0  0  0  0\\n   -0.0308   -0.1063   -1.3231 H   0  0  0  0  0  0  0  0  0  0  0  0\\n   -0.1949    2.2624   -0.8146 H   0  0  0  0  0  0  0  0  0  0  0  0\\n    1.2096    0.0745    1.4336 H   0  0  0  0  0  0  0  0  0  0  0  0\\n    0.7472   -1.4561    0.5223 H   0  0  0  0  0  0  0  0  0  0  0  0\\n    2.3134   -1.0898   -0.9068 H   0  0  0  0  0  0  0  0  0  0  0  0\\n  1  2  1  0\\n  2  3  1  0\\n  3  4  1  0\\n  3  5  1  0\\n  5  6  1  0\\n  1  7  1  0\\n  2  8  1  0\\n  2  9  1  0\\n  3 10  1  0\\n  4 11  1  0\\n  5 12  1  0\\n  5 13  1  0\\n  6 14  1  0\\nM  END\\n\",\"sdf\");\n\tviewer_16964249114221003.setStyle({\"stick\": {}});\n\tviewer_16964249114221003.setBackgroundColor(\"0xeeeeee\");\n\tviewer_16964249114221003.zoomTo();\nviewer_16964249114221003.render();\n});\n</script>",
      "text/html": [
       "<div id=\"3dmolviewer_16964249114221003\"  style=\"position: relative; width: 400px; height: 400px\">\n",
       "        <p id=\"3dmolwarning_16964249114221003\" style=\"background-color:#ffcccc;color:black\">You appear to be running in JupyterLab (or JavaScript failed to load for some other reason).  You need to install the 3dmol extension: <br>\n",
       "        <tt>jupyter labextension install jupyterlab_3dmol</tt></p>\n",
       "        </div>\n",
       "<script>\n",
       "\n",
       "var loadScriptAsync = function(uri){\n",
       "  return new Promise((resolve, reject) => {\n",
       "    //this is to ignore the existence of requirejs amd\n",
       "    var savedexports, savedmodule;\n",
       "    if (typeof exports !== 'undefined') savedexports = exports;\n",
       "    else exports = {}\n",
       "    if (typeof module !== 'undefined') savedmodule = module;\n",
       "    else module = {}\n",
       "\n",
       "    var tag = document.createElement('script');\n",
       "    tag.src = uri;\n",
       "    tag.async = true;\n",
       "    tag.onload = () => {\n",
       "        exports = savedexports;\n",
       "        module = savedmodule;\n",
       "        resolve();\n",
       "    };\n",
       "  var firstScriptTag = document.getElementsByTagName('script')[0];\n",
       "  firstScriptTag.parentNode.insertBefore(tag, firstScriptTag);\n",
       "});\n",
       "};\n",
       "\n",
       "if(typeof $3Dmolpromise === 'undefined') {\n",
       "$3Dmolpromise = null;\n",
       "  $3Dmolpromise = loadScriptAsync('https://cdnjs.cloudflare.com/ajax/libs/3Dmol/2.0.1/3Dmol-min.js');\n",
       "}\n",
       "\n",
       "var viewer_16964249114221003 = null;\n",
       "var warn = document.getElementById(\"3dmolwarning_16964249114221003\");\n",
       "if(warn) {\n",
       "    warn.parentNode.removeChild(warn);\n",
       "}\n",
       "$3Dmolpromise.then(function() {\n",
       "viewer_16964249114221003 = $3Dmol.createViewer(document.getElementById(\"3dmolviewer_16964249114221003\"),{backgroundColor:\"white\"});\n",
       "viewer_16964249114221003.zoomTo();\n",
       "\tviewer_16964249114221003.removeAllModels();\n",
       "\tviewer_16964249114221003.addModel(\"\\n     RDKit          3D\\n\\n 14 13  0  0  0  0  0  0  0  0999 V2000\\n   -1.6885   -1.1039    0.4377 O   0  0  0  0  0  0  0  0  0  0  0  0\\n   -1.2912    0.2270    0.3563 C   0  0  0  0  0  0  0  0  0  0  0  0\\n    0.0570    0.3687   -0.3171 C   0  0  0  0  0  0  0  0  0  0  0  0\\n    0.4677    1.6754   -0.4076 O   0  0  0  0  0  0  0  0  0  0  0  0\\n    1.1007   -0.4176    0.4482 C   0  0  0  0  0  0  0  0  0  0  0  0\\n    2.2898   -0.3065   -0.2817 O   0  0  0  0  0  0  0  0  0  0  0  0\\n   -1.7686   -1.5117   -0.4560 H   0  0  0  0  0  0  0  0  0  0  0  0\\n   -1.1416    0.5665    1.4230 H   0  0  0  0  0  0  0  0  0  0  0  0\\n   -2.0699    0.8176   -0.1142 H   0  0  0  0  0  0  0  0  0  0  0  0\\n   -0.0308   -0.1063   -1.3231 H   0  0  0  0  0  0  0  0  0  0  0  0\\n   -0.1949    2.2624   -0.8146 H   0  0  0  0  0  0  0  0  0  0  0  0\\n    1.2096    0.0745    1.4336 H   0  0  0  0  0  0  0  0  0  0  0  0\\n    0.7472   -1.4561    0.5223 H   0  0  0  0  0  0  0  0  0  0  0  0\\n    2.3134   -1.0898   -0.9068 H   0  0  0  0  0  0  0  0  0  0  0  0\\n  1  2  1  0\\n  2  3  1  0\\n  3  4  1  0\\n  3  5  1  0\\n  5  6  1  0\\n  1  7  1  0\\n  2  8  1  0\\n  2  9  1  0\\n  3 10  1  0\\n  4 11  1  0\\n  5 12  1  0\\n  5 13  1  0\\n  6 14  1  0\\nM  END\\n\",\"sdf\");\n",
       "\tviewer_16964249114221003.setStyle({\"stick\": {}});\n",
       "\tviewer_16964249114221003.setBackgroundColor(\"0xeeeeee\");\n",
       "\tviewer_16964249114221003.zoomTo();\n",
       "viewer_16964249114221003.render();\n",
       "});\n",
       "</script>"
      ]
     },
     "metadata": {},
     "output_type": "display_data"
    },
    {
     "data": {
      "application/3dmoljs_load.v0": "<div id=\"3dmolviewer_16964249114247463\"  style=\"position: relative; width: 400px; height: 400px\">\n        <p id=\"3dmolwarning_16964249114247463\" style=\"background-color:#ffcccc;color:black\">You appear to be running in JupyterLab (or JavaScript failed to load for some other reason).  You need to install the 3dmol extension: <br>\n        <tt>jupyter labextension install jupyterlab_3dmol</tt></p>\n        </div>\n<script>\n\nvar loadScriptAsync = function(uri){\n  return new Promise((resolve, reject) => {\n    //this is to ignore the existence of requirejs amd\n    var savedexports, savedmodule;\n    if (typeof exports !== 'undefined') savedexports = exports;\n    else exports = {}\n    if (typeof module !== 'undefined') savedmodule = module;\n    else module = {}\n\n    var tag = document.createElement('script');\n    tag.src = uri;\n    tag.async = true;\n    tag.onload = () => {\n        exports = savedexports;\n        module = savedmodule;\n        resolve();\n    };\n  var firstScriptTag = document.getElementsByTagName('script')[0];\n  firstScriptTag.parentNode.insertBefore(tag, firstScriptTag);\n});\n};\n\nif(typeof $3Dmolpromise === 'undefined') {\n$3Dmolpromise = null;\n  $3Dmolpromise = loadScriptAsync('https://cdnjs.cloudflare.com/ajax/libs/3Dmol/2.0.1/3Dmol-min.js');\n}\n\nvar viewer_16964249114247463 = null;\nvar warn = document.getElementById(\"3dmolwarning_16964249114247463\");\nif(warn) {\n    warn.parentNode.removeChild(warn);\n}\n$3Dmolpromise.then(function() {\nviewer_16964249114247463 = $3Dmol.createViewer(document.getElementById(\"3dmolviewer_16964249114247463\"),{backgroundColor:\"white\"});\nviewer_16964249114247463.zoomTo();\n\tviewer_16964249114247463.removeAllModels();\n\tviewer_16964249114247463.addModel(\"\\n     RDKit          3D\\n\\n 14 13  0  0  0  0  0  0  0  0999 V2000\\n    2.3730   -0.1226   -0.0030 O   0  0  0  0  0  0  0  0  0  0  0  0\\n    1.1006   -0.2125    0.5266 C   0  0  0  0  0  0  0  0  0  0  0  0\\n    0.0277    0.1038   -0.5054 C   0  0  0  0  0  0  0  0  0  0  0  0\\n    0.2862    1.4235   -0.9294 O   0  0  0  0  0  0  0  0  0  0  0  0\\n   -1.3309    0.1192    0.1301 C   0  0  0  0  0  0  0  0  0  0  0  0\\n   -1.7338   -1.1180    0.6033 O   0  0  0  0  0  0  0  0  0  0  0  0\\n    2.3926   -0.4724   -0.9193 H   0  0  0  0  0  0  0  0  0  0  0  0\\n    0.9861   -1.2436    0.9261 H   0  0  0  0  0  0  0  0  0  0  0  0\\n    1.0390    0.5042    1.3646 H   0  0  0  0  0  0  0  0  0  0  0  0\\n    0.1114   -0.5642   -1.3705 H   0  0  0  0  0  0  0  0  0  0  0  0\\n    0.0417    1.9936   -0.1414 H   0  0  0  0  0  0  0  0  0  0  0  0\\n   -1.2656    0.7933    1.0208 H   0  0  0  0  0  0  0  0  0  0  0  0\\n   -2.0693    0.5481   -0.5693 H   0  0  0  0  0  0  0  0  0  0  0  0\\n   -1.9588   -1.7525   -0.1332 H   0  0  0  0  0  0  0  0  0  0  0  0\\n  1  2  1  0\\n  2  3  1  0\\n  3  4  1  0\\n  3  5  1  0\\n  5  6  1  0\\n  1  7  1  0\\n  2  8  1  0\\n  2  9  1  0\\n  3 10  1  0\\n  4 11  1  0\\n  5 12  1  0\\n  5 13  1  0\\n  6 14  1  0\\nM  END\\n\",\"sdf\");\n\tviewer_16964249114247463.setStyle({\"stick\": {}});\n\tviewer_16964249114247463.setBackgroundColor(\"0xeeeeee\");\n\tviewer_16964249114247463.zoomTo();\nviewer_16964249114247463.render();\n});\n</script>",
      "text/html": [
       "<div id=\"3dmolviewer_16964249114247463\"  style=\"position: relative; width: 400px; height: 400px\">\n",
       "        <p id=\"3dmolwarning_16964249114247463\" style=\"background-color:#ffcccc;color:black\">You appear to be running in JupyterLab (or JavaScript failed to load for some other reason).  You need to install the 3dmol extension: <br>\n",
       "        <tt>jupyter labextension install jupyterlab_3dmol</tt></p>\n",
       "        </div>\n",
       "<script>\n",
       "\n",
       "var loadScriptAsync = function(uri){\n",
       "  return new Promise((resolve, reject) => {\n",
       "    //this is to ignore the existence of requirejs amd\n",
       "    var savedexports, savedmodule;\n",
       "    if (typeof exports !== 'undefined') savedexports = exports;\n",
       "    else exports = {}\n",
       "    if (typeof module !== 'undefined') savedmodule = module;\n",
       "    else module = {}\n",
       "\n",
       "    var tag = document.createElement('script');\n",
       "    tag.src = uri;\n",
       "    tag.async = true;\n",
       "    tag.onload = () => {\n",
       "        exports = savedexports;\n",
       "        module = savedmodule;\n",
       "        resolve();\n",
       "    };\n",
       "  var firstScriptTag = document.getElementsByTagName('script')[0];\n",
       "  firstScriptTag.parentNode.insertBefore(tag, firstScriptTag);\n",
       "});\n",
       "};\n",
       "\n",
       "if(typeof $3Dmolpromise === 'undefined') {\n",
       "$3Dmolpromise = null;\n",
       "  $3Dmolpromise = loadScriptAsync('https://cdnjs.cloudflare.com/ajax/libs/3Dmol/2.0.1/3Dmol-min.js');\n",
       "}\n",
       "\n",
       "var viewer_16964249114247463 = null;\n",
       "var warn = document.getElementById(\"3dmolwarning_16964249114247463\");\n",
       "if(warn) {\n",
       "    warn.parentNode.removeChild(warn);\n",
       "}\n",
       "$3Dmolpromise.then(function() {\n",
       "viewer_16964249114247463 = $3Dmol.createViewer(document.getElementById(\"3dmolviewer_16964249114247463\"),{backgroundColor:\"white\"});\n",
       "viewer_16964249114247463.zoomTo();\n",
       "\tviewer_16964249114247463.removeAllModels();\n",
       "\tviewer_16964249114247463.addModel(\"\\n     RDKit          3D\\n\\n 14 13  0  0  0  0  0  0  0  0999 V2000\\n    2.3730   -0.1226   -0.0030 O   0  0  0  0  0  0  0  0  0  0  0  0\\n    1.1006   -0.2125    0.5266 C   0  0  0  0  0  0  0  0  0  0  0  0\\n    0.0277    0.1038   -0.5054 C   0  0  0  0  0  0  0  0  0  0  0  0\\n    0.2862    1.4235   -0.9294 O   0  0  0  0  0  0  0  0  0  0  0  0\\n   -1.3309    0.1192    0.1301 C   0  0  0  0  0  0  0  0  0  0  0  0\\n   -1.7338   -1.1180    0.6033 O   0  0  0  0  0  0  0  0  0  0  0  0\\n    2.3926   -0.4724   -0.9193 H   0  0  0  0  0  0  0  0  0  0  0  0\\n    0.9861   -1.2436    0.9261 H   0  0  0  0  0  0  0  0  0  0  0  0\\n    1.0390    0.5042    1.3646 H   0  0  0  0  0  0  0  0  0  0  0  0\\n    0.1114   -0.5642   -1.3705 H   0  0  0  0  0  0  0  0  0  0  0  0\\n    0.0417    1.9936   -0.1414 H   0  0  0  0  0  0  0  0  0  0  0  0\\n   -1.2656    0.7933    1.0208 H   0  0  0  0  0  0  0  0  0  0  0  0\\n   -2.0693    0.5481   -0.5693 H   0  0  0  0  0  0  0  0  0  0  0  0\\n   -1.9588   -1.7525   -0.1332 H   0  0  0  0  0  0  0  0  0  0  0  0\\n  1  2  1  0\\n  2  3  1  0\\n  3  4  1  0\\n  3  5  1  0\\n  5  6  1  0\\n  1  7  1  0\\n  2  8  1  0\\n  2  9  1  0\\n  3 10  1  0\\n  4 11  1  0\\n  5 12  1  0\\n  5 13  1  0\\n  6 14  1  0\\nM  END\\n\",\"sdf\");\n",
       "\tviewer_16964249114247463.setStyle({\"stick\": {}});\n",
       "\tviewer_16964249114247463.setBackgroundColor(\"0xeeeeee\");\n",
       "\tviewer_16964249114247463.zoomTo();\n",
       "viewer_16964249114247463.render();\n",
       "});\n",
       "</script>"
      ]
     },
     "metadata": {},
     "output_type": "display_data"
    },
    {
     "data": {
      "application/3dmoljs_load.v0": "<div id=\"3dmolviewer_16964249114265063\"  style=\"position: relative; width: 400px; height: 400px\">\n        <p id=\"3dmolwarning_16964249114265063\" style=\"background-color:#ffcccc;color:black\">You appear to be running in JupyterLab (or JavaScript failed to load for some other reason).  You need to install the 3dmol extension: <br>\n        <tt>jupyter labextension install jupyterlab_3dmol</tt></p>\n        </div>\n<script>\n\nvar loadScriptAsync = function(uri){\n  return new Promise((resolve, reject) => {\n    //this is to ignore the existence of requirejs amd\n    var savedexports, savedmodule;\n    if (typeof exports !== 'undefined') savedexports = exports;\n    else exports = {}\n    if (typeof module !== 'undefined') savedmodule = module;\n    else module = {}\n\n    var tag = document.createElement('script');\n    tag.src = uri;\n    tag.async = true;\n    tag.onload = () => {\n        exports = savedexports;\n        module = savedmodule;\n        resolve();\n    };\n  var firstScriptTag = document.getElementsByTagName('script')[0];\n  firstScriptTag.parentNode.insertBefore(tag, firstScriptTag);\n});\n};\n\nif(typeof $3Dmolpromise === 'undefined') {\n$3Dmolpromise = null;\n  $3Dmolpromise = loadScriptAsync('https://cdnjs.cloudflare.com/ajax/libs/3Dmol/2.0.1/3Dmol-min.js');\n}\n\nvar viewer_16964249114265063 = null;\nvar warn = document.getElementById(\"3dmolwarning_16964249114265063\");\nif(warn) {\n    warn.parentNode.removeChild(warn);\n}\n$3Dmolpromise.then(function() {\nviewer_16964249114265063 = $3Dmol.createViewer(document.getElementById(\"3dmolviewer_16964249114265063\"),{backgroundColor:\"white\"});\nviewer_16964249114265063.zoomTo();\n\tviewer_16964249114265063.removeAllModels();\n\tviewer_16964249114265063.addModel(\"\\n     RDKit          3D\\n\\n 14 13  0  0  0  0  0  0  0  0999 V2000\\n    2.2141    0.2593    0.6192 O   0  0  0  0  0  0  0  0  0  0  0  0\\n    1.1685    0.2191   -0.2981 C   0  0  0  0  0  0  0  0  0  0  0  0\\n   -0.0880   -0.3231    0.3725 C   0  0  0  0  0  0  0  0  0  0  0  0\\n    0.0955   -1.6007    0.8645 O   0  0  0  0  0  0  0  0  0  0  0  0\\n   -1.2173   -0.2605   -0.6561 C   0  0  0  0  0  0  0  0  0  0  0  0\\n   -1.3100    1.0691   -1.0801 O   0  0  0  0  0  0  0  0  0  0  0  0\\n    2.1495    1.0927    1.1164 H   0  0  0  0  0  0  0  0  0  0  0  0\\n    1.4740   -0.3975   -1.1532 H   0  0  0  0  0  0  0  0  0  0  0  0\\n    0.9553    1.2645   -0.5996 H   0  0  0  0  0  0  0  0  0  0  0  0\\n   -0.3339    0.3419    1.2237 H   0  0  0  0  0  0  0  0  0  0  0  0\\n   -0.4307   -1.7806    1.6897 H   0  0  0  0  0  0  0  0  0  0  0  0\\n   -0.9301   -0.8481   -1.5524 H   0  0  0  0  0  0  0  0  0  0  0  0\\n   -2.1586   -0.6509   -0.2593 H   0  0  0  0  0  0  0  0  0  0  0  0\\n   -1.5881    1.6148   -0.2871 H   0  0  0  0  0  0  0  0  0  0  0  0\\n  1  2  1  0\\n  2  3  1  0\\n  3  4  1  0\\n  3  5  1  0\\n  5  6  1  0\\n  1  7  1  0\\n  2  8  1  0\\n  2  9  1  0\\n  3 10  1  0\\n  4 11  1  0\\n  5 12  1  0\\n  5 13  1  0\\n  6 14  1  0\\nM  END\\n\",\"sdf\");\n\tviewer_16964249114265063.setStyle({\"stick\": {}});\n\tviewer_16964249114265063.setBackgroundColor(\"0xeeeeee\");\n\tviewer_16964249114265063.zoomTo();\nviewer_16964249114265063.render();\n});\n</script>",
      "text/html": [
       "<div id=\"3dmolviewer_16964249114265063\"  style=\"position: relative; width: 400px; height: 400px\">\n",
       "        <p id=\"3dmolwarning_16964249114265063\" style=\"background-color:#ffcccc;color:black\">You appear to be running in JupyterLab (or JavaScript failed to load for some other reason).  You need to install the 3dmol extension: <br>\n",
       "        <tt>jupyter labextension install jupyterlab_3dmol</tt></p>\n",
       "        </div>\n",
       "<script>\n",
       "\n",
       "var loadScriptAsync = function(uri){\n",
       "  return new Promise((resolve, reject) => {\n",
       "    //this is to ignore the existence of requirejs amd\n",
       "    var savedexports, savedmodule;\n",
       "    if (typeof exports !== 'undefined') savedexports = exports;\n",
       "    else exports = {}\n",
       "    if (typeof module !== 'undefined') savedmodule = module;\n",
       "    else module = {}\n",
       "\n",
       "    var tag = document.createElement('script');\n",
       "    tag.src = uri;\n",
       "    tag.async = true;\n",
       "    tag.onload = () => {\n",
       "        exports = savedexports;\n",
       "        module = savedmodule;\n",
       "        resolve();\n",
       "    };\n",
       "  var firstScriptTag = document.getElementsByTagName('script')[0];\n",
       "  firstScriptTag.parentNode.insertBefore(tag, firstScriptTag);\n",
       "});\n",
       "};\n",
       "\n",
       "if(typeof $3Dmolpromise === 'undefined') {\n",
       "$3Dmolpromise = null;\n",
       "  $3Dmolpromise = loadScriptAsync('https://cdnjs.cloudflare.com/ajax/libs/3Dmol/2.0.1/3Dmol-min.js');\n",
       "}\n",
       "\n",
       "var viewer_16964249114265063 = null;\n",
       "var warn = document.getElementById(\"3dmolwarning_16964249114265063\");\n",
       "if(warn) {\n",
       "    warn.parentNode.removeChild(warn);\n",
       "}\n",
       "$3Dmolpromise.then(function() {\n",
       "viewer_16964249114265063 = $3Dmol.createViewer(document.getElementById(\"3dmolviewer_16964249114265063\"),{backgroundColor:\"white\"});\n",
       "viewer_16964249114265063.zoomTo();\n",
       "\tviewer_16964249114265063.removeAllModels();\n",
       "\tviewer_16964249114265063.addModel(\"\\n     RDKit          3D\\n\\n 14 13  0  0  0  0  0  0  0  0999 V2000\\n    2.2141    0.2593    0.6192 O   0  0  0  0  0  0  0  0  0  0  0  0\\n    1.1685    0.2191   -0.2981 C   0  0  0  0  0  0  0  0  0  0  0  0\\n   -0.0880   -0.3231    0.3725 C   0  0  0  0  0  0  0  0  0  0  0  0\\n    0.0955   -1.6007    0.8645 O   0  0  0  0  0  0  0  0  0  0  0  0\\n   -1.2173   -0.2605   -0.6561 C   0  0  0  0  0  0  0  0  0  0  0  0\\n   -1.3100    1.0691   -1.0801 O   0  0  0  0  0  0  0  0  0  0  0  0\\n    2.1495    1.0927    1.1164 H   0  0  0  0  0  0  0  0  0  0  0  0\\n    1.4740   -0.3975   -1.1532 H   0  0  0  0  0  0  0  0  0  0  0  0\\n    0.9553    1.2645   -0.5996 H   0  0  0  0  0  0  0  0  0  0  0  0\\n   -0.3339    0.3419    1.2237 H   0  0  0  0  0  0  0  0  0  0  0  0\\n   -0.4307   -1.7806    1.6897 H   0  0  0  0  0  0  0  0  0  0  0  0\\n   -0.9301   -0.8481   -1.5524 H   0  0  0  0  0  0  0  0  0  0  0  0\\n   -2.1586   -0.6509   -0.2593 H   0  0  0  0  0  0  0  0  0  0  0  0\\n   -1.5881    1.6148   -0.2871 H   0  0  0  0  0  0  0  0  0  0  0  0\\n  1  2  1  0\\n  2  3  1  0\\n  3  4  1  0\\n  3  5  1  0\\n  5  6  1  0\\n  1  7  1  0\\n  2  8  1  0\\n  2  9  1  0\\n  3 10  1  0\\n  4 11  1  0\\n  5 12  1  0\\n  5 13  1  0\\n  6 14  1  0\\nM  END\\n\",\"sdf\");\n",
       "\tviewer_16964249114265063.setStyle({\"stick\": {}});\n",
       "\tviewer_16964249114265063.setBackgroundColor(\"0xeeeeee\");\n",
       "\tviewer_16964249114265063.zoomTo();\n",
       "viewer_16964249114265063.render();\n",
       "});\n",
       "</script>"
      ]
     },
     "metadata": {},
     "output_type": "display_data"
    },
    {
     "data": {
      "application/3dmoljs_load.v0": "<div id=\"3dmolviewer_16964249114281952\"  style=\"position: relative; width: 400px; height: 400px\">\n        <p id=\"3dmolwarning_16964249114281952\" style=\"background-color:#ffcccc;color:black\">You appear to be running in JupyterLab (or JavaScript failed to load for some other reason).  You need to install the 3dmol extension: <br>\n        <tt>jupyter labextension install jupyterlab_3dmol</tt></p>\n        </div>\n<script>\n\nvar loadScriptAsync = function(uri){\n  return new Promise((resolve, reject) => {\n    //this is to ignore the existence of requirejs amd\n    var savedexports, savedmodule;\n    if (typeof exports !== 'undefined') savedexports = exports;\n    else exports = {}\n    if (typeof module !== 'undefined') savedmodule = module;\n    else module = {}\n\n    var tag = document.createElement('script');\n    tag.src = uri;\n    tag.async = true;\n    tag.onload = () => {\n        exports = savedexports;\n        module = savedmodule;\n        resolve();\n    };\n  var firstScriptTag = document.getElementsByTagName('script')[0];\n  firstScriptTag.parentNode.insertBefore(tag, firstScriptTag);\n});\n};\n\nif(typeof $3Dmolpromise === 'undefined') {\n$3Dmolpromise = null;\n  $3Dmolpromise = loadScriptAsync('https://cdnjs.cloudflare.com/ajax/libs/3Dmol/2.0.1/3Dmol-min.js');\n}\n\nvar viewer_16964249114281952 = null;\nvar warn = document.getElementById(\"3dmolwarning_16964249114281952\");\nif(warn) {\n    warn.parentNode.removeChild(warn);\n}\n$3Dmolpromise.then(function() {\nviewer_16964249114281952 = $3Dmol.createViewer(document.getElementById(\"3dmolviewer_16964249114281952\"),{backgroundColor:\"white\"});\nviewer_16964249114281952.zoomTo();\n\tviewer_16964249114281952.removeAllModels();\n\tviewer_16964249114281952.addModel(\"\\n     RDKit          3D\\n\\n 14 13  0  0  0  0  0  0  0  0999 V2000\\n    2.3296    0.5553   -0.6984 O   0  0  0  0  0  0  0  0  0  0  0  0\\n    1.0954   -0.1635   -0.7503 C   0  0  0  0  0  0  0  0  0  0  0  0\\n    0.3103    0.0883    0.5396 C   0  0  0  0  0  0  0  0  0  0  0  0\\n    0.0348    1.4987    0.6175 O   0  0  0  0  0  0  0  0  0  0  0  0\\n   -1.0092   -0.6821    0.5810 C   0  0  0  0  0  0  0  0  0  0  0  0\\n   -1.8588   -0.2154   -0.4688 O   0  0  0  0  0  0  0  0  0  0  0  0\\n    2.0996    1.4362   -0.3408 H   0  0  0  0  0  0  0  0  0  0  0  0\\n    1.3232   -1.2255   -0.8789 H   0  0  0  0  0  0  0  0  0  0  0  0\\n    0.5511    0.1946   -1.6299 H   0  0  0  0  0  0  0  0  0  0  0  0\\n    0.9289   -0.1652    1.4069 H   0  0  0  0  0  0  0  0  0  0  0  0\\n   -0.7345    1.6377    0.0274 H   0  0  0  0  0  0  0  0  0  0  0  0\\n   -1.5260   -0.4925    1.5271 H   0  0  0  0  0  0  0  0  0  0  0  0\\n   -0.8488   -1.7577    0.4620 H   0  0  0  0  0  0  0  0  0  0  0  0\\n   -2.6957   -0.7088   -0.3943 H   0  0  0  0  0  0  0  0  0  0  0  0\\n  1  2  1  0\\n  2  3  1  0\\n  3  4  1  0\\n  3  5  1  0\\n  5  6  1  0\\n  1  7  1  0\\n  2  8  1  0\\n  2  9  1  0\\n  3 10  1  0\\n  4 11  1  0\\n  5 12  1  0\\n  5 13  1  0\\n  6 14  1  0\\nM  END\\n\",\"sdf\");\n\tviewer_16964249114281952.setStyle({\"stick\": {}});\n\tviewer_16964249114281952.setBackgroundColor(\"0xeeeeee\");\n\tviewer_16964249114281952.zoomTo();\nviewer_16964249114281952.render();\n});\n</script>",
      "text/html": [
       "<div id=\"3dmolviewer_16964249114281952\"  style=\"position: relative; width: 400px; height: 400px\">\n",
       "        <p id=\"3dmolwarning_16964249114281952\" style=\"background-color:#ffcccc;color:black\">You appear to be running in JupyterLab (or JavaScript failed to load for some other reason).  You need to install the 3dmol extension: <br>\n",
       "        <tt>jupyter labextension install jupyterlab_3dmol</tt></p>\n",
       "        </div>\n",
       "<script>\n",
       "\n",
       "var loadScriptAsync = function(uri){\n",
       "  return new Promise((resolve, reject) => {\n",
       "    //this is to ignore the existence of requirejs amd\n",
       "    var savedexports, savedmodule;\n",
       "    if (typeof exports !== 'undefined') savedexports = exports;\n",
       "    else exports = {}\n",
       "    if (typeof module !== 'undefined') savedmodule = module;\n",
       "    else module = {}\n",
       "\n",
       "    var tag = document.createElement('script');\n",
       "    tag.src = uri;\n",
       "    tag.async = true;\n",
       "    tag.onload = () => {\n",
       "        exports = savedexports;\n",
       "        module = savedmodule;\n",
       "        resolve();\n",
       "    };\n",
       "  var firstScriptTag = document.getElementsByTagName('script')[0];\n",
       "  firstScriptTag.parentNode.insertBefore(tag, firstScriptTag);\n",
       "});\n",
       "};\n",
       "\n",
       "if(typeof $3Dmolpromise === 'undefined') {\n",
       "$3Dmolpromise = null;\n",
       "  $3Dmolpromise = loadScriptAsync('https://cdnjs.cloudflare.com/ajax/libs/3Dmol/2.0.1/3Dmol-min.js');\n",
       "}\n",
       "\n",
       "var viewer_16964249114281952 = null;\n",
       "var warn = document.getElementById(\"3dmolwarning_16964249114281952\");\n",
       "if(warn) {\n",
       "    warn.parentNode.removeChild(warn);\n",
       "}\n",
       "$3Dmolpromise.then(function() {\n",
       "viewer_16964249114281952 = $3Dmol.createViewer(document.getElementById(\"3dmolviewer_16964249114281952\"),{backgroundColor:\"white\"});\n",
       "viewer_16964249114281952.zoomTo();\n",
       "\tviewer_16964249114281952.removeAllModels();\n",
       "\tviewer_16964249114281952.addModel(\"\\n     RDKit          3D\\n\\n 14 13  0  0  0  0  0  0  0  0999 V2000\\n    2.3296    0.5553   -0.6984 O   0  0  0  0  0  0  0  0  0  0  0  0\\n    1.0954   -0.1635   -0.7503 C   0  0  0  0  0  0  0  0  0  0  0  0\\n    0.3103    0.0883    0.5396 C   0  0  0  0  0  0  0  0  0  0  0  0\\n    0.0348    1.4987    0.6175 O   0  0  0  0  0  0  0  0  0  0  0  0\\n   -1.0092   -0.6821    0.5810 C   0  0  0  0  0  0  0  0  0  0  0  0\\n   -1.8588   -0.2154   -0.4688 O   0  0  0  0  0  0  0  0  0  0  0  0\\n    2.0996    1.4362   -0.3408 H   0  0  0  0  0  0  0  0  0  0  0  0\\n    1.3232   -1.2255   -0.8789 H   0  0  0  0  0  0  0  0  0  0  0  0\\n    0.5511    0.1946   -1.6299 H   0  0  0  0  0  0  0  0  0  0  0  0\\n    0.9289   -0.1652    1.4069 H   0  0  0  0  0  0  0  0  0  0  0  0\\n   -0.7345    1.6377    0.0274 H   0  0  0  0  0  0  0  0  0  0  0  0\\n   -1.5260   -0.4925    1.5271 H   0  0  0  0  0  0  0  0  0  0  0  0\\n   -0.8488   -1.7577    0.4620 H   0  0  0  0  0  0  0  0  0  0  0  0\\n   -2.6957   -0.7088   -0.3943 H   0  0  0  0  0  0  0  0  0  0  0  0\\n  1  2  1  0\\n  2  3  1  0\\n  3  4  1  0\\n  3  5  1  0\\n  5  6  1  0\\n  1  7  1  0\\n  2  8  1  0\\n  2  9  1  0\\n  3 10  1  0\\n  4 11  1  0\\n  5 12  1  0\\n  5 13  1  0\\n  6 14  1  0\\nM  END\\n\",\"sdf\");\n",
       "\tviewer_16964249114281952.setStyle({\"stick\": {}});\n",
       "\tviewer_16964249114281952.setBackgroundColor(\"0xeeeeee\");\n",
       "\tviewer_16964249114281952.zoomTo();\n",
       "viewer_16964249114281952.render();\n",
       "});\n",
       "</script>"
      ]
     },
     "metadata": {},
     "output_type": "display_data"
    },
    {
     "data": {
      "application/3dmoljs_load.v0": "<div id=\"3dmolviewer_16964249114298599\"  style=\"position: relative; width: 400px; height: 400px\">\n        <p id=\"3dmolwarning_16964249114298599\" style=\"background-color:#ffcccc;color:black\">You appear to be running in JupyterLab (or JavaScript failed to load for some other reason).  You need to install the 3dmol extension: <br>\n        <tt>jupyter labextension install jupyterlab_3dmol</tt></p>\n        </div>\n<script>\n\nvar loadScriptAsync = function(uri){\n  return new Promise((resolve, reject) => {\n    //this is to ignore the existence of requirejs amd\n    var savedexports, savedmodule;\n    if (typeof exports !== 'undefined') savedexports = exports;\n    else exports = {}\n    if (typeof module !== 'undefined') savedmodule = module;\n    else module = {}\n\n    var tag = document.createElement('script');\n    tag.src = uri;\n    tag.async = true;\n    tag.onload = () => {\n        exports = savedexports;\n        module = savedmodule;\n        resolve();\n    };\n  var firstScriptTag = document.getElementsByTagName('script')[0];\n  firstScriptTag.parentNode.insertBefore(tag, firstScriptTag);\n});\n};\n\nif(typeof $3Dmolpromise === 'undefined') {\n$3Dmolpromise = null;\n  $3Dmolpromise = loadScriptAsync('https://cdnjs.cloudflare.com/ajax/libs/3Dmol/2.0.1/3Dmol-min.js');\n}\n\nvar viewer_16964249114298599 = null;\nvar warn = document.getElementById(\"3dmolwarning_16964249114298599\");\nif(warn) {\n    warn.parentNode.removeChild(warn);\n}\n$3Dmolpromise.then(function() {\nviewer_16964249114298599 = $3Dmol.createViewer(document.getElementById(\"3dmolviewer_16964249114298599\"),{backgroundColor:\"white\"});\nviewer_16964249114298599.zoomTo();\n\tviewer_16964249114298599.removeAllModels();\n\tviewer_16964249114298599.addModel(\"\\n     RDKit          3D\\n\\n 14 13  0  0  0  0  0  0  0  0999 V2000\\n    2.1443    0.8932    0.5396 O   0  0  0  0  0  0  0  0  0  0  0  0\\n    1.0450    0.0635    0.7708 C   0  0  0  0  0  0  0  0  0  0  0  0\\n   -0.0449    0.4960   -0.1696 C   0  0  0  0  0  0  0  0  0  0  0  0\\n    0.4495    0.3475   -1.4696 O   0  0  0  0  0  0  0  0  0  0  0  0\\n   -1.2856   -0.3602   -0.0556 C   0  0  0  0  0  0  0  0  0  0  0  0\\n   -1.8438   -0.2669    1.2218 O   0  0  0  0  0  0  0  0  0  0  0  0\\n    2.9777    0.4043    0.3807 H   0  0  0  0  0  0  0  0  0  0  0  0\\n    0.7479    0.0050    1.8165 H   0  0  0  0  0  0  0  0  0  0  0  0\\n    1.3689   -0.9589    0.4336 H   0  0  0  0  0  0  0  0  0  0  0  0\\n   -0.3299    1.5487   -0.0378 H   0  0  0  0  0  0  0  0  0  0  0  0\\n    0.6315   -0.6412   -1.5654 H   0  0  0  0  0  0  0  0  0  0  0  0\\n   -1.0560   -1.4280   -0.3033 H   0  0  0  0  0  0  0  0  0  0  0  0\\n   -1.9876   -0.0067   -0.8458 H   0  0  0  0  0  0  0  0  0  0  0  0\\n   -2.8171   -0.0964    1.1348 H   0  0  0  0  0  0  0  0  0  0  0  0\\n  1  2  1  0\\n  2  3  1  0\\n  3  4  1  0\\n  3  5  1  0\\n  5  6  1  0\\n  1  7  1  0\\n  2  8  1  0\\n  2  9  1  0\\n  3 10  1  0\\n  4 11  1  0\\n  5 12  1  0\\n  5 13  1  0\\n  6 14  1  0\\nM  END\\n\",\"sdf\");\n\tviewer_16964249114298599.setStyle({\"stick\": {}});\n\tviewer_16964249114298599.setBackgroundColor(\"0xeeeeee\");\n\tviewer_16964249114298599.zoomTo();\nviewer_16964249114298599.render();\n});\n</script>",
      "text/html": [
       "<div id=\"3dmolviewer_16964249114298599\"  style=\"position: relative; width: 400px; height: 400px\">\n",
       "        <p id=\"3dmolwarning_16964249114298599\" style=\"background-color:#ffcccc;color:black\">You appear to be running in JupyterLab (or JavaScript failed to load for some other reason).  You need to install the 3dmol extension: <br>\n",
       "        <tt>jupyter labextension install jupyterlab_3dmol</tt></p>\n",
       "        </div>\n",
       "<script>\n",
       "\n",
       "var loadScriptAsync = function(uri){\n",
       "  return new Promise((resolve, reject) => {\n",
       "    //this is to ignore the existence of requirejs amd\n",
       "    var savedexports, savedmodule;\n",
       "    if (typeof exports !== 'undefined') savedexports = exports;\n",
       "    else exports = {}\n",
       "    if (typeof module !== 'undefined') savedmodule = module;\n",
       "    else module = {}\n",
       "\n",
       "    var tag = document.createElement('script');\n",
       "    tag.src = uri;\n",
       "    tag.async = true;\n",
       "    tag.onload = () => {\n",
       "        exports = savedexports;\n",
       "        module = savedmodule;\n",
       "        resolve();\n",
       "    };\n",
       "  var firstScriptTag = document.getElementsByTagName('script')[0];\n",
       "  firstScriptTag.parentNode.insertBefore(tag, firstScriptTag);\n",
       "});\n",
       "};\n",
       "\n",
       "if(typeof $3Dmolpromise === 'undefined') {\n",
       "$3Dmolpromise = null;\n",
       "  $3Dmolpromise = loadScriptAsync('https://cdnjs.cloudflare.com/ajax/libs/3Dmol/2.0.1/3Dmol-min.js');\n",
       "}\n",
       "\n",
       "var viewer_16964249114298599 = null;\n",
       "var warn = document.getElementById(\"3dmolwarning_16964249114298599\");\n",
       "if(warn) {\n",
       "    warn.parentNode.removeChild(warn);\n",
       "}\n",
       "$3Dmolpromise.then(function() {\n",
       "viewer_16964249114298599 = $3Dmol.createViewer(document.getElementById(\"3dmolviewer_16964249114298599\"),{backgroundColor:\"white\"});\n",
       "viewer_16964249114298599.zoomTo();\n",
       "\tviewer_16964249114298599.removeAllModels();\n",
       "\tviewer_16964249114298599.addModel(\"\\n     RDKit          3D\\n\\n 14 13  0  0  0  0  0  0  0  0999 V2000\\n    2.1443    0.8932    0.5396 O   0  0  0  0  0  0  0  0  0  0  0  0\\n    1.0450    0.0635    0.7708 C   0  0  0  0  0  0  0  0  0  0  0  0\\n   -0.0449    0.4960   -0.1696 C   0  0  0  0  0  0  0  0  0  0  0  0\\n    0.4495    0.3475   -1.4696 O   0  0  0  0  0  0  0  0  0  0  0  0\\n   -1.2856   -0.3602   -0.0556 C   0  0  0  0  0  0  0  0  0  0  0  0\\n   -1.8438   -0.2669    1.2218 O   0  0  0  0  0  0  0  0  0  0  0  0\\n    2.9777    0.4043    0.3807 H   0  0  0  0  0  0  0  0  0  0  0  0\\n    0.7479    0.0050    1.8165 H   0  0  0  0  0  0  0  0  0  0  0  0\\n    1.3689   -0.9589    0.4336 H   0  0  0  0  0  0  0  0  0  0  0  0\\n   -0.3299    1.5487   -0.0378 H   0  0  0  0  0  0  0  0  0  0  0  0\\n    0.6315   -0.6412   -1.5654 H   0  0  0  0  0  0  0  0  0  0  0  0\\n   -1.0560   -1.4280   -0.3033 H   0  0  0  0  0  0  0  0  0  0  0  0\\n   -1.9876   -0.0067   -0.8458 H   0  0  0  0  0  0  0  0  0  0  0  0\\n   -2.8171   -0.0964    1.1348 H   0  0  0  0  0  0  0  0  0  0  0  0\\n  1  2  1  0\\n  2  3  1  0\\n  3  4  1  0\\n  3  5  1  0\\n  5  6  1  0\\n  1  7  1  0\\n  2  8  1  0\\n  2  9  1  0\\n  3 10  1  0\\n  4 11  1  0\\n  5 12  1  0\\n  5 13  1  0\\n  6 14  1  0\\nM  END\\n\",\"sdf\");\n",
       "\tviewer_16964249114298599.setStyle({\"stick\": {}});\n",
       "\tviewer_16964249114298599.setBackgroundColor(\"0xeeeeee\");\n",
       "\tviewer_16964249114298599.zoomTo();\n",
       "viewer_16964249114298599.render();\n",
       "});\n",
       "</script>"
      ]
     },
     "metadata": {},
     "output_type": "display_data"
    },
    {
     "data": {
      "application/3dmoljs_load.v0": "<div id=\"3dmolviewer_1696424911431556\"  style=\"position: relative; width: 400px; height: 400px\">\n        <p id=\"3dmolwarning_1696424911431556\" style=\"background-color:#ffcccc;color:black\">You appear to be running in JupyterLab (or JavaScript failed to load for some other reason).  You need to install the 3dmol extension: <br>\n        <tt>jupyter labextension install jupyterlab_3dmol</tt></p>\n        </div>\n<script>\n\nvar loadScriptAsync = function(uri){\n  return new Promise((resolve, reject) => {\n    //this is to ignore the existence of requirejs amd\n    var savedexports, savedmodule;\n    if (typeof exports !== 'undefined') savedexports = exports;\n    else exports = {}\n    if (typeof module !== 'undefined') savedmodule = module;\n    else module = {}\n\n    var tag = document.createElement('script');\n    tag.src = uri;\n    tag.async = true;\n    tag.onload = () => {\n        exports = savedexports;\n        module = savedmodule;\n        resolve();\n    };\n  var firstScriptTag = document.getElementsByTagName('script')[0];\n  firstScriptTag.parentNode.insertBefore(tag, firstScriptTag);\n});\n};\n\nif(typeof $3Dmolpromise === 'undefined') {\n$3Dmolpromise = null;\n  $3Dmolpromise = loadScriptAsync('https://cdnjs.cloudflare.com/ajax/libs/3Dmol/2.0.1/3Dmol-min.js');\n}\n\nvar viewer_1696424911431556 = null;\nvar warn = document.getElementById(\"3dmolwarning_1696424911431556\");\nif(warn) {\n    warn.parentNode.removeChild(warn);\n}\n$3Dmolpromise.then(function() {\nviewer_1696424911431556 = $3Dmol.createViewer(document.getElementById(\"3dmolviewer_1696424911431556\"),{backgroundColor:\"white\"});\nviewer_1696424911431556.zoomTo();\n\tviewer_1696424911431556.removeAllModels();\n\tviewer_1696424911431556.addModel(\"\\n     RDKit          3D\\n\\n 14 13  0  0  0  0  0  0  0  0999 V2000\\n    1.7237   -1.2203    0.1841 O   0  0  0  0  0  0  0  0  0  0  0  0\\n    1.3640    0.1271    0.1340 C   0  0  0  0  0  0  0  0  0  0  0  0\\n   -0.0416    0.2903   -0.4269 C   0  0  0  0  0  0  0  0  0  0  0  0\\n   -0.3729    1.6200   -0.4665 O   0  0  0  0  0  0  0  0  0  0  0  0\\n   -1.0075   -0.5519    0.3816 C   0  0  0  0  0  0  0  0  0  0  0  0\\n   -2.2853   -0.4628   -0.1664 O   0  0  0  0  0  0  0  0  0  0  0  0\\n    2.4310   -1.2911    0.8919 H   0  0  0  0  0  0  0  0  0  0  0  0\\n    1.4166    0.6225    1.1242 H   0  0  0  0  0  0  0  0  0  0  0  0\\n    2.0430    0.6264   -0.6099 H   0  0  0  0  0  0  0  0  0  0  0  0\\n   -0.1024   -0.1059   -1.4627 H   0  0  0  0  0  0  0  0  0  0  0  0\\n   -0.7003    2.0005    0.3740 H   0  0  0  0  0  0  0  0  0  0  0  0\\n   -0.6890   -1.6181    0.2289 H   0  0  0  0  0  0  0  0  0  0  0  0\\n   -0.9762   -0.3404    1.4558 H   0  0  0  0  0  0  0  0  0  0  0  0\\n   -2.8032    0.3036    0.1787 H   0  0  0  0  0  0  0  0  0  0  0  0\\n  1  2  1  0\\n  2  3  1  0\\n  3  4  1  0\\n  3  5  1  0\\n  5  6  1  0\\n  1  7  1  0\\n  2  8  1  0\\n  2  9  1  0\\n  3 10  1  0\\n  4 11  1  0\\n  5 12  1  0\\n  5 13  1  0\\n  6 14  1  0\\nM  END\\n\",\"sdf\");\n\tviewer_1696424911431556.setStyle({\"stick\": {}});\n\tviewer_1696424911431556.setBackgroundColor(\"0xeeeeee\");\n\tviewer_1696424911431556.zoomTo();\nviewer_1696424911431556.render();\n});\n</script>",
      "text/html": [
       "<div id=\"3dmolviewer_1696424911431556\"  style=\"position: relative; width: 400px; height: 400px\">\n",
       "        <p id=\"3dmolwarning_1696424911431556\" style=\"background-color:#ffcccc;color:black\">You appear to be running in JupyterLab (or JavaScript failed to load for some other reason).  You need to install the 3dmol extension: <br>\n",
       "        <tt>jupyter labextension install jupyterlab_3dmol</tt></p>\n",
       "        </div>\n",
       "<script>\n",
       "\n",
       "var loadScriptAsync = function(uri){\n",
       "  return new Promise((resolve, reject) => {\n",
       "    //this is to ignore the existence of requirejs amd\n",
       "    var savedexports, savedmodule;\n",
       "    if (typeof exports !== 'undefined') savedexports = exports;\n",
       "    else exports = {}\n",
       "    if (typeof module !== 'undefined') savedmodule = module;\n",
       "    else module = {}\n",
       "\n",
       "    var tag = document.createElement('script');\n",
       "    tag.src = uri;\n",
       "    tag.async = true;\n",
       "    tag.onload = () => {\n",
       "        exports = savedexports;\n",
       "        module = savedmodule;\n",
       "        resolve();\n",
       "    };\n",
       "  var firstScriptTag = document.getElementsByTagName('script')[0];\n",
       "  firstScriptTag.parentNode.insertBefore(tag, firstScriptTag);\n",
       "});\n",
       "};\n",
       "\n",
       "if(typeof $3Dmolpromise === 'undefined') {\n",
       "$3Dmolpromise = null;\n",
       "  $3Dmolpromise = loadScriptAsync('https://cdnjs.cloudflare.com/ajax/libs/3Dmol/2.0.1/3Dmol-min.js');\n",
       "}\n",
       "\n",
       "var viewer_1696424911431556 = null;\n",
       "var warn = document.getElementById(\"3dmolwarning_1696424911431556\");\n",
       "if(warn) {\n",
       "    warn.parentNode.removeChild(warn);\n",
       "}\n",
       "$3Dmolpromise.then(function() {\n",
       "viewer_1696424911431556 = $3Dmol.createViewer(document.getElementById(\"3dmolviewer_1696424911431556\"),{backgroundColor:\"white\"});\n",
       "viewer_1696424911431556.zoomTo();\n",
       "\tviewer_1696424911431556.removeAllModels();\n",
       "\tviewer_1696424911431556.addModel(\"\\n     RDKit          3D\\n\\n 14 13  0  0  0  0  0  0  0  0999 V2000\\n    1.7237   -1.2203    0.1841 O   0  0  0  0  0  0  0  0  0  0  0  0\\n    1.3640    0.1271    0.1340 C   0  0  0  0  0  0  0  0  0  0  0  0\\n   -0.0416    0.2903   -0.4269 C   0  0  0  0  0  0  0  0  0  0  0  0\\n   -0.3729    1.6200   -0.4665 O   0  0  0  0  0  0  0  0  0  0  0  0\\n   -1.0075   -0.5519    0.3816 C   0  0  0  0  0  0  0  0  0  0  0  0\\n   -2.2853   -0.4628   -0.1664 O   0  0  0  0  0  0  0  0  0  0  0  0\\n    2.4310   -1.2911    0.8919 H   0  0  0  0  0  0  0  0  0  0  0  0\\n    1.4166    0.6225    1.1242 H   0  0  0  0  0  0  0  0  0  0  0  0\\n    2.0430    0.6264   -0.6099 H   0  0  0  0  0  0  0  0  0  0  0  0\\n   -0.1024   -0.1059   -1.4627 H   0  0  0  0  0  0  0  0  0  0  0  0\\n   -0.7003    2.0005    0.3740 H   0  0  0  0  0  0  0  0  0  0  0  0\\n   -0.6890   -1.6181    0.2289 H   0  0  0  0  0  0  0  0  0  0  0  0\\n   -0.9762   -0.3404    1.4558 H   0  0  0  0  0  0  0  0  0  0  0  0\\n   -2.8032    0.3036    0.1787 H   0  0  0  0  0  0  0  0  0  0  0  0\\n  1  2  1  0\\n  2  3  1  0\\n  3  4  1  0\\n  3  5  1  0\\n  5  6  1  0\\n  1  7  1  0\\n  2  8  1  0\\n  2  9  1  0\\n  3 10  1  0\\n  4 11  1  0\\n  5 12  1  0\\n  5 13  1  0\\n  6 14  1  0\\nM  END\\n\",\"sdf\");\n",
       "\tviewer_1696424911431556.setStyle({\"stick\": {}});\n",
       "\tviewer_1696424911431556.setBackgroundColor(\"0xeeeeee\");\n",
       "\tviewer_1696424911431556.zoomTo();\n",
       "viewer_1696424911431556.render();\n",
       "});\n",
       "</script>"
      ]
     },
     "metadata": {},
     "output_type": "display_data"
    },
    {
     "data": {
      "application/3dmoljs_load.v0": "<div id=\"3dmolviewer_16964249114331465\"  style=\"position: relative; width: 400px; height: 400px\">\n        <p id=\"3dmolwarning_16964249114331465\" style=\"background-color:#ffcccc;color:black\">You appear to be running in JupyterLab (or JavaScript failed to load for some other reason).  You need to install the 3dmol extension: <br>\n        <tt>jupyter labextension install jupyterlab_3dmol</tt></p>\n        </div>\n<script>\n\nvar loadScriptAsync = function(uri){\n  return new Promise((resolve, reject) => {\n    //this is to ignore the existence of requirejs amd\n    var savedexports, savedmodule;\n    if (typeof exports !== 'undefined') savedexports = exports;\n    else exports = {}\n    if (typeof module !== 'undefined') savedmodule = module;\n    else module = {}\n\n    var tag = document.createElement('script');\n    tag.src = uri;\n    tag.async = true;\n    tag.onload = () => {\n        exports = savedexports;\n        module = savedmodule;\n        resolve();\n    };\n  var firstScriptTag = document.getElementsByTagName('script')[0];\n  firstScriptTag.parentNode.insertBefore(tag, firstScriptTag);\n});\n};\n\nif(typeof $3Dmolpromise === 'undefined') {\n$3Dmolpromise = null;\n  $3Dmolpromise = loadScriptAsync('https://cdnjs.cloudflare.com/ajax/libs/3Dmol/2.0.1/3Dmol-min.js');\n}\n\nvar viewer_16964249114331465 = null;\nvar warn = document.getElementById(\"3dmolwarning_16964249114331465\");\nif(warn) {\n    warn.parentNode.removeChild(warn);\n}\n$3Dmolpromise.then(function() {\nviewer_16964249114331465 = $3Dmol.createViewer(document.getElementById(\"3dmolviewer_16964249114331465\"),{backgroundColor:\"white\"});\nviewer_16964249114331465.zoomTo();\n\tviewer_16964249114331465.removeAllModels();\n\tviewer_16964249114331465.addModel(\"\\n     RDKit          3D\\n\\n 14 13  0  0  0  0  0  0  0  0999 V2000\\n   -1.5671   -0.2474    0.9462 O   0  0  0  0  0  0  0  0  0  0  0  0\\n   -1.2632   -0.1408   -0.4047 C   0  0  0  0  0  0  0  0  0  0  0  0\\n    0.2324   -0.1759   -0.6111 C   0  0  0  0  0  0  0  0  0  0  0  0\\n    0.7265   -1.3782   -0.1230 O   0  0  0  0  0  0  0  0  0  0  0  0\\n    0.9478    0.9488    0.0908 C   0  0  0  0  0  0  0  0  0  0  0  0\\n    2.3090    0.8027   -0.1972 O   0  0  0  0  0  0  0  0  0  0  0  0\\n   -2.5604   -0.2637    1.0358 H   0  0  0  0  0  0  0  0  0  0  0  0\\n   -1.6825    0.8105   -0.8054 H   0  0  0  0  0  0  0  0  0  0  0  0\\n   -1.6813   -0.9997   -0.9705 H   0  0  0  0  0  0  0  0  0  0  0  0\\n    0.5063   -0.1182   -1.6815 H   0  0  0  0  0  0  0  0  0  0  0  0\\n   -0.0245   -1.9941    0.1437 H   0  0  0  0  0  0  0  0  0  0  0  0\\n    0.8550    0.8924    1.1976 H   0  0  0  0  0  0  0  0  0  0  0  0\\n    0.6581    1.9468   -0.3037 H   0  0  0  0  0  0  0  0  0  0  0  0\\n    2.5442   -0.0831   -0.5261 H   0  0  0  0  0  0  0  0  0  0  0  0\\n  1  2  1  0\\n  2  3  1  0\\n  3  4  1  0\\n  3  5  1  0\\n  5  6  1  0\\n  1  7  1  0\\n  2  8  1  0\\n  2  9  1  0\\n  3 10  1  0\\n  4 11  1  0\\n  5 12  1  0\\n  5 13  1  0\\n  6 14  1  0\\nM  END\\n\",\"sdf\");\n\tviewer_16964249114331465.setStyle({\"stick\": {}});\n\tviewer_16964249114331465.setBackgroundColor(\"0xeeeeee\");\n\tviewer_16964249114331465.zoomTo();\nviewer_16964249114331465.render();\n});\n</script>",
      "text/html": [
       "<div id=\"3dmolviewer_16964249114331465\"  style=\"position: relative; width: 400px; height: 400px\">\n",
       "        <p id=\"3dmolwarning_16964249114331465\" style=\"background-color:#ffcccc;color:black\">You appear to be running in JupyterLab (or JavaScript failed to load for some other reason).  You need to install the 3dmol extension: <br>\n",
       "        <tt>jupyter labextension install jupyterlab_3dmol</tt></p>\n",
       "        </div>\n",
       "<script>\n",
       "\n",
       "var loadScriptAsync = function(uri){\n",
       "  return new Promise((resolve, reject) => {\n",
       "    //this is to ignore the existence of requirejs amd\n",
       "    var savedexports, savedmodule;\n",
       "    if (typeof exports !== 'undefined') savedexports = exports;\n",
       "    else exports = {}\n",
       "    if (typeof module !== 'undefined') savedmodule = module;\n",
       "    else module = {}\n",
       "\n",
       "    var tag = document.createElement('script');\n",
       "    tag.src = uri;\n",
       "    tag.async = true;\n",
       "    tag.onload = () => {\n",
       "        exports = savedexports;\n",
       "        module = savedmodule;\n",
       "        resolve();\n",
       "    };\n",
       "  var firstScriptTag = document.getElementsByTagName('script')[0];\n",
       "  firstScriptTag.parentNode.insertBefore(tag, firstScriptTag);\n",
       "});\n",
       "};\n",
       "\n",
       "if(typeof $3Dmolpromise === 'undefined') {\n",
       "$3Dmolpromise = null;\n",
       "  $3Dmolpromise = loadScriptAsync('https://cdnjs.cloudflare.com/ajax/libs/3Dmol/2.0.1/3Dmol-min.js');\n",
       "}\n",
       "\n",
       "var viewer_16964249114331465 = null;\n",
       "var warn = document.getElementById(\"3dmolwarning_16964249114331465\");\n",
       "if(warn) {\n",
       "    warn.parentNode.removeChild(warn);\n",
       "}\n",
       "$3Dmolpromise.then(function() {\n",
       "viewer_16964249114331465 = $3Dmol.createViewer(document.getElementById(\"3dmolviewer_16964249114331465\"),{backgroundColor:\"white\"});\n",
       "viewer_16964249114331465.zoomTo();\n",
       "\tviewer_16964249114331465.removeAllModels();\n",
       "\tviewer_16964249114331465.addModel(\"\\n     RDKit          3D\\n\\n 14 13  0  0  0  0  0  0  0  0999 V2000\\n   -1.5671   -0.2474    0.9462 O   0  0  0  0  0  0  0  0  0  0  0  0\\n   -1.2632   -0.1408   -0.4047 C   0  0  0  0  0  0  0  0  0  0  0  0\\n    0.2324   -0.1759   -0.6111 C   0  0  0  0  0  0  0  0  0  0  0  0\\n    0.7265   -1.3782   -0.1230 O   0  0  0  0  0  0  0  0  0  0  0  0\\n    0.9478    0.9488    0.0908 C   0  0  0  0  0  0  0  0  0  0  0  0\\n    2.3090    0.8027   -0.1972 O   0  0  0  0  0  0  0  0  0  0  0  0\\n   -2.5604   -0.2637    1.0358 H   0  0  0  0  0  0  0  0  0  0  0  0\\n   -1.6825    0.8105   -0.8054 H   0  0  0  0  0  0  0  0  0  0  0  0\\n   -1.6813   -0.9997   -0.9705 H   0  0  0  0  0  0  0  0  0  0  0  0\\n    0.5063   -0.1182   -1.6815 H   0  0  0  0  0  0  0  0  0  0  0  0\\n   -0.0245   -1.9941    0.1437 H   0  0  0  0  0  0  0  0  0  0  0  0\\n    0.8550    0.8924    1.1976 H   0  0  0  0  0  0  0  0  0  0  0  0\\n    0.6581    1.9468   -0.3037 H   0  0  0  0  0  0  0  0  0  0  0  0\\n    2.5442   -0.0831   -0.5261 H   0  0  0  0  0  0  0  0  0  0  0  0\\n  1  2  1  0\\n  2  3  1  0\\n  3  4  1  0\\n  3  5  1  0\\n  5  6  1  0\\n  1  7  1  0\\n  2  8  1  0\\n  2  9  1  0\\n  3 10  1  0\\n  4 11  1  0\\n  5 12  1  0\\n  5 13  1  0\\n  6 14  1  0\\nM  END\\n\",\"sdf\");\n",
       "\tviewer_16964249114331465.setStyle({\"stick\": {}});\n",
       "\tviewer_16964249114331465.setBackgroundColor(\"0xeeeeee\");\n",
       "\tviewer_16964249114331465.zoomTo();\n",
       "viewer_16964249114331465.render();\n",
       "});\n",
       "</script>"
      ]
     },
     "metadata": {},
     "output_type": "display_data"
    },
    {
     "data": {
      "application/3dmoljs_load.v0": "<div id=\"3dmolviewer_16964249114346943\"  style=\"position: relative; width: 400px; height: 400px\">\n        <p id=\"3dmolwarning_16964249114346943\" style=\"background-color:#ffcccc;color:black\">You appear to be running in JupyterLab (or JavaScript failed to load for some other reason).  You need to install the 3dmol extension: <br>\n        <tt>jupyter labextension install jupyterlab_3dmol</tt></p>\n        </div>\n<script>\n\nvar loadScriptAsync = function(uri){\n  return new Promise((resolve, reject) => {\n    //this is to ignore the existence of requirejs amd\n    var savedexports, savedmodule;\n    if (typeof exports !== 'undefined') savedexports = exports;\n    else exports = {}\n    if (typeof module !== 'undefined') savedmodule = module;\n    else module = {}\n\n    var tag = document.createElement('script');\n    tag.src = uri;\n    tag.async = true;\n    tag.onload = () => {\n        exports = savedexports;\n        module = savedmodule;\n        resolve();\n    };\n  var firstScriptTag = document.getElementsByTagName('script')[0];\n  firstScriptTag.parentNode.insertBefore(tag, firstScriptTag);\n});\n};\n\nif(typeof $3Dmolpromise === 'undefined') {\n$3Dmolpromise = null;\n  $3Dmolpromise = loadScriptAsync('https://cdnjs.cloudflare.com/ajax/libs/3Dmol/2.0.1/3Dmol-min.js');\n}\n\nvar viewer_16964249114346943 = null;\nvar warn = document.getElementById(\"3dmolwarning_16964249114346943\");\nif(warn) {\n    warn.parentNode.removeChild(warn);\n}\n$3Dmolpromise.then(function() {\nviewer_16964249114346943 = $3Dmol.createViewer(document.getElementById(\"3dmolviewer_16964249114346943\"),{backgroundColor:\"white\"});\nviewer_16964249114346943.zoomTo();\n\tviewer_16964249114346943.removeAllModels();\n\tviewer_16964249114346943.addModel(\"\\n     RDKit          3D\\n\\n 14 13  0  0  0  0  0  0  0  0999 V2000\\n    1.6950    0.5968   -0.4351 O   0  0  0  0  0  0  0  0  0  0  0  0\\n    0.7915   -0.4229   -0.7471 C   0  0  0  0  0  0  0  0  0  0  0  0\\n   -0.0848   -0.5968    0.4769 C   0  0  0  0  0  0  0  0  0  0  0  0\\n   -1.0347   -1.5755    0.3236 O   0  0  0  0  0  0  0  0  0  0  0  0\\n   -0.7101    0.7728    0.7479 C   0  0  0  0  0  0  0  0  0  0  0  0\\n   -1.5165    1.0758   -0.3460 O   0  0  0  0  0  0  0  0  0  0  0  0\\n    2.3421    0.1897    0.2128 H   0  0  0  0  0  0  0  0  0  0  0  0\\n    1.3880   -1.3101   -0.9826 H   0  0  0  0  0  0  0  0  0  0  0  0\\n    0.2142   -0.0967   -1.6316 H   0  0  0  0  0  0  0  0  0  0  0  0\\n    0.5849   -0.8673    1.3188 H   0  0  0  0  0  0  0  0  0  0  0  0\\n   -1.4292   -1.6118   -0.5818 H   0  0  0  0  0  0  0  0  0  0  0  0\\n   -1.3561    0.6370    1.6529 H   0  0  0  0  0  0  0  0  0  0  0  0\\n    0.1034    1.4990    0.9073 H   0  0  0  0  0  0  0  0  0  0  0  0\\n   -0.9877    1.7100   -0.9160 H   0  0  0  0  0  0  0  0  0  0  0  0\\n  1  2  1  0\\n  2  3  1  0\\n  3  4  1  0\\n  3  5  1  0\\n  5  6  1  0\\n  1  7  1  0\\n  2  8  1  0\\n  2  9  1  0\\n  3 10  1  0\\n  4 11  1  0\\n  5 12  1  0\\n  5 13  1  0\\n  6 14  1  0\\nM  END\\n\",\"sdf\");\n\tviewer_16964249114346943.setStyle({\"stick\": {}});\n\tviewer_16964249114346943.setBackgroundColor(\"0xeeeeee\");\n\tviewer_16964249114346943.zoomTo();\nviewer_16964249114346943.render();\n});\n</script>",
      "text/html": [
       "<div id=\"3dmolviewer_16964249114346943\"  style=\"position: relative; width: 400px; height: 400px\">\n",
       "        <p id=\"3dmolwarning_16964249114346943\" style=\"background-color:#ffcccc;color:black\">You appear to be running in JupyterLab (or JavaScript failed to load for some other reason).  You need to install the 3dmol extension: <br>\n",
       "        <tt>jupyter labextension install jupyterlab_3dmol</tt></p>\n",
       "        </div>\n",
       "<script>\n",
       "\n",
       "var loadScriptAsync = function(uri){\n",
       "  return new Promise((resolve, reject) => {\n",
       "    //this is to ignore the existence of requirejs amd\n",
       "    var savedexports, savedmodule;\n",
       "    if (typeof exports !== 'undefined') savedexports = exports;\n",
       "    else exports = {}\n",
       "    if (typeof module !== 'undefined') savedmodule = module;\n",
       "    else module = {}\n",
       "\n",
       "    var tag = document.createElement('script');\n",
       "    tag.src = uri;\n",
       "    tag.async = true;\n",
       "    tag.onload = () => {\n",
       "        exports = savedexports;\n",
       "        module = savedmodule;\n",
       "        resolve();\n",
       "    };\n",
       "  var firstScriptTag = document.getElementsByTagName('script')[0];\n",
       "  firstScriptTag.parentNode.insertBefore(tag, firstScriptTag);\n",
       "});\n",
       "};\n",
       "\n",
       "if(typeof $3Dmolpromise === 'undefined') {\n",
       "$3Dmolpromise = null;\n",
       "  $3Dmolpromise = loadScriptAsync('https://cdnjs.cloudflare.com/ajax/libs/3Dmol/2.0.1/3Dmol-min.js');\n",
       "}\n",
       "\n",
       "var viewer_16964249114346943 = null;\n",
       "var warn = document.getElementById(\"3dmolwarning_16964249114346943\");\n",
       "if(warn) {\n",
       "    warn.parentNode.removeChild(warn);\n",
       "}\n",
       "$3Dmolpromise.then(function() {\n",
       "viewer_16964249114346943 = $3Dmol.createViewer(document.getElementById(\"3dmolviewer_16964249114346943\"),{backgroundColor:\"white\"});\n",
       "viewer_16964249114346943.zoomTo();\n",
       "\tviewer_16964249114346943.removeAllModels();\n",
       "\tviewer_16964249114346943.addModel(\"\\n     RDKit          3D\\n\\n 14 13  0  0  0  0  0  0  0  0999 V2000\\n    1.6950    0.5968   -0.4351 O   0  0  0  0  0  0  0  0  0  0  0  0\\n    0.7915   -0.4229   -0.7471 C   0  0  0  0  0  0  0  0  0  0  0  0\\n   -0.0848   -0.5968    0.4769 C   0  0  0  0  0  0  0  0  0  0  0  0\\n   -1.0347   -1.5755    0.3236 O   0  0  0  0  0  0  0  0  0  0  0  0\\n   -0.7101    0.7728    0.7479 C   0  0  0  0  0  0  0  0  0  0  0  0\\n   -1.5165    1.0758   -0.3460 O   0  0  0  0  0  0  0  0  0  0  0  0\\n    2.3421    0.1897    0.2128 H   0  0  0  0  0  0  0  0  0  0  0  0\\n    1.3880   -1.3101   -0.9826 H   0  0  0  0  0  0  0  0  0  0  0  0\\n    0.2142   -0.0967   -1.6316 H   0  0  0  0  0  0  0  0  0  0  0  0\\n    0.5849   -0.8673    1.3188 H   0  0  0  0  0  0  0  0  0  0  0  0\\n   -1.4292   -1.6118   -0.5818 H   0  0  0  0  0  0  0  0  0  0  0  0\\n   -1.3561    0.6370    1.6529 H   0  0  0  0  0  0  0  0  0  0  0  0\\n    0.1034    1.4990    0.9073 H   0  0  0  0  0  0  0  0  0  0  0  0\\n   -0.9877    1.7100   -0.9160 H   0  0  0  0  0  0  0  0  0  0  0  0\\n  1  2  1  0\\n  2  3  1  0\\n  3  4  1  0\\n  3  5  1  0\\n  5  6  1  0\\n  1  7  1  0\\n  2  8  1  0\\n  2  9  1  0\\n  3 10  1  0\\n  4 11  1  0\\n  5 12  1  0\\n  5 13  1  0\\n  6 14  1  0\\nM  END\\n\",\"sdf\");\n",
       "\tviewer_16964249114346943.setStyle({\"stick\": {}});\n",
       "\tviewer_16964249114346943.setBackgroundColor(\"0xeeeeee\");\n",
       "\tviewer_16964249114346943.zoomTo();\n",
       "viewer_16964249114346943.render();\n",
       "});\n",
       "</script>"
      ]
     },
     "metadata": {},
     "output_type": "display_data"
    },
    {
     "data": {
      "application/3dmoljs_load.v0": "<div id=\"3dmolviewer_16964249114362469\"  style=\"position: relative; width: 400px; height: 400px\">\n        <p id=\"3dmolwarning_16964249114362469\" style=\"background-color:#ffcccc;color:black\">You appear to be running in JupyterLab (or JavaScript failed to load for some other reason).  You need to install the 3dmol extension: <br>\n        <tt>jupyter labextension install jupyterlab_3dmol</tt></p>\n        </div>\n<script>\n\nvar loadScriptAsync = function(uri){\n  return new Promise((resolve, reject) => {\n    //this is to ignore the existence of requirejs amd\n    var savedexports, savedmodule;\n    if (typeof exports !== 'undefined') savedexports = exports;\n    else exports = {}\n    if (typeof module !== 'undefined') savedmodule = module;\n    else module = {}\n\n    var tag = document.createElement('script');\n    tag.src = uri;\n    tag.async = true;\n    tag.onload = () => {\n        exports = savedexports;\n        module = savedmodule;\n        resolve();\n    };\n  var firstScriptTag = document.getElementsByTagName('script')[0];\n  firstScriptTag.parentNode.insertBefore(tag, firstScriptTag);\n});\n};\n\nif(typeof $3Dmolpromise === 'undefined') {\n$3Dmolpromise = null;\n  $3Dmolpromise = loadScriptAsync('https://cdnjs.cloudflare.com/ajax/libs/3Dmol/2.0.1/3Dmol-min.js');\n}\n\nvar viewer_16964249114362469 = null;\nvar warn = document.getElementById(\"3dmolwarning_16964249114362469\");\nif(warn) {\n    warn.parentNode.removeChild(warn);\n}\n$3Dmolpromise.then(function() {\nviewer_16964249114362469 = $3Dmol.createViewer(document.getElementById(\"3dmolviewer_16964249114362469\"),{backgroundColor:\"white\"});\nviewer_16964249114362469.zoomTo();\n\tviewer_16964249114362469.removeAllModels();\n\tviewer_16964249114362469.addModel(\"\\n     RDKit          3D\\n\\n 14 13  0  0  0  0  0  0  0  0999 V2000\\n    2.1984    0.0428   -0.4630 O   0  0  0  0  0  0  0  0  0  0  0  0\\n    0.9624   -0.5683   -0.3812 C   0  0  0  0  0  0  0  0  0  0  0  0\\n   -0.1482    0.4923   -0.3229 C   0  0  0  0  0  0  0  0  0  0  0  0\\n    0.0380    1.3037    0.8026 O   0  0  0  0  0  0  0  0  0  0  0  0\\n   -1.4972   -0.1762   -0.1484 C   0  0  0  0  0  0  0  0  0  0  0  0\\n   -1.5392   -0.9421    0.9992 O   0  0  0  0  0  0  0  0  0  0  0  0\\n    2.7504   -0.1654    0.3165 H   0  0  0  0  0  0  0  0  0  0  0  0\\n    0.8838   -1.1398    0.5840 H   0  0  0  0  0  0  0  0  0  0  0  0\\n    0.7696   -1.2120   -1.2592 H   0  0  0  0  0  0  0  0  0  0  0  0\\n   -0.1320    1.0736   -1.2501 H   0  0  0  0  0  0  0  0  0  0  0  0\\n    0.5753    2.0795    0.5485 H   0  0  0  0  0  0  0  0  0  0  0  0\\n   -1.7775   -0.7498   -1.0615 H   0  0  0  0  0  0  0  0  0  0  0  0\\n   -2.2343    0.6571   -0.0308 H   0  0  0  0  0  0  0  0  0  0  0  0\\n   -0.8495   -0.6953    1.6662 H   0  0  0  0  0  0  0  0  0  0  0  0\\n  1  2  1  0\\n  2  3  1  0\\n  3  4  1  0\\n  3  5  1  0\\n  5  6  1  0\\n  1  7  1  0\\n  2  8  1  0\\n  2  9  1  0\\n  3 10  1  0\\n  4 11  1  0\\n  5 12  1  0\\n  5 13  1  0\\n  6 14  1  0\\nM  END\\n\",\"sdf\");\n\tviewer_16964249114362469.setStyle({\"stick\": {}});\n\tviewer_16964249114362469.setBackgroundColor(\"0xeeeeee\");\n\tviewer_16964249114362469.zoomTo();\nviewer_16964249114362469.render();\n});\n</script>",
      "text/html": [
       "<div id=\"3dmolviewer_16964249114362469\"  style=\"position: relative; width: 400px; height: 400px\">\n",
       "        <p id=\"3dmolwarning_16964249114362469\" style=\"background-color:#ffcccc;color:black\">You appear to be running in JupyterLab (or JavaScript failed to load for some other reason).  You need to install the 3dmol extension: <br>\n",
       "        <tt>jupyter labextension install jupyterlab_3dmol</tt></p>\n",
       "        </div>\n",
       "<script>\n",
       "\n",
       "var loadScriptAsync = function(uri){\n",
       "  return new Promise((resolve, reject) => {\n",
       "    //this is to ignore the existence of requirejs amd\n",
       "    var savedexports, savedmodule;\n",
       "    if (typeof exports !== 'undefined') savedexports = exports;\n",
       "    else exports = {}\n",
       "    if (typeof module !== 'undefined') savedmodule = module;\n",
       "    else module = {}\n",
       "\n",
       "    var tag = document.createElement('script');\n",
       "    tag.src = uri;\n",
       "    tag.async = true;\n",
       "    tag.onload = () => {\n",
       "        exports = savedexports;\n",
       "        module = savedmodule;\n",
       "        resolve();\n",
       "    };\n",
       "  var firstScriptTag = document.getElementsByTagName('script')[0];\n",
       "  firstScriptTag.parentNode.insertBefore(tag, firstScriptTag);\n",
       "});\n",
       "};\n",
       "\n",
       "if(typeof $3Dmolpromise === 'undefined') {\n",
       "$3Dmolpromise = null;\n",
       "  $3Dmolpromise = loadScriptAsync('https://cdnjs.cloudflare.com/ajax/libs/3Dmol/2.0.1/3Dmol-min.js');\n",
       "}\n",
       "\n",
       "var viewer_16964249114362469 = null;\n",
       "var warn = document.getElementById(\"3dmolwarning_16964249114362469\");\n",
       "if(warn) {\n",
       "    warn.parentNode.removeChild(warn);\n",
       "}\n",
       "$3Dmolpromise.then(function() {\n",
       "viewer_16964249114362469 = $3Dmol.createViewer(document.getElementById(\"3dmolviewer_16964249114362469\"),{backgroundColor:\"white\"});\n",
       "viewer_16964249114362469.zoomTo();\n",
       "\tviewer_16964249114362469.removeAllModels();\n",
       "\tviewer_16964249114362469.addModel(\"\\n     RDKit          3D\\n\\n 14 13  0  0  0  0  0  0  0  0999 V2000\\n    2.1984    0.0428   -0.4630 O   0  0  0  0  0  0  0  0  0  0  0  0\\n    0.9624   -0.5683   -0.3812 C   0  0  0  0  0  0  0  0  0  0  0  0\\n   -0.1482    0.4923   -0.3229 C   0  0  0  0  0  0  0  0  0  0  0  0\\n    0.0380    1.3037    0.8026 O   0  0  0  0  0  0  0  0  0  0  0  0\\n   -1.4972   -0.1762   -0.1484 C   0  0  0  0  0  0  0  0  0  0  0  0\\n   -1.5392   -0.9421    0.9992 O   0  0  0  0  0  0  0  0  0  0  0  0\\n    2.7504   -0.1654    0.3165 H   0  0  0  0  0  0  0  0  0  0  0  0\\n    0.8838   -1.1398    0.5840 H   0  0  0  0  0  0  0  0  0  0  0  0\\n    0.7696   -1.2120   -1.2592 H   0  0  0  0  0  0  0  0  0  0  0  0\\n   -0.1320    1.0736   -1.2501 H   0  0  0  0  0  0  0  0  0  0  0  0\\n    0.5753    2.0795    0.5485 H   0  0  0  0  0  0  0  0  0  0  0  0\\n   -1.7775   -0.7498   -1.0615 H   0  0  0  0  0  0  0  0  0  0  0  0\\n   -2.2343    0.6571   -0.0308 H   0  0  0  0  0  0  0  0  0  0  0  0\\n   -0.8495   -0.6953    1.6662 H   0  0  0  0  0  0  0  0  0  0  0  0\\n  1  2  1  0\\n  2  3  1  0\\n  3  4  1  0\\n  3  5  1  0\\n  5  6  1  0\\n  1  7  1  0\\n  2  8  1  0\\n  2  9  1  0\\n  3 10  1  0\\n  4 11  1  0\\n  5 12  1  0\\n  5 13  1  0\\n  6 14  1  0\\nM  END\\n\",\"sdf\");\n",
       "\tviewer_16964249114362469.setStyle({\"stick\": {}});\n",
       "\tviewer_16964249114362469.setBackgroundColor(\"0xeeeeee\");\n",
       "\tviewer_16964249114362469.zoomTo();\n",
       "viewer_16964249114362469.render();\n",
       "});\n",
       "</script>"
      ]
     },
     "metadata": {},
     "output_type": "display_data"
    },
    {
     "data": {
      "application/3dmoljs_load.v0": "<div id=\"3dmolviewer_16964249114377484\"  style=\"position: relative; width: 400px; height: 400px\">\n        <p id=\"3dmolwarning_16964249114377484\" style=\"background-color:#ffcccc;color:black\">You appear to be running in JupyterLab (or JavaScript failed to load for some other reason).  You need to install the 3dmol extension: <br>\n        <tt>jupyter labextension install jupyterlab_3dmol</tt></p>\n        </div>\n<script>\n\nvar loadScriptAsync = function(uri){\n  return new Promise((resolve, reject) => {\n    //this is to ignore the existence of requirejs amd\n    var savedexports, savedmodule;\n    if (typeof exports !== 'undefined') savedexports = exports;\n    else exports = {}\n    if (typeof module !== 'undefined') savedmodule = module;\n    else module = {}\n\n    var tag = document.createElement('script');\n    tag.src = uri;\n    tag.async = true;\n    tag.onload = () => {\n        exports = savedexports;\n        module = savedmodule;\n        resolve();\n    };\n  var firstScriptTag = document.getElementsByTagName('script')[0];\n  firstScriptTag.parentNode.insertBefore(tag, firstScriptTag);\n});\n};\n\nif(typeof $3Dmolpromise === 'undefined') {\n$3Dmolpromise = null;\n  $3Dmolpromise = loadScriptAsync('https://cdnjs.cloudflare.com/ajax/libs/3Dmol/2.0.1/3Dmol-min.js');\n}\n\nvar viewer_16964249114377484 = null;\nvar warn = document.getElementById(\"3dmolwarning_16964249114377484\");\nif(warn) {\n    warn.parentNode.removeChild(warn);\n}\n$3Dmolpromise.then(function() {\nviewer_16964249114377484 = $3Dmol.createViewer(document.getElementById(\"3dmolviewer_16964249114377484\"),{backgroundColor:\"white\"});\nviewer_16964249114377484.zoomTo();\n\tviewer_16964249114377484.removeAllModels();\n\tviewer_16964249114377484.addModel(\"\\n     RDKit          3D\\n\\n 14 13  0  0  0  0  0  0  0  0999 V2000\\n    1.6789    0.4339   -0.9323 O   0  0  0  0  0  0  0  0  0  0  0  0\\n    1.1262   -0.7496   -0.4243 C   0  0  0  0  0  0  0  0  0  0  0  0\\n   -0.1280   -0.4079    0.3245 C   0  0  0  0  0  0  0  0  0  0  0  0\\n    0.2622    0.4699    1.3614 O   0  0  0  0  0  0  0  0  0  0  0  0\\n   -1.1399    0.3192   -0.5270 C   0  0  0  0  0  0  0  0  0  0  0  0\\n   -2.2396    0.6708    0.2511 O   0  0  0  0  0  0  0  0  0  0  0  0\\n    2.1753    0.9367   -0.2546 H   0  0  0  0  0  0  0  0  0  0  0  0\\n    1.8633   -1.1200    0.3309 H   0  0  0  0  0  0  0  0  0  0  0  0\\n    0.9902   -1.5139   -1.2010 H   0  0  0  0  0  0  0  0  0  0  0  0\\n   -0.5859   -1.3077    0.7613 H   0  0  0  0  0  0  0  0  0  0  0  0\\n    0.4180   -0.0990    2.1516 H   0  0  0  0  0  0  0  0  0  0  0  0\\n   -1.5145   -0.4097   -1.3007 H   0  0  0  0  0  0  0  0  0  0  0  0\\n   -0.7045    1.1549   -1.0845 H   0  0  0  0  0  0  0  0  0  0  0  0\\n   -2.2016    1.6225    0.5436 H   0  0  0  0  0  0  0  0  0  0  0  0\\n  1  2  1  0\\n  2  3  1  0\\n  3  4  1  0\\n  3  5  1  0\\n  5  6  1  0\\n  1  7  1  0\\n  2  8  1  0\\n  2  9  1  0\\n  3 10  1  0\\n  4 11  1  0\\n  5 12  1  0\\n  5 13  1  0\\n  6 14  1  0\\nM  END\\n\",\"sdf\");\n\tviewer_16964249114377484.setStyle({\"stick\": {}});\n\tviewer_16964249114377484.setBackgroundColor(\"0xeeeeee\");\n\tviewer_16964249114377484.zoomTo();\nviewer_16964249114377484.render();\n});\n</script>",
      "text/html": [
       "<div id=\"3dmolviewer_16964249114377484\"  style=\"position: relative; width: 400px; height: 400px\">\n",
       "        <p id=\"3dmolwarning_16964249114377484\" style=\"background-color:#ffcccc;color:black\">You appear to be running in JupyterLab (or JavaScript failed to load for some other reason).  You need to install the 3dmol extension: <br>\n",
       "        <tt>jupyter labextension install jupyterlab_3dmol</tt></p>\n",
       "        </div>\n",
       "<script>\n",
       "\n",
       "var loadScriptAsync = function(uri){\n",
       "  return new Promise((resolve, reject) => {\n",
       "    //this is to ignore the existence of requirejs amd\n",
       "    var savedexports, savedmodule;\n",
       "    if (typeof exports !== 'undefined') savedexports = exports;\n",
       "    else exports = {}\n",
       "    if (typeof module !== 'undefined') savedmodule = module;\n",
       "    else module = {}\n",
       "\n",
       "    var tag = document.createElement('script');\n",
       "    tag.src = uri;\n",
       "    tag.async = true;\n",
       "    tag.onload = () => {\n",
       "        exports = savedexports;\n",
       "        module = savedmodule;\n",
       "        resolve();\n",
       "    };\n",
       "  var firstScriptTag = document.getElementsByTagName('script')[0];\n",
       "  firstScriptTag.parentNode.insertBefore(tag, firstScriptTag);\n",
       "});\n",
       "};\n",
       "\n",
       "if(typeof $3Dmolpromise === 'undefined') {\n",
       "$3Dmolpromise = null;\n",
       "  $3Dmolpromise = loadScriptAsync('https://cdnjs.cloudflare.com/ajax/libs/3Dmol/2.0.1/3Dmol-min.js');\n",
       "}\n",
       "\n",
       "var viewer_16964249114377484 = null;\n",
       "var warn = document.getElementById(\"3dmolwarning_16964249114377484\");\n",
       "if(warn) {\n",
       "    warn.parentNode.removeChild(warn);\n",
       "}\n",
       "$3Dmolpromise.then(function() {\n",
       "viewer_16964249114377484 = $3Dmol.createViewer(document.getElementById(\"3dmolviewer_16964249114377484\"),{backgroundColor:\"white\"});\n",
       "viewer_16964249114377484.zoomTo();\n",
       "\tviewer_16964249114377484.removeAllModels();\n",
       "\tviewer_16964249114377484.addModel(\"\\n     RDKit          3D\\n\\n 14 13  0  0  0  0  0  0  0  0999 V2000\\n    1.6789    0.4339   -0.9323 O   0  0  0  0  0  0  0  0  0  0  0  0\\n    1.1262   -0.7496   -0.4243 C   0  0  0  0  0  0  0  0  0  0  0  0\\n   -0.1280   -0.4079    0.3245 C   0  0  0  0  0  0  0  0  0  0  0  0\\n    0.2622    0.4699    1.3614 O   0  0  0  0  0  0  0  0  0  0  0  0\\n   -1.1399    0.3192   -0.5270 C   0  0  0  0  0  0  0  0  0  0  0  0\\n   -2.2396    0.6708    0.2511 O   0  0  0  0  0  0  0  0  0  0  0  0\\n    2.1753    0.9367   -0.2546 H   0  0  0  0  0  0  0  0  0  0  0  0\\n    1.8633   -1.1200    0.3309 H   0  0  0  0  0  0  0  0  0  0  0  0\\n    0.9902   -1.5139   -1.2010 H   0  0  0  0  0  0  0  0  0  0  0  0\\n   -0.5859   -1.3077    0.7613 H   0  0  0  0  0  0  0  0  0  0  0  0\\n    0.4180   -0.0990    2.1516 H   0  0  0  0  0  0  0  0  0  0  0  0\\n   -1.5145   -0.4097   -1.3007 H   0  0  0  0  0  0  0  0  0  0  0  0\\n   -0.7045    1.1549   -1.0845 H   0  0  0  0  0  0  0  0  0  0  0  0\\n   -2.2016    1.6225    0.5436 H   0  0  0  0  0  0  0  0  0  0  0  0\\n  1  2  1  0\\n  2  3  1  0\\n  3  4  1  0\\n  3  5  1  0\\n  5  6  1  0\\n  1  7  1  0\\n  2  8  1  0\\n  2  9  1  0\\n  3 10  1  0\\n  4 11  1  0\\n  5 12  1  0\\n  5 13  1  0\\n  6 14  1  0\\nM  END\\n\",\"sdf\");\n",
       "\tviewer_16964249114377484.setStyle({\"stick\": {}});\n",
       "\tviewer_16964249114377484.setBackgroundColor(\"0xeeeeee\");\n",
       "\tviewer_16964249114377484.zoomTo();\n",
       "viewer_16964249114377484.render();\n",
       "});\n",
       "</script>"
      ]
     },
     "metadata": {},
     "output_type": "display_data"
    }
   ],
   "source": [
    "#do the conformers look structurally sensible\n",
    "\n",
    "for id in range(rdmol.GetNumConformers()):\n",
    "    IPythonConsole.drawMol3D(rdmol,confId=id)\n"
   ]
  },
  {
   "cell_type": "code",
   "execution_count": 8,
   "metadata": {},
   "outputs": [
    {
     "data": {
      "text/plain": [
       "0"
      ]
     },
     "execution_count": 8,
     "metadata": {},
     "output_type": "execute_result"
    }
   ],
   "source": [
    "optimize_MMFF"
   ]
  },
  {
   "cell_type": "code",
   "execution_count": 9,
   "metadata": {},
   "outputs": [],
   "source": [
    "#now create a series of xyz files so we can run the conformers with ASE, first convert our conformers to xyz format and then write to file\n",
    "\n",
    "from openff.units import unit\n",
    "\n",
    "cwd = os.getcwd()\n",
    "\n",
    "conformers = []\n",
    "\n",
    "\n",
    "\n",
    "for confs in range(rdmol.GetNumConformers()):\n",
    "    conformer = np.zeros((rdmol.GetConformer(confs).GetNumAtoms(), 3))\n",
    "    for atom_index, coordinates in enumerate(rdmol.GetConformer(confs).GetPositions()):\n",
    "        conformer[atom_index, :] = coordinates\n",
    "    conformers.append(conformer * unit.angstrom)\n",
    "\n",
    "\n",
    "for number ,conformer in enumerate(conformers):\n",
    "    atoms = [\n",
    "            {\n",
    "                \"element\": SYMBOLS[atom.atomic_number],\n",
    "                \"x\": conformer[index, 0],\n",
    "                \"y\": conformer[index, 1],\n",
    "                \"z\": conformer[index, 2],\n",
    "            }\n",
    "            for index, atom in enumerate(molecule.atoms)\n",
    "        ]\n",
    "    xyz = f'{molecule.n_atoms}\\n{molecule.to_smiles()}\\n'\n",
    "    for row in atoms:\n",
    "        xyz += f\"{row['element']}\\t{np.around(row['x'].magnitude,decimals=6)}\\t{np.around(row['y'].magnitude,decimals=6)}\\t{np.around(row['z'].magnitude, decimals=6)}\\n\"\n",
    "    try:\n",
    "        f = open(cwd+f\"/conformer_{number}.xyz\", 'x')\n",
    "        f.write(xyz)\n",
    "        f.close()\n",
    "    except FileExistsError:\n",
    "        continue"
   ]
  },
  {
   "cell_type": "code",
   "execution_count": 10,
   "metadata": {},
   "outputs": [
    {
     "name": "stderr",
     "output_type": "stream",
     "text": [
      "/mnt/nfs/home/nca121/mambaforge/envs/openff/lib/python3.11/site-packages/numpy/core/getlimits.py:549: UserWarning: The value of the smallest subnormal for <class 'numpy.float64'> type is zero.\n",
      "  setattr(self, word, getattr(machar, word).flat[0])\n",
      "/mnt/nfs/home/nca121/mambaforge/envs/openff/lib/python3.11/site-packages/numpy/core/getlimits.py:89: UserWarning: The value of the smallest subnormal for <class 'numpy.float64'> type is zero.\n",
      "  return self._float_to_str(self.smallest_subnormal)\n",
      "/mnt/nfs/home/nca121/mambaforge/envs/openff/lib/python3.11/site-packages/numpy/core/getlimits.py:549: UserWarning: The value of the smallest subnormal for <class 'numpy.float32'> type is zero.\n",
      "  setattr(self, word, getattr(machar, word).flat[0])\n",
      "/mnt/nfs/home/nca121/mambaforge/envs/openff/lib/python3.11/site-packages/numpy/core/getlimits.py:89: UserWarning: The value of the smallest subnormal for <class 'numpy.float32'> type is zero.\n",
      "  return self._float_to_str(self.smallest_subnormal)\n"
     ]
    }
   ],
   "source": [
    "from ase.calculators.gaussian import Gaussian, GaussianOptimizer\n",
    "import ase.io\n",
    "from ase.visualize import view\n",
    "!module load gaussian/09\n",
    "\n",
    "\n"
   ]
  },
  {
   "cell_type": "code",
   "execution_count": 11,
   "metadata": {},
   "outputs": [],
   "source": [
    "Gaussian.command = '/mnt/storage/apps/eb/software/gaussian/09/g09 < PREFIX.com > PREFIX.log'"
   ]
  },
  {
   "cell_type": "code",
   "execution_count": 12,
   "metadata": {},
   "outputs": [],
   "source": [
    "test_atoms = ase.io.read('conformer_0.xyz')"
   ]
  },
  {
   "cell_type": "code",
   "execution_count": 13,
   "metadata": {},
   "outputs": [
    {
     "data": {
      "text/plain": [
       "<Popen: returncode: None args: ['/mnt/nfs/home/nca121/mambaforge/envs/openff...>"
      ]
     },
     "execution_count": 13,
     "metadata": {},
     "output_type": "execute_result"
    }
   ],
   "source": [
    "view(test_atoms)"
   ]
  },
  {
   "cell_type": "code",
   "execution_count": 14,
   "metadata": {},
   "outputs": [],
   "source": [
    "from openff.recharge.utilities.molecule import smiles_to_molecule\n",
    "from openff.recharge.conformers import ConformerGenerator, ConformerSettings\n",
    "from openff.units.elements import SYMBOLS\n",
    "import numpy as np\n",
    "from openff.units import unit\n"
   ]
  },
  {
   "cell_type": "code",
   "execution_count": 15,
   "metadata": {},
   "outputs": [
    {
     "name": "stderr",
     "output_type": "stream",
     "text": [
      "usage: ase [-h] [--version] [-T]\n",
      "           {help,info,test,gui,db,run,band-structure,build,dimensionality,eos,ulm,find,nebplot,nomad-upload,nomad-get,convert,reciprocal,completion,diff,exec}\n",
      "           ...\n",
      "ase: error: TclError: couldn't connect to display \"10.3.80.12:18.0\"\n",
      "To get a full traceback, use: ase -T gui ...\n"
     ]
    }
   ],
   "source": [
    "molecule = smiles_to_molecule(\"OCC(O)CO\")\n",
    "conformers = ConformerGenerator.generate(\n",
    "    molecule, ConformerSettings(max_conformers=10)\n",
    ")"
   ]
  },
  {
   "cell_type": "code",
   "execution_count": 16,
   "metadata": {},
   "outputs": [],
   "source": [
    "def conf_to_xyz_string(conformer, molecule):\n",
    "    atoms = [\n",
    "                    {\n",
    "                        \"element\": SYMBOLS[atom.atomic_number],\n",
    "                        \"x\": conformer[index, 0],\n",
    "                        \"y\": conformer[index, 1],\n",
    "                        \"z\": conformer[index, 2],\n",
    "                    }\n",
    "                    for index, atom in enumerate(molecule.atoms)\n",
    "                ]\n",
    "    xyz = f'{molecule.n_atoms}\\n{molecule.to_smiles()}\\n'\n",
    "    for row in atoms:\n",
    "        xyz += f\"{row['element']}\\t{np.around(row['x'].magnitude,decimals=6)}\\t{np.around(row['y'].magnitude,decimals=6)}\\t{np.around(row['z'].magnitude, decimals=6)}\\n\"\n",
    "    return xyz"
   ]
  },
  {
   "cell_type": "code",
   "execution_count": 17,
   "metadata": {},
   "outputs": [
    {
     "data": {
      "text/html": [
       "<table><tbody><tr><th>Magnitude</th><td style='text-align:left;'><pre>[[-0.3611847460269928 -0.008062569424510002 0.021483348682522774]<br> [0.9523459672927856 0.5384629368782043 -0.032555222511291504]<br> [1.1439802646636963 1.233094573020935 -1.3743836879730225]<br> [2.4670777320861816 1.7732906341552734 -1.4064496755599976]<br> [0.9855600595474243 0.2572946548461914 -2.534839153289795]<br> [1.1710933446884155 0.9411581158638 -3.7698163986206055]<br> [-0.45401597023010254 -0.4434690475463867 0.8860717415809631]<br> [1.0573564767837524 1.2441487312316895 0.7981725335121155]<br> [1.6660577058792114 -0.28194597363471985 0.09198283404111862]<br> [0.4551912844181061 2.0798325538635254 -1.4719767570495605]<br> [2.5237202644348145 2.3979244232177734 -0.6684095859527588]<br> [-0.009874296374619007 -0.19747895002365112 -2.545755624771118]<br> [1.7366387844085693 -0.5375308394432068 -2.487229347229004]<br> [1.0608800649642944 0.2808915376663208 -4.472022533416748]]</pre></td></tr><tr><th>Units</th><td style='text-align:left;'>angstrom</td></tr></tbody></table>"
      ],
      "text/latex": [
       "$\\begin{pmatrix}-0.3611847460269928 & -0.008062569424510002 & 0.021483348682522774\\\\ \n",
       "0.9523459672927856 & 0.5384629368782043 & -0.032555222511291504\\\\ \n",
       "1.1439802646636963 & 1.233094573020935 & -1.3743836879730225\\\\ \n",
       "2.4670777320861816 & 1.7732906341552734 & -1.4064496755599976\\\\ \n",
       "0.9855600595474243 & 0.2572946548461914 & -2.534839153289795\\\\ \n",
       "1.1710933446884155 & 0.9411581158638 & -3.7698163986206055\\\\ \n",
       "-0.45401597023010254 & -0.4434690475463867 & 0.8860717415809631\\\\ \n",
       "1.0573564767837524 & 1.2441487312316895 & 0.7981725335121155\\\\ \n",
       "1.6660577058792114 & -0.28194597363471985 & 0.09198283404111862\\\\ \n",
       "0.4551912844181061 & 2.0798325538635254 & -1.4719767570495605\\\\ \n",
       "2.5237202644348145 & 2.3979244232177734 & -0.6684095859527588\\\\ \n",
       "-0.009874296374619007 & -0.19747895002365112 & -2.545755624771118\\\\ \n",
       "1.7366387844085693 & -0.5375308394432068 & -2.487229347229004\\\\ \n",
       "1.0608800649642944 & 0.2808915376663208 & -4.472022533416748\\end{pmatrix}\\ \\mathrm{angstrom}$"
      ],
      "text/plain": [
       "array([[-0.36118475, -0.00806257,  0.02148335],\n",
       "       [ 0.95234597,  0.53846294, -0.03255522],\n",
       "       [ 1.14398026,  1.23309457, -1.37438369],\n",
       "       [ 2.46707773,  1.77329063, -1.40644968],\n",
       "       [ 0.98556006,  0.25729465, -2.53483915],\n",
       "       [ 1.17109334,  0.94115812, -3.7698164 ],\n",
       "       [-0.45401597, -0.44346905,  0.88607174],\n",
       "       [ 1.05735648,  1.24414873,  0.79817253],\n",
       "       [ 1.66605771, -0.28194597,  0.09198283],\n",
       "       [ 0.45519128,  2.07983255, -1.47197676],\n",
       "       [ 2.52372026,  2.39792442, -0.66840959],\n",
       "       [-0.0098743 , -0.19747895, -2.54575562],\n",
       "       [ 1.73663878, -0.53753084, -2.48722935],\n",
       "       [ 1.06088006,  0.28089154, -4.47202253]]) <Unit('angstrom')>"
      ]
     },
     "execution_count": 17,
     "metadata": {},
     "output_type": "execute_result"
    }
   ],
   "source": [
    "conformers[0]"
   ]
  },
  {
   "cell_type": "code",
   "execution_count": 18,
   "metadata": {},
   "outputs": [
    {
     "data": {
      "text/plain": [
       "openff.units.units.Quantity"
      ]
     },
     "execution_count": 18,
     "metadata": {},
     "output_type": "execute_result"
    }
   ],
   "source": [
    "type(conformers[0])"
   ]
  },
  {
   "cell_type": "code",
   "execution_count": null,
   "metadata": {},
   "outputs": [],
   "source": []
  },
  {
   "cell_type": "code",
   "execution_count": 19,
   "metadata": {},
   "outputs": [],
   "source": [
    "from openff.units import unit\n",
    "\n",
    "cwd = os.getcwd()\n",
    "\n",
    "conformers = []\n",
    "\n",
    "molecule = smiles_to_molecule(\"OCC(O)CO\")\n",
    "rdmol = molecule.to_rdkit()\n",
    "AllChem.EmbedMultipleConfs(rdmol, numConfs=10, randomSeed=42)\n",
    "\n",
    "for confs in range(rdmol.GetNumConformers()):\n",
    "    \n",
    "    conformer = np.zeros((rdmol.GetConformer(confs).GetNumAtoms(), 3))\n",
    "    for atom_index, coordinates in enumerate(rdmol.GetConformer(confs).GetPositions()):\n",
    "        conformer[atom_index, :] = coordinates\n",
    "    conformers.append(conformer * unit.angstrom)\n"
   ]
  },
  {
   "cell_type": "code",
   "execution_count": 20,
   "metadata": {},
   "outputs": [
    {
     "data": {
      "text/plain": [
       "[1, 2, 3, 4, 5, 6, 7, 8, 9, 10]"
      ]
     },
     "execution_count": 20,
     "metadata": {},
     "output_type": "execute_result"
    }
   ],
   "source": [
    "[molecule.add_conformer(i) for i in conformers]"
   ]
  },
  {
   "cell_type": "code",
   "execution_count": 21,
   "metadata": {},
   "outputs": [],
   "source": [
    "rdmol =  molecule.to_rdkit()"
   ]
  },
  {
   "cell_type": "code",
   "execution_count": 22,
   "metadata": {},
   "outputs": [
    {
     "data": {
      "text/plain": [
       "10"
      ]
     },
     "execution_count": 22,
     "metadata": {},
     "output_type": "execute_result"
    }
   ],
   "source": [
    "rdmol.GetNumConformers()"
   ]
  },
  {
   "cell_type": "code",
   "execution_count": 23,
   "metadata": {},
   "outputs": [],
   "source": [
    "optimize_MMFF = MMFFOptimizeMolecule(rdmol,mmffVariant = 'MMFF94')"
   ]
  },
  {
   "cell_type": "code",
   "execution_count": 24,
   "metadata": {},
   "outputs": [],
   "source": [
    "optimized_conformer = Molecule.from_rdkit(rdmol)"
   ]
  },
  {
   "cell_type": "code",
   "execution_count": 25,
   "metadata": {},
   "outputs": [
    {
     "data": {
      "text/plain": [
       "10"
      ]
     },
     "execution_count": 25,
     "metadata": {},
     "output_type": "execute_result"
    }
   ],
   "source": [
    "optimized_conformer.n_conformers\n"
   ]
  },
  {
   "cell_type": "code",
   "execution_count": 26,
   "metadata": {},
   "outputs": [],
   "source": [
    "from openff.toolkit import Molecule\n",
    "import qcengine\n",
    "from qcelemental.models import AtomicInput, OptimizationInput\n",
    "from qcelemental.models.common_models import Model\n",
    "from qcelemental.models.procedures import QCInputSpecification\n",
    "from openff.recharge.utilities.molecule import smiles_to_molecule\n",
    "from conformer_gen import Conformers\n"
   ]
  },
  {
   "cell_type": "code",
   "execution_count": 27,
   "metadata": {},
   "outputs": [
    {
     "data": {
      "text/plain": [
       "10"
      ]
     },
     "execution_count": 27,
     "metadata": {},
     "output_type": "execute_result"
    }
   ],
   "source": [
    "# make a off toolkit molecule\n",
    "molecule = Molecule.from_smiles(\"OCC(O)CO\")\n",
    "# Define the grid that the electrostatic properties will be trained on and the\n",
    "# level of theory to compute the properties at.\n",
    "grid_settings = LatticeGridSettings(\n",
    "    type=\"fcc\", spacing=0.5, inner_vdw_scale=1.4, outer_vdw_scale=2.0\n",
    ")\n",
    "# Generating an MSK style grid is also supported:\n",
    "# from openff.recharge.grids import MSKGridSettings\n",
    "# grid_settings = MSKGridSettings(density=1.0)\n",
    "\n",
    "esp_settings = ESPSettings(basis=\"6-31G*\", method=\"hf\", grid_settings=grid_settings)\n",
    "\n",
    "# Generate a set of conformers for the molecule. We will compute the ESP and\n",
    "# electric field for the molecule in each conformer.\n",
    "#conformers = ConformerGenerator.generate(\n",
    "#    molecule, ConformerSettings(max_conformers=10)\n",
    "#)\n",
    "conformers = Conformers.generate(molecule, generation_type='rdkit')\n",
    "molecule.n_conformers"
   ]
  },
  {
   "cell_type": "code",
   "execution_count": 28,
   "metadata": {},
   "outputs": [
    {
     "data": {
      "text/plain": [
       "{'schema_name': 'qcschema_molecule',\n",
       " 'schema_version': 2,\n",
       " 'validated': True,\n",
       " 'symbols': array(['O', 'C', 'C', 'O', 'C', 'O', 'H', 'H', 'H', 'H', 'H', 'H', 'H',\n",
       "        'H'], dtype='<U1'),\n",
       " 'geometry': array([[-0.68254025, -0.01523605,  0.04059765],\n",
       "        [ 1.79967305,  1.01754748, -0.06152045],\n",
       "        [ 2.16180939,  2.33021103, -2.59720876],\n",
       "        [ 4.66210124,  3.35103364, -2.65780469],\n",
       "        [ 1.86243859,  0.48621643, -4.79015177],\n",
       "        [ 2.21304569,  1.77853108, -7.12392053],\n",
       "        [-1.8578508 ,  1.38506063, -0.14649441],\n",
       "        [ 1.99811416,  2.35110036,  1.50832749],\n",
       "        [ 3.14839277, -0.53280067,  0.17382236],\n",
       "        [ 0.86018686,  3.93031391, -2.78163293],\n",
       "        [ 4.76914011,  4.53142043, -1.26311106],\n",
       "        [-0.01865972, -0.37318113, -4.81078091],\n",
       "        [ 3.28177168, -1.01578607, -4.70018228],\n",
       "        [ 2.00477277,  0.53080808, -8.45089781]]),\n",
       " 'name': 'C3H8O3',\n",
       " 'molecular_charge': 0.0,\n",
       " 'molecular_multiplicity': 1,\n",
       " 'connectivity': [(0, 1, 1.0),\n",
       "  (0, 6, 1.0),\n",
       "  (1, 2, 1.0),\n",
       "  (1, 7, 1.0),\n",
       "  (1, 8, 1.0),\n",
       "  (2, 3, 1.0),\n",
       "  (2, 4, 1.0),\n",
       "  (2, 9, 1.0),\n",
       "  (3, 10, 1.0),\n",
       "  (4, 5, 1.0),\n",
       "  (4, 11, 1.0),\n",
       "  (4, 12, 1.0),\n",
       "  (5, 13, 1.0)],\n",
       " 'fix_com': False,\n",
       " 'fix_orientation': False,\n",
       " 'provenance': {'creator': 'QCElemental',\n",
       "  'version': '0.26.0',\n",
       "  'routine': 'qcelemental.molparse.from_schema'},\n",
       " 'extras': {'canonical_isomeric_explicit_hydrogen_mapped_smiles': '[H:8][C:2]([H:9])([C:3]([H:10])([C:5]([H:12])([H:13])[O:6][H:14])[O:4][H:11])[O:1][H:7]'}}"
      ]
     },
     "execution_count": 28,
     "metadata": {},
     "output_type": "execute_result"
    }
   ],
   "source": [
    "qcel_mol = molecule.to_qcschema(conformer = 9)\n",
    "qcel_mol.dict()\n"
   ]
  },
  {
   "cell_type": "code",
   "execution_count": 29,
   "metadata": {},
   "outputs": [
    {
     "data": {
      "text/plain": [
       "AtomicInput(driver='energy', model={'method': 'gfn2-xtb', 'basis': None}, molecule_hash='f8a7a08')"
      ]
     },
     "execution_count": 29,
     "metadata": {},
     "output_type": "execute_result"
    }
   ],
   "source": [
    "xtb_model = Model(method=\"gfn2-xtb\", basis=None)\n",
    "qc_task = AtomicInput(molecule=qcel_mol, driver=\"energy\", model=xtb_model)\n",
    "qc_task\n"
   ]
  },
  {
   "cell_type": "code",
   "execution_count": 30,
   "metadata": {},
   "outputs": [
    {
     "data": {
      "text/plain": [
       "{'id': None,\n",
       " 'schema_name': 'qcschema_output',\n",
       " 'schema_version': 1,\n",
       " 'molecule': {'schema_name': 'qcschema_molecule',\n",
       "  'schema_version': 2,\n",
       "  'validated': True,\n",
       "  'symbols': array(['O', 'C', 'C', 'O', 'C', 'O', 'H', 'H', 'H', 'H', 'H', 'H', 'H',\n",
       "         'H'], dtype='<U1'),\n",
       "  'geometry': array([[-0.68254025, -0.01523605,  0.04059765],\n",
       "         [ 1.79967305,  1.01754748, -0.06152045],\n",
       "         [ 2.16180939,  2.33021103, -2.59720876],\n",
       "         [ 4.66210124,  3.35103364, -2.65780469],\n",
       "         [ 1.86243859,  0.48621643, -4.79015177],\n",
       "         [ 2.21304569,  1.77853108, -7.12392053],\n",
       "         [-1.8578508 ,  1.38506063, -0.14649441],\n",
       "         [ 1.99811416,  2.35110036,  1.50832749],\n",
       "         [ 3.14839277, -0.53280067,  0.17382236],\n",
       "         [ 0.86018686,  3.93031391, -2.78163293],\n",
       "         [ 4.76914011,  4.53142043, -1.26311106],\n",
       "         [-0.01865972, -0.37318113, -4.81078091],\n",
       "         [ 3.28177168, -1.01578607, -4.70018228],\n",
       "         [ 2.00477277,  0.53080808, -8.45089781]]),\n",
       "  'name': 'C3H8O3',\n",
       "  'molecular_charge': 0.0,\n",
       "  'molecular_multiplicity': 1,\n",
       "  'connectivity': [(0, 1, 1.0),\n",
       "   (0, 6, 1.0),\n",
       "   (1, 2, 1.0),\n",
       "   (1, 7, 1.0),\n",
       "   (1, 8, 1.0),\n",
       "   (2, 3, 1.0),\n",
       "   (2, 4, 1.0),\n",
       "   (2, 9, 1.0),\n",
       "   (3, 10, 1.0),\n",
       "   (4, 5, 1.0),\n",
       "   (4, 11, 1.0),\n",
       "   (4, 12, 1.0),\n",
       "   (5, 13, 1.0)],\n",
       "  'fix_com': False,\n",
       "  'fix_orientation': False,\n",
       "  'provenance': {'creator': 'QCElemental',\n",
       "   'version': '0.26.0',\n",
       "   'routine': 'qcelemental.molparse.from_schema'},\n",
       "  'extras': {'canonical_isomeric_explicit_hydrogen_mapped_smiles': '[H:8][C:2]([H:9])([C:3]([H:10])([C:5]([H:12])([H:13])[O:6][H:14])[O:4][H:11])[O:1][H:7]'}},\n",
       " 'driver': <DriverEnum.energy: 'energy'>,\n",
       " 'model': {'method': 'gfn2-xtb', 'basis': None},\n",
       " 'keywords': {},\n",
       " 'protocols': {},\n",
       " 'extras': {'xtb': {'return_gradient': array([[-0.0018963910972346, -0.003301485320245 , -0.0033750366450039],\n",
       "          [ 0.021031713894384 ,  0.0074408853548419, -0.0006995186683829],\n",
       "          [-0.0235222385302008, -0.0072879955388666,  0.0010424005224073],\n",
       "          [ 0.005533931051479 ,  0.0007486049496766, -0.0025477430746682],\n",
       "          [-0.0029923831206225, -0.0024808951797809,  0.0157602225922016],\n",
       "          [ 0.004741660518685 ,  0.0038812249691342, -0.000265694856337 ],\n",
       "          [-0.0032805352300888,  0.0070205090346746, -0.0005762411160948],\n",
       "          [-0.0052882392891375, -0.0025593123615421, -0.0006298065116334],\n",
       "          [ 0.0036786811959477, -0.0011440644043024,  0.0011476227354869],\n",
       "          [ 0.0067562832235308,  0.0020370750171207,  0.0032953989214704],\n",
       "          [-0.0032520558640463,  0.0019865368378746,  0.0048710689743867],\n",
       "          [ 0.0020796751403405, -0.0001379971774347, -0.0073072858725121],\n",
       "          [-0.0015154638297303,  0.0002354459820151, -0.007559724869967 ],\n",
       "          [-0.0020746380633063, -0.0064385321631661, -0.0031556621313536]]),\n",
       "   'mulliken_charges': array([-0.4446957241984152,  0.0591568220880915,  0.104713360988166 ,\n",
       "          -0.4362625179145582,  0.0811886742620423, -0.4358011660266211,\n",
       "           0.291004155974776 ,  0.0274992851062993,  0.0655576763018972,\n",
       "           0.0321603947138976,  0.2876060846325054,  0.0352082035972767,\n",
       "           0.0420500470919093,  0.2906147033827375]),\n",
       "   'mayer_indices': array([[ 0.0000000000000000e+00,  9.9534430074771929e-01,\n",
       "            2.0093084155244859e-02,  1.3145201448055815e-02,\n",
       "            1.5042095828413937e-03,  1.2232925486761913e-04,\n",
       "            9.0130064721137226e-01,  1.4124591920920327e-02,\n",
       "            2.2712145231291491e-03,  7.9259923634353378e-04,\n",
       "            1.3176227958864380e-04,  8.4243798610670532e-04,\n",
       "            6.5190969390053829e-05,  4.7145139140816907e-05],\n",
       "          [ 9.9534430074771929e-01,  0.0000000000000000e+00,\n",
       "            9.8233163533124412e-01,  2.0590086664960424e-02,\n",
       "            2.6424394486822254e-03,  9.3240714926959324e-03,\n",
       "            1.7642153143129195e-05,  9.7091746339020046e-01,\n",
       "            9.7084800923426506e-01,  7.7435042238702188e-04,\n",
       "            1.0381202131076205e-03,  4.1724339880262827e-04,\n",
       "            4.5490192461219731e-04,  1.0487581442233790e-03],\n",
       "          [ 2.0093084155244859e-02,  9.8233163533124412e-01,\n",
       "            0.0000000000000000e+00,  9.8413806178332341e-01,\n",
       "            9.9456596730151225e-01,  5.3510818217615769e-03,\n",
       "            1.0417692636680190e-03,  6.3550490908096139e-04,\n",
       "            2.9442956669785544e-04,  9.6107896736362930e-01,\n",
       "            3.7914587676437519e-06,  1.1437856745096233e-03,\n",
       "            4.7225932296266870e-04,  9.8527377823719939e-03],\n",
       "          [ 1.3145201448055815e-02,  2.0590086664960424e-02,\n",
       "            9.8413806178332341e-01,  0.0000000000000000e+00,\n",
       "            5.1539063035053812e-03,  8.6401245044858473e-04,\n",
       "            7.3485855954264151e-05,  8.7443063619861868e-04,\n",
       "            5.6752879630028394e-04,  1.2887438809466851e-02,\n",
       "            9.0247987726931078e-01,  9.7363363471307755e-03,\n",
       "            1.3222768125019627e-03,  8.2023647615953334e-05],\n",
       "          [ 1.5042095828413937e-03,  2.6424394486822254e-03,\n",
       "            9.9456596730151225e-01,  5.1539063035053812e-03,\n",
       "            0.0000000000000000e+00,  9.9474241551898834e-01,\n",
       "            5.1729534231524292e-05,  9.3530036247792651e-03,\n",
       "            6.4385083343798688e-04,  4.4800509243262928e-04,\n",
       "            1.0708631231574927e-02,  9.7062209534538435e-01,\n",
       "            9.7113554993021234e-01,  2.9971039389532685e-04],\n",
       "          [ 1.2232925486761913e-04,  9.3240714926959324e-03,\n",
       "            5.3510818217615769e-03,  8.6401245044858473e-04,\n",
       "            9.9474241551898834e-01,  0.0000000000000000e+00,\n",
       "            6.5232846444670311e-05,  9.3758529756485644e-04,\n",
       "            1.4010070366687613e-05,  1.0035885373430305e-03,\n",
       "            5.9496236583102597e-05,  1.4340399176078067e-02,\n",
       "            1.3996825971329129e-02,  9.0357123538790884e-01],\n",
       "          [ 9.0130064721137226e-01,  1.7642153143129195e-05,\n",
       "            1.0417692636680190e-03,  7.3485855954264151e-05,\n",
       "            5.1729534231524292e-05,  6.5232846444670311e-05,\n",
       "            0.0000000000000000e+00,  1.5817114309028355e-04,\n",
       "            1.0759059924296772e-02,  1.6655572218264390e-03,\n",
       "           -1.8741775377830532e-07,  1.7092455281793355e-04,\n",
       "            1.1102953790502878e-05,  3.4085326501339724e-06],\n",
       "          [ 1.4124591920920327e-02,  9.7091746339020046e-01,\n",
       "            6.3550490908096139e-04,  8.7443063619861868e-04,\n",
       "            9.3530036247792651e-03,  9.3758529756485644e-04,\n",
       "            1.5817114309028355e-04,  0.0000000000000000e+00,\n",
       "            1.0671639669047230e-05,  2.7450511914743582e-04,\n",
       "            1.5941346446510473e-03,  5.9489118679299778e-05,\n",
       "            7.9506636467878232e-06,  0.0000000000000000e+00],\n",
       "          [ 2.2712145231291491e-03,  9.7084800923426506e-01,\n",
       "            2.9442956669785544e-04,  5.6752879630028394e-04,\n",
       "            6.4385083343798688e-04,  1.4010070366687613e-05,\n",
       "            1.0759059924296772e-02,  1.0671639669047230e-05,\n",
       "            0.0000000000000000e+00,  9.7059595923930566e-03,\n",
       "            1.9675916693675124e-05,  6.1938439294373573e-06,\n",
       "            5.6039711383444428e-04,  3.5871117035556037e-07],\n",
       "          [ 7.9259923634353378e-04,  7.7435042238702188e-04,\n",
       "            9.6107896736362930e-01,  1.2887438809466851e-02,\n",
       "            4.4800509243262928e-04,  1.0035885373430305e-03,\n",
       "            1.6655572218264390e-03,  2.7450511914743582e-04,\n",
       "            9.7059595923930566e-03,  0.0000000000000000e+00,\n",
       "            6.9272457854182814e-05,  2.0050532818372598e-04,\n",
       "            1.0005281722086862e-02,  5.9415876676653147e-05],\n",
       "          [ 1.3176227958864380e-04,  1.0381202131076205e-03,\n",
       "            3.7914587676437519e-06,  9.0247987726931078e-01,\n",
       "            1.0708631231574927e-02,  5.9496236583102597e-05,\n",
       "           -1.8741775377830532e-07,  1.5941346446510473e-03,\n",
       "            1.9675916693675124e-05,  6.9272457854182814e-05,\n",
       "            0.0000000000000000e+00,  1.0501114909871312e-03,\n",
       "            9.9604821821306933e-05,  3.1600238748878363e-05],\n",
       "          [ 8.4243798610670532e-04,  4.1724339880262827e-04,\n",
       "            1.1437856745096233e-03,  9.7363363471307755e-03,\n",
       "            9.7062209534538435e-01,  1.4340399176078067e-02,\n",
       "            1.7092455281793355e-04,  5.9489118679299778e-05,\n",
       "            6.1938439294373573e-06,  2.0050532818372598e-04,\n",
       "            1.0501114909871312e-03,  0.0000000000000000e+00,\n",
       "            8.6378801362268039e-06,  1.6183971218489330e-04],\n",
       "          [ 6.5190969390053829e-05,  4.5490192461219731e-04,\n",
       "            4.7225932296266870e-04,  1.3222768125019627e-03,\n",
       "            9.7113554993021234e-01,  1.3996825971329129e-02,\n",
       "            1.1102953790502878e-05,  7.9506636467878232e-06,\n",
       "            5.6039711383444428e-04,  1.0005281722086862e-02,\n",
       "            9.9604821821306933e-05,  8.6378801362268039e-06,\n",
       "            0.0000000000000000e+00,  9.1366082897831333e-05],\n",
       "          [ 4.7145139140816907e-05,  1.0487581442233790e-03,\n",
       "            9.8527377823719939e-03,  8.2023647615953334e-05,\n",
       "            2.9971039389532685e-04,  9.0357123538790884e-01,\n",
       "            3.4085326501339724e-06,  0.0000000000000000e+00,\n",
       "            3.5871117035556037e-07,  5.9415876676653147e-05,\n",
       "            3.1600238748878363e-05,  1.6183971218489330e-04,\n",
       "            9.1366082897831333e-05,  0.0000000000000000e+00]])}},\n",
       " 'provenance': {'creator': 'xtb',\n",
       "  'version': '1.0.0',\n",
       "  'routine': 'xtb.qcschema.run_qcschema',\n",
       "  'username': 'nca121',\n",
       "  'hostname': 'login02.cluster',\n",
       "  'wall_time': 0.35698795318603516,\n",
       "  'qcengine_version': 'v0.27.0',\n",
       "  'cpu': 'Intel(R) Xeon(R) CPU E5-2658 v4 @ 2.30GHz'},\n",
       " 'properties': {'return_energy': -22.665455172050088,\n",
       "  'scf_dipole_moment': array([-0.5439373390502689,  0.1629120510573797,  0.4470619611227549])},\n",
       " 'wavefunction': None,\n",
       " 'return_result': -22.665455172050088,\n",
       " 'stdout': '\\n          ...................................................\\n          :                      SETUP                      :\\n          :.................................................:\\n          :  # basis functions                  32          :\\n          :  # atomic orbitals                  32          :\\n          :  # shells                           20          :\\n          :  # electrons                        38          :\\n          :  max. iterations                   250          :\\n          :  Hamiltonian                  GFN2-xTB          :\\n          :  restarted?                       true          :\\n          :  GBSA solvation                  false          :\\n          :  PC potential                    false          :\\n          :  electronic temp.          300.0000000     K    :\\n          :  accuracy                    1.0000000          :\\n          :  -> integral cutoff          0.2500000E+02      :\\n          :  -> integral neglect         0.1000000E-07      :\\n          :  -> SCF convergence          0.1000000E-05 Eh   :\\n          :  -> wf. convergence          0.1000000E-03 e    :\\n          :  Broyden damping             0.4000000          :\\n          ...................................................\\n\\n iter      E             dE          RMSdq      gap      omega  full diag\\n   1    -22.8133457 -0.228133E+02  0.458E+00   10.86       0.0  T\\n   2    -22.8377585 -0.244128E-01  0.245E+00   10.56       1.0  T\\n   3    -22.8386850 -0.926499E-03  0.725E-01   10.62       1.0  T\\n   4    -22.8389231 -0.238016E-03  0.145E-01   10.61       1.0  T\\n   5    -22.8389463 -0.232533E-04  0.444E-02   10.64       1.0  T\\n   6    -22.8389521 -0.580685E-05  0.213E-02   10.64       1.3  T\\n   7    -22.8389526 -0.519104E-06  0.506E-03   10.63       5.3  T\\n   8    -22.8389527 -0.986121E-07  0.181E-03   10.64      14.8  T\\n   9    -22.8389527 -0.193544E-08  0.341E-04   10.64      78.3  T\\n  10    -22.8389527 -0.191410E-09  0.196E-04   10.64     136.3  T\\n\\n   *** convergence criteria satisfied after 10 iterations ***\\n\\n         #    Occupation            Energy/Eh            Energy/eV\\n      -------------------------------------------------------------\\n         1        2.0000           -0.7007070             -19.0672\\n       ...           ...                  ...                  ...\\n        13        2.0000           -0.5067506             -13.7894\\n        14        2.0000           -0.4861520             -13.2289\\n        15        2.0000           -0.4740184             -12.8987\\n        16        2.0000           -0.4628532             -12.5949\\n        17        2.0000           -0.4338128             -11.8046\\n        18        2.0000           -0.4148101             -11.2876\\n        19        2.0000           -0.4093220             -11.1382 (HOMO)\\n        20                         -0.0184513              -0.5021 (LUMO)\\n        21                          0.0317184               0.8631\\n        22                          0.0573325               1.5601\\n        23                          0.0961180               2.6155\\n        24                          0.1156767               3.1477\\n       ...                                ...                  ...\\n        32                          0.2681256               7.2961\\n      -------------------------------------------------------------\\n                  HL-Gap            0.3908707 Eh           10.6361 eV\\n             Fermi-level           -0.2138867 Eh           -5.8202 eV\\n\\n SCC (total)                   0 d,  0 h,  0 min,  0.034 sec\\n SCC setup                      ...        0 min,  0.000 sec (  0.983%)\\n Dispersion                     ...        0 min,  0.000 sec (  0.635%)\\n classical contributions        ...        0 min,  0.000 sec (  0.349%)\\n integral evaluation            ...        0 min,  0.001 sec (  2.130%)\\n iterations                     ...        0 min,  0.030 sec ( 90.467%)\\n molecular gradient             ...        0 min,  0.002 sec (  4.579%)\\n printout                       ...        0 min,  0.000 sec (  0.497%)\\n\\n         :::::::::::::::::::::::::::::::::::::::::::::::::::::\\n',\n",
       " 'stderr': None,\n",
       " 'native_files': {},\n",
       " 'success': True,\n",
       " 'error': None}"
      ]
     },
     "execution_count": 30,
     "metadata": {},
     "output_type": "execute_result"
    }
   ],
   "source": [
    "result = qcengine.compute(input_data=qc_task, program=\"xtb\")\n",
    "result.dict()\n"
   ]
  },
  {
   "cell_type": "code",
   "execution_count": 31,
   "metadata": {},
   "outputs": [
    {
     "data": {
      "text/plain": [
       "OptimizationInput(model={'method': 'gfn2-xtb', 'basis': None}, molecule_hash='f8a7a08')"
      ]
     },
     "execution_count": 31,
     "metadata": {},
     "output_type": "execute_result"
    }
   ],
   "source": [
    "# now perform an optimization using geometric\n",
    "# make sure to change the model and program here\n",
    "geometric_input = OptimizationInput(initial_molecule=qcel_mol, input_specification=QCInputSpecification(model=xtb_model), keywords={\"coordsys\": \"tric\", \"maxiter\": 300, \"program\": \"xtb\"})\n",
    "geometric_input"
   ]
  },
  {
   "cell_type": "code",
   "execution_count": 32,
   "metadata": {},
   "outputs": [],
   "source": [
    "opt_result = qcengine.compute_procedure(input_data=geometric_input, procedure=\"geometric\")\n"
   ]
  },
  {
   "cell_type": "code",
   "execution_count": 33,
   "metadata": {},
   "outputs": [
    {
     "data": {
      "application/vnd.jupyter.widget-view+json": {
       "model_id": "f85387078f6946eb9d75867ef3d85ad4",
       "version_major": 2,
       "version_minor": 0
      },
      "text/plain": []
     },
     "metadata": {},
     "output_type": "display_data"
    },
    {
     "data": {
      "application/vnd.jupyter.widget-view+json": {
       "model_id": "cfc6e0054a38452dbb28806d8ed6e722",
       "version_major": 2,
       "version_minor": 0
      },
      "text/plain": [
       "NGLWidget()"
      ]
     },
     "metadata": {},
     "output_type": "display_data"
    }
   ],
   "source": [
    "opt_result.initial_molecule"
   ]
  },
  {
   "cell_type": "code",
   "execution_count": 34,
   "metadata": {},
   "outputs": [
    {
     "data": {
      "application/vnd.jupyter.widget-view+json": {
       "model_id": "954ff8d0233246acb28ec69c165e3a30",
       "version_major": 2,
       "version_minor": 0
      },
      "text/plain": [
       "NGLWidget()"
      ]
     },
     "metadata": {},
     "output_type": "display_data"
    }
   ],
   "source": [
    "opt_result.final_molecule"
   ]
  },
  {
   "cell_type": "code",
   "execution_count": 35,
   "metadata": {},
   "outputs": [
    {
     "data": {
      "text/plain": [
       "[AtomicResult(driver='gradient', model={'method': 'gfn2-xtb', 'basis': None}, molecule_hash='f8a7a08'),\n",
       " AtomicResult(driver='gradient', model={'method': 'gfn2-xtb', 'basis': None}, molecule_hash='604ca64'),\n",
       " AtomicResult(driver='gradient', model={'method': 'gfn2-xtb', 'basis': None}, molecule_hash='e464bfd'),\n",
       " AtomicResult(driver='gradient', model={'method': 'gfn2-xtb', 'basis': None}, molecule_hash='ea08e05'),\n",
       " AtomicResult(driver='gradient', model={'method': 'gfn2-xtb', 'basis': None}, molecule_hash='84fa647'),\n",
       " AtomicResult(driver='gradient', model={'method': 'gfn2-xtb', 'basis': None}, molecule_hash='07f8e2c'),\n",
       " AtomicResult(driver='gradient', model={'method': 'gfn2-xtb', 'basis': None}, molecule_hash='bb578ff'),\n",
       " AtomicResult(driver='gradient', model={'method': 'gfn2-xtb', 'basis': None}, molecule_hash='cff644b'),\n",
       " AtomicResult(driver='gradient', model={'method': 'gfn2-xtb', 'basis': None}, molecule_hash='b6cf68e'),\n",
       " AtomicResult(driver='gradient', model={'method': 'gfn2-xtb', 'basis': None}, molecule_hash='6f8342a'),\n",
       " AtomicResult(driver='gradient', model={'method': 'gfn2-xtb', 'basis': None}, molecule_hash='bcabc3e'),\n",
       " AtomicResult(driver='gradient', model={'method': 'gfn2-xtb', 'basis': None}, molecule_hash='5ff46ef'),\n",
       " AtomicResult(driver='gradient', model={'method': 'gfn2-xtb', 'basis': None}, molecule_hash='9f1c7dd'),\n",
       " AtomicResult(driver='gradient', model={'method': 'gfn2-xtb', 'basis': None}, molecule_hash='67221b9'),\n",
       " AtomicResult(driver='gradient', model={'method': 'gfn2-xtb', 'basis': None}, molecule_hash='8f90459'),\n",
       " AtomicResult(driver='gradient', model={'method': 'gfn2-xtb', 'basis': None}, molecule_hash='a67eada'),\n",
       " AtomicResult(driver='gradient', model={'method': 'gfn2-xtb', 'basis': None}, molecule_hash='3f945af'),\n",
       " AtomicResult(driver='gradient', model={'method': 'gfn2-xtb', 'basis': None}, molecule_hash='63e46a7'),\n",
       " AtomicResult(driver='gradient', model={'method': 'gfn2-xtb', 'basis': None}, molecule_hash='d7a497c'),\n",
       " AtomicResult(driver='gradient', model={'method': 'gfn2-xtb', 'basis': None}, molecule_hash='274f9fa')]"
      ]
     },
     "execution_count": 35,
     "metadata": {},
     "output_type": "execute_result"
    }
   ],
   "source": [
    "opt_result.trajectory"
   ]
  },
  {
   "cell_type": "code",
   "execution_count": 36,
   "metadata": {},
   "outputs": [
    {
     "data": {
      "application/vnd.jupyter.widget-view+json": {
       "model_id": "bf0786c4f2a24eed9cea6cfd919032e9",
       "version_major": 2,
       "version_minor": 0
      },
      "text/plain": [
       "NGLWidget()"
      ]
     },
     "metadata": {},
     "output_type": "display_data"
    }
   ],
   "source": [
    "qcel_mol"
   ]
  },
  {
   "cell_type": "code",
   "execution_count": 39,
   "metadata": {},
   "outputs": [
    {
     "data": {
      "text/plain": [
       "{'schema_name': 'qcschema_molecule',\n",
       " 'schema_version': 2,\n",
       " 'validated': True,\n",
       " 'symbols': array(['O', 'C', 'C', 'O', 'C', 'O', 'H', 'H', 'H', 'H', 'H', 'H', 'H',\n",
       "        'H'], dtype='<U1'),\n",
       " 'geometry': array([[-0.9189487935123769,  0.1565045522753112, -0.1284278242342739],\n",
       "        [ 1.568705985128284 ,  1.0672785945918142, -0.0635727388756277],\n",
       "        [ 2.3931424378368202,  2.2942444834530566, -2.571126565539323 ],\n",
       "        [ 4.934320564733535 ,  3.0803552511810572, -2.438556976359111 ],\n",
       "        [ 2.1356084997255707,  0.4456702699927401, -4.7834450061300675],\n",
       "        [ 1.1733144276833802,  1.7717109885122937, -6.887045988130065 ],\n",
       "        [-2.026968724972794 ,  1.5000210009196244, -0.6662112279139575],\n",
       "        [ 1.8105065626598256,  2.4469685980066127,  1.4778104267920942],\n",
       "        [ 2.7707952038907586, -0.5651055211990532,  0.3281384712479404],\n",
       "        [ 1.1503908778435343,  3.9154096454595733, -2.983026004467564 ],\n",
       "        [ 5.103065732234562 ,  4.376249664275655 , -1.171089536061579 ],\n",
       "        [ 0.8445248943170169, -1.0890030921324543, -4.2463434134772395],\n",
       "        [ 4.010955857361797 , -0.3390605462694112, -5.1784958989097865],\n",
       "        [ 1.252982015069798 ,  0.6939952609330315, -8.34956581794156  ]]),\n",
       " 'name': 'C3H8O3',\n",
       " 'molecular_charge': 0.0,\n",
       " 'molecular_multiplicity': 1,\n",
       " 'connectivity': [(0, 1, 1.0),\n",
       "  (0, 6, 1.0),\n",
       "  (1, 2, 1.0),\n",
       "  (1, 7, 1.0),\n",
       "  (1, 8, 1.0),\n",
       "  (2, 3, 1.0),\n",
       "  (2, 4, 1.0),\n",
       "  (2, 9, 1.0),\n",
       "  (3, 10, 1.0),\n",
       "  (4, 5, 1.0),\n",
       "  (4, 11, 1.0),\n",
       "  (4, 12, 1.0),\n",
       "  (5, 13, 1.0)],\n",
       " 'fix_com': True,\n",
       " 'fix_orientation': True,\n",
       " 'provenance': {'creator': 'QCElemental',\n",
       "  'version': '0.26.0',\n",
       "  'routine': 'qcelemental.molparse.from_schema'},\n",
       " 'extras': {'canonical_isomeric_explicit_hydrogen_mapped_smiles': '[H:8][C:2]([H:9])([C:3]([H:10])([C:5]([H:12])([H:13])[O:6][H:14])[O:4][H:11])[O:1][H:7]'}}"
      ]
     },
     "execution_count": 39,
     "metadata": {},
     "output_type": "execute_result"
    }
   ],
   "source": [
    "ff_optimised_mol = opt_result.final_molecule\n",
    "ff_optimised_mol.dict()"
   ]
  },
  {
   "cell_type": "code",
   "execution_count": 40,
   "metadata": {},
   "outputs": [],
   "source": [
    "psi4_model = Model(method=\"HF\", basis=\"6-31G*\")\n"
   ]
  },
  {
   "cell_type": "code",
   "execution_count": 41,
   "metadata": {},
   "outputs": [],
   "source": [
    "qc_task = AtomicInput(molecule=ff_optimised_mol, driver=\"energy\", model=xtb_model)\n"
   ]
  },
  {
   "cell_type": "code",
   "execution_count": null,
   "metadata": {},
   "outputs": [],
   "source": []
  },
  {
   "cell_type": "code",
   "execution_count": 43,
   "metadata": {},
   "outputs": [],
   "source": [
    "qcel_mol = molecule.to_qcschema(conformer = 9)\n",
    "\n",
    "opt_input = {\n",
    "    \"keywords\": {\n",
    "        \"program\": \"xtb\"\n",
    "    },\n",
    "    \"input_specification\": {\n",
    "        \"driver\": \"gradient\",\n",
    "        \"model\": {\"method\": \"gfn2-xtb\"},\n",
    "    },\n",
    "    \"initial_molecule\": qcel_mol\n",
    "}\n",
    "\n",
    "opt = qcengine.compute_procedure(opt_input, \"geometric\")"
   ]
  },
  {
   "cell_type": "code",
   "execution_count": 45,
   "metadata": {},
   "outputs": [],
   "source": [
    "ff_optimised_mol_2 = opt.final_molecule"
   ]
  },
  {
   "cell_type": "code",
   "execution_count": 46,
   "metadata": {},
   "outputs": [
    {
     "data": {
      "text/plain": [
       "{'schema_name': 'qcschema_molecule',\n",
       " 'schema_version': 2,\n",
       " 'validated': True,\n",
       " 'symbols': array(['O', 'C', 'C', 'O', 'C', 'O', 'H', 'H', 'H', 'H', 'H', 'H', 'H',\n",
       "        'H'], dtype='<U1'),\n",
       " 'geometry': array([[-0.9189487935123809,  0.1565045522755265, -0.1284278242339979],\n",
       "        [ 1.5687059851283514,  1.0672785945918508, -0.0635727388755923],\n",
       "        [ 2.393142437836719 ,  2.2942444834530655, -2.571126565539358 ],\n",
       "        [ 4.934320564733405 ,  3.080355251181167 , -2.4385569763592847],\n",
       "        [ 2.1356084997254436,  0.4456702699926566, -4.783445006130014 ],\n",
       "        [ 1.1733144276839735,  1.7717109885122866, -6.887045988130283 ],\n",
       "        [-2.0269687249727597,  1.5000210009199237, -0.6662112279135486],\n",
       "        [ 1.81050656266015  ,  2.4469685980066096,  1.4778104267921233],\n",
       "        [ 2.7707952038907497, -0.5651055211991046,  0.3281384712478351],\n",
       "        [ 1.1503908778433485,  3.91540964545952  , -2.9830260044675905],\n",
       "        [ 5.103065732234388 ,  4.37624966427596  , -1.1710895360619464],\n",
       "        [ 0.8445248943164125, -1.0890030921321796, -4.246343413477299 ],\n",
       "        [ 4.010955857361552 , -0.3390605462699862, -5.178495898909314 ],\n",
       "        [ 1.2529820150705238,  0.6939952609329474, -8.349565817941713 ]]),\n",
       " 'name': 'C3H8O3',\n",
       " 'molecular_charge': 0.0,\n",
       " 'molecular_multiplicity': 1,\n",
       " 'connectivity': [(0, 1, 1.0),\n",
       "  (0, 6, 1.0),\n",
       "  (1, 2, 1.0),\n",
       "  (1, 7, 1.0),\n",
       "  (1, 8, 1.0),\n",
       "  (2, 3, 1.0),\n",
       "  (2, 4, 1.0),\n",
       "  (2, 9, 1.0),\n",
       "  (3, 10, 1.0),\n",
       "  (4, 5, 1.0),\n",
       "  (4, 11, 1.0),\n",
       "  (4, 12, 1.0),\n",
       "  (5, 13, 1.0)],\n",
       " 'fix_com': True,\n",
       " 'fix_orientation': True,\n",
       " 'provenance': {'creator': 'QCElemental',\n",
       "  'version': '0.26.0',\n",
       "  'routine': 'qcelemental.molparse.from_schema'},\n",
       " 'extras': {'canonical_isomeric_explicit_hydrogen_mapped_smiles': '[H:8][C:2]([H:9])([C:3]([H:10])([C:5]([H:12])([H:13])[O:6][H:14])[O:4][H:11])[O:1][H:7]'}}"
      ]
     },
     "execution_count": 46,
     "metadata": {},
     "output_type": "execute_result"
    }
   ],
   "source": [
    "ff_optimised_mol_2.dict()"
   ]
  },
  {
   "cell_type": "code",
   "execution_count": 50,
   "metadata": {},
   "outputs": [
    {
     "data": {
      "text/plain": [
       "array([[ 3.9968028886505635e-15, -2.1527224447481785e-13,\n",
       "        -2.7600144392181392e-13],\n",
       "       [-6.7279515292284486e-14, -3.6637359812630166e-14,\n",
       "        -3.5374481122119050e-14],\n",
       "       [ 1.0125233984581428e-13, -8.8817841970012523e-15,\n",
       "         3.5083047578154947e-14],\n",
       "       [ 1.2967404927621828e-13, -1.0969003483296547e-13,\n",
       "         1.7363888105137448e-13],\n",
       "       [ 1.2700951401711791e-13,  8.3488771451811772e-14,\n",
       "        -5.3290705182007514e-14],\n",
       "       [-5.9330318435968366e-13,  7.1054273576010019e-15,\n",
       "         2.1760371282653068e-13],\n",
       "       [-3.4194869158454821e-14, -2.9931612743894220e-13,\n",
       "        -4.0889513996944515e-13],\n",
       "       [-3.2440716779547074e-13,  3.1086244689504383e-15,\n",
       "        -2.9087843245179101e-14],\n",
       "       [ 8.8817841970012523e-15,  5.1403326040144748e-14,\n",
       "         1.0530465388569610e-13],\n",
       "       [ 1.8585133432225120e-13,  5.3290705182007514e-14,\n",
       "         2.6645352591003757e-14],\n",
       "       [ 1.7408297026122455e-13, -3.0464519795714295e-13,\n",
       "         3.6748382115092681e-13],\n",
       "       [ 6.0440541460593522e-13, -2.7466917629226373e-13,\n",
       "         5.9507954119908391e-14],\n",
       "       [ 2.4513724383723456e-13,  5.7492899330213731e-13,\n",
       "        -4.7251091928046662e-13],\n",
       "       [-7.2586381349992735e-13,  8.4154905266586866e-14,\n",
       "         1.5276668818842154e-13]])"
      ]
     },
     "execution_count": 50,
     "metadata": {},
     "output_type": "execute_result"
    }
   ],
   "source": [
    "ff_optimised_mol.dict()['geometry'] -  ff_optimised_mol_2.dict()['geometry']"
   ]
  },
  {
   "cell_type": "code",
   "execution_count": 53,
   "metadata": {},
   "outputs": [],
   "source": [
    "opt_input = {\n",
    "    \"keywords\": {\n",
    "        \"program\": \"psi4\"\n",
    "    },\n",
    "    \"input_specification\": {\n",
    "        \"driver\": \"gradient\",\n",
    "        \"model\": {\"method\": \"hf\", \"basis\": \"6-31g\"},\n",
    "    },\n",
    "    \"initial_molecule\": qcel_mol\n",
    "}\n",
    "\n",
    "opt = qcengine.compute_procedure(opt_input, \"geometric\")"
   ]
  },
  {
   "cell_type": "code",
   "execution_count": 54,
   "metadata": {},
   "outputs": [
    {
     "data": {
      "text/plain": [
       "OptimizationResult(model={'method': 'hf', 'basis': '6-31g'}, molecule_hash='f8a7a08')"
      ]
     },
     "execution_count": 54,
     "metadata": {},
     "output_type": "execute_result"
    }
   ],
   "source": [
    "opt"
   ]
  },
  {
   "cell_type": "code",
   "execution_count": 66,
   "metadata": {},
   "outputs": [
    {
     "data": {
      "text/plain": [
       "OptimizationResult(model={'method': 'gfn2-xtb', 'basis': None}, molecule_hash='f8a7a08')"
      ]
     },
     "execution_count": 66,
     "metadata": {},
     "output_type": "execute_result"
    }
   ],
   "source": [
    "qcel_mol = molecule.to_qcschema(conformer = 9)\n",
    "\n",
    "opt_input = {\n",
    "    \"keywords\": {\n",
    "        \"program\": \"xtb\",\n",
    "        \"verbosity\" : \"muted\",\n",
    "\n",
    "    },\n",
    "    \"input_specification\": {\n",
    "        \"driver\": \"gradient\",\n",
    "        \"model\": {\"method\": \"gfn2-xtb\"},\n",
    "    },\n",
    "    \"initial_molecule\": qcel_mol\n",
    "}\n",
    "\n",
    "opt = qcengine.compute_procedure(opt_input, \"geometric\")\n"
   ]
  },
  {
   "cell_type": "code",
   "execution_count": 68,
   "metadata": {},
   "outputs": [
    {
     "data": {
      "application/vnd.jupyter.widget-view+json": {
       "model_id": "becbd00d15c14159a169bebbab55400d",
       "version_major": 2,
       "version_minor": 0
      },
      "text/plain": [
       "NGLWidget()"
      ]
     },
     "metadata": {},
     "output_type": "display_data"
    }
   ],
   "source": [
    "Molecule.from_qcschema(opt.final_molecule)"
   ]
  },
  {
   "cell_type": "code",
   "execution_count": 70,
   "metadata": {},
   "outputs": [
    {
     "data": {
      "text/plain": [
       "[array([[-0.4862867595144359,  0.0828186424668756, -0.0679610778306531],\n",
       "        [ 0.8301234579386073,  0.564779509943595 , -0.0336412446477216],\n",
       "        [ 1.2663964405504002,  1.2140618968855181, -1.3605815848332306],\n",
       "        [ 2.61112999415179  ,  1.630053800413438 , -1.2904287793802247],\n",
       "        [ 1.1301153494675436,  0.2358385504575636, -2.5312900868564645],\n",
       "        [ 0.6208912563550152,  0.9375490794288812, -3.6444677873661515],\n",
       "        [-1.072625656470663 ,  0.7937769295641217, -0.3525437994602623],\n",
       "        [ 0.9580788131518267,  1.294880017862708 ,  0.7820235998946765],\n",
       "        [ 1.4662416779810485, -0.2990409635746084,  0.1736434010052163],\n",
       "        [ 0.6087606361865544,  2.071945555730803 , -1.5785493810981646],\n",
       "        [ 2.700426091243515 ,  2.3158115915609283, -0.6197138944120185],\n",
       "        [ 0.4469033281134626, -0.5762756189603794, -2.2470681640843884],\n",
       "        [ 2.1225064336575907, -0.1794231142025792, -2.7403420164626615],\n",
       "        [ 0.6630495280475959,  0.3672464765611082, -4.418399951797536 ]]) <Unit('angstrom')>]"
      ]
     },
     "execution_count": 70,
     "metadata": {},
     "output_type": "execute_result"
    }
   ],
   "source": [
    "Molecule.from_qcschema(opt.final_molecule).conformers"
   ]
  },
  {
   "cell_type": "code",
   "execution_count": null,
   "metadata": {},
   "outputs": [],
   "source": []
  },
  {
   "cell_type": "code",
   "execution_count": null,
   "metadata": {},
   "outputs": [],
   "source": []
  },
  {
   "cell_type": "code",
   "execution_count": null,
   "metadata": {},
   "outputs": [],
   "source": []
  },
  {
   "cell_type": "code",
   "execution_count": null,
   "metadata": {},
   "outputs": [],
   "source": []
  },
  {
   "cell_type": "code",
   "execution_count": 57,
   "metadata": {},
   "outputs": [
    {
     "ename": "AttributeError",
     "evalue": "'FailedOperation' object has no attribute 'final_molecule'",
     "output_type": "error",
     "traceback": [
      "\u001b[0;31m---------------------------------------------------------------------------\u001b[0m",
      "\u001b[0;31mAttributeError\u001b[0m                            Traceback (most recent call last)",
      "Cell \u001b[0;32mIn[57], line 1\u001b[0m\n\u001b[0;32m----> 1\u001b[0m opt\u001b[39m.\u001b[39;49mfinal_molecule\n",
      "\u001b[0;31mAttributeError\u001b[0m: 'FailedOperation' object has no attribute 'final_molecule'"
     ]
    }
   ],
   "source": [
    "opt.final_molecule"
   ]
  },
  {
   "cell_type": "code",
   "execution_count": null,
   "metadata": {},
   "outputs": [],
   "source": []
  },
  {
   "cell_type": "code",
   "execution_count": null,
   "metadata": {},
   "outputs": [],
   "source": []
  },
  {
   "cell_type": "code",
   "execution_count": null,
   "metadata": {},
   "outputs": [],
   "source": []
  },
  {
   "cell_type": "code",
   "execution_count": null,
   "metadata": {},
   "outputs": [],
   "source": []
  },
  {
   "cell_type": "code",
   "execution_count": null,
   "metadata": {},
   "outputs": [],
   "source": []
  },
  {
   "cell_type": "code",
   "execution_count": null,
   "metadata": {},
   "outputs": [],
   "source": []
  },
  {
   "cell_type": "code",
   "execution_count": null,
   "metadata": {},
   "outputs": [],
   "source": []
  },
  {
   "cell_type": "code",
   "execution_count": null,
   "metadata": {},
   "outputs": [],
   "source": []
  },
  {
   "cell_type": "code",
   "execution_count": null,
   "metadata": {},
   "outputs": [],
   "source": []
  },
  {
   "cell_type": "code",
   "execution_count": null,
   "metadata": {},
   "outputs": [],
   "source": []
  },
  {
   "cell_type": "code",
   "execution_count": null,
   "metadata": {},
   "outputs": [],
   "source": []
  },
  {
   "cell_type": "code",
   "execution_count": null,
   "metadata": {},
   "outputs": [],
   "source": []
  },
  {
   "cell_type": "code",
   "execution_count": null,
   "metadata": {},
   "outputs": [],
   "source": []
  },
  {
   "cell_type": "code",
   "execution_count": null,
   "metadata": {},
   "outputs": [],
   "source": []
  },
  {
   "cell_type": "code",
   "execution_count": null,
   "metadata": {},
   "outputs": [],
   "source": []
  },
  {
   "cell_type": "code",
   "execution_count": null,
   "metadata": {},
   "outputs": [],
   "source": []
  },
  {
   "cell_type": "code",
   "execution_count": null,
   "metadata": {},
   "outputs": [],
   "source": []
  },
  {
   "cell_type": "code",
   "execution_count": null,
   "metadata": {},
   "outputs": [],
   "source": []
  },
  {
   "cell_type": "code",
   "execution_count": null,
   "metadata": {},
   "outputs": [],
   "source": []
  },
  {
   "cell_type": "code",
   "execution_count": null,
   "metadata": {},
   "outputs": [],
   "source": []
  }
 ],
 "metadata": {
  "kernelspec": {
   "display_name": "openff",
   "language": "python",
   "name": "python3"
  },
  "language_info": {
   "codemirror_mode": {
    "name": "ipython",
    "version": 3
   },
   "file_extension": ".py",
   "mimetype": "text/x-python",
   "name": "python",
   "nbconvert_exporter": "python",
   "pygments_lexer": "ipython3",
   "version": "3.11.5"
  },
  "orig_nbformat": 4
 },
 "nbformat": 4,
 "nbformat_minor": 2
}
